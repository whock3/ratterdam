{
 "cells": [
  {
   "cell_type": "code",
   "execution_count": 1,
   "metadata": {
    "collapsed": true
   },
   "outputs": [],
   "source": [
    "import ratterdam_CoreDataStructures as Core\n",
    "import ratterdam_ParseBehavior as Parse\n",
    "import numpy as np\n",
    "from scipy.stats import sem\n",
    "import utility_fx as util\n",
    "import os\n",
    "import matplotlib.gridspec as gridspec\n",
    "from matplotlib import pyplot as plt\n",
    "import ratterdam_Defaults as Def\n",
    "import ratterdam_visBasic as Vis\n",
    "import RateMapClass_William_20190308 as RateMapClass\n",
    "import williamDefaults as wmDef"
   ]
  },
  {
   "cell_type": "code",
   "execution_count": 2,
   "metadata": {
    "collapsed": true
   },
   "outputs": [],
   "source": [
    "%qtconsole"
   ]
  },
  {
   "cell_type": "code",
   "execution_count": 43,
   "metadata": {
    "collapsed": true
   },
   "outputs": [],
   "source": [
    "class Unit_Basic():\n",
    "    \"\"\"\n",
    "    This class is a wrapper to hold position and spikes\n",
    "    \"\"\"\n",
    "    \n",
    "    def __init__(self, clustName, datafile, building):\n",
    "        self.clustName = clustName\n",
    "        self.datafile = datafile\n",
    "        self.building = building\n",
    "        self.load_data()\n",
    "        \n",
    "    def load_data(self):\n",
    "        pos = util.read_pos(self.datafile)\n",
    "        hdr, rec = util.readNEV(self.datafile)\n",
    "        ts = np.asarray(sorted(list(pos.keys())))\n",
    "        #start, stop = 1614284278,4576957801\n",
    "        #ts = ts[(ts>start)&(ts<stop)]\n",
    "\n",
    "        # ratterdam is orientated differently in\n",
    "        # krieger vs macaulay so the adjustment to flip \n",
    "        # the image to cartesian coords (i.e. 0,0 is lower left)\n",
    "        # is different\n",
    "        if self.building == 'macaulay':\n",
    "            posx = [pos[i][0] for i in ts]\n",
    "            posy = [480-pos[i][1] for i in ts]\n",
    "        elif self.building == 'krieger':\n",
    "            posx = [640 - pos[i][0] for i in ts]\n",
    "            posy = [pos[i][1] for i in ts]\n",
    "\n",
    "        position = np.column_stack((ts,posx,posy))\n",
    "        position = position[position[:,2]>75]\n",
    "        clust = util.read_clust(self.datafile+self.clustName)\n",
    "        clust = np.asarray(clust)\n",
    "        \n",
    "        spikexy = util.getPosFromTs(clust,position)\n",
    "        spikes = np.column_stack((clust,spikexy))\n",
    "        \n",
    "        self.position = position\n",
    "        self.spikes = spikes\n",
    "        \n",
    "        if self.building == 'krieger':\n",
    "            self.alleyBounds = Def.alleyBounds_fromPlot2\n",
    "        elif self.building == 'macaulay':\n",
    "            self.alleyBounds = Def.alleyBounds\n",
    "        "
   ]
  },
  {
   "cell_type": "code",
   "execution_count": 46,
   "metadata": {},
   "outputs": [
    {
     "name": "stderr",
     "output_type": "stream",
     "text": [
      "C:\\Users\\whockei1\\Google Drive\\KnierimLab\\Ratterdam\\Code\\RateMapClass_William_20190308.py:207: RuntimeWarning: invalid value encountered in greater_equal\n",
      "  aboveThreshold = np.where(rateMap >= fieldThreshold, True, False)\n"
     ]
    }
   ],
   "source": [
    "datafile = 'E:\\\\Ratterdam\\\\R781\\\\Ratterdam_D4_190411\\\\'\n",
    "rat = \"R781\"\n",
    "building = \"macaulay\"\n",
    "clustName = \"TT3\\\\cl-maze1.2\"\n",
    "unit = Unit_Basic(clustName, datafile, building)\n",
    "rm = RateMapClass.RateMap(unit)"
   ]
  },
  {
   "cell_type": "code",
   "execution_count": 18,
   "metadata": {
    "collapsed": true
   },
   "outputs": [],
   "source": [
    "def getVisits(data, maxgap=2*1e6):\n",
    "    \"\"\"\n",
    "    \"\"\"\n",
    "    data.sort()\n",
    "    groups = [[data[0]]]\n",
    "    for x in data[1:]:\n",
    "        if abs(x - groups[-1][-1]) <= maxgap:\n",
    "            groups[-1].append(x)\n",
    "        else:\n",
    "            groups.append([x])\n",
    "    return groups"
   ]
  },
  {
   "cell_type": "code",
   "execution_count": 19,
   "metadata": {
    "collapsed": true
   },
   "outputs": [],
   "source": [
    "cnames = ['black', 'blue', 'green', 'red', 'firebrick', 'cornflowerblue', 'orchid', 'darkcyan', 'midnightblue', 'saddlebrown', 'darkviolet', 'seagreen', 'indianred', 'goldenrod', 'orange', 'olive']\n",
    "binWidth = wmDef.binWidth\n",
    "from matplotlib import path\n",
    "cmap = util.makeCustomColormap()"
   ]
  },
  {
   "cell_type": "code",
   "execution_count": 52,
   "metadata": {},
   "outputs": [],
   "source": [
    "fig, ax = plt.subplots(2,1,figsize=(10,10))\n",
    "colors = np.random.choice(cnames, len(rm.PF), replace=False)\n",
    "\n",
    "fig.axes[0].imshow(rm.rateMap2D, origin='lower', aspect='auto', interpolation='None', cmap=cmap, vmax=np.nanpercentile(rm.rateMap2D, 98),\n",
    "            extent=[wmDef.xedges[0], wmDef.xedges[-1], wmDef.yedges[0], wmDef.yedges[-1]])\n",
    "fig.axes[0].set_title(f\"Rat {rat} Unit {clustName}, color map cutoff = {round(np.nanpercentile(rm.rateMap2D, 98),2)}Hz\", fontsize=24)\n",
    "\n",
    "\n",
    "for i,pf in enumerate(rm.PF[:6]):\n",
    "    contour = path.Path(list(zip(pf.perimeter[1]*binWidth+binWidth/2, pf.perimeter[0]*binWidth+binWidth/2)))\n",
    "    PinC = unit.position[contour.contains_points(unit.position[:,1:])]\n",
    "    posVisits = getVisits(PinC[:,0])\n",
    "    field_FR = []\n",
    "    field_TS = [] # take middle ts \n",
    "    for visit in posVisits:\n",
    "        spk = unit.spikes[np.logical_and(unit.spikes[:,0] > visit[0], unit.spikes[:,0] < visit[-1])]\n",
    "        field_FR.append((spk.shape[0]/len(visit))*30)\n",
    "        field_TS.append(((visit[0]-unit.position[0,0])/1e6)/60)\n",
    "    field_FR = util.weird_smooth(np.asarray(field_FR), 2)\n",
    "    \n",
    "    if i==1 or i==2:\n",
    "        fig.axes[1].plot(field_TS, field_FR, color=colors[i], marker='.',linewidth=2)\n",
    "    else:\n",
    "        fig.axes[1].plot(field_TS, field_FR, color=colors[i], marker='.',alpha=0.4)\n",
    "    fig.axes[1].text(field_TS[0],field_FR[0],f\"{i}\",color=colors[i])\n",
    "    fig.axes[0].plot(pf.perimeter[1]*binWidth+binWidth/2, pf.perimeter[0]*binWidth+binWidth/2, marker='s', color=colors[i], markersize=3, linestyle='') #binWidth+5 is to align the markers because the extent is set previously to the xedges/yedges with imshow      \n",
    "\n",
    "fig.axes[0].axis('equal')\n",
    "fig.axes[0].set_ylim([0,480])\n",
    "fig.axes[0].set_xlim([0, 640])\n",
    "fig.axes[0].set_xticks([])\n",
    "fig.axes[0].set_yticks([])\n",
    "fig.axes[0].spines['top'].set_visible(False)\n",
    "fig.axes[0].spines['right'].set_visible(False)\n",
    "fig.axes[0].spines['bottom'].set_visible(False)\n",
    "fig.axes[0].spines['left'].set_visible(False)\n",
    "\n",
    "fig.axes[1].tick_params(axis='y', labelsize=20)\n",
    "fig.axes[1].tick_params(axis='x', labelsize=20)\n",
    "fig.axes[1].set_xlabel(\"Time in session (mins)\", fontsize=24)\n",
    "fig.axes[1].set_ylabel(\"Firing Rate (Hz, smoothed)\", fontsize=24)\n",
    "fig.axes[1].spines['right'].set_visible(False)\n",
    "fig.axes[1].spines['top'].set_visible(False)\n",
    "    \n",
    "    "
   ]
  },
  {
   "cell_type": "code",
   "execution_count": 10,
   "metadata": {
    "collapsed": true
   },
   "outputs": [],
   "source": [
    "%matplotlib qt5"
   ]
  },
  {
   "cell_type": "code",
   "execution_count": 73,
   "metadata": {
    "collapsed": true
   },
   "outputs": [],
   "source": [
    "extent = 0.25*1e6\n",
    "aheadboundaries = []\n",
    "behindboundaries = []\n",
    "spikePos = np.empty((0,2))\n",
    "\n",
    "for spike in unit.spikes:\n",
    "    spikeTs = spike[0]\n",
    "    spikePos = np.vstack((spikePos, spike[1:]))\n",
    "    posIdx = np.where(unit.position[:,0] == util.takeClosest(unit.position[:,0], spikeTs))[0][0]\n",
    "\n",
    "    #ahead\n",
    "    tsInt = util.getTsinInverval(unit.position[:,0], unit.position[posIdx][0], unit.position[posIdx][0]+extent)\n",
    "    aheadpos = util.getPosFromTs(tsInt,unit.position)\n",
    "    aheadpos  = np.asarray([i for i in aheadpos if i[1]>5])\n",
    "    \n",
    "    tsInt = util.getTsinInverval(unit.position[:,0], unit.position[posIdx][0]-extent, unit.position[posIdx][0])\n",
    "    behindpos = util.getPosFromTs(tsInt,unit.position)\n",
    "    behindpos  = np.asarray([i for i in behindpos if i[1]>5])\n",
    "\n",
    "    \n",
    "    aheadboundaries.append(aheadpos)\n",
    "    behindboundaries.append(behindpos)\n",
    "\n"
   ]
  },
  {
   "cell_type": "code",
   "execution_count": 74,
   "metadata": {},
   "outputs": [
    {
     "data": {
      "text/plain": [
       "Text(0.5,0.98,'Unit TT12\\\\cl-maze1.5')"
      ]
     },
     "execution_count": 74,
     "metadata": {},
     "output_type": "execute_result"
    }
   ],
   "source": [
    "fig,ax = plt.subplots(1,2, figsize=(10,10))\n",
    "for a in aheadboundaries:\n",
    "    if a.shape[0] > 0:\n",
    "        ax[0].plot(a[:,0], a[:,1],color='k',alpha=0.25)\n",
    "    #ax[0].scatter(a[:,0], a[:,1],c='k',alpha=0.25, s=2)\n",
    "ax[0].set_title(f\"Ahead {extent/1e6}s\")\n",
    "for a in behindboundaries:\n",
    "    if a.shape[0] > 0:\n",
    "        ax[1].plot(a[:,0], a[:,1],color='k',alpha=0.25)\n",
    "    #ax[1].scatter(a[:,0], a[:,1],c='k',alpha=0.25, s=2)\n",
    "ax[1].set_title(f\"Behind {extent/1e6}s\")\n",
    "plt.suptitle(f\"Unit {clustName}\")\n"
   ]
  },
  {
   "cell_type": "code",
   "execution_count": 232,
   "metadata": {
    "collapsed": true
   },
   "outputs": [],
   "source": [
    "b = 10\n",
    "stack = np.zeros((b,b,0))\n",
    "for a in behindboundaries:\n",
    "    if a.shape[0] > 0:\n",
    "        h = np.histogram2d(a[:,0], a[:,1], bins=[b,b])[0]\n",
    "        stack = np.dstack((stack,h.T))\n",
    "sm = np.nanmean(stack,axis=2)"
   ]
  },
  {
   "cell_type": "code",
   "execution_count": 56,
   "metadata": {
    "collapsed": true
   },
   "outputs": [],
   "source": [
    "for i in range(len(aheadboundaries)): # at this point ahead and behind have same len\n",
    "    if aheadboundaries[i].shape[0] > 0:\n",
    "        aheadboundaries[i] = aheadboundaries[i] - spikePos[i]\n",
    "    if behindboundaries[i].shape[0] > 0:\n",
    "        behindboundaries[i] = behindboundaries[i] - spikePos[i]\n",
    "        \n",
    "aheadboundaries = [i for i in aheadboundaries if i.shape[0]>0]\n",
    "behindboundaries = [i for i in behindboundaries if i.shape[0]>0]\n",
    "    \n",
    "for i in range(len(aheadboundaries)):\n",
    "    aheadboundaries[i] = aheadboundaries[i][ (aheadboundaries[i][:,0]> -130) & (aheadboundaries[i][:,0]<130) & \n",
    "                                            (aheadboundaries[i][:,1]>-130) & (aheadboundaries[i][:,1]<130)  ]\n",
    "    \n",
    "for i in range(len(behindboundaries)):\n",
    "    behindboundaries[i] = behindboundaries[i][ (behindboundaries[i][:,0]> -130) & (behindboundaries[i][:,0]<130) & \n",
    "                                            (behindboundaries[i][:,1]>-130) & (behindboundaries[i][:,1]<130)  ]\n",
    "    \n",
    "ahead = np.concatenate(aheadboundaries, axis=0)\n",
    "behind = np.concatenate(behindboundaries,axis=0)\n",
    "\n",
    "aheadhist = np.histogram2d(ahead[:,1], ahead[:,0],bins=[50,50])[0]\n",
    "behindhist = np.histogram2d(behind[:,1], behind[:,0], bins=[50,50])[0]"
   ]
  },
  {
   "cell_type": "code",
   "execution_count": 57,
   "metadata": {},
   "outputs": [
    {
     "data": {
      "text/plain": [
       "Text(0,0.5,'Histogram')"
      ]
     },
     "execution_count": 57,
     "metadata": {},
     "output_type": "execute_result"
    }
   ],
   "source": [
    "fig, ax = plt.subplots(2,2)\n",
    "\n",
    "for a in aheadboundaries:\n",
    "    fig.axes[0].plot(a[:,0], a[:,1],color='k',alpha=0.1)\n",
    "    \n",
    "for b in behindboundaries:\n",
    "    fig.axes[1].plot(b[:,0], b[:,1],color='k',alpha=0.1)\n",
    "    \n",
    "fig.axes[2].imshow(aheadhist, origin='lower', aspect='auto', interpolation='None', vmax=300, cmap=cmap)\n",
    "fig.axes[3].imshow(behindhist, origin='lower', aspect='auto', interpolation='None', vmax=300, cmap=cmap)\n",
    "\n",
    "fig.axes[0].set_title(f\"Trajectory Ahead, {extent/1e6}s\", fontsize=16)\n",
    "fig.axes[1].set_title(f\"Trajectory Behind, {extent/1e6}s\", fontsize=16)\n",
    "fig.axes[0].set_ylabel(\"Overlay\", fontsize=16)\n",
    "fig.axes[2].set_ylabel(\"Histogram\", fontsize=16)"
   ]
  },
  {
   "cell_type": "markdown",
   "metadata": {
    "collapsed": true
   },
   "source": [
    "### Blocking Experiments - Preliminary Analysis of Rate maps by session, field dynamics, etc"
   ]
  },
  {
   "cell_type": "code",
   "execution_count": 1,
   "metadata": {
    "collapsed": true
   },
   "outputs": [],
   "source": [
    "## For days when mapping session was separate NL session, need to load as two 'cells' and join separately\n"
   ]
  },
  {
   "cell_type": "code",
   "execution_count": 3,
   "metadata": {
    "collapsed": true
   },
   "outputs": [],
   "source": [
    "datafile1 = \"E:\\\\Ratterdam\\\\R781\\\\alley blocking\\\\2019-05-01_15-13-18\\\\\"\n",
    "datafile2 = \"E:\\\\Ratterdam\\\\R781\\\\alley blocking\\\\2019-05-01_16-47-15\\\\\"\n",
    "unitname = \"TT5\\\\cl-maze1.6\"\n",
    "\n",
    "position1 = util.load_position(datafile1)\n",
    "position2 = util.load_position(datafile2)\n",
    "\n",
    "\n",
    "clust = util.read_clust(datafile1+unitname)\n",
    "clust = np.asarray(clust)\n",
    "spikexy = util.getPosFromTs(clust,position1)\n",
    "spikes1 = np.column_stack((clust, spikexy))\n",
    "\n",
    "clust = util.read_clust(datafile2+unitname)\n",
    "clust = np.asarray(clust)\n",
    "spikexy = util.getPosFromTs(clust,position2)\n",
    "spikes2 = np.column_stack((clust, spikexy))\n"
   ]
  },
  {
   "cell_type": "code",
   "execution_count": 4,
   "metadata": {},
   "outputs": [
    {
     "name": "stdout",
     "output_type": "stream",
     "text": [
      "[ (0, 0, 2, 3625998757, 19, 0, 0, 0, 0, [0, 0, 0, 0, 0, 0, 0, 0], b'Starting Recording')\n",
      " (0, 0, 2, 3627274707,  4, 0, 0, 0, 0, [0, 0, 0, 0, 0, 0, 0, 0], b'begin sleep 1 ')\n",
      " (0, 0, 2, 5473175466,  4, 0, 0, 0, 0, [0, 0, 0, 0, 0, 0, 0, 0], b'end sleep 1 ')\n",
      " (0, 0, 2, 5475128984, 19, 0, 0, 0, 0, [0, 0, 0, 0, 0, 0, 0, 0], b'Stopping Recording')\n",
      " (0, 0, 2, 5762078900, 19, 0, 0, 0, 0, [0, 0, 0, 0, 0, 0, 0, 0], b'Starting Recording')\n",
      " (0, 0, 2, 5765316831,  4, 0, 0, 0, 0, [0, 0, 0, 0, 0, 0, 0, 0], b'begin session mapping')\n",
      " (0, 0, 2, 6682079830,  4, 0, 0, 0, 0, [0, 0, 0, 0, 0, 0, 0, 0], b'end session mapping')\n",
      " (0, 0, 2, 6682986499, 19, 0, 0, 0, 0, [0, 0, 0, 0, 0, 0, 0, 0], b'Stopping Recording')]\n",
      "\n",
      "\n",
      "[ (0, 0, 2,  9257860513, 19, 0, 0, 0, 0, [0, 0, 0, 0, 0, 0, 0, 0], b'Starting Recording')\n",
      " (0, 0, 2,  9258915030,  4, 0, 0, 0, 0, [0, 0, 0, 0, 0, 0, 0, 0], b'begin anti-blocking session')\n",
      " (0, 0, 2, 10178615896,  4, 0, 0, 0, 0, [0, 0, 0, 0, 0, 0, 0, 0], b'end anti-blocking session')\n",
      " (0, 0, 2, 10179444111, 19, 0, 0, 0, 0, [0, 0, 0, 0, 0, 0, 0, 0], b'Stopping Recording')\n",
      " (0, 0, 2, 10242475117, 19, 0, 0, 0, 0, [0, 0, 0, 0, 0, 0, 0, 0], b'Starting Recording')\n",
      " (0, 0, 2, 10243492271,  4, 0, 0, 0, 0, [0, 0, 0, 0, 0, 0, 0, 0], b'begin blocking session')\n",
      " (0, 0, 2, 11222986475,  4, 0, 0, 0, 0, [0, 0, 0, 0, 0, 0, 0, 0], b'end session blocking')\n",
      " (0, 0, 2, 11224718692, 19, 0, 0, 0, 0, [0, 0, 0, 0, 0, 0, 0, 0], b'Stopping Recording')\n",
      " (0, 0, 2, 11288939697, 19, 0, 0, 0, 0, [0, 0, 0, 0, 0, 0, 0, 0], b'Starting Recording')\n",
      " (0, 0, 2, 11290616605,  4, 0, 0, 0, 0, [0, 0, 0, 0, 0, 0, 0, 0], b'begin session post')\n",
      " (0, 0, 2, 12509462392,  4, 0, 0, 0, 0, [0, 0, 0, 0, 0, 0, 0, 0], b'end session post')\n",
      " (0, 0, 2, 12510502176, 19, 0, 0, 0, 0, [0, 0, 0, 0, 0, 0, 0, 0], b'Stopping Recording')\n",
      " (0, 0, 2, 12529700199, 19, 0, 0, 0, 0, [0, 0, 0, 0, 0, 0, 0, 0], b'Starting Recording')\n",
      " (0, 0, 2, 12529794168, 19, 0, 0, 0, 0, [0, 0, 0, 0, 0, 0, 0, 0], b'Stopping Recording')\n",
      " (0, 0, 2, 12530897199, 19, 0, 0, 0, 0, [0, 0, 0, 0, 0, 0, 0, 0], b'Starting Recording')\n",
      " (0, 0, 2, 12531998213,  4, 0, 0, 0, 0, [0, 0, 0, 0, 0, 0, 0, 0], b'begin sleep 2')\n",
      " (0, 0, 2, 13485980784, 19, 0, 0, 0, 0, [0, 0, 0, 0, 0, 0, 0, 0], b'Stopping Recording')]\n"
     ]
    }
   ],
   "source": [
    "_, events1 = util.readNEV(datafile1)\n",
    "_, events2 = util.readNEV(datafile2)\n",
    "print(events1)\n",
    "print(\"\\n\")\n",
    "print(events2)"
   ]
  },
  {
   "cell_type": "code",
   "execution_count": 5,
   "metadata": {
    "collapsed": true
   },
   "outputs": [],
   "source": [
    "events = {\"mapping\":[5765316831, 6682079830], \"antiblock\":[9258915030, 10178615896], \"block\":[10243492271, 11222986475], \"post\":[11290616605, 12509462392]}"
   ]
  },
  {
   "cell_type": "code",
   "execution_count": 6,
   "metadata": {
    "collapsed": true
   },
   "outputs": [],
   "source": [
    "class UnitRep():\n",
    "    \n",
    "    def __init__(self):\n",
    "        self.position = None\n",
    "        self.spikes = None"
   ]
  },
  {
   "cell_type": "code",
   "execution_count": 7,
   "metadata": {},
   "outputs": [
    {
     "name": "stderr",
     "output_type": "stream",
     "text": [
      "C:\\Users\\whockei1\\Google Drive\\KnierimLab\\Ratterdam\\Code\\utility_fx.py:493: RuntimeWarning: divide by zero encountered in reciprocal\n",
      "  n = (hs*np.reciprocal(ho))*30\n",
      "C:\\Users\\whockei1\\Google Drive\\KnierimLab\\Ratterdam\\Code\\utility_fx.py:493: RuntimeWarning: invalid value encountered in multiply\n",
      "  n = (hs*np.reciprocal(ho))*30\n",
      "C:\\Users\\whockei1\\Google Drive\\KnierimLab\\Ratterdam\\Code\\RateMapClass_William_20190308.py:207: RuntimeWarning: invalid value encountered in greater_equal\n",
      "  aboveThreshold = np.where(rateMap >= fieldThreshold, True, False)\n"
     ]
    }
   ],
   "source": [
    "unitdata = {}\n",
    "\n",
    "unitdata[\"mapping\"] = UnitRep()\n",
    "p = position1[np.where(np.logical_and(position1[:,0] > events[\"mapping\"][0], position1[:,0] < events[\"mapping\"][1]))]\n",
    "s = spikes1[np.where(np.logical_and(spikes1[:,0] > events[\"mapping\"][0], spikes1[:,0] < events[\"mapping\"][1]))]\n",
    "unitdata[\"mapping\"].position = p\n",
    "unitdata[\"mapping\"].spikes = s\n",
    "unitdata[\"mapping\"].RM = util.makeRM(s,p, bins=[30,50])\n",
    "unitdata[\"mapping\"].rep = RateMapClass.RateMap(unitdata[\"mapping\"])\n",
    "\n",
    "for sess in [\"antiblock\", \"block\", \"post\"]:\n",
    "    unitdata[sess] = UnitRep()\n",
    "    p = position2[np.where(np.logical_and(position2[:,0] > events[sess][0], position2[:,0] < events[sess][1]))]\n",
    "    s = spikes2[np.where(np.logical_and(spikes2[:,0] > events[sess][0], spikes2[:,0] < events[sess][1]))]\n",
    "    unitdata[sess].position = p\n",
    "    unitdata[sess].spikes = s\n",
    "    unitdata[sess].RM = util.makeRM(s,p, bins=[30,50])\n",
    "    unitdata[sess].rep = RateMapClass.RateMap(unitdata[sess])\n"
   ]
  },
  {
   "cell_type": "code",
   "execution_count": 11,
   "metadata": {},
   "outputs": [
    {
     "data": {
      "text/plain": [
       "Text(0.5,0.98,'TT5\\\\cl-maze1.6, FR saturation at 28.63Hz')"
      ]
     },
     "execution_count": 11,
     "metadata": {},
     "output_type": "execute_result"
    }
   ],
   "source": [
    "fig, ax = plt.subplots(2,2)\n",
    "m = np.vstack((unitdata[\"mapping\"].RM, unitdata[\"antiblock\"].RM, unitdata[\"block\"].RM, unitdata[\"post\"].RM))\n",
    "mymax = np.nanpercentile(m, 97)\n",
    "for sess,axis in zip([\"mapping\", \"antiblock\", \"block\", \"post\"], fig.axes):\n",
    "    axis.imshow(unitdata[sess].RM, origin='lower', aspect='auto', interpolation='none', cmap=cmap,vmax=mymax)\n",
    "    axis.set_title(sess)\n",
    "fig.suptitle(f\"{unitname}, FR saturation at {round(mymax,2)}Hz\")"
   ]
  },
  {
   "cell_type": "code",
   "execution_count": 145,
   "metadata": {},
   "outputs": [
    {
     "ename": "NameError",
     "evalue": "name 'unitdata' is not defined",
     "output_type": "error",
     "traceback": [
      "\u001b[1;31m---------------------------------------------------------------------------\u001b[0m",
      "\u001b[1;31mNameError\u001b[0m                                 Traceback (most recent call last)",
      "\u001b[1;32m<ipython-input-145-4a77eb47d59b>\u001b[0m in \u001b[0;36m<module>\u001b[1;34m()\u001b[0m\n\u001b[0;32m      4\u001b[0m \u001b[1;32mfor\u001b[0m \u001b[0msess\u001b[0m\u001b[1;33m,\u001b[0m\u001b[0ma\u001b[0m \u001b[1;32min\u001b[0m \u001b[0mzip\u001b[0m\u001b[1;33m(\u001b[0m\u001b[1;33m[\u001b[0m\u001b[1;34m\"mapping\"\u001b[0m\u001b[1;33m,\u001b[0m \u001b[1;34m\"antiblock\"\u001b[0m\u001b[1;33m,\u001b[0m \u001b[1;34m\"block\"\u001b[0m\u001b[1;33m,\u001b[0m \u001b[1;34m\"post\"\u001b[0m\u001b[1;33m]\u001b[0m\u001b[1;33m,\u001b[0m\u001b[1;33m[\u001b[0m\u001b[1;36m0\u001b[0m\u001b[1;33m,\u001b[0m\u001b[1;36m1\u001b[0m\u001b[1;33m,\u001b[0m\u001b[1;36m2\u001b[0m\u001b[1;33m,\u001b[0m\u001b[1;36m3\u001b[0m\u001b[1;33m]\u001b[0m\u001b[1;33m)\u001b[0m\u001b[1;33m:\u001b[0m\u001b[1;33m\u001b[0m\u001b[0m\n\u001b[0;32m      5\u001b[0m \u001b[1;33m\u001b[0m\u001b[0m\n\u001b[1;32m----> 6\u001b[1;33m     \u001b[0mcnames\u001b[0m \u001b[1;33m=\u001b[0m \u001b[0mnp\u001b[0m\u001b[1;33m.\u001b[0m\u001b[0mrandom\u001b[0m\u001b[1;33m.\u001b[0m\u001b[0mchoice\u001b[0m\u001b[1;33m(\u001b[0m\u001b[0mlist\u001b[0m\u001b[1;33m(\u001b[0m\u001b[0mplt\u001b[0m\u001b[1;33m.\u001b[0m\u001b[0mcm\u001b[0m\u001b[1;33m.\u001b[0m\u001b[0mcolors\u001b[0m\u001b[1;33m.\u001b[0m\u001b[0mCSS4_COLORS\u001b[0m\u001b[1;33m.\u001b[0m\u001b[0mkeys\u001b[0m\u001b[1;33m(\u001b[0m\u001b[1;33m)\u001b[0m\u001b[1;33m)\u001b[0m\u001b[1;33m,\u001b[0m\u001b[0mlen\u001b[0m\u001b[1;33m(\u001b[0m\u001b[0munitdata\u001b[0m\u001b[1;33m[\u001b[0m\u001b[0msess\u001b[0m\u001b[1;33m]\u001b[0m\u001b[1;33m.\u001b[0m\u001b[0mrep\u001b[0m\u001b[1;33m.\u001b[0m\u001b[0mPF\u001b[0m\u001b[1;33m)\u001b[0m\u001b[1;33m)\u001b[0m\u001b[1;33m\u001b[0m\u001b[0m\n\u001b[0m\u001b[0;32m      7\u001b[0m \u001b[1;33m\u001b[0m\u001b[0m\n\u001b[0;32m      8\u001b[0m     \u001b[0munitdata\u001b[0m\u001b[1;33m[\u001b[0m\u001b[0msess\u001b[0m\u001b[1;33m]\u001b[0m\u001b[1;33m.\u001b[0m\u001b[0mrep\u001b[0m \u001b[1;33m=\u001b[0m \u001b[0mRateMapClass\u001b[0m\u001b[1;33m.\u001b[0m\u001b[0mRateMap\u001b[0m\u001b[1;33m(\u001b[0m\u001b[0munitdata\u001b[0m\u001b[1;33m[\u001b[0m\u001b[0msess\u001b[0m\u001b[1;33m]\u001b[0m\u001b[1;33m)\u001b[0m\u001b[1;33m\u001b[0m\u001b[0m\n",
      "\u001b[1;31mNameError\u001b[0m: name 'unitdata' is not defined"
     ]
    }
   ],
   "source": [
    "fig, ax = plt.subplots(2,4,figsize=(10,10))\n",
    "pct = 98\n",
    "\n",
    "for sess,a in zip([\"mapping\", \"antiblock\", \"block\", \"post\"],[0,1,2,3]):\n",
    "    \n",
    "    cnames = np.random.choice(list(plt.cm.colors.CSS4_COLORS.keys()),len(unitdata[sess].rep.PF))\n",
    "\n",
    "    unitdata[sess].rep = RateMapClass.RateMap(unitdata[sess])\n",
    "    ax[0,a].imshow(unitdata[sess].rep.rateMap2D, origin='lower', aspect='auto', interpolation='None', cmap=cmap, vmax=np.nanpercentile(unitdata[sess].rep.rateMap2D, pct),\n",
    "            extent=[wmDef.xedges[0], wmDef.xedges[-1], wmDef.yedges[0], wmDef.yedges[-1]])\n",
    "    colors = np.random.choice(cnames, len(unitdata[sess].rep.PF), replace=False)\n",
    "    \n",
    "    for i,pf in enumerate(unitdata[sess].rep.PF):\n",
    "        #pf = unitdata[sess].rep.PF[4]\n",
    "        contour = path.Path(list(zip(pf.perimeter[1]*wmDef.binWidth+wmDef.binWidth/2, pf.perimeter[0]*wmDef.binWidth+wmDef.binWidth/2)))\n",
    "        PinC = unitdata[sess].position[contour.contains_points(unitdata[sess].position[:,1:])]\n",
    "        posVisits = util.getVisits(PinC[:,0])\n",
    "        field_FR = []\n",
    "        field_TS = [] # take middle ts \n",
    "        for visit in posVisits:\n",
    "            spk = unitdata[sess].spikes[np.logical_and(unitdata[sess].spikes[:,0] > visit[0], unitdata[sess].spikes[:,0] < visit[-1])]\n",
    "            field_FR.append((spk.shape[0]/len(visit))*30)\n",
    "            field_TS.append(visit[0])\n",
    "        field_FR = util.weird_smooth(np.asarray(field_FR), 2)\n",
    "        ax[1,a].plot(field_TS, field_FR, color=colors[i], marker='.')\n",
    "        ax[0,a].plot(pf.perimeter[1]*wmDef.binWidth+wmDef.binWidth/2, pf.perimeter[0]*wmDef.binWidth+wmDef.binWidth/2, marker='s', color=colors[i], markersize=3, linestyle='') #binWidth+5 is to align the markers because the extent is set previously to the xedges/yedges with imshow      \n"
   ]
  },
  {
   "cell_type": "code",
   "execution_count": 156,
   "metadata": {
    "collapsed": true
   },
   "outputs": [],
   "source": [
    "# extent = 1e6\n",
    "# session = unitdata['mapping']\n",
    "# pf = session.rep.PF[4]\n",
    "# contour = path.Path(list(zip(pf.perimeter[1]*wmDef.binWidth+wmDef.binWidth/2, pf.perimeter[0]*wmDef.binWidth+wmDef.binWidth/2)))\n",
    "# PinC = session.position[contour.contains_points(session.position[:,1:])]\n",
    "# posVisits = util.getVisits(PinC[:,0])\n",
    "# field_FR = []\n",
    "# visits = []\n",
    "# spikes = []\n",
    "# for visit in posVisits:\n",
    "#     visit = [visit[0]-extent] + visit + [visit[-1]+extent]\n",
    "#     spk = session.spikes[np.logical_and(session.spikes[:,0] > visit[0], session.spikes[:,0] < visit[-1])]\n",
    "#     field_FR.append((spk.shape[0]/len(visit))*30)\n",
    "#     v = util.getPosFromTs(visit,session.position)\n",
    "#     visits.append(v)\n",
    "#     spikes.append(spk)"
   ]
  },
  {
   "cell_type": "code",
   "execution_count": 12,
   "metadata": {
    "collapsed": true
   },
   "outputs": [],
   "source": [
    "ratplot = Vis.BasicRateMaps()"
   ]
  },
  {
   "cell_type": "code",
   "execution_count": 27,
   "metadata": {
    "collapsed": true
   },
   "outputs": [],
   "source": [
    "sesstype = 'mapping'\n",
    "alley = 6\n",
    "session = unitdata[sesstype]\n",
    "alleyTracking = {i:np.empty((0,3)) for i in range(17)}\n",
    "for entry in session.position:\n",
    "    for a in Def.alleyBounds.keys():\n",
    "        if entry[1] > Def.alleyBounds[a][0][0] and entry[1] < Def.alleyBounds[a][0][1] and entry[2] > Def.alleyBounds[a][1][0] and entry[2] < Def.alleyBounds[a][1][1]:\n",
    "            alleyTracking[a] = np.vstack((alleyTracking[a], entry))\n",
    "\n",
    "posVisits = util.getVisits(alleyTracking[alley-1][:,0])\n",
    "visits = []\n",
    "spikes = []\n",
    "extent=3e6\n",
    "for visit in posVisits:\n",
    "    begin,end = visit[0]-extent, visit[-1]+extent\n",
    "    spk = session.spikes[np.logical_and(session.spikes[:,0] >= begin, session.spikes[:,0] <= end)]\n",
    "    v = session.position[np.logical_and(session.position[:,0] >= begin, session.position[:,0] <= end)]\n",
    "    visits.append(v)\n",
    "    spikes.append(spk)"
   ]
  },
  {
   "cell_type": "code",
   "execution_count": 21,
   "metadata": {},
   "outputs": [
    {
     "data": {
      "text/plain": [
       "Text(0.5,0.98,'Alley 8 Session mapping, extent 3.0s')"
      ]
     },
     "execution_count": 21,
     "metadata": {},
     "output_type": "execute_result"
    }
   ],
   "source": [
    "fig, ax = plt.subplots(int(np.ceil(len(visits)/5)),5,figsize=(10,10))\n",
    "for i in range(len(visits)):\n",
    "    v = visits[i]\n",
    "    s = spikes[i]\n",
    "    for x in range(1,18):\n",
    "        ratplot.drawAlleyBounds(fig.axes[i],x)\n",
    "    fig.axes[i].plot(v[:,1], v[:,2],color='k',alpha=0.5)\n",
    "    fig.axes[i].scatter(s[:,1], s[:,2],c='r',alpha=0.7,s=2)\n",
    "    fig.axes[i].scatter(v[0,1], v[0,2],c='g',marker='x')\n",
    "plt.suptitle(f\"Alley {alley} Session {sesstype}, extent {extent/1e6}s\")\n",
    "    #fig.axes[i].plot(pf.perimeter[1]*wmDef.binWidth+wmDef.binWidth/2, pf.perimeter[0]*wmDef.binWidth+wmDef.binWidth/2, marker='s', color='k', markersize=1,linestyle='')"
   ]
  },
  {
   "cell_type": "code",
   "execution_count": 15,
   "metadata": {
    "collapsed": true
   },
   "outputs": [],
   "source": [
    "# santiy check on spike position wrt traj\n",
    "session = unitdata['post']\n",
    "pf = session.rep.PF[4]\n",
    "contour = path.Path(list(zip(pf.perimeter[1]*wmDef.binWidth+wmDef.binWidth/2, pf.perimeter[0]*wmDef.binWidth+wmDef.binWidth/2)))\n",
    "PinC = session.position[contour.contains_points(session.position[:,1:])]\n",
    "posVisits = util.getVisits(PinC[:,0])\n",
    "visits = []\n",
    "spikes = []\n",
    "for visit in posVisits:\n",
    "    spk = session.spikes[np.logical_and(session.spikes[:,0] >= visit[0], session.spikes[:,0] <= visit[-1])]\n",
    "    v = util.getPosFromTs(visit,session.position)\n",
    "    visits.append(v)\n",
    "    spikes.append(spk)"
   ]
  },
  {
   "cell_type": "code",
   "execution_count": 28,
   "metadata": {},
   "outputs": [
    {
     "name": "stderr",
     "output_type": "stream",
     "text": [
      "C:\\Users\\whockei1\\Google Drive\\KnierimLab\\Ratterdam\\Code\\utility_fx.py:493: RuntimeWarning: divide by zero encountered in reciprocal\n",
      "  n = (hs*np.reciprocal(ho))*30\n",
      "C:\\Users\\whockei1\\Google Drive\\KnierimLab\\Ratterdam\\Code\\utility_fx.py:493: RuntimeWarning: invalid value encountered in multiply\n",
      "  n = (hs*np.reciprocal(ho))*30\n"
     ]
    },
    {
     "data": {
      "text/plain": [
       "Text(0.5,1,'mapping')"
      ]
     },
     "execution_count": 28,
     "metadata": {},
     "output_type": "execute_result"
    }
   ],
   "source": [
    "# ratemaps\n",
    "rms = []\n",
    "_max = 0\n",
    "for i in range(len(visits)):\n",
    "    rm = util.makeRM(spikes[i], visits[i],bins=[15,10])\n",
    "    rms.append(rm)\n",
    "    if np.nanpercentile(rm,97) > _max:\n",
    "        _max = np.nanpercentile(rm,97)\n",
    "        \n",
    "fig, ax = plt.subplots(int(np.ceil(len(visits)/5)),5,figsize=(10,10))\n",
    "for i,rm in enumerate(rms):\n",
    "    fig.axes[i].imshow(rm, aspect='auto',interpolation='None',cmap=cmap,vmax=20,origin='lower')\n",
    "plt.title(sesstype)"
   ]
  },
  {
   "cell_type": "markdown",
   "metadata": {
    "collapsed": true
   },
   "source": [
    "## Looking at Rewards w.r.t. repeating field dynamics"
   ]
  },
  {
   "cell_type": "code",
   "execution_count": 328,
   "metadata": {
    "collapsed": true
   },
   "outputs": [],
   "source": [
    "hdr, rec = util.readNEV(datafile)\n",
    "rewards = [i[3] for i in rec if b'0x0080' in i[10]] # check that the ttl code you're using is right. there is a util fx (or parse i forget) that does it as longas it doesnt actually change in a session\n",
    "alley = 14\n",
    "rpos = util.getPosFromTs(rewards,unit.position)\n",
    "ab = Def.alleyBounds[alley-1]\n",
    "idx=np.where((rpos[:,0]>ab[0][0]) & (rpos[:,0]<ab[0][1]) & (rpos[:,1]>ab[1][0]) & (rpos[:,1]<ab[1][1]))\n",
    "for i in idx[0]:\n",
    "    plt.vlines(rewards[i],0,20,color='g')\n",
    "    "
   ]
  },
  {
   "cell_type": "code",
   "execution_count": 269,
   "metadata": {
    "collapsed": true
   },
   "outputs": [],
   "source": [
    "def calcAlleyCenter(ab):\n",
    "    \"\"\"\n",
    "    pass in alleybounds defined as [[x1,x2],[y1,y2]]\n",
    "    \"\"\"\n",
    "    x1,x2,y1,y2 = ab[0][0], ab[0][1], ab[1][0], ab[1][1]\n",
    "    return (x1+x2)/2, (y1+y2)/2"
   ]
  },
  {
   "cell_type": "code",
   "execution_count": 115,
   "metadata": {
    "collapsed": true
   },
   "outputs": [],
   "source": [
    "def distance(p0,p1):\n",
    "    return math.sqrt((p0[0] - p1[0])**2 + (p0[1] - p1[1])**2)"
   ]
  },
  {
   "cell_type": "code",
   "execution_count": 116,
   "metadata": {
    "collapsed": true
   },
   "outputs": [],
   "source": [
    "def assignToAlley(point,alleyCenters):\n",
    "    \"\"\"point is [x,y]\n",
    "    alleyCenters is dict 1:[com_x, com_y] ... 17:[]\n",
    "    \"\"\"\n",
    "    return sorted([(i,distance(point, alleyCenters[i])) for i in range(1,18)], key = lambda x: x[1])[0][0]"
   ]
  },
  {
   "cell_type": "code",
   "execution_count": 124,
   "metadata": {
    "collapsed": true
   },
   "outputs": [],
   "source": [
    "def calcPotentiations(visitfrs):\n",
    "    \"\"\"visit frs is a list of frs for each visit that we are looking at\"\"\"\n",
    "    if visitfrs[0] == 0:\n",
    "        return []\n",
    "    else:\n",
    "        return [i/visitfrs[0] for i in visitfrs]"
   ]
  },
  {
   "cell_type": "code",
   "execution_count": 260,
   "metadata": {
    "collapsed": true
   },
   "outputs": [],
   "source": [
    "alleyCenters = {i:[] for i in range(1,18)}\n",
    "for i in range(1,18):\n",
    "    center = calcAlleyCenter(Def.alleyBounds[i-1])\n",
    "    alleyCenters[i] = center"
   ]
  },
  {
   "cell_type": "code",
   "execution_count": 329,
   "metadata": {
    "collapsed": true
   },
   "outputs": [],
   "source": [
    "reward_potentiations = [] # will be a list of lists with implicit ordering that they are in order of rewards for that alley\n",
    "numvisits = 5 # number of visits to consider not including visit that got an r\n",
    "\n",
    "#rewards_ = np.random.choice(rewards,len(rewards),replace=False)\n",
    "rewards_ = rewards\n",
    "avg_field_pots = []\n",
    "for i,pf in enumerate(rm.PF):\n",
    "    reward_potentiations = []\n",
    "    contour = path.Path(list(zip(pf.perimeter[1]*binWidth+binWidth/2, pf.perimeter[0]*binWidth+binWidth/2)))\n",
    "    PinC = unit.position[contour.contains_points(unit.position[:,1:])]\n",
    "    posVisits = getVisits(PinC[:,0])\n",
    "    field_FR = []\n",
    "    field_TS = [] # take middle ts \n",
    "    for visit in posVisits:\n",
    "        spk = unit.spikes[np.logical_and(unit.spikes[:,0] > visit[0], unit.spikes[:,0] < visit[-1])]\n",
    "        field_FR.append((spk.shape[0]/len(visit))*30)\n",
    "        field_TS.append(visit[0])\n",
    "    \n",
    "    com = [pf.com[1]*binWidth+binWidth/2, pf.com[0]*binWidth+binWidth/2]\n",
    "    pf_alley = assignToAlley(com, alleyCenters)\n",
    "    for r,rts in zip(rpos, rewards_):\n",
    "        ralley = assignToAlley(r, alleyCenters)\n",
    "        if ralley == pf_alley:\n",
    "            nearestts = util.takeClosest([i[0] for i in posVisits], rts)\n",
    "            visit_0 = [i[0] for i in posVisits].index(nearestts)\n",
    "            pots = calcPotentiations(field_FR[visit_0:visit_0+numvisits])\n",
    "            if len(pots) == numvisits:\n",
    "                reward_potentiations.append(pots)\n",
    "    avg = np.mean(np.asarray(reward_potentiations), axis=0)\n",
    "    avg_field_pots.append(avg)"
   ]
  },
  {
   "cell_type": "code",
   "execution_count": 330,
   "metadata": {},
   "outputs": [
    {
     "name": "stderr",
     "output_type": "stream",
     "text": [
      "C:\\Users\\whockei1\\AppData\\Local\\Continuum\\anaconda3\\lib\\site-packages\\ipykernel_launcher.py:31: RuntimeWarning: Mean of empty slice\n"
     ]
    }
   ],
   "source": [
    "numvisits = 5 # number of visits to consider not including visit that got an r\n",
    "\n",
    "#rewards_ = rewards\n",
    "shuffmeans = np.empty((0,numvisits))\n",
    "for q in range(1000):\n",
    "    rewards_ = np.random.choice(rewards,len(rewards),replace=False)\n",
    "    for i,pf in enumerate(rm.PF):\n",
    "        reward_potentiations = [] \n",
    "        contour = path.Path(list(zip(pf.perimeter[1]*binWidth+binWidth/2, pf.perimeter[0]*binWidth+binWidth/2)))\n",
    "        PinC = unit.position[contour.contains_points(unit.position[:,1:])]\n",
    "        posVisits = getVisits(PinC[:,0])\n",
    "        field_FR = []\n",
    "        field_TS = [] # take middle ts \n",
    "        for visit in posVisits:\n",
    "            spk = unit.spikes[np.logical_and(unit.spikes[:,0] > visit[0], unit.spikes[:,0] < visit[-1])]\n",
    "            field_FR.append((spk.shape[0]/len(visit))*30)\n",
    "            field_TS.append(visit[0])\n",
    "\n",
    "        com = [pf.com[1]*binWidth+binWidth/2, pf.com[0]*binWidth+binWidth/2]\n",
    "        pf_alley = assignToAlley(com, alleyCenters)\n",
    "        for r,rts in zip(rpos, rewards_):\n",
    "            ralley = assignToAlley(r, alleyCenters)\n",
    "            if ralley == pf_alley:\n",
    "                nearestts = util.takeClosest([i[0] for i in posVisits], rts)\n",
    "                visit_0 = [i[0] for i in posVisits].index(nearestts)\n",
    "                pots = calcPotentiations(field_FR[visit_0:visit_0+numvisits])\n",
    "                if len(pots) == numvisits:\n",
    "                    reward_potentiations.append(pots)\n",
    "\n",
    "        rpots = np.array(reward_potentiations)\n",
    "        rmean = np.nanmean(rpots, axis=0)\n",
    "        try:\n",
    "            shuffmeans = np.vstack((shuffmeans, rmean))\n",
    "        except:\n",
    "            pass"
   ]
  },
  {
   "cell_type": "markdown",
   "metadata": {
    "collapsed": true
   },
   "source": [
    "### Characterizing Dynamic Fields in Repeating Cells (not nec that all dynamic fields obey repetition)"
   ]
  },
  {
   "cell_type": "code",
   "execution_count": null,
   "metadata": {
    "collapsed": true
   },
   "outputs": [],
   "source": [
    "field_duration = 3 # visits\n",
    "fr_thresh = [0.2*max(field), 0.7*max(field)]"
   ]
  },
  {
   "cell_type": "code",
   "execution_count": null,
   "metadata": {
    "collapsed": true
   },
   "outputs": [],
   "source": []
  },
  {
   "cell_type": "code",
   "execution_count": 133,
   "metadata": {
    "collapsed": true
   },
   "outputs": [],
   "source": [
    "fields = []\n",
    "times = []\n",
    "for i,pf in enumerate(rm.PF):\n",
    "    contour = path.Path(list(zip(pf.perimeter[1]*binWidth+binWidth/2, pf.perimeter[0]*binWidth+binWidth/2)))\n",
    "    PinC = unit.position[contour.contains_points(unit.position[:,1:])]\n",
    "    posVisits = getVisits(PinC[:,0])\n",
    "    field_FR = []\n",
    "    field_TS = [] # take middle ts \n",
    "    for visit in posVisits:\n",
    "        spk = unit.spikes[np.logical_and(unit.spikes[:,0] > visit[0], unit.spikes[:,0] < visit[-1])]\n",
    "        field_FR.append((spk.shape[0]/len(visit))*30)\n",
    "        field_TS.append(visit[0])\n",
    "    field_FR = util.weird_smooth(np.asarray(field_FR), 2)\n",
    "    fields.append(field_FR)\n",
    "    times.append(field_TS)\n",
    "    \n",
    "dynamic_list = [] #0 for no, 1 for yes\n",
    "for j in range(len(fields)):\n",
    "    dynamic_field = 0\n",
    "    field, ts = fields[j], times[j]\n",
    "    grad = np.gradient(field)\n",
    "    zero_crossings = np.where(np.sign(grad[:-1]) != np.sign(grad[1:]))[0] + 1 # check if adjacent signs differ\n",
    "    zero_crossings = np.hstack((0,zero_crossings, len(grad))) # add endpoints\n",
    "    for i in range(len(zero_crossings)-1):\n",
    "        roi = field[zero_crossings[i]:zero_crossings[i+1]]\n",
    "        if max(roi) >= fr_thresh[1] and max(roi) <= fr_thresh[0] and (zero_crossings[i+1]-zero_crossings[i]>=field_duration):\n",
    "            dynamic_field = 1\n",
    "    dynamic_list.append(dynamic_field)"
   ]
  },
  {
   "cell_type": "code",
   "execution_count": 91,
   "metadata": {
    "collapsed": true
   },
   "outputs": [],
   "source": []
  },
  {
   "cell_type": "code",
   "execution_count": 84,
   "metadata": {},
   "outputs": [
    {
     "name": "stdout",
     "output_type": "stream",
     "text": [
      "11 19\n",
      "19 24\n",
      "24 26\n",
      "26 28\n",
      "28 34\n",
      "34 40\n",
      "40 43\n",
      "43 46\n",
      "46 52\n"
     ]
    }
   ],
   "source": [
    "dynamic_list = [] #0 for no, 1 for yes\n",
    "j=0\n",
    "field, ts = fields[j], times[j]\n",
    "grad = np.gradient(field)\n",
    "zero_crossings = np.where(np.sign(grad[:-1]) != np.sign(grad[1:]))[0] + 1 # check if adjacent signs differ\n",
    "zero_crossings = np.hstack((0,zero_crossings, len(grad))) # add endpoints\n",
    "for i in range(len(zero_crossings)-1):\n",
    "    roi = field[zero_crossings[i]:zero_crossings[i+1]]\n",
    "    if max(roi) >= fr_thresh[1] and max(roi) <= fr_thresh[0] and (zero_crossings[i+1]-zero_crossings[i]>=field_duration):\n",
    "        dynamic_list.append(1)\n",
    "    else:\n",
    "        dynamic_list.append(0)"
   ]
  },
  {
   "cell_type": "code",
   "execution_count": null,
   "metadata": {
    "collapsed": true
   },
   "outputs": [],
   "source": []
  }
 ],
 "metadata": {
  "kernelspec": {
   "display_name": "Python 3",
   "language": "python",
   "name": "python3"
  },
  "language_info": {
   "codemirror_mode": {
    "name": "ipython",
    "version": 3
   },
   "file_extension": ".py",
   "mimetype": "text/x-python",
   "name": "python",
   "nbconvert_exporter": "python",
   "pygments_lexer": "ipython3",
   "version": "3.7.4"
  }
 },
 "nbformat": 4,
 "nbformat_minor": 2
}
