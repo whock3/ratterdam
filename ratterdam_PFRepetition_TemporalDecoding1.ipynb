{
 "cells": [
  {
   "cell_type": "markdown",
   "metadata": {},
   "source": [
    "# Ratterdam Place Field Repetition\n",
    "# Temporal Decoding "
   ]
  },
  {
   "cell_type": "code",
   "execution_count": 1,
   "metadata": {
    "collapsed": true
   },
   "outputs": [],
   "source": [
    "import ratterdam_CoreDataStructures as Core\n",
    "import ratterdam_ParseBehavior as Parse\n",
    "import numpy as np\n",
    "from scipy.stats import sem\n",
    "import utility_fx as util\n",
    "import os\n",
    "import matplotlib.gridspec as gridspec\n",
    "from matplotlib import pyplot as plt\n",
    "import ratterdam_Defaults as Def\n",
    "import ratterdam_visBasic as Vis\n",
    "import RateMapClass_William_20190308 as RateMapClass\n",
    "import williamDefaults as wmDef\n",
    "from matplotlib.backends.backend_pdf import PdfPages\n",
    "import more_itertools, itertools\n",
    "from sklearn.metrics import auc\n",
    "import alphashape\n",
    "from descartes import PolygonPatch\n",
    "from scipy.interpolate import splrep, splev\n",
    "from scipy.spatial import ConvexHull\n",
    "import scipy"
   ]
  },
  {
   "cell_type": "code",
   "execution_count": 2,
   "metadata": {
    "collapsed": true
   },
   "outputs": [],
   "source": [
    "%qtconsole --style native\n",
    "%matplotlib qt5"
   ]
  },
  {
   "cell_type": "code",
   "execution_count": 46,
   "metadata": {
    "collapsed": true
   },
   "outputs": [],
   "source": [
    "def loadRepeatingUnit(df, clustName):\n",
    "    \"\"\"take a path to a data dir\n",
    "    load spikes and position into two np arrays\n",
    "    spikes is (n,1) and pos is typical (3,n) cols of ts,x,y\n",
    "    use cameraOrientationInfo.txt to flip axes if needed\n",
    "    use sessionEpochInfo.txt, specific for open Ratterdam exp\n",
    "    to get session ts and clip spikes/pos\"\"\"\n",
    "    \n",
    "    with open(df+\"sessionEpochInfo.txt\",\"r\") as f:\n",
    "        lines = f.readlines()\n",
    "    start, end = int(lines[0].split(',')[0]), int(lines[0].split(',')[1])\n",
    "    pos = util.read_pos(df)\n",
    "    ts = np.asarray(sorted(list(pos.keys())))\n",
    "    posx, posy = Parse.adjustPosCamera(df, pos, ts)\n",
    "    position = np.column_stack((ts, posx, posy))\n",
    "    position = position[(position[:,0]>=start) & (position[:,0]<=end)]\n",
    "    clust = np.asarray(util.read_clust(df+clustName))\n",
    "    clust = clust[(clust >= start) & (clust <= end)]\n",
    "    spikexy = util.getPosFromTs(clust,position)\n",
    "    spikes = np.column_stack((clust,spikexy))\n",
    "    \n",
    "    return position, spikes\n",
    "\n",
    "class Unit():\n",
    "    \"\"\"\n",
    "    Wrapper class because rep field ID algorithm looks\n",
    "    for instance.spikes and instance.position\n",
    "    \"\"\"\n",
    "    \n",
    "    def __init__(self, s, p, clustname):\n",
    "        self.name = clustname\n",
    "        self.spikes = s\n",
    "        self.position = p\n",
    "        self.fields = []\n",
    "        self.visits = [] # nested list. each list is a subfield and values are themselves lists of points in visit\n",
    "        self.perimeters = [] # has had the convex alg run on it\n",
    "        self.colors = cnames\n",
    "        self.smoothing = 2\n",
    "        self.repUnit = RateMapClass.RateMap(self) # a different unit class from the pf alg someone else wrote\n",
    "        # self.repUnit.PF is a list of pf objects. each object has pf.perimeter as an attribute which is the well-fitting but out of order [x,y] border lists\n",
    "        self.alphaHullFactor = 1\n",
    "        self.alpha = 0\n",
    "        self.findFields()\n",
    "        \n",
    "    def PolyArea(self,x,y):\n",
    "        \"\"\"\n",
    "        Found at https://stackoverflow.com/questions/24467972/calculate-area-of-polygon-given-x-y-coordinates\n",
    "        \"\"\"\n",
    "        return 0.5*np.abs(np.dot(x,np.roll(y,1))-np.dot(y,np.roll(x,1)))\n",
    "        \n",
    "    def findFields(self):\n",
    "        self.fields = []\n",
    "        self.visits = []\n",
    "        for i,pf in enumerate(self.repUnit.PF[:]):\n",
    "            self.visits.append([])\n",
    "            #create boundary using alphahull alg which allows for concave hulls but does not work all that well as is\n",
    "#             alpha = self.alphaHullFactor*alphashape.optimizealpha(list(zip(pf.perimeter[1]*binWidth+binWidth/2, pf.perimeter[0]*binWidth+binWidth/2)))\n",
    "#             hull = alphashape.alphashape(list(zip(pf.perimeter[1]*binWidth+binWidth/2, pf.perimeter[0]*binWidth+binWidth/2)),alpha)\n",
    "#             hxy = hull.exterior.coords.xy\n",
    "#             contour = path.Path(list(zip(hxy[0],hxy[1])))\n",
    "\n",
    "            #create boundary using convex hull\n",
    "            points = np.asarray(list(zip(pf.perimeter[1]*binWidth+binWidth/2, pf.perimeter[0]*binWidth+binWidth/2))) # use this to go from 2d hist coords to camera coords\n",
    "            hull = ConvexHull(points)\n",
    "            vertices = np.append(hull.vertices, hull.vertices[0]) # add the first point to close the contour\n",
    "            contour = path.Path(points[vertices])\n",
    "\n",
    "            PinC = self.position[contour.contains_points(self.position[:,1:])]\n",
    "            posVisits = getVisits(PinC[:,0])\n",
    "            self.visits[-1].append(posVisits)\n",
    "            field_FR = []\n",
    "            field_TS = [] # take middle ts \n",
    "            for visit in posVisits:\n",
    "                spk = self.spikes[np.logical_and(self.spikes[:,0] > visit[0], self.spikes[:,0] < visit[-1])]\n",
    "                vdur = (visit[-1]-visit[0])/1e6 # do this instead of just multiplying number samples by fr because any lost frames from, e.g. occlusions will introduce a discrepancy\n",
    "                field_FR.append(spk.shape[0]/vdur)\n",
    "                field_TS.append(((visit[0]-self.position[0,0])/1e6)/60)\n",
    "                \n",
    "            field_FR = util.weird_smooth(np.asarray(field_FR), self.smoothing)\n",
    "            \n",
    "            totalRate = sum(field_FR)\n",
    "            area = self.PolyArea(pf.perimeter[1]*binWidth+binWidth/2, pf.perimeter[0]*binWidth+binWidth/2)\n",
    "            print(totalRate/area)\n",
    "            if True:\n",
    "                self.fields.append(np.column_stack((field_TS, field_FR)))\n",
    "                self.perimeters.append(points[vertices])\n",
    "                \n",
    "def getVisits(data, maxgap=2*1e6):\n",
    "    \"\"\"\n",
    "    \"\"\"\n",
    "    data.sort()\n",
    "    groups = [[data[0]]]\n",
    "    for x in data[1:]:\n",
    "        if abs(x - groups[-1][-1]) <= maxgap:\n",
    "            groups[-1].append(x)\n",
    "        else:\n",
    "            groups.append([x])\n",
    "    return groups\n",
    "\n",
    "cnames = ['black', 'blue', 'green', 'red', 'brown', 'purple', 'cornflowerblue', 'orchid', 'darkcyan', 'midnightblue', 'saddlebrown', 'darkviolet', 'seagreen', 'indianred', 'goldenrod', 'orange', 'olive']\n",
    "binWidth = wmDef.binWidth\n",
    "from matplotlib import path\n",
    "cmap = util.makeCustomColormap()\n",
    "\n",
    "def plotRoutine_RepPF_TempDyn(unit,smoothing=0, nf=99, time='time', save=False):\n",
    "    \"\"\"\n",
    "    Plotting routine using unit and ratemapclass classes in local namespace\n",
    "    Create a ratemap of fields with detected fields outlined\n",
    "    Below, plot visit FR over time for each field, color coded to match\n",
    "    \n",
    "    \"\"\"\n",
    "    fig, ax = plt.subplots(2,1, figsize=(10,14))\n",
    "    \n",
    "    fig.axes[0].imshow(unit.repUnit.rateMap2D, origin='lower', aspect='auto', interpolation='None', \n",
    "                       cmap=cmap, vmax=np.nanpercentile(unit.repUnit.rateMap2D, 98),\n",
    "                extent=[wmDef.xedges[0], wmDef.xedges[-1], wmDef.yedges[0], wmDef.yedges[-1]])\n",
    "    fig.axes[0].set_title(f\"{clust}, cutoff = {round(np.nanpercentile(unit.repUnit.rateMap2D, 98),2)}Hz\", fontsize=20)\n",
    "    fig.axes[0].axis('equal')\n",
    "    fig.axes[0].set_ylim([0,480])\n",
    "    fig.axes[0].set_xlim([0, 640])\n",
    "    fig.axes[0].set_xticks([])\n",
    "    fig.axes[0].set_yticks([])\n",
    "    fig.axes[0].spines['top'].set_visible(False)\n",
    "    fig.axes[0].spines['right'].set_visible(False)\n",
    "    fig.axes[0].spines['bottom'].set_visible(False)\n",
    "    fig.axes[0].spines['left'].set_visible(False)\n",
    "\n",
    "    #option to not visualize garbage fields. 99 is an 'infinity' value as no cell will have 99 fields. \n",
    "    if nf == 99:\n",
    "        end = len(unit.fields)\n",
    "    else:\n",
    "        end = nf\n",
    "        \n",
    "    for i, field in enumerate(unit.fields[:end]):\n",
    "        f = util.weird_smooth(field[:,1],smoothing)\n",
    "        \n",
    "        if time == 'time':\n",
    "            xval = field[:,0]\n",
    "        elif time  == 'visit' or time == 'visits':\n",
    "            xval = range(field.shape[0])\n",
    "        \n",
    "        fig.axes[1].plot(xval, f, color=unit.colors[i], marker='.',alpha=0.8)\n",
    "        fig.axes[0].plot(unit.perimeters[i][:,0], unit.perimeters[i][:,1],color=unit.colors[i])\n",
    "        fig.axes[1].tick_params(axis='y', labelsize=14)\n",
    "        fig.axes[1].tick_params(axis='x', labelsize=14)\n",
    "        fig.axes[1].set_xlabel(f\"Time in session ({(lambda x: 'min' if x == 'time' else 'visits')(time)})\", fontsize=24)\n",
    "        fig.axes[1].set_ylabel(\"Firing Rate (Hz, smoothed)\", fontsize=24)\n",
    "        fig.axes[1].spines['right'].set_visible(False)\n",
    "        fig.axes[1].spines['top'].set_visible(False)\n",
    "        fig.axes[1].set_title(f\"gaussian smoothing sigma = {smoothing+unit.smoothing}\", fontsize=12)\n",
    "    \n",
    "    if save:\n",
    "        clustname = clust.replace(\"\\\\\",\"_\")\n",
    "        plt.savefig(fname=savepath+clustname+\".png\", format='png')\n",
    "        plt.close()"
   ]
  },
  {
   "cell_type": "code",
   "execution_count": 240,
   "metadata": {},
   "outputs": [
    {
     "name": "stdout",
     "output_type": "stream",
     "text": [
      "0.034339063273122784\n",
      "0.10316680101289039\n",
      "0.6842628520340124\n"
     ]
    },
    {
     "name": "stderr",
     "output_type": "stream",
     "text": [
      "E:\\UserData\\Documents\\GitHub\\ratterdam\\RateMapClass_William_20190308.py:210: RuntimeWarning: invalid value encountered in greater_equal\n",
      "  aboveThreshold = np.where(rateMap >= max(fieldThreshold,0), True, False)\n",
      "C:\\Users\\whockei1\\AppData\\Roaming\\Python\\Python36\\site-packages\\skimage\\morphology\\_deprecated.py:5: skimage_deprecation: Function ``watershed`` is deprecated and will be removed in version 0.19. Use ``skimage.segmentation.watershed`` instead.\n",
      "  def watershed(image, markers=None, connectivity=1, offset=None, mask=None,\n",
      "C:\\Users\\whockei1\\AppData\\Roaming\\Python\\Python36\\site-packages\\skimage\\morphology\\_deprecated.py:5: skimage_deprecation: Function ``watershed`` is deprecated and will be removed in version 0.19. Use ``skimage.segmentation.watershed`` instead.\n",
      "  def watershed(image, markers=None, connectivity=1, offset=None, mask=None,\n",
      "C:\\Users\\whockei1\\AppData\\Local\\Continuum\\anaconda3\\lib\\site-packages\\ipykernel_launcher.py:75: RuntimeWarning: invalid value encountered in double_scalars\n"
     ]
    }
   ],
   "source": [
    "# Take each cell in a day and generate a plot with rate map overlaid w detected field edges\n",
    "# and field dynamics (Fr over time) below\n",
    "rat = \"R808\"\n",
    "day = \"D6\"\n",
    "savepath = f'E:\\\\Ratterdam\\\\{rat}\\\\ratterdam_plots\\\\{day}\\\\'\n",
    "df = f'E:\\Ratterdam\\\\{rat}\\\\{rat}_RatterdamOpen_{day}\\\\'\n",
    "clust = 'TT15\\\\cl-maze1.1'\n",
    "p, s = loadRepeatingUnit(df, clust)\n",
    "unit = Unit(s,p, clust)"
   ]
  },
  {
   "cell_type": "code",
   "execution_count": 4,
   "metadata": {
    "collapsed": true
   },
   "outputs": [],
   "source": [
    "def interpolateField(unit,wnSize=5, wnStep=2,s=5,k=3,plot=True, ret=False):\n",
    "    \"\"\"\n",
    "    Input: A unit object with attribute fields (list of [ts,fr] arrays])\n",
    "           wnSize - size of sliding window in time units (minutes)\n",
    "           wnStep - shift of sliding window in time units (minutes)\n",
    "           s - smoothing of spline\n",
    "           k - degree of spline\n",
    "           \n",
    "    Diagnostic function to view spline interpolation performance. Interp is also done in the analysis itself. \n",
    "    \n",
    "    Uses scipy.interpolate.splrep and splev to create an interpolated representation\n",
    "    of each field. This is because field visits are asynchronous (a rat cannot be in two places at once)\n",
    "    and so to compare activity between fields at a given time point we need to interpolate (unless time window is large)\n",
    "    \n",
    "    The spline rep is contructed in each sliding window with the params above\n",
    "    Returns (optional) xs, ys which are lists of the interpolated points (w overlap bc sliding window)\n",
    "    \"\"\"\n",
    "    fmax = int(np.ceil(max([max(field[:,0]) for field in unit.fields])))\n",
    "    wins = []\n",
    "    for i in range(fmax):\n",
    "        a,b = 0+(i*wnStep), wnSize+(i*wnStep)\n",
    "        if b < np.ceil(fmax):\n",
    "            wins.append((a,b))\n",
    "    # For each field, get the spline params so two fields can be interpolated to same # pts within a window, allowing for a pearson R calc\n",
    "    fieldFx = [splrep(d[:,0], d[:,1], k=k, task=0, s=s) for d in unit.fields]\n",
    "    ## sample spline fx in wins as would be done in analysis and view\n",
    "    nf = len(unit.fields)\n",
    "    xs, ys = [], []\n",
    "    for j in range(nf):\n",
    "        xc, yc = [], []\n",
    "        for w in wins:\n",
    "            start, end = w\n",
    "            x = np.linspace(start, end, 100)\n",
    "            interp= splev(x, fieldFx[j])\n",
    "            xc.append(x)\n",
    "            yc.append(interp)\n",
    "        xs.append(xc)\n",
    "        ys.append(yc)\n",
    "    for i in range(nf):\n",
    "        xs[i] = [item for sublist in xs[i] for item in sublist]\n",
    "        ys[i] = [item for sublist in ys[i] for item in sublist]\n",
    "    if plot:\n",
    "        plt.figure()\n",
    "        for i,c in zip(range(nf),['b','r','g','k']):\n",
    "            plt.plot(xs[i], ys[i],'.',color=c,markersize=4)\n",
    "            plt.plot(unit.fields[i][:,0], unit.fields[i][:,1], color=c)\n",
    "        plt.title(unit.name)\n",
    "    if ret:\n",
    "        return xs, ys"
   ]
  },
  {
   "cell_type": "code",
   "execution_count": 5,
   "metadata": {
    "collapsed": true
   },
   "outputs": [],
   "source": [
    "def plotMats(mats,mattype='diff',shuff='False'):\n",
    "    ncol=10\n",
    "    fig, ax = plt.subplots(int(np.ceil(len(mats)/ncol)),ncol,figsize=(8,8))\n",
    "    _max, _min = max([arr.max() for arr in mats]), min([arr.min() for arr in mats])\n",
    "    for i in range(len(mats)):\n",
    "        im = fig.axes[i].imshow(mats[i], aspect='auto',interpolation='None', cmap=cmap, vmin=_min, vmax=_max)\n",
    "        fig.axes[i].set_title(f\"Mins {wins[i][0]}-{wins[i][1]}\")\n",
    "    fig.subplots_adjust(right=0.8)\n",
    "    cbar_ax = fig.add_axes([0.85, 0.15, 0.05, 0.7])\n",
    "    fig.colorbar(im, cax=cbar_ax)\n",
    "    for i in range(len(fig.axes)):\n",
    "        fig.axes[i].set_xticks([])\n",
    "        fig.axes[i].set_yticks([])\n",
    "    plt.suptitle(f\"{unit.name} Time Varying Unsigned Mean {mattype} Matrices, shuff = {shuff}\", fontsize=20)"
   ]
  },
  {
   "cell_type": "code",
   "execution_count": 6,
   "metadata": {
    "collapsed": true
   },
   "outputs": [],
   "source": [
    "def plotCorrOfMats(mats):\n",
    "    corrOfcorrs = np.empty((len(mats),len(mats)))\n",
    "\n",
    "    for i in range(len(mats)):\n",
    "        for j in range(len(mats)):\n",
    "            corrOfcorrs[i,j] = scipy.stats.pearsonr(mats[i].flatten(),mats[j].flatten())[0]\n",
    "        \n",
    "    plt.figure()\n",
    "    plt.imshow(corrOfcorrs, origin='lower', interpolation='None')\n",
    "    plt.title(\"Autocorrelation Matrix of Difference Matrices\",fontsize=22)\n",
    "    plt.xlabel(\"Difference matrices\",fontsize=16)\n",
    "    plt.ylabel(\"Difference matrices\", fontsize=16)"
   ]
  },
  {
   "cell_type": "code",
   "execution_count": 7,
   "metadata": {
    "collapsed": true
   },
   "outputs": [],
   "source": [
    "def makeSemaphores(fieldArray):\n",
    "    # Semaphore Plot Analysis\n",
    "    s=1\n",
    "    k=3 # should be 3 usually\n",
    "    fieldFx = [splrep(d[:,0], d[:,1], k=k, task=0, s=s) for d in fieldArray]\n",
    "    fmax = int(np.ceil(max([max(field[:,0]) for field in fieldArray])))\n",
    "    wnSize=5\n",
    "    wnStep = 2\n",
    "    wins = []\n",
    "    for i in range(0,fmax):\n",
    "        a,b = 0+(i*wnStep), wnSize+(i*wnStep)\n",
    "        if b < np.ceil(fmax):\n",
    "            wins.append((a,b))\n",
    "\n",
    "    nf = len(fieldArray)\n",
    "    diffmats = []\n",
    "    for w in wins:\n",
    "        start, end = w\n",
    "        corrmat = np.zeros((nf,nf))\n",
    "        diffmat = np.zeros((nf,nf))\n",
    "        for i in range(nf):\n",
    "            for j in range(nf):\n",
    "                x = np.linspace(start, end, 100)\n",
    "                ainterp, binterp = splev(x,fieldFx[i]), splev(x, fieldFx[j])\n",
    "                diff = np.abs(np.mean(ainterp)-np.mean(binterp))\n",
    "                diffmat[i,j] = diff\n",
    "        diffmats.append(diffmat)\n",
    "    diffmats = np.asarray(diffmats)\n",
    "    return diffmats"
   ]
  },
  {
   "cell_type": "code",
   "execution_count": 8,
   "metadata": {
    "collapsed": true
   },
   "outputs": [],
   "source": [
    "def shuffleFields(unit):\n",
    "    \"\"\"\n",
    "    Takes a unit class as input and shuffles the firing rates of each field\n",
    "    w.r.t. time. Returns a list of (n,2) numpy arrays where n is the number of\n",
    "    visits for each field (and thus n varies as a fx of field)\n",
    "    \"\"\"\n",
    "    fields = []\n",
    "    for field in unit.fields:\n",
    "        fields.append(np.column_stack((field[:,0],np.random.permutation(field[:,1]))))\n",
    "    return fields"
   ]
  },
  {
   "cell_type": "markdown",
   "metadata": {},
   "source": [
    "## k-Nearest Neighbor Temporal Analysis\n",
    "### For each point, find n nearest neighbors in vector space and find mean actual distance in the array\n",
    "### Then shuffle the subfield visits, regenerate (null) semaphore plots and repeat (important not to just shuffle semaphores bc sliding window contamination)"
   ]
  },
  {
   "cell_type": "code",
   "execution_count": 241,
   "metadata": {},
   "outputs": [
    {
     "name": "stderr",
     "output_type": "stream",
     "text": [
      "C:\\Users\\whockei1\\AppData\\Local\\Continuum\\anaconda3\\lib\\site-packages\\matplotlib\\colorbar.py:215: UserWarning: Use the colorbar set_ticks() method instead.\n",
      "  warnings.warn(\"Use the colorbar set_ticks() method instead.\")\n"
     ]
    }
   ],
   "source": [
    "# Create real and 1 null semaphore and plot, just to look\n",
    "diffmats = makeSemaphores(unit.fields)\n",
    "\n",
    "sfields = shuffleFields(unit)\n",
    "smats = makeSemaphores(sfields)\n",
    "\n",
    "plotMats(diffmats,shuff=False)\n",
    "plotMats(smats,shuff=True)"
   ]
  },
  {
   "cell_type": "code",
   "execution_count": 242,
   "metadata": {},
   "outputs": [
    {
     "name": "stderr",
     "output_type": "stream",
     "text": [
      "C:\\Users\\whockei1\\AppData\\Local\\Continuum\\anaconda3\\lib\\site-packages\\scipy\\interpolate\\_fitpack_impl.py:512: RuntimeWarning: A theoretically impossible result when finding a smoothing spline\n",
      "with fp = s. Probable cause: s too small. (abs(fp-s)/s>0.001)\n",
      "  warnings.warn(RuntimeWarning(_iermess[ier][0]))\n",
      "C:\\Users\\whockei1\\AppData\\Local\\Continuum\\anaconda3\\lib\\site-packages\\scipy\\interpolate\\_fitpack_impl.py:512: RuntimeWarning: The maximal number of iterations (20) allowed for finding smoothing\n",
      "spline with fp=s has been reached. Probable cause: s too small.\n",
      "(abs(fp-s)/s>0.001)\n",
      "  warnings.warn(RuntimeWarning(_iermess[ier][0]))\n",
      "C:\\Users\\whockei1\\AppData\\Local\\Continuum\\anaconda3\\lib\\site-packages\\scipy\\interpolate\\_fitpack_impl.py:512: RuntimeWarning: A theoretically impossible result when finding a smoothing spline\n",
      "with fp = s. Probable cause: s too small. (abs(fp-s)/s>0.001)\n",
      "  warnings.warn(RuntimeWarning(_iermess[ier][0]))\n",
      "C:\\Users\\whockei1\\AppData\\Local\\Continuum\\anaconda3\\lib\\site-packages\\scipy\\interpolate\\_fitpack_impl.py:512: RuntimeWarning: The maximal number of iterations (20) allowed for finding smoothing\n",
      "spline with fp=s has been reached. Probable cause: s too small.\n",
      "(abs(fp-s)/s>0.001)\n",
      "  warnings.warn(RuntimeWarning(_iermess[ier][0]))\n",
      "C:\\Users\\whockei1\\AppData\\Local\\Continuum\\anaconda3\\lib\\site-packages\\scipy\\interpolate\\_fitpack_impl.py:512: RuntimeWarning: A theoretically impossible result when finding a smoothing spline\n",
      "with fp = s. Probable cause: s too small. (abs(fp-s)/s>0.001)\n",
      "  warnings.warn(RuntimeWarning(_iermess[ier][0]))\n",
      "C:\\Users\\whockei1\\AppData\\Local\\Continuum\\anaconda3\\lib\\site-packages\\scipy\\interpolate\\_fitpack_impl.py:512: RuntimeWarning: A theoretically impossible result when finding a smoothing spline\n",
      "with fp = s. Probable cause: s too small. (abs(fp-s)/s>0.001)\n",
      "  warnings.warn(RuntimeWarning(_iermess[ier][0]))\n",
      "C:\\Users\\whockei1\\AppData\\Local\\Continuum\\anaconda3\\lib\\site-packages\\scipy\\interpolate\\_fitpack_impl.py:512: RuntimeWarning: A theoretically impossible result when finding a smoothing spline\n",
      "with fp = s. Probable cause: s too small. (abs(fp-s)/s>0.001)\n",
      "  warnings.warn(RuntimeWarning(_iermess[ier][0]))\n",
      "C:\\Users\\whockei1\\AppData\\Local\\Continuum\\anaconda3\\lib\\site-packages\\scipy\\interpolate\\_fitpack_impl.py:512: RuntimeWarning: A theoretically impossible result when finding a smoothing spline\n",
      "with fp = s. Probable cause: s too small. (abs(fp-s)/s>0.001)\n",
      "  warnings.warn(RuntimeWarning(_iermess[ier][0]))\n"
     ]
    }
   ],
   "source": [
    "# kNN analysis\n",
    "ns = 1000 # num shuffles\n",
    "# real\n",
    "flatmats = [i.flatten() for i in diffmats]\n",
    "neigh = NearestNeighbors(n_neighbors=2).fit(flatmats)\n",
    "d,idx = neigh.kneighbors(flatmats)\n",
    "meanDist = np.mean(np.abs(np.diff(idx)))\n",
    "meanvecDist = np.mean(d[:,1])\n",
    "\n",
    "# shuffle\n",
    "shuffmeanIdxDists = []\n",
    "shuffmeanVecDists = []\n",
    "for n in range(ns):\n",
    "    sfields = shuffleFields(unit)\n",
    "    smats = makeSemaphores(sfields)\n",
    "    flatsmats = [i.flatten() for i in smats]\n",
    "    sneigh = NearestNeighbors(n_neighbors=2).fit(flatsmats)\n",
    "    sd,sidx = sneigh.kneighbors(flatsmats)\n",
    "    smeanDist = np.mean(np.abs(np.diff(sidx)))\n",
    "    shuffmeanDists.append(smeanDist)\n",
    "    smeanvecDist = np.mean(sd[:,1])\n",
    "    if smeanvecDist < 1000: # some shuff values are like 10e19. Maybe related to the 'impossible result' runtime error?\n",
    "        shuffmeanVecDists.append(smeanvecDist)"
   ]
  },
  {
   "cell_type": "code",
   "execution_count": 243,
   "metadata": {},
   "outputs": [
    {
     "data": {
      "text/plain": [
       "Text(0.5,1,'Average Vector Distance kNN vs Shuffle')"
      ]
     },
     "execution_count": 243,
     "metadata": {},
     "output_type": "execute_result"
    }
   ],
   "source": [
    "plt.figure()\n",
    "plt.hist(shuffmeanDists,bins=15)\n",
    "plt.vlines(meanDist,0,160,'r')\n",
    "np.percentile(shuffmeanDists,5)\n",
    "null5pct = np.percentile(shuffmeanDists,5)\n",
    "plt.vlines(null5pct,0,160,'k')\n",
    "plt.title(\"Average Index Distance kNN vs Shuffle\")\n",
    "\n",
    "plt.figure()\n",
    "plt.hist(shuffmeanVecDists,bins=100)\n",
    "plt.vlines(meanvecDist,0,160,'r')\n",
    "np.percentile(shuffmeanVecDists,5)\n",
    "null5pct = np.percentile(shuffmeanVecDists,5)\n",
    "plt.vlines(null5pct,0,160,'k')\n",
    "plt.title(\"Average Vector Distance kNN vs Shuffle\")"
   ]
  },
  {
   "cell_type": "markdown",
   "metadata": {},
   "source": [
    "### kNN Classification - Temporal Epoch\n",
    "### Divide session into n epochs, try to decode. Standard train/test classification"
   ]
  },
  {
   "cell_type": "code",
   "execution_count": 299,
   "metadata": {
    "collapsed": true
   },
   "outputs": [],
   "source": [
    "# Setup parameters and setup data\n",
    "n = 3\n",
    "testProp = 0.33\n",
    "idx = np.ceil(np.linspace(0,len(diffmats),n+1)).astype(np.int)\n",
    "diffmats = makeSemaphores(unit.fields)\n",
    "flatmats = np.asarray([i.flatten() for i in diffmats])\n",
    "split = np.split(flatmats,idx)\n",
    "labels = []\n",
    "for i in range(len(idx)-1):\n",
    "    l= idx[i+1]-idx[i]\n",
    "    labels.extend([i]*l)\n",
    "labels = np.asarray(labels)"
   ]
  },
  {
   "cell_type": "code",
   "execution_count": 300,
   "metadata": {},
   "outputs": [
    {
     "data": {
      "text/plain": [
       "Text(0.5,1,'kNN Classifier of Semaphore Plots, 3 Epochs, 500 runs')"
      ]
     },
     "execution_count": 300,
     "metadata": {},
     "output_type": "execute_result"
    }
   ],
   "source": [
    "# real\n",
    "rep = 500\n",
    "perfs = []\n",
    "for i in range(rep):\n",
    "    train, test = train_test_split(list(range(len(diffmats))), test_size=testProp)\n",
    "    Xtrain, Xtest, Ytrain, Ytest = flatmats[train], flatmats[test], labels[train], labels[test]\n",
    "    neigh = KNeighborsClassifier(n_neighbors=2)\n",
    "    neigh.fit(Xtrain, Ytrain)\n",
    "    perfs.append(sum(Ytest==neigh.predict(Xtest))/len(Xtest))  \n",
    "real5pct = np.percentile(perfs,5)\n",
    "plt.figure()\n",
    "plt.hist(perfs)\n",
    "plt.vlines(real5pct,0,100,'r')\n",
    "plt.vlines(1/3,0,100,'grey')\n",
    "plt.title(f\"kNN Classifier of Semaphore Plots, {n} Epochs, {rep} runs\", fontsize=18)"
   ]
  },
  {
   "cell_type": "code",
   "execution_count": 302,
   "metadata": {},
   "outputs": [
    {
     "name": "stderr",
     "output_type": "stream",
     "text": [
      "C:\\Users\\whockei1\\AppData\\Local\\Continuum\\anaconda3\\lib\\site-packages\\scipy\\interpolate\\_fitpack_impl.py:512: RuntimeWarning: A theoretically impossible result when finding a smoothing spline\n",
      "with fp = s. Probable cause: s too small. (abs(fp-s)/s>0.001)\n",
      "  warnings.warn(RuntimeWarning(_iermess[ier][0]))\n",
      "C:\\Users\\whockei1\\AppData\\Local\\Continuum\\anaconda3\\lib\\site-packages\\scipy\\interpolate\\_fitpack_impl.py:512: RuntimeWarning: A theoretically impossible result when finding a smoothing spline\n",
      "with fp = s. Probable cause: s too small. (abs(fp-s)/s>0.001)\n",
      "  warnings.warn(RuntimeWarning(_iermess[ier][0]))\n",
      "C:\\Users\\whockei1\\AppData\\Local\\Continuum\\anaconda3\\lib\\site-packages\\scipy\\interpolate\\_fitpack_impl.py:512: RuntimeWarning: The maximal number of iterations (20) allowed for finding smoothing\n",
      "spline with fp=s has been reached. Probable cause: s too small.\n",
      "(abs(fp-s)/s>0.001)\n",
      "  warnings.warn(RuntimeWarning(_iermess[ier][0]))\n"
     ]
    },
    {
     "data": {
      "text/plain": [
       "Text(0.5,1,'kNN Classifier of Semaphore Plots, 3 Epochs, 500 runs, shuff')"
      ]
     },
     "execution_count": 302,
     "metadata": {},
     "output_type": "execute_result"
    }
   ],
   "source": [
    "# shuffle\n",
    "rep = 500\n",
    "perfs = []\n",
    "for i in range(rep):\n",
    "    sfields = shuffleFields(unit)\n",
    "    smats = makeSemaphores(sfields)\n",
    "    flatsmats = np.asarray([i.flatten() for i in smats])\n",
    "    \n",
    "    train, test = train_test_split(list(range(len(flatsmats))), test_size=testProp)\n",
    "    Xtrain, Xtest, Ytrain, Ytest = flatsmats[train], flatsmats[test], labels[train], labels[test]\n",
    "    neigh = KNeighborsClassifier(n_neighbors=2)\n",
    "    neigh.fit(Xtrain, Ytrain)\n",
    "    perfs.append(sum(Ytest==neigh.predict(Xtest))/len(Xtest))  \n",
    "    \n",
    "real5pct = np.percentile(perfs,5)\n",
    "plt.figure()\n",
    "plt.hist(perfs)\n",
    "plt.vlines(real5pct,0,100,'r')\n",
    "plt.vlines(1/3,0,100,'grey')\n",
    "plt.title(f\"kNN Classifier of Semaphore Plots, {n} Epochs, {rep} runs, shuff visits within field\", fontsize=18)"
   ]
  },
  {
   "cell_type": "markdown",
   "metadata": {},
   "source": [
    "## kNN Classification - Same cell fields vs different cell fields\n",
    "### Performing a kNN classification (predicting what 1/3 of the session a semaphore came from) using \n",
    "### the actual fields of a cell (like done above) or shuffling fields between cells (maintaining the real # fields/cell)"
   ]
  },
  {
   "cell_type": "code",
   "execution_count": 34,
   "metadata": {
    "collapsed": true
   },
   "outputs": [],
   "source": [
    "# create a list of fields - all the fields from all the units. randomly grab from this\n",
    "allfields = []\n",
    "for u in population.values():\n",
    "    allfields.extend(u.fields)"
   ]
  },
  {
   "cell_type": "code",
   "execution_count": 36,
   "metadata": {
    "collapsed": true
   },
   "outputs": [],
   "source": [
    "class GuttedUnit():\n",
    "    \n",
    "    def __init__(self):\n",
    "        self.fields = []"
   ]
  },
  {
   "cell_type": "code",
   "execution_count": 37,
   "metadata": {
    "collapsed": true
   },
   "outputs": [],
   "source": [
    "def createShuffledUnit(unit, allfields):\n",
    "    \"\"\"\n",
    "    Input - unit: a unit object. unit.fields is a list of (n,2) arrays. Each entry is [ts,fr] where ts is in min and fr is in Hz\n",
    "          - allfields: a list of all fields from the population of repeating units. Each entry is a (n,2) array. Each entry is [ts,fr] where ts is in min and fr is in Hz          \n",
    "    This function will take a unit object and draw randomly from all the fields from all rep cells that day and assign to a 'field shuffled unit' (matching the # real fields / cell)   \n",
    "    Return - a stripped down unit object (only has fields as attribute) with the scrambled fields\n",
    "    \"\"\"\n",
    "    selectedFields = [allfields[i] for i in np.random.randint(0,len(allfields), len(unit.fields))]\n",
    "    sunit = GuttedUnit()\n",
    "    sunit.fields = selectedFields\n",
    "    return sunit"
   ]
  },
  {
   "cell_type": "code",
   "execution_count": 65,
   "metadata": {},
   "outputs": [],
   "source": [
    "# Setup parameters and setup data\n",
    "clust = 'TT12\\\\cl-maze1.7'\n",
    "n = 3 # number of temporal epochs to decode\n",
    "#nshuffles = int(scipy.special.comb(len(allfields), len(population[clust].fields))) # shuffling fields between cells is nCr and is usually not that big given the data so compute what it is and use that\n",
    "nshuffles = 1000\n",
    "testProp = 0.33\n",
    "diffmats = makeSemaphores(population[clust].fields)\n",
    "idx = np.ceil(np.linspace(0,len(diffmats),n+1)).astype(np.int)\n",
    "flatmats = np.asarray([i.flatten() for i in diffmats])\n",
    "labels = []\n",
    "for i in range(len(idx)-1):\n",
    "    l= idx[i+1]-idx[i]\n",
    "    labels.extend([i]*l)\n",
    "labels = np.asarray(labels)"
   ]
  },
  {
   "cell_type": "code",
   "execution_count": 60,
   "metadata": {},
   "outputs": [
    {
     "data": {
      "text/plain": [
       "(array([  0.,  25.,  50.,  75., 100., 125., 150., 175., 200.]),\n",
       " <a list of 9 Text yticklabel objects>)"
      ]
     },
     "execution_count": 60,
     "metadata": {},
     "output_type": "execute_result"
    }
   ],
   "source": [
    "# real\n",
    "diffmats = makeSemaphores(population[clust].fields)\n",
    "flatmats = np.asarray([i.flatten() for i in diffmats])\n",
    "rep = 500 # this is technical replicates - seeing variability due to e.g. which samples in train/test. In no way comparable to shuffling distribution. Just report avg or something\n",
    "rperfs = []\n",
    "for i in range(rep):\n",
    "    train, test = train_test_split(list(range(len(diffmats))), test_size=testProp)\n",
    "    Xtrain, Xtest, Ytrain, Ytest = flatmats[train], flatmats[test], labels[train], labels[test]\n",
    "    neigh = KNeighborsClassifier(n_neighbors=2)\n",
    "    neigh.fit(Xtrain, Ytrain)\n",
    "    rperfs.append(sum(Ytest==neigh.predict(Xtest))/len(Xtest))  \n",
    "real5pct = np.percentile(rperfs,5)\n",
    "plt.figure()\n",
    "plt.hist(rperfs)\n",
    "plt.vlines(real5pct,0,100,'r')\n",
    "plt.vlines(1/3,0,100,'grey')\n",
    "plt.title(f\"kNN Classifier of Semaphore Plots, {n} Epochs, {rep} runs, real\", fontsize=18)\n",
    "plt.xticks(fontsize=18)\n",
    "plt.yticks(fontsize=18)"
   ]
  },
  {
   "cell_type": "code",
   "execution_count": 67,
   "metadata": {},
   "outputs": [
    {
     "data": {
      "text/plain": [
       "(array([  0.,  50., 100., 150., 200., 250.]),\n",
       " <a list of 6 Text yticklabel objects>)"
      ]
     },
     "execution_count": 67,
     "metadata": {},
     "output_type": "execute_result"
    }
   ],
   "source": [
    "# shuffled fields between units (each field real, ownership is shuffled)\n",
    "diffmats = makeSemaphores(population[clust].fields)\n",
    "flatmats = np.asarray([i.flatten() for i in diffmats])\n",
    "sfperfs = []\n",
    "for r in range(nshuffles):\n",
    "    sunit = createShuffledUnit(population[clust], allfields)\n",
    "    diffmats = makeSemaphores(sunit.fields)\n",
    "    flatmats = np.asarray([i.flatten() for i in diffmats])\n",
    "    \n",
    "    train, test = train_test_split(list(range(len(diffmats))), test_size=testProp)\n",
    "    Xtrain, Xtest, Ytrain, Ytest = flatmats[train], flatmats[test], labels[train], labels[test]\n",
    "    neigh = KNeighborsClassifier(n_neighbors=2)\n",
    "    neigh.fit(Xtrain, Ytrain)\n",
    "    sfperfs.append(sum(Ytest==neigh.predict(Xtest))/len(Xtest))  \n",
    "    \n",
    "real5pct = np.percentile(sfperfs,5)\n",
    "plt.figure()\n",
    "plt.hist(sfperfs)\n",
    "plt.vlines(real5pct,0,100,'r')\n",
    "plt.vlines(1/3,0,100,'grey')\n",
    "plt.title(f\"kNN Classifier of Semaphore Plots, {n} Epochs, {nshuffles} runs, Shuff Fields Between Cells\", fontsize=18)\n",
    "plt.xticks(fontsize=18)\n",
    "plt.yticks(fontsize=18)"
   ]
  },
  {
   "cell_type": "code",
   "execution_count": 73,
   "metadata": {},
   "outputs": [
    {
     "name": "stderr",
     "output_type": "stream",
     "text": [
      "C:\\Users\\whockei1\\AppData\\Local\\Continuum\\anaconda3\\lib\\site-packages\\scipy\\interpolate\\_fitpack_impl.py:512: RuntimeWarning: The maximal number of iterations (20) allowed for finding smoothing\n",
      "spline with fp=s has been reached. Probable cause: s too small.\n",
      "(abs(fp-s)/s>0.001)\n",
      "  warnings.warn(RuntimeWarning(_iermess[ier][0]))\n",
      "C:\\Users\\whockei1\\AppData\\Local\\Continuum\\anaconda3\\lib\\site-packages\\scipy\\interpolate\\_fitpack_impl.py:512: RuntimeWarning: A theoretically impossible result when finding a smoothing spline\n",
      "with fp = s. Probable cause: s too small. (abs(fp-s)/s>0.001)\n",
      "  warnings.warn(RuntimeWarning(_iermess[ier][0]))\n",
      "C:\\Users\\whockei1\\AppData\\Local\\Continuum\\anaconda3\\lib\\site-packages\\scipy\\interpolate\\_fitpack_impl.py:512: RuntimeWarning: A theoretically impossible result when finding a smoothing spline\n",
      "with fp = s. Probable cause: s too small. (abs(fp-s)/s>0.001)\n",
      "  warnings.warn(RuntimeWarning(_iermess[ier][0]))\n",
      "C:\\Users\\whockei1\\AppData\\Local\\Continuum\\anaconda3\\lib\\site-packages\\scipy\\interpolate\\_fitpack_impl.py:512: RuntimeWarning: A theoretically impossible result when finding a smoothing spline\n",
      "with fp = s. Probable cause: s too small. (abs(fp-s)/s>0.001)\n",
      "  warnings.warn(RuntimeWarning(_iermess[ier][0]))\n",
      "C:\\Users\\whockei1\\AppData\\Local\\Continuum\\anaconda3\\lib\\site-packages\\scipy\\interpolate\\_fitpack_impl.py:512: RuntimeWarning: A theoretically impossible result when finding a smoothing spline\n",
      "with fp = s. Probable cause: s too small. (abs(fp-s)/s>0.001)\n",
      "  warnings.warn(RuntimeWarning(_iermess[ier][0]))\n",
      "C:\\Users\\whockei1\\AppData\\Local\\Continuum\\anaconda3\\lib\\site-packages\\scipy\\interpolate\\_fitpack_impl.py:512: RuntimeWarning: A theoretically impossible result when finding a smoothing spline\n",
      "with fp = s. Probable cause: s too small. (abs(fp-s)/s>0.001)\n",
      "  warnings.warn(RuntimeWarning(_iermess[ier][0]))\n",
      "C:\\Users\\whockei1\\AppData\\Local\\Continuum\\anaconda3\\lib\\site-packages\\scipy\\interpolate\\_fitpack_impl.py:512: RuntimeWarning: A theoretically impossible result when finding a smoothing spline\n",
      "with fp = s. Probable cause: s too small. (abs(fp-s)/s>0.001)\n",
      "  warnings.warn(RuntimeWarning(_iermess[ier][0]))\n",
      "C:\\Users\\whockei1\\AppData\\Local\\Continuum\\anaconda3\\lib\\site-packages\\scipy\\interpolate\\_fitpack_impl.py:512: RuntimeWarning: A theoretically impossible result when finding a smoothing spline\n",
      "with fp = s. Probable cause: s too small. (abs(fp-s)/s>0.001)\n",
      "  warnings.warn(RuntimeWarning(_iermess[ier][0]))\n",
      "C:\\Users\\whockei1\\AppData\\Local\\Continuum\\anaconda3\\lib\\site-packages\\scipy\\interpolate\\_fitpack_impl.py:512: RuntimeWarning: A theoretically impossible result when finding a smoothing spline\n",
      "with fp = s. Probable cause: s too small. (abs(fp-s)/s>0.001)\n",
      "  warnings.warn(RuntimeWarning(_iermess[ier][0]))\n",
      "C:\\Users\\whockei1\\AppData\\Local\\Continuum\\anaconda3\\lib\\site-packages\\scipy\\interpolate\\_fitpack_impl.py:512: RuntimeWarning: The maximal number of iterations (20) allowed for finding smoothing\n",
      "spline with fp=s has been reached. Probable cause: s too small.\n",
      "(abs(fp-s)/s>0.001)\n",
      "  warnings.warn(RuntimeWarning(_iermess[ier][0]))\n",
      "C:\\Users\\whockei1\\AppData\\Local\\Continuum\\anaconda3\\lib\\site-packages\\scipy\\interpolate\\_fitpack_impl.py:512: RuntimeWarning: A theoretically impossible result when finding a smoothing spline\n",
      "with fp = s. Probable cause: s too small. (abs(fp-s)/s>0.001)\n",
      "  warnings.warn(RuntimeWarning(_iermess[ier][0]))\n",
      "C:\\Users\\whockei1\\AppData\\Local\\Continuum\\anaconda3\\lib\\site-packages\\scipy\\interpolate\\_fitpack_impl.py:512: RuntimeWarning: A theoretically impossible result when finding a smoothing spline\n",
      "with fp = s. Probable cause: s too small. (abs(fp-s)/s>0.001)\n",
      "  warnings.warn(RuntimeWarning(_iermess[ier][0]))\n",
      "C:\\Users\\whockei1\\AppData\\Local\\Continuum\\anaconda3\\lib\\site-packages\\scipy\\interpolate\\_fitpack_impl.py:512: RuntimeWarning: A theoretically impossible result when finding a smoothing spline\n",
      "with fp = s. Probable cause: s too small. (abs(fp-s)/s>0.001)\n",
      "  warnings.warn(RuntimeWarning(_iermess[ier][0]))\n",
      "C:\\Users\\whockei1\\AppData\\Local\\Continuum\\anaconda3\\lib\\site-packages\\scipy\\interpolate\\_fitpack_impl.py:512: RuntimeWarning: A theoretically impossible result when finding a smoothing spline\n",
      "with fp = s. Probable cause: s too small. (abs(fp-s)/s>0.001)\n",
      "  warnings.warn(RuntimeWarning(_iermess[ier][0]))\n",
      "C:\\Users\\whockei1\\AppData\\Local\\Continuum\\anaconda3\\lib\\site-packages\\scipy\\interpolate\\_fitpack_impl.py:512: RuntimeWarning: A theoretically impossible result when finding a smoothing spline\n",
      "with fp = s. Probable cause: s too small. (abs(fp-s)/s>0.001)\n",
      "  warnings.warn(RuntimeWarning(_iermess[ier][0]))\n",
      "C:\\Users\\whockei1\\AppData\\Local\\Continuum\\anaconda3\\lib\\site-packages\\scipy\\interpolate\\_fitpack_impl.py:512: RuntimeWarning: A theoretically impossible result when finding a smoothing spline\n",
      "with fp = s. Probable cause: s too small. (abs(fp-s)/s>0.001)\n",
      "  warnings.warn(RuntimeWarning(_iermess[ier][0]))\n",
      "C:\\Users\\whockei1\\AppData\\Local\\Continuum\\anaconda3\\lib\\site-packages\\scipy\\interpolate\\_fitpack_impl.py:512: RuntimeWarning: A theoretically impossible result when finding a smoothing spline\n",
      "with fp = s. Probable cause: s too small. (abs(fp-s)/s>0.001)\n",
      "  warnings.warn(RuntimeWarning(_iermess[ier][0]))\n",
      "C:\\Users\\whockei1\\AppData\\Local\\Continuum\\anaconda3\\lib\\site-packages\\scipy\\interpolate\\_fitpack_impl.py:512: RuntimeWarning: A theoretically impossible result when finding a smoothing spline\n",
      "with fp = s. Probable cause: s too small. (abs(fp-s)/s>0.001)\n",
      "  warnings.warn(RuntimeWarning(_iermess[ier][0]))\n",
      "C:\\Users\\whockei1\\AppData\\Local\\Continuum\\anaconda3\\lib\\site-packages\\scipy\\interpolate\\_fitpack_impl.py:512: RuntimeWarning: A theoretically impossible result when finding a smoothing spline\n",
      "with fp = s. Probable cause: s too small. (abs(fp-s)/s>0.001)\n",
      "  warnings.warn(RuntimeWarning(_iermess[ier][0]))\n",
      "C:\\Users\\whockei1\\AppData\\Local\\Continuum\\anaconda3\\lib\\site-packages\\scipy\\interpolate\\_fitpack_impl.py:512: RuntimeWarning: A theoretically impossible result when finding a smoothing spline\n",
      "with fp = s. Probable cause: s too small. (abs(fp-s)/s>0.001)\n",
      "  warnings.warn(RuntimeWarning(_iermess[ier][0]))\n",
      "C:\\Users\\whockei1\\AppData\\Local\\Continuum\\anaconda3\\lib\\site-packages\\scipy\\interpolate\\_fitpack_impl.py:512: RuntimeWarning: A theoretically impossible result when finding a smoothing spline\n",
      "with fp = s. Probable cause: s too small. (abs(fp-s)/s>0.001)\n",
      "  warnings.warn(RuntimeWarning(_iermess[ier][0]))\n",
      "C:\\Users\\whockei1\\AppData\\Local\\Continuum\\anaconda3\\lib\\site-packages\\scipy\\interpolate\\_fitpack_impl.py:512: RuntimeWarning: A theoretically impossible result when finding a smoothing spline\n",
      "with fp = s. Probable cause: s too small. (abs(fp-s)/s>0.001)\n",
      "  warnings.warn(RuntimeWarning(_iermess[ier][0]))\n",
      "C:\\Users\\whockei1\\AppData\\Local\\Continuum\\anaconda3\\lib\\site-packages\\scipy\\interpolate\\_fitpack_impl.py:512: RuntimeWarning: A theoretically impossible result when finding a smoothing spline\n",
      "with fp = s. Probable cause: s too small. (abs(fp-s)/s>0.001)\n",
      "  warnings.warn(RuntimeWarning(_iermess[ier][0]))\n",
      "C:\\Users\\whockei1\\AppData\\Local\\Continuum\\anaconda3\\lib\\site-packages\\scipy\\interpolate\\_fitpack_impl.py:512: RuntimeWarning: A theoretically impossible result when finding a smoothing spline\n",
      "with fp = s. Probable cause: s too small. (abs(fp-s)/s>0.001)\n",
      "  warnings.warn(RuntimeWarning(_iermess[ier][0]))\n",
      "C:\\Users\\whockei1\\AppData\\Local\\Continuum\\anaconda3\\lib\\site-packages\\scipy\\interpolate\\_fitpack_impl.py:512: RuntimeWarning: A theoretically impossible result when finding a smoothing spline\n",
      "with fp = s. Probable cause: s too small. (abs(fp-s)/s>0.001)\n",
      "  warnings.warn(RuntimeWarning(_iermess[ier][0]))\n",
      "C:\\Users\\whockei1\\AppData\\Local\\Continuum\\anaconda3\\lib\\site-packages\\scipy\\interpolate\\_fitpack_impl.py:512: RuntimeWarning: A theoretically impossible result when finding a smoothing spline\n",
      "with fp = s. Probable cause: s too small. (abs(fp-s)/s>0.001)\n",
      "  warnings.warn(RuntimeWarning(_iermess[ier][0]))\n",
      "C:\\Users\\whockei1\\AppData\\Local\\Continuum\\anaconda3\\lib\\site-packages\\scipy\\interpolate\\_fitpack_impl.py:512: RuntimeWarning: A theoretically impossible result when finding a smoothing spline\n",
      "with fp = s. Probable cause: s too small. (abs(fp-s)/s>0.001)\n",
      "  warnings.warn(RuntimeWarning(_iermess[ier][0]))\n"
     ]
    },
    {
     "name": "stderr",
     "output_type": "stream",
     "text": [
      "C:\\Users\\whockei1\\AppData\\Local\\Continuum\\anaconda3\\lib\\site-packages\\scipy\\interpolate\\_fitpack_impl.py:512: RuntimeWarning: A theoretically impossible result when finding a smoothing spline\n",
      "with fp = s. Probable cause: s too small. (abs(fp-s)/s>0.001)\n",
      "  warnings.warn(RuntimeWarning(_iermess[ier][0]))\n",
      "C:\\Users\\whockei1\\AppData\\Local\\Continuum\\anaconda3\\lib\\site-packages\\scipy\\interpolate\\_fitpack_impl.py:512: RuntimeWarning: A theoretically impossible result when finding a smoothing spline\n",
      "with fp = s. Probable cause: s too small. (abs(fp-s)/s>0.001)\n",
      "  warnings.warn(RuntimeWarning(_iermess[ier][0]))\n",
      "C:\\Users\\whockei1\\AppData\\Local\\Continuum\\anaconda3\\lib\\site-packages\\scipy\\interpolate\\_fitpack_impl.py:512: RuntimeWarning: A theoretically impossible result when finding a smoothing spline\n",
      "with fp = s. Probable cause: s too small. (abs(fp-s)/s>0.001)\n",
      "  warnings.warn(RuntimeWarning(_iermess[ier][0]))\n",
      "C:\\Users\\whockei1\\AppData\\Local\\Continuum\\anaconda3\\lib\\site-packages\\scipy\\interpolate\\_fitpack_impl.py:512: RuntimeWarning: A theoretically impossible result when finding a smoothing spline\n",
      "with fp = s. Probable cause: s too small. (abs(fp-s)/s>0.001)\n",
      "  warnings.warn(RuntimeWarning(_iermess[ier][0]))\n",
      "C:\\Users\\whockei1\\AppData\\Local\\Continuum\\anaconda3\\lib\\site-packages\\scipy\\interpolate\\_fitpack_impl.py:512: RuntimeWarning: A theoretically impossible result when finding a smoothing spline\n",
      "with fp = s. Probable cause: s too small. (abs(fp-s)/s>0.001)\n",
      "  warnings.warn(RuntimeWarning(_iermess[ier][0]))\n",
      "C:\\Users\\whockei1\\AppData\\Local\\Continuum\\anaconda3\\lib\\site-packages\\scipy\\interpolate\\_fitpack_impl.py:512: RuntimeWarning: A theoretically impossible result when finding a smoothing spline\n",
      "with fp = s. Probable cause: s too small. (abs(fp-s)/s>0.001)\n",
      "  warnings.warn(RuntimeWarning(_iermess[ier][0]))\n",
      "C:\\Users\\whockei1\\AppData\\Local\\Continuum\\anaconda3\\lib\\site-packages\\scipy\\interpolate\\_fitpack_impl.py:512: RuntimeWarning: A theoretically impossible result when finding a smoothing spline\n",
      "with fp = s. Probable cause: s too small. (abs(fp-s)/s>0.001)\n",
      "  warnings.warn(RuntimeWarning(_iermess[ier][0]))\n",
      "C:\\Users\\whockei1\\AppData\\Local\\Continuum\\anaconda3\\lib\\site-packages\\scipy\\interpolate\\_fitpack_impl.py:512: RuntimeWarning: A theoretically impossible result when finding a smoothing spline\n",
      "with fp = s. Probable cause: s too small. (abs(fp-s)/s>0.001)\n",
      "  warnings.warn(RuntimeWarning(_iermess[ier][0]))\n",
      "C:\\Users\\whockei1\\AppData\\Local\\Continuum\\anaconda3\\lib\\site-packages\\scipy\\interpolate\\_fitpack_impl.py:512: RuntimeWarning: A theoretically impossible result when finding a smoothing spline\n",
      "with fp = s. Probable cause: s too small. (abs(fp-s)/s>0.001)\n",
      "  warnings.warn(RuntimeWarning(_iermess[ier][0]))\n",
      "C:\\Users\\whockei1\\AppData\\Local\\Continuum\\anaconda3\\lib\\site-packages\\scipy\\interpolate\\_fitpack_impl.py:512: RuntimeWarning: A theoretically impossible result when finding a smoothing spline\n",
      "with fp = s. Probable cause: s too small. (abs(fp-s)/s>0.001)\n",
      "  warnings.warn(RuntimeWarning(_iermess[ier][0]))\n",
      "C:\\Users\\whockei1\\AppData\\Local\\Continuum\\anaconda3\\lib\\site-packages\\scipy\\interpolate\\_fitpack_impl.py:512: RuntimeWarning: A theoretically impossible result when finding a smoothing spline\n",
      "with fp = s. Probable cause: s too small. (abs(fp-s)/s>0.001)\n",
      "  warnings.warn(RuntimeWarning(_iermess[ier][0]))\n",
      "C:\\Users\\whockei1\\AppData\\Local\\Continuum\\anaconda3\\lib\\site-packages\\scipy\\interpolate\\_fitpack_impl.py:512: RuntimeWarning: The maximal number of iterations (20) allowed for finding smoothing\n",
      "spline with fp=s has been reached. Probable cause: s too small.\n",
      "(abs(fp-s)/s>0.001)\n",
      "  warnings.warn(RuntimeWarning(_iermess[ier][0]))\n",
      "C:\\Users\\whockei1\\AppData\\Local\\Continuum\\anaconda3\\lib\\site-packages\\scipy\\interpolate\\_fitpack_impl.py:512: RuntimeWarning: A theoretically impossible result when finding a smoothing spline\n",
      "with fp = s. Probable cause: s too small. (abs(fp-s)/s>0.001)\n",
      "  warnings.warn(RuntimeWarning(_iermess[ier][0]))\n",
      "C:\\Users\\whockei1\\AppData\\Local\\Continuum\\anaconda3\\lib\\site-packages\\scipy\\interpolate\\_fitpack_impl.py:512: RuntimeWarning: A theoretically impossible result when finding a smoothing spline\n",
      "with fp = s. Probable cause: s too small. (abs(fp-s)/s>0.001)\n",
      "  warnings.warn(RuntimeWarning(_iermess[ier][0]))\n",
      "C:\\Users\\whockei1\\AppData\\Local\\Continuum\\anaconda3\\lib\\site-packages\\scipy\\interpolate\\_fitpack_impl.py:512: RuntimeWarning: A theoretically impossible result when finding a smoothing spline\n",
      "with fp = s. Probable cause: s too small. (abs(fp-s)/s>0.001)\n",
      "  warnings.warn(RuntimeWarning(_iermess[ier][0]))\n",
      "C:\\Users\\whockei1\\AppData\\Local\\Continuum\\anaconda3\\lib\\site-packages\\scipy\\interpolate\\_fitpack_impl.py:512: RuntimeWarning: A theoretically impossible result when finding a smoothing spline\n",
      "with fp = s. Probable cause: s too small. (abs(fp-s)/s>0.001)\n",
      "  warnings.warn(RuntimeWarning(_iermess[ier][0]))\n",
      "C:\\Users\\whockei1\\AppData\\Local\\Continuum\\anaconda3\\lib\\site-packages\\scipy\\interpolate\\_fitpack_impl.py:512: RuntimeWarning: A theoretically impossible result when finding a smoothing spline\n",
      "with fp = s. Probable cause: s too small. (abs(fp-s)/s>0.001)\n",
      "  warnings.warn(RuntimeWarning(_iermess[ier][0]))\n",
      "C:\\Users\\whockei1\\AppData\\Local\\Continuum\\anaconda3\\lib\\site-packages\\scipy\\interpolate\\_fitpack_impl.py:512: RuntimeWarning: A theoretically impossible result when finding a smoothing spline\n",
      "with fp = s. Probable cause: s too small. (abs(fp-s)/s>0.001)\n",
      "  warnings.warn(RuntimeWarning(_iermess[ier][0]))\n",
      "C:\\Users\\whockei1\\AppData\\Local\\Continuum\\anaconda3\\lib\\site-packages\\scipy\\interpolate\\_fitpack_impl.py:512: RuntimeWarning: A theoretically impossible result when finding a smoothing spline\n",
      "with fp = s. Probable cause: s too small. (abs(fp-s)/s>0.001)\n",
      "  warnings.warn(RuntimeWarning(_iermess[ier][0]))\n",
      "C:\\Users\\whockei1\\AppData\\Local\\Continuum\\anaconda3\\lib\\site-packages\\scipy\\interpolate\\_fitpack_impl.py:512: RuntimeWarning: A theoretically impossible result when finding a smoothing spline\n",
      "with fp = s. Probable cause: s too small. (abs(fp-s)/s>0.001)\n",
      "  warnings.warn(RuntimeWarning(_iermess[ier][0]))\n",
      "C:\\Users\\whockei1\\AppData\\Local\\Continuum\\anaconda3\\lib\\site-packages\\scipy\\interpolate\\_fitpack_impl.py:512: RuntimeWarning: The maximal number of iterations (20) allowed for finding smoothing\n",
      "spline with fp=s has been reached. Probable cause: s too small.\n",
      "(abs(fp-s)/s>0.001)\n",
      "  warnings.warn(RuntimeWarning(_iermess[ier][0]))\n",
      "C:\\Users\\whockei1\\AppData\\Local\\Continuum\\anaconda3\\lib\\site-packages\\scipy\\interpolate\\_fitpack_impl.py:512: RuntimeWarning: The maximal number of iterations (20) allowed for finding smoothing\n",
      "spline with fp=s has been reached. Probable cause: s too small.\n",
      "(abs(fp-s)/s>0.001)\n",
      "  warnings.warn(RuntimeWarning(_iermess[ier][0]))\n",
      "C:\\Users\\whockei1\\AppData\\Local\\Continuum\\anaconda3\\lib\\site-packages\\scipy\\interpolate\\_fitpack_impl.py:512: RuntimeWarning: A theoretically impossible result when finding a smoothing spline\n",
      "with fp = s. Probable cause: s too small. (abs(fp-s)/s>0.001)\n",
      "  warnings.warn(RuntimeWarning(_iermess[ier][0]))\n",
      "C:\\Users\\whockei1\\AppData\\Local\\Continuum\\anaconda3\\lib\\site-packages\\scipy\\interpolate\\_fitpack_impl.py:512: RuntimeWarning: A theoretically impossible result when finding a smoothing spline\n",
      "with fp = s. Probable cause: s too small. (abs(fp-s)/s>0.001)\n",
      "  warnings.warn(RuntimeWarning(_iermess[ier][0]))\n",
      "C:\\Users\\whockei1\\AppData\\Local\\Continuum\\anaconda3\\lib\\site-packages\\scipy\\interpolate\\_fitpack_impl.py:512: RuntimeWarning: The maximal number of iterations (20) allowed for finding smoothing\n",
      "spline with fp=s has been reached. Probable cause: s too small.\n",
      "(abs(fp-s)/s>0.001)\n",
      "  warnings.warn(RuntimeWarning(_iermess[ier][0]))\n",
      "C:\\Users\\whockei1\\AppData\\Local\\Continuum\\anaconda3\\lib\\site-packages\\scipy\\interpolate\\_fitpack_impl.py:512: RuntimeWarning: A theoretically impossible result when finding a smoothing spline\n",
      "with fp = s. Probable cause: s too small. (abs(fp-s)/s>0.001)\n",
      "  warnings.warn(RuntimeWarning(_iermess[ier][0]))\n",
      "C:\\Users\\whockei1\\AppData\\Local\\Continuum\\anaconda3\\lib\\site-packages\\scipy\\interpolate\\_fitpack_impl.py:512: RuntimeWarning: A theoretically impossible result when finding a smoothing spline\n",
      "with fp = s. Probable cause: s too small. (abs(fp-s)/s>0.001)\n",
      "  warnings.warn(RuntimeWarning(_iermess[ier][0]))\n"
     ]
    },
    {
     "name": "stderr",
     "output_type": "stream",
     "text": [
      "C:\\Users\\whockei1\\AppData\\Local\\Continuum\\anaconda3\\lib\\site-packages\\scipy\\interpolate\\_fitpack_impl.py:512: RuntimeWarning: A theoretically impossible result when finding a smoothing spline\n",
      "with fp = s. Probable cause: s too small. (abs(fp-s)/s>0.001)\n",
      "  warnings.warn(RuntimeWarning(_iermess[ier][0]))\n",
      "C:\\Users\\whockei1\\AppData\\Local\\Continuum\\anaconda3\\lib\\site-packages\\scipy\\interpolate\\_fitpack_impl.py:512: RuntimeWarning: A theoretically impossible result when finding a smoothing spline\n",
      "with fp = s. Probable cause: s too small. (abs(fp-s)/s>0.001)\n",
      "  warnings.warn(RuntimeWarning(_iermess[ier][0]))\n",
      "C:\\Users\\whockei1\\AppData\\Local\\Continuum\\anaconda3\\lib\\site-packages\\scipy\\interpolate\\_fitpack_impl.py:512: RuntimeWarning: A theoretically impossible result when finding a smoothing spline\n",
      "with fp = s. Probable cause: s too small. (abs(fp-s)/s>0.001)\n",
      "  warnings.warn(RuntimeWarning(_iermess[ier][0]))\n",
      "C:\\Users\\whockei1\\AppData\\Local\\Continuum\\anaconda3\\lib\\site-packages\\scipy\\interpolate\\_fitpack_impl.py:512: RuntimeWarning: A theoretically impossible result when finding a smoothing spline\n",
      "with fp = s. Probable cause: s too small. (abs(fp-s)/s>0.001)\n",
      "  warnings.warn(RuntimeWarning(_iermess[ier][0]))\n",
      "C:\\Users\\whockei1\\AppData\\Local\\Continuum\\anaconda3\\lib\\site-packages\\scipy\\interpolate\\_fitpack_impl.py:512: RuntimeWarning: A theoretically impossible result when finding a smoothing spline\n",
      "with fp = s. Probable cause: s too small. (abs(fp-s)/s>0.001)\n",
      "  warnings.warn(RuntimeWarning(_iermess[ier][0]))\n",
      "C:\\Users\\whockei1\\AppData\\Local\\Continuum\\anaconda3\\lib\\site-packages\\scipy\\interpolate\\_fitpack_impl.py:512: RuntimeWarning: A theoretically impossible result when finding a smoothing spline\n",
      "with fp = s. Probable cause: s too small. (abs(fp-s)/s>0.001)\n",
      "  warnings.warn(RuntimeWarning(_iermess[ier][0]))\n",
      "C:\\Users\\whockei1\\AppData\\Local\\Continuum\\anaconda3\\lib\\site-packages\\scipy\\interpolate\\_fitpack_impl.py:512: RuntimeWarning: A theoretically impossible result when finding a smoothing spline\n",
      "with fp = s. Probable cause: s too small. (abs(fp-s)/s>0.001)\n",
      "  warnings.warn(RuntimeWarning(_iermess[ier][0]))\n"
     ]
    },
    {
     "data": {
      "text/plain": [
       "(array([   0., 1000., 2000., 3000., 4000., 5000., 6000., 7000., 8000.]),\n",
       " <a list of 9 Text yticklabel objects>)"
      ]
     },
     "execution_count": 73,
     "metadata": {},
     "output_type": "execute_result"
    }
   ],
   "source": [
    "# shuffle visits within fields for a neuron\n",
    "svperfs = []\n",
    "for r in range(25000):\n",
    "    sfields = shuffleFields(unit)\n",
    "    smats = makeSemaphores(sfields)\n",
    "    flatsmats = np.asarray([i.flatten() for i in smats])\n",
    "    \n",
    "    train, test = train_test_split(list(range(len(flatsmats))), test_size=testProp)\n",
    "    Xtrain, Xtest, Ytrain, Ytest = flatsmats[train], flatsmats[test], labels[train], labels[test]\n",
    "    neigh = KNeighborsClassifier(n_neighbors=2)\n",
    "    neigh.fit(Xtrain, Ytrain)\n",
    "    svperfs.append(sum(Ytest==neigh.predict(Xtest))/len(Xtest))  \n",
    "    \n",
    "real5pct = np.percentile(svperfs,5)\n",
    "plt.figure()\n",
    "plt.hist(svperfs)\n",
    "plt.vlines(real5pct,0,100,'r')\n",
    "plt.vlines(1/3,0,100,'grey')\n",
    "plt.title(f\"kNN Classifier of Semaphore Plots, {n} Epochs, {nshuffles} runs, shuff visits within field\", fontsize=18)\n",
    "plt.xticks(fontsize=18)\n",
    "plt.yticks(fontsize=18)"
   ]
  },
  {
   "cell_type": "code",
   "execution_count": 70,
   "metadata": {},
   "outputs": [
    {
     "data": {
      "text/plain": [
       "Text(0.5,1,'TT12\\\\cl-maze1.7')"
      ]
     },
     "execution_count": 70,
     "metadata": {},
     "output_type": "execute_result"
    }
   ],
   "source": [
    "plt.figure()\n",
    "plt.violinplot([rperfs, sfperfs, svperfs])\n",
    "plt.xticks([1,2,3],['Real','Shuffle between Fields','Shuffle within Fields'])\n",
    "plt.title(clust)"
   ]
  },
  {
   "cell_type": "code",
   "execution_count": null,
   "metadata": {
    "collapsed": true
   },
   "outputs": [],
   "source": []
  }
 ],
 "metadata": {
  "kernelspec": {
   "display_name": "Python 3",
   "language": "python",
   "name": "python3"
  },
  "language_info": {
   "codemirror_mode": {
    "name": "ipython",
    "version": 3
   },
   "file_extension": ".py",
   "mimetype": "text/x-python",
   "name": "python",
   "nbconvert_exporter": "python",
   "pygments_lexer": "ipython3",
   "version": "3.6.3"
  }
 },
 "nbformat": 4,
 "nbformat_minor": 2
}
