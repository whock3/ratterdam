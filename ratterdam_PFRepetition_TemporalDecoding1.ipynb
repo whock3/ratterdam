{
 "cells": [
  {
   "cell_type": "markdown",
   "metadata": {},
   "source": [
    "# Ratterdam Place Field Repetition\n",
    "# Temporal Decoding "
   ]
  },
  {
   "cell_type": "code",
   "execution_count": 4,
   "metadata": {
    "collapsed": true
   },
   "outputs": [],
   "source": [
    "import ratterdam_CoreDataStructures as Core\n",
    "import ratterdam_ParseBehavior as Parse\n",
    "import numpy as np\n",
    "from scipy.stats import sem\n",
    "import utility_fx as util\n",
    "import os\n",
    "import matplotlib.gridspec as gridspec\n",
    "from matplotlib import pyplot as plt\n",
    "import ratterdam_Defaults as Def\n",
    "import ratterdam_visBasic as Vis\n",
    "import ratterdam_RepetitionCoreFx as RepCore\n",
    "import RateMapClass_William_20190308 as RateMapClass\n",
    "import williamDefaults as wmDef\n",
    "from matplotlib.backends.backend_pdf import PdfPages\n",
    "import more_itertools, itertools\n",
    "from sklearn.metrics import auc\n",
    "from sklearn.neighbors import KNeighborsClassifier\n",
    "from sklearn.model_selection import train_test_split\n",
    "from scipy.interpolate import splrep, splev\n",
    "from scipy.spatial import ConvexHull\n",
    "import scipy"
   ]
  },
  {
   "cell_type": "code",
   "execution_count": 2,
   "metadata": {
    "collapsed": true
   },
   "outputs": [],
   "source": [
    "%qtconsole --style native\n",
    "%matplotlib qt5"
   ]
  },
  {
   "cell_type": "code",
   "execution_count": 240,
   "metadata": {},
   "outputs": [
    {
     "name": "stdout",
     "output_type": "stream",
     "text": [
      "0.034339063273122784\n",
      "0.10316680101289039\n",
      "0.6842628520340124\n"
     ]
    },
    {
     "name": "stderr",
     "output_type": "stream",
     "text": [
      "E:\\UserData\\Documents\\GitHub\\ratterdam\\RateMapClass_William_20190308.py:210: RuntimeWarning: invalid value encountered in greater_equal\n",
      "  aboveThreshold = np.where(rateMap >= max(fieldThreshold,0), True, False)\n",
      "C:\\Users\\whockei1\\AppData\\Roaming\\Python\\Python36\\site-packages\\skimage\\morphology\\_deprecated.py:5: skimage_deprecation: Function ``watershed`` is deprecated and will be removed in version 0.19. Use ``skimage.segmentation.watershed`` instead.\n",
      "  def watershed(image, markers=None, connectivity=1, offset=None, mask=None,\n",
      "C:\\Users\\whockei1\\AppData\\Roaming\\Python\\Python36\\site-packages\\skimage\\morphology\\_deprecated.py:5: skimage_deprecation: Function ``watershed`` is deprecated and will be removed in version 0.19. Use ``skimage.segmentation.watershed`` instead.\n",
      "  def watershed(image, markers=None, connectivity=1, offset=None, mask=None,\n",
      "C:\\Users\\whockei1\\AppData\\Local\\Continuum\\anaconda3\\lib\\site-packages\\ipykernel_launcher.py:75: RuntimeWarning: invalid value encountered in double_scalars\n"
     ]
    }
   ],
   "source": [
    "# Take each cell in a day and generate a plot with rate map overlaid w detected field edges\n",
    "# and field dynamics (Fr over time) below\n",
    "rat = \"R808\"\n",
    "day = \"D6\"\n",
    "savepath = f'E:\\\\Ratterdam\\\\{rat}\\\\ratterdam_plots\\\\{day}\\\\'\n",
    "df = f'E:\\Ratterdam\\\\{rat}\\\\{rat}_RatterdamOpen_{day}\\\\'\n",
    "clust = 'TT15\\\\cl-maze1.1'\n",
    "p, s = loadRepeatingUnit(df, clust)\n",
    "unit = Unit(s,p, clust)"
   ]
  },
  {
   "cell_type": "code",
   "execution_count": 3,
   "metadata": {
    "collapsed": true
   },
   "outputs": [],
   "source": [
    "def shuffleFields(unit):\n",
    "    \"\"\"\n",
    "    Takes a unit class as input and shuffles the firing rates of each field\n",
    "    w.r.t. time. Returns a list of (n,2) numpy arrays where n is the number of\n",
    "    visits for each field (and thus n varies as a fx of field)\n",
    "    \"\"\"\n",
    "    fields = []\n",
    "    for field in unit.fields:\n",
    "        fields.append(np.column_stack((field[:,0],np.random.permutation(field[:,1]))))\n",
    "    return fields"
   ]
  },
  {
   "cell_type": "markdown",
   "metadata": {},
   "source": [
    "## k-Nearest Neighbor Temporal Analysis\n",
    "### For each point, find n nearest neighbors in vector space and find mean actual distance in the array\n",
    "### Then shuffle the subfield visits, regenerate (null) semaphore plots and repeat (important not to just shuffle semaphores bc sliding window contamination)"
   ]
  },
  {
   "cell_type": "code",
   "execution_count": 241,
   "metadata": {},
   "outputs": [
    {
     "name": "stderr",
     "output_type": "stream",
     "text": [
      "C:\\Users\\whockei1\\AppData\\Local\\Continuum\\anaconda3\\lib\\site-packages\\matplotlib\\colorbar.py:215: UserWarning: Use the colorbar set_ticks() method instead.\n",
      "  warnings.warn(\"Use the colorbar set_ticks() method instead.\")\n"
     ]
    }
   ],
   "source": [
    "# Create real and 1 null semaphore and plot, just to look\n",
    "diffmats = makeSemaphores(unit.fields)\n",
    "\n",
    "sfields = shuffleFields(unit)\n",
    "smats = makeSemaphores(sfields)\n",
    "\n",
    "plotMats(diffmats,shuff=False)\n",
    "plotMats(smats,shuff=True)"
   ]
  },
  {
   "cell_type": "code",
   "execution_count": 242,
   "metadata": {},
   "outputs": [
    {
     "name": "stderr",
     "output_type": "stream",
     "text": [
      "C:\\Users\\whockei1\\AppData\\Local\\Continuum\\anaconda3\\lib\\site-packages\\scipy\\interpolate\\_fitpack_impl.py:512: RuntimeWarning: A theoretically impossible result when finding a smoothing spline\n",
      "with fp = s. Probable cause: s too small. (abs(fp-s)/s>0.001)\n",
      "  warnings.warn(RuntimeWarning(_iermess[ier][0]))\n",
      "C:\\Users\\whockei1\\AppData\\Local\\Continuum\\anaconda3\\lib\\site-packages\\scipy\\interpolate\\_fitpack_impl.py:512: RuntimeWarning: The maximal number of iterations (20) allowed for finding smoothing\n",
      "spline with fp=s has been reached. Probable cause: s too small.\n",
      "(abs(fp-s)/s>0.001)\n",
      "  warnings.warn(RuntimeWarning(_iermess[ier][0]))\n",
      "C:\\Users\\whockei1\\AppData\\Local\\Continuum\\anaconda3\\lib\\site-packages\\scipy\\interpolate\\_fitpack_impl.py:512: RuntimeWarning: A theoretically impossible result when finding a smoothing spline\n",
      "with fp = s. Probable cause: s too small. (abs(fp-s)/s>0.001)\n",
      "  warnings.warn(RuntimeWarning(_iermess[ier][0]))\n",
      "C:\\Users\\whockei1\\AppData\\Local\\Continuum\\anaconda3\\lib\\site-packages\\scipy\\interpolate\\_fitpack_impl.py:512: RuntimeWarning: The maximal number of iterations (20) allowed for finding smoothing\n",
      "spline with fp=s has been reached. Probable cause: s too small.\n",
      "(abs(fp-s)/s>0.001)\n",
      "  warnings.warn(RuntimeWarning(_iermess[ier][0]))\n",
      "C:\\Users\\whockei1\\AppData\\Local\\Continuum\\anaconda3\\lib\\site-packages\\scipy\\interpolate\\_fitpack_impl.py:512: RuntimeWarning: A theoretically impossible result when finding a smoothing spline\n",
      "with fp = s. Probable cause: s too small. (abs(fp-s)/s>0.001)\n",
      "  warnings.warn(RuntimeWarning(_iermess[ier][0]))\n",
      "C:\\Users\\whockei1\\AppData\\Local\\Continuum\\anaconda3\\lib\\site-packages\\scipy\\interpolate\\_fitpack_impl.py:512: RuntimeWarning: A theoretically impossible result when finding a smoothing spline\n",
      "with fp = s. Probable cause: s too small. (abs(fp-s)/s>0.001)\n",
      "  warnings.warn(RuntimeWarning(_iermess[ier][0]))\n",
      "C:\\Users\\whockei1\\AppData\\Local\\Continuum\\anaconda3\\lib\\site-packages\\scipy\\interpolate\\_fitpack_impl.py:512: RuntimeWarning: A theoretically impossible result when finding a smoothing spline\n",
      "with fp = s. Probable cause: s too small. (abs(fp-s)/s>0.001)\n",
      "  warnings.warn(RuntimeWarning(_iermess[ier][0]))\n",
      "C:\\Users\\whockei1\\AppData\\Local\\Continuum\\anaconda3\\lib\\site-packages\\scipy\\interpolate\\_fitpack_impl.py:512: RuntimeWarning: A theoretically impossible result when finding a smoothing spline\n",
      "with fp = s. Probable cause: s too small. (abs(fp-s)/s>0.001)\n",
      "  warnings.warn(RuntimeWarning(_iermess[ier][0]))\n"
     ]
    }
   ],
   "source": [
    "# kNN analysis\n",
    "ns = 1000 # num shuffles\n",
    "# real\n",
    "flatmats = [i.flatten() for i in diffmats]\n",
    "neigh = NearestNeighbors(n_neighbors=2).fit(flatmats)\n",
    "d,idx = neigh.kneighbors(flatmats)\n",
    "meanDist = np.mean(np.abs(np.diff(idx)))\n",
    "meanvecDist = np.mean(d[:,1])\n",
    "\n",
    "# shuffle\n",
    "shuffmeanIdxDists = []\n",
    "shuffmeanVecDists = []\n",
    "for n in range(ns):\n",
    "    sfields = shuffleFields(unit)\n",
    "    smats = makeSemaphores(sfields)\n",
    "    flatsmats = [i.flatten() for i in smats]\n",
    "    sneigh = NearestNeighbors(n_neighbors=2).fit(flatsmats)\n",
    "    sd,sidx = sneigh.kneighbors(flatsmats)\n",
    "    smeanDist = np.mean(np.abs(np.diff(sidx)))\n",
    "    shuffmeanDists.append(smeanDist)\n",
    "    smeanvecDist = np.mean(sd[:,1])\n",
    "    if smeanvecDist < 1000: # some shuff values are like 10e19. Maybe related to the 'impossible result' runtime error?\n",
    "        shuffmeanVecDists.append(smeanvecDist)"
   ]
  },
  {
   "cell_type": "code",
   "execution_count": 243,
   "metadata": {},
   "outputs": [
    {
     "data": {
      "text/plain": [
       "Text(0.5,1,'Average Vector Distance kNN vs Shuffle')"
      ]
     },
     "execution_count": 243,
     "metadata": {},
     "output_type": "execute_result"
    }
   ],
   "source": [
    "plt.figure()\n",
    "plt.hist(shuffmeanDists,bins=15)\n",
    "plt.vlines(meanDist,0,160,'r')\n",
    "np.percentile(shuffmeanDists,5)\n",
    "null5pct = np.percentile(shuffmeanDists,5)\n",
    "plt.vlines(null5pct,0,160,'k')\n",
    "plt.title(\"Average Index Distance kNN vs Shuffle\")\n",
    "\n",
    "plt.figure()\n",
    "plt.hist(shuffmeanVecDists,bins=100)\n",
    "plt.vlines(meanvecDist,0,160,'r')\n",
    "np.percentile(shuffmeanVecDists,5)\n",
    "null5pct = np.percentile(shuffmeanVecDists,5)\n",
    "plt.vlines(null5pct,0,160,'k')\n",
    "plt.title(\"Average Vector Distance kNN vs Shuffle\")"
   ]
  },
  {
   "cell_type": "markdown",
   "metadata": {},
   "source": [
    "### kNN Classification - Temporal Epoch\n",
    "### Divide session into n epochs, try to decode. Standard train/test classification"
   ]
  },
  {
   "cell_type": "code",
   "execution_count": 299,
   "metadata": {
    "collapsed": true
   },
   "outputs": [],
   "source": [
    "# Setup parameters and setup data\n",
    "n = 3\n",
    "testProp = 0.33\n",
    "idx = np.ceil(np.linspace(0,len(diffmats),n+1)).astype(np.int)\n",
    "diffmats = makeSemaphores(unit.fields)\n",
    "flatmats = np.asarray([i.flatten() for i in diffmats])\n",
    "split = np.split(flatmats,idx)\n",
    "labels = []\n",
    "for i in range(len(idx)-1):\n",
    "    l= idx[i+1]-idx[i]\n",
    "    labels.extend([i]*l)\n",
    "labels = np.asarray(labels)"
   ]
  },
  {
   "cell_type": "code",
   "execution_count": 300,
   "metadata": {},
   "outputs": [
    {
     "data": {
      "text/plain": [
       "Text(0.5,1,'kNN Classifier of Semaphore Plots, 3 Epochs, 500 runs')"
      ]
     },
     "execution_count": 300,
     "metadata": {},
     "output_type": "execute_result"
    }
   ],
   "source": [
    "# real\n",
    "rep = 500\n",
    "perfs = []\n",
    "for i in range(rep):\n",
    "    train, test = train_test_split(list(range(len(diffmats))), test_size=testProp)\n",
    "    Xtrain, Xtest, Ytrain, Ytest = flatmats[train], flatmats[test], labels[train], labels[test]\n",
    "    neigh = KNeighborsClassifier(n_neighbors=2)\n",
    "    neigh.fit(Xtrain, Ytrain)\n",
    "    perfs.append(sum(Ytest==neigh.predict(Xtest))/len(Xtest))  \n",
    "real5pct = np.percentile(perfs,5)\n",
    "plt.figure()\n",
    "plt.hist(perfs)\n",
    "plt.vlines(real5pct,0,100,'r')\n",
    "plt.vlines(1/3,0,100,'grey')\n",
    "plt.title(f\"kNN Classifier of Semaphore Plots, {n} Epochs, {rep} runs\", fontsize=18)"
   ]
  },
  {
   "cell_type": "code",
   "execution_count": 302,
   "metadata": {},
   "outputs": [
    {
     "name": "stderr",
     "output_type": "stream",
     "text": [
      "C:\\Users\\whockei1\\AppData\\Local\\Continuum\\anaconda3\\lib\\site-packages\\scipy\\interpolate\\_fitpack_impl.py:512: RuntimeWarning: A theoretically impossible result when finding a smoothing spline\n",
      "with fp = s. Probable cause: s too small. (abs(fp-s)/s>0.001)\n",
      "  warnings.warn(RuntimeWarning(_iermess[ier][0]))\n",
      "C:\\Users\\whockei1\\AppData\\Local\\Continuum\\anaconda3\\lib\\site-packages\\scipy\\interpolate\\_fitpack_impl.py:512: RuntimeWarning: A theoretically impossible result when finding a smoothing spline\n",
      "with fp = s. Probable cause: s too small. (abs(fp-s)/s>0.001)\n",
      "  warnings.warn(RuntimeWarning(_iermess[ier][0]))\n",
      "C:\\Users\\whockei1\\AppData\\Local\\Continuum\\anaconda3\\lib\\site-packages\\scipy\\interpolate\\_fitpack_impl.py:512: RuntimeWarning: The maximal number of iterations (20) allowed for finding smoothing\n",
      "spline with fp=s has been reached. Probable cause: s too small.\n",
      "(abs(fp-s)/s>0.001)\n",
      "  warnings.warn(RuntimeWarning(_iermess[ier][0]))\n"
     ]
    },
    {
     "data": {
      "text/plain": [
       "Text(0.5,1,'kNN Classifier of Semaphore Plots, 3 Epochs, 500 runs, shuff')"
      ]
     },
     "execution_count": 302,
     "metadata": {},
     "output_type": "execute_result"
    }
   ],
   "source": [
    "# shuffle\n",
    "rep = 500\n",
    "perfs = []\n",
    "for i in range(rep):\n",
    "    sfields = shuffleFields(unit)\n",
    "    smats = makeSemaphores(sfields)\n",
    "    flatsmats = np.asarray([i.flatten() for i in smats])\n",
    "    \n",
    "    train, test = train_test_split(list(range(len(flatsmats))), test_size=testProp)\n",
    "    Xtrain, Xtest, Ytrain, Ytest = flatsmats[train], flatsmats[test], labels[train], labels[test]\n",
    "    neigh = KNeighborsClassifier(n_neighbors=2)\n",
    "    neigh.fit(Xtrain, Ytrain)\n",
    "    perfs.append(sum(Ytest==neigh.predict(Xtest))/len(Xtest))  \n",
    "    \n",
    "real5pct = np.percentile(perfs,5)\n",
    "plt.figure()\n",
    "plt.hist(perfs)\n",
    "plt.vlines(real5pct,0,100,'r')\n",
    "plt.vlines(1/3,0,100,'grey')\n",
    "plt.title(f\"kNN Classifier of Semaphore Plots, {n} Epochs, {rep} runs, shuff visits within field\", fontsize=18)"
   ]
  },
  {
   "cell_type": "markdown",
   "metadata": {},
   "source": [
    "## kNN Classification - Analysing Any Cooperative Temporal Decoding between Fields within a cell\n",
    "### Decode temporal information (in epoch) from real data\n",
    "### Use 1) fields exchanged between units (matched to # real fields/cell) and 2) rotational shuffling within cell\n",
    "### versus shuffling visits within fields for each cell. This allows a dissociation between temporal decoding that is just from\n",
    "### single fields acting independently versus some 'cooperartive' coding between real fields for a repeating PC"
   ]
  },
  {
   "cell_type": "code",
   "execution_count": 34,
   "metadata": {
    "collapsed": true
   },
   "outputs": [],
   "source": [
    "# create a list of fields - all the fields from all the units. randomly grab from this\n",
    "allfields = []\n",
    "for u in population.values():\n",
    "    allfields.extend(u.fields)"
   ]
  },
  {
   "cell_type": "code",
   "execution_count": 36,
   "metadata": {
    "collapsed": true
   },
   "outputs": [],
   "source": [
    "class GuttedUnit():\n",
    "    \n",
    "    def __init__(self):\n",
    "        self.fields = []"
   ]
  },
  {
   "cell_type": "code",
   "execution_count": 37,
   "metadata": {
    "collapsed": true
   },
   "outputs": [],
   "source": [
    "def createShuffledUnit(unit, allfields):\n",
    "    \"\"\"\n",
    "    Input - unit: a unit object. unit.fields is a list of (n,2) arrays. Each entry is [ts,fr] where ts is in min and fr is in Hz\n",
    "          - allfields: a list of all fields from the population of repeating units. Each entry is a (n,2) array. Each entry is [ts,fr] where ts is in min and fr is in Hz          \n",
    "    This function will take a unit object and draw randomly from all the fields from all rep cells that day and assign to a 'field shuffled unit' (matching the # real fields / cell)   \n",
    "    Return - a stripped down unit object (only has fields as attribute) with the scrambled fields\n",
    "    \"\"\"\n",
    "    selectedFields = [allfields[i] for i in np.random.randint(0,len(allfields), len(unit.fields))]\n",
    "    sunit = GuttedUnit()\n",
    "    sunit.fields = selectedFields\n",
    "    return sunit"
   ]
  },
  {
   "cell_type": "code",
   "execution_count": 249,
   "metadata": {
    "collapsed": true
   },
   "outputs": [],
   "source": [
    "# Setup parameters and setup data\n",
    "clust = 'TT15\\\\cl-maze1.1'\n",
    "unit = population[clust]\n",
    "epochs = 3 # number of temporal epochs to decode\n",
    "nshuffles = 1000 # shuffles creating new data each time\n",
    "nreps = 100 # repeated decoding given a set of data\n",
    "trainProp = 0.67 # test is the complement\n",
    "nNeighbors = 2"
   ]
  },
  {
   "cell_type": "code",
   "execution_count": 250,
   "metadata": {},
   "outputs": [
    {
     "data": {
      "text/plain": [
       "(array([ 0.,  5., 10., 15., 20., 25., 30.]),\n",
       " <a list of 7 Text yticklabel objects>)"
      ]
     },
     "execution_count": 250,
     "metadata": {},
     "output_type": "execute_result"
    }
   ],
   "source": [
    "# real\n",
    "diffmats = makeSemaphores(unit.fields)\n",
    "flatmats = np.asarray([i.flatten() for i in diffmats])\n",
    "idx = np.ceil(np.linspace(0,len(diffmats),epochs+1)).astype(np.int)\n",
    "labels = []\n",
    "for i in range(len(idx)-1):\n",
    "    l= idx[i+1]-idx[i]\n",
    "    labels.extend([i]*l)\n",
    "labels = np.asarray(labels)\n",
    "\n",
    "rperfs = []\n",
    "for i in range(nreps):\n",
    "    train, test = train_test_split(list(range(len(diffmats))), train_size=trainProp)\n",
    "    Xtrain, Xtest, Ytrain, Ytest = flatmats[train], flatmats[test], labels[train], labels[test]\n",
    "    neigh = KNeighborsClassifier(n_neighbors=nNeighbors)\n",
    "    neigh.fit(Xtrain, Ytrain)\n",
    "    rperfs.append(sum(Ytest==neigh.predict(Xtest))/len(Xtest))  \n",
    "plt.figure()\n",
    "plt.hist(rperfs)\n",
    "# real5pct = np.percentile(rperfs,5)\n",
    "# plt.vlines(real5pct,0,100,'r')\n",
    "# plt.vlines(1/3,0,100,'grey')\n",
    "plt.title(f\"kNN Classifier of Semaphore Plots, {epochs} Epochs, {nreps} runs, real\", fontsize=18)\n",
    "plt.xticks(fontsize=18)\n",
    "plt.yticks(fontsize=18)"
   ]
  },
  {
   "cell_type": "code",
   "execution_count": 67,
   "metadata": {},
   "outputs": [
    {
     "data": {
      "text/plain": [
       "(array([  0.,  50., 100., 150., 200., 250.]),\n",
       " <a list of 6 Text yticklabel objects>)"
      ]
     },
     "execution_count": 67,
     "metadata": {},
     "output_type": "execute_result"
    }
   ],
   "source": [
    "# shuffled fields between units (each field real, ownership is shuffled)\n",
    "sfperfs = []\n",
    "for r in range(nshuffles):\n",
    "    sunit = createShuffledUnit(population[clust], allfields)\n",
    "    diffmats = makeSemaphores(sunit.fields)\n",
    "    flatmats = np.asarray([i.flatten() for i in diffmats])\n",
    "    \n",
    "    train, test = train_test_split(list(range(len(diffmats))), test_size=testProp)\n",
    "    Xtrain, Xtest, Ytrain, Ytest = flatmats[train], flatmats[test], labels[train], labels[test]\n",
    "    neigh = KNeighborsClassifier(n_neighbors=2)\n",
    "    neigh.fit(Xtrain, Ytrain)\n",
    "    sfperfs.append(sum(Ytest==neigh.predict(Xtest))/len(Xtest))  \n",
    "    \n",
    "real5pct = np.percentile(sfperfs,5)\n",
    "plt.figure()\n",
    "plt.hist(sfperfs)\n",
    "plt.vlines(real5pct,0,100,'r')\n",
    "plt.vlines(1/3,0,100,'grey')\n",
    "plt.title(f\"kNN Classifier of Semaphore Plots, {n} Epochs, {nshuffles} runs, Shuff Fields Between Cells\", fontsize=18)\n",
    "plt.xticks(fontsize=18)\n",
    "plt.yticks(fontsize=18)"
   ]
  },
  {
   "cell_type": "code",
   "execution_count": 73,
   "metadata": {},
   "outputs": [
    {
     "name": "stderr",
     "output_type": "stream",
     "text": [
      "C:\\Users\\whockei1\\AppData\\Local\\Continuum\\anaconda3\\lib\\site-packages\\scipy\\interpolate\\_fitpack_impl.py:512: RuntimeWarning: The maximal number of iterations (20) allowed for finding smoothing\n",
      "spline with fp=s has been reached. Probable cause: s too small.\n",
      "(abs(fp-s)/s>0.001)\n",
      "  warnings.warn(RuntimeWarning(_iermess[ier][0]))\n",
      "C:\\Users\\whockei1\\AppData\\Local\\Continuum\\anaconda3\\lib\\site-packages\\scipy\\interpolate\\_fitpack_impl.py:512: RuntimeWarning: A theoretically impossible result when finding a smoothing spline\n",
      "with fp = s. Probable cause: s too small. (abs(fp-s)/s>0.001)\n",
      "  warnings.warn(RuntimeWarning(_iermess[ier][0]))\n",
      "C:\\Users\\whockei1\\AppData\\Local\\Continuum\\anaconda3\\lib\\site-packages\\scipy\\interpolate\\_fitpack_impl.py:512: RuntimeWarning: A theoretically impossible result when finding a smoothing spline\n",
      "with fp = s. Probable cause: s too small. (abs(fp-s)/s>0.001)\n",
      "  warnings.warn(RuntimeWarning(_iermess[ier][0]))\n",
      "C:\\Users\\whockei1\\AppData\\Local\\Continuum\\anaconda3\\lib\\site-packages\\scipy\\interpolate\\_fitpack_impl.py:512: RuntimeWarning: A theoretically impossible result when finding a smoothing spline\n",
      "with fp = s. Probable cause: s too small. (abs(fp-s)/s>0.001)\n",
      "  warnings.warn(RuntimeWarning(_iermess[ier][0]))\n",
      "C:\\Users\\whockei1\\AppData\\Local\\Continuum\\anaconda3\\lib\\site-packages\\scipy\\interpolate\\_fitpack_impl.py:512: RuntimeWarning: A theoretically impossible result when finding a smoothing spline\n",
      "with fp = s. Probable cause: s too small. (abs(fp-s)/s>0.001)\n",
      "  warnings.warn(RuntimeWarning(_iermess[ier][0]))\n",
      "C:\\Users\\whockei1\\AppData\\Local\\Continuum\\anaconda3\\lib\\site-packages\\scipy\\interpolate\\_fitpack_impl.py:512: RuntimeWarning: A theoretically impossible result when finding a smoothing spline\n",
      "with fp = s. Probable cause: s too small. (abs(fp-s)/s>0.001)\n",
      "  warnings.warn(RuntimeWarning(_iermess[ier][0]))\n",
      "C:\\Users\\whockei1\\AppData\\Local\\Continuum\\anaconda3\\lib\\site-packages\\scipy\\interpolate\\_fitpack_impl.py:512: RuntimeWarning: A theoretically impossible result when finding a smoothing spline\n",
      "with fp = s. Probable cause: s too small. (abs(fp-s)/s>0.001)\n",
      "  warnings.warn(RuntimeWarning(_iermess[ier][0]))\n",
      "C:\\Users\\whockei1\\AppData\\Local\\Continuum\\anaconda3\\lib\\site-packages\\scipy\\interpolate\\_fitpack_impl.py:512: RuntimeWarning: A theoretically impossible result when finding a smoothing spline\n",
      "with fp = s. Probable cause: s too small. (abs(fp-s)/s>0.001)\n",
      "  warnings.warn(RuntimeWarning(_iermess[ier][0]))\n",
      "C:\\Users\\whockei1\\AppData\\Local\\Continuum\\anaconda3\\lib\\site-packages\\scipy\\interpolate\\_fitpack_impl.py:512: RuntimeWarning: A theoretically impossible result when finding a smoothing spline\n",
      "with fp = s. Probable cause: s too small. (abs(fp-s)/s>0.001)\n",
      "  warnings.warn(RuntimeWarning(_iermess[ier][0]))\n",
      "C:\\Users\\whockei1\\AppData\\Local\\Continuum\\anaconda3\\lib\\site-packages\\scipy\\interpolate\\_fitpack_impl.py:512: RuntimeWarning: The maximal number of iterations (20) allowed for finding smoothing\n",
      "spline with fp=s has been reached. Probable cause: s too small.\n",
      "(abs(fp-s)/s>0.001)\n",
      "  warnings.warn(RuntimeWarning(_iermess[ier][0]))\n",
      "C:\\Users\\whockei1\\AppData\\Local\\Continuum\\anaconda3\\lib\\site-packages\\scipy\\interpolate\\_fitpack_impl.py:512: RuntimeWarning: A theoretically impossible result when finding a smoothing spline\n",
      "with fp = s. Probable cause: s too small. (abs(fp-s)/s>0.001)\n",
      "  warnings.warn(RuntimeWarning(_iermess[ier][0]))\n",
      "C:\\Users\\whockei1\\AppData\\Local\\Continuum\\anaconda3\\lib\\site-packages\\scipy\\interpolate\\_fitpack_impl.py:512: RuntimeWarning: A theoretically impossible result when finding a smoothing spline\n",
      "with fp = s. Probable cause: s too small. (abs(fp-s)/s>0.001)\n",
      "  warnings.warn(RuntimeWarning(_iermess[ier][0]))\n",
      "C:\\Users\\whockei1\\AppData\\Local\\Continuum\\anaconda3\\lib\\site-packages\\scipy\\interpolate\\_fitpack_impl.py:512: RuntimeWarning: A theoretically impossible result when finding a smoothing spline\n",
      "with fp = s. Probable cause: s too small. (abs(fp-s)/s>0.001)\n",
      "  warnings.warn(RuntimeWarning(_iermess[ier][0]))\n",
      "C:\\Users\\whockei1\\AppData\\Local\\Continuum\\anaconda3\\lib\\site-packages\\scipy\\interpolate\\_fitpack_impl.py:512: RuntimeWarning: A theoretically impossible result when finding a smoothing spline\n",
      "with fp = s. Probable cause: s too small. (abs(fp-s)/s>0.001)\n",
      "  warnings.warn(RuntimeWarning(_iermess[ier][0]))\n",
      "C:\\Users\\whockei1\\AppData\\Local\\Continuum\\anaconda3\\lib\\site-packages\\scipy\\interpolate\\_fitpack_impl.py:512: RuntimeWarning: A theoretically impossible result when finding a smoothing spline\n",
      "with fp = s. Probable cause: s too small. (abs(fp-s)/s>0.001)\n",
      "  warnings.warn(RuntimeWarning(_iermess[ier][0]))\n",
      "C:\\Users\\whockei1\\AppData\\Local\\Continuum\\anaconda3\\lib\\site-packages\\scipy\\interpolate\\_fitpack_impl.py:512: RuntimeWarning: A theoretically impossible result when finding a smoothing spline\n",
      "with fp = s. Probable cause: s too small. (abs(fp-s)/s>0.001)\n",
      "  warnings.warn(RuntimeWarning(_iermess[ier][0]))\n",
      "C:\\Users\\whockei1\\AppData\\Local\\Continuum\\anaconda3\\lib\\site-packages\\scipy\\interpolate\\_fitpack_impl.py:512: RuntimeWarning: A theoretically impossible result when finding a smoothing spline\n",
      "with fp = s. Probable cause: s too small. (abs(fp-s)/s>0.001)\n",
      "  warnings.warn(RuntimeWarning(_iermess[ier][0]))\n",
      "C:\\Users\\whockei1\\AppData\\Local\\Continuum\\anaconda3\\lib\\site-packages\\scipy\\interpolate\\_fitpack_impl.py:512: RuntimeWarning: A theoretically impossible result when finding a smoothing spline\n",
      "with fp = s. Probable cause: s too small. (abs(fp-s)/s>0.001)\n",
      "  warnings.warn(RuntimeWarning(_iermess[ier][0]))\n",
      "C:\\Users\\whockei1\\AppData\\Local\\Continuum\\anaconda3\\lib\\site-packages\\scipy\\interpolate\\_fitpack_impl.py:512: RuntimeWarning: A theoretically impossible result when finding a smoothing spline\n",
      "with fp = s. Probable cause: s too small. (abs(fp-s)/s>0.001)\n",
      "  warnings.warn(RuntimeWarning(_iermess[ier][0]))\n",
      "C:\\Users\\whockei1\\AppData\\Local\\Continuum\\anaconda3\\lib\\site-packages\\scipy\\interpolate\\_fitpack_impl.py:512: RuntimeWarning: A theoretically impossible result when finding a smoothing spline\n",
      "with fp = s. Probable cause: s too small. (abs(fp-s)/s>0.001)\n",
      "  warnings.warn(RuntimeWarning(_iermess[ier][0]))\n",
      "C:\\Users\\whockei1\\AppData\\Local\\Continuum\\anaconda3\\lib\\site-packages\\scipy\\interpolate\\_fitpack_impl.py:512: RuntimeWarning: A theoretically impossible result when finding a smoothing spline\n",
      "with fp = s. Probable cause: s too small. (abs(fp-s)/s>0.001)\n",
      "  warnings.warn(RuntimeWarning(_iermess[ier][0]))\n",
      "C:\\Users\\whockei1\\AppData\\Local\\Continuum\\anaconda3\\lib\\site-packages\\scipy\\interpolate\\_fitpack_impl.py:512: RuntimeWarning: A theoretically impossible result when finding a smoothing spline\n",
      "with fp = s. Probable cause: s too small. (abs(fp-s)/s>0.001)\n",
      "  warnings.warn(RuntimeWarning(_iermess[ier][0]))\n",
      "C:\\Users\\whockei1\\AppData\\Local\\Continuum\\anaconda3\\lib\\site-packages\\scipy\\interpolate\\_fitpack_impl.py:512: RuntimeWarning: A theoretically impossible result when finding a smoothing spline\n",
      "with fp = s. Probable cause: s too small. (abs(fp-s)/s>0.001)\n",
      "  warnings.warn(RuntimeWarning(_iermess[ier][0]))\n",
      "C:\\Users\\whockei1\\AppData\\Local\\Continuum\\anaconda3\\lib\\site-packages\\scipy\\interpolate\\_fitpack_impl.py:512: RuntimeWarning: A theoretically impossible result when finding a smoothing spline\n",
      "with fp = s. Probable cause: s too small. (abs(fp-s)/s>0.001)\n",
      "  warnings.warn(RuntimeWarning(_iermess[ier][0]))\n",
      "C:\\Users\\whockei1\\AppData\\Local\\Continuum\\anaconda3\\lib\\site-packages\\scipy\\interpolate\\_fitpack_impl.py:512: RuntimeWarning: A theoretically impossible result when finding a smoothing spline\n",
      "with fp = s. Probable cause: s too small. (abs(fp-s)/s>0.001)\n",
      "  warnings.warn(RuntimeWarning(_iermess[ier][0]))\n",
      "C:\\Users\\whockei1\\AppData\\Local\\Continuum\\anaconda3\\lib\\site-packages\\scipy\\interpolate\\_fitpack_impl.py:512: RuntimeWarning: A theoretically impossible result when finding a smoothing spline\n",
      "with fp = s. Probable cause: s too small. (abs(fp-s)/s>0.001)\n",
      "  warnings.warn(RuntimeWarning(_iermess[ier][0]))\n",
      "C:\\Users\\whockei1\\AppData\\Local\\Continuum\\anaconda3\\lib\\site-packages\\scipy\\interpolate\\_fitpack_impl.py:512: RuntimeWarning: A theoretically impossible result when finding a smoothing spline\n",
      "with fp = s. Probable cause: s too small. (abs(fp-s)/s>0.001)\n",
      "  warnings.warn(RuntimeWarning(_iermess[ier][0]))\n"
     ]
    },
    {
     "name": "stderr",
     "output_type": "stream",
     "text": [
      "C:\\Users\\whockei1\\AppData\\Local\\Continuum\\anaconda3\\lib\\site-packages\\scipy\\interpolate\\_fitpack_impl.py:512: RuntimeWarning: A theoretically impossible result when finding a smoothing spline\n",
      "with fp = s. Probable cause: s too small. (abs(fp-s)/s>0.001)\n",
      "  warnings.warn(RuntimeWarning(_iermess[ier][0]))\n",
      "C:\\Users\\whockei1\\AppData\\Local\\Continuum\\anaconda3\\lib\\site-packages\\scipy\\interpolate\\_fitpack_impl.py:512: RuntimeWarning: A theoretically impossible result when finding a smoothing spline\n",
      "with fp = s. Probable cause: s too small. (abs(fp-s)/s>0.001)\n",
      "  warnings.warn(RuntimeWarning(_iermess[ier][0]))\n",
      "C:\\Users\\whockei1\\AppData\\Local\\Continuum\\anaconda3\\lib\\site-packages\\scipy\\interpolate\\_fitpack_impl.py:512: RuntimeWarning: A theoretically impossible result when finding a smoothing spline\n",
      "with fp = s. Probable cause: s too small. (abs(fp-s)/s>0.001)\n",
      "  warnings.warn(RuntimeWarning(_iermess[ier][0]))\n",
      "C:\\Users\\whockei1\\AppData\\Local\\Continuum\\anaconda3\\lib\\site-packages\\scipy\\interpolate\\_fitpack_impl.py:512: RuntimeWarning: A theoretically impossible result when finding a smoothing spline\n",
      "with fp = s. Probable cause: s too small. (abs(fp-s)/s>0.001)\n",
      "  warnings.warn(RuntimeWarning(_iermess[ier][0]))\n",
      "C:\\Users\\whockei1\\AppData\\Local\\Continuum\\anaconda3\\lib\\site-packages\\scipy\\interpolate\\_fitpack_impl.py:512: RuntimeWarning: A theoretically impossible result when finding a smoothing spline\n",
      "with fp = s. Probable cause: s too small. (abs(fp-s)/s>0.001)\n",
      "  warnings.warn(RuntimeWarning(_iermess[ier][0]))\n",
      "C:\\Users\\whockei1\\AppData\\Local\\Continuum\\anaconda3\\lib\\site-packages\\scipy\\interpolate\\_fitpack_impl.py:512: RuntimeWarning: A theoretically impossible result when finding a smoothing spline\n",
      "with fp = s. Probable cause: s too small. (abs(fp-s)/s>0.001)\n",
      "  warnings.warn(RuntimeWarning(_iermess[ier][0]))\n",
      "C:\\Users\\whockei1\\AppData\\Local\\Continuum\\anaconda3\\lib\\site-packages\\scipy\\interpolate\\_fitpack_impl.py:512: RuntimeWarning: A theoretically impossible result when finding a smoothing spline\n",
      "with fp = s. Probable cause: s too small. (abs(fp-s)/s>0.001)\n",
      "  warnings.warn(RuntimeWarning(_iermess[ier][0]))\n",
      "C:\\Users\\whockei1\\AppData\\Local\\Continuum\\anaconda3\\lib\\site-packages\\scipy\\interpolate\\_fitpack_impl.py:512: RuntimeWarning: A theoretically impossible result when finding a smoothing spline\n",
      "with fp = s. Probable cause: s too small. (abs(fp-s)/s>0.001)\n",
      "  warnings.warn(RuntimeWarning(_iermess[ier][0]))\n",
      "C:\\Users\\whockei1\\AppData\\Local\\Continuum\\anaconda3\\lib\\site-packages\\scipy\\interpolate\\_fitpack_impl.py:512: RuntimeWarning: A theoretically impossible result when finding a smoothing spline\n",
      "with fp = s. Probable cause: s too small. (abs(fp-s)/s>0.001)\n",
      "  warnings.warn(RuntimeWarning(_iermess[ier][0]))\n",
      "C:\\Users\\whockei1\\AppData\\Local\\Continuum\\anaconda3\\lib\\site-packages\\scipy\\interpolate\\_fitpack_impl.py:512: RuntimeWarning: A theoretically impossible result when finding a smoothing spline\n",
      "with fp = s. Probable cause: s too small. (abs(fp-s)/s>0.001)\n",
      "  warnings.warn(RuntimeWarning(_iermess[ier][0]))\n",
      "C:\\Users\\whockei1\\AppData\\Local\\Continuum\\anaconda3\\lib\\site-packages\\scipy\\interpolate\\_fitpack_impl.py:512: RuntimeWarning: A theoretically impossible result when finding a smoothing spline\n",
      "with fp = s. Probable cause: s too small. (abs(fp-s)/s>0.001)\n",
      "  warnings.warn(RuntimeWarning(_iermess[ier][0]))\n",
      "C:\\Users\\whockei1\\AppData\\Local\\Continuum\\anaconda3\\lib\\site-packages\\scipy\\interpolate\\_fitpack_impl.py:512: RuntimeWarning: The maximal number of iterations (20) allowed for finding smoothing\n",
      "spline with fp=s has been reached. Probable cause: s too small.\n",
      "(abs(fp-s)/s>0.001)\n",
      "  warnings.warn(RuntimeWarning(_iermess[ier][0]))\n",
      "C:\\Users\\whockei1\\AppData\\Local\\Continuum\\anaconda3\\lib\\site-packages\\scipy\\interpolate\\_fitpack_impl.py:512: RuntimeWarning: A theoretically impossible result when finding a smoothing spline\n",
      "with fp = s. Probable cause: s too small. (abs(fp-s)/s>0.001)\n",
      "  warnings.warn(RuntimeWarning(_iermess[ier][0]))\n",
      "C:\\Users\\whockei1\\AppData\\Local\\Continuum\\anaconda3\\lib\\site-packages\\scipy\\interpolate\\_fitpack_impl.py:512: RuntimeWarning: A theoretically impossible result when finding a smoothing spline\n",
      "with fp = s. Probable cause: s too small. (abs(fp-s)/s>0.001)\n",
      "  warnings.warn(RuntimeWarning(_iermess[ier][0]))\n",
      "C:\\Users\\whockei1\\AppData\\Local\\Continuum\\anaconda3\\lib\\site-packages\\scipy\\interpolate\\_fitpack_impl.py:512: RuntimeWarning: A theoretically impossible result when finding a smoothing spline\n",
      "with fp = s. Probable cause: s too small. (abs(fp-s)/s>0.001)\n",
      "  warnings.warn(RuntimeWarning(_iermess[ier][0]))\n",
      "C:\\Users\\whockei1\\AppData\\Local\\Continuum\\anaconda3\\lib\\site-packages\\scipy\\interpolate\\_fitpack_impl.py:512: RuntimeWarning: A theoretically impossible result when finding a smoothing spline\n",
      "with fp = s. Probable cause: s too small. (abs(fp-s)/s>0.001)\n",
      "  warnings.warn(RuntimeWarning(_iermess[ier][0]))\n",
      "C:\\Users\\whockei1\\AppData\\Local\\Continuum\\anaconda3\\lib\\site-packages\\scipy\\interpolate\\_fitpack_impl.py:512: RuntimeWarning: A theoretically impossible result when finding a smoothing spline\n",
      "with fp = s. Probable cause: s too small. (abs(fp-s)/s>0.001)\n",
      "  warnings.warn(RuntimeWarning(_iermess[ier][0]))\n",
      "C:\\Users\\whockei1\\AppData\\Local\\Continuum\\anaconda3\\lib\\site-packages\\scipy\\interpolate\\_fitpack_impl.py:512: RuntimeWarning: A theoretically impossible result when finding a smoothing spline\n",
      "with fp = s. Probable cause: s too small. (abs(fp-s)/s>0.001)\n",
      "  warnings.warn(RuntimeWarning(_iermess[ier][0]))\n",
      "C:\\Users\\whockei1\\AppData\\Local\\Continuum\\anaconda3\\lib\\site-packages\\scipy\\interpolate\\_fitpack_impl.py:512: RuntimeWarning: A theoretically impossible result when finding a smoothing spline\n",
      "with fp = s. Probable cause: s too small. (abs(fp-s)/s>0.001)\n",
      "  warnings.warn(RuntimeWarning(_iermess[ier][0]))\n",
      "C:\\Users\\whockei1\\AppData\\Local\\Continuum\\anaconda3\\lib\\site-packages\\scipy\\interpolate\\_fitpack_impl.py:512: RuntimeWarning: A theoretically impossible result when finding a smoothing spline\n",
      "with fp = s. Probable cause: s too small. (abs(fp-s)/s>0.001)\n",
      "  warnings.warn(RuntimeWarning(_iermess[ier][0]))\n",
      "C:\\Users\\whockei1\\AppData\\Local\\Continuum\\anaconda3\\lib\\site-packages\\scipy\\interpolate\\_fitpack_impl.py:512: RuntimeWarning: The maximal number of iterations (20) allowed for finding smoothing\n",
      "spline with fp=s has been reached. Probable cause: s too small.\n",
      "(abs(fp-s)/s>0.001)\n",
      "  warnings.warn(RuntimeWarning(_iermess[ier][0]))\n",
      "C:\\Users\\whockei1\\AppData\\Local\\Continuum\\anaconda3\\lib\\site-packages\\scipy\\interpolate\\_fitpack_impl.py:512: RuntimeWarning: The maximal number of iterations (20) allowed for finding smoothing\n",
      "spline with fp=s has been reached. Probable cause: s too small.\n",
      "(abs(fp-s)/s>0.001)\n",
      "  warnings.warn(RuntimeWarning(_iermess[ier][0]))\n",
      "C:\\Users\\whockei1\\AppData\\Local\\Continuum\\anaconda3\\lib\\site-packages\\scipy\\interpolate\\_fitpack_impl.py:512: RuntimeWarning: A theoretically impossible result when finding a smoothing spline\n",
      "with fp = s. Probable cause: s too small. (abs(fp-s)/s>0.001)\n",
      "  warnings.warn(RuntimeWarning(_iermess[ier][0]))\n",
      "C:\\Users\\whockei1\\AppData\\Local\\Continuum\\anaconda3\\lib\\site-packages\\scipy\\interpolate\\_fitpack_impl.py:512: RuntimeWarning: A theoretically impossible result when finding a smoothing spline\n",
      "with fp = s. Probable cause: s too small. (abs(fp-s)/s>0.001)\n",
      "  warnings.warn(RuntimeWarning(_iermess[ier][0]))\n",
      "C:\\Users\\whockei1\\AppData\\Local\\Continuum\\anaconda3\\lib\\site-packages\\scipy\\interpolate\\_fitpack_impl.py:512: RuntimeWarning: The maximal number of iterations (20) allowed for finding smoothing\n",
      "spline with fp=s has been reached. Probable cause: s too small.\n",
      "(abs(fp-s)/s>0.001)\n",
      "  warnings.warn(RuntimeWarning(_iermess[ier][0]))\n",
      "C:\\Users\\whockei1\\AppData\\Local\\Continuum\\anaconda3\\lib\\site-packages\\scipy\\interpolate\\_fitpack_impl.py:512: RuntimeWarning: A theoretically impossible result when finding a smoothing spline\n",
      "with fp = s. Probable cause: s too small. (abs(fp-s)/s>0.001)\n",
      "  warnings.warn(RuntimeWarning(_iermess[ier][0]))\n",
      "C:\\Users\\whockei1\\AppData\\Local\\Continuum\\anaconda3\\lib\\site-packages\\scipy\\interpolate\\_fitpack_impl.py:512: RuntimeWarning: A theoretically impossible result when finding a smoothing spline\n",
      "with fp = s. Probable cause: s too small. (abs(fp-s)/s>0.001)\n",
      "  warnings.warn(RuntimeWarning(_iermess[ier][0]))\n"
     ]
    },
    {
     "name": "stderr",
     "output_type": "stream",
     "text": [
      "C:\\Users\\whockei1\\AppData\\Local\\Continuum\\anaconda3\\lib\\site-packages\\scipy\\interpolate\\_fitpack_impl.py:512: RuntimeWarning: A theoretically impossible result when finding a smoothing spline\n",
      "with fp = s. Probable cause: s too small. (abs(fp-s)/s>0.001)\n",
      "  warnings.warn(RuntimeWarning(_iermess[ier][0]))\n",
      "C:\\Users\\whockei1\\AppData\\Local\\Continuum\\anaconda3\\lib\\site-packages\\scipy\\interpolate\\_fitpack_impl.py:512: RuntimeWarning: A theoretically impossible result when finding a smoothing spline\n",
      "with fp = s. Probable cause: s too small. (abs(fp-s)/s>0.001)\n",
      "  warnings.warn(RuntimeWarning(_iermess[ier][0]))\n",
      "C:\\Users\\whockei1\\AppData\\Local\\Continuum\\anaconda3\\lib\\site-packages\\scipy\\interpolate\\_fitpack_impl.py:512: RuntimeWarning: A theoretically impossible result when finding a smoothing spline\n",
      "with fp = s. Probable cause: s too small. (abs(fp-s)/s>0.001)\n",
      "  warnings.warn(RuntimeWarning(_iermess[ier][0]))\n",
      "C:\\Users\\whockei1\\AppData\\Local\\Continuum\\anaconda3\\lib\\site-packages\\scipy\\interpolate\\_fitpack_impl.py:512: RuntimeWarning: A theoretically impossible result when finding a smoothing spline\n",
      "with fp = s. Probable cause: s too small. (abs(fp-s)/s>0.001)\n",
      "  warnings.warn(RuntimeWarning(_iermess[ier][0]))\n",
      "C:\\Users\\whockei1\\AppData\\Local\\Continuum\\anaconda3\\lib\\site-packages\\scipy\\interpolate\\_fitpack_impl.py:512: RuntimeWarning: A theoretically impossible result when finding a smoothing spline\n",
      "with fp = s. Probable cause: s too small. (abs(fp-s)/s>0.001)\n",
      "  warnings.warn(RuntimeWarning(_iermess[ier][0]))\n",
      "C:\\Users\\whockei1\\AppData\\Local\\Continuum\\anaconda3\\lib\\site-packages\\scipy\\interpolate\\_fitpack_impl.py:512: RuntimeWarning: A theoretically impossible result when finding a smoothing spline\n",
      "with fp = s. Probable cause: s too small. (abs(fp-s)/s>0.001)\n",
      "  warnings.warn(RuntimeWarning(_iermess[ier][0]))\n",
      "C:\\Users\\whockei1\\AppData\\Local\\Continuum\\anaconda3\\lib\\site-packages\\scipy\\interpolate\\_fitpack_impl.py:512: RuntimeWarning: A theoretically impossible result when finding a smoothing spline\n",
      "with fp = s. Probable cause: s too small. (abs(fp-s)/s>0.001)\n",
      "  warnings.warn(RuntimeWarning(_iermess[ier][0]))\n"
     ]
    },
    {
     "data": {
      "text/plain": [
       "(array([   0., 1000., 2000., 3000., 4000., 5000., 6000., 7000., 8000.]),\n",
       " <a list of 9 Text yticklabel objects>)"
      ]
     },
     "execution_count": 73,
     "metadata": {},
     "output_type": "execute_result"
    }
   ],
   "source": [
    "# shuffle visits within fields for a neuron\n",
    "svperfs = []\n",
    "for r in range(nshuffles):\n",
    "    sfields = shuffleFields(unit)\n",
    "    smats = makeSemaphores(sfields)\n",
    "    flatsmats = np.asarray([i.flatten() for i in smats])\n",
    "    \n",
    "    train, test = train_test_split(list(range(len(flatsmats))), test_size=testProp)\n",
    "    Xtrain, Xtest, Ytrain, Ytest = flatsmats[train], flatsmats[test], labels[train], labels[test]\n",
    "    neigh = KNeighborsClassifier(n_neighbors=2)\n",
    "    neigh.fit(Xtrain, Ytrain)\n",
    "    svperfs.append(sum(Ytest==neigh.predict(Xtest))/len(Xtest))  \n",
    "    \n",
    "real5pct = np.percentile(svperfs,5)\n",
    "plt.figure()\n",
    "plt.hist(svperfs)\n",
    "plt.vlines(real5pct,0,100,'r')\n",
    "plt.vlines(1/3,0,100,'grey')\n",
    "plt.title(f\"kNN Classifier of Semaphore Plots, {n} Epochs, {nshuffles} runs, shuff visits within field\", fontsize=18)\n",
    "plt.xticks(fontsize=18)\n",
    "plt.yticks(fontsize=18)"
   ]
  },
  {
   "cell_type": "code",
   "execution_count": 133,
   "metadata": {
    "collapsed": true
   },
   "outputs": [],
   "source": [
    "def rotateFields(unit):\n",
    "    \"\"\"\n",
    "    Input   - unit: Unit class object\n",
    "            \n",
    "    selects a temporal shift for each field. Shift is rotational such that \n",
    "    whatever 'falls off' end of vector 'comes back' to the front.\n",
    "    \n",
    "    Returns - GuttedField object with shifted fields in gunit.fields attribute\n",
    "    \"\"\"\n",
    "    gunit = GuttedUnit()\n",
    "    sfields = []\n",
    "    for field in unit.fields:\n",
    "        nvisits = field.shape[0]\n",
    "        shift = np.random.randint(0,nvisits)\n",
    "        sf = np.column_stack((field[:,0], np.roll(field[:,1], shift)))\n",
    "        sfields.append(sf)\n",
    "    gunit.fields = sfields\n",
    "    return gunit"
   ]
  },
  {
   "cell_type": "code",
   "execution_count": 169,
   "metadata": {
    "collapsed": true
   },
   "outputs": [],
   "source": [
    "def kNN_semaphore_decoding(unit, reps=50, n=2, epochs=3, stat='median', trainProp=0.67):\n",
    "    \"\"\"\n",
    "    kNearest Neighbor Decoding\n",
    "    input:  data - Unit class object \n",
    "            reps -  # decoding repeats\n",
    "            n - num neighbors for kNN\n",
    "            epochs - number of temporal epochs to divide data into to decode\n",
    "            stat - measure of decoding perf for each set of decoding runs (# = reps).\n",
    "                    choices are 'median' or 'mean'\n",
    "            trainProp - proportion of data to use as train (1-trainProp is test)\n",
    "                    \n",
    "    Takes Unit class object. Creates series of semaphore plots using makeSemaphores()\n",
    "    Then decodes temporal information from these. Semaphores divided into epochs,\n",
    "    ntrain proportion used to find nearest neighbors of test in euclidian space and see\n",
    "    if epoch labels match. Do multiple times and report a statistic of perf\n",
    "    \n",
    "    returns: scalar of decoding perf, as defined by 'stat'\n",
    "    \"\"\"\n",
    "    mats = makeSemaphores(unit.fields)\n",
    "    flatmats = np.asarray([i.flatten() for i in mats])\n",
    "    idx = np.ceil(np.linspace(0,len(flatmats),epochs+1)).astype(np.int)\n",
    "    labels = []\n",
    "    for i in range(len(idx)-1):\n",
    "        l= idx[i+1]-idx[i]\n",
    "        labels.extend([i]*l)\n",
    "    labels = np.asarray(labels)\n",
    "    \n",
    "    perfs = []\n",
    "    for rep in range(reps):\n",
    "        train, test = train_test_split(list(range(len(flatmats))), train_size=trainProp)\n",
    "        Xtrain, Xtest, Ytrain, Ytest = flatmats[train], flatmats[test], labels[train], labels[test]\n",
    "        neigh = KNeighborsClassifier(n_neighbors=nNeighbors)\n",
    "        neigh.fit(Xtrain, Ytrain)\n",
    "        perfs.append(sum(Ytest==neigh.predict(Xtest))/len(Xtest))  \n",
    "        \n",
    "    if stat == 'median':\n",
    "        sumStat = np.median(perfs)\n",
    "    elif stat == 'mean':\n",
    "        sumStat = np.mean(perfs)\n",
    "    else:\n",
    "        print(\"Invalid statistic supplied. Choose 'median' or 'mean' \")\n",
    "        sumStat = None\n",
    "    \n",
    "    return sumStat\n"
   ]
  },
  {
   "cell_type": "code",
   "execution_count": 238,
   "metadata": {
    "collapsed": true
   },
   "outputs": [],
   "source": [
    "# rotational shuffle - single cell, attempt to show cooperative temporal coding within cell\n",
    "# take each field and shift it by a random amount temporally. rotation means whatever data 'falls' off end cycles back to beginning\n",
    "\n",
    "# edit: below will shift some amount in mins, where each shift is at least a certain dist apart\n",
    "# but thinking more, maybe you preserve the actual visit times and just shift the activity at each one\n",
    "# # generate possible time offsets. do it this way to impose a min shift\n",
    "# minShift = 10/60 # numerator is min shift in s, divide by 60 express as % of a minute\n",
    "# shifts = np.arange(0,fmax,1/6)\n",
    "\n",
    "rsperfs = [] # each data point is the median or mean (depending on user choice) of multiple decodings of a single shuffle\n",
    "for n in range(nshuffles):\n",
    "    gunit = rotateFields(unit)\n",
    "    sperf = kNN_semaphore_decoding(gunit, reps=nreps, n=nNeighbors, epochs=epochs, stat='median', trainProp=trainProp)\n",
    "    rsperfs.append(sperf)"
   ]
  },
  {
   "cell_type": "code",
   "execution_count": 239,
   "metadata": {},
   "outputs": [
    {
     "data": {
      "text/plain": [
       "(array([  0.,  50., 100., 150., 200., 250., 300., 350., 400., 450.]),\n",
       " <a list of 10 Text yticklabel objects>)"
      ]
     },
     "execution_count": 239,
     "metadata": {},
     "output_type": "execute_result"
    }
   ],
   "source": [
    "plt.figure()\n",
    "plt.hist(rsperfs)\n",
    "rs95pct = np.percentile(rsperfs, 95)\n",
    "plt.vlines(rs95pct,0,100,'k')\n",
    "plt.title(f\"kNNc Semaphores, {epochs} Epochs, {nshuffles} shuffles, {nreps} clf/shuff, rotat. shuffle\", fontsize=18)\n",
    "plt.xticks(fontsize=18)\n",
    "plt.yticks(fontsize=18)"
   ]
  },
  {
   "cell_type": "markdown",
   "metadata": {},
   "source": [
    "### Consolidating rotational shuffle code into blocks/fx\n",
    "#### Everything but creating the pop dict (and imports) is done here (b/c that part as of mif aug 2020 is still not automated - not using the rep detection alg (though ryl did it) and getting rid of bad fields"
   ]
  },
  {
   "cell_type": "code",
   "execution_count": 15,
   "metadata": {
    "collapsed": true
   },
   "outputs": [],
   "source": [
    "class GuttedUnit():   \n",
    "    def __init__(self):\n",
    "        self.fields = []\n",
    "\n",
    "def kNN_semaphore_decoding(unit, reps=50, n=2, epochs=3, stat='median', trainProp=0.67, wnSize=5, wnStep=2):\n",
    "    \"\"\"\n",
    "    kNearest Neighbor Decoding\n",
    "    input:  data - Unit class object \n",
    "            reps -  # decoding repeats\n",
    "            n - num neighbors for kNN\n",
    "            epochs - number of temporal epochs to divide data into to decode\n",
    "            stat - measure of decoding perf for each set of decoding runs (# = reps).\n",
    "                    choices are 'median' or 'mean'\n",
    "            trainProp - proportion of data to use as train (1-trainProp is test)\n",
    "            wnSize - (for semaphore plot) sliding window size to create a single flag plot. unit in mins.\n",
    "            snStep - (for semaphore plot) sliding window slide amount. unit in mins.\n",
    "                    \n",
    "    Takes Unit class object. Creates series of semaphore plots using makeSemaphores()\n",
    "    Then decodes temporal information from these. Semaphores divided into epochs,\n",
    "    ntrain proportion used to find nearest neighbors of test in euclidian space and see\n",
    "    if epoch labels match. Do multiple times and report a statistic of perf\n",
    "    \n",
    "    returns: scalar of decoding perf, as defined by 'stat'\n",
    "    \"\"\"\n",
    "    mats,_ = RepCore.makeSemaphores(unit.fields, wnSize, wnStep)\n",
    "    flatmats = np.asarray([i.flatten() for i in np.asarray(mats)])\n",
    "    idx = np.ceil(np.linspace(0,len(flatmats),epochs+1)).astype(np.int)\n",
    "    labels = []\n",
    "    for i in range(len(idx)-1):\n",
    "        l= idx[i+1]-idx[i]\n",
    "        labels.extend([i]*l)\n",
    "    labels = np.asarray(labels)\n",
    "    \n",
    "    perfs = []\n",
    "    for rep in range(reps):\n",
    "        train, test = train_test_split(list(range(len(flatmats))), train_size=trainProp)\n",
    "        Xtrain, Xtest, Ytrain, Ytest = flatmats[train], flatmats[test], labels[train], labels[test]\n",
    "        neigh = KNeighborsClassifier(n_neighbors=nNeighbors)\n",
    "        neigh.fit(Xtrain, Ytrain)\n",
    "        perfs.append(sum(Ytest==neigh.predict(Xtest))/len(Xtest))  \n",
    "        \n",
    "    if stat == 'median':\n",
    "        sumStat = np.median(perfs)\n",
    "    elif stat == 'mean':\n",
    "        sumStat = np.mean(perfs)\n",
    "    else:\n",
    "        print(\"Invalid statistic supplied. Choose 'median' or 'mean' \")\n",
    "        sumStat = None\n",
    "    \n",
    "    return sumStat\n",
    "\n",
    "def rotateFields(unit):\n",
    "    \"\"\"\n",
    "    Input   - unit: Unit class object\n",
    "            \n",
    "    selects a temporal shift for each field. Shift is rotational such that \n",
    "    whatever 'falls off' end of vector 'comes back' to the front.\n",
    "    \n",
    "    Returns - GuttedField object with shifted fields in gunit.fields attribute\n",
    "    \"\"\"\n",
    "    gunit = GuttedUnit()\n",
    "    sfields = []\n",
    "    for field in unit.fields:\n",
    "        nvisits = field.shape[0]\n",
    "        shift = np.random.randint(0,nvisits)\n",
    "        sf = np.column_stack((field[:,0], np.roll(field[:,1], shift)))\n",
    "        sfields.append(sf)\n",
    "    gunit.fields = sfields\n",
    "    return gunit"
   ]
  },
  {
   "cell_type": "code",
   "execution_count": 6,
   "metadata": {},
   "outputs": [
    {
     "name": "stdout",
     "output_type": "stream",
     "text": [
      "0.03433906327312283\n",
      "0.10357974126952008\n",
      "0.6842628520340124\n"
     ]
    },
    {
     "name": "stderr",
     "output_type": "stream",
     "text": [
      "E:\\UserData\\Documents\\GitHub\\ratterdam\\RateMapClass_William_20190308.py:210: RuntimeWarning: invalid value encountered in greater_equal\n",
      "  aboveThreshold = np.where(rateMap >= max(fieldThreshold,0), True, False)\n",
      "C:\\Users\\whockei1\\AppData\\Roaming\\Python\\Python36\\site-packages\\skimage\\morphology\\_deprecated.py:5: skimage_deprecation: Function ``watershed`` is deprecated and will be removed in version 0.19. Use ``skimage.segmentation.watershed`` instead.\n",
      "  def watershed(image, markers=None, connectivity=1, offset=None, mask=None,\n",
      "C:\\Users\\whockei1\\AppData\\Roaming\\Python\\Python36\\site-packages\\skimage\\morphology\\_deprecated.py:5: skimage_deprecation: Function ``watershed`` is deprecated and will be removed in version 0.19. Use ``skimage.segmentation.watershed`` instead.\n",
      "  def watershed(image, markers=None, connectivity=1, offset=None, mask=None,\n",
      "E:\\UserData\\Documents\\GitHub\\ratterdam\\ratterdam_RepetitionCoreFx.py:107: RuntimeWarning: invalid value encountered in double_scalars\n",
      "  field_FR.append(spk.shape[0]/vdur)\n"
     ]
    }
   ],
   "source": [
    "rat = \"R808\"\n",
    "day = \"D6\"\n",
    "savepath = f'E:\\\\Ratterdam\\\\{rat}\\\\ratterdam_plots\\\\{day}\\\\'\n",
    "df = f'E:\\Ratterdam\\\\{rat}\\\\{rat}_RatterdamOpen_{day}\\\\'\n",
    "clust = 'TT15\\\\cl-maze1.1'\n",
    "unit = RepCore.loadRepeatingUnit(df, clust, smoothing=1)\n",
    "unit."
   ]
  },
  {
   "cell_type": "code",
   "execution_count": 16,
   "metadata": {},
   "outputs": [
    {
     "ename": "NameError",
     "evalue": "name 'clustname' is not defined",
     "output_type": "error",
     "traceback": [
      "\u001b[1;31m---------------------------------------------------------------------------\u001b[0m",
      "\u001b[1;31mNameError\u001b[0m                                 Traceback (most recent call last)",
      "\u001b[1;32m<ipython-input-16-ea8b6835526f>\u001b[0m in \u001b[0;36m<module>\u001b[1;34m()\u001b[0m\n\u001b[0;32m     22\u001b[0m     \u001b[0mplt\u001b[0m\u001b[1;33m.\u001b[0m\u001b[0mtitle\u001b[0m\u001b[1;33m(\u001b[0m\u001b[1;34mf\"** PASS ** {clustname} Temporal Epoch Decoding vs Rotational Shuffle\"\u001b[0m\u001b[1;33m)\u001b[0m\u001b[1;33m\u001b[0m\u001b[0m\n\u001b[0;32m     23\u001b[0m \u001b[1;32melse\u001b[0m\u001b[1;33m:\u001b[0m\u001b[1;33m\u001b[0m\u001b[0m\n\u001b[1;32m---> 24\u001b[1;33m     \u001b[0mplt\u001b[0m\u001b[1;33m.\u001b[0m\u001b[0mtitle\u001b[0m\u001b[1;33m(\u001b[0m\u001b[1;34mf\"{clustname} Temporal Epoch Decoding vs Rotational Shuffle\"\u001b[0m\u001b[1;33m)\u001b[0m\u001b[1;33m\u001b[0m\u001b[0m\n\u001b[0m\u001b[0;32m     25\u001b[0m \u001b[0mplt\u001b[0m\u001b[1;33m.\u001b[0m\u001b[0mhist\u001b[0m\u001b[1;33m(\u001b[0m\u001b[0mrsperfs\u001b[0m\u001b[1;33m)\u001b[0m\u001b[1;33m\u001b[0m\u001b[0m\n\u001b[0;32m     26\u001b[0m \u001b[0mplt\u001b[0m\u001b[1;33m.\u001b[0m\u001b[0mvlines\u001b[0m\u001b[1;33m(\u001b[0m\u001b[0mnull95pct\u001b[0m\u001b[1;33m,\u001b[0m \u001b[1;36m0\u001b[0m\u001b[1;33m,\u001b[0m \u001b[1;36m150\u001b[0m\u001b[1;33m,\u001b[0m \u001b[0mcolor\u001b[0m\u001b[1;33m=\u001b[0m\u001b[1;34m'k'\u001b[0m\u001b[1;33m)\u001b[0m\u001b[1;33m\u001b[0m\u001b[0m\n",
      "\u001b[1;31mNameError\u001b[0m: name 'clustname' is not defined"
     ]
    }
   ],
   "source": [
    "# Setup parameters and setup data\n",
    "epochs = 3 # number of temporal epochs to decode\n",
    "nshuffles = 250 # shuffles creating new data each time\n",
    "nreps = 50 # repeated decoding given a set of data\n",
    "trainProp = 0.7 # test is the complement\n",
    "nNeighbors = 2\n",
    "wnSize = 3\n",
    "wnStep = 1\n",
    "\n",
    "    \n",
    "realperf = kNN_semaphore_decoding(unit, reps=nreps, n=nNeighbors, epochs=epochs, stat='median', trainProp=trainProp, wnSize=wnSize, wnStep=wnStep)\n",
    "\n",
    "rsperfs = [] # each data point is the median or mean (depending on user choice) of multiple decodings of a single shuffle\n",
    "for n in range(nshuffles):\n",
    "    gunit = rotateFields(unit)\n",
    "    sperf = kNN_semaphore_decoding(gunit, reps=nreps, n=nNeighbors, epochs=epochs, stat='median', trainProp=trainProp, wnSize=wnSize, wnStep=wnStep)\n",
    "    rsperfs.append(sperf)\n",
    "\n",
    "null95pct = np.percentile(rsperfs, 95)"
   ]
  },
  {
   "cell_type": "code",
   "execution_count": null,
   "metadata": {
    "collapsed": true
   },
   "outputs": [],
   "source": []
  }
 ],
 "metadata": {
  "kernelspec": {
   "display_name": "Python 3",
   "language": "python",
   "name": "python3"
  },
  "language_info": {
   "codemirror_mode": {
    "name": "ipython",
    "version": 3
   },
   "file_extension": ".py",
   "mimetype": "text/x-python",
   "name": "python",
   "nbconvert_exporter": "python",
   "pygments_lexer": "ipython3",
   "version": "3.6.3"
  }
 },
 "nbformat": 4,
 "nbformat_minor": 2
}
