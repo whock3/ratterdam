{
 "cells": [
  {
   "cell_type": "code",
   "execution_count": 5,
   "metadata": {},
   "outputs": [],
   "source": [
    "import numpy as np, matplotlib.pyplot as plt, random, json, pickle, datetime, copy, socket, math\n",
    "from scipy.stats import sem\n",
    "import matplotlib.colors as colors\n",
    "from scipy.ndimage import gaussian_filter as gauss # for smoothing ratemaps\n",
    "import sys\n",
    "\n",
    "sys.path.insert(0, \"P:\\\\William\\\\\")\n",
    "import utility_fx as util\n",
    "import ratterdam_ParseBehavior as pBehav\n",
    "from ratterdam_Defaults import *\n",
    "import ratterdam_CoreDataStructures as core"
   ]
  },
  {
   "cell_type": "code",
   "execution_count": 8,
   "metadata": {},
   "outputs": [
    {
     "name": "stderr",
     "output_type": "stream",
     "text": [
      "P:\\William\\ratterdam_CoreDataStructures.py:139: RuntimeWarning: divide by zero encountered in reciprocal\n",
      "  n = (hs*np.reciprocal(ho))*33\n",
      "P:\\William\\ratterdam_CoreDataStructures.py:139: RuntimeWarning: invalid value encountered in multiply\n",
      "  n = (hs*np.reciprocal(ho))*33\n",
      "P:\\William\\utility_fx.py:308: RuntimeWarning: invalid value encountered in true_divide\n",
      "  Z=VV/WW\n",
      "P:\\William\\ratterdam_CoreDataStructures.py:145: RuntimeWarning: divide by zero encountered in reciprocal\n",
      "  n = (ls* np.reciprocal(lo)) * 33\n",
      "P:\\William\\ratterdam_CoreDataStructures.py:145: RuntimeWarning: invalid value encountered in multiply\n",
      "  n = (ls* np.reciprocal(lo)) * 33\n",
      "P:\\William\\utility_fx.py:304: RuntimeWarning: invalid value encountered in multiply\n",
      "  W=0*U.copy()+1\n"
     ]
    }
   ],
   "source": [
    "datafile  = \"P:\\\\William\\\\R765DFD4\\\\\"\n",
    "daycode = \"DFD4\"\n",
    "tt = \"TT14\"\n",
    "clust = \"cl-maze1.5\"\n",
    "clustName = tt + \"\\\\\" + clust\n",
    "behav = core.BehavioralData(datafile,daycode, velocity_filter_thresh)\n",
    "ts, position, alleyTracking, alleyVisits,  txtVisits = behav.loadData()\n",
    "unit = core.UnitData(clustName, datafile, daycode, alleyBounds, alleyVisits, txtVisits, position, ts)\n",
    "unit.loadData_raw()"
   ]
  },
  {
   "cell_type": "code",
   "execution_count": 12,
   "metadata": {
    "collapsed": true
   },
   "outputs": [],
   "source": [
    "cmap = util.makeCustomColormap()"
   ]
  },
  {
   "cell_type": "markdown",
   "metadata": {},
   "source": [
    "William: See if you can regenerate the following 2d ratemap. A complete ratemap\n",
    "will be smoothed and adjusted for the camera properties."
   ]
  },
  {
   "cell_type": "code",
   "execution_count": 13,
   "metadata": {},
   "outputs": [
    {
     "data": {
      "image/png": "[encoded data removed]",
      "text/plain": [
       "<matplotlib.figure.Figure at 0x1d32a48b630>"
      ]
     },
     "metadata": {},
     "output_type": "display_data"
    }
   ],
   "source": [
    "plt.imshow(unit.alleyRMS[12]['overall'],cmap=cmap)\n",
    "plt.colorbar()\n",
    "plt.show()"
   ]
  },
  {
   "cell_type": "code",
   "execution_count": null,
   "metadata": {
    "collapsed": true
   },
   "outputs": [],
   "source": []
  }
 ],
 "metadata": {
  "kernelspec": {
   "display_name": "Python 3",
   "language": "python",
   "name": "python3"
  },
  "language_info": {
   "codemirror_mode": {
    "name": "ipython",
    "version": 3
   },
   "file_extension": ".py",
   "mimetype": "text/x-python",
   "name": "python",
   "nbconvert_exporter": "python",
   "pygments_lexer": "ipython3",
   "version": "3.6.3"
  }
 },
 "nbformat": 4,
 "nbformat_minor": 2
}
