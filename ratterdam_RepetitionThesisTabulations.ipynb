{
 "cells": [
  {
   "cell_type": "markdown",
   "metadata": {},
   "source": [
    "# Ratterdam - Ratterdam Open - Data Tabulations and Figures For PhD Thesis Chapter 4"
   ]
  },
  {
   "cell_type": "code",
   "execution_count": 1,
   "metadata": {},
   "outputs": [],
   "source": [
    "import ratterdam_CoreDataStructures as Core\n",
    "import ratterdam_ParseBehavior as Parse\n",
    "import numpy as np\n",
    "from importlib import reload\n",
    "from scipy.stats import sem\n",
    "import utility_fx as util\n",
    "import os\n",
    "import matplotlib.gridspec as gridspec\n",
    "from matplotlib import pyplot as plt\n",
    "import ratterdam_Defaults as Def\n",
    "import ratterdam_visBasic as Vis\n",
    "import RateMapClass_William_20190308 as RateMapClass\n",
    "import repeatingPC\n",
    "import placeFieldBorders\n",
    "import ratterdam_RepetitionCoreFx as RepCore\n",
    "import williamDefaults as wmDef\n",
    "from matplotlib.backends.backend_pdf import PdfPages\n",
    "import more_itertools, itertools\n",
    "from sklearn.metrics import auc\n",
    "from sklearn.model_selection import train_test_split\n",
    "from sklearn.neighbors import KNeighborsClassifier\n",
    "import alphashape\n",
    "from descartes import PolygonPatch\n",
    "from scipy.interpolate import splrep, splev\n",
    "from scipy.spatial import ConvexHull\n",
    "import scipy"
   ]
  },
  {
   "cell_type": "code",
   "execution_count": 2,
   "metadata": {
    "collapsed": true
   },
   "outputs": [],
   "source": [
    "%qtconsole --style native\n",
    "%matplotlib qt5"
   ]
  },
  {
   "cell_type": "code",
   "execution_count": 279,
   "metadata": {},
   "outputs": [
    {
     "name": "stderr",
     "output_type": "stream",
     "text": [
      "E:\\UserData\\Documents\\GitHub\\ratterdam\\RateMapClass_William_20190308.py:210: RuntimeWarning: invalid value encountered in greater_equal\n",
      "  aboveThreshold = np.where(rateMap >= max(fieldThreshold,0), True, False)\n",
      "E:\\UserData\\Documents\\GitHub\\ratterdam\\utility_fx.py:502: RuntimeWarning: divide by zero encountered in reciprocal\n",
      "  n = (hs*np.reciprocal(ho))*30\n",
      "E:\\UserData\\Documents\\GitHub\\ratterdam\\utility_fx.py:502: RuntimeWarning: invalid value encountered in multiply\n",
      "  n = (hs*np.reciprocal(ho))*30\n",
      "E:\\UserData\\Documents\\GitHub\\ratterdam\\utility_fx.py:329: RuntimeWarning: invalid value encountered in true_divide\n",
      "  Z=VV/WW\n"
     ]
    },
    {
     "name": "stdout",
     "output_type": "stream",
     "text": [
      "0.006589475140153219\n"
     ]
    },
    {
     "name": "stderr",
     "output_type": "stream",
     "text": [
      "C:\\Users\\whockei1\\AppData\\Roaming\\Python\\Python36\\site-packages\\skimage\\morphology\\_deprecated.py:5: skimage_deprecation: Function ``watershed`` is deprecated and will be removed in version 0.19. Use ``skimage.segmentation.watershed`` instead.\n",
      "  def watershed(image, markers=None, connectivity=1, offset=None, mask=None,\n",
      "C:\\Users\\whockei1\\AppData\\Roaming\\Python\\Python36\\site-packages\\skimage\\morphology\\_deprecated.py:5: skimage_deprecation: Function ``watershed`` is deprecated and will be removed in version 0.19. Use ``skimage.segmentation.watershed`` instead.\n",
      "  def watershed(image, markers=None, connectivity=1, offset=None, mask=None,\n",
      "E:\\UserData\\Documents\\GitHub\\ratterdam\\ratterdam_RepetitionCoreFx.py:108: RuntimeWarning: invalid value encountered in double_scalars\n",
      "  field_FR.append(spk.shape[0]/vdur)\n",
      "E:\\UserData\\Documents\\GitHub\\ratterdam\\ratterdam_RepetitionCoreFx.py:115: RuntimeWarning: divide by zero encountered in double_scalars\n",
      "  print(totalRate/area)\n",
      "E:\\UserData\\Documents\\GitHub\\ratterdam\\utility_fx.py:502: RuntimeWarning: divide by zero encountered in reciprocal\n",
      "  n = (hs*np.reciprocal(ho))*30\n",
      "E:\\UserData\\Documents\\GitHub\\ratterdam\\utility_fx.py:502: RuntimeWarning: invalid value encountered in multiply\n",
      "  n = (hs*np.reciprocal(ho))*30\n",
      "E:\\UserData\\Documents\\GitHub\\ratterdam\\utility_fx.py:329: RuntimeWarning: invalid value encountered in true_divide\n",
      "  Z=VV/WW\n"
     ]
    },
    {
     "name": "stdout",
     "output_type": "stream",
     "text": [
      "0.21581618993274176\n",
      "inf\n",
      "0.12416742024906888\n",
      "0.03247738743042725\n",
      "0.1641653201356898\n",
      "0.17415676461975985\n",
      "0.42408807198485887\n",
      "0.17027409428679008\n"
     ]
    },
    {
     "name": "stderr",
     "output_type": "stream",
     "text": [
      "E:\\UserData\\Documents\\GitHub\\ratterdam\\RateMapClass_William_20190308.py:210: RuntimeWarning: invalid value encountered in greater_equal\n",
      "  aboveThreshold = np.where(rateMap >= max(fieldThreshold,0), True, False)\n",
      "C:\\Users\\whockei1\\AppData\\Roaming\\Python\\Python36\\site-packages\\skimage\\morphology\\_deprecated.py:5: skimage_deprecation: Function ``watershed`` is deprecated and will be removed in version 0.19. Use ``skimage.segmentation.watershed`` instead.\n",
      "  def watershed(image, markers=None, connectivity=1, offset=None, mask=None,\n",
      "C:\\Users\\whockei1\\AppData\\Roaming\\Python\\Python36\\site-packages\\skimage\\morphology\\_deprecated.py:5: skimage_deprecation: Function ``watershed`` is deprecated and will be removed in version 0.19. Use ``skimage.segmentation.watershed`` instead.\n",
      "  def watershed(image, markers=None, connectivity=1, offset=None, mask=None,\n",
      "C:\\Users\\whockei1\\AppData\\Roaming\\Python\\Python36\\site-packages\\skimage\\morphology\\_deprecated.py:5: skimage_deprecation: Function ``watershed`` is deprecated and will be removed in version 0.19. Use ``skimage.segmentation.watershed`` instead.\n",
      "  def watershed(image, markers=None, connectivity=1, offset=None, mask=None,\n",
      "C:\\Users\\whockei1\\AppData\\Roaming\\Python\\Python36\\site-packages\\skimage\\morphology\\_deprecated.py:5: skimage_deprecation: Function ``watershed`` is deprecated and will be removed in version 0.19. Use ``skimage.segmentation.watershed`` instead.\n",
      "  def watershed(image, markers=None, connectivity=1, offset=None, mask=None,\n",
      "C:\\Users\\whockei1\\AppData\\Roaming\\Python\\Python36\\site-packages\\skimage\\morphology\\_deprecated.py:5: skimage_deprecation: Function ``watershed`` is deprecated and will be removed in version 0.19. Use ``skimage.segmentation.watershed`` instead.\n",
      "  def watershed(image, markers=None, connectivity=1, offset=None, mask=None,\n",
      "C:\\Users\\whockei1\\AppData\\Roaming\\Python\\Python36\\site-packages\\skimage\\morphology\\_deprecated.py:5: skimage_deprecation: Function ``watershed`` is deprecated and will be removed in version 0.19. Use ``skimage.segmentation.watershed`` instead.\n",
      "  def watershed(image, markers=None, connectivity=1, offset=None, mask=None,\n",
      "E:\\UserData\\Documents\\GitHub\\ratterdam\\ratterdam_RepetitionCoreFx.py:108: RuntimeWarning: invalid value encountered in double_scalars\n",
      "  field_FR.append(spk.shape[0]/vdur)\n",
      "E:\\UserData\\Documents\\GitHub\\ratterdam\\ratterdam_RepetitionCoreFx.py:115: RuntimeWarning: divide by zero encountered in double_scalars\n",
      "  print(totalRate/area)\n",
      "E:\\UserData\\Documents\\GitHub\\ratterdam\\utility_fx.py:502: RuntimeWarning: divide by zero encountered in reciprocal\n",
      "  n = (hs*np.reciprocal(ho))*30\n",
      "E:\\UserData\\Documents\\GitHub\\ratterdam\\utility_fx.py:502: RuntimeWarning: invalid value encountered in multiply\n",
      "  n = (hs*np.reciprocal(ho))*30\n",
      "E:\\UserData\\Documents\\GitHub\\ratterdam\\utility_fx.py:329: RuntimeWarning: invalid value encountered in true_divide\n",
      "  Z=VV/WW\n"
     ]
    },
    {
     "name": "stdout",
     "output_type": "stream",
     "text": [
      "0.2190261878786599\n",
      "0.05571558143333716\n",
      "0.008223092649319719\n",
      "0.00952452528883523\n",
      "inf\n",
      "0.018082339350390667\n"
     ]
    },
    {
     "name": "stderr",
     "output_type": "stream",
     "text": [
      "E:\\UserData\\Documents\\GitHub\\ratterdam\\RateMapClass_William_20190308.py:210: RuntimeWarning: invalid value encountered in greater_equal\n",
      "  aboveThreshold = np.where(rateMap >= max(fieldThreshold,0), True, False)\n",
      "C:\\Users\\whockei1\\AppData\\Roaming\\Python\\Python36\\site-packages\\skimage\\morphology\\_deprecated.py:5: skimage_deprecation: Function ``watershed`` is deprecated and will be removed in version 0.19. Use ``skimage.segmentation.watershed`` instead.\n",
      "  def watershed(image, markers=None, connectivity=1, offset=None, mask=None,\n",
      "C:\\Users\\whockei1\\AppData\\Roaming\\Python\\Python36\\site-packages\\skimage\\morphology\\_deprecated.py:5: skimage_deprecation: Function ``watershed`` is deprecated and will be removed in version 0.19. Use ``skimage.segmentation.watershed`` instead.\n",
      "  def watershed(image, markers=None, connectivity=1, offset=None, mask=None,\n",
      "C:\\Users\\whockei1\\AppData\\Roaming\\Python\\Python36\\site-packages\\skimage\\morphology\\_deprecated.py:5: skimage_deprecation: Function ``watershed`` is deprecated and will be removed in version 0.19. Use ``skimage.segmentation.watershed`` instead.\n",
      "  def watershed(image, markers=None, connectivity=1, offset=None, mask=None,\n",
      "C:\\Users\\whockei1\\AppData\\Roaming\\Python\\Python36\\site-packages\\skimage\\morphology\\_deprecated.py:5: skimage_deprecation: Function ``watershed`` is deprecated and will be removed in version 0.19. Use ``skimage.segmentation.watershed`` instead.\n",
      "  def watershed(image, markers=None, connectivity=1, offset=None, mask=None,\n",
      "E:\\UserData\\Documents\\GitHub\\ratterdam\\ratterdam_RepetitionCoreFx.py:108: RuntimeWarning: invalid value encountered in double_scalars\n",
      "  field_FR.append(spk.shape[0]/vdur)\n",
      "E:\\UserData\\Documents\\GitHub\\ratterdam\\utility_fx.py:502: RuntimeWarning: divide by zero encountered in reciprocal\n",
      "  n = (hs*np.reciprocal(ho))*30\n",
      "E:\\UserData\\Documents\\GitHub\\ratterdam\\utility_fx.py:502: RuntimeWarning: invalid value encountered in multiply\n",
      "  n = (hs*np.reciprocal(ho))*30\n",
      "E:\\UserData\\Documents\\GitHub\\ratterdam\\utility_fx.py:329: RuntimeWarning: invalid value encountered in true_divide\n",
      "  Z=VV/WW\n"
     ]
    },
    {
     "name": "stdout",
     "output_type": "stream",
     "text": [
      "0.48736945932345255\n",
      "0.056930476026581696\n"
     ]
    },
    {
     "name": "stderr",
     "output_type": "stream",
     "text": [
      "E:\\UserData\\Documents\\GitHub\\ratterdam\\RateMapClass_William_20190308.py:210: RuntimeWarning: invalid value encountered in greater_equal\n",
      "  aboveThreshold = np.where(rateMap >= max(fieldThreshold,0), True, False)\n"
     ]
    },
    {
     "name": "stdout",
     "output_type": "stream",
     "text": [
      "0.18393158717961192\n"
     ]
    },
    {
     "name": "stderr",
     "output_type": "stream",
     "text": [
      "C:\\Users\\whockei1\\AppData\\Roaming\\Python\\Python36\\site-packages\\skimage\\morphology\\_deprecated.py:5: skimage_deprecation: Function ``watershed`` is deprecated and will be removed in version 0.19. Use ``skimage.segmentation.watershed`` instead.\n",
      "  def watershed(image, markers=None, connectivity=1, offset=None, mask=None,\n",
      "C:\\Users\\whockei1\\AppData\\Roaming\\Python\\Python36\\site-packages\\skimage\\morphology\\_deprecated.py:5: skimage_deprecation: Function ``watershed`` is deprecated and will be removed in version 0.19. Use ``skimage.segmentation.watershed`` instead.\n",
      "  def watershed(image, markers=None, connectivity=1, offset=None, mask=None,\n",
      "C:\\Users\\whockei1\\AppData\\Roaming\\Python\\Python36\\site-packages\\skimage\\morphology\\_deprecated.py:5: skimage_deprecation: Function ``watershed`` is deprecated and will be removed in version 0.19. Use ``skimage.segmentation.watershed`` instead.\n",
      "  def watershed(image, markers=None, connectivity=1, offset=None, mask=None,\n",
      "C:\\Users\\whockei1\\AppData\\Roaming\\Python\\Python36\\site-packages\\skimage\\morphology\\_deprecated.py:5: skimage_deprecation: Function ``watershed`` is deprecated and will be removed in version 0.19. Use ``skimage.segmentation.watershed`` instead.\n",
      "  def watershed(image, markers=None, connectivity=1, offset=None, mask=None,\n",
      "E:\\UserData\\Documents\\GitHub\\ratterdam\\ratterdam_RepetitionCoreFx.py:108: RuntimeWarning: invalid value encountered in double_scalars\n",
      "  field_FR.append(spk.shape[0]/vdur)\n",
      "E:\\UserData\\Documents\\GitHub\\ratterdam\\ratterdam_RepetitionCoreFx.py:115: RuntimeWarning: divide by zero encountered in double_scalars\n",
      "  print(totalRate/area)\n",
      "E:\\UserData\\Documents\\GitHub\\ratterdam\\utility_fx.py:502: RuntimeWarning: divide by zero encountered in reciprocal\n",
      "  n = (hs*np.reciprocal(ho))*30\n",
      "E:\\UserData\\Documents\\GitHub\\ratterdam\\utility_fx.py:502: RuntimeWarning: invalid value encountered in multiply\n",
      "  n = (hs*np.reciprocal(ho))*30\n",
      "E:\\UserData\\Documents\\GitHub\\ratterdam\\utility_fx.py:329: RuntimeWarning: invalid value encountered in true_divide\n",
      "  Z=VV/WW\n"
     ]
    },
    {
     "name": "stdout",
     "output_type": "stream",
     "text": [
      "inf\n",
      "1.247316494181724\n",
      "0.028150369125101226\n",
      "0.02151979832759892\n",
      "0.016216078937154252\n",
      "0.027356838517426263\n"
     ]
    },
    {
     "name": "stderr",
     "output_type": "stream",
     "text": [
      "E:\\UserData\\Documents\\GitHub\\ratterdam\\RateMapClass_William_20190308.py:210: RuntimeWarning: invalid value encountered in greater_equal\n",
      "  aboveThreshold = np.where(rateMap >= max(fieldThreshold,0), True, False)\n",
      "C:\\Users\\whockei1\\AppData\\Roaming\\Python\\Python36\\site-packages\\skimage\\morphology\\_deprecated.py:5: skimage_deprecation: Function ``watershed`` is deprecated and will be removed in version 0.19. Use ``skimage.segmentation.watershed`` instead.\n",
      "  def watershed(image, markers=None, connectivity=1, offset=None, mask=None,\n",
      "C:\\Users\\whockei1\\AppData\\Roaming\\Python\\Python36\\site-packages\\skimage\\morphology\\_deprecated.py:5: skimage_deprecation: Function ``watershed`` is deprecated and will be removed in version 0.19. Use ``skimage.segmentation.watershed`` instead.\n",
      "  def watershed(image, markers=None, connectivity=1, offset=None, mask=None,\n",
      "C:\\Users\\whockei1\\AppData\\Roaming\\Python\\Python36\\site-packages\\skimage\\morphology\\_deprecated.py:5: skimage_deprecation: Function ``watershed`` is deprecated and will be removed in version 0.19. Use ``skimage.segmentation.watershed`` instead.\n",
      "  def watershed(image, markers=None, connectivity=1, offset=None, mask=None,\n",
      "C:\\Users\\whockei1\\AppData\\Roaming\\Python\\Python36\\site-packages\\skimage\\morphology\\_deprecated.py:5: skimage_deprecation: Function ``watershed`` is deprecated and will be removed in version 0.19. Use ``skimage.segmentation.watershed`` instead.\n",
      "  def watershed(image, markers=None, connectivity=1, offset=None, mask=None,\n",
      "C:\\Users\\whockei1\\AppData\\Roaming\\Python\\Python36\\site-packages\\skimage\\morphology\\_deprecated.py:5: skimage_deprecation: Function ``watershed`` is deprecated and will be removed in version 0.19. Use ``skimage.segmentation.watershed`` instead.\n",
      "  def watershed(image, markers=None, connectivity=1, offset=None, mask=None,\n",
      "C:\\Users\\whockei1\\AppData\\Roaming\\Python\\Python36\\site-packages\\skimage\\morphology\\_deprecated.py:5: skimage_deprecation: Function ``watershed`` is deprecated and will be removed in version 0.19. Use ``skimage.segmentation.watershed`` instead.\n",
      "  def watershed(image, markers=None, connectivity=1, offset=None, mask=None,\n",
      "C:\\Users\\whockei1\\AppData\\Roaming\\Python\\Python36\\site-packages\\skimage\\morphology\\_deprecated.py:5: skimage_deprecation: Function ``watershed`` is deprecated and will be removed in version 0.19. Use ``skimage.segmentation.watershed`` instead.\n",
      "  def watershed(image, markers=None, connectivity=1, offset=None, mask=None,\n",
      "E:\\UserData\\Documents\\GitHub\\ratterdam\\ratterdam_RepetitionCoreFx.py:108: RuntimeWarning: invalid value encountered in double_scalars\n",
      "  field_FR.append(spk.shape[0]/vdur)\n",
      "E:\\UserData\\Documents\\GitHub\\ratterdam\\utility_fx.py:502: RuntimeWarning: divide by zero encountered in reciprocal\n",
      "  n = (hs*np.reciprocal(ho))*30\n",
      "E:\\UserData\\Documents\\GitHub\\ratterdam\\utility_fx.py:502: RuntimeWarning: invalid value encountered in multiply\n",
      "  n = (hs*np.reciprocal(ho))*30\n",
      "E:\\UserData\\Documents\\GitHub\\ratterdam\\utility_fx.py:329: RuntimeWarning: invalid value encountered in true_divide\n",
      "  Z=VV/WW\n"
     ]
    },
    {
     "name": "stdout",
     "output_type": "stream",
     "text": [
      "2.2536570760227574\n",
      "0.09220673080519834\n",
      "0.03373808842566017\n",
      "0.008339619709876718\n",
      "0.09242256878638812\n",
      "0.006589394934312696\n"
     ]
    },
    {
     "name": "stderr",
     "output_type": "stream",
     "text": [
      "E:\\UserData\\Documents\\GitHub\\ratterdam\\RateMapClass_William_20190308.py:210: RuntimeWarning: invalid value encountered in greater_equal\n",
      "  aboveThreshold = np.where(rateMap >= max(fieldThreshold,0), True, False)\n",
      "C:\\Users\\whockei1\\AppData\\Roaming\\Python\\Python36\\site-packages\\skimage\\morphology\\_deprecated.py:5: skimage_deprecation: Function ``watershed`` is deprecated and will be removed in version 0.19. Use ``skimage.segmentation.watershed`` instead.\n",
      "  def watershed(image, markers=None, connectivity=1, offset=None, mask=None,\n",
      "C:\\Users\\whockei1\\AppData\\Roaming\\Python\\Python36\\site-packages\\skimage\\morphology\\_deprecated.py:5: skimage_deprecation: Function ``watershed`` is deprecated and will be removed in version 0.19. Use ``skimage.segmentation.watershed`` instead.\n",
      "  def watershed(image, markers=None, connectivity=1, offset=None, mask=None,\n",
      "C:\\Users\\whockei1\\AppData\\Roaming\\Python\\Python36\\site-packages\\skimage\\morphology\\_deprecated.py:5: skimage_deprecation: Function ``watershed`` is deprecated and will be removed in version 0.19. Use ``skimage.segmentation.watershed`` instead.\n",
      "  def watershed(image, markers=None, connectivity=1, offset=None, mask=None,\n",
      "C:\\Users\\whockei1\\AppData\\Roaming\\Python\\Python36\\site-packages\\skimage\\morphology\\_deprecated.py:5: skimage_deprecation: Function ``watershed`` is deprecated and will be removed in version 0.19. Use ``skimage.segmentation.watershed`` instead.\n",
      "  def watershed(image, markers=None, connectivity=1, offset=None, mask=None,\n",
      "E:\\UserData\\Documents\\GitHub\\ratterdam\\utility_fx.py:502: RuntimeWarning: divide by zero encountered in reciprocal\n",
      "  n = (hs*np.reciprocal(ho))*30\n",
      "E:\\UserData\\Documents\\GitHub\\ratterdam\\utility_fx.py:502: RuntimeWarning: invalid value encountered in multiply\n",
      "  n = (hs*np.reciprocal(ho))*30\n",
      "E:\\UserData\\Documents\\GitHub\\ratterdam\\utility_fx.py:329: RuntimeWarning: invalid value encountered in true_divide\n",
      "  Z=VV/WW\n"
     ]
    },
    {
     "name": "stdout",
     "output_type": "stream",
     "text": [
      "0.0017592808595002704\n"
     ]
    },
    {
     "name": "stderr",
     "output_type": "stream",
     "text": [
      "E:\\UserData\\Documents\\GitHub\\ratterdam\\RateMapClass_William_20190308.py:210: RuntimeWarning: invalid value encountered in greater_equal\n",
      "  aboveThreshold = np.where(rateMap >= max(fieldThreshold,0), True, False)\n",
      "C:\\Users\\whockei1\\AppData\\Roaming\\Python\\Python36\\site-packages\\skimage\\morphology\\_deprecated.py:5: skimage_deprecation: Function ``watershed`` is deprecated and will be removed in version 0.19. Use ``skimage.segmentation.watershed`` instead.\n",
      "  def watershed(image, markers=None, connectivity=1, offset=None, mask=None,\n",
      "C:\\Users\\whockei1\\AppData\\Roaming\\Python\\Python36\\site-packages\\skimage\\morphology\\_deprecated.py:5: skimage_deprecation: Function ``watershed`` is deprecated and will be removed in version 0.19. Use ``skimage.segmentation.watershed`` instead.\n",
      "  def watershed(image, markers=None, connectivity=1, offset=None, mask=None,\n",
      "E:\\UserData\\Documents\\GitHub\\ratterdam\\ratterdam_RepetitionCoreFx.py:108: RuntimeWarning: invalid value encountered in double_scalars\n",
      "  field_FR.append(spk.shape[0]/vdur)\n",
      "E:\\UserData\\Documents\\GitHub\\ratterdam\\utility_fx.py:502: RuntimeWarning: divide by zero encountered in reciprocal\n",
      "  n = (hs*np.reciprocal(ho))*30\n",
      "E:\\UserData\\Documents\\GitHub\\ratterdam\\utility_fx.py:502: RuntimeWarning: invalid value encountered in multiply\n",
      "  n = (hs*np.reciprocal(ho))*30\n",
      "E:\\UserData\\Documents\\GitHub\\ratterdam\\utility_fx.py:329: RuntimeWarning: invalid value encountered in true_divide\n",
      "  Z=VV/WW\n"
     ]
    },
    {
     "name": "stdout",
     "output_type": "stream",
     "text": [
      "0.03433906327312283\n",
      "0.10357974126952008\n",
      "0.6842628520340124\n"
     ]
    },
    {
     "name": "stderr",
     "output_type": "stream",
     "text": [
      "E:\\UserData\\Documents\\GitHub\\ratterdam\\RateMapClass_William_20190308.py:210: RuntimeWarning: invalid value encountered in greater_equal\n",
      "  aboveThreshold = np.where(rateMap >= max(fieldThreshold,0), True, False)\n"
     ]
    },
    {
     "name": "stdout",
     "output_type": "stream",
     "text": [
      "1.2076468340729303\n"
     ]
    },
    {
     "name": "stderr",
     "output_type": "stream",
     "text": [
      "C:\\Users\\whockei1\\AppData\\Roaming\\Python\\Python36\\site-packages\\skimage\\morphology\\_deprecated.py:5: skimage_deprecation: Function ``watershed`` is deprecated and will be removed in version 0.19. Use ``skimage.segmentation.watershed`` instead.\n",
      "  def watershed(image, markers=None, connectivity=1, offset=None, mask=None,\n",
      "C:\\Users\\whockei1\\AppData\\Roaming\\Python\\Python36\\site-packages\\skimage\\morphology\\_deprecated.py:5: skimage_deprecation: Function ``watershed`` is deprecated and will be removed in version 0.19. Use ``skimage.segmentation.watershed`` instead.\n",
      "  def watershed(image, markers=None, connectivity=1, offset=None, mask=None,\n",
      "C:\\Users\\whockei1\\AppData\\Roaming\\Python\\Python36\\site-packages\\skimage\\morphology\\_deprecated.py:5: skimage_deprecation: Function ``watershed`` is deprecated and will be removed in version 0.19. Use ``skimage.segmentation.watershed`` instead.\n",
      "  def watershed(image, markers=None, connectivity=1, offset=None, mask=None,\n",
      "C:\\Users\\whockei1\\AppData\\Roaming\\Python\\Python36\\site-packages\\skimage\\morphology\\_deprecated.py:5: skimage_deprecation: Function ``watershed`` is deprecated and will be removed in version 0.19. Use ``skimage.segmentation.watershed`` instead.\n",
      "  def watershed(image, markers=None, connectivity=1, offset=None, mask=None,\n",
      "C:\\Users\\whockei1\\AppData\\Roaming\\Python\\Python36\\site-packages\\skimage\\morphology\\_deprecated.py:5: skimage_deprecation: Function ``watershed`` is deprecated and will be removed in version 0.19. Use ``skimage.segmentation.watershed`` instead.\n",
      "  def watershed(image, markers=None, connectivity=1, offset=None, mask=None,\n",
      "C:\\Users\\whockei1\\AppData\\Roaming\\Python\\Python36\\site-packages\\skimage\\morphology\\_deprecated.py:5: skimage_deprecation: Function ``watershed`` is deprecated and will be removed in version 0.19. Use ``skimage.segmentation.watershed`` instead.\n",
      "  def watershed(image, markers=None, connectivity=1, offset=None, mask=None,\n",
      "C:\\Users\\whockei1\\AppData\\Roaming\\Python\\Python36\\site-packages\\skimage\\morphology\\_deprecated.py:5: skimage_deprecation: Function ``watershed`` is deprecated and will be removed in version 0.19. Use ``skimage.segmentation.watershed`` instead.\n",
      "  def watershed(image, markers=None, connectivity=1, offset=None, mask=None,\n",
      "C:\\Users\\whockei1\\AppData\\Roaming\\Python\\Python36\\site-packages\\skimage\\morphology\\_deprecated.py:5: skimage_deprecation: Function ``watershed`` is deprecated and will be removed in version 0.19. Use ``skimage.segmentation.watershed`` instead.\n",
      "  def watershed(image, markers=None, connectivity=1, offset=None, mask=None,\n",
      "E:\\UserData\\Documents\\GitHub\\ratterdam\\ratterdam_RepetitionCoreFx.py:108: RuntimeWarning: invalid value encountered in double_scalars\n",
      "  field_FR.append(spk.shape[0]/vdur)\n",
      "E:\\UserData\\Documents\\GitHub\\ratterdam\\utility_fx.py:502: RuntimeWarning: divide by zero encountered in reciprocal\n",
      "  n = (hs*np.reciprocal(ho))*30\n",
      "E:\\UserData\\Documents\\GitHub\\ratterdam\\utility_fx.py:502: RuntimeWarning: invalid value encountered in multiply\n",
      "  n = (hs*np.reciprocal(ho))*30\n",
      "E:\\UserData\\Documents\\GitHub\\ratterdam\\utility_fx.py:329: RuntimeWarning: invalid value encountered in true_divide\n",
      "  Z=VV/WW\n"
     ]
    },
    {
     "name": "stdout",
     "output_type": "stream",
     "text": [
      "0.11260006884565736\n",
      "0.03463589061959136\n",
      "0.09280388673956205\n",
      "0.046281705989596585\n"
     ]
    },
    {
     "name": "stderr",
     "output_type": "stream",
     "text": [
      "E:\\UserData\\Documents\\GitHub\\ratterdam\\RateMapClass_William_20190308.py:210: RuntimeWarning: invalid value encountered in greater_equal\n",
      "  aboveThreshold = np.where(rateMap >= max(fieldThreshold,0), True, False)\n"
     ]
    },
    {
     "name": "stdout",
     "output_type": "stream",
     "text": [
      "0.060049637838043755\n"
     ]
    },
    {
     "name": "stderr",
     "output_type": "stream",
     "text": [
      "C:\\Users\\whockei1\\AppData\\Roaming\\Python\\Python36\\site-packages\\skimage\\morphology\\_deprecated.py:5: skimage_deprecation: Function ``watershed`` is deprecated and will be removed in version 0.19. Use ``skimage.segmentation.watershed`` instead.\n",
      "  def watershed(image, markers=None, connectivity=1, offset=None, mask=None,\n",
      "C:\\Users\\whockei1\\AppData\\Roaming\\Python\\Python36\\site-packages\\skimage\\morphology\\_deprecated.py:5: skimage_deprecation: Function ``watershed`` is deprecated and will be removed in version 0.19. Use ``skimage.segmentation.watershed`` instead.\n",
      "  def watershed(image, markers=None, connectivity=1, offset=None, mask=None,\n",
      "C:\\Users\\whockei1\\AppData\\Roaming\\Python\\Python36\\site-packages\\skimage\\morphology\\_deprecated.py:5: skimage_deprecation: Function ``watershed`` is deprecated and will be removed in version 0.19. Use ``skimage.segmentation.watershed`` instead.\n",
      "  def watershed(image, markers=None, connectivity=1, offset=None, mask=None,\n",
      "C:\\Users\\whockei1\\AppData\\Roaming\\Python\\Python36\\site-packages\\skimage\\morphology\\_deprecated.py:5: skimage_deprecation: Function ``watershed`` is deprecated and will be removed in version 0.19. Use ``skimage.segmentation.watershed`` instead.\n",
      "  def watershed(image, markers=None, connectivity=1, offset=None, mask=None,\n",
      "C:\\Users\\whockei1\\AppData\\Roaming\\Python\\Python36\\site-packages\\skimage\\morphology\\_deprecated.py:5: skimage_deprecation: Function ``watershed`` is deprecated and will be removed in version 0.19. Use ``skimage.segmentation.watershed`` instead.\n",
      "  def watershed(image, markers=None, connectivity=1, offset=None, mask=None,\n",
      "C:\\Users\\whockei1\\AppData\\Roaming\\Python\\Python36\\site-packages\\skimage\\morphology\\_deprecated.py:5: skimage_deprecation: Function ``watershed`` is deprecated and will be removed in version 0.19. Use ``skimage.segmentation.watershed`` instead.\n",
      "  def watershed(image, markers=None, connectivity=1, offset=None, mask=None,\n",
      "C:\\Users\\whockei1\\AppData\\Roaming\\Python\\Python36\\site-packages\\skimage\\morphology\\_deprecated.py:5: skimage_deprecation: Function ``watershed`` is deprecated and will be removed in version 0.19. Use ``skimage.segmentation.watershed`` instead.\n",
      "  def watershed(image, markers=None, connectivity=1, offset=None, mask=None,\n",
      "C:\\Users\\whockei1\\AppData\\Roaming\\Python\\Python36\\site-packages\\skimage\\morphology\\_deprecated.py:5: skimage_deprecation: Function ``watershed`` is deprecated and will be removed in version 0.19. Use ``skimage.segmentation.watershed`` instead.\n",
      "  def watershed(image, markers=None, connectivity=1, offset=None, mask=None,\n",
      "C:\\Users\\whockei1\\AppData\\Roaming\\Python\\Python36\\site-packages\\skimage\\morphology\\_deprecated.py:5: skimage_deprecation: Function ``watershed`` is deprecated and will be removed in version 0.19. Use ``skimage.segmentation.watershed`` instead.\n",
      "  def watershed(image, markers=None, connectivity=1, offset=None, mask=None,\n",
      "C:\\Users\\whockei1\\AppData\\Roaming\\Python\\Python36\\site-packages\\skimage\\morphology\\_deprecated.py:5: skimage_deprecation: Function ``watershed`` is deprecated and will be removed in version 0.19. Use ``skimage.segmentation.watershed`` instead.\n",
      "  def watershed(image, markers=None, connectivity=1, offset=None, mask=None,\n",
      "C:\\Users\\whockei1\\AppData\\Roaming\\Python\\Python36\\site-packages\\skimage\\morphology\\_deprecated.py:5: skimage_deprecation: Function ``watershed`` is deprecated and will be removed in version 0.19. Use ``skimage.segmentation.watershed`` instead.\n",
      "  def watershed(image, markers=None, connectivity=1, offset=None, mask=None,\n",
      "C:\\Users\\whockei1\\AppData\\Roaming\\Python\\Python36\\site-packages\\skimage\\morphology\\_deprecated.py:5: skimage_deprecation: Function ``watershed`` is deprecated and will be removed in version 0.19. Use ``skimage.segmentation.watershed`` instead.\n",
      "  def watershed(image, markers=None, connectivity=1, offset=None, mask=None,\n",
      "C:\\Users\\whockei1\\AppData\\Roaming\\Python\\Python36\\site-packages\\skimage\\morphology\\_deprecated.py:5: skimage_deprecation: Function ``watershed`` is deprecated and will be removed in version 0.19. Use ``skimage.segmentation.watershed`` instead.\n",
      "  def watershed(image, markers=None, connectivity=1, offset=None, mask=None,\n",
      "C:\\Users\\whockei1\\AppData\\Roaming\\Python\\Python36\\site-packages\\skimage\\morphology\\_deprecated.py:5: skimage_deprecation: Function ``watershed`` is deprecated and will be removed in version 0.19. Use ``skimage.segmentation.watershed`` instead.\n",
      "  def watershed(image, markers=None, connectivity=1, offset=None, mask=None,\n",
      "C:\\Users\\whockei1\\AppData\\Roaming\\Python\\Python36\\site-packages\\skimage\\morphology\\_deprecated.py:5: skimage_deprecation: Function ``watershed`` is deprecated and will be removed in version 0.19. Use ``skimage.segmentation.watershed`` instead.\n",
      "  def watershed(image, markers=None, connectivity=1, offset=None, mask=None,\n",
      "C:\\Users\\whockei1\\AppData\\Roaming\\Python\\Python36\\site-packages\\skimage\\morphology\\_deprecated.py:5: skimage_deprecation: Function ``watershed`` is deprecated and will be removed in version 0.19. Use ``skimage.segmentation.watershed`` instead.\n",
      "  def watershed(image, markers=None, connectivity=1, offset=None, mask=None,\n",
      "C:\\Users\\whockei1\\AppData\\Roaming\\Python\\Python36\\site-packages\\skimage\\morphology\\_deprecated.py:5: skimage_deprecation: Function ``watershed`` is deprecated and will be removed in version 0.19. Use ``skimage.segmentation.watershed`` instead.\n",
      "  def watershed(image, markers=None, connectivity=1, offset=None, mask=None,\n",
      "C:\\Users\\whockei1\\AppData\\Roaming\\Python\\Python36\\site-packages\\skimage\\morphology\\_deprecated.py:5: skimage_deprecation: Function ``watershed`` is deprecated and will be removed in version 0.19. Use ``skimage.segmentation.watershed`` instead.\n",
      "  def watershed(image, markers=None, connectivity=1, offset=None, mask=None,\n",
      "E:\\UserData\\Documents\\GitHub\\ratterdam\\ratterdam_RepetitionCoreFx.py:108: RuntimeWarning: invalid value encountered in double_scalars\n",
      "  field_FR.append(spk.shape[0]/vdur)\n"
     ]
    },
    {
     "name": "stdout",
     "output_type": "stream",
     "text": [
      "1.8859482461012058\n",
      "0.053925314094379256\n"
     ]
    },
    {
     "name": "stderr",
     "output_type": "stream",
     "text": [
      "E:\\UserData\\Documents\\GitHub\\ratterdam\\utility_fx.py:502: RuntimeWarning: divide by zero encountered in reciprocal\n",
      "  n = (hs*np.reciprocal(ho))*30\n",
      "E:\\UserData\\Documents\\GitHub\\ratterdam\\utility_fx.py:502: RuntimeWarning: invalid value encountered in multiply\n",
      "  n = (hs*np.reciprocal(ho))*30\n",
      "E:\\UserData\\Documents\\GitHub\\ratterdam\\utility_fx.py:329: RuntimeWarning: invalid value encountered in true_divide\n",
      "  Z=VV/WW\n"
     ]
    }
   ],
   "source": [
    "rat = \"R808\"\n",
    "day = \"D6\"\n",
    "savepath = f'E:\\\\Ratterdam\\\\{rat}\\\\ratterdam_plots\\\\{day}\\\\'\n",
    "df = f'E:\\Ratterdam\\\\{rat}\\\\{rat}_RatterdamOpen_{day}\\\\'\n",
    "clustList = util.getClustList(df)\n",
    "inclusts = []\n",
    "population = {}\n",
    "for clust in clustList:\n",
    "    unit = RepCore.loadRepeatingUnit(df, clust, 1)\n",
    "    rm = util.makeRM(unit.spikes, unit.position)\n",
    "    if np.nanpercentile(rm, 95) > 1.:\n",
    "        population[clust] = unit\n",
    "        inclusts.append(clust)"
   ]
  },
  {
   "cell_type": "code",
   "execution_count": 280,
   "metadata": {},
   "outputs": [
    {
     "name": "stdout",
     "output_type": "stream",
     "text": [
      "TT12\\cl-maze1.10\n",
      "TT12\\cl-maze1.2\n",
      "TT12\\cl-maze1.3\n",
      "TT12\\cl-maze1.7\n",
      "TT12\\cl-maze1.8\n",
      "TT15\\cl-maze1.1\n",
      "TT15\\cl-maze1.2\n",
      "TT15\\cl-maze1.3\n",
      "TT15\\cl-maze1.5\n"
     ]
    }
   ],
   "source": [
    "### Clean up Borders and Test for Repetition ###\n",
    "for clust in inclusts:\n",
    "    print(clust)\n",
    "    revbord = placeFieldBorders.reorderBorders(population[clust])\n",
    "    population[clust].perimeters = revbord\n",
    "    \n",
    "#repeatingPC.repeatingPC([population[i] for i in inclusts],population[inclusts[0]].position,f\"Repetition Testing {rat}{day}\",[population[i].name for i in inclusts],rat,day)"
   ]
  },
  {
   "cell_type": "code",
   "execution_count": 61,
   "metadata": {},
   "outputs": [
    {
     "name": "stdout",
     "output_type": "stream",
     "text": [
      "[['Rat number', 'Day', 'Tetrode number', 'Unit', 'Repetition?', 'Repeated type\\n'], ['R859', 'D3', '', 'TT10\\\\cl-maze1.3', 'True', 'horizontalverticalintersection\\n'], ['R859', 'D3', '', 'TT12\\\\cl-maze1.1', 'True', 'intersection\\n'], ['R859', 'D3', '', 'TT12\\\\cl-maze1.4', 'True', 'horizontalverticalintersection\\n'], ['R859', 'D3', '', 'TT1_0001\\\\cl-maze1.1', 'True', 'horizontalverticalintersection\\n'], ['R859', 'D3', '', 'TT1_0001\\\\cl-maze1.2', 'True', 'horizontalverticalintersection\\n'], ['R859', 'D3', '', 'TT1_0001\\\\cl-maze1.4', 'True', 'horizontal\\n'], ['R859', 'D3', '', 'TT1_0001\\\\cl-maze1.5', 'True', 'horizontalverticalintersection\\n'], ['R859', 'D3', '', 'TT3\\\\cl-maze1.2', 'True', 'horizontalverticalintersection\\n'], ['R859', 'D3', '', 'TT3\\\\cl-maze1.3', 'True', 'horizontalverticalintersection\\n'], ['R859', 'D3', '', 'TT3\\\\cl-maze1.5', 'True', 'horizontalvertical\\n'], ['R859', 'D3', '', 'TT3\\\\cl-maze1.6', 'True', 'horizontalverticalintersection\\n'], ['R859', 'D3', '', 'TT6\\\\cl-maze1.1', 'True', 'horizontalintersection\\n'], ['R859', 'D3', '', 'TT6\\\\cl-maze1.2', 'False', '\\n'], ['R859', 'D3', '', 'TT6\\\\cl-maze1.3', 'True', 'horizontalverticalintersection\\n'], ['R859', 'D3', '', 'TT6\\\\cl-maze1.5', 'True', 'horizontalintersection\\n'], ['R859', 'D3', '', 'TT6\\\\cl-maze1.6', 'True', 'horizontalverticalintersection\\n'], ['R859', 'D3', '', 'TT6\\\\cl-maze1.7', 'True', 'vertical\\n'], ['R859', 'D3', '', 'TT6\\\\cl-maze1.8', 'False', '\\n'], ['R859', 'D3', '', 'TT7_0001\\\\cl-maze1.4', 'True', 'horizontalintersection\\n'], ['R859', 'D3', '', 'TT7_0001\\\\cl-maze1.6', 'True', 'horizontalverticalintersection\\n'], ['R859', 'D3', '', 'TT7_0001\\\\cl-maze1.7', 'True', 'verticalintersection\\n'], ['R859', 'D3', '', 'TT8_0001\\\\cl-maze1.1', 'True', 'horizontalverticalintersection\\n'], ['R859', 'D3', '', 'TT8_0001\\\\cl-maze1.2', 'True', 'horizontalverticalintersection\\n'], ['R859', 'D3', '', 'TT8_0001\\\\cl-maze1.3', 'True', 'horizontalverticalintersection\\n'], ['R859', 'D3', '', 'TT8_0001\\\\cl-maze1.4', 'True', 'horizontalverticalintersection\\n']]\n"
     ]
    }
   ],
   "source": [
    "f = 'Repetition Testing R859D3'\n",
    "\n",
    "with open(f,'r') as file:\n",
    "    lines = [i.split(',') for i in file.readlines()]"
   ]
  },
  {
   "cell_type": "code",
   "execution_count": 88,
   "metadata": {
    "collapsed": true
   },
   "outputs": [],
   "source": [
    "reptypes = ['v','h','i','vh','vi','hi','vih']\n",
    "repcounts = {i:0 for i in reptypes}\n",
    "totalrepcount = 0\n",
    "for entry in lines[1:]:\n",
    "    if entry[4] == 'True':\n",
    "        v,h,i = False, False, False\n",
    "        totalrepcount += 1\n",
    "        if 'vertical' in entry[5]:\n",
    "            v = True\n",
    "        if 'horizontal' in entry[5]:\n",
    "            h = True\n",
    "        if 'intersection' in entry[5]:\n",
    "            i = True\n",
    "            \n",
    "        if v == True and h == True and i == True:\n",
    "            repcounts['vih'] += 1\n",
    "        elif v == True and h == True:\n",
    "            repcounts['vh'] += 1\n",
    "        elif v == True and i == True:\n",
    "            repcounts['vi'] += 1\n",
    "        elif h == True and i == True:\n",
    "            repcounts['hi'] += 1\n",
    "        elif v == True:\n",
    "            repcounts['v'] += 1\n",
    "        elif h == True:\n",
    "            repcounts['h'] += 1\n",
    "        elif i == True:\n",
    "            repcounts['i'] += 1"
   ]
  },
  {
   "cell_type": "code",
   "execution_count": 106,
   "metadata": {
    "collapsed": true
   },
   "outputs": [],
   "source": [
    " def plot_stacked_bar(data, series_labels, category_labels=None, \n",
    "                     show_values=False, value_format=\"{}\", y_label=None, \n",
    "                     colors=None, grid=True, reverse=False):\n",
    "    \"\"\"\n",
    "    Not WH. taken from https://stackoverflow.com/questions/44309507/stacked-bar-plot-using-matplotlib User: Bill\n",
    "    Plots a stacked bar chart with the data and labels provided.\n",
    "\n",
    "    Keyword arguments:\n",
    "    data            -- 2-dimensional numpy array or nested list\n",
    "                       containing data for each series in rows\n",
    "    series_labels   -- list of series labels (these appear in\n",
    "                       the legend)\n",
    "    category_labels -- list of category labels (these appear\n",
    "                       on the x-axis)\n",
    "    show_values     -- If True then numeric value labels will \n",
    "                       be shown on each bar\n",
    "    value_format    -- Format string for numeric value labels\n",
    "                       (default is \"{}\")\n",
    "    y_label         -- Label for y-axis (str)\n",
    "    colors          -- List of color labels\n",
    "    grid            -- If True display grid\n",
    "    reverse         -- If True reverse the order that the\n",
    "                       series are displayed (left-to-right\n",
    "                       or right-to-left)\n",
    "    \"\"\"\n",
    "\n",
    "    ny = len(data[0])\n",
    "    ind = list(range(ny))\n",
    "\n",
    "    axes = []\n",
    "    cum_size = np.zeros(ny)\n",
    "\n",
    "    data = np.array(data)\n",
    "\n",
    "    if reverse:\n",
    "        data = np.flip(data, axis=1)\n",
    "        category_labels = reversed(category_labels)\n",
    "\n",
    "    for i, row_data in enumerate(data):\n",
    "        color = colors[i] if colors is not None else None\n",
    "        axes.append(plt.bar(ind, row_data, bottom=cum_size, \n",
    "                            label=series_labels[i], color=color))\n",
    "        cum_size += row_data\n",
    "\n",
    "    if category_labels:\n",
    "        plt.xticks(ind, category_labels)\n",
    "\n",
    "    if y_label:\n",
    "        plt.ylabel(y_label)\n",
    "\n",
    "    plt.legend()\n",
    "\n",
    "    if grid:\n",
    "        plt.grid()\n",
    "\n",
    "    if show_values:\n",
    "        for axis in axes:\n",
    "            for bar in axis:\n",
    "                w, h = bar.get_width(), bar.get_height()\n",
    "                plt.text(bar.get_x() + w/2, bar.get_y() + h/2, \n",
    "                         value_format.format(h), ha=\"center\", \n",
    "                         va=\"center\")"
   ]
  },
  {
   "cell_type": "markdown",
   "metadata": {
    "collapsed": true
   },
   "source": [
    "## Figure 1 - Overview of repetition and experiment "
   ]
  },
  {
   "cell_type": "code",
   "execution_count": 21,
   "metadata": {
    "collapsed": true
   },
   "outputs": [],
   "source": [
    "unit = population[inclusts[8]]\n",
    "cmap= util.makeCustomColormap()\n",
    "fig, ax = plt.subplots(1,1, figsize=(10,14))\n",
    "\n",
    "fig.axes[0].imshow(unit.repUnit.rateMap2D, origin='lower', aspect='auto', interpolation='None', \n",
    "                   cmap=cmap, vmax=np.nanpercentile(unit.repUnit.rateMap2D, 98),\n",
    "            extent=[wmDef.xedges[0], wmDef.xedges[-1], wmDef.yedges[0], wmDef.yedges[-1]])\n",
    "fig.axes[0].set_title(f\"{clust}, cutoff = {round(np.nanpercentile(unit.repUnit.rateMap2D, 98),2)}Hz\", fontsize=20)\n",
    "fig.axes[0].axis('equal')\n",
    "fig.axes[0].set_ylim([0,480])\n",
    "fig.axes[0].set_xlim([0, 640])\n",
    "fig.axes[0].set_xticks([])\n",
    "fig.axes[0].set_yticks([])\n",
    "fig.axes[0].spines['top'].set_visible(False)\n",
    "fig.axes[0].spines['right'].set_visible(False)\n",
    "fig.axes[0].spines['bottom'].set_visible(False)\n",
    "fig.axes[0].spines['left'].set_visible(False)\n",
    "colors = ['r','g','b','k','y','o','w']\n",
    "for i in range(len(unit.fields[:5])):\n",
    "    fig.axes[0].plot(unit.perimeters[i][:,0], unit.perimeters[i][:,1],color=unit.colors[i])"
   ]
  },
  {
   "cell_type": "markdown",
   "metadata": {
    "collapsed": true
   },
   "source": [
    "## Fig - Interfield Rates and Decoding"
   ]
  },
  {
   "cell_type": "code",
   "execution_count": 306,
   "metadata": {},
   "outputs": [
    {
     "name": "stderr",
     "output_type": "stream",
     "text": [
      "C:\\Users\\whockei1\\AppData\\Local\\Continuum\\anaconda3\\lib\\site-packages\\matplotlib\\colorbar.py:215: UserWarning: Use the colorbar set_ticks() method instead.\n",
      "  warnings.warn(\"Use the colorbar set_ticks() method instead.\")\n"
     ]
    }
   ],
   "source": [
    "fa = unit.fields\n",
    "#fa = [np.column_stack((i[:,0],np.random.permutation(i[:,1]))) for i in unit.fields]\n",
    "sm,wins = RepCore.makeSemaphores(fa,s=5,wnSize=3*1e6*60,wnStep=1*1e6*60)\n",
    "wins = [(((i[0]-wins[0][0])/1e6)/60,((i[1]-wins[0][0])/1e6)/60) for i in wins]\n",
    "RepCore.plotMats(unit.name, sm, wins, vthresh=[0,5], cm =None)\n",
    "cm=RepCore.corrOfMats(sm,True,True)\n",
    "c = cm[np.triu_indices(cm.shape[0])].mean()"
   ]
  },
  {
   "cell_type": "code",
   "execution_count": 141,
   "metadata": {
    "collapsed": true
   },
   "outputs": [],
   "source": [
    "cms = []\n",
    "for i in range():\n",
    "    fa = [np.column_stack((i[:,0],np.random.permutation(i[:,1]))) for i in unit.fields]\n",
    "    sm,wins = RepCore.makeSemaphores(fa,s=25,wnSize=3*1e6*60,wnStep=1*1e6*60)\n",
    "    wins = [(((i[0]-wins[0][0])/1e6)/60,((i[1]-wins[0][0])/1e6)/60) for i in wins]\n",
    "    cm=RepCore.corrOfMats(sm,plot=False, ret=True)\n",
    "    avgcorr = cm[np.triu_indices(cm.shape[0])].mean()\n",
    "    cms.append(avgcorr)"
   ]
  },
  {
   "cell_type": "code",
   "execution_count": 145,
   "metadata": {},
   "outputs": [
    {
     "data": {
      "text/plain": [
       "<matplotlib.collections.LineCollection at 0x24e028fc6d8>"
      ]
     },
     "execution_count": 145,
     "metadata": {},
     "output_type": "execute_result"
    }
   ],
   "source": [
    "plt.figure()\n",
    "plt.hist(cms)\n",
    "plt.vlines(np.percentile(cms,5),0,200,color='k')\n",
    "plt.vlines(c,0,200,color='r')"
   ]
  },
  {
   "cell_type": "markdown",
   "metadata": {
    "collapsed": true
   },
   "source": [
    "## Fig - Temporal Decoding"
   ]
  },
  {
   "cell_type": "code",
   "execution_count": 307,
   "metadata": {
    "collapsed": true
   },
   "outputs": [],
   "source": [
    "class GuttedUnit():   \n",
    "    def __init__(self):\n",
    "        self.fields = []\n",
    "\n",
    "def kNN_semaphore_decoding(unit, reps=50, s=5, n=2, epochs=3, stat='median', trainProp=0.67, wnSize=5, wnStep=2):\n",
    "    \"\"\"\n",
    "    kNearest Neighbor Decoding\n",
    "    input:  data - Unit class object \n",
    "            reps -  # decoding repeats\n",
    "            n - num neighbors for kNN\n",
    "            epochs - number of temporal epochs to divide data into to decode\n",
    "            stat - measure of decoding perf for each set of decoding runs (# = reps).\n",
    "                    choices are 'median' or 'mean'\n",
    "            trainProp - proportion of data to use as train (1-trainProp is test)\n",
    "            wnSize - (for semaphore plot) sliding window size to create a single flag plot. unit in mins.\n",
    "            snStep - (for semaphore plot) sliding window slide amount. unit in mins.\n",
    "                    \n",
    "    Takes Unit class object. Creates series of semaphore plots using makeSemaphores()\n",
    "    Then decodes temporal information from these. Semaphores divided into epochs,\n",
    "    ntrain proportion used to find nearest neighbors of test in euclidian space and see\n",
    "    if epoch labels match. Do multiple times and report a statistic of perf\n",
    "    \n",
    "    returns: scalar of decoding perf, as defined by 'stat'\n",
    "    \"\"\"\n",
    "    mats,_ = RepCore.makeSemaphores(unit.fields, s=s, wnSize=wnSize, wnStep=wnStep)\n",
    "    flatmats = np.asarray([np.asarray(i).flatten() for i in mats])\n",
    "    idx = np.ceil(np.linspace(0,len(flatmats),epochs+1)).astype(np.int)\n",
    "    labels = []\n",
    "    for i in range(len(idx)-1):\n",
    "        l= idx[i+1]-idx[i]\n",
    "        labels.extend([i]*l)\n",
    "    labels = np.asarray(labels)\n",
    "    \n",
    "    perfs = []\n",
    "    for rep in range(reps):\n",
    "        train, test = train_test_split(list(range(len(flatmats))), train_size=trainProp)\n",
    "        Xtrain, Xtest, Ytrain, Ytest = flatmats[train], flatmats[test], labels[train], labels[test]\n",
    "        neigh = KNeighborsClassifier(n_neighbors=nNeighbors)\n",
    "        neigh.fit(Xtrain, Ytrain)\n",
    "        perfs.append(sum(Ytest==neigh.predict(Xtest))/len(Xtest))  \n",
    "        \n",
    "    if stat == 'median':\n",
    "        sumStat = np.median(perfs)\n",
    "    elif stat == 'mean':\n",
    "        sumStat = np.mean(perfs)\n",
    "    else:\n",
    "        print(\"Invalid statistic supplied. Choose 'median' or 'mean' \")\n",
    "        sumStat = None\n",
    "    \n",
    "    return sumStat\n",
    "\n",
    "def rotateFields(unit):\n",
    "    \"\"\"\n",
    "    Input   - unit: Unit class object\n",
    "            \n",
    "    selects a temporal shift for each field. Shift is rotational such that \n",
    "    whatever 'falls off' end of vector 'comes back' to the front.\n",
    "    \n",
    "    Returns - GuttedField object with shifted fields in gunit.fields attribute\n",
    "    \"\"\"\n",
    "    gunit = GuttedUnit()\n",
    "    sfields = []\n",
    "    for field in unit.fields:\n",
    "        nvisits = field.shape[0]\n",
    "        shift = np.random.randint(0,nvisits)\n",
    "        sf = np.column_stack((field[:,0], np.roll(field[:,1], shift)))\n",
    "        sfields.append(sf)\n",
    "    gunit.fields = sfields\n",
    "    return gunit\n",
    "\n",
    "def shuffleFields(unit):\n",
    "    \"\"\"\n",
    "    Takes a unit class as input and shuffles the firing rates of each field\n",
    "    w.r.t. time. Returns a GuttedUnit obj with .fields attr\n",
    "    which is list of (n,2) numpy arrays where n is the number of\n",
    "    visits for each field (and thus n varies as a fx of field)\n",
    "    \"\"\"\n",
    "    fields = []\n",
    "    gunit = GuttedUnit()\n",
    "    for field in unit.fields:\n",
    "        fields.append(np.column_stack((field[:,0],np.random.permutation(field[:,1]))))\n",
    "    gunit.fields = fields\n",
    "    return unit"
   ]
  },
  {
   "cell_type": "code",
   "execution_count": 308,
   "metadata": {
    "collapsed": true
   },
   "outputs": [],
   "source": [
    "# Setup parameters and setup data\n",
    "epochs = 3 # number of temporal epochs to decode\n",
    "nshuffles = 250 # shuffles creating new data each time\n",
    "nreps = 50 # repeated decoding given a set of data\n",
    "trainProp = 0.7 # test is the complement\n",
    "nNeighbors = 2\n",
    "s=5\n",
    "wnSize = 3*1e6*60\n",
    "wnStep = 1*1e6*60\n",
    "    \n",
    "realperf = kNN_semaphore_decoding(unit, s=s, reps=nreps, n=nNeighbors, epochs=epochs, stat='median', trainProp=trainProp, wnSize=wnSize, wnStep=wnStep)\n",
    "\n",
    "rsperfs = [] # each data point is the median or mean (depending on user choice) of multiple decodings of a single shuffle\n",
    "fsperfs = []\n",
    "\n",
    "for n in range(nshuffles):\n",
    "    gunit = rotateFields(unit)\n",
    "    rsperf = kNN_semaphore_decoding(gunit, s=s, reps=nreps, n=nNeighbors, epochs=epochs, stat='median', trainProp=trainProp, wnSize=wnSize, wnStep=wnStep)\n",
    "    \n",
    "    gunit = shuffleFields(unit)\n",
    "    fsperf = kNN_semaphore_decoding(gunit, s=s, reps=nreps, n=nNeighbors, epochs=epochs, stat='median', trainProp=trainProp, wnSize=wnSize, wnStep=wnStep)\n",
    "    \n",
    "    rsperfs.append(rsperf)\n",
    "    fsperfs.append(fsperf)\n",
    "    "
   ]
  },
  {
   "cell_type": "code",
   "execution_count": null,
   "metadata": {
    "collapsed": true
   },
   "outputs": [],
   "source": [
    "null95pct = np.percentile(rsperfs, 95)\n",
    "plt.figure()\n",
    "if realperf >= null95pct:\n",
    "    plt.title(f\"** PASS ** {clustname} Temporal Epoch Decoding vs Rotational Shuffle\")\n",
    "else:\n",
    "    plt.title(f\"{clustname} Temporal Epoch Decoding vs Rotational Shuffle\")\n",
    "plt.hist(rsperfs)\n",
    "plt.vlines(null95pct, 0, 150, color='k')\n",
    "plt.vlines(realperf, 0, 100, color='r')"
   ]
  }
 ],
 "metadata": {
  "kernelspec": {
   "display_name": "Python 3",
   "language": "python",
   "name": "python3"
  },
  "language_info": {
   "codemirror_mode": {
    "name": "ipython",
    "version": 3
   },
   "file_extension": ".py",
   "mimetype": "text/x-python",
   "name": "python",
   "nbconvert_exporter": "python",
   "pygments_lexer": "ipython3",
   "version": "3.6.3"
  }
 },
 "nbformat": 4,
 "nbformat_minor": 2
}
