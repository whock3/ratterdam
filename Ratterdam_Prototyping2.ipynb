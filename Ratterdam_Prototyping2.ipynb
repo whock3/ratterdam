{
 "cells": [
  {
   "cell_type": "code",
   "execution_count": 1,
   "metadata": {
    "collapsed": true
   },
   "outputs": [],
   "source": [
    "import ratterdam_CoreDataStructures as Core\n",
    "import ratterdam_ParseBehavior as Parse\n",
    "import ratterdam_Defaults as Def\n",
    "import ratterdam_visBasic as Vis\n",
    "import utility_fx as util\n",
    "\n",
    "import numpy as np\n",
    "from scipy.stats import sem\n",
    "import os, sys\n",
    "import matplotlib.gridspec as gridspec\n",
    "from matplotlib import pyplot as plt\n",
    "from scipy.interpolate import interp1d"
   ]
  },
  {
   "cell_type": "code",
   "execution_count": 2,
   "metadata": {
    "collapsed": true
   },
   "outputs": [],
   "source": [
    "%qtconsole --style native"
   ]
  },
  {
   "cell_type": "code",
   "execution_count": 4,
   "metadata": {
    "collapsed": true
   },
   "outputs": [],
   "source": [
    "datafile = \"C:\\\\Users\\\\whock\\\\Google Drive\\\\KnierimLab\\\\Ratterdam\\\\Data\\\\R781\\\\Beltway_D3\\\\\"\n",
    "expCode = \"BRD3\"\n",
    "alleyTracking, alleyVisits,  txtVisits, p_sess, ts_sess = Parse.getDaysBehavioralData(datafile, expCode)"
   ]
  },
  {
   "cell_type": "code",
   "execution_count": 5,
   "metadata": {},
   "outputs": [
    {
     "name": "stderr",
     "output_type": "stream",
     "text": [
      "C:\\Users\\whock\\Google Drive\\KnierimLab\\Ratterdam\\Code\\ratterdam_CoreDataStructures.py:138: RuntimeWarning: divide by zero encountered in reciprocal\n",
      "  n = (hs*np.reciprocal(ho))*33\n",
      "C:\\Users\\whock\\Google Drive\\KnierimLab\\Ratterdam\\Code\\ratterdam_CoreDataStructures.py:138: RuntimeWarning: invalid value encountered in multiply\n",
      "  n = (hs*np.reciprocal(ho))*33\n",
      "C:\\Users\\whock\\Google Drive\\KnierimLab\\Ratterdam\\Code\\ratterdam_CoreDataStructures.py:144: RuntimeWarning: divide by zero encountered in reciprocal\n",
      "  n = (ls* np.reciprocal(lo)) * 33\n",
      "C:\\Users\\whock\\Google Drive\\KnierimLab\\Ratterdam\\Code\\ratterdam_CoreDataStructures.py:144: RuntimeWarning: invalid value encountered in multiply\n",
      "  n = (ls* np.reciprocal(lo)) * 33\n",
      "C:\\Users\\whock\\Google Drive\\Python_Code\\KLab\\mts_analysis\\utility_fx.py:310: RuntimeWarning: invalid value encountered in true_divide\n",
      "  Z=VV/WW\n",
      "C:\\Users\\whock\\Google Drive\\Python_Code\\KLab\\mts_analysis\\utility_fx.py:306: RuntimeWarning: invalid value encountered in multiply\n",
      "  W=0*U.copy()+1\n"
     ]
    }
   ],
   "source": [
    "clustList = util.getClustList(datafile)\n",
    "unit = Core.UnitData(\"TT6\\\\cl-maze1.4\", datafile, expCode, Def.alleyBounds, alleyVisits, txtVisits, p_sess, ts_sess)\n",
    "unit.loadData_raw()"
   ]
  },
  {
   "cell_type": "markdown",
   "metadata": {},
   "source": [
    "## Raster Plots\n"
   ]
  },
  {
   "cell_type": "code",
   "execution_count": 27,
   "metadata": {
    "collapsed": true
   },
   "outputs": [],
   "source": [
    "alley = 7\n",
    "visits = {txt:[] for txt in ['A','B','C']}\n",
    "visitIdx = {txt:[] for txt in ['A','B','C']}\n",
    "\n",
    "maxtime = 0\n",
    "for i,visit in enumerate(unit.alleys[alley]):\n",
    "    \n",
    "    # get this to plot a reasonable divider btwn txts\n",
    "\n",
    "    if visit['spikes'].shape[0] > 0:\n",
    "        if max(visit['spikes'][:,0]) > maxtime:\n",
    "            maxtime = max(visit['spikes'][:,0])\n",
    "            \n",
    "    visits[visit['metadata']['stimulus']].append(visit['spikes'])\n",
    "    visitIdx[visit['metadata']['stimulus']].append(i)"
   ]
  },
  {
   "cell_type": "code",
   "execution_count": 30,
   "metadata": {
    "collapsed": true
   },
   "outputs": [],
   "source": [
    "# Raster of spikes arranged by ts\n",
    "\n",
    "rsum = 0\n",
    "for txt in ['A','B','C']:\n",
    "    for i in range(len(visits[txt])):\n",
    "        if visits[txt][i].shape[0] >0:\n",
    "            plt.scatter(visits[txt][i][:,0]-visits[txt][i][0,0], [rsum]*visits[txt][i].shape[0], s=12, c='k',alpha=0.5)\n",
    "        rsum += 1\n",
    "    plt.hlines(rsum,0,5e7,color='k',linestyle='--')"
   ]
  },
  {
   "cell_type": "code",
   "execution_count": 70,
   "metadata": {
    "collapsed": true
   },
   "outputs": [],
   "source": [
    "# Spatial raster of spikes arranged by linear position on alley\n",
    "# ul, ll, ur, lr = util.extractCorners(Def.alleyBounds[alley-1])\n",
    "numP = 1000\n",
    "mpL = midpoint(ll,ul)\n",
    "mpR = midpoint(lr,ur)\n",
    "interpFx = interp1d([mpL[0], mpR[0]], [mpL[1], mpR[1]])\n",
    "segmentX = np.linspace(mpL[0], mpR[0], numP)\n",
    "segmentY = interpFx(segmentX)\n",
    "segment = list(zip(segmentX, segmentY))\n",
    "\n",
    "projP = {txt:[] for txt in ['A', 'B', 'C']}\n",
    "for txt in ['A', 'B', 'C']:\n",
    "    for i in range(len(visits[txt])):\n",
    "        if visits[txt][i].shape[0] > 0:\n",
    "            projP[txt].append(util.project_points(segment, visits[txt][i][:,1:]))\n",
    "        else:\n",
    "            projP[txt].append([])"
   ]
  },
  {
   "cell_type": "code",
   "execution_count": 72,
   "metadata": {},
   "outputs": [
    {
     "data": {
      "text/plain": [
       "[Text(0,0,'A'), Text(0,0,'B'), Text(0,0,'C')]"
      ]
     },
     "execution_count": 72,
     "metadata": {},
     "output_type": "execute_result"
    }
   ],
   "source": [
    "fig, ax = plt.subplots()\n",
    "rsum = 0\n",
    "labelidx = []\n",
    "for txt in ['A','B','C']:\n",
    "    labelidx.append(rsum)\n",
    "    for i in range(len(projP[txt])):\n",
    "        if type(projP[txt][i]) == np.ndarray and projP[txt][i].shape[0] >0:\n",
    "            fig.axes[0].scatter(projP[txt][i], [rsum]*projP[txt][i].shape[0], s=12, c='k',alpha=0.5)\n",
    "        rsum += 1\n",
    "    fig.axes[0].hlines(rsum,0,numP,color='k',linestyle='--')\n",
    "fig.axes[0].set_yticks(labelidx)\n",
    "fig.axes[0].set_yticklabels(['A','B','C'])"
   ]
  },
  {
   "cell_type": "markdown",
   "metadata": {
    "collapsed": true
   },
   "source": [
    "## Fixing Behavioral Data loading for R808\n",
    "##### And in so doing alter pipeline so behavioral data, if not also neural data structs, are saved and not loaded raw each time. make it a bit more manual in the beginning then stable after"
   ]
  },
  {
   "cell_type": "code",
   "execution_count": null,
   "metadata": {
    "collapsed": true
   },
   "outputs": [],
   "source": []
  }
 ],
 "metadata": {
  "kernelspec": {
   "display_name": "Python 3",
   "language": "python",
   "name": "python3"
  },
  "language_info": {
   "codemirror_mode": {
    "name": "ipython",
    "version": 3
   },
   "file_extension": ".py",
   "mimetype": "text/x-python",
   "name": "python",
   "nbconvert_exporter": "python",
   "pygments_lexer": "ipython3",
   "version": "3.6.3"
  }
 },
 "nbformat": 4,
 "nbformat_minor": 2
}
