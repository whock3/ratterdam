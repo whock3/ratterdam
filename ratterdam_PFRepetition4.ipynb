{
 "cells": [
  {
   "cell_type": "markdown",
   "metadata": {},
   "source": [
    "# Ratterdam - Place Field Repetition - Field Dynamics Exploration\n",
    "### WH Mid August 2020\n",
    "### Goal is to explore the variables contributing to PF repetition and specifically temporal field dynamics"
   ]
  },
  {
   "cell_type": "code",
   "execution_count": 5,
   "metadata": {
    "collapsed": true
   },
   "outputs": [],
   "source": [
    "import ratterdam_CoreDataStructures as Core\n",
    "import ratterdam_ParseBehavior as Parse\n",
    "import numpy as np\n",
    "from importlib import reload\n",
    "from scipy.stats import sem\n",
    "import utility_fx as util\n",
    "import os\n",
    "import matplotlib.gridspec as gridspec\n",
    "from matplotlib import pyplot as plt\n",
    "import ratterdam_Defaults as Def\n",
    "import ratterdam_visBasic as Vis\n",
    "import RateMapClass_William_20190308 as RateMapClass\n",
    "import ratterdam_RepetitionCoreFx as RepCore\n",
    "import williamDefaults as wmDef\n",
    "from matplotlib.backends.backend_pdf import PdfPages\n",
    "import more_itertools, itertools\n",
    "from sklearn.metrics import auc\n",
    "import alphashape\n",
    "from descartes import PolygonPatch\n",
    "from scipy.interpolate import splrep, splev\n",
    "from scipy.spatial import ConvexHull\n",
    "import scipy"
   ]
  },
  {
   "cell_type": "code",
   "execution_count": 3,
   "metadata": {
    "collapsed": true
   },
   "outputs": [],
   "source": [
    "%qtconsole --style native\n",
    "%matplotlib qt5"
   ]
  },
  {
   "cell_type": "code",
   "execution_count": 149,
   "metadata": {},
   "outputs": [
    {
     "name": "stderr",
     "output_type": "stream",
     "text": [
      "E:\\UserData\\Documents\\GitHub\\ratterdam\\RateMapClass_William_20190308.py:210: RuntimeWarning: invalid value encountered in greater_equal\n",
      "  aboveThreshold = np.where(rateMap >= max(fieldThreshold,0), True, False)\n",
      "C:\\Users\\whockei1\\AppData\\Roaming\\Python\\Python36\\site-packages\\skimage\\morphology\\_deprecated.py:5: skimage_deprecation: Function ``watershed`` is deprecated and will be removed in version 0.19. Use ``skimage.segmentation.watershed`` instead.\n",
      "  def watershed(image, markers=None, connectivity=1, offset=None, mask=None,\n",
      "C:\\Users\\whockei1\\AppData\\Roaming\\Python\\Python36\\site-packages\\skimage\\morphology\\_deprecated.py:5: skimage_deprecation: Function ``watershed`` is deprecated and will be removed in version 0.19. Use ``skimage.segmentation.watershed`` instead.\n",
      "  def watershed(image, markers=None, connectivity=1, offset=None, mask=None,\n",
      "C:\\Users\\whockei1\\AppData\\Roaming\\Python\\Python36\\site-packages\\skimage\\morphology\\_deprecated.py:5: skimage_deprecation: Function ``watershed`` is deprecated and will be removed in version 0.19. Use ``skimage.segmentation.watershed`` instead.\n",
      "  def watershed(image, markers=None, connectivity=1, offset=None, mask=None,\n",
      "C:\\Users\\whockei1\\AppData\\Roaming\\Python\\Python36\\site-packages\\skimage\\morphology\\_deprecated.py:5: skimage_deprecation: Function ``watershed`` is deprecated and will be removed in version 0.19. Use ``skimage.segmentation.watershed`` instead.\n",
      "  def watershed(image, markers=None, connectivity=1, offset=None, mask=None,\n",
      "C:\\Users\\whockei1\\AppData\\Roaming\\Python\\Python36\\site-packages\\skimage\\morphology\\_deprecated.py:5: skimage_deprecation: Function ``watershed`` is deprecated and will be removed in version 0.19. Use ``skimage.segmentation.watershed`` instead.\n",
      "  def watershed(image, markers=None, connectivity=1, offset=None, mask=None,\n",
      "C:\\Users\\whockei1\\AppData\\Roaming\\Python\\Python36\\site-packages\\skimage\\morphology\\_deprecated.py:5: skimage_deprecation: Function ``watershed`` is deprecated and will be removed in version 0.19. Use ``skimage.segmentation.watershed`` instead.\n",
      "  def watershed(image, markers=None, connectivity=1, offset=None, mask=None,\n",
      "C:\\Users\\whockei1\\AppData\\Roaming\\Python\\Python36\\site-packages\\skimage\\morphology\\_deprecated.py:5: skimage_deprecation: Function ``watershed`` is deprecated and will be removed in version 0.19. Use ``skimage.segmentation.watershed`` instead.\n",
      "  def watershed(image, markers=None, connectivity=1, offset=None, mask=None,\n",
      "C:\\Users\\whockei1\\AppData\\Roaming\\Python\\Python36\\site-packages\\skimage\\morphology\\_deprecated.py:5: skimage_deprecation: Function ``watershed`` is deprecated and will be removed in version 0.19. Use ``skimage.segmentation.watershed`` instead.\n",
      "  def watershed(image, markers=None, connectivity=1, offset=None, mask=None,\n",
      "C:\\Users\\whockei1\\AppData\\Roaming\\Python\\Python36\\site-packages\\skimage\\morphology\\_deprecated.py:5: skimage_deprecation: Function ``watershed`` is deprecated and will be removed in version 0.19. Use ``skimage.segmentation.watershed`` instead.\n",
      "  def watershed(image, markers=None, connectivity=1, offset=None, mask=None,\n",
      "C:\\Users\\whockei1\\AppData\\Roaming\\Python\\Python36\\site-packages\\skimage\\morphology\\_deprecated.py:5: skimage_deprecation: Function ``watershed`` is deprecated and will be removed in version 0.19. Use ``skimage.segmentation.watershed`` instead.\n",
      "  def watershed(image, markers=None, connectivity=1, offset=None, mask=None,\n",
      "C:\\Users\\whockei1\\AppData\\Roaming\\Python\\Python36\\site-packages\\skimage\\morphology\\_deprecated.py:5: skimage_deprecation: Function ``watershed`` is deprecated and will be removed in version 0.19. Use ``skimage.segmentation.watershed`` instead.\n",
      "  def watershed(image, markers=None, connectivity=1, offset=None, mask=None,\n",
      "E:\\UserData\\Documents\\GitHub\\ratterdam\\ratterdam_RepetitionCoreFx.py:108: RuntimeWarning: invalid value encountered in double_scalars\n",
      "  field_FR.append(spk.shape[0]/vdur)\n"
     ]
    },
    {
     "name": "stdout",
     "output_type": "stream",
     "text": [
      "1.4774651645812056\n",
      "0.26971992137828066\n",
      "0.7272776122077441\n",
      "0.04595286884490898\n",
      "0.0759418890819691\n",
      "0.003553151880919795\n",
      "0.4807152384711971\n",
      "0.009616525717953465\n"
     ]
    }
   ],
   "source": [
    "rat = \"R859\"\n",
    "day = \"D3\"\n",
    "savepath = f'E:\\\\Ratterdam\\\\{rat}\\\\ratterdam_plots\\\\{day}\\\\'\n",
    "df = f'E:\\Ratterdam\\\\{rat}\\\\{rat}_RatterdamOpen_{day}\\\\'\n",
    "clust = 'TT1_0001\\\\cl-maze1.1'\n",
    "unit = RepCore.loadRepeatingUnit(df, clust)"
   ]
  },
  {
   "cell_type": "code",
   "execution_count": 44,
   "metadata": {
    "collapsed": true
   },
   "outputs": [],
   "source": [
    "# set parameters and choose which field to analyze\n",
    "def find_rateRegime_shift(field, winSz=5, look_ahead=5, thresh=2):\n",
    "    \"\"\"\n",
    "    Take a sliding window of size winSz (always steps by 1).\n",
    "    Look for a rate change in the next element (i.e. first element of next window_n+1)\n",
    "    that is excessive of mean(window_n) +/- thresh*std(window_n). If so see if it persists for look_ahead num of visits\n",
    "    Remove duplicates (i.e. as you slide the window by 1 unit and there's a change youll\n",
    "    catch it multiple times) by having the changes by at least a window length apart.\n",
    "    Return the indices of the change locations\n",
    "    \"\"\"\n",
    "    rate_changes = []\n",
    "\n",
    "    for i in range(len(field)):\n",
    "\n",
    "        window = field[i:i+winSz] # sliding window. serves as baseline rate to compare future putative rate changes to\n",
    "        if i < (len(field)-(winSz+look_ahead)):\n",
    "\n",
    "            #straightforward - twosided threshold +/- 2*std of the reference window\n",
    "            threshUp, threshDown = np.mean(window) + thresh*np.std(window), np.mean(window) - thresh*np.std(window)\n",
    "            if threshDown < 0:\n",
    "                threshDown = 0 # can't have a negative fr \n",
    "\n",
    "            if (field[i+winSz+1][1] > threshUp) or (field[i+winSz+1][1] < threshDown):\n",
    "\n",
    "                # keep track here of whether candidate visit is above or below thresh. B/c youre\n",
    "                # looking for this pattern to persist so need to know direction\n",
    "                if field[i+winSz+1][1] > threshUp:\n",
    "                    compfx = np.greater\n",
    "                    thresh = threshUp\n",
    "                elif field[i+winSz+1][1] < threshDown:\n",
    "                    compfx = np.less\n",
    "                    thresh = threshDown\n",
    "\n",
    "                # walk ahead a certain number of trials and see if the threshold crossing persists\n",
    "                for j in range(look_ahead):\n",
    "                    if ~compfx(field[i+winSz+1+j][1], thresh): # if it doesnt, break out\n",
    "                        break\n",
    "                if j == look_ahead-1: # meaning you got to the end all visits were more extreme than thresh\n",
    "                    if rate_changes != []:\n",
    "                        # basically because we're using a sliding window, a rate change event \n",
    "                        # can be counted multiple times as the window slides. so make sure\n",
    "                        # two rate change events are spaced by at least the winSz meaning youre not doublecounting\n",
    "                        if np.abs(rate_changes[-1]-i) < winSz:\n",
    "                            pass\n",
    "                        else:\n",
    "                            rate_changes.append(i)\n",
    "                    elif rate_changes == []:\n",
    "                        rate_changes.append(i)\n",
    "    return rate_changes"
   ]
  },
  {
   "cell_type": "code",
   "execution_count": 145,
   "metadata": {
    "collapsed": true
   },
   "outputs": [],
   "source": [
    "def findInflections(field):\n",
    "    \"\"\"\n",
    "    Find all inflection pts of the input 1d (n,1) array\n",
    "    array ([x,y]...)\n",
    "    I.e. where there is a change in 2nd deriv\n",
    "    \"\"\"\n",
    "    signdelta = np.sign(np.diff(field, axis=0))\n",
    "    idx = np.where(np.diff(signdelta,axis=0)!=0)[0] # by convention sign returns +/-1 so if you think about it two diff values will be +/2 and two same values in a row will be zero\n",
    "    idx = idx + 1 # the above catches the point right before the inflection\n",
    "    idx = np.hstack((0,idx, field.shape[0]-1))\n",
    "    return idx\n",
    "\n",
    "def length_filter(idx,data,thresh=2):\n",
    "    \"\"\"Filter the visits that have been flagged as rate change\n",
    "    epoch boundaries by whether the epoch is long enough. Ie. if\n",
    "    there are at least thresh visits *between* the successive epoch\n",
    "    bounds\"\"\"\n",
    "    \n",
    "    #unpacking below: you diff your input idx list and look for diffs that are big enough\n",
    "    # bc diffing the last element is impossible only get original idx vals up to not incl the end\n",
    "    passidx = idx[:-1][np.diff(idx,axis=0)>=thresh+1]\n",
    "    passidx = np.hstack((passidx, data.shape[0]-1)) #add this back on\n",
    "    passidx = passidx[:,np.newaxis]\n",
    "    return passidx\n",
    "\n",
    "def magnitude_filter(idx,data, thresh=0.20):\n",
    "    \"\"\"\n",
    "    Filter potential epochs according to whether or not\n",
    "    the beginning to end difference (idx[n],idx[n+1]) exceeds\n",
    "    thresh % of the range of all the data. Data is 2d (n,2) array\n",
    "    \"\"\"\n",
    "    passidx = np.empty((0,1),dtype=np.int)\n",
    "    for i in range(0,idx.shape[0]-1):\n",
    "        start, stop = data[idx[i]][0][1], data[idx[i+1]][0][1] # middle zero bc its nested down an arr level\n",
    "        pctRange = abs(start-stop)/(data[:,1].max() - data[:,1].min())\n",
    "        if pctRange >= thresh:\n",
    "            passidx = np.vstack((passidx, i))\n",
    "    passidx = np.append(idx[passidx], data.shape[0]-1) #add this back on \n",
    "    return passidx\n",
    "\n",
    "def findRateEpochTs(field):\n",
    "    idx = findInflections(field)\n",
    "    idx = length_filter(idx, field, thresh=2)\n",
    "    idx = magnitude_filter(idx, data, thresh=0.2)\n",
    "    ts = field[idx,0]\n",
    "    return ts"
   ]
  },
  {
   "cell_type": "code",
   "execution_count": 143,
   "metadata": {},
   "outputs": [],
   "source": []
  },
  {
   "cell_type": "code",
   "execution_count": null,
   "metadata": {
    "collapsed": true
   },
   "outputs": [],
   "source": []
  }
 ],
 "metadata": {
  "kernelspec": {
   "display_name": "Python 3",
   "language": "python",
   "name": "python3"
  },
  "language_info": {
   "codemirror_mode": {
    "name": "ipython",
    "version": 3
   },
   "file_extension": ".py",
   "mimetype": "text/x-python",
   "name": "python",
   "nbconvert_exporter": "python",
   "pygments_lexer": "ipython3",
   "version": "3.6.3"
  }
 },
 "nbformat": 4,
 "nbformat_minor": 2
}
