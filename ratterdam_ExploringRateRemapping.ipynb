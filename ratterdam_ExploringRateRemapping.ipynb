{
 "cells": [
  {
   "cell_type": "markdown",
   "metadata": {},
   "source": [
    "## Exploring Rate Remapping\n",
    "WH late July 2019"
   ]
  },
  {
   "cell_type": "code",
   "execution_count": 1,
   "metadata": {
    "collapsed": true
   },
   "outputs": [],
   "source": [
    "import ratterdam_CoreDataStructures as Core\n",
    "import ratterdam_ParseBehavior as Parse\n",
    "import numpy as np\n",
    "from scipy.stats import sem\n",
    "import utility_fx as util\n",
    "import os\n",
    "from matplotlib.backends.backend_pdf import PdfPages\n",
    "import matplotlib.gridspec as gridspec\n",
    "from matplotlib import pyplot as plt\n",
    "import ratterdam_Defaults as Def\n",
    "import ratterdam_visBasic as Vis\n",
    "from scipy.interpolate import interp1d"
   ]
  },
  {
   "cell_type": "code",
   "execution_count": 2,
   "metadata": {
    "collapsed": true
   },
   "outputs": [],
   "source": [
    "%qtconsole --style native\n",
    "%matplotlib qt5"
   ]
  },
  {
   "cell_type": "code",
   "execution_count": 32,
   "metadata": {},
   "outputs": [],
   "source": [
    "datafile = \"E:\\\\Ratterdam\\\\R808\\\\R808_Beltway_D7\\\\\"\n",
    "expCode = \"BRD7\"\n",
    "\n",
    "beltwayAlleys = [16,17,3,1,5,7,8,10,11]\n",
    "\n",
    "ratplot = Vis.BasicRateMaps()\n",
    "\n",
    "alleyTracking, alleyVisits,  txtVisits, p_sess, ts_sess = Parse.getDaysBehavioralData(datafile, expCode)\n",
    "stimfiles = Parse.getStimFileName(datafile)\n",
    "stimData = Parse.loadBeltwayData(datafile,stimfiles,expCode)\n",
    "\n",
    "\n",
    "#alleySwapTS = Parse.beltway_getLapTimes(datafile, stimData, expCode)\n",
    "\n",
    "cmap = util.makeCustomColormap()"
   ]
  },
  {
   "cell_type": "code",
   "execution_count": 43,
   "metadata": {},
   "outputs": [
    {
     "name": "stderr",
     "output_type": "stream",
     "text": [
      "C:\\Users\\whockei1\\Google Drive\\KnierimLab\\Ratterdam\\Code\\ratterdam_CoreDataStructures.py:170: RuntimeWarning: divide by zero encountered in reciprocal\n",
      "  n = (hs*np.reciprocal(ho))*30\n",
      "C:\\Users\\whockei1\\Google Drive\\KnierimLab\\Ratterdam\\Code\\ratterdam_CoreDataStructures.py:170: RuntimeWarning: invalid value encountered in multiply\n",
      "  n = (hs*np.reciprocal(ho))*30\n",
      "C:\\Users\\whockei1\\Google Drive\\KnierimLab\\Ratterdam\\Code\\ratterdam_CoreDataStructures.py:176: RuntimeWarning: divide by zero encountered in reciprocal\n",
      "  n = (ls* np.reciprocal(lo)) * 30\n",
      "C:\\Users\\whockei1\\Google Drive\\KnierimLab\\Ratterdam\\Code\\ratterdam_CoreDataStructures.py:176: RuntimeWarning: invalid value encountered in multiply\n",
      "  n = (ls* np.reciprocal(lo)) * 30\n",
      "C:\\Users\\whockei1\\Google Drive\\KnierimLab\\Ratterdam\\Code\\utility_fx.py:324: RuntimeWarning: invalid value encountered in true_divide\n",
      "  Z=VV/WW\n"
     ]
    }
   ],
   "source": [
    "unit = Core.UnitData(\"TT14\\\\cl-maze1.3\", datafile, expCode, Def.alleyBounds, alleyVisits, txtVisits, p_sess, ts_sess)\n",
    "unit.loadData_raw()"
   ]
  },
  {
   "cell_type": "code",
   "execution_count": 23,
   "metadata": {},
   "outputs": [
    {
     "name": "stdout",
     "output_type": "stream",
     "text": [
      "826.9448975\n",
      "98.2654682664\n",
      "683.922568\n",
      "83.8098647577\n",
      "641.407854\n",
      "91.545200979\n"
     ]
    },
    {
     "data": {
      "text/plain": [
       "{'boxes': [<matplotlib.lines.Line2D at 0x2570e333da0>,\n",
       "  <matplotlib.lines.Line2D at 0x2570e344b38>,\n",
       "  <matplotlib.lines.Line2D at 0x2570e3539e8>],\n",
       " 'caps': [<matplotlib.lines.Line2D at 0x2570e33d908>,\n",
       "  <matplotlib.lines.Line2D at 0x2570e33dd68>,\n",
       "  <matplotlib.lines.Line2D at 0x2570e34c860>,\n",
       "  <matplotlib.lines.Line2D at 0x2570e34ccc0>,\n",
       "  <matplotlib.lines.Line2D at 0x2570e35d780>,\n",
       "  <matplotlib.lines.Line2D at 0x2570e35dbe0>],\n",
       " 'fliers': [<matplotlib.lines.Line2D at 0x2570e344668>,\n",
       "  <matplotlib.lines.Line2D at 0x2570e3535c0>,\n",
       "  <matplotlib.lines.Line2D at 0x2570e8154e0>],\n",
       " 'means': [],\n",
       " 'medians': [<matplotlib.lines.Line2D at 0x2570e344208>,\n",
       "  <matplotlib.lines.Line2D at 0x2570e353160>,\n",
       "  <matplotlib.lines.Line2D at 0x2570e815080>],\n",
       " 'whiskers': [<matplotlib.lines.Line2D at 0x2570e333f28>,\n",
       "  <matplotlib.lines.Line2D at 0x2570e33d4a8>,\n",
       "  <matplotlib.lines.Line2D at 0x2570e344f60>,\n",
       "  <matplotlib.lines.Line2D at 0x2570e34c400>,\n",
       "  <matplotlib.lines.Line2D at 0x2570e353e80>,\n",
       "  <matplotlib.lines.Line2D at 0x2570e35d320>]}"
      ]
     },
     "execution_count": 23,
     "metadata": {},
     "output_type": "execute_result"
    }
   ],
   "source": [
    "firstSpikeTimes = {'A':[], 'B':[], 'C':[]}\n",
    "for alley in beltwayAlleys:\n",
    "    for i,visit in enumerate(unit.alleys[alley]):\n",
    "        if visit['spikes'].shape[0] > 0:\n",
    "            firstspk = visit['spikes'][0,0]\n",
    "            visittime = alleyVisits[alley-1][i][0]\n",
    "            diff = (firstspk - visittime)/1e6\n",
    "            firstSpikeTimes[visit['metadata']['stimulus']].append(diff)\n",
    "data = []          \n",
    "for i,(t,c) in enumerate(zip(['A','B','C'],['r','b','g'])):\n",
    "    data.append(firstSpikeTimes[t])\n",
    "    print(np.median(firstSpikeTimes[t]))\n",
    "    print(sem(firstSpikeTimes[t]))\n",
    "plt.boxplot(data)"
   ]
  },
  {
   "cell_type": "markdown",
   "metadata": {},
   "source": [
    "-------------------------------------------------------------------------"
   ]
  },
  {
   "cell_type": "code",
   "execution_count": 12,
   "metadata": {
    "collapsed": true
   },
   "outputs": [],
   "source": [
    "spikes = {'A':[], 'B':[], 'C':[]}\n",
    "for alley in [7]:\n",
    "    for i,visit in enumerate(unit.alleys[alley]):\n",
    "        if visit['spikes'].shape[0] > 0:\n",
    "            diffs = (np.diff(visit['spikes'][:,0])/1e3)/visit['spikes'].shape[0]\n",
    "            spikes[visit['metadata']['stimulus']] = np.hstack((spikes[visit['metadata']['stimulus']], diffs))"
   ]
  },
  {
   "cell_type": "code",
   "execution_count": 13,
   "metadata": {
    "collapsed": true
   },
   "outputs": [],
   "source": [
    "for i,(t,c) in enumerate(zip(['A','B','C'],['r','b','g'])):\n",
    "    plt.scatter([i]*spikes[t].shape[0], spikes[t],c=c)"
   ]
  },
  {
   "cell_type": "code",
   "execution_count": 14,
   "metadata": {
    "collapsed": true
   },
   "outputs": [],
   "source": [
    "#fig, ax = plt.subplots(1,3)\n",
    "for i,(t,c) in enumerate(zip(['A','B','C'],['r','b','g'])):\n",
    "    plt.hist(spikes[t],bins=50,color=c,alpha=0.3)"
   ]
  },
  {
   "cell_type": "code",
   "execution_count": 15,
   "metadata": {},
   "outputs": [
    {
     "data": {
      "text/plain": [
       "{'boxes': [<matplotlib.lines.Line2D at 0x1f2a3fbfa90>,\n",
       "  <matplotlib.lines.Line2D at 0x1f2a4e12780>,\n",
       "  <matplotlib.lines.Line2D at 0x1f2a4e216a0>],\n",
       " 'caps': [<matplotlib.lines.Line2D at 0x1f2a3fcb5f8>,\n",
       "  <matplotlib.lines.Line2D at 0x1f2a3fcba58>,\n",
       "  <matplotlib.lines.Line2D at 0x1f2a4e19518>,\n",
       "  <matplotlib.lines.Line2D at 0x1f2a4e19978>,\n",
       "  <matplotlib.lines.Line2D at 0x1f2a4e29438>,\n",
       "  <matplotlib.lines.Line2D at 0x1f2a4e29898>],\n",
       " 'fliers': [<matplotlib.lines.Line2D at 0x1f2a4e12358>,\n",
       "  <matplotlib.lines.Line2D at 0x1f2a4e21278>,\n",
       "  <matplotlib.lines.Line2D at 0x1f2a4e36198>],\n",
       " 'means': [],\n",
       " 'medians': [<matplotlib.lines.Line2D at 0x1f2a3fcbeb8>,\n",
       "  <matplotlib.lines.Line2D at 0x1f2a4e19dd8>,\n",
       "  <matplotlib.lines.Line2D at 0x1f2a4e29cf8>],\n",
       " 'whiskers': [<matplotlib.lines.Line2D at 0x1f2a3fbfc18>,\n",
       "  <matplotlib.lines.Line2D at 0x1f2a3fcb198>,\n",
       "  <matplotlib.lines.Line2D at 0x1f2a4e12c18>,\n",
       "  <matplotlib.lines.Line2D at 0x1f2a4e190b8>,\n",
       "  <matplotlib.lines.Line2D at 0x1f2a4e21b38>,\n",
       "  <matplotlib.lines.Line2D at 0x1f2a4e21f98>]}"
      ]
     },
     "execution_count": 15,
     "metadata": {},
     "output_type": "execute_result"
    }
   ],
   "source": [
    "data = []\n",
    "for i,(t,c) in enumerate(zip(['A','B','C'],['r','b','g'])):\n",
    "    data.append(spikes[t])\n",
    "plt.boxplot(data)"
   ]
  },
  {
   "cell_type": "code",
   "execution_count": 17,
   "metadata": {
    "collapsed": true
   },
   "outputs": [],
   "source": [
    "alley = 7\n",
    "for v in unit.alleys[alley]:\n",
    "    plt.scatter(v['occs'][:,1], v['occs'][:,2])\n",
    "for i in range(1,18):\n",
    "    ratplot.drawAlleyBounds(plt.gca(),i)"
   ]
  },
  {
   "cell_type": "code",
   "execution_count": 6,
   "metadata": {
    "collapsed": true
   },
   "outputs": [],
   "source": [
    "plt.scatter(alleyTracking[alley-1][:,1], alleyTracking[alley-1][:,2])\n",
    "for i in range(1,18):\n",
    "    ratplot.drawAlleyBounds(plt.gca(),i)"
   ]
  },
  {
   "cell_type": "code",
   "execution_count": 7,
   "metadata": {
    "collapsed": true
   },
   "outputs": [],
   "source": [
    " v = unit.alleys[8][3]\n",
    "plt.scatter(v['occs'][:,1], v['occs'][:,2])\n",
    "for i in range(1,18):\n",
    "    ratplot.drawAlleyBounds(plt.gca(),i)"
   ]
  },
  {
   "cell_type": "code",
   "execution_count": 21,
   "metadata": {
    "collapsed": true
   },
   "outputs": [],
   "source": [
    "alley = 7\n",
    "ncols = 5\n",
    "fig, ax = plt.subplots(int(np.ceil(len(unit.alleys[alley])/ncols)), ncols)\n",
    "for i,visit in enumerate(unit.alleys[alley]):\n",
    "    fig.axes[i].scatter(visit['spikes'][:,1], visit['spikes'][:,2])\n",
    "    fig.axes[i].plot(visit['occs'][:,1], visit['occs'][:,2], alpha=0.7, color='k')\n",
    "    fig.axes[i].set_title(visit['metadata']['stimulus'])\n",
    "    ratplot.drawAlleyBounds(fig.axes[i], alley)"
   ]
  },
  {
   "cell_type": "markdown",
   "metadata": {
    "collapsed": true
   },
   "source": [
    "## Temporal Field Modulation"
   ]
  },
  {
   "cell_type": "code",
   "execution_count": 44,
   "metadata": {
    "collapsed": true
   },
   "outputs": [],
   "source": [
    "winSz = 5\n",
    "alley = 5# whole track numbering\n",
    "visits = {txt:np.empty((0, Def.singleAlleyBins[0]-1)) for txt in ['A','B','C']}\n",
    "visitIdx = {txt:[] for txt in ['A','B','C']}\n",
    "\n",
    "for i,visit in enumerate(unit.alleys[alley]):\n",
    "    txt  = visit['metadata']['stimulus']\n",
    "    visits[txt] = np.vstack((visits[txt], visit['ratemap1d']))\n",
    "    visitIdx[txt].append(i)"
   ]
  },
  {
   "cell_type": "code",
   "execution_count": 11,
   "metadata": {
    "collapsed": true
   },
   "outputs": [],
   "source": [
    "def txtMod_testStat(x,y,statchoice):\n",
    "    \"\"\"\n",
    "    Compute a given test statistic of rate modulation\n",
    "    between avg linearized response to txt X, Y\n",
    "    \"\"\"\n",
    "    if statchoice == 'meandiff':\n",
    "        stat = np.nanmean(np.abs(x-y))\n",
    "    elif statchoice == 'maxdiff':\n",
    "        stat = np.nanmax(np.abs(x-y))\n",
    "    elif statchoice == 'auc':\n",
    "        stat = np.trapz(x-y)\n",
    "    return stat"
   ]
  },
  {
   "cell_type": "code",
   "execution_count": 45,
   "metadata": {},
   "outputs": [],
   "source": [
    "stattype = 'auc'\n",
    "mx = max([len(visitIdx[t]) for t in ['A','B','C']])\n",
    "numWin = (mx-winSz)+1\n",
    "runningmaxes = []\n",
    "for i in range(numWin):\n",
    "    txtWin = {txt:np.empty((0, Def.singleAlleyBins[0]-1)) for txt in ['A','B','C']}\n",
    "    for txt in ['A','B','C']:\n",
    "        try:\n",
    "            txtWin[txt] = visits[txt][0+i:winSz+i]\n",
    "        except:\n",
    "            txtWin[txt] = visits[txt][0+i:]\n",
    "            \n",
    "    avgs = {txt:np.empty((0, Def.singleAlleyBins[0]-1)) for txt in ['A','B','C']}\n",
    "    for txt in ['A', 'B', 'C']:\n",
    "        mask = np.ma.masked_invalid(txtWin[txt])\n",
    "        avgs[txt] = mask.mean(axis=0) # ignores inf and nan\n",
    "    ab = txtMod_testStat(avgs['A'], avgs['B'], statchoice=stattype)\n",
    "    cb = txtMod_testStat(avgs['C'], avgs['B'], statchoice=stattype)\n",
    "    ac = txtMod_testStat(avgs['A'], avgs['C'], statchoice=stattype)\n",
    "    winmax = np.nanmax([ab, cb, ac])\n",
    "    runningmaxes.append(winmax)"
   ]
  },
  {
   "cell_type": "code",
   "execution_count": 46,
   "metadata": {},
   "outputs": [],
   "source": [
    "toshuff = {txt:np.empty((0, Def.singleAlleyBins[0]-1)) for txt in ['A','B','C']}\n",
    "visitIdx = {txt:[] for txt in ['A','B','C']}\n",
    "\n",
    "for i,visit in enumerate(unit.alleys[alley]):\n",
    "    txt  = visit['metadata']['stimulus']\n",
    "    toshuff[txt] = np.vstack((visits[txt], visit['ratemap1d']))\n",
    "    visitIdx[txt].append(i)\n",
    "    \n",
    "shuffmaxes = []\n",
    "for i in range(1000):\n",
    "    for txt in ['A','B','C']:\n",
    "        np.random.shuffle(toshuff[txt])\n",
    "    runningmaxesshuff = []\n",
    "    for i in range(numWin):\n",
    "        txtWin = {txt:np.empty((0, Def.singleAlleyBins[0]-1)) for txt in ['A','B','C']}\n",
    "        for txt in ['A','B','C']:\n",
    "            try:\n",
    "                txtWin[txt] = toshuff[txt][0+i:winSz+i]\n",
    "            except:\n",
    "                txtWin[txt] = toshuff[txt][0+i:]\n",
    "\n",
    "        avgs = {txt:np.empty((0, Def.singleAlleyBins[0]-1)) for txt in ['A','B','C']}\n",
    "        for txt in ['A', 'B', 'C']:\n",
    "            mask = np.ma.masked_invalid(txtWin[txt])\n",
    "            avgs[txt] = mask.mean(axis=0) # ignores inf and nan\n",
    "        ab = txtMod_testStat(avgs['A'], avgs['B'], statchoice=stattype)\n",
    "        cb = txtMod_testStat(avgs['C'], avgs['B'], statchoice=stattype)\n",
    "        ac = txtMod_testStat(avgs['A'], avgs['C'], statchoice=stattype)\n",
    "        winmax = np.nanmax([ab, cb, ac])\n",
    "        runningmaxesshuff.append(winmax)\n",
    "    shuffmaxes.append(runningmaxesshuff)\n",
    "shuffmaxes=np.asarray(shuffmaxes)"
   ]
  },
  {
   "cell_type": "code",
   "execution_count": 42,
   "metadata": {},
   "outputs": [
    {
     "data": {
      "text/plain": [
       "Text(0.5,1,'BRD7 TT6_0001cl-maze1.3')"
      ]
     },
     "execution_count": 42,
     "metadata": {},
     "output_type": "execute_result"
    }
   ],
   "source": [
    "plt.plot(np.nanpercentile(shuffmaxes,97.5,axis=0),'k')\n",
    "plt.plot(np.nanpercentile(shuffmaxes,2.5,axis=0),'k')\n",
    "plt.plot(runningmaxes)\n",
    "plt.title(f\"{expCode} {unit.name}\")"
   ]
  },
  {
   "cell_type": "code",
   "execution_count": null,
   "metadata": {
    "collapsed": true
   },
   "outputs": [],
   "source": []
  }
 ],
 "metadata": {
  "kernelspec": {
   "display_name": "Python 3",
   "language": "python",
   "name": "python3"
  },
  "language_info": {
   "codemirror_mode": {
    "name": "ipython",
    "version": 3
   },
   "file_extension": ".py",
   "mimetype": "text/x-python",
   "name": "python",
   "nbconvert_exporter": "python",
   "pygments_lexer": "ipython3",
   "version": "3.6.3"
  }
 },
 "nbformat": 4,
 "nbformat_minor": 2
}
