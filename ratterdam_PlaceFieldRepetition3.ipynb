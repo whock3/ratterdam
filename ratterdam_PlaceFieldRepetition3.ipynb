{
 "cells": [
  {
   "cell_type": "code",
   "execution_count": 1,
   "metadata": {
    "collapsed": true
   },
   "outputs": [],
   "source": [
    "import ratterdam_CoreDataStructures as Core\n",
    "import ratterdam_ParseBehavior as Parse\n",
    "import numpy as np\n",
    "from scipy.stats import sem\n",
    "import utility_fx as util\n",
    "import os\n",
    "import matplotlib.gridspec as gridspec\n",
    "from matplotlib import pyplot as plt\n",
    "import ratterdam_Defaults as Def\n",
    "import ratterdam_visBasic as Vis\n",
    "import RateMapClass_William_20190308 as RateMapClass\n",
    "import williamDefaults as wmDef\n",
    "from matplotlib.backends.backend_pdf import PdfPages\n",
    "import more_itertools, itertools\n",
    "from sklearn.metrics import auc\n",
    "import alphashape\n",
    "from descartes import PolygonPatch\n",
    "from scipy.interpolate import splrep, splev"
   ]
  },
  {
   "cell_type": "code",
   "execution_count": 2,
   "metadata": {
    "collapsed": true
   },
   "outputs": [],
   "source": [
    "%qtconsole --style native\n",
    "%matplotlib qt5"
   ]
  },
  {
   "cell_type": "code",
   "execution_count": 3,
   "metadata": {
    "collapsed": true
   },
   "outputs": [],
   "source": [
    "def loadRepeatingUnit(df, clustName):\n",
    "    \"\"\"take a path to a data dir\n",
    "    load spikes and position into two np arrays\n",
    "    spikes is (n,1) and pos is typical (3,n) cols of ts,x,y\n",
    "    use cameraOrientationInfo.txt to flip axes if needed\n",
    "    use sessionEpochInfo.txt, specific for open Ratterdam exp\n",
    "    to get session ts and clip spikes/pos\"\"\"\n",
    "    \n",
    "    with open(df+\"sessionEpochInfo.txt\",\"r\") as f:\n",
    "        lines = f.readlines()\n",
    "    start, end = int(lines[0].split(',')[0]), int(lines[0].split(',')[1])\n",
    "    pos = util.read_pos(df)\n",
    "    ts = np.asarray(sorted(list(pos.keys())))\n",
    "    posx, posy = Parse.adjustPosCamera(df, pos, ts)\n",
    "    position = np.column_stack((ts, posx, posy))\n",
    "    position = position[(position[:,0]>=start) & (position[:,0]<=end)]\n",
    "    clust = np.asarray(util.read_clust(df+clustName))\n",
    "    clust = clust[(clust >= start) & (clust <= end)]\n",
    "    spikexy = util.getPosFromTs(clust,position)\n",
    "    spikes = np.column_stack((clust,spikexy))\n",
    "    \n",
    "    return position, spikes"
   ]
  },
  {
   "cell_type": "code",
   "execution_count": 301,
   "metadata": {
    "collapsed": true
   },
   "outputs": [],
   "source": [
    "class Unit():\n",
    "    \"\"\"\n",
    "    Wrapper class because rep field ID algorithm looks\n",
    "    for instance.spikes and instance.position\n",
    "    \"\"\"\n",
    "    \n",
    "    def __init__(self, s, p):\n",
    "        self.spikes = s\n",
    "        self.position = p\n",
    "        self.fields = []\n",
    "        self.visits = [] # nested list. each list is a subfield and values are themselves lists of points in visit\n",
    "        self.perimeters = []\n",
    "        self.colors = cnames\n",
    "        self.smoothing = 2\n",
    "        self.repUnit = RateMapClass.RateMap(self)\n",
    "        self.alphaHullFactor = 1\n",
    "        self.alpha = 0\n",
    "        self.findFields()\n",
    "        \n",
    "    def PolyArea(self,x,y):\n",
    "        \"\"\"\n",
    "        Found at https://stackoverflow.com/questions/24467972/calculate-area-of-polygon-given-x-y-coordinates\n",
    "        \"\"\"\n",
    "        return 0.5*np.abs(np.dot(x,np.roll(y,1))-np.dot(y,np.roll(x,1)))\n",
    "        \n",
    "    def findFields(self):\n",
    "        self.fields = []\n",
    "        self.visits = []\n",
    "        for i,pf in enumerate(self.repUnit.PF[:]):\n",
    "            self.visits.append([])\n",
    "            #create boundary using alphahull alg which allows for concave hulls but does not work all that well as is\n",
    "#             alpha = self.alphaHullFactor*alphashape.optimizealpha(list(zip(pf.perimeter[1]*binWidth+binWidth/2, pf.perimeter[0]*binWidth+binWidth/2)))\n",
    "#             hull = alphashape.alphashape(list(zip(pf.perimeter[1]*binWidth+binWidth/2, pf.perimeter[0]*binWidth+binWidth/2)),alpha)\n",
    "#             hxy = hull.exterior.coords.xy\n",
    "#             contour = path.Path(list(zip(hxy[0],hxy[1])))\n",
    "\n",
    "            #create boundary using convex hull\n",
    "            points = np.asarray(list(zip(pf.perimeter[1]*binWidth+binWidth/2, pf.perimeter[0]*binWidth+binWidth/2)))\n",
    "            hull = ConvexHull(points)\n",
    "            vertices = np.append(hull.vertices, hull.vertices[0]) # add the first point to close the contour\n",
    "            contour = path.Path(points[vertices])\n",
    "\n",
    "            PinC = self.position[contour.contains_points(self.position[:,1:])]\n",
    "            posVisits = getVisits(PinC[:,0])\n",
    "            self.visits[-1].append(posVisits)\n",
    "            field_FR = []\n",
    "            field_TS = [] # take middle ts \n",
    "            for visit in posVisits:\n",
    "                spk = self.spikes[np.logical_and(self.spikes[:,0] > visit[0], self.spikes[:,0] < visit[-1])]\n",
    "                vdur = (visit[-1]-visit[0])/1e6 # do this instead of just multiplying number samples by fr because any lost frames from, e.g. occlusions will introduce a discrepancy\n",
    "                field_FR.append(spk.shape[0]/vdur)\n",
    "                field_TS.append(((visit[0]-self.position[0,0])/1e6)/60)\n",
    "                \n",
    "            field_FR = util.weird_smooth(np.asarray(field_FR), self.smoothing)\n",
    "            \n",
    "            totalRate = sum(field_FR)\n",
    "            area = self.PolyArea(pf.perimeter[1]*binWidth+binWidth/2, pf.perimeter[0]*binWidth+binWidth/2)\n",
    "            print(totalRate/area)\n",
    "            if True:\n",
    "                self.fields.append(np.column_stack((field_TS, field_FR)))\n",
    "                self.perimeters.append(points[vertices])"
   ]
  },
  {
   "cell_type": "code",
   "execution_count": 295,
   "metadata": {
    "collapsed": true
   },
   "outputs": [],
   "source": [
    "def getVisits(data, maxgap=2*1e6):\n",
    "    \"\"\"\n",
    "    \"\"\"\n",
    "    data.sort()\n",
    "    groups = [[data[0]]]\n",
    "    for x in data[1:]:\n",
    "        if abs(x - groups[-1][-1]) <= maxgap:\n",
    "            groups[-1].append(x)\n",
    "        else:\n",
    "            groups.append([x])\n",
    "    return groups"
   ]
  },
  {
   "cell_type": "code",
   "execution_count": 6,
   "metadata": {
    "collapsed": true
   },
   "outputs": [],
   "source": [
    "cnames = ['black', 'blue', 'green', 'red', 'brown', 'purple', 'cornflowerblue', 'orchid', 'darkcyan', 'midnightblue', 'saddlebrown', 'darkviolet', 'seagreen', 'indianred', 'goldenrod', 'orange', 'olive']\n",
    "binWidth = wmDef.binWidth\n",
    "from matplotlib import path\n",
    "cmap = util.makeCustomColormap()"
   ]
  },
  {
   "cell_type": "code",
   "execution_count": 162,
   "metadata": {
    "collapsed": true
   },
   "outputs": [],
   "source": [
    "def plotRoutine_RepPF_TempDyn(smoothing=0, nf=99, time='time', save=False):\n",
    "    \"\"\"\n",
    "    Plotting routine using unit and ratemapclass classes in local namespace\n",
    "    Create a ratemap of fields with detected fields outlined\n",
    "    Below, plot visit FR over time for each field, color coded to match\n",
    "    \n",
    "    \"\"\"\n",
    "    fig, ax = plt.subplots(2,1, figsize=(10,14))\n",
    "    \n",
    "    fig.axes[0].imshow(unit.repUnit.rateMap2D, origin='lower', aspect='auto', interpolation='None', \n",
    "                       cmap=cmap, vmax=np.nanpercentile(unit.repUnit.rateMap2D, 98),\n",
    "                extent=[wmDef.xedges[0], wmDef.xedges[-1], wmDef.yedges[0], wmDef.yedges[-1]])\n",
    "    fig.axes[0].set_title(f\"{clust}, cutoff = {round(np.nanpercentile(unit.repUnit.rateMap2D, 98),2)}Hz\", fontsize=20)\n",
    "    fig.axes[0].axis('equal')\n",
    "    fig.axes[0].set_ylim([0,480])\n",
    "    fig.axes[0].set_xlim([0, 640])\n",
    "    fig.axes[0].set_xticks([])\n",
    "    fig.axes[0].set_yticks([])\n",
    "    fig.axes[0].spines['top'].set_visible(False)\n",
    "    fig.axes[0].spines['right'].set_visible(False)\n",
    "    fig.axes[0].spines['bottom'].set_visible(False)\n",
    "    fig.axes[0].spines['left'].set_visible(False)\n",
    "\n",
    "    #option to not visualize garbage fields. 99 is an 'infinity' value as no cell will have 99 fields. \n",
    "    if nf == 99:\n",
    "        end = len(unit.fields)\n",
    "    else:\n",
    "        end = nf\n",
    "        \n",
    "    for i, field in enumerate(unit.fields[:end]):\n",
    "        f = util.weird_smooth(field[:,1],smoothing)\n",
    "        \n",
    "        if time == 'time':\n",
    "            xval = field[:,0]\n",
    "        elif time  == 'visit' or time == 'visits':\n",
    "            xval = range(field.shape[0])\n",
    "        \n",
    "        fig.axes[1].plot(xval, f, color=unit.colors[i], marker='.',alpha=0.8)\n",
    "        fig.axes[0].plot(unit.perimeters[i][:,0], unit.perimeters[i][:,1],color=unit.colors[i])\n",
    "        fig.axes[1].tick_params(axis='y', labelsize=14)\n",
    "        fig.axes[1].tick_params(axis='x', labelsize=14)\n",
    "        fig.axes[1].set_xlabel(f\"Time in session ({(lambda x: 'min' if x == 'time' else 'visits')(time)})\", fontsize=24)\n",
    "        fig.axes[1].set_ylabel(\"Firing Rate (Hz, smoothed)\", fontsize=24)\n",
    "        fig.axes[1].spines['right'].set_visible(False)\n",
    "        fig.axes[1].spines['top'].set_visible(False)\n",
    "        fig.axes[1].set_title(f\"gaussian smoothing sigma = {smoothing+unit.smoothing}\", fontsize=12)\n",
    "    \n",
    "    if save:\n",
    "        clustname = clust.replace(\"\\\\\",\"_\")\n",
    "        plt.savefig(fname=savepath+clustname+\".png\", format='png')\n",
    "        plt.close()\n",
    "    "
   ]
  },
  {
   "cell_type": "code",
   "execution_count": 338,
   "metadata": {
    "collapsed": true
   },
   "outputs": [],
   "source": [
    "# avgRates, iqrs = [], []\n",
    "# for i,pf in enumerate(repUnit.PF[:6]):\n",
    "#     contour = path.Path(list(zip(pf.perimeter[1]*binWidth+binWidth/2, pf.perimeter[0]*binWidth+binWidth/2)))\n",
    "#     PinC = unit.position[contour.contains_points(unit.position[:,1:])]\n",
    "#     posVisits = getVisits(PinC[:,0])\n",
    "#     field_FR = []\n",
    "#     field_TS = [] # take middle ts \n",
    "#     for visit in posVisits:\n",
    "#         spk = unit.spikes[np.logical_and(unit.spikes[:,0] > visit[0], unit.spikes[:,0] < visit[-1])]\n",
    "#         field_FR.append((spk.shape[0]/len(visit))*30)\n",
    "#         field_TS.append(((visit[0]-unit.position[0,0])/1e6)/60)\n",
    "#     avgRates.append(np.mean(field_FR))\n",
    "#     iqrs.append(scipy.stats.iqr(field_FR))\n",
    "    \n",
    "#     for i in range(len(avgRates)):\n",
    "#         avgRates[i] = avgRates[i]/max(avgRates)\n",
    "#         iqrs[i] = iqrs[i]/avgRates[i]"
   ]
  },
  {
   "cell_type": "code",
   "execution_count": 194,
   "metadata": {},
   "outputs": [
    {
     "name": "stderr",
     "output_type": "stream",
     "text": [
      "C:\\Users\\whockei1\\Google Drive\\KnierimLab\\Ratterdam\\Code\\utility_fx.py:498: RuntimeWarning: divide by zero encountered in reciprocal\n",
      "  n = (hs*np.reciprocal(ho))*30\n",
      "C:\\Users\\whockei1\\Google Drive\\KnierimLab\\Ratterdam\\Code\\utility_fx.py:498: RuntimeWarning: invalid value encountered in multiply\n",
      "  n = (hs*np.reciprocal(ho))*30\n",
      "C:\\Users\\whockei1\\Google Drive\\KnierimLab\\Ratterdam\\Code\\utility_fx.py:325: RuntimeWarning: invalid value encountered in true_divide\n",
      "  Z=VV/WW\n"
     ]
    },
    {
     "name": "stdout",
     "output_type": "stream",
     "text": [
      "TT12\\cl-maze1.1 did not pass Fr thresh\n",
      "TT12\\cl-maze1.10\n"
     ]
    },
    {
     "name": "stderr",
     "output_type": "stream",
     "text": [
      "C:\\Users\\whockei1\\Google Drive\\KnierimLab\\Ratterdam\\Code\\RateMapClass_William_20190308.py:210: RuntimeWarning: invalid value encountered in greater_equal\n",
      "  aboveThreshold = np.where(rateMap >= max(fieldThreshold,0), True, False)\n"
     ]
    },
    {
     "name": "stdout",
     "output_type": "stream",
     "text": [
      "TT12\\cl-maze1.2\n",
      "TT12\\cl-maze1.3\n",
      "TT12\\cl-maze1.4 did not pass Fr thresh\n",
      "TT12\\cl-maze1.5 did not pass Fr thresh\n",
      "TT12\\cl-maze1.7\n",
      "TT12\\cl-maze1.8\n",
      "TT12\\cl-maze1.9 did not pass Fr thresh\n",
      "TT15\\cl-maze1.1\n",
      "TT15\\cl-maze1.2\n",
      "TT15\\cl-maze1.3\n",
      "TT15\\cl-maze1.4 did not pass Fr thresh\n",
      "TT15\\cl-maze1.5\n"
     ]
    }
   ],
   "source": [
    "# Take each cell in a day and generate a plot with rate map overlaid w detected field edges\n",
    "# and field dynamics (Fr over time) below\n",
    "rat = \"R808\"\n",
    "day = \"D6\"\n",
    "savepath = f'E:\\\\Ratterdam\\\\{rat}\\\\ratterdam_plots\\\\{day}\\\\'\n",
    "df = f'E:\\Ratterdam\\\\{rat}\\\\{rat}_RatterdamOpen_{day}\\\\'\n",
    "clustList = util.getClustList(df)\n",
    "for clust in clustList:\n",
    "    p, s = loadRepeatingUnit(df, clust)\n",
    "    rm = util.makeRM(s,p)\n",
    "    if np.nanpercentile(rm, 95) > 1.:\n",
    "        print(clust)\n",
    "        unit = Unit(s,p)\n",
    "        plotRoutine_RepPF_TempDyn(0,save=True)\n",
    "    else:\n",
    "        print(f\"{clust} did not pass Fr thresh\")"
   ]
  },
  {
   "cell_type": "markdown",
   "metadata": {
    "collapsed": true
   },
   "source": [
    "# Quantifying temporal dynamics of repeating subfields\n",
    "#### Single-cell analysis of which cells, if any, have subfields that exhibit more temporal fluctuations than\n",
    "#### would be expected by chance"
   ]
  },
  {
   "cell_type": "code",
   "execution_count": 328,
   "metadata": {},
   "outputs": [
    {
     "name": "stderr",
     "output_type": "stream",
     "text": [
      "C:\\Users\\whockei1\\Google Drive\\KnierimLab\\Ratterdam\\Code\\RateMapClass_William_20190308.py:210: RuntimeWarning: invalid value encountered in greater_equal\n",
      "  aboveThreshold = np.where(rateMap >= max(fieldThreshold,0), True, False)\n"
     ]
    }
   ],
   "source": [
    "rat = \"R808\"\n",
    "day = \"D6\"\n",
    "savepath = f'E:\\\\Ratterdam\\\\{rat}\\\\ratterdam_plots\\\\{day}\\\\'\n",
    "df = f'E:\\Ratterdam\\\\{rat}\\\\{rat}_RatterdamOpen_{day}\\\\'\n",
    "clust = \"TT15\\\\cl-maze1.1\"\n",
    "p, s = loadRepeatingUnit(df, clust)\n",
    "unit = Unit(s,p)\n",
    "repUnit = RateMapClass.RateMap(unit)"
   ]
  },
  {
   "cell_type": "code",
   "execution_count": 329,
   "metadata": {
    "collapsed": true
   },
   "outputs": [],
   "source": [
    "smoothing = 0\n",
    "for i,pf in enumerate(repUnit.PF[:]):\n",
    "    contour = path.Path(list(zip(pf.perimeter[1]*binWidth+binWidth/2, pf.perimeter[0]*binWidth+binWidth/2)))\n",
    "    PinC = unit.position[contour.contains_points(unit.position[:,1:])]\n",
    "    posVisits = getVisits(PinC[:,0])\n",
    "    field_FR = []\n",
    "    field_TS = [] # take middle ts \n",
    "    for visit in posVisits:\n",
    "        spk = unit.spikes[np.logical_and(unit.spikes[:,0] > visit[0], unit.spikes[:,0] < visit[-1])]\n",
    "        field_FR.append((spk.shape[0]/len(visit))*30)\n",
    "        field_TS.append(((visit[0]-unit.position[0,0])/1e6)/60)\n",
    "    field_FR = util.weird_smooth(np.asarray(field_FR), smoothing)\n",
    "\n",
    "    unit.fields.append(np.column_stack((field_TS, field_FR)))"
   ]
  },
  {
   "cell_type": "code",
   "execution_count": 8,
   "metadata": {
    "collapsed": true
   },
   "outputs": [],
   "source": [
    "# set parameters and choose which field to analyze\n",
    "def find_rateRegime_shift(field, winSz=5, look_ahead=5, thresh=2):\n",
    "    \"\"\"\n",
    "    Take a sliding window of size winSz (always steps by 1).\n",
    "    Look for a rate change in the next element (i.e. first element of next window_n+1)\n",
    "    that is excessive of mean(window_n) +/- thresh*std(window_n). If so see if it persists for look_ahead num of visits\n",
    "    Remove duplicates (i.e. as you slide the window by 1 unit and there's a change youll\n",
    "    catch it multiple times) by having the changes by at least a window length apart.\n",
    "    Return the indices of the change locations\n",
    "    \"\"\"\n",
    "    rate_changes = []\n",
    "\n",
    "    for i in range(len(field)):\n",
    "\n",
    "        window = field[i:i+winSz] # sliding window. serves as baseline rate to compare future putative rate changes to\n",
    "        if i < (len(field)-(winSz+look_ahead)):\n",
    "\n",
    "            #straightforward - twosided threshold +/- 2*std of the reference window\n",
    "            threshUp, threshDown = np.mean(window) + thresh*np.std(window), np.mean(window) - thresh*np.std(window)\n",
    "            if threshDown < 0:\n",
    "                threshDown = 0 # can't have a negative fr \n",
    "\n",
    "            if (field[i+winSz+1][1] > threshUp) or (field[i+winSz+1][1] < threshDown):\n",
    "\n",
    "                # keep track here of whether candidate visit is above or below thresh. B/c youre\n",
    "                # looking for this pattern to persist so need to know direction\n",
    "                if field[i+winSz+1][1] > threshUp:\n",
    "                    compfx = np.greater\n",
    "                    thresh = threshUp\n",
    "                elif field[i+winSz+1][1] < threshDown:\n",
    "                    compfx = np.less\n",
    "                    thresh = threshDown\n",
    "\n",
    "                # walk ahead a certain number of trials and see if the threshold crossing persists\n",
    "                for j in range(look_ahead):\n",
    "                    if ~compfx(field[i+winSz+1+j][1], thresh): # if it doesnt, break out\n",
    "                        break\n",
    "                if j == look_ahead-1: # meaning you got to the end all visits were more extreme than thresh\n",
    "                    if rate_changes != []:\n",
    "                        # basically because we're using a sliding window, a rate change event \n",
    "                        # can be counted multiple times as the window slides. so make sure\n",
    "                        # two rate change events are spaced by at least the winSz meaning youre not doublecounting\n",
    "                        if np.abs(rate_changes[-1]-i) < winSz:\n",
    "                            pass\n",
    "                        else:\n",
    "                            rate_changes.append(i)\n",
    "                    elif rate_changes == []:\n",
    "                        rate_changes.append(i)\n",
    "    return rate_changes"
   ]
  },
  {
   "cell_type": "code",
   "execution_count": 311,
   "metadata": {},
   "outputs": [
    {
     "data": {
      "text/plain": [
       "1.5"
      ]
     },
     "execution_count": 311,
     "metadata": {},
     "output_type": "execute_result"
    }
   ],
   "source": [
    "# Generate a null distibution of rate vectors and see how many have a persistant threshold crossing\n",
    "# w.r.t dynamic rate change\n",
    "field = unit.fields[0]\n",
    "numShuffles = 1000\n",
    "nullCrossings =[]\n",
    "real_crossings = find_rateRegime_shift(field)\n",
    "for r in range(numShuffles):\n",
    "    shuffData = np.random.permutation(field)\n",
    "    rate_changes = find_rateRegime_shift(shuffData)\n",
    "    nullCrossings.append(len(rate_changes))\n",
    "(len([i for i in nullCrossings if i>0])/numShuffles)*100"
   ]
  },
  {
   "cell_type": "markdown",
   "metadata": {},
   "source": [
    "### Analysis of dynamic rate changes improving separability/distance between field rate regimes"
   ]
  },
  {
   "cell_type": "code",
   "execution_count": 314,
   "metadata": {
    "collapsed": true
   },
   "outputs": [],
   "source": [
    "with open(df+\"sessionEpochInfo.txt\",\"r\") as f:\n",
    "        lines = f.readlines()\n",
    "startSession_us, endSession_us = int(lines[0].split(',')[0]), int(lines[0].split(',')[1])\n",
    "\n",
    "startSession = 0 # because were dealing with relative mins in session, its by def 0\n",
    "endSession = ((endSession_us-startSession_us)/1e6)/60"
   ]
  },
  {
   "cell_type": "code",
   "execution_count": 311,
   "metadata": {
    "collapsed": true
   },
   "outputs": [],
   "source": [
    "def compute_max_fieldRateDistances(unit, shuffle=False):\n",
    "\n",
    "    winSz = 5 # in minutes\n",
    "    winoffset = 1 # amount in minutes by which to shift sliding window between iterations\n",
    "    #combinations will be a list of tuples. Each tuple is a pair of unit.fields\n",
    "    # so structure is [(array(ts,r), array(ts,r)), (''), ...]\n",
    "    if shuffle == False:\n",
    "        combinations = list(itertools.combinations(unit.fields,2))\n",
    "        \n",
    "    #if shuffle, then shuffle visits to each field while maintaining field identity and proceed\n",
    "    elif shuffle == True:\n",
    "        shuffled_fields = []\n",
    "        for field in unit.fields:\n",
    "            sf = np.random.permutation(field[:,0])\n",
    "            shuffled_fields.append(np.column_stack((sf,field[:,1])))\n",
    "        combinations = list(itertools.combinations(shuffled_fields,2))\n",
    "        \n",
    "        \n",
    "    field_distances = []\n",
    "    for pair in combinations:\n",
    "        field_distances.append([])\n",
    "        fieldA, fieldB = pair\n",
    "        #get the earliest and latest recorded timestamps for each field\n",
    "        reachedEnd = False\n",
    "        winStart = startSession\n",
    "        while not reachedEnd:\n",
    "            start, stop = winStart, winStart + winSz\n",
    "            winA = fieldA[(fieldA[:,0]>start)&(fieldA[:,0]<stop)]\n",
    "            winB = fieldB[(fieldB[:,0]>start)&(fieldB[:,0]<stop)]\n",
    "            #key computation: taking  'distance' of windowed field rate vector\n",
    "            #if either window does not contain any visits, return nan as it's not a real comparison\n",
    "            if winA.shape[0] == 0 or winB.shape[0] == 0:\n",
    "                dist = np.nan\n",
    "            else:\n",
    "                dist = np.abs(np.mean(winA[:,1])-np.mean(winB[:,1]))\n",
    "            field_distances[-1].append(dist)\n",
    "            winStart += winoffset\n",
    "            if winStart >= endSession:\n",
    "                reachedEnd = True\n",
    "    field_distances = np.asarray(field_distances)\n",
    "    maxdistances = field_distances.max(axis=0)\n",
    "    return field_distances, maxdistances"
   ]
  },
  {
   "cell_type": "code",
   "execution_count": 315,
   "metadata": {},
   "outputs": [
    {
     "name": "stderr",
     "output_type": "stream",
     "text": [
      "C:\\Users\\whockei1\\AppData\\Local\\Continuum\\anaconda3\\lib\\site-packages\\numpy\\core\\fromnumeric.py:2909: RuntimeWarning: Mean of empty slice.\n",
      "  out=out, **kwargs)\n",
      "C:\\Users\\whockei1\\AppData\\Local\\Continuum\\anaconda3\\lib\\site-packages\\numpy\\core\\_methods.py:80: RuntimeWarning: invalid value encountered in double_scalars\n",
      "  ret = ret.dtype.type(ret / rcount)\n"
     ]
    }
   ],
   "source": [
    "fd,maxd = compute_max_fieldRateDistances(unit, shuffle=False)\n",
    "shuffmaxes = []\n",
    "for i in range(5000):\n",
    "    _,shuffmax = compute_max_fieldRateDistances(unit, shuffle=True)\n",
    "    shuffmaxes.append(shuffmax)\n",
    "shuffmaxes = np.asarray(shuffmaxes)"
   ]
  },
  {
   "cell_type": "code",
   "execution_count": 316,
   "metadata": {
    "scrolled": true
   },
   "outputs": [
    {
     "name": "stderr",
     "output_type": "stream",
     "text": [
      "C:\\Users\\whockei1\\AppData\\Local\\Continuum\\anaconda3\\lib\\site-packages\\numpy\\lib\\function_base.py:4274: RuntimeWarning: Invalid value encountered in percentile\n",
      "  interpolation=interpolation)\n"
     ]
    },
    {
     "data": {
      "text/plain": [
       "[<matplotlib.lines.Line2D at 0x1ff392c5518>]"
      ]
     },
     "execution_count": 316,
     "metadata": {},
     "output_type": "execute_result"
    }
   ],
   "source": [
    "plt.figure()\n",
    "plt.plot(maxd,'r')\n",
    "pct95 = np.percentile(shuffmaxes,95,axis=0)\n",
    "plt.plot(pct95,'b--')"
   ]
  },
  {
   "cell_type": "code",
   "execution_count": 26,
   "metadata": {},
   "outputs": [
    {
     "name": "stderr",
     "output_type": "stream",
     "text": [
      "C:\\Users\\whockei1\\Google Drive\\KnierimLab\\Ratterdam\\Code\\utility_fx.py:498: RuntimeWarning: divide by zero encountered in reciprocal\n",
      "  n = (hs*np.reciprocal(ho))*30\n",
      "C:\\Users\\whockei1\\Google Drive\\KnierimLab\\Ratterdam\\Code\\utility_fx.py:498: RuntimeWarning: invalid value encountered in multiply\n",
      "  n = (hs*np.reciprocal(ho))*30\n",
      "C:\\Users\\whockei1\\Google Drive\\KnierimLab\\Ratterdam\\Code\\utility_fx.py:325: RuntimeWarning: invalid value encountered in true_divide\n",
      "  Z=VV/WW\n",
      "C:\\Users\\whockei1\\Google Drive\\KnierimLab\\Ratterdam\\Code\\RateMapClass_William_20190308.py:210: RuntimeWarning: invalid value encountered in greater_equal\n",
      "  aboveThreshold = np.where(rateMap >= max(fieldThreshold,0), True, False)\n"
     ]
    },
    {
     "name": "stdout",
     "output_type": "stream",
     "text": [
      "TT7_0001\\cl-maze1.3\n",
      "TT7_0001\\cl-maze1.4\n",
      "Ratemap and field dynamics saved\n",
      "Field Rate Modulation Analysis Saved\n"
     ]
    },
    {
     "name": "stderr",
     "output_type": "stream",
     "text": [
      "C:\\Users\\whockei1\\AppData\\Local\\Continuum\\anaconda3\\lib\\site-packages\\numpy\\lib\\function_base.py:4274: RuntimeWarning: Invalid value encountered in percentile\n",
      "  interpolation=interpolation)\n"
     ]
    },
    {
     "name": "stdout",
     "output_type": "stream",
     "text": [
      "Pairwise Field Comparison Analysis Saved\n",
      "TT7_0001\\cl-maze1.5\n",
      "Ratemap and field dynamics saved\n",
      "Field Rate Modulation Analysis Saved\n",
      "Pairwise Field Comparison Analysis Saved\n",
      "TT7_0001\\cl-maze1.6\n",
      "Ratemap and field dynamics saved\n",
      "Field Rate Modulation Analysis Saved\n",
      "Pairwise Field Comparison Analysis Saved\n",
      "TT7_0001\\cl-maze1.7\n",
      "Ratemap and field dynamics saved\n",
      "Field Rate Modulation Analysis Saved\n",
      "Pairwise Field Comparison Analysis Saved\n",
      "TT7_0001\\cl-maze1.8\n",
      "Ratemap and field dynamics saved\n",
      "Field Rate Modulation Analysis Saved\n",
      "Pairwise Field Comparison Analysis Saved\n",
      "TT8\\cl-maze1.1\n",
      "Ratemap and field dynamics saved\n",
      "Field Rate Modulation Analysis Saved\n",
      "Pairwise Field Comparison Analysis Saved\n",
      "TT8\\cl-maze1.2\n",
      "Ratemap and field dynamics saved\n",
      "Field Rate Modulation Analysis Saved\n",
      "Pairwise Field Comparison Analysis Saved\n",
      "TT8\\cl-maze1.3\n",
      "Ratemap and field dynamics saved\n",
      "Field Rate Modulation Analysis Saved\n",
      "Pairwise Field Comparison Analysis Saved\n",
      "TT8\\cl-maze1.4 did not pass Fr thresh\n",
      "TT8\\cl-maze1.5\n",
      "Ratemap and field dynamics saved\n",
      "Field Rate Modulation Analysis Saved\n",
      "Pairwise Field Comparison Analysis Saved\n"
     ]
    }
   ],
   "source": [
    "## Save routine for the following f.ea. cell\n",
    "# - rate map and field dynamics over time (previously saved by itself)\n",
    "# - f.ea. field plot field over time 95% CI for epoch crossing\n",
    "# - composite max rate diff trace w 95% CI\n",
    "# - heatmap of all pairwise field comparisons \n",
    "\n",
    "rat = \"R859\"\n",
    "day = \"D2\"\n",
    "smooth = 1\n",
    "numShuffles = 1000\n",
    "nCols = 2 # for subplots, fix num cols and add rows as needed\n",
    "savepath = f'E:\\\\Ratterdam\\\\{rat}\\\\ratterdam_plots\\\\{day}\\\\'\n",
    "df = f'E:\\Ratterdam\\\\{rat}\\\\{rat}_RatterdamOpen_{day}\\\\'\n",
    "\n",
    "with open(df+\"sessionEpochInfo.txt\",\"r\") as f:\n",
    "        lines = f.readlines()\n",
    "startSession_us, endSession_us = int(lines[0].split(',')[0]), int(lines[0].split(',')[1])\n",
    "\n",
    "startSession = 0 # because were dealing with relative mins in session, its by def 0\n",
    "endSession = ((endSession_us-startSession_us)/1e6)/60\n",
    "\n",
    "\n",
    "clustList = util.getClustList(df)\n",
    "for clust in clustList[48:]:\n",
    "    p, s = loadRepeatingUnit(df, clust)\n",
    "    rm = util.makeRM(s,p)\n",
    "    if np.nanpercentile(rm, 95) > 1.:\n",
    "        print(clust)\n",
    "        unit = Unit(s,p)\n",
    "        repUnit = RateMapClass.RateMap(unit)\n",
    "        \n",
    "        # add field rates to unit object. this procedure is done in plotRoutine_RepPF_TempDyn\n",
    "        # but it doesn't save it to unit obj and i want to keep them separate so do it again here w save\n",
    "        for i,pf in enumerate(repUnit.PF[:]):\n",
    "            unit.colors.append(cnames[i])\n",
    "            contour = path.Path(list(zip(pf.perimeter[1]*binWidth+binWidth/2, pf.perimeter[0]*binWidth+binWidth/2)))\n",
    "            PinC = unit.position[contour.contains_points(unit.position[:,1:])]\n",
    "            posVisits = getVisits(PinC[:,0])\n",
    "            field_FR = []\n",
    "            field_TS = [] # take middle ts \n",
    "            for visit in posVisits:\n",
    "                spk = unit.spikes[np.logical_and(unit.spikes[:,0] > visit[0], unit.spikes[:,0] < visit[-1])]\n",
    "                field_FR.append((spk.shape[0]/len(visit))*30)\n",
    "                field_TS.append(((visit[0]-unit.position[0,0])/1e6)/60)\n",
    "            field_FR = util.weird_smooth(np.asarray(field_FR), smooth)\n",
    "            unit.fields.append(np.column_stack((field_TS, field_FR)))\n",
    "        \n",
    "        numFields = len(unit.fields) # use this to design good subplot dims\n",
    "        if numFields > 0:\n",
    "        \n",
    "            clustname = clust.replace(\"\\\\\",\"_\")\n",
    "            with PdfPages(savepath+f\"{clustname}_FieldDynamicsAnalysis.pdf\") as pdf:\n",
    "\n",
    "                # 1 - cell ratemap and fields over time\n",
    "                plotRoutine_RepPF_TempDyn(smooth,save=False)\n",
    "                pdf.savefig()\n",
    "                plt.close()\n",
    "                print(\"Ratemap and field dynamics saved\")\n",
    "\n",
    "                # 2 - each field, plot it and 95% CI (i think it still should be onesided because although\n",
    "                # rate deviations over time could be up or down, you abstract and call it a deviation\n",
    "                # then are comparing the abundance of these to that under the null)\n",
    "                nRows = int(np.ceil(numFields/nCols))\n",
    "                fig, ax = plt.subplots(nRows, nCols, figsize=(15,10))\n",
    "                for i,field in enumerate(unit.fields):\n",
    "                    nullCrossNums = []\n",
    "                    real_crossings = find_rateRegime_shift(field)\n",
    "                    for r in range(numShuffles):\n",
    "                        shuffData = np.random.permutation(field)\n",
    "                        rate_changes = find_rateRegime_shift(shuffData)\n",
    "                        nullCrossNums.append(len(rate_changes))\n",
    "\n",
    "                    fig.axes[i].plot(field[:,1],color=unit.colors[i])\n",
    "                    if real_crossings is not []:\n",
    "                        # find a pvalue(?) by getting percentage of nulls that pass the criteria\n",
    "                        # if that's less than 5% then it passes and color it red to signify this\n",
    "                        p = (len([i for i in nullCrossNums if i>0])/numShuffles)*100\n",
    "                        if p < 5:\n",
    "                            color = 'r'\n",
    "                        elif p >= 5:\n",
    "                            color = 'k'\n",
    "                        for crossing in real_crossings:\n",
    "                            fig.axes[i].vlines(crossing, 0, max(field[:,1]), color=color)\n",
    "                fig.axes[0].set_xlabel(\"Time (min)\")\n",
    "                fig.axes[0].set_ylabel(\"Firing Rate (Hz)\")\n",
    "                plt.suptitle(\"Detected Fields, w. Marked +/-2*std thresh crossings (red==95% sig)\",fontsize=16)\n",
    "                pdf.savefig()\n",
    "                plt.close()\n",
    "                print(\"Field Rate Modulation Analysis Saved\")\n",
    "\n",
    "                # 3/4 - composite, maximum windowed pairwise rate diffs. And a heatmap of all the pairs\n",
    "                if len(unit.fields)>1:\n",
    "                    fig, ax = plt.subplots(2,1, figsize=(10,10))\n",
    "                    fd,maxd = compute_max_fieldRateDistances(unit, shuffle=False)\n",
    "                    shuffmaxes = []\n",
    "                    for i in range(numShuffles):\n",
    "                        _,shuffmax = compute_max_fieldRateDistances(unit, shuffle=True)\n",
    "                        shuffmaxes.append(shuffmax)\n",
    "                    shuffmaxes = np.asarray(shuffmaxes)\n",
    "                    fig.axes[0].plot(maxd,'r')\n",
    "                    pct95 = np.percentile(shuffmaxes,95,axis=0)\n",
    "                    fig.axes[0].plot(pct95,'k--')\n",
    "                    fig.axes[0].set_xlabel(\"Time (rel)\")\n",
    "                    fig.axes[0].set_ylabel(\"Composite Maximum FR Diff, Windowed\",fontsize=12)\n",
    "\n",
    "                    fig.axes[1].imshow(fd, aspect='auto', interpolation='None',cmap=cmap)\n",
    "                    fig.axes[1].set_xlabel(\"Time (rel)\")\n",
    "                    fig.axes[1].set_ylabel(\"Pairwise Field Rate Comparisons\",fontsize=12)\n",
    "\n",
    "                    plt.suptitle(\"Pairwise Subfield Rate Diffs, Unsigned + Windowed\",fontsize=16)\n",
    "                    pdf.savefig()\n",
    "                    plt.close()\n",
    "                    print(\"Pairwise Field Comparison Analysis Saved\")\n",
    "                           \n",
    "    else:\n",
    "        print(f\"{clust} did not pass Fr thresh\")\n"
   ]
  },
  {
   "cell_type": "markdown",
   "metadata": {
    "collapsed": true
   },
   "source": [
    "### Field Detection Dynamics - Using Inflection points and thresholding those epochs"
   ]
  },
  {
   "cell_type": "code",
   "execution_count": 739,
   "metadata": {
    "collapsed": true
   },
   "outputs": [],
   "source": [
    "def findInflections(field):\n",
    "    \"\"\"\n",
    "    Find all inflection pts of the input 1d (n,1) array\n",
    "    array ([x,y]...)\n",
    "    I.e. where there is a change in 2nd deriv\n",
    "    \"\"\"\n",
    "    signdelta = np.sign(np.diff(field, axis=0))\n",
    "    idx = np.where(np.diff(signdelta,axis=0)!=0)[0] # by convention sign returns +/-1 so if you think about it two diff values will be +/2 and two same values in a row will be zero\n",
    "    idx = idx + 1 # the above catches the point right before the inflection\n",
    "    idx = np.hstack((0,idx, field.shape[0]-1))\n",
    "    return idx"
   ]
  },
  {
   "cell_type": "code",
   "execution_count": 867,
   "metadata": {
    "collapsed": true
   },
   "outputs": [],
   "source": [
    "def length_filter(idx,data,thresh=2):\n",
    "    \"\"\"Filter the visits that have been flagged as rate change\n",
    "    epoch boundaries by whether the epoch is long enough. Ie. if\n",
    "    there are at least thresh visits *between* the successive epoch\n",
    "    bounds\"\"\"\n",
    "    \n",
    "    #unpacking below: you diff your input idx list and look for diffs that are big enough\n",
    "    # bc diffing the last element is impossible only get original idx vals up to not incl the end\n",
    "    passidx = idx[:-1][np.diff(idx,axis=0)>=thresh+1]\n",
    "    passidx = np.hstack((passidx, data.shape[0]-1)) #add this back on\n",
    "    passidx = passidx[:,np.newaxis]\n",
    "    return passidx"
   ]
  },
  {
   "cell_type": "code",
   "execution_count": 846,
   "metadata": {
    "collapsed": true
   },
   "outputs": [],
   "source": [
    "def magnitude_filter(idx,data, thresh=0.20):\n",
    "    \"\"\"\n",
    "    Filter potential epochs according to whether or not\n",
    "    the beginning to end difference (idx[n],idx[n+1]) exceeds\n",
    "    thresh % of the range of all the data. Data is 1d (n,1) array\n",
    "    \"\"\"\n",
    "    passidx = np.empty((0,1),dtype=np.int)\n",
    "    for i in range(0,idx.shape[0]-1):\n",
    "        start, stop = data[idx[i]], data[idx[i+1]]\n",
    "        pctRange = abs(start-stop)/(data.max()-data.min())\n",
    "        if pctRange >= thresh:\n",
    "            passidx = np.vstack((passidx, i))\n",
    "    passidx = np.vstack((idx[passidx], data.shape[0]-1)) #add this back on \n",
    "    return passidx"
   ]
  },
  {
   "cell_type": "markdown",
   "metadata": {
    "collapsed": true
   },
   "source": [
    "### Field detection dynamics - using filters to smooth curve, and a MSE CV method to determine appropriate smoothing"
   ]
  },
  {
   "cell_type": "markdown",
   "metadata": {},
   "source": [
    "#### Methods of preprocessing"
   ]
  },
  {
   "cell_type": "code",
   "execution_count": 156,
   "metadata": {},
   "outputs": [
    {
     "data": {
      "text/plain": [
       "[<matplotlib.lines.Line2D at 0x1bb04d88e80>]"
      ]
     },
     "execution_count": 156,
     "metadata": {},
     "output_type": "execute_result"
    },
    {
     "data": {
      "image/png": "[encoded data removed]",
      "text/plain": [
       "<matplotlib.figure.Figure at 0x1bb01df6208>"
      ]
     },
     "metadata": {},
     "output_type": "display_data"
    }
   ],
   "source": [
    "# Splines\n",
    "field = unit.fields[0]\n",
    "tck = splrep(field[:,0],field[:,1], k=3, task=0, s=50)\n",
    "x2 = np.linspace(0,max(field[:,0]),100)\n",
    "y2 = splev(x2,tck)\n",
    "plt.figure(figsize=(16,14))\n",
    "plt.plot(x2,y2,'k')\n",
    "plt.plot(field[:,0], field[:,1], 'b--', alpha=0.5)"
   ]
  },
  {
   "cell_type": "code",
   "execution_count": 154,
   "metadata": {},
   "outputs": [
    {
     "data": {
      "text/plain": [
       "[<matplotlib.lines.Line2D at 0x1bb01dd76d8>]"
      ]
     },
     "execution_count": 154,
     "metadata": {},
     "output_type": "execute_result"
    },
    {
     "data": {
      "image/png": "[encoded data removed]",
      "text/plain": [
       "<matplotlib.figure.Figure at 0x1bb019ab9b0>"
      ]
     },
     "metadata": {},
     "output_type": "display_data"
    }
   ],
   "source": [
    "# Savitsky-Golay Filter\n",
    "# but bc this returns a filtered list, and not a fx we can use to eval,\n",
    "# use an unsmoothed cubic spline to recreate the S-G filter and use that. \n",
    "ysg = savgol_filter(field[:,1], window_length=7, polyorder=3)\n",
    "tck = splrep(range(len(ysg)), ysg, k=3, task=0)\n",
    "x = np.linspace(0,len(ysg), len(ysg))\n",
    "yspl = splev(x, tck)\n",
    "#plt.plot(x,ysg,'k')\n",
    "plt.figure(figsize=(12,10))\n",
    "plt.plot(x,yspl,'r--')\n",
    "plt.plot(field[:,1])"
   ]
  },
  {
   "cell_type": "markdown",
   "metadata": {},
   "source": [
    "#### MSE and CV to select best smoothing parameters"
   ]
  },
  {
   "cell_type": "code",
   "execution_count": null,
   "metadata": {
    "collapsed": true
   },
   "outputs": [],
   "source": []
  },
  {
   "cell_type": "code",
   "execution_count": 126,
   "metadata": {
    "collapsed": true
   },
   "outputs": [],
   "source": [
    "propDropOut = .33\n",
    "nRuns = 100\n",
    "smoothingValues = np.arange(20,70,10)\n",
    "field = unit.fields[0]\n",
    "mses = []\n",
    "\n",
    "for sm in smoothingValues:\n",
    "    mses.append([])\n",
    "    for r in range(nRuns):\n",
    "        rmIdx = np.random.choice(range(field.shape[0]), int(round(field.shape[0]*propDropOut)), replace=False)\n",
    "        dsField = np.delete(field, rmIdx, axis=0)\n",
    "        rmIdx = rmIdx[rmIdx<max(dsField[:,0])] # bc you cant eval outside what you modeled. big weakness need to find soln\n",
    "        tck = splrep(dsField[:,0], dsField[:,1], k=3, task=0, s=sm)\n",
    "        mse = np.mean(np.square(field[rmIdx,:1].T - splev(rmIdx,tck)))        \n",
    "        mses[-1].append(mse)\n"
   ]
  },
  {
   "cell_type": "code",
   "execution_count": 155,
   "metadata": {
    "scrolled": true
   },
   "outputs": [
    {
     "data": {
      "image/png": "[encoded data removed]",
      "text/plain": [
       "<matplotlib.figure.Figure at 0x1bb04d8f0f0>"
      ]
     },
     "metadata": {},
     "output_type": "display_data"
    }
   ],
   "source": [
    "fig, ax = plt.subplots(int(np.ceil(len(smoothingValues)/3)),3, figsize=(10,10))\n",
    "\n",
    "for i,d in enumerate(mses):\n",
    "    fig.axes[i].boxplot(d, showfliers=False)\n",
    "    fig.axes[i].set_title(f\"{smoothingValues[i]}\")"
   ]
  },
  {
   "cell_type": "markdown",
   "metadata": {},
   "source": [
    "### Using FFT to get timescales of rate changes \n",
    "#### (i.e. low freq components correspond to longer timescale rate changes)."
   ]
  },
  {
   "cell_type": "code",
   "execution_count": 196,
   "metadata": {},
   "outputs": [
    {
     "data": {
      "text/plain": [
       "[<matplotlib.lines.Line2D at 0x1bb04e5fcc0>]"
      ]
     },
     "execution_count": 196,
     "metadata": {},
     "output_type": "execute_result"
    },
    {
     "data": {
      "image/png": "[encoded data removed]",
      "text/plain": [
       "<matplotlib.figure.Figure at 0x1bb03d83550>"
      ]
     },
     "metadata": {},
     "output_type": "display_data"
    }
   ],
   "source": [
    "field = unit.fields[0]\n",
    "%matplotlib inline\n",
    "plt.figure(figsize=(10,10))\n",
    "samplingFrequency = 1\n",
    "samplingInterval = 1/samplingFrequency\n",
    "fft = np.fft.fft(field[:,1])/field.shape[0]\n",
    "fft = fft[range(int(field.shape[0]/2))]\n",
    "tpCount = field.shape[0]\n",
    "values = np.arange(int(tpCount/2))\n",
    "timePeriod = tpCount/samplingFrequency\n",
    "frequencies = values/timePeriod\n",
    "plt.plot(frequencies, abs(fft))"
   ]
  },
  {
   "cell_type": "code",
   "execution_count": 191,
   "metadata": {},
   "outputs": [
    {
     "name": "stderr",
     "output_type": "stream",
     "text": [
      "C:\\Users\\whockei1\\AppData\\Local\\Continuum\\anaconda3\\lib\\site-packages\\scipy\\signal\\spectral.py:1633: UserWarning: nperseg = 256 is greater than input length  = 77, using nperseg = 77\n",
      "  .format(nperseg, input_length))\n"
     ]
    }
   ],
   "source": [
    "f, t, Sxx = signal.spectrogram(field[:,1])\n",
    "plt.figure()\n",
    "plt.pcolormesh(t, f, Sxx)\n",
    "plt.ylabel('Frequency [Hz]')\n",
    "plt.xlabel('Time [sec]')\n",
    "plt.show()"
   ]
  },
  {
   "cell_type": "markdown",
   "metadata": {},
   "source": [
    "## High-Frequency Rate Changes\n",
    "### Preprocessing > FFT > Find peaks > bandpass filter \n",
    "### Optimal envelope code at the end is for LOW FREQ rate changes, but since\n",
    "### I'm not probably going to do it that way going forward, call this whole analysis HF"
   ]
  },
  {
   "cell_type": "markdown",
   "metadata": {},
   "source": [
    "Preprocess unsmoothed or lightly smoothed (sigma=1) signal by 1) windowed mean subtraction and 2) overall mean subtraction  \n",
    "Then apply FFT and look for peaks above windoweed smoothed FFT signal.  \n",
    "Bandpass filter original data into these bands +/- some tolerance and find all deflections therein fr.ea. band. This gets you oscillatory based rate changes.  \n",
    "For nonoscillatory rate changes like ramps, non repeating shifts, etc. Reconstruct the envelope from the Hilbert transform and find deflections on that  \n",
    "NB that this is all based on visit number being the independent variable, i.e. it's visit num on xaxis not time"
   ]
  },
  {
   "cell_type": "code",
   "execution_count": 384,
   "metadata": {},
   "outputs": [
    {
     "name": "stderr",
     "output_type": "stream",
     "text": [
      "C:\\Users\\whockei1\\Google Drive\\KnierimLab\\Ratterdam\\Code\\RateMapClass_William_20190308.py:210: RuntimeWarning: invalid value encountered in greater_equal\n",
      "  aboveThreshold = np.where(rateMap >= max(fieldThreshold,0), True, False)\n",
      "C:\\Users\\whockei1\\AppData\\Local\\Continuum\\anaconda3\\lib\\site-packages\\ipykernel_launcher.py:31: RuntimeWarning: invalid value encountered in double_scalars\n"
     ]
    }
   ],
   "source": [
    "# Load Cell\n",
    "rat = \"R859\"\n",
    "day = \"D3\"\n",
    "savepath = f'E:\\\\Ratterdam\\\\{rat}\\\\ratterdam_plots\\\\{day}\\\\'\n",
    "df = f'E:\\Ratterdam\\\\{rat}\\\\{rat}_RatterdamOpen_{day}\\\\'\n",
    "clust = \"TT6\\\\cl-maze1.7\"\n",
    "p, s = loadRepeatingUnit(df, clust)\n",
    "unit = Unit(s,p)"
   ]
  },
  {
   "cell_type": "code",
   "execution_count": 396,
   "metadata": {},
   "outputs": [
    {
     "data": {
      "text/plain": [
       "Text(0.5,0.98,'Bandpass Filtered Signals')"
      ]
     },
     "execution_count": 396,
     "metadata": {},
     "output_type": "execute_result"
    }
   ],
   "source": [
    "# Select Field and analyze\n",
    "field = unit.fields[0]\n",
    "#field = np.column_stack((unit.fields[1][:,0], np.random.choice(unit.fields[1][:,1], unit.fields[1].shape[0], replace=False)))\n",
    "adjustedField = preprocessField(field) # perform 2 mean subtractions. 1 nonoverlapping sliding window, 1 overall mean in that order\n",
    "X, f = FFT(adjustedField) # fft of this adjusted field. X is fft output f is freqs\n",
    "filteredSignals, extrema = extractFreqBands(X, f, field) # use butterworth bandpass filter to extract signal around fft peaks\n",
    "#envlIdx, optAUC, extrList = findOptimalEnvelope(field) # use a cost fx of trade off of auc and peaks kept to compute envelope of signal\n",
    "#shuffs = computeNullAUC(field,n=1000)\n",
    "\n",
    "# plot mean adjusted data\n",
    "fig, axis = plt.subplots(2,1)\n",
    "fig.axes[0].plot(field[:,1])\n",
    "fig.axes[1].plot(adjustedField)\n",
    "fig.axes[1].set_xlabel(\"Visit\")\n",
    "fig.axes[0].set_ylabel(\"Firing Rate\")\n",
    "fig.axes[1].set_ylabel(\"Adjusted Rate\")\n",
    "fig.axes[0].set_title(\"Original Data (slightly smoothed)\")\n",
    "fig.axes[1].set_title(\"Mean Adjusted Place Field Over Time (visits)\")\n",
    "\n",
    "# plot fft overlaid with peaks\n",
    "plt.figure()\n",
    "plt.plot(f,X,'--')\n",
    "plt.scatter(f[extrema], X[extrema],s=30,c='r',marker='^')\n",
    "plt.xlabel(\"Frequency\")\n",
    "plt.ylabel(\"Power\")\n",
    "plt.title(\"FFT results, mean adjusted place field\")\n",
    "\n",
    "# optional - visualize\n",
    "plt.figure()\n",
    "for sig in filteredSignals:\n",
    "    plt.plot(sig)\n",
    "plt.legend([f\"{i}\" for i in f[extrema]])\n",
    "plt.plot(field[:,1],linewidth=2,color='k')\n",
    "plt.xlabel(\"Visit\")\n",
    "plt.ylabel(\"Adjusted Firing Rate\")\n",
    "plt.title(\"Bandpass signals of Original Field, overlaid with adjusted\")\n",
    "\n",
    "#plot results for each identified freq band for the single field weve been working with \n",
    "fig, ax = plt.subplots(3, int(np.ceil(len(filteredSignals)/3)), figsize=(15,15))\n",
    "for i in range(len(filteredSignals)):\n",
    "    axis = fig.axes[i]\n",
    "    axis.plot(filteredSignals[i],'g')\n",
    "    axis.plot(adjustedField,color='b',alpha=0.5)\n",
    "    axis.set_xlabel(\"Visit\")\n",
    "    axis.set_ylabel(\"Amp\")\n",
    "    axis.set_title(f\"{f[extrema[0][i]]}\")\n",
    "plt.suptitle(\"Bandpass Filtered Signals\")\n",
    "\n",
    "#plots all fit attempts labeled w normed auc and sigmoid of peak num \n",
    "# plt.figure()\n",
    "# for ex in extrList:\n",
    "#     plt.plot(ex,field[ex,1], linestyle=next(lines))\n",
    "# plt.plot(field[:,1],linewidth=2,color='k')\n",
    "#plt.plot(envlIdx,field[envlIdx,1],'k',linewidth=2)\n",
    "\n",
    "# plt hist of nulls vs real\n",
    "# plt.figure()\n",
    "# plt.hist(shuffs,20)\n",
    "# plt.vlines(optAUC, 0, plt.gca().get_ylim()[1])\n",
    "# plt.ylabel(\"Frequency Count\")\n",
    "# plt.xlabel(\"AUC\")\n",
    "# plt.title(\"Distribution of Null and Observed Optimal Envelope AUC Diffs\")"
   ]
  },
  {
   "cell_type": "markdown",
   "metadata": {},
   "source": [
    "#### Everything below this are setup stuff, run 1x before running the above cell"
   ]
  },
  {
   "cell_type": "code",
   "execution_count": 369,
   "metadata": {
    "collapsed": true
   },
   "outputs": [],
   "source": [
    "# setup vars, support fx. Run 1x on kernel start\n",
    "\n",
    "ls = [':',\"-.\",\"--\",\"-\"]\n",
    "lines = itertools.cycle(ls)\n",
    "\n",
    "def sigmoid(x, shift=7.5):\n",
    "    return 1/(1+np.exp(-(x-shift)))\n",
    "\n",
    "from scipy.signal import butter, lfilter\n",
    "def filter_data(data, low,high, sf=1, order=2):\n",
    "    # Determine Nyquist frequency\n",
    "    nyq = sf/2\n",
    "    # Set bands\n",
    "    low = low/nyq\n",
    "    high = high/nyq\n",
    "    # Calculate coefficients\n",
    "    b, a = butter(order, [low, high], btype='band')\n",
    "    # Filter signal\n",
    "    filtered_data = lfilter(b, a, data)\n",
    "\n",
    "    return filtered_data\n"
   ]
  },
  {
   "cell_type": "code",
   "execution_count": 370,
   "metadata": {
    "collapsed": true
   },
   "outputs": [],
   "source": [
    "def preprocessField(field):\n",
    "    \"\"\"\n",
    "    Preprocess data for FFT.\n",
    "    First, perform nonoverlapping sliding window mean subtraction of each point\n",
    "    Then overall mean subtraction\n",
    "    Return processed data. This is only to be used with FFT. Subsequent bandpass filtering should be done\n",
    "    on original data\n",
    "    \"\"\"\n",
    "    windows = np.asarray(list(more_itertools.windowed(field[:,1], n=5,step=5))) # nb stops when it hits the end w full window size\n",
    "    windows[-1,(field.shape[0]%5):] = [0]*(5-field.shape[0]%5) # windowed fx doest make window smaller as it hits end so there are len(array)%windowsize Nones or something like that. replace w 0s - FIX THIS\n",
    "    m = np.nanmean(windows,axis=1)\n",
    "    m = m[:, np.newaxis]\n",
    "    data = windows - m\n",
    "    data = np.ndarray.flatten(data)\n",
    "    data = data[:field.shape[0]] # you zero padded above effectively so remove them\n",
    "    data = data - np.mean(data) # this second mean subtraction should get rid of intial peak at 0Hz\n",
    "    return data"
   ]
  },
  {
   "cell_type": "code",
   "execution_count": 12,
   "metadata": {
    "collapsed": true
   },
   "outputs": [],
   "source": [
    "# Preprocessing - overlapping sliding window (option B, dont pick A if so)\n",
    "# parms hardcoded. Bascially if you slide the window by one element at a time, each element takes 'a turn' being the center of an odd-len window. ith pt = i-(n/2)-1 window.\n",
    "# except fo the (n/2)-1 elements at the beginning and at the end. So for those use the first and last windows respectively. Then use window means to subtract from each point.\n",
    "# winSz = 3\n",
    "\n",
    "# field = unit.fields[0]\n",
    "# windows = np.asarray(list(more_itertools.windowed(field[:,1], n=winSz, step=1)))\n",
    "# means = np.mean(windows, axis=1)\n",
    "# meansub = np.zeros((field.shape[0],1))\n",
    "# meansub[0], meansub[1] = field[0,1]-means[0], field[1,1]-means[0]\n",
    "# for i in range(2,field.shape[0]-4):\n",
    "#     meansub[i] = means[i]\n",
    "# meansub[-1], meansub[-2] = field[-1,1]-means[-1], field[-2,1]-means[-1]"
   ]
  },
  {
   "cell_type": "code",
   "execution_count": 371,
   "metadata": {
    "collapsed": true
   },
   "outputs": [],
   "source": [
    "def FFT(data, plot=False):\n",
    "    \"\"\"\n",
    "    Wrapper to run fft. \n",
    "    Fs is 1 (this fx is for visit as indep. var)\n",
    "    nfft is NOT default. It's the next power of 2 of array size.\n",
    "    plot optional\n",
    "    Return X - fft result\n",
    "           f - list of freqs\n",
    "    \"\"\"\n",
    "    Fs = 1.\n",
    "    nfft = 2**int(np.ceil(np.log2(field.shape[0]))) # n fft points. \n",
    "    X = np.fft.fft(data, nfft)\n",
    "    df = Fs/nfft\n",
    "    f = np.arange(0, Fs/2, df)\n",
    "    nF = len(f)\n",
    "    X = np.abs(X[0:nF])\n",
    "    if plot:\n",
    "        plt.figure()\n",
    "        plt.plot(f,X,'-^')\n",
    "        plt.xlabel(\"Frequency\")\n",
    "        plt.ylabel(\"Power\")\n",
    "        plt.title(\"FFT results, mean adjusted place field\")\n",
    "    return X, f"
   ]
  },
  {
   "cell_type": "code",
   "execution_count": 381,
   "metadata": {
    "collapsed": true
   },
   "outputs": [],
   "source": [
    "def extractFreqBands(X,f, field):\n",
    "    \"\"\"\n",
    "    !! This is meant for visit as indep var, not time\n",
    "\n",
    "    Find peaks in FFT, use a butterworth filter to extract\n",
    "    the signals from the original place field data.\n",
    "    Bandpass is +/- 0.005 \"Hz\" of peak\n",
    "    Return - list of bandpass filtered signals\n",
    "    \"\"\"\n",
    "    \n",
    "    extrema = scipy.signal.argrelmax(X, order=3) # order is how many points on each side of a given point to consider. has physical interpretion based on nfft and max(fs) (given from nyquist)\n",
    "    peakFreqs = f[extrema]\n",
    "\n",
    "    halfWin = 0.01 # half size of bandpass filter window. .2 is def\n",
    "    filteredSignals = []\n",
    "    for peak in peakFreqs:\n",
    "        low, high = peak-halfWin, peak+halfWin\n",
    "        filtData = filter_data(field[:,1], low, high)\n",
    "        filteredSignals.append(filtData)\n",
    "    return filteredSignals, extrema"
   ]
  },
  {
   "cell_type": "code",
   "execution_count": 373,
   "metadata": {
    "collapsed": true
   },
   "outputs": [],
   "source": [
    "def findOptimalEnvelope(field, plot=False):\n",
    "    \"\"\"\n",
    "    Uses sp.argrelmax to find all peaks that constitute an envelope.\n",
    "    Peak detection is based on local max so to find optimal size of locale\n",
    "    loop over a preset large range of sides and try each. Optimal is\n",
    "    that which balances AUC (data-envelope) vs shifted sigmoid of peaks kept\n",
    "    Return peak indices\n",
    "    \"\"\"\n",
    "    baseAUC = auc(range(field.shape[0]), field[:,1])\n",
    "    orders = range(1,30)\n",
    "    extrList,aucs = [],[]\n",
    "\n",
    "    for r in orders:\n",
    "        extr, = scipy.signal.argrelmax(field[:,1], order=r)\n",
    "        if extr.shape[0] >= 2:\n",
    "            obsAUCdiff = auc(extr, field[extr,1]) - baseAUC\n",
    "            aucs.append(obsAUCdiff)\n",
    "            extrList.append(extr)\n",
    "    aucs = np.asarray(aucs)\n",
    "    anorm = (aucs - aucs.min())/(aucs.max()-aucs.min())\n",
    "    snorm = [sigmoid(i.shape[0]) for i in extrList]\n",
    "    optimalOrder = orders[np.argmin(np.abs(anorm-snorm))]\n",
    "    extr, = scipy.signal.argrelmax(field[:,1],order=optimalOrder)\n",
    "    optAUCdiff = auc(extr, field[extr,1]) - baseAUC\n",
    "    if plot:\n",
    "        plt.figure()\n",
    "        plt.plot(field[:,1],'k')\n",
    "        plt.plot(extr,field[extr,1],'--b')\n",
    "    return extr, optAUCdiff, extrList"
   ]
  },
  {
   "cell_type": "code",
   "execution_count": 374,
   "metadata": {
    "collapsed": true
   },
   "outputs": [],
   "source": [
    "def computeNullAUC(field,n=1000):\n",
    "    \"\"\"\n",
    "    Use shuffling to see whether observed test statistic parameterizing rate dynamics (here AUC real - envelope) is \n",
    "    different from distribution of the same value computed many times from shuffles\n",
    "    \"\"\"\n",
    "    shaucs = []\n",
    "    for i in range(n):\n",
    "        shuff = np.column_stack((field[:,0], np.random.choice(field[:,1],field.shape[0],replace=False)))\n",
    "        _, shauc,_ = findOptimalEnvelope(shuff)\n",
    "        shaucs.append(shauc)\n",
    "    return np.asarray(shaucs)"
   ]
  },
  {
   "cell_type": "markdown",
   "metadata": {
    "collapsed": true
   },
   "source": [
    "## Low-frequency Rate changes\n",
    "### Bandpass filter > Downsampled cublic spline interp > Inflection detection > Filters"
   ]
  },
  {
   "cell_type": "code",
   "execution_count": 7,
   "metadata": {},
   "outputs": [
    {
     "name": "stderr",
     "output_type": "stream",
     "text": [
      "C:\\Users\\whockei1\\Google Drive\\KnierimLab\\Ratterdam\\Code\\RateMapClass_William_20190308.py:210: RuntimeWarning: invalid value encountered in greater_equal\n",
      "  aboveThreshold = np.where(rateMap >= max(fieldThreshold,0), True, False)\n",
      "C:\\Users\\whockei1\\AppData\\Local\\Continuum\\anaconda3\\lib\\site-packages\\ipykernel_launcher.py:31: RuntimeWarning: invalid value encountered in double_scalars\n"
     ]
    }
   ],
   "source": [
    "# Load Cell\n",
    "rat = \"R859\"\n",
    "day = \"D3\"\n",
    "savepath = f'E:\\\\Ratterdam\\\\{rat}\\\\ratterdam_plots\\\\{day}\\\\'\n",
    "df = f'E:\\Ratterdam\\\\{rat}\\\\{rat}_RatterdamOpen_{day}\\\\'\n",
    "clust = \"TT1_0001\\\\cl-maze1.1\"\n",
    "p, s = loadRepeatingUnit(df, clust)\n",
    "unit = Unit(s,p)"
   ]
  },
  {
   "cell_type": "code",
   "execution_count": 10,
   "metadata": {
    "collapsed": true
   },
   "outputs": [],
   "source": [
    "from scipy.signal import butter, lfilter\n",
    "def filter_data(data, low,high, sf=1, order=2):\n",
    "    # Determine Nyquist frequency\n",
    "    nyq = sf/2\n",
    "    # Set bands\n",
    "    low = low/nyq\n",
    "    high = high/nyq\n",
    "    # Calculate coefficients\n",
    "    b, a = butter(order, [low, high], btype='band')\n",
    "    # Filter signal\n",
    "    filtered_data = lfilter(b, a, data)\n",
    "\n",
    "    return filtered_data"
   ]
  },
  {
   "cell_type": "code",
   "execution_count": 149,
   "metadata": {
    "collapsed": true
   },
   "outputs": [],
   "source": [
    "def splineFit(data,ds=0.33,s=50):\n",
    "    \"\"\"\n",
    "    !! This is for visit as indp var NOT time\n",
    "    Generate a downsampled cubic spline interpolation of input data.\n",
    "    Data should be (n,1) array of FR of visit\n",
    "    Spline fit is downsampled by proportion ds\n",
    "    and smoothed by factor s (s is a complicated tradeoff between\n",
    "    fit and smoothness, higher means more smooth. see scipy splrep doc\n",
    "    Returns downsampled interpolated array\n",
    "            and array of x values at which fx was taken, so you can go back to original data coords\n",
    "    \"\"\"\n",
    "    tck = splrep(range(data.shape[0]),data, k=3, task=0, s=s)\n",
    "    x = np.linspace(0,data.shape[0]-1,np.floor((data.shape[0]-1)*ds))\n",
    "    y = splev(x,tck)\n",
    "    return y, x"
   ]
  },
  {
   "cell_type": "code",
   "execution_count": 77,
   "metadata": {
    "collapsed": true
   },
   "outputs": [],
   "source": [
    "def findInflections(field):\n",
    "    \"\"\"\n",
    "    Find all inflection pts of the input 1d (n,1) array\n",
    "    array ([x,y]...)\n",
    "    I.e. where there is a change in 2nd deriv\n",
    "    \"\"\"\n",
    "    signdelta = np.sign(np.diff(field, axis=0))\n",
    "    idx = np.where(np.diff(signdelta,axis=0)!=0)[0] # by convention sign returns +/-1 so if you think about it two diff values will be +/2 and two same values in a row will be zero\n",
    "    idx = idx + 1 # the above catches the point right before the inflection\n",
    "    idx = np.hstack((0,idx, field.shape[0]-1))\n",
    "    return idx\n",
    "\n",
    "def length_filter(idx,data,thresh=2):\n",
    "    \"\"\"Filter the visits that have been flagged as rate change\n",
    "    epoch boundaries by whether the epoch is long enough. Ie. if\n",
    "    there are at least thresh visits *between* the successive epoch\n",
    "    bounds\n",
    "    \n",
    "    NB these are psuedovisits bc the data has been downsampled\n",
    "    from the cubic spline interpolation. real number is thresh*(realdatasize/downsamplesize)\n",
    "    \"\"\"\n",
    "    \n",
    "    #unpacking below: you diff your input idx list and look for diffs that are big enough\n",
    "    # bc diffing the last element is impossible only get original idx vals up to not incl the end\n",
    "    passidx = idx[:-1][np.diff(idx,axis=0)>=thresh+1]\n",
    "    passidx = np.hstack((passidx, data.shape[0]-1)) #add this back on\n",
    "    passidx = passidx[:,np.newaxis]\n",
    "    return passidx\n",
    "\n",
    "def magnitude_filter(idx,data, thresh=0.20):\n",
    "    \"\"\"\n",
    "    Filter potential epochs according to whether or not\n",
    "    the beginning to end difference (idx[n],idx[n+1]) exceeds\n",
    "    thresh % of the range of all the data. Data is 1d (n,1) array\n",
    "    \"\"\"\n",
    "    passidx = np.empty((0,1),dtype=np.int)\n",
    "    for i in range(0,idx.shape[0]-1):\n",
    "        start, stop = data[idx[i]], data[idx[i+1]]\n",
    "        pctRange = abs(start-stop)/(data.max()-data.min())\n",
    "        if pctRange >= thresh:\n",
    "            passidx = np.vstack((passidx, i))\n",
    "    passidx = np.vstack((idx[passidx], data.shape[0]-1)) #add this back on \n",
    "    return passidx"
   ]
  },
  {
   "cell_type": "code",
   "execution_count": 323,
   "metadata": {},
   "outputs": [
    {
     "name": "stderr",
     "output_type": "stream",
     "text": [
      "C:\\Users\\whockei1\\AppData\\Local\\Continuum\\anaconda3\\lib\\site-packages\\ipykernel_launcher.py:13: DeprecationWarning: object of type <class 'numpy.float64'> cannot be safely interpreted as an integer.\n",
      "  del sys.path[0]\n"
     ]
    },
    {
     "data": {
      "text/plain": [
       "<matplotlib.collections.LineCollection at 0x2848d3ea160>"
      ]
     },
     "execution_count": 323,
     "metadata": {},
     "output_type": "execute_result"
    }
   ],
   "source": [
    "# Routine to identify low-frequency rate change dynamics\n",
    "\n",
    "# Preprocess data by removing low\n",
    "field = unit.fields[2]\n",
    "#sh = np.random.choice(field[:,1], field.shape[0], replace=False)\n",
    "#field = np.column_stack((list(range(sh.shape[0])), sh))\n",
    "hpThresh = 0.05 # this corresponds to a period of twenty visits\n",
    "highpass = filter_data(field[:,1], hpThresh, 0.49) # with Fs 1, highest freq is 0.5 but cant use that endpoint apparantly in alg\n",
    "fieldlowpass = field[:,1] - highpass\n",
    "y,x = splineFit(fieldlowpass,ds=0.33, s=2) # characteristic s mag if you lowpass filter should be 1e0, if you dont 1e1. e.g., 5 vs 50. why? \n",
    "\n",
    "# Identify and filter rate regime transitions\n",
    "# Do magnitude filter first. the raw 2nd deriv deflections give you too many and there are many ways to \n",
    "# start to remove them. The magnitude filter removes a lot of these junk epochs and makes it easier going forward.\n",
    "idx = findInflections(y)\n",
    "m = magnitude_filter(idx, y, thresh=0.2)\n",
    "l = length_filter(m, y, thresh=2)\n",
    "\n",
    "#plot\n",
    "plt.figure()\n",
    "plt.plot(field[:,1], color='blue', marker='^')\n",
    "plt.vlines(x[l],0,field[:,1].max(), 'k')"
   ]
  },
  {
   "cell_type": "code",
   "execution_count": 298,
   "metadata": {
    "collapsed": true
   },
   "outputs": [],
   "source": [
    "def rateEpochDetection_lowFrequency(field, plot=True):\n",
    "    \"\"\"\n",
    "    Implements algorithm to take a place field and find slowly changing epochs of firing rate.\n",
    "    \n",
    "    Input: (n,1) array of FR\n",
    "    Returns: x-values of each epoch boundary\n",
    "    \n",
    "    Algorithm preprocesses by subtracting high frequency components and interpolating w cublic spline\n",
    "    Then finds all 2nd deriv changes and filters an epoch by its length and magntitude rate change.\n",
    "    \n",
    "    \"\"\"\n",
    "    hpThresh = 0.05 # this corresponds to a period of twenty visits\n",
    "    highpass = filter_data(field, hpThresh, 0.49) # with Fs 1, highest freq is 0.5 but cant use that endpoint apparantly in alg\n",
    "    fieldlowpass = field - highpass\n",
    "    y,x = splineFit(fieldlowpass,ds=0.33, s=2) # characteristic s mag if you lowpass filter should be 1e0, if you dont 1e1. e.g., 5 vs 50. why? \n",
    "\n",
    "    # Identify and filter rate regime transitions\n",
    "    # Do magnitude filter first. the raw 2nd deriv deflections give you too many and there are many ways to \n",
    "    # start to remove them. The magnitude filter removes a lot of these junk epochs and makes it easier going forward.\n",
    "    idx = findInflections(y)\n",
    "    m = magnitude_filter(idx, y, thresh=0.2)\n",
    "    l = length_filter(m, y, thresh=2)\n",
    "\n",
    "    #plot\n",
    "    if plot:\n",
    "        plt.figure()\n",
    "        plt.plot(field, color='blue', marker='^')\n",
    "        plt.vlines(x[l],0,field.max(), 'k')\n",
    "        plt.title(\"Field Dynamics Over Time\")\n",
    "        plt.legend([\"Firing rate\",\"Epoch Bounds\"])\n",
    "        plt.ylabel(\"Firing Rate\")\n",
    "        plt.xlabel(\"Visits\")\n",
    "    \n",
    "    return l"
   ]
  },
  {
   "cell_type": "code",
   "execution_count": 217,
   "metadata": {
    "collapsed": true
   },
   "outputs": [],
   "source": [
    "# Compute two test statistics to quantify rate regimes: Want to capture the magnitude of the changes and thier persistance\n",
    "# First pass: 1. compute epoch to epoch % change and take average. 2. compute 'reliability' of epoch as assessed by std(diff(rates)) \n",
    "data = field[:,1]\n",
    "# Epoch-to-Epoch magnitude change\n",
    "avgs = []\n",
    "for i in range(l.shape[0]-1):\n",
    "    epoch = data[l[i][0]:l[i+1][0]]\n",
    "    avgs.append(np.mean(epoch))\n",
    "avgPctDelta = np.mean([np.abs(a2-a1)/a1 for a1, a2 in zip(avgs, avgs[1:])])\n",
    "\n",
    "# Standard deviation of the element wise differences in each epoch. Average across epochs. Measure of 'reliability' or 'jumpiness' of signal\n",
    "scores = []\n",
    "for i in range(l.shape[0]-1):\n",
    "    epoch = data[l[i][0]:l[i+1][0]]\n",
    "    scores.append(np.std(np.diff(epoch)))\n",
    "score = np.mean(scores)"
   ]
  },
  {
   "cell_type": "code",
   "execution_count": 320,
   "metadata": {
    "collapsed": true
   },
   "outputs": [],
   "source": [
    "def computeFieldDynamicsScore(data,l):\n",
    "    \"\"\"\n",
    "    Input: - (n,1) array of firing rates across visits\n",
    "           - array of epoch boundaries (n,1)\n",
    "    Output: - A score, B score\n",
    "    \n",
    "    A score - average epoch-to-epoch % FR change (abs.)\n",
    "    B score - average epochwise of std of elementwise diffs within epoch\n",
    "    \"\"\"\n",
    "    # Epoch-to-Epoch magnitude change\n",
    "    avgs = []\n",
    "    for i in range(l.shape[0]-1):\n",
    "        epoch = data[l[i][0]:l[i+1][0]]\n",
    "        avgs.append(np.mean(epoch))\n",
    "    avgPctDelta = np.mean([np.abs(a2-a1)/a1 for a1, a2 in zip(avgs, avgs[1:])])\n",
    "\n",
    "    # Standard deviation of the element wise differences in each epoch. Average across epochs. Measure of 'reliability' or 'jumpiness' of signal\n",
    "    scores = []\n",
    "    for i in range(l.shape[0]-1):\n",
    "        epoch = data[l[i][0]:l[i+1][0]]\n",
    "        scores.append(np.std(np.diff(epoch)))\n",
    "    score = np.mean(scores)\n",
    "    \n",
    "    return avgPctDelta, score"
   ]
  },
  {
   "cell_type": "code",
   "execution_count": 321,
   "metadata": {},
   "outputs": [
    {
     "name": "stderr",
     "output_type": "stream",
     "text": [
      "C:\\Users\\whockei1\\AppData\\Local\\Continuum\\anaconda3\\lib\\site-packages\\ipykernel_launcher.py:13: DeprecationWarning: object of type <class 'numpy.float64'> cannot be safely interpreted as an integer.\n",
      "  del sys.path[0]\n",
      "C:\\Users\\whockei1\\AppData\\Local\\Continuum\\anaconda3\\lib\\site-packages\\numpy\\core\\fromnumeric.py:2909: RuntimeWarning: Mean of empty slice.\n",
      "  out=out, **kwargs)\n",
      "C:\\Users\\whockei1\\AppData\\Local\\Continuum\\anaconda3\\lib\\site-packages\\numpy\\core\\_methods.py:80: RuntimeWarning: invalid value encountered in double_scalars\n",
      "  ret = ret.dtype.type(ret / rcount)\n"
     ]
    },
    {
     "data": {
      "text/plain": [
       "Text(0.5,0,'Observation Value')"
      ]
     },
     "execution_count": 321,
     "metadata": {},
     "output_type": "execute_result"
    }
   ],
   "source": [
    "# Routine - find real rate epoch bounds. Calc test stats. Compare to null dist\n",
    "field = unit.fields[0]\n",
    "l = rateEpochDetection_lowFrequency(field[:,1], plot=True)\n",
    "rmag,rscore = computeFieldDynamicsScore(field[:,1],l)\n",
    "\n",
    "mags, rels = [], []\n",
    "for i in range(1000):\n",
    "    sh = np.random.choice(field[:,1], field.shape[0], replace=False)\n",
    "    l = rateEpochDetection_lowFrequency(sh, plot=False)\n",
    "    mag, score = computeFieldDynamicsScore(sh,l)\n",
    "    mags.append(mag)\n",
    "    rels.append(score)\n",
    "mags = np.asarray(mags)\n",
    "rels = np.asarray(rels)\n",
    "mags = mags[~np.isnan(mags)]\n",
    "rels = rels[~np.isnan(rels)]\n",
    "\n",
    "fig, ax = plt.subplots(2,1,figsize=(6,8))\n",
    "fig.axes[0].hist(mags,bins=100)\n",
    "fig.axes[0].vlines(rmag,0,fig.axes[0].get_ylim()[1],color='red')\n",
    "fig.axes[0].vlines(np.percentile(mags,95), 0, fig.axes[0].get_ylim()[1],color='k')\n",
    "fig.axes[0].legend([\"Real Value\", \"95% Nulls\", \"Null Dist\"])\n",
    "fig.axes[0].set_title(\"Average Pct Change Between Successive Epochs\")\n",
    "fig.axes[0].set_ylabel(\"Frequency Count\")\n",
    "\n",
    "fig.axes[1].hist(rels,bins=20)\n",
    "fig.axes[1].vlines(rscore, 0, fig.axes[1].get_ylim()[1], color='r')\n",
    "fig.axes[1].vlines(np.percentile(rels,5), 0, fig.axes[1].get_ylim()[1],color='k')\n",
    "fig.axes[1].legend([\"Real Value\", \"95% Nulls\", \"Null Dist\"])\n",
    "fig.axes[1].set_title(\"Average 'Jumpiness' of Epochs\")\n",
    "fig.axes[1].set_xlabel(\"Observation Value\")"
   ]
  },
  {
   "cell_type": "markdown",
   "metadata": {
    "collapsed": true
   },
   "source": [
    "## Inter-Field Relationships: How field dynamics interact over time. \n",
    "## Specific focus on anticorrelation/antiphase behavior"
   ]
  },
  {
   "cell_type": "code",
   "execution_count": 271,
   "metadata": {},
   "outputs": [
    {
     "name": "stdout",
     "output_type": "stream",
     "text": [
      "0.22329706171812355\n",
      "0.027714925684720036\n",
      "0.13990169102345842\n",
      "0.03686274291110565\n",
      "0.07733464458647088\n",
      "0.18604204447224296\n",
      "0.035234694624399224\n",
      "0.013695324087133403\n",
      "0.005635918788467607\n"
     ]
    },
    {
     "name": "stderr",
     "output_type": "stream",
     "text": [
      "C:\\Users\\whockei1\\Google Drive\\KnierimLab\\Ratterdam\\Code\\RateMapClass_William_20190308.py:210: RuntimeWarning: invalid value encountered in greater_equal\n",
      "  aboveThreshold = np.where(rateMap >= max(fieldThreshold,0), True, False)\n",
      "C:\\Users\\whockei1\\AppData\\Roaming\\Python\\Python36\\site-packages\\skimage\\morphology\\_deprecated.py:5: skimage_deprecation: Function ``watershed`` is deprecated and will be removed in version 0.19. Use ``skimage.segmentation.watershed`` instead.\n",
      "  def watershed(image, markers=None, connectivity=1, offset=None, mask=None,\n",
      "C:\\Users\\whockei1\\AppData\\Roaming\\Python\\Python36\\site-packages\\skimage\\morphology\\_deprecated.py:5: skimage_deprecation: Function ``watershed`` is deprecated and will be removed in version 0.19. Use ``skimage.segmentation.watershed`` instead.\n",
      "  def watershed(image, markers=None, connectivity=1, offset=None, mask=None,\n",
      "C:\\Users\\whockei1\\AppData\\Roaming\\Python\\Python36\\site-packages\\skimage\\morphology\\_deprecated.py:5: skimage_deprecation: Function ``watershed`` is deprecated and will be removed in version 0.19. Use ``skimage.segmentation.watershed`` instead.\n",
      "  def watershed(image, markers=None, connectivity=1, offset=None, mask=None,\n",
      "C:\\Users\\whockei1\\AppData\\Roaming\\Python\\Python36\\site-packages\\skimage\\morphology\\_deprecated.py:5: skimage_deprecation: Function ``watershed`` is deprecated and will be removed in version 0.19. Use ``skimage.segmentation.watershed`` instead.\n",
      "  def watershed(image, markers=None, connectivity=1, offset=None, mask=None,\n",
      "C:\\Users\\whockei1\\AppData\\Roaming\\Python\\Python36\\site-packages\\skimage\\morphology\\_deprecated.py:5: skimage_deprecation: Function ``watershed`` is deprecated and will be removed in version 0.19. Use ``skimage.segmentation.watershed`` instead.\n",
      "  def watershed(image, markers=None, connectivity=1, offset=None, mask=None,\n",
      "C:\\Users\\whockei1\\AppData\\Roaming\\Python\\Python36\\site-packages\\skimage\\morphology\\_deprecated.py:5: skimage_deprecation: Function ``watershed`` is deprecated and will be removed in version 0.19. Use ``skimage.segmentation.watershed`` instead.\n",
      "  def watershed(image, markers=None, connectivity=1, offset=None, mask=None,\n",
      "C:\\Users\\whockei1\\AppData\\Roaming\\Python\\Python36\\site-packages\\skimage\\morphology\\_deprecated.py:5: skimage_deprecation: Function ``watershed`` is deprecated and will be removed in version 0.19. Use ``skimage.segmentation.watershed`` instead.\n",
      "  def watershed(image, markers=None, connectivity=1, offset=None, mask=None,\n",
      "C:\\Users\\whockei1\\AppData\\Roaming\\Python\\Python36\\site-packages\\skimage\\morphology\\_deprecated.py:5: skimage_deprecation: Function ``watershed`` is deprecated and will be removed in version 0.19. Use ``skimage.segmentation.watershed`` instead.\n",
      "  def watershed(image, markers=None, connectivity=1, offset=None, mask=None,\n",
      "C:\\Users\\whockei1\\AppData\\Roaming\\Python\\Python36\\site-packages\\skimage\\morphology\\_deprecated.py:5: skimage_deprecation: Function ``watershed`` is deprecated and will be removed in version 0.19. Use ``skimage.segmentation.watershed`` instead.\n",
      "  def watershed(image, markers=None, connectivity=1, offset=None, mask=None,\n",
      "C:\\Users\\whockei1\\AppData\\Roaming\\Python\\Python36\\site-packages\\skimage\\morphology\\_deprecated.py:5: skimage_deprecation: Function ``watershed`` is deprecated and will be removed in version 0.19. Use ``skimage.segmentation.watershed`` instead.\n",
      "  def watershed(image, markers=None, connectivity=1, offset=None, mask=None,\n",
      "C:\\Users\\whockei1\\AppData\\Roaming\\Python\\Python36\\site-packages\\skimage\\morphology\\_deprecated.py:5: skimage_deprecation: Function ``watershed`` is deprecated and will be removed in version 0.19. Use ``skimage.segmentation.watershed`` instead.\n",
      "  def watershed(image, markers=None, connectivity=1, offset=None, mask=None,\n",
      "C:\\Users\\whockei1\\AppData\\Roaming\\Python\\Python36\\site-packages\\skimage\\morphology\\_deprecated.py:5: skimage_deprecation: Function ``watershed`` is deprecated and will be removed in version 0.19. Use ``skimage.segmentation.watershed`` instead.\n",
      "  def watershed(image, markers=None, connectivity=1, offset=None, mask=None,\n",
      "C:\\Users\\whockei1\\AppData\\Roaming\\Python\\Python36\\site-packages\\skimage\\morphology\\_deprecated.py:5: skimage_deprecation: Function ``watershed`` is deprecated and will be removed in version 0.19. Use ``skimage.segmentation.watershed`` instead.\n",
      "  def watershed(image, markers=None, connectivity=1, offset=None, mask=None,\n",
      "C:\\Users\\whockei1\\AppData\\Roaming\\Python\\Python36\\site-packages\\skimage\\morphology\\_deprecated.py:5: skimage_deprecation: Function ``watershed`` is deprecated and will be removed in version 0.19. Use ``skimage.segmentation.watershed`` instead.\n",
      "  def watershed(image, markers=None, connectivity=1, offset=None, mask=None,\n",
      "C:\\Users\\whockei1\\AppData\\Local\\Continuum\\anaconda3\\lib\\site-packages\\ipykernel_launcher.py:47: RuntimeWarning: invalid value encountered in double_scalars\n"
     ]
    }
   ],
   "source": [
    "# Load Cell\n",
    "rat = \"R781\"\n",
    "day = \"D4\"\n",
    "savepath = f'E:\\\\Ratterdam\\\\{rat}\\\\ratterdam_plots\\\\{day}\\\\'\n",
    "df = f'E:\\Ratterdam\\\\{rat}\\\\{rat}_RatterdamOpen_{day}\\\\'\n",
    "clust = \"TT3\\\\cl-maze1.2\"\n",
    "p, s = loadRepeatingUnit(df, clust)\n",
    "unit = Unit(s,p)"
   ]
  },
  {
   "cell_type": "markdown",
   "metadata": {},
   "source": [
    "### Spline fitting (and checks/viewing of overfitting)"
   ]
  },
  {
   "cell_type": "code",
   "execution_count": 282,
   "metadata": {
    "collapsed": true
   },
   "outputs": [],
   "source": [
    "# For each field, get the spline params so two fields can be interpolated to same # pts within a window, allowing for a pearson R calc\n",
    "fieldFx = [splrep(d[:,0], d[:,1], k=3, task=0, s=5) for d in unit.fields]"
   ]
  },
  {
   "cell_type": "code",
   "execution_count": 283,
   "metadata": {
    "collapsed": true
   },
   "outputs": [],
   "source": [
    "fmax = int(np.ceil(max([max(field[:,0]) for field in unit.fields])))\n",
    "\n",
    "wnSize=5\n",
    "wnStep = 2\n",
    "wins = []\n",
    "for i in range(fmax):\n",
    "    a,b = 0+(i*wnStep), wnSize+(i*wnStep)\n",
    "    if b < np.ceil(fmax):\n",
    "        wins.append((a,b))"
   ]
  },
  {
   "cell_type": "code",
   "execution_count": 284,
   "metadata": {
    "collapsed": true
   },
   "outputs": [],
   "source": [
    "## sample spline fx in wins as would be done in analysis and view\n",
    "nf = len(unit.fields)\n",
    "xs, ys = [], []\n",
    "for j in range(nf):\n",
    "    xc, yc = [], []\n",
    "    for w in wins:\n",
    "        start, end = w\n",
    "        x = np.linspace(start, end, 100)\n",
    "        interp= splev(x, fieldFx[j])\n",
    "        xc.append(x)\n",
    "        yc.append(interp)\n",
    "    xs.append(xc)\n",
    "    ys.append(yc)\n",
    "for i in range(nf):\n",
    "    xs[i] = [item for sublist in xs[i] for item in sublist]\n",
    "    ys[i] = [item for sublist in ys[i] for item in sublist]\n",
    "    \n",
    "plt.figure()\n",
    "for i,c in zip(range(nf),['b','r','g','k']):\n",
    "    plt.plot(xs[i], ys[i],'.',color=c,markersize=4)\n",
    "    plt.plot(unit.fields[i][:,0], unit.fields[i][:,1], color=c)"
   ]
  },
  {
   "cell_type": "code",
   "execution_count": 176,
   "metadata": {
    "collapsed": true
   },
   "outputs": [],
   "source": [
    "start, end = wins[0][0], wins[-1][0]\n",
    "xs,ys = [],[]\n",
    "nf = len(unit.fields)\n",
    "for j in range(nf):\n",
    "    x = np.linspace(start,end,100*len(wins))\n",
    "    y = splev(x, fieldFx[j])\n",
    "    xs.append(x)\n",
    "    ys.append(y)\n",
    "    \n",
    "plt.figure()\n",
    "for i,c in zip(range(nf),['b','r','g','k']):\n",
    "    plt.plot(xs[i], ys[i],'.',color=c,markersize=4)\n",
    "    plt.plot(unit.fields[i][:,0], unit.fields[i][:,1], color=c)"
   ]
  },
  {
   "cell_type": "markdown",
   "metadata": {},
   "source": [
    "### Running Pairwise Rate Dynamics Analysis"
   ]
  },
  {
   "cell_type": "code",
   "execution_count": 289,
   "metadata": {
    "collapsed": true
   },
   "outputs": [],
   "source": [
    "fmax = int(np.ceil(max([max(field[:,0]) for field in unit.fields])))\n",
    "fmaX=52\n",
    "wnSize=5\n",
    "wnStep = 2\n",
    "wins = []\n",
    "for i in range(0,fmax):\n",
    "    a,b = 0+(i*wnStep), wnSize+(i*wnStep)\n",
    "    if b < np.ceil(fmax):\n",
    "        wins.append((a,b))"
   ]
  },
  {
   "cell_type": "code",
   "execution_count": 290,
   "metadata": {},
   "outputs": [],
   "source": [
    "nf = len(unit.fields)\n",
    "pairs = [f\"{i[0]}{i[1]}\" for i in list(itertools.product(range(nf),range(nf)))]\n",
    "corrmats = []\n",
    "diffmats = []\n",
    "for w in wins:\n",
    "    start, end = w\n",
    "    corrmat = np.zeros((nf,nf))\n",
    "    diffmat = np.zeros((nf,nf))\n",
    "    for i in range(nf):\n",
    "        for j in range(nf):\n",
    "            x = np.linspace(start, end, 100)\n",
    "            ainterp, binterp = splev(x,fieldFx[i]), splev(x, fieldFx[j])\n",
    "            r = scipy.stats.pearsonr(ainterp, binterp)[0]\n",
    "            diff = np.abs(np.mean(ainterp)-np.mean(binterp))\n",
    "            corrmat[i,j] = r\n",
    "            diffmat[i,j] = diff\n",
    "    corrmats.append(corrmat)\n",
    "    diffmats.append(diffmat)"
   ]
  },
  {
   "cell_type": "code",
   "execution_count": 293,
   "metadata": {},
   "outputs": [
    {
     "name": "stderr",
     "output_type": "stream",
     "text": [
      "C:\\Users\\whockei1\\AppData\\Local\\Continuum\\anaconda3\\lib\\site-packages\\matplotlib\\colorbar.py:215: UserWarning: Use the colorbar set_ticks() method instead.\n",
      "  warnings.warn(\"Use the colorbar set_ticks() method instead.\")\n"
     ]
    },
    {
     "data": {
      "text/plain": [
       "Text(0.5,0.98,'Time Varying Correlation Matrices')"
      ]
     },
     "execution_count": 293,
     "metadata": {},
     "output_type": "execute_result"
    }
   ],
   "source": [
    "# Difference matrices\n",
    "ncol=10\n",
    "fig, ax = plt.subplots(int(np.ceil(len(corrmats)/ncol)),ncol,figsize=(8,8))\n",
    "_max, _min = max([arr.max() for arr in diffmats]), min([arr.min() for arr in diffmats])\n",
    "for i in range(len(diffmats)):\n",
    "    im = fig.axes[i].imshow(diffmats[i], aspect='auto',interpolation='None', cmap=cmap, vmin=_min, vmax=_max)\n",
    "    fig.axes[i].set_title(f\"Mins {wins[i][0]}-{wins[i][1]}\")\n",
    "fig.subplots_adjust(right=0.8)\n",
    "cbar_ax = fig.add_axes([0.85, 0.15, 0.05, 0.7])\n",
    "fig.colorbar(im, cax=cbar_ax)\n",
    "for i in range(len(fig.axes)):\n",
    "    fig.axes[i].set_xticks([])\n",
    "    fig.axes[i].set_yticks([])\n",
    "plt.suptitle(\"Time Varying Unsigned Mean Difference Matrices\", fontsize=20)\n",
    "  \n",
    "# Correlation Matrices\n",
    "ncol=10\n",
    "fig, ax = plt.subplots(int(np.ceil(len(corrmats)/ncol)),ncol,figsize=(8,8))\n",
    "for i in range(len(corrmats)):\n",
    "    im = fig.axes[i].imshow(corrmats[i], aspect='auto',interpolation='None', cmap='seismic', vmin=-1, vmax=1)\n",
    "    fig.axes[i].set_title(f\"Mins {wins[i][0]}-{wins[i][1]}\")\n",
    "fig.subplots_adjust(right=0.8)\n",
    "cbar_ax = fig.add_axes([0.85, 0.15, 0.05, 0.7])\n",
    "fig.colorbar(im, cax=cbar_ax)\n",
    "for i in range(len(fig.axes)):\n",
    "    fig.axes[i].set_xticks([])\n",
    "    fig.axes[i].set_yticks([])\n",
    "plt.suptitle(\"Time Varying Correlation Matrices\", fontsize=20)\n",
    "    \n",
    "#plotRoutine_RepPF_TempDyn(0)"
   ]
  },
  {
   "cell_type": "code",
   "execution_count": 292,
   "metadata": {},
   "outputs": [
    {
     "data": {
      "text/plain": [
       "Text(0,0.5,'Difference matrices')"
      ]
     },
     "execution_count": 292,
     "metadata": {},
     "output_type": "execute_result"
    }
   ],
   "source": [
    "corrOfcorrs = np.empty((len(diffmats),len(diffmats)))\n",
    "\n",
    "for i in range(len(diffmats)):\n",
    "    for j in range(len(diffmats)):\n",
    "        corrOfcorrs[i,j] = scipy.stats.pearsonr(diffmats[i].flatten(),diffmats[j].flatten())[0]\n",
    "        \n",
    "plt.figure()\n",
    "plt.imshow(corrOfcorrs, origin='lower', interpolation='None')\n",
    "plt.title(\"Autocorrelation Matrix of Difference Matrices\",fontsize=22)\n",
    "plt.xlabel(\"Difference matrices\",fontsize=16)\n",
    "plt.ylabel(\"Difference matrices\", fontsize=16)"
   ]
  },
  {
   "cell_type": "code",
   "execution_count": 410,
   "metadata": {},
   "outputs": [
    {
     "name": "stderr",
     "output_type": "stream",
     "text": [
      "C:\\Users\\whockei1\\AppData\\Local\\Continuum\\anaconda3\\lib\\site-packages\\numpy\\lib\\function_base.py:4274: RuntimeWarning: Invalid value encountered in percentile\n",
      "  interpolation=interpolation)\n"
     ]
    },
    {
     "data": {
      "text/plain": [
       "Text(0.5,0.98,'Pairwise Subfield Rate Diffs, Unsigned + Windowed')"
      ]
     },
     "execution_count": 410,
     "metadata": {},
     "output_type": "execute_result"
    }
   ],
   "source": [
    "with open(df+\"sessionEpochInfo.txt\",\"r\") as f:\n",
    "        lines = f.readlines()\n",
    "startSession_us, endSession_us = int(lines[0].split(',')[0]), int(lines[0].split(',')[1])\n",
    "\n",
    "startSession = 0 # because were dealing with relative mins in session, its by def 0\n",
    "endSession = ((endSession_us-startSession_us)/1e6)/60\n",
    "\n",
    "numShuffles=1000\n",
    "fig, ax = plt.subplots(2,1, figsize=(10,10))\n",
    "fd,maxd = compute_max_fieldRateDistances(unit, shuffle=False)\n",
    "shuffmaxes = []\n",
    "for i in range(numShuffles):\n",
    "    _,shuffmax = compute_max_fieldRateDistances(unit, shuffle=True)\n",
    "    shuffmaxes.append(shuffmax)\n",
    "shuffmaxes = np.asarray(shuffmaxes)\n",
    "fig.axes[0].plot(maxd,'r')\n",
    "pct95 = np.percentile(shuffmaxes,95,axis=0)\n",
    "fig.axes[0].plot(pct95,'k--')\n",
    "fig.axes[0].set_xlabel(\"Time (mins, windowed)\")\n",
    "fig.axes[0].set_ylabel(\"Composite Maximum FR Diff, Windowed\",fontsize=12)\n",
    "\n",
    "fig.axes[1].imshow(fd, aspect='auto', interpolation='None',cmap=cmap)\n",
    "fig.axes[1].set_xlabel(\"Time (min, windowed)\")\n",
    "fig.axes[1].set_ylabel(\"Pairwise Field Rate Comparisons\",fontsize=12)\n",
    "\n",
    "plt.suptitle(\"Pairwise Subfield Rate Diffs, Unsigned + Windowed\",fontsize=16)"
   ]
  },
  {
   "cell_type": "code",
   "execution_count": 488,
   "metadata": {},
   "outputs": [
    {
     "name": "stderr",
     "output_type": "stream",
     "text": [
      "C:\\Users\\whockei1\\Google Drive\\KnierimLab\\Ratterdam\\Code\\utility_fx.py:498: RuntimeWarning: divide by zero encountered in reciprocal\n",
      "  n = (hs*np.reciprocal(ho))*30\n",
      "C:\\Users\\whockei1\\Google Drive\\KnierimLab\\Ratterdam\\Code\\utility_fx.py:498: RuntimeWarning: invalid value encountered in multiply\n",
      "  n = (hs*np.reciprocal(ho))*30\n",
      "C:\\Users\\whockei1\\Google Drive\\KnierimLab\\Ratterdam\\Code\\utility_fx.py:325: RuntimeWarning: invalid value encountered in true_divide\n",
      "  Z=VV/WW\n"
     ]
    }
   ],
   "source": [
    "import matplotlib.animation as animation\n",
    "\n",
    "\n",
    "wnSize=60*1e6*5\n",
    "wnStep = 10*1e6\n",
    "\n",
    "ims = []\n",
    "start = startSession_us\n",
    "finished = False\n",
    "\n",
    "while finished is False:\n",
    "    end = start + wnSize\n",
    "    spikes = unit.spikes[np.logical_and(unit.spikes[:,0]>start, unit.spikes[:,0]<=end)]\n",
    "    pos = unit.position[np.logical_and(unit.position[:,0]>start, unit.position[:,0]<=end)]\n",
    "    rm = util.makeRM(spikes, pos)\n",
    "    rm = util.weird_smooth(rm,0.25)\n",
    "    plt.imshow(rm, aspect='auto', interpolation='None',origin='lower',cmap=cmap,vmin=0,vmax=20)\n",
    "    plt.pause(0.005)\n",
    "    plt.clf()\n",
    "    start = start + wnStep\n",
    "    if end > endSession_us:\n",
    "        finished = True "
   ]
  },
  {
   "cell_type": "markdown",
   "metadata": {
    "collapsed": true
   },
   "source": [
    "### Test Significance of Pairwise Rate Differences: Shuffle"
   ]
  },
  {
   "cell_type": "code",
   "execution_count": 24,
   "metadata": {
    "collapsed": true
   },
   "outputs": [],
   "source": [
    "start, end = wins[0][0], wins[-1][0]\n",
    "xs,ys = [],[]\n",
    "nf = len(unit.fields)\n",
    "for j in range(nf):\n",
    "    x = np.linspace(start,end,100*len(wins))\n",
    "    y = splev(x, fieldFx[j])\n",
    "    xs.append(x)\n",
    "    ys.append(y)\n",
    "\n",
    "nf = len(unit.fields)\n",
    "pairs = [f\"{i[0]}{i[1]}\" for i in list(itertools.combinations(range(nf),2))]\n",
    "nS = 1000\n",
    "adjP = (0.05/2)/nf # two sided Bf corrected pvalue\n",
    "realdiffs = {i:[] for i in pairs}\n",
    "alldiffs = {i:[] for i in pairs}\n",
    "for pair in pairs:\n",
    "    realdiffs[pair] = np.abs(ys[int(pair[0])]-ys[int(pair[1])])\n",
    "    for n in range(nS):\n",
    "        a = np.random.permutation(ys[int(pair[0])])\n",
    "        b = np.random.permutation(ys[int(pair[1])])\n",
    "        diff = np.abs(a-b)\n",
    "        alldiffs[pair].append(diff)"
   ]
  },
  {
   "cell_type": "code",
   "execution_count": 25,
   "metadata": {
    "collapsed": true
   },
   "outputs": [],
   "source": [
    "fig, ax = plt.subplots(2,3)\n",
    "for i in range(len(pairs)):\n",
    "    plow = np.percentile(alldiffs[pairs[i]],0.7,axis=0)\n",
    "    phigh = np.percentile(alldiffs[pairs[i]],99.3,axis=0)\n",
    "    fig.axes[i].plot(realdiffs[pairs[i]],c='k')\n",
    "    fig.axes[i].plot(plow, 'r')\n",
    "    fig.axes[i].plot(phigh,'r')"
   ]
  },
  {
   "cell_type": "markdown",
   "metadata": {
    "collapsed": true
   },
   "source": [
    "### Testing Significance of banding seen in correlation of pairwise difference matrices"
   ]
  },
  {
   "cell_type": "code",
   "execution_count": 129,
   "metadata": {},
   "outputs": [
    {
     "data": {
      "text/plain": [
       "<matplotlib.image.AxesImage at 0x119263534a8>"
      ]
     },
     "execution_count": 129,
     "metadata": {},
     "output_type": "execute_result"
    }
   ],
   "source": [
    "corrofmats = np.empty((len(diffmats),len(diffmats)))\n",
    "\n",
    "for i in range(len(diffmats)):\n",
    "    for j in range(len(diffmats)):\n",
    "        corrofmats[i,j] = scipy.stats.pearsonr(diffmats[i].flatten(),diffmats[j].flatten())[0]\n",
    "        \n",
    "plt.figure()\n",
    "plt.imshow(corrofmats, origin='lower', interpolation='None')"
   ]
  },
  {
   "cell_type": "code",
   "execution_count": 112,
   "metadata": {
    "collapsed": true
   },
   "outputs": [],
   "source": [
    "# compute a test statistic\n",
    "corrstats = []\n",
    "for i in range(len(diffmats)):\n",
    "    corrstat = np.mean(corrofmats[i,i:]) # this runs along diag and takes one side of the diag matrix. think: when i is five you go to 5,5 and take 5: \n",
    "    corrstats.append(corrstat)\n",
    "realcorr = np.mean(corrstats)"
   ]
  },
  {
   "cell_type": "code",
   "execution_count": 126,
   "metadata": {
    "collapsed": true
   },
   "outputs": [],
   "source": [
    "# shuff\n",
    "n = 1000\n",
    "allshuffcorrstats = []\n",
    "\n",
    "for rep in range(n):\n",
    "    \n",
    "    shuffcorrofmats = np.zeros((len(diffmats),len(diffmats)))\n",
    "    order = np.random.choice(range(len(diffmats)),len(diffmats),replace=False)\n",
    "    for _i,i in enumerate(order):\n",
    "        for _j,j in enumerate(order):\n",
    "            shuffcorrofmats[_i,_j] = scipy.stats.pearsonr(diffmats[i].flatten(),diffmats[j].flatten())[0]\n",
    "\n",
    "    shuffcorrstats = []\n",
    "    for i in range(len(diffmats)):\n",
    "        corrstat = np.mean(shuffcorrofmats[i,i:]) # this runs along diag and takes one side of the diag matrix. think: when i is five you go to 5,5 and take 5: \n",
    "        shuffcorrstats.append(corrstat)\n",
    "        \n",
    "    allshuffcorrstats.append(np.mean(shuffcorrstats))\n",
    "\n"
   ]
  },
  {
   "cell_type": "code",
   "execution_count": 128,
   "metadata": {},
   "outputs": [
    {
     "data": {
      "text/plain": [
       "<matplotlib.image.AxesImage at 0x1192630d2b0>"
      ]
     },
     "execution_count": 128,
     "metadata": {},
     "output_type": "execute_result"
    }
   ],
   "source": [
    "plt.figure()\n",
    "plt.imshow(shuffcorrofmats, origin='lower', interpolation='None')"
   ]
  },
  {
   "cell_type": "code",
   "execution_count": null,
   "metadata": {
    "collapsed": true
   },
   "outputs": [],
   "source": []
  },
  {
   "cell_type": "code",
   "execution_count": null,
   "metadata": {
    "collapsed": true
   },
   "outputs": [],
   "source": []
  }
 ],
 "metadata": {
  "kernelspec": {
   "display_name": "Python 3",
   "language": "python",
   "name": "python3"
  },
  "language_info": {
   "codemirror_mode": {
    "name": "ipython",
    "version": 3
   },
   "file_extension": ".py",
   "mimetype": "text/x-python",
   "name": "python",
   "nbconvert_exporter": "python",
   "pygments_lexer": "ipython3",
   "version": "3.6.3"
  }
 },
 "nbformat": 4,
 "nbformat_minor": 2
}
