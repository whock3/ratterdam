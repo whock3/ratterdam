{
 "cells": [
  {
   "cell_type": "markdown",
   "metadata": {},
   "source": [
    "# Ratterdam Information Theoretic Analyses\n",
    "#### WH July 2019\n",
    "\n",
    "#### Goal is to prototype information theoretic analyses to address, primarily, if there is a texture response at the single unit level.\n",
    "#### The first analyses will focus on mutual information"
   ]
  },
  {
   "cell_type": "code",
   "execution_count": 2,
   "metadata": {
    "collapsed": true
   },
   "outputs": [],
   "source": [
    "#### Imports \n",
    "import numpy as np\n",
    "import utility_fx as util\n",
    "import os\n",
    "import matplotlib.gridspec as gridspec\n",
    "from matplotlib import pyplot as plt\n",
    "import scipy\n",
    "import bisect\n",
    "\n",
    "import ratterdam_CoreDataStructures as Core\n",
    "import ratterdam_ParseBehavior as Parse\n",
    "import ratterdam_Defaults as Def\n",
    "import ratterdam_visBasic as Vis\n",
    "import ratterdam_DataFiltering as Filt"
   ]
  },
  {
   "cell_type": "code",
   "execution_count": 3,
   "metadata": {
    "collapsed": true
   },
   "outputs": [],
   "source": [
    "%qtconsole --style native\n",
    "%matplotlib qt5"
   ]
  },
  {
   "cell_type": "markdown",
   "metadata": {},
   "source": [
    "### Mutual Information - Skaggs\n",
    "#### Using the Skaggs 1993 definition of mutual information. \n",
    "##### Considers average firing rate, not trial  by trial. Significance will be computed by shuffling trial labels and recomputing the null averages and then MI\n",
    "##### Formula: I = Sigma ( lambda(x) * log2(lambda(x)/lambda) * p(x), where lambda(x) is average firing rate under symbol x, lambda is overall firing rate, and p(x) is probability of that symbol"
   ]
  },
  {
   "cell_type": "code",
   "execution_count": 3,
   "metadata": {},
   "outputs": [
    {
     "name": "stdout",
     "output_type": "stream",
     "text": [
      "50\n"
     ]
    }
   ],
   "source": [
    "datafile = \"E:\\\\Ratterdam\\\\R808\\\\R808_Beltway_D5\\\\\"\n",
    "expCode = \"BRD5\"\n",
    "beltwayAlleys = [16,17,3,1,5,7,8,10,11]\n",
    "rat = \"R808\"\n",
    "alleyTracking, alleyVisits,  txtVisits, p_sess, ts_sess = Parse.getDaysBehavioralData(datafile, expCode)\n",
    "stimfiles = Parse.getStimFileName(datafile)\n",
    "stimData = Parse.loadBeltwayData(datafile,stimfiles,expCode)"
   ]
  },
  {
   "cell_type": "code",
   "execution_count": 784,
   "metadata": {},
   "outputs": [
    {
     "name": "stderr",
     "output_type": "stream",
     "text": [
      "C:\\Users\\whockei1\\Google Drive\\KnierimLab\\Ratterdam\\Code\\ratterdam_CoreDataStructures.py:170: RuntimeWarning: divide by zero encountered in reciprocal\n",
      "  n = (hs*np.reciprocal(ho))*30\n",
      "C:\\Users\\whockei1\\Google Drive\\KnierimLab\\Ratterdam\\Code\\ratterdam_CoreDataStructures.py:170: RuntimeWarning: invalid value encountered in multiply\n",
      "  n = (hs*np.reciprocal(ho))*30\n",
      "C:\\Users\\whockei1\\Google Drive\\KnierimLab\\Ratterdam\\Code\\ratterdam_CoreDataStructures.py:176: RuntimeWarning: divide by zero encountered in reciprocal\n",
      "  n = (ls* np.reciprocal(lo)) * 30\n",
      "C:\\Users\\whockei1\\Google Drive\\KnierimLab\\Ratterdam\\Code\\ratterdam_CoreDataStructures.py:176: RuntimeWarning: invalid value encountered in multiply\n",
      "  n = (ls* np.reciprocal(lo)) * 30\n",
      "C:\\Users\\whockei1\\Google Drive\\KnierimLab\\Ratterdam\\Code\\utility_fx.py:324: RuntimeWarning: invalid value encountered in true_divide\n",
      "  Z=VV/WW\n"
     ]
    }
   ],
   "source": [
    "clustname = 'TT15\\\\cl-maze1.4'\n",
    "unit = Core.UnitData(clustname, datafile, expCode, Def.alleyBounds, alleyVisits, txtVisits, p_sess, ts_sess)\n",
    "unit.loadData_raw()"
   ]
  },
  {
   "cell_type": "code",
   "execution_count": 5,
   "metadata": {
    "collapsed": true
   },
   "outputs": [],
   "source": [
    "def skaggsMutualInfo(firingRates, symbolCounts,bins=[0,Def.singleAlleyBins[0]-1]):\n",
    "    \"\"\" Uses the skaggs 1993 definition of mutual information\n",
    "    to compute MI between fr and stimulus using average fr f.ea. condition\n",
    "    \n",
    "    This fx computes MI in a binned range of the alley. Pass [start, stop]\n",
    "    inclusive to set range within which MI is computed. Default is whole alley\n",
    "    \n",
    "    firingRates is a dict of {symbol:avg_FR_vec} structure. For example\n",
    "    A:[2.1,2,0,0,...,1].\n",
    "    \n",
    "    symbolCounts is a dict of {symbol:NumTrials} where numTrials is number of trials\n",
    "    having that stimulus present. used in p(x) calc\n",
    "    \"\"\"\n",
    "    #calc overall fr average across stimuli\n",
    "    allData = []\n",
    "    for _, data in firingRates.items():\n",
    "        allData.extend(data[bins[0]:bins[1]+1]) #add data within range you want\n",
    "    grandMean = np.mean(allData)\n",
    "        \n",
    "    skaggsScore = 0\n",
    "    for symbol, data in firingRates.items():\n",
    "        dataExtent = data[bins[0]:bins[1]+1] # get the range of data you want\n",
    "        symbolProb = symbolCounts[symbol] / sum([num for num in symbolCounts.values()])  # this is p(x) in skaggs 1993. Prob of the symbol occurnig, just # trials of it\n",
    "        skaggsScore += I\n",
    "        \n",
    "    return skaggsScore"
   ]
  },
  {
   "cell_type": "code",
   "execution_count": 6,
   "metadata": {
    "collapsed": true
   },
   "outputs": [],
   "source": [
    "def calcAvgFiringRates(unit, alley, shuffle=False):\n",
    "    \"\"\"Create a matrix of firing rates where rows are trials\n",
    "    and columns are spatial positions binned. These correspond\n",
    "    to labels of stimulus during that trial. Take average of all\n",
    "    trials (subset of matrix) with a given label and put into a dict\n",
    "    of form {label:avgRateVec}. If shuffle == True then the labels \n",
    "    are shuffled first to get null avg rate vectors\"\"\"\n",
    "    \n",
    "    firingRates  = {}\n",
    "    \n",
    "    labels = [visit['metadata']['stimulus'] for visit in unit.alleys[alley]]\n",
    "    if shuffle:\n",
    "        labels = np.random.permutation(labels) # np.random.permutation returns a new array instead of shuffling in place\n",
    "    labels = np.asarray(labels)\n",
    "    trials = np.empty((0, Def.singleAlleyBins[0]-1))\n",
    "    for visit in unit.alleys[alley]:\n",
    "        trials = np.vstack((trials, visit['ratemap1d']))\n",
    "        \n",
    "    for stimulus in set(labels):\n",
    "        subsetmat = trials[labels==stimulus]\n",
    "        mask = np.ma.masked_invalid(subsetmat)\n",
    "        firingRates[stimulus] = mask.mean(axis=0) # ignores inf and nan\n",
    "        \n",
    "    return firingRates"
   ]
  },
  {
   "cell_type": "code",
   "execution_count": 7,
   "metadata": {
    "collapsed": true
   },
   "outputs": [],
   "source": [
    "def calcSymbolCounts(unit,alley):\n",
    "    \"\"\"For each stimulus A,B,C get counts\n",
    "    of how many times that stimulus was presented\n",
    "    and return in a dict of form {stimulus:count}\n",
    "    Note that in a standard ratterdam session these will\n",
    "    be the same and equal to 10 or 20. But sometimes a couple extra\n",
    "    trials are added for whatever reason\"\"\"\n",
    "    \n",
    "    symbolCounts = {}\n",
    "    labels = [visit['metadata']['stimulus'] for visit in unit.alleys[alley]]\n",
    "    \n",
    "    for stimulus in set(labels):\n",
    "        symbolCounts[stimulus] = labels.count(stimulus)\n",
    "        \n",
    "    return symbolCounts"
   ]
  },
  {
   "cell_type": "code",
   "execution_count": 116,
   "metadata": {
    "collapsed": true
   },
   "outputs": [],
   "source": [
    "alley=16\n",
    "n=1000\n",
    "symbolCounts = calcSymbolCounts(unit,alley)\n",
    "\n",
    "firingRates = calcAvgFiringRates(unit, alley, shuffle=False)\n",
    "realSkaggsMI = skaggsMutualInfo(firingRates, symbolCounts,bins=[3,7])\n",
    "\n",
    "nullSkaggsMIs = np.empty((0))\n",
    "for i in range(n):\n",
    "    frshuff = calcAvgFiringRates(unit,alley,shuffle=True)\n",
    "    nullscore = skaggsMutualInfo(frshuff, symbolCounts, bins=[3,7])\n",
    "    nullSkaggsMIs = np.hstack((nullSkaggsMIs, nullscore))"
   ]
  },
  {
   "cell_type": "code",
   "execution_count": 117,
   "metadata": {},
   "outputs": [
    {
     "data": {
      "text/plain": [
       "<matplotlib.collections.LineCollection at 0x27d424a4ba8>"
      ]
     },
     "execution_count": 117,
     "metadata": {},
     "output_type": "execute_result"
    }
   ],
   "source": [
    "plt.hist(nullSkaggsMIs,bins=25)\n",
    "plt.vlines(np.percentile(nullSkaggsMIs,95),-1,100,'k')\n",
    "plt.vlines(realSkaggsMI,-1,100,'r')"
   ]
  },
  {
   "cell_type": "markdown",
   "metadata": {
    "collapsed": true
   },
   "source": [
    "### Standard Mutual Information\n",
    "#### Traditional definition of MI using joint,conditional, and marginal probabilities\n",
    "#### I(X|Y) = Sigma_i,j( p(yi|xj) * log2(p(yi|xj)/p(yi)) * p(xj))\n",
    "#### Uses contingency tables of spikes (or FR) emitted on each trial under each stimulus."
   ]
  },
  {
   "cell_type": "code",
   "execution_count": 112,
   "metadata": {
    "collapsed": true
   },
   "outputs": [],
   "source": [
    "def makeSymbolBins(alley):\n",
    "    mat  = np.empty((0, Def.singleAlleyBins[0]-1))\n",
    "    for i,visit in enumerate(unit.alleys[alley]):\n",
    "        mat = np.vstack((mat, visit['ratemap1d']))\n",
    "    flatmat = np.ndarray.flatten(mat)\n",
    "    mean = np.nanmean(flatmat)\n",
    "    std = np.nanstd(flatmat)\n",
    "    \n",
    "    freedman_diaconis_binWidth = 2*(scipy.stats.iqr(flatmat, nan_policy='omit')/np.cbrt(flatmat.shape[0]))\n",
    "    numbins = round(np.nanmax(flatmat)/freedman_diaconis_binWidth)\n",
    "    symbolBins = np.linspace(0, np.nanmax(flatmat), int(numbins)) \n",
    "    \n",
    "    return symbolBins"
   ]
  },
  {
   "cell_type": "code",
   "execution_count": 113,
   "metadata": {
    "collapsed": true
   },
   "outputs": [],
   "source": [
    "def calcSymbol(data, symbolBins):\n",
    "    return bisect.bisect_left(symbolBins, np.nanmax(data))"
   ]
  },
  {
   "cell_type": "code",
   "execution_count": 80,
   "metadata": {
    "collapsed": true
   },
   "outputs": [],
   "source": [
    "def calcMutualInformation_old(alley, shuffle):\n",
    "    \"\"\"\n",
    "    Calculate MI using I(X|Y) = Sigma_i,j( p(yi|xj) * log2(p(yi|xj)/p(yi)) * p(xj))\n",
    "    \"\"\"\n",
    "    trial_rates = []\n",
    "    trial_symbols = []\n",
    "    symbol_rates = {'A':[], 'B':[], 'C':[]}\n",
    "    symbolBins = makeSymbolBins(alley)\n",
    "\n",
    "    trial_symbol_list = [visit['metadata']['stimulus'] for visit in unit.alleys[alley]]\n",
    "\n",
    "    if shuffle == True:\n",
    "        trial_symbol_list = np.random.permutation(trial_symbol_list)\n",
    "\n",
    "    for i,visit in enumerate(unit.alleys[alley]):\n",
    "        txtsymbol = trial_symbol_list[i]\n",
    "        ratemap = visit['ratemap1d']\n",
    "        mask = np.ma.masked_invalid(ratemap)\n",
    "        frSymbol = calcSymbol(mask, symbolBins)\n",
    "        trial_rates.append(frSymbol)\n",
    "        trial_symbols.append(txtsymbol)\n",
    "        symbol_rates[txtsymbol].append(frSymbol)\n",
    "        trial_rates = sorted(trial_rates)\n",
    "\n",
    "    symbol_rate_counts = {'A':[],'B':[], 'C':[]}\n",
    "    for symbol in ['A','B','C']:\n",
    "        for observedRate in set(trial_rates):\n",
    "            symbol_rate_counts[symbol].append(symbol_rates[symbol].count(observedRate))\n",
    "\n",
    "    I = 0\n",
    "    for symbol in ['A', 'B', 'C']:\n",
    "        for i in range(len(symbolBins)):\n",
    "            px = trial_symbols.count(symbol) / len(trial_symbols)\n",
    "            py = trial_rates.count(i)/len(trial_rates)\n",
    "            pxy = symbol_rate_counts[symbol][i] / len(symbolBins)\n",
    "            if pxy == 0 or py==0:\n",
    "                pseudoI = 0\n",
    "            else:\n",
    "                pseudoI = pxy * np.log2(pxy/(px*py))\n",
    "            I += pseudoI\n",
    "    return I"
   ]
  },
  {
   "cell_type": "code",
   "execution_count": 116,
   "metadata": {},
   "outputs": [
    {
     "ename": "IndexError",
     "evalue": "list index out of range",
     "output_type": "error",
     "traceback": [
      "\u001b[1;31m---------------------------------------------------------------------------\u001b[0m",
      "\u001b[1;31mIndexError\u001b[0m                                Traceback (most recent call last)",
      "\u001b[1;32m<ipython-input-116-6bfccbbde8cd>\u001b[0m in \u001b[0;36m<module>\u001b[1;34m()\u001b[0m\n\u001b[0;32m      1\u001b[0m \u001b[0malley\u001b[0m \u001b[1;33m=\u001b[0m \u001b[1;36m1\u001b[0m\u001b[1;33m\u001b[0m\u001b[0m\n\u001b[1;32m----> 2\u001b[1;33m \u001b[0mrealI\u001b[0m \u001b[1;33m=\u001b[0m \u001b[0mcalcMutualInformation_old\u001b[0m\u001b[1;33m(\u001b[0m\u001b[0malley\u001b[0m\u001b[1;33m,\u001b[0m \u001b[1;32mFalse\u001b[0m\u001b[1;33m)\u001b[0m\u001b[1;33m\u001b[0m\u001b[0m\n\u001b[0m\u001b[0;32m      3\u001b[0m \u001b[0mnulls\u001b[0m \u001b[1;33m=\u001b[0m \u001b[1;33m[\u001b[0m\u001b[1;33m]\u001b[0m\u001b[1;33m\u001b[0m\u001b[0m\n\u001b[0;32m      4\u001b[0m \u001b[0mn\u001b[0m\u001b[1;33m=\u001b[0m\u001b[1;36m1000\u001b[0m\u001b[1;33m\u001b[0m\u001b[0m\n\u001b[0;32m      5\u001b[0m \u001b[0mthresh\u001b[0m \u001b[1;33m=\u001b[0m \u001b[0mround\u001b[0m\u001b[1;33m(\u001b[0m\u001b[1;33m(\u001b[0m\u001b[1;36m0.05\u001b[0m\u001b[1;33m/\u001b[0m\u001b[1;36m9\u001b[0m\u001b[1;33m)\u001b[0m\u001b[1;33m,\u001b[0m\u001b[1;36m3\u001b[0m\u001b[1;33m)\u001b[0m\u001b[1;33m*\u001b[0m\u001b[0mn\u001b[0m\u001b[1;33m\u001b[0m\u001b[0m\n",
      "\u001b[1;32m<ipython-input-111-0eaa12e69d9b>\u001b[0m in \u001b[0;36mcalcMutualInformation_old\u001b[1;34m(alley, shuffle)\u001b[0m\n\u001b[0;32m     33\u001b[0m             \u001b[0mpx\u001b[0m \u001b[1;33m=\u001b[0m \u001b[0mtrial_symbols\u001b[0m\u001b[1;33m.\u001b[0m\u001b[0mcount\u001b[0m\u001b[1;33m(\u001b[0m\u001b[0msymbol\u001b[0m\u001b[1;33m)\u001b[0m \u001b[1;33m/\u001b[0m \u001b[0mlen\u001b[0m\u001b[1;33m(\u001b[0m\u001b[0mtrial_symbols\u001b[0m\u001b[1;33m)\u001b[0m\u001b[1;33m\u001b[0m\u001b[0m\n\u001b[0;32m     34\u001b[0m             \u001b[0mpy\u001b[0m \u001b[1;33m=\u001b[0m \u001b[0mtrial_rates\u001b[0m\u001b[1;33m.\u001b[0m\u001b[0mcount\u001b[0m\u001b[1;33m(\u001b[0m\u001b[0mi\u001b[0m\u001b[1;33m)\u001b[0m\u001b[1;33m/\u001b[0m\u001b[0mlen\u001b[0m\u001b[1;33m(\u001b[0m\u001b[0mtrial_rates\u001b[0m\u001b[1;33m)\u001b[0m\u001b[1;33m\u001b[0m\u001b[0m\n\u001b[1;32m---> 35\u001b[1;33m             \u001b[0mpxy\u001b[0m \u001b[1;33m=\u001b[0m \u001b[0msymbol_rate_counts\u001b[0m\u001b[1;33m[\u001b[0m\u001b[0msymbol\u001b[0m\u001b[1;33m]\u001b[0m\u001b[1;33m[\u001b[0m\u001b[0mi\u001b[0m\u001b[1;33m]\u001b[0m \u001b[1;33m/\u001b[0m \u001b[0mlen\u001b[0m\u001b[1;33m(\u001b[0m\u001b[0msymbolBins\u001b[0m\u001b[1;33m)\u001b[0m\u001b[1;33m\u001b[0m\u001b[0m\n\u001b[0m\u001b[0;32m     36\u001b[0m             \u001b[1;32mif\u001b[0m \u001b[0mpxy\u001b[0m \u001b[1;33m==\u001b[0m \u001b[1;36m0\u001b[0m \u001b[1;32mor\u001b[0m \u001b[0mpy\u001b[0m\u001b[1;33m==\u001b[0m\u001b[1;36m0\u001b[0m\u001b[1;33m:\u001b[0m\u001b[1;33m\u001b[0m\u001b[0m\n\u001b[0;32m     37\u001b[0m                 \u001b[0mpseudoI\u001b[0m \u001b[1;33m=\u001b[0m \u001b[1;36m0\u001b[0m\u001b[1;33m\u001b[0m\u001b[0m\n",
      "\u001b[1;31mIndexError\u001b[0m: list index out of range"
     ]
    }
   ],
   "source": [
    "alley = 1\n",
    "realI = calcMutualInformation_old(alley, False)\n",
    "nulls = []\n",
    "n=1000\n",
    "thresh = round((0.05/9),3)*n\n",
    "for i in range(n):\n",
    "    nullI = calcMutualInformation(alley,True)\n",
    "    nulls.append(nullI)\n",
    "nulls = sorted(nulls)\n",
    "plt.figure()\n",
    "plt.hist(nulls)\n",
    "plt.vlines(realI,0,200,'r')\n",
    "plt.vlines(nulls[int(-1*thresh)],0,100,'k')\n",
    "plt.title(f\"{unit.name} Alley {beltwayAlleyLookup[alley]}, whole alley MI\")"
   ]
  },
  {
   "cell_type": "code",
   "execution_count": 11,
   "metadata": {},
   "outputs": [
    {
     "data": {
      "text/plain": [
       "([<matplotlib.axis.XTick at 0x229761d69e8>,\n",
       "  <matplotlib.axis.XTick at 0x229761c6438>,\n",
       "  <matplotlib.axis.XTick at 0x229761c3e80>,\n",
       "  <matplotlib.axis.XTick at 0x229761fc400>,\n",
       "  <matplotlib.axis.XTick at 0x229761fca58>,\n",
       "  <matplotlib.axis.XTick at 0x229762000f0>,\n",
       "  <matplotlib.axis.XTick at 0x22976200748>,\n",
       "  <matplotlib.axis.XTick at 0x22976200dd8>,\n",
       "  <matplotlib.axis.XTick at 0x229762074a8>,\n",
       "  <matplotlib.axis.XTick at 0x22976207b38>,\n",
       "  <matplotlib.axis.XTick at 0x2297620f208>],\n",
       " <a list of 11 Text xticklabel objects>)"
      ]
     },
     "execution_count": 11,
     "metadata": {},
     "output_type": "execute_result"
    }
   ],
   "source": [
    "# get sliding window MI values\n",
    "alley = 1\n",
    "p90s = []\n",
    "p10s = []\n",
    "realIs = []\n",
    "allbins = [[0,4],[1,5],[2,6],[3,7],[4,8],[5,9],[6,10],[7,11],[8,12],[9,12],[10,12]]\n",
    "for b in allbins:\n",
    "    bins = [b[0], b[1]]\n",
    "    realI = calcMutualInformation(alley, bins, False)\n",
    "    realIs.append(realI)\n",
    "    nulls = []\n",
    "\n",
    "    for i in range(1000):\n",
    "        nullI = calcMutualInformation(alley, bins,True)\n",
    "        nulls.append(nullI)\n",
    "    pup = np.percentile(nulls,99.75)\n",
    "    plow = np.percentile(nulls,0.25)\n",
    "    pupss.append(p90)\n",
    "    p10s.append(p10)\n",
    "plt.figure()\n",
    "plt.plot(realIs,'g')\n",
    "plt.fill_between(range(len(p10s)),p10s,p90s,alpha=0.5)\n",
    "plt.title(f\"{expCode} {unit.name} Alley {alley}, windowed MI\")\n",
    "plt.xticks(range(len(allbins)), allbins)"
   ]
  },
  {
   "cell_type": "code",
   "execution_count": 210,
   "metadata": {},
   "outputs": [
    {
     "name": "stderr",
     "output_type": "stream",
     "text": [
      "C:\\Users\\whockei1\\AppData\\Local\\Continuum\\anaconda3\\lib\\site-packages\\ipykernel_launcher.py:11: RuntimeWarning: divide by zero encountered in double_scalars\n",
      "  # This is added back by InteractiveShellApp.init_path()\n"
     ]
    },
    {
     "ename": "OverflowError",
     "evalue": "cannot convert float infinity to integer",
     "output_type": "error",
     "traceback": [
      "\u001b[1;31m---------------------------------------------------------------------------\u001b[0m",
      "\u001b[1;31mOverflowError\u001b[0m                             Traceback (most recent call last)",
      "\u001b[1;32m<ipython-input-210-bae825e73115>\u001b[0m in \u001b[0;36m<module>\u001b[1;34m()\u001b[0m\n\u001b[0;32m      5\u001b[0m \u001b[1;32mfor\u001b[0m \u001b[0mi\u001b[0m\u001b[1;33m,\u001b[0m \u001b[0malley\u001b[0m \u001b[1;32min\u001b[0m \u001b[0menumerate\u001b[0m\u001b[1;33m(\u001b[0m\u001b[0mbeltwayAlleys\u001b[0m\u001b[1;33m)\u001b[0m\u001b[1;33m:\u001b[0m\u001b[1;33m\u001b[0m\u001b[0m\n\u001b[0;32m      6\u001b[0m     \u001b[0maxis\u001b[0m \u001b[1;33m=\u001b[0m \u001b[0mfig\u001b[0m\u001b[1;33m.\u001b[0m\u001b[0maxes\u001b[0m\u001b[1;33m[\u001b[0m\u001b[0mi\u001b[0m\u001b[1;33m]\u001b[0m\u001b[1;33m\u001b[0m\u001b[0m\n\u001b[1;32m----> 7\u001b[1;33m     \u001b[0mrealI\u001b[0m \u001b[1;33m=\u001b[0m \u001b[0mcalcMutualInformation\u001b[0m\u001b[1;33m(\u001b[0m\u001b[0malley\u001b[0m\u001b[1;33m,\u001b[0m \u001b[1;32mFalse\u001b[0m\u001b[1;33m)\u001b[0m\u001b[1;33m\u001b[0m\u001b[0m\n\u001b[0m\u001b[0;32m      8\u001b[0m     \u001b[0mnulls\u001b[0m \u001b[1;33m=\u001b[0m \u001b[1;33m[\u001b[0m\u001b[1;33m]\u001b[0m\u001b[1;33m\u001b[0m\u001b[0m\n\u001b[0;32m      9\u001b[0m \u001b[1;33m\u001b[0m\u001b[0m\n",
      "\u001b[1;32m<ipython-input-162-5c84534f12f0>\u001b[0m in \u001b[0;36mcalcMutualInformation\u001b[1;34m(alley, shuffle)\u001b[0m\n\u001b[0;32m     10\u001b[0m     \u001b[0mtrial_symbols\u001b[0m \u001b[1;33m=\u001b[0m \u001b[1;33m[\u001b[0m\u001b[1;33m]\u001b[0m\u001b[1;33m\u001b[0m\u001b[0m\n\u001b[0;32m     11\u001b[0m     \u001b[0msymbol_rates\u001b[0m \u001b[1;33m=\u001b[0m \u001b[1;33m{\u001b[0m\u001b[1;34m'A'\u001b[0m\u001b[1;33m:\u001b[0m\u001b[1;33m[\u001b[0m\u001b[1;33m]\u001b[0m\u001b[1;33m,\u001b[0m \u001b[1;34m'B'\u001b[0m\u001b[1;33m:\u001b[0m\u001b[1;33m[\u001b[0m\u001b[1;33m]\u001b[0m\u001b[1;33m,\u001b[0m \u001b[1;34m'C'\u001b[0m\u001b[1;33m:\u001b[0m\u001b[1;33m[\u001b[0m\u001b[1;33m]\u001b[0m\u001b[1;33m}\u001b[0m\u001b[1;33m\u001b[0m\u001b[0m\n\u001b[1;32m---> 12\u001b[1;33m     \u001b[0msymbolBins\u001b[0m \u001b[1;33m=\u001b[0m \u001b[0mmakeSymbolBins\u001b[0m\u001b[1;33m(\u001b[0m\u001b[0malley\u001b[0m\u001b[1;33m)\u001b[0m\u001b[1;33m\u001b[0m\u001b[0m\n\u001b[0m\u001b[0;32m     13\u001b[0m \u001b[1;33m\u001b[0m\u001b[0m\n\u001b[0;32m     14\u001b[0m     \u001b[0mtrial_symbol_list\u001b[0m \u001b[1;33m=\u001b[0m \u001b[1;33m[\u001b[0m\u001b[0mvisit\u001b[0m\u001b[1;33m[\u001b[0m\u001b[1;34m'metadata'\u001b[0m\u001b[1;33m]\u001b[0m\u001b[1;33m[\u001b[0m\u001b[1;34m'stimulus'\u001b[0m\u001b[1;33m]\u001b[0m \u001b[1;32mfor\u001b[0m \u001b[0mvisit\u001b[0m \u001b[1;32min\u001b[0m \u001b[0munit\u001b[0m\u001b[1;33m.\u001b[0m\u001b[0malleys\u001b[0m\u001b[1;33m[\u001b[0m\u001b[0malley\u001b[0m\u001b[1;33m]\u001b[0m\u001b[1;33m]\u001b[0m\u001b[1;33m\u001b[0m\u001b[0m\n",
      "\u001b[1;32m<ipython-input-209-4735df98664d>\u001b[0m in \u001b[0;36mmakeSymbolBins\u001b[1;34m(alley)\u001b[0m\n\u001b[0;32m     10\u001b[0m     \u001b[0mfreedman_diaconis_binWidth\u001b[0m \u001b[1;33m=\u001b[0m \u001b[1;36m2\u001b[0m\u001b[1;33m*\u001b[0m\u001b[1;33m(\u001b[0m\u001b[0mscipy\u001b[0m\u001b[1;33m.\u001b[0m\u001b[0mstats\u001b[0m\u001b[1;33m.\u001b[0m\u001b[0miqr\u001b[0m\u001b[1;33m(\u001b[0m\u001b[0mflatmat\u001b[0m\u001b[1;33m,\u001b[0m \u001b[0mnan_policy\u001b[0m\u001b[1;33m=\u001b[0m\u001b[1;34m'omit'\u001b[0m\u001b[1;33m)\u001b[0m\u001b[1;33m/\u001b[0m\u001b[0mnp\u001b[0m\u001b[1;33m.\u001b[0m\u001b[0mcbrt\u001b[0m\u001b[1;33m(\u001b[0m\u001b[0mflatmat\u001b[0m\u001b[1;33m.\u001b[0m\u001b[0mshape\u001b[0m\u001b[1;33m[\u001b[0m\u001b[1;36m0\u001b[0m\u001b[1;33m]\u001b[0m\u001b[1;33m)\u001b[0m\u001b[1;33m)\u001b[0m\u001b[1;33m\u001b[0m\u001b[0m\n\u001b[0;32m     11\u001b[0m     \u001b[0mnumbins\u001b[0m \u001b[1;33m=\u001b[0m \u001b[0mround\u001b[0m\u001b[1;33m(\u001b[0m\u001b[0mnp\u001b[0m\u001b[1;33m.\u001b[0m\u001b[0mnanmax\u001b[0m\u001b[1;33m(\u001b[0m\u001b[0mflatmat\u001b[0m\u001b[1;33m)\u001b[0m\u001b[1;33m/\u001b[0m\u001b[0mfreedman_diaconis_binWidth\u001b[0m\u001b[1;33m)\u001b[0m\u001b[1;33m\u001b[0m\u001b[0m\n\u001b[1;32m---> 12\u001b[1;33m     \u001b[0msymbolBins\u001b[0m \u001b[1;33m=\u001b[0m \u001b[0mnp\u001b[0m\u001b[1;33m.\u001b[0m\u001b[0mlinspace\u001b[0m\u001b[1;33m(\u001b[0m\u001b[1;36m0\u001b[0m\u001b[1;33m,\u001b[0m \u001b[0mnp\u001b[0m\u001b[1;33m.\u001b[0m\u001b[0mnanmax\u001b[0m\u001b[1;33m(\u001b[0m\u001b[0mflatmat\u001b[0m\u001b[1;33m)\u001b[0m\u001b[1;33m,\u001b[0m \u001b[0mint\u001b[0m\u001b[1;33m(\u001b[0m\u001b[0mnumbins\u001b[0m\u001b[1;33m)\u001b[0m\u001b[1;33m)\u001b[0m\u001b[1;33m\u001b[0m\u001b[0m\n\u001b[0m\u001b[0;32m     13\u001b[0m \u001b[1;33m\u001b[0m\u001b[0m\n\u001b[0;32m     14\u001b[0m     \u001b[1;32mreturn\u001b[0m \u001b[0msymbolBins\u001b[0m\u001b[1;33m\u001b[0m\u001b[0m\n",
      "\u001b[1;31mOverflowError\u001b[0m: cannot convert float infinity to integer"
     ]
    }
   ],
   "source": [
    "### Subplots of all alleys for a cell - whole track\n",
    "\n",
    "datafile = \"E:\\\\Ratterdam\\\\R808\\\\R808_Beltway_D4\\\\\"\n",
    "rat = 'R808'\n",
    "expCode = \"BRD4\"\n",
    "figurePath = 'E:\\\\Ratterdam\\\\multidayFigures\\\\randomForest\\\\'\n",
    "alleyTracking, alleyVisits,  txtVisits, p_sess, ts_sess = Parse.getDaysBehavioralData(datafile, expCode)\n",
    "population = {}\n",
    "for subdir, dirs, fs in os.walk(datafile):\n",
    "    for f in fs:\n",
    "        if 'cl-maze1' in f and 'OLD' not in f and 'Undefined' not in f:\n",
    "            clustname = subdir[subdir.index(\"TT\"):] + \"\\\\\" + f\n",
    "            unit = Core.UnitData(clustname, datafile, expCode, Def.alleyBounds, alleyVisits, txtVisits, p_sess, ts_sess)\n",
    "            unit.loadData_raw()\n",
    "\n",
    "\n",
    "\n",
    "n=1000\n",
    "thresh = round((0.05/9),3)*n\n",
    "fig, ax = plt.subplots(3,3)\n",
    "for i, alley in enumerate(Def.beltwayAlleys):\n",
    "    axis = fig.axes[i]\n",
    "    realI = calcMutualInformation(alley, False)\n",
    "    nulls = []\n",
    "    \n",
    "    for i in range(n):\n",
    "        nullI = calcMutualInformation(alley,True)\n",
    "        nulls.append(nullI)\n",
    "    axis.hist(nulls)\n",
    "    axis.vlines(realI,0,200,'r')\n",
    "    nulls = sorted(nulls)\n",
    "    #axis.vlines(np.percentile(nulls,99.75),0,100,'k')\n",
    "    axis.vlines(nulls[int(-1*thresh)],0,100,'k')\n",
    "    axis.set_title(f\"Alley {Def.beltwayAlleyLookup[alley]}\")\n",
    "plt.suptitle(f\"Whole Alley MI Unit {expCode} {unit.name}\")"
   ]
  },
  {
   "cell_type": "code",
   "execution_count": 22,
   "metadata": {
    "collapsed": true
   },
   "outputs": [],
   "source": [
    "beltwayAlleyLookup = {16:1, 17:2, 3:3, 1:4, 5:5, 7:6, 8:7, 10:8, 11:9}"
   ]
  },
  {
   "cell_type": "code",
   "execution_count": 336,
   "metadata": {
    "collapsed": true
   },
   "outputs": [],
   "source": [
    "alley = 11\n",
    "shuffle = False"
   ]
  },
  {
   "cell_type": "code",
   "execution_count": 73,
   "metadata": {
    "collapsed": true
   },
   "outputs": [],
   "source": [
    "def calcMIV2(alley, shuffle):\n",
    "    # bitstring based MI fx\n",
    "    visits = np.empty((0, Def.singleAlleyBins[0]-1))\n",
    "    stimSymbols = []\n",
    "    binnedVisits = {'A':None, 'B':None, 'C':None}\n",
    "    trial_symbol_list = [visit['metadata']['stimulus'] for visit in unit.alleys[alley]]\n",
    "    if shuffle == True:\n",
    "        trial_symbol_list = np.random.permutation(trial_symbol_list)\n",
    "\n",
    "    for i,visit in enumerate(unit.alleys[alley]):\n",
    "        visits = np.vstack((visits, visit['ratemap1d']))\n",
    "        stimSymbols.append(trial_symbol_list[i]) # do like this for indirect shuffling when needed\n",
    "\n",
    "    stimSymbols = np.asarray(stimSymbols)\n",
    "    means = np.mean(visits, axis=0)\n",
    "    for s in ['A','B','C']:\n",
    "        binnedVisits[s] = (visits[np.where(stimSymbols==s)]>means)*1 #hack to convert bools to ints. \n",
    "\n",
    "    allBinnedVisits = (visits>means)*1\n",
    "\n",
    "    frSymbolSet = list(itertools.product([0,1],repeat=Def.singleAlleyBins[0]-1))\n",
    "\n",
    "    symbol_rate_counts = {'A':[],'B':[], 'C':[]}\n",
    "    for s in ['A','B','C']:\n",
    "        for frSymbol in frSymbolSet:\n",
    "            c = np.where((binnedVisits[s] == frSymbol).all(axis=1))[0].shape[0]\n",
    "            symbol_rate_counts[s].append(c)\n",
    "\n",
    "    I = 0\n",
    "    for s in ['A', 'B', 'C']:\n",
    "        for i, frSymbol in enumerate(frSymbolSet):\n",
    "            px = np.where(stimSymbols==s)[0].shape[0] / len(stimSymbols)\n",
    "            py = np.where((allBinnedVisits == frSymbol).all(axis=1))[0].shape[0] / allBinnedVisits.shape[0]\n",
    "            try:\n",
    "                pxy = symbol_rate_counts[s][i] / sum(symbol_rate_counts['A'] + symbol_rate_counts['B'] + symbol_rate_counts['C'])\n",
    "            except ZeroDivisionError:\n",
    "                pxy = 0\n",
    "            if pxy == 0:\n",
    "                pseudoI = 0\n",
    "            else:\n",
    "                pseudoI = pxy * np.log2(pxy/(px*py))\n",
    "            I += pseudoI\n",
    "    return I"
   ]
  },
  {
   "cell_type": "code",
   "execution_count": 440,
   "metadata": {
    "collapsed": true
   },
   "outputs": [],
   "source": [
    "realI = calcMIV2(11,False)"
   ]
  },
  {
   "cell_type": "code",
   "execution_count": 442,
   "metadata": {
    "collapsed": true
   },
   "outputs": [],
   "source": [
    "for i in range(1000):\n",
    "    n = calcMIV2(11,True)\n",
    "    nulls.append(n)"
   ]
  },
  {
   "cell_type": "markdown",
   "metadata": {},
   "source": [
    "## Redoing MI in a more readable, matrix based way. All those nested dicts confused me "
   ]
  },
  {
   "cell_type": "code",
   "execution_count": 241,
   "metadata": {},
   "outputs": [
    {
     "name": "stderr",
     "output_type": "stream",
     "text": [
      "C:\\Users\\whockei1\\Google Drive\\KnierimLab\\Ratterdam\\Code\\ratterdam_CoreDataStructures.py:172: RuntimeWarning: divide by zero encountered in reciprocal\n",
      "  n = (hs*np.reciprocal(ho))*30\n",
      "C:\\Users\\whockei1\\Google Drive\\KnierimLab\\Ratterdam\\Code\\ratterdam_CoreDataStructures.py:172: RuntimeWarning: invalid value encountered in multiply\n",
      "  n = (hs*np.reciprocal(ho))*30\n",
      "C:\\Users\\whockei1\\Google Drive\\KnierimLab\\Ratterdam\\Code\\ratterdam_CoreDataStructures.py:178: RuntimeWarning: divide by zero encountered in reciprocal\n",
      "  n = (ls* np.reciprocal(lo)) * 30\n",
      "C:\\Users\\whockei1\\Google Drive\\KnierimLab\\Ratterdam\\Code\\ratterdam_CoreDataStructures.py:178: RuntimeWarning: invalid value encountered in multiply\n",
      "  n = (ls* np.reciprocal(lo)) * 30\n",
      "C:\\Users\\whockei1\\Google Drive\\KnierimLab\\Ratterdam\\Code\\utility_fx.py:329: RuntimeWarning: invalid value encountered in true_divide\n",
      "  def getClustList(datafile):\n"
     ]
    }
   ],
   "source": [
    "rat = \"R781\"\n",
    "expCode = \"BRD3\"\n",
    "clustname = 'TT11\\\\cl-maze1.1'\n",
    "datafile = f'E:\\\\Ratterdam\\\\{rat}\\\\{rat}{expCode}\\\\'\n",
    "figurePath = f'E:\\\\Ratterdam\\\\{rat}\\\\mutual_information\\\\{expCode}\\\\'\n",
    "alleyTracking, alleyVisits,  txtVisits, p_sess, ts_sess = Parse.getDaysBehavioralData(datafile, expCode)\n",
    "unit = Core.UnitData(clustname, datafile, expCode, Def.alleyBounds, alleyVisits, txtVisits, p_sess, ts_sess)\n",
    "unit.loadData_raw()"
   ]
  },
  {
   "cell_type": "code",
   "execution_count": 140,
   "metadata": {
    "collapsed": true
   },
   "outputs": [],
   "source": [
    "def createNeuralSymbols():\n",
    "    '''\n",
    "    Hardcoded based on neural fr alphabet you want. All possible bins or bitstrings\n",
    "    depending on what kind of alphabet.\n",
    "    '''\n",
    "    #symbolBins = list(itertools.product(list(range(1,51)),repeat=Def.singleAlleyBins[0]-1))\n",
    "    mat  = np.empty((0, Def.singleAlleyBins[0]-1))\n",
    "    for i,visit in enumerate(unit.alleys[alley]):\n",
    "        mat = np.vstack((mat, visit['ratemap1d']))\n",
    "    flatmat = np.ndarray.flatten(mat)\n",
    "    mean = np.nanmean(flatmat)\n",
    "    std = np.nanstd(flatmat)\n",
    "    \n",
    "    freedman_diaconis_binWidth = 2*(scipy.stats.iqr(flatmat, nan_policy='omit')/np.cbrt(flatmat.shape[0]))\n",
    "    numbins = round(np.nanmax(flatmat)/freedman_diaconis_binWidth)\n",
    "    try:\n",
    "        symbolBins = np.linspace(0, np.nanmax(flatmat), int(numbins)) \n",
    "    except:\n",
    "        symbolBins = np.linspace(0, np.nanmax(flatmat), 40)\n",
    "    return symbolBins"
   ]
  },
  {
   "cell_type": "code",
   "execution_count": 141,
   "metadata": {
    "collapsed": true
   },
   "outputs": [],
   "source": [
    "def convertActivitytoSymbols(unit, alley):\n",
    "#     mat  = np.empty((0, Def.singleAlleyBins[0]-1))\n",
    "#     for i,visit in enumerate(unit.alleys[1]):\n",
    "#         mat = np.vstack((mat, visit['ratemap1d']))\n",
    "#     flatmat = np.ndarray.flatten(mat)\n",
    "#     mean = np.nanmean(mat,axis=0)\n",
    "#     print(mean.shape)\n",
    "#     return (mat>mean)*1 #converts to bool arr in parens, then converts to int. e.g. true*1 = 1.\n",
    "    vec  = np.empty((0,1))\n",
    "    for i,visit in enumerate(unit.alleys[alley]):\n",
    "        c = calcSymbol(visit['ratemap1d'], neural_symbols_set)\n",
    "        vec = np.vstack((vec, c))\n",
    "    return vec"
   ]
  },
  {
   "cell_type": "code",
   "execution_count": 146,
   "metadata": {},
   "outputs": [],
   "source": [
    "def calcSymbol(data, symbolBins):\n",
    "    return bisect.bisect_left(symbolBins, np.nanmax(data))"
   ]
  },
  {
   "cell_type": "code",
   "execution_count": 157,
   "metadata": {
    "collapsed": true
   },
   "outputs": [],
   "source": [
    "def calculateMutualInformation(neural_symbols_set, converted_array, shuffle):\n",
    "\n",
    "    trialStimSymbols = np.asarray([visit['metadata']['stimulus'] for visit in unit.alleys[alley]])\n",
    "    if shuffle == True:\n",
    "        trialStimSymbols = np.random.permutation(trialStimSymbols)\n",
    "    joint_table = np.zeros((len(neural_symbols_set),0))\n",
    "    for i,stim in enumerate(['A','B','C']):\n",
    "        p_txty = np.zeros((0,1))\n",
    "        for j,sym in enumerate(neural_symbols_set):\n",
    "            c = np.intersect1d(np.where((converted_array == sym).all(axis=1))[0],np.where(trialStimSymbols==stim)[0]).shape[0]\n",
    "            p_txty = np.vstack((p_txty,c))\n",
    "        joint_table  = np.hstack((joint_table, p_txty))\n",
    "\n",
    "    mi = 0\n",
    "    for i in range(3):\n",
    "        for j in range(len(neural_symbols_set)):\n",
    "            px = joint_table.sum(axis=0)[i]/joint_table.sum()\n",
    "            py = joint_table.sum(axis=1)[j]/joint_table.sum()\n",
    "            pxy = joint_table[j,i]/joint_table.sum()\n",
    "            if pxy != 0:\n",
    "                mi += pxy * np.log2(pxy/(px*py))\n",
    "    return mi"
   ]
  },
  {
   "cell_type": "code",
   "execution_count": 98,
   "metadata": {
    "collapsed": true
   },
   "outputs": [],
   "source": [
    "def calcMutualInformation_old(alley, shuffle):\n",
    "    \"\"\"\n",
    "    Calculate MI using I(X|Y) = Sigma_i,j( p(yi|xj) * log2(p(yi|xj)/p(yi)) * p(xj))\n",
    "    \"\"\"\n",
    "    trial_rates = []\n",
    "    trial_symbols = []\n",
    "    symbol_rates = {'A':[], 'B':[], 'C':[]}\n",
    "#     symbolBins = makeSymbolBins(alley)\n",
    "    symbolBins = createNeuralSymbols()\n",
    "\n",
    "    trial_symbol_list = [visit['metadata']['stimulus'] for visit in unit.alleys[alley]]\n",
    "\n",
    "    if shuffle == True:\n",
    "        trial_symbol_list = np.random.permutation(trial_symbol_list)\n",
    "\n",
    "    for i,visit in enumerate(unit.alleys[alley]):\n",
    "        txtsymbol = trial_symbol_list[i]\n",
    "        ratemap = visit['ratemap1d']\n",
    "        mask = np.ma.masked_invalid(ratemap)\n",
    "        frSymbol = calcSymbol(mask, symbolBins)\n",
    "        trial_rates.append(frSymbol)\n",
    "        trial_symbols.append(txtsymbol)\n",
    "        symbol_rates[txtsymbol].append(frSymbol)\n",
    "        trial_rates = sorted(trial_rates)\n",
    "\n",
    "    symbol_rate_counts = {'A':[],'B':[], 'C':[]}\n",
    "    for symbol in ['A','B','C']:\n",
    "        for observedRate in set(trial_rates):\n",
    "            symbol_rate_counts[symbol].append(symbol_rates[symbol].count(observedRate))\n",
    "\n",
    "    I = 0\n",
    "    for symbol in ['A', 'B', 'C']:\n",
    "        for i in range(len(symbolBins)):\n",
    "            px = trial_symbols.count(symbol) / len(trial_symbols)\n",
    "            py = trial_rates.count(trial_rates[i])/len(trial_rates)\n",
    "            print(i)\n",
    "            print(len(symbol_rate_counts[symbol]))\n",
    "            pxy = symbol_rate_counts[symbol][i] / len(symbolBins)\n",
    "            if pxy == 0 or py==0:\n",
    "                pseudoI = 0\n",
    "            else:\n",
    "                pseudoI = pxy * np.log2(pxy/(px*py))\n",
    "            I += pseudoI\n",
    "    return I"
   ]
  },
  {
   "cell_type": "code",
   "execution_count": 81,
   "metadata": {
    "scrolled": true
   },
   "outputs": [
    {
     "name": "stderr",
     "output_type": "stream",
     "text": [
      "C:\\Users\\whockei1\\Google Drive\\KnierimLab\\Ratterdam\\Code\\ratterdam_CoreDataStructures.py:172: RuntimeWarning: divide by zero encountered in reciprocal\n",
      "  n = (hs*np.reciprocal(ho))*30\n",
      "C:\\Users\\whockei1\\Google Drive\\KnierimLab\\Ratterdam\\Code\\ratterdam_CoreDataStructures.py:172: RuntimeWarning: invalid value encountered in multiply\n",
      "  n = (hs*np.reciprocal(ho))*30\n",
      "C:\\Users\\whockei1\\Google Drive\\KnierimLab\\Ratterdam\\Code\\ratterdam_CoreDataStructures.py:178: RuntimeWarning: divide by zero encountered in reciprocal\n",
      "  n = (ls* np.reciprocal(lo)) * 30\n",
      "C:\\Users\\whockei1\\Google Drive\\KnierimLab\\Ratterdam\\Code\\ratterdam_CoreDataStructures.py:178: RuntimeWarning: invalid value encountered in multiply\n",
      "  n = (ls* np.reciprocal(lo)) * 30\n"
     ]
    },
    {
     "name": "stdout",
     "output_type": "stream",
     "text": [
      "TT11\\cl-maze1.1\n"
     ]
    },
    {
     "name": "stderr",
     "output_type": "stream",
     "text": [
      "C:\\Users\\whockei1\\Google Drive\\KnierimLab\\Ratterdam\\Code\\utility_fx.py:329: RuntimeWarning: invalid value encountered in true_divide\n",
      "  def getClustList(datafile):\n",
      "C:\\Users\\whockei1\\Google Drive\\KnierimLab\\Ratterdam\\Code\\utility_fx.py:502: RuntimeWarning: divide by zero encountered in reciprocal\n",
      "  n[np.where(ho==0)] = np.nan\n",
      "C:\\Users\\whockei1\\Google Drive\\KnierimLab\\Ratterdam\\Code\\utility_fx.py:502: RuntimeWarning: invalid value encountered in multiply\n",
      "  n[np.where(ho==0)] = np.nan\n"
     ]
    },
    {
     "ename": "IndexError",
     "evalue": "list index out of range",
     "output_type": "error",
     "traceback": [
      "\u001b[1;31m---------------------------------------------------------------------------\u001b[0m",
      "\u001b[1;31mIndexError\u001b[0m                                Traceback (most recent call last)",
      "\u001b[1;32m<ipython-input-81-e19280d089b6>\u001b[0m in \u001b[0;36m<module>\u001b[1;34m()\u001b[0m\n\u001b[0;32m     40\u001b[0m \u001b[1;31m#                             neural_symbols_set = range(len(neural_symbols_set)) # surely this is wrong? makes no sense WH 52620\u001b[0m\u001b[1;33m\u001b[0m\u001b[1;33m\u001b[0m\u001b[0m\n\u001b[0;32m     41\u001b[0m \u001b[1;31m#                             realI = calculateMutualInformation(neural_symbols_set, converted_array, False)\u001b[0m\u001b[1;33m\u001b[0m\u001b[1;33m\u001b[0m\u001b[0m\n\u001b[1;32m---> 42\u001b[1;33m                             \u001b[0mrealI\u001b[0m \u001b[1;33m=\u001b[0m \u001b[0mcalcMutualInformation_old\u001b[0m\u001b[1;33m(\u001b[0m\u001b[0malley\u001b[0m\u001b[1;33m,\u001b[0m \u001b[0mshuffle\u001b[0m\u001b[1;33m=\u001b[0m\u001b[1;32mFalse\u001b[0m\u001b[1;33m)\u001b[0m\u001b[1;33m\u001b[0m\u001b[0m\n\u001b[0m\u001b[0;32m     43\u001b[0m                             \u001b[0mprint\u001b[0m\u001b[1;33m(\u001b[0m\u001b[1;34mf\"{Def.beltwayAlleyLookup[alley]} MI: {realI}\"\u001b[0m\u001b[1;33m)\u001b[0m\u001b[1;33m\u001b[0m\u001b[0m\n\u001b[0;32m     44\u001b[0m                             \u001b[0mallRealIs\u001b[0m\u001b[1;33m[\u001b[0m\u001b[0malley\u001b[0m\u001b[1;33m]\u001b[0m\u001b[1;33m.\u001b[0m\u001b[0mappend\u001b[0m\u001b[1;33m(\u001b[0m\u001b[0mrealI\u001b[0m\u001b[1;33m)\u001b[0m\u001b[1;33m\u001b[0m\u001b[0m\n",
      "\u001b[1;32m<ipython-input-80-0eaa12e69d9b>\u001b[0m in \u001b[0;36mcalcMutualInformation_old\u001b[1;34m(alley, shuffle)\u001b[0m\n\u001b[0;32m     33\u001b[0m             \u001b[0mpx\u001b[0m \u001b[1;33m=\u001b[0m \u001b[0mtrial_symbols\u001b[0m\u001b[1;33m.\u001b[0m\u001b[0mcount\u001b[0m\u001b[1;33m(\u001b[0m\u001b[0msymbol\u001b[0m\u001b[1;33m)\u001b[0m \u001b[1;33m/\u001b[0m \u001b[0mlen\u001b[0m\u001b[1;33m(\u001b[0m\u001b[0mtrial_symbols\u001b[0m\u001b[1;33m)\u001b[0m\u001b[1;33m\u001b[0m\u001b[0m\n\u001b[0;32m     34\u001b[0m             \u001b[0mpy\u001b[0m \u001b[1;33m=\u001b[0m \u001b[0mtrial_rates\u001b[0m\u001b[1;33m.\u001b[0m\u001b[0mcount\u001b[0m\u001b[1;33m(\u001b[0m\u001b[0mi\u001b[0m\u001b[1;33m)\u001b[0m\u001b[1;33m/\u001b[0m\u001b[0mlen\u001b[0m\u001b[1;33m(\u001b[0m\u001b[0mtrial_rates\u001b[0m\u001b[1;33m)\u001b[0m\u001b[1;33m\u001b[0m\u001b[0m\n\u001b[1;32m---> 35\u001b[1;33m             \u001b[0mpxy\u001b[0m \u001b[1;33m=\u001b[0m \u001b[0msymbol_rate_counts\u001b[0m\u001b[1;33m[\u001b[0m\u001b[0msymbol\u001b[0m\u001b[1;33m]\u001b[0m\u001b[1;33m[\u001b[0m\u001b[0mi\u001b[0m\u001b[1;33m]\u001b[0m \u001b[1;33m/\u001b[0m \u001b[0mlen\u001b[0m\u001b[1;33m(\u001b[0m\u001b[0msymbolBins\u001b[0m\u001b[1;33m)\u001b[0m\u001b[1;33m\u001b[0m\u001b[0m\n\u001b[0m\u001b[0;32m     36\u001b[0m             \u001b[1;32mif\u001b[0m \u001b[0mpxy\u001b[0m \u001b[1;33m==\u001b[0m \u001b[1;36m0\u001b[0m \u001b[1;32mor\u001b[0m \u001b[0mpy\u001b[0m\u001b[1;33m==\u001b[0m\u001b[1;36m0\u001b[0m\u001b[1;33m:\u001b[0m\u001b[1;33m\u001b[0m\u001b[0m\n\u001b[0;32m     37\u001b[0m                 \u001b[0mpseudoI\u001b[0m \u001b[1;33m=\u001b[0m \u001b[1;36m0\u001b[0m\u001b[1;33m\u001b[0m\u001b[0m\n",
      "\u001b[1;31mIndexError\u001b[0m: list index out of range"
     ]
    }
   ],
   "source": [
    "### Subplots of all alleys for a cell - whole track\n",
    "rat = \"R781\"\n",
    "expCode = \"BRD3\"\n",
    "datafile = f'E:\\\\Ratterdam\\\\{rat}\\\\{rat}{expCode}\\\\'\n",
    "figurePath = f'E:\\\\Ratterdam\\\\{rat}\\\\mutual_information\\\\{expCode}\\\\'\n",
    "alleyTracking, alleyVisits,  txtVisits, p_sess, ts_sess = Parse.getDaysBehavioralData(datafile, expCode)\n",
    "population = {}\n",
    "allRealIs = {i:[] for i in Def.beltwayAlleys}\n",
    "stamp = util.genTimestamp()\n",
    "n=1000 # num shuffles\n",
    "for subdir, dirs, fs in os.walk(datafile):\n",
    "    for f in fs:\n",
    "        if 'cl-maze1' in f and 'OLD' not in f and 'Undefined' not in f:\n",
    "            clustname = subdir[subdir.index(\"TT\"):] + \"\\\\\" + f\n",
    "            unit = Core.UnitData(clustname, datafile, expCode, Def.alleyBounds, alleyVisits, txtVisits, p_sess, ts_sess)\n",
    "            unit.loadData_raw()\n",
    "            rm = util.makeRM(unit.spikes, unit.position)            \n",
    "            if np.nanpercentile(rm,Def.wholetrack_imshow_pct_cutoff) >= 1.:\n",
    "                print(clustname)\n",
    "\n",
    "\n",
    "                # Check how many alleys have some appreciable activity and adjust your Bonf. correction by that\n",
    "                validalleys = []\n",
    "                for a in Def.beltwayAlleys:\n",
    "                    valid = Filt.checkMinimumPassesActivity(unit, a)\n",
    "                    validalleys.append(valid)\n",
    "                multCompFactor = sum(validalleys) # we will adjust for multiple comparisons by considering the # alleys where there is \n",
    "                                                # appreciable activity (avg 1Hz overall) and therefore a valid test to even attempt\n",
    "                if multCompFactor >= 1:\n",
    "                    thresh = round((0.05/multCompFactor),2)*n\n",
    "\n",
    "\n",
    "#                     fig, ax = plt.subplots(3,3,figsize=(8,8))\n",
    "                    for i, alley in enumerate(Def.beltwayAlleys):\n",
    "#                         axis = fig.axes[i]\n",
    "                        if  validalleys[i] == True:\n",
    "                            stimulus_symbols = ['A','B','C']\n",
    "                            neural_symbols_set = createNeuralSymbols()\n",
    "                            converted_array = convertActivitytoSymbols(unit, alley)\n",
    "#                             neural_symbols_set = range(len(neural_symbols_set)) \n",
    "#                             realI = calculateMutualInformation(neural_symbols_set, converted_array, False)\n",
    "                            realI = calcMutualInformation_old(alley, shuffle=False)\n",
    "                            print(f\"{Def.beltwayAlleyLookup[alley]} MI: {realI}\")\n",
    "                            allRealIs[alley].append(realI)\n",
    "\n",
    "#                             nulls = []\n",
    "#                             for i in range(n):\n",
    "#                                 nullI = calculateMutualInformation(neural_symbols_set, converted_array, True)\n",
    "#                                 nulls.append(nullI)\n",
    "#                             axis.hist(nulls,50)\n",
    "#                             axis.vlines(realI,0,150,'r')\n",
    "#                             nulls = sorted(nulls)\n",
    "#                             axis.vlines(nulls[int(-1*thresh)],0,150,'grey')\n",
    "#                             axis.set_title(f\"Alley {Def.beltwayAlleyLookup[alley]}, {round(scipy.stats.percentileofscore(nulls,realI),2)}\")\n",
    "                        else:\n",
    "#                             axis.set_title(f\"Insufficient Activity Alley {Def.beltwayAlleyLookup[alley]}\")\n",
    "                            print(f\"{Def.beltwayAlleyLookup[alley]} not included in MI calc\")\n",
    "\n",
    "#                     plt.suptitle(f\"Whole Alley MI Unit {expCode} {unit.name}\")\n",
    "\n",
    "#                     plt.savefig(figurePath+f\"{stamp}_{unit.name}_alleyMI.png\", format='png',dpi=300)\n",
    "#                     plt.close()"
   ]
  },
  {
   "cell_type": "code",
   "execution_count": 981,
   "metadata": {
    "collapsed": true
   },
   "outputs": [],
   "source": [
    "neural_symbols_set = createNeuralSymbols()\n",
    "mm = np.nanmax(mat[:,0])\n",
    "a = np.digitize(mat[:,0], bins=[])\n",
    "\n",
    "mm = np.nanmax(mat[:,1])\n",
    "b = np.digitize(mat[:,1], bins=[])\n",
    "\n",
    "mm = np.nanmax(mat[:,2])\n",
    "c = np.digitize(mat[:,2], bins=[])\n",
    "converted_array = np.column_stack((a,b,c))"
   ]
  },
  {
   "cell_type": "code",
   "execution_count": 126,
   "metadata": {},
   "outputs": [
    {
     "data": {
      "text/plain": [
       "<matplotlib.collections.LineCollection at 0x2184f9fee48>"
      ]
     },
     "execution_count": 126,
     "metadata": {},
     "output_type": "execute_result"
    }
   ],
   "source": [
    "mi = calculateMutualInformation(neural_symbols_set, converted_array, False)\n",
    "nulls = []\n",
    "for i in range(1000):\n",
    "    n = calculateMutualInformation(neural_symbols_set, converted_array, True)\n",
    "    nulls.append(n)\n",
    "nulls = sorted(nulls)\n",
    "thresh = (0.05/3)*1000\n",
    "plt.hist(nulls,50)\n",
    "plt.vlines(mi,0,100,'r')\n",
    "plt.vlines(np.percentile(nulls[-1*int(thresh)],95),0, 100,'k')"
   ]
  },
  {
   "cell_type": "code",
   "execution_count": 242,
   "metadata": {},
   "outputs": [
    {
     "name": "stdout",
     "output_type": "stream",
     "text": [
      "1\n",
      "0.5633254510409311\n",
      "2\n",
      "0.9779586942468093\n",
      "3\n",
      "0.7264661592006296\n",
      "4\n",
      "0.7011207838442461\n",
      "5\n",
      "0.5634425677041557\n",
      "6\n",
      "0.8997345018097208\n",
      "7\n",
      "0.8176816642737454\n",
      "8\n",
      "0.9299434144670902\n",
      "9\n",
      "0.9238233682539165\n"
     ]
    }
   ],
   "source": [
    "validalleys = []\n",
    "for a in Def.beltwayAlleys:\n",
    "    valid = Filt.checkMinimumPassesActivity(unit, a)\n",
    "    validalleys.append(valid)\n",
    "\n",
    "for i, alley in enumerate(Def.beltwayAlleys):\n",
    "    print(f\"{Def.beltwayAlleyLookup[alley]}\")\n",
    "    if True:\n",
    "        stimulus_symbols = ['A','B','C']\n",
    "        neural_symbols_set = createNeuralSymbols()\n",
    "        converted_array = convertActivitytoSymbols(unit, alley)\n",
    "        neural_symbols_set = range(len(neural_symbols_set)) # this converts array of bin edges to array of bin idx\n",
    "        realI = calculateMutualInformation(neural_symbols_set, converted_array, False)\n",
    "#       realI = calcMutualInformation_old(alley, shuffle=False)\n",
    "        print(realI)\n",
    "    else:\n",
    "        print(f\"{Def.beltwayAlleyLookup[alley]} - insufficient activity\")"
   ]
  },
  {
   "cell_type": "code",
   "execution_count": 243,
   "metadata": {
    "collapsed": true
   },
   "outputs": [],
   "source": [
    "%qtconsole --style native"
   ]
  },
  {
   "cell_type": "code",
   "execution_count": null,
   "metadata": {
    "collapsed": true
   },
   "outputs": [],
   "source": []
  }
 ],
 "metadata": {
  "kernelspec": {
   "display_name": "Python 3",
   "language": "python",
   "name": "python3"
  },
  "language_info": {
   "codemirror_mode": {
    "name": "ipython",
    "version": 3
   },
   "file_extension": ".py",
   "mimetype": "text/x-python",
   "name": "python",
   "nbconvert_exporter": "python",
   "pygments_lexer": "ipython3",
   "version": "3.6.3"
  }
 },
 "nbformat": 4,
 "nbformat_minor": 2
}
