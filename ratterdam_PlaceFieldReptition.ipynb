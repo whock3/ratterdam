{
 "cells": [
  {
   "cell_type": "markdown",
   "metadata": {},
   "source": [
    "# Ratterdam Place Field Repetition\n",
    "## Notebook to analyze place field repetition phenomenology and the factors that drive it"
   ]
  },
  {
   "cell_type": "code",
   "execution_count": 1,
   "metadata": {
    "collapsed": true
   },
   "outputs": [],
   "source": [
    "import numpy as np, random, json, pickle, datetime, copy, socket, os, sys\n",
    "from scipy.stats import sem\n",
    "import matplotlib.colors as colors\n",
    "from importlib import reload\n",
    "import matplotlib.pyplot as plt\n",
    "from PIL import Image\n",
    "\n",
    "from matplotlib.patches import Polygon\n",
    "from matplotlib.collections import PatchCollection\n",
    "from matplotlib.widgets import Button\n",
    "\n",
    "if socket.gethostname() == 'Tolman':\n",
    "    codeDirBase = 'C:\\\\Users\\\\whockei1\\\\Google Drive'\n",
    "elif socket.gethostname() == 'DESKTOP-BECTOJ9':\n",
    "    codeDirBase = 'C:\\\\Users\\\\whock\\\\Google Drive'\n",
    "\n",
    "sys.path.insert(0, codeDirBase + '\\\\KnierimLab\\\\Ratterdam\\\\Code')\n",
    "sys.path.insert(0, codeDirBase + '\\\\Python_Code\\\\KLab\\\\mts_analysis')\n",
    "import utility_fx as util\n",
    "import ratterdam_ParseBehavior as pBehav\n",
    "import ratterdam_CoreDataStructures as core\n",
    "import ratterdam_PermutationTests as Perm\n",
    "import ratterdam_Directionality as Dir\n",
    "import ratterdam_visBasic as Vis\n",
    "from ratterdam_Defaults import *\n",
    "\n",
    "%qtconsole --style native"
   ]
  },
  {
   "cell_type": "code",
   "execution_count": 3,
   "metadata": {
    "collapsed": true
   },
   "outputs": [],
   "source": [
    "exp = \"RFD5\"\n",
    "dayCode = f\"R765{exp}\\\\\"\n",
    "figpath = f\"C:\\\\Users\\\\whockei1\\\\Google Drive\\\\KnierimLab\\\\Ratterdam\\\\Figures\\\\R765{exp}\\\\\"\n",
    "if socket.gethostname() == 'Tolman':\n",
    "    datafile = f\"E:\\\\Ratterdam\\\\R765\\\\R765{exp}\\\\\"\n",
    "elif socket.gethostname() == 'DESKTOP-BECTOJ9':\n",
    "    datafile = \"C:\\\\Users\\\\whock\\\\Google Drive\\\\KnierimLab\\\\Ratterdam\\\\Data\\\\R765_ephys\\\\R765RFD7\\\\\"\n",
    "behav = core.BehavioralData(datafile, exp, 1)\n",
    "ts, position, alleyTracking, alleyVisits,  txtVisits = behav.loadData()"
   ]
  },
  {
   "cell_type": "code",
   "execution_count": 4,
   "metadata": {},
   "outputs": [
    {
     "name": "stderr",
     "output_type": "stream",
     "text": [
      "C:\\Users\\whockei1\\Google Drive\\KnierimLab\\Ratterdam\\Code\\ratterdam_CoreDataStructures.py:139: RuntimeWarning: divide by zero encountered in reciprocal\n",
      "  n = (hs*np.reciprocal(ho))*33\n",
      "C:\\Users\\whockei1\\Google Drive\\KnierimLab\\Ratterdam\\Code\\ratterdam_CoreDataStructures.py:139: RuntimeWarning: invalid value encountered in multiply\n",
      "  n = (hs*np.reciprocal(ho))*33\n",
      "C:\\Users\\whockei1\\Google Drive\\KnierimLab\\Ratterdam\\Code\\ratterdam_CoreDataStructures.py:145: RuntimeWarning: divide by zero encountered in reciprocal\n",
      "  n = (ls* np.reciprocal(lo)) * 33\n",
      "C:\\Users\\whockei1\\Google Drive\\KnierimLab\\Ratterdam\\Code\\ratterdam_CoreDataStructures.py:145: RuntimeWarning: invalid value encountered in multiply\n",
      "  n = (ls* np.reciprocal(lo)) * 33\n",
      "C:\\Users\\whockei1\\Google Drive\\Python_Code\\KLab\\mts_analysis\\utility_fx.py:306: RuntimeWarning: invalid value encountered in multiply\n",
      "  W=0*U.copy()+1\n",
      "C:\\Users\\whockei1\\Google Drive\\Python_Code\\KLab\\mts_analysis\\utility_fx.py:310: RuntimeWarning: invalid value encountered in true_divide\n",
      "  Z=VV/WW\n"
     ]
    }
   ],
   "source": [
    "unit = core.UnitData(\"TT4\\\\cl-maze1.4\", datafile, exp, alleyBounds, alleyVisits, txtVisits, position, ts)\n",
    "unit.loadData_raw()"
   ]
  },
  {
   "cell_type": "code",
   "execution_count": 5,
   "metadata": {
    "collapsed": true
   },
   "outputs": [],
   "source": [
    "allAlleyVisits = []\n",
    "for alley,visitList in alleyVisits.items():\n",
    "    visits = [(alley+1,i, v[0], v[1]) for i,v in enumerate(visitList)]\n",
    "    allAlleyVisits.extend(visits)\n",
    "allAlleyVisits = sorted(allAlleyVisits, key = lambda x: x[2])"
   ]
  },
  {
   "cell_type": "code",
   "execution_count": 297,
   "metadata": {
    "collapsed": true
   },
   "outputs": [],
   "source": [
    "'''\n",
    "Routine to create subplots for each visit to an alley +/- some # seconds\n",
    "Spikes heat coded by their order, gives sense of where he entered. Could be better\n",
    "'''\n",
    "\n",
    "alley = 12\n",
    "tBefore, tAfter = [3e6]*2 # time in ms before/after visit to add to visit data\n",
    "numPlots = len(unit.alleys[alley])\n",
    "fig, axis = plt.subplots(int(np.ceil(numPlots/8)), 8)\n",
    "bounds = Dir.extractCorners(alleyBounds[alley-1])\n",
    "for vNum, visit in enumerate(unit.alleys[alley]):\n",
    "    ax = fig.axes[vNum]\n",
    "    start, end= alleyVisits[alley-1][vNum][0] - tBefore, alleyVisits[alley-1][vNum][1] + tAfter\n",
    "    \n",
    "    side = Dir.checkVisitEntrySide(visit['occs'], bounds)\n",
    "    \n",
    "    sTs = util.getTsinInverval(unit.spikes, start, end)\n",
    "    spikes = util.getPosFromTs(sTs[:,0],position)\n",
    "    \n",
    "    oTs = util.getTsinInverval(position, start, end)\n",
    "    occs = util.getPosFromTs(oTs[:,0],position)\n",
    "    \n",
    "    ratPlot.drawAlleyBounds(ax,alley)\n",
    "    \n",
    "    ax.scatter(spikes[:,0], spikes[:,1],c=range(spikes.shape[0]), s=25, alpha=0.4)\n",
    "    ax.plot(occs[:,0], occs[:,1])\n",
    "    ax.scatter(occs[-1,0], occs[-1,1], marker='^')\n",
    "    \n",
    "    if side == 'NE':\n",
    "        ax.scatter(alleyBounds[alley-1][0][0], alleyBounds[alley-1][1][1], c='g',s=100,marker='^')\n",
    "    elif side == 'SW':\n",
    "        ax.scatter(alleyBounds[alley-1][0][0], alleyBounds[alley-1][1][0], c='g',s=100,marker='^')\n",
    "        \n",
    "\n",
    "    \n",
    "    extend = 40\n",
    "    ax.set_xlim([alleyBounds[alley-1][0][0]-extend, alleyBounds[alley-1][0][1]+extend])\n",
    "    ax.set_ylim([alleyBounds[alley-1][1][0]-extend, alleyBounds[alley-1][1][1]+extend])"
   ]
  },
  {
   "cell_type": "code",
   "execution_count": 6,
   "metadata": {
    "collapsed": true
   },
   "outputs": [],
   "source": [
    "def getPreviousAlley(alley, visitNum):\n",
    "    currVisitIdx = [i for i,x in enumerate(allAlleyVisits) if x[0] == alley and x[1] == visitNum][0]\n",
    "    prevAlley = allAlleyVisits[currVisitIdx-1][0]\n",
    "    return prevAlley"
   ]
  },
  {
   "cell_type": "code",
   "execution_count": 7,
   "metadata": {
    "collapsed": true
   },
   "outputs": [],
   "source": [
    "def getNextAlley(alley, visitNum):\n",
    "    currVisitIdx = [i for i,x in enumerate(allAlleyVisits) if x[0] == alley and x[1] == visitNum][0]\n",
    "    nextAlley = allAlleyVisits[currVisitIdx+1][0]\n",
    "    return nextAlley"
   ]
  },
  {
   "cell_type": "code",
   "execution_count": 378,
   "metadata": {
    "collapsed": true
   },
   "outputs": [],
   "source": [
    "\"\"\"\n",
    "Turn into alley\n",
    "\"\"\"\n",
    "turnType = \"Retrospective\"\n",
    "alley = 10\n",
    "rms = {side:{turn:np.empty((0,30)) for turn in ['left', 'right']} for side in ['NE', 'SW']}\n",
    "idx  = {side:{turn:[] for turn in ['left', 'right']} for side in ['NE', 'SW']}\n",
    "sideMarkers = []\n",
    "\n",
    "bounds = Dir.extractCorners(alleyBounds[alley-1])\n",
    "for vNum, visit in enumerate(unit.alleys[alley]):\n",
    "\n",
    "    side = Dir.checkVisitEntrySide(visit['occs'], bounds)\n",
    "    \n",
    "    prevAlley = getPreviousAlley(alley, vNum) #returns an alley\n",
    "    \n",
    "    if side == 'NE':\n",
    "        sideMarkers.append(\"g\")\n",
    "        if alleyBounds[prevAlley-1][0][0] < alleyBounds[alley-1][0][0]:\n",
    "            turn = 'right'\n",
    "        else:\n",
    "            turn = 'left'\n",
    "            \n",
    "    elif side == 'SW':\n",
    "        sideMarkers.append(\"r\")\n",
    "        if alleyBounds[prevAlley-1][0][0] < alleyBounds[alley-1][0][0]:\n",
    "            turn = 'left'\n",
    "        else:\n",
    "            turn = 'right'\n",
    "            \n",
    "    rms[side][turn] = np.vstack((rms[side][turn], unit.alleys[alley][vNum]['ratemap1d']))\n",
    "    idx[side][turn].append(vNum)\n",
    "    \n",
    "    \n",
    "    "
   ]
  },
  {
   "cell_type": "code",
   "execution_count": 373,
   "metadata": {
    "collapsed": true
   },
   "outputs": [],
   "source": [
    "\"\"\"\n",
    "Based on turn out of alley \n",
    "\"\"\"\n",
    "turnType = \"Prospective\"\n",
    "alley = 10\n",
    "rms = {side:{turn:np.empty((0,30)) for turn in ['left', 'right']} for side in ['NE', 'SW']}\n",
    "idx  = {side:{turn:[] for turn in ['left', 'right']} for side in ['NE', 'SW']}\n",
    "sideMarkers = []\n",
    "\n",
    "bounds = Dir.extractCorners(alleyBounds[alley-1])\n",
    "for vNum, visit in enumerate(unit.alleys[alley]):\n",
    "\n",
    "    side = Dir.checkVisitEntrySide(visit['occs'], bounds)\n",
    "    \n",
    "    if vNum < len(unit.alleys[alley])-1:\n",
    "    \n",
    "        nextAlley = getNextAlley(alley, vNum) #returns an alley\n",
    "\n",
    "        if side == 'NE':\n",
    "            sideMarkers.append(\"g\")\n",
    "            if alleyBounds[nextAlley-1][0][0] > alleyBounds[alley-1][0][0]:\n",
    "                turn = 'right'\n",
    "            else:\n",
    "                turn = 'left'\n",
    "\n",
    "        elif side == 'SW':\n",
    "            sideMarkers.append(\"r\")\n",
    "            if alleyBounds[nextAlley-1][0][0] > alleyBounds[alley-1][0][0]:\n",
    "                turn = 'left'\n",
    "            else:\n",
    "                turn = 'right'\n",
    "\n",
    "        rms[side][turn] = np.vstack((rms[side][turn], unit.alleys[alley][vNum]['ratemap1d']))\n",
    "        idx[side][turn].append(vNum)\n",
    "    \n",
    "    \n",
    "    "
   ]
  },
  {
   "cell_type": "code",
   "execution_count": 379,
   "metadata": {},
   "outputs": [
    {
     "data": {
      "text/plain": [
       "Text(0.5,0.98,'Retrospective 10')"
      ]
     },
     "execution_count": 379,
     "metadata": {},
     "output_type": "execute_result"
    }
   ],
   "source": [
    "fig, ax = plt.subplots(2,2)\n",
    "\n",
    "# get the common max for imshow\n",
    "allmats = np.empty((0,30))\n",
    "for side in ['NE', 'SW']:\n",
    "    for turn in ['left', 'right']:\n",
    "        allmats = np.vstack((allmats, rms[side][turn]))\n",
    "mymax = util.calcSmartMax(allmats, cutoff=0.97, scale=2, bins=100)\n",
    "\n",
    "i=0\n",
    "for side in ['NE', 'SW']:\n",
    "    for turn in ['left', 'right']:\n",
    "        fig.axes[i].imshow(rms[side][turn], vmax=mymax, cmap=mycmap, interpolation='None', aspect='auto')\n",
    "        fig.axes[i].set_title(f\"{side} {turn}\")\n",
    "        fig.axes[i].set_yticks(range(len(idx[side][turn])))\n",
    "        fig.axes[i].set_yticklabels(idx[side][turn])\n",
    "        \n",
    "        i+=1\n",
    "plt.suptitle(f\"{turnType} {alley}\")"
   ]
  },
  {
   "cell_type": "code",
   "execution_count": 338,
   "metadata": {},
   "outputs": [
    {
     "data": {
      "text/plain": [
       "Text(0.5,1,'Retrospective 12')"
      ]
     },
     "execution_count": 338,
     "metadata": {},
     "output_type": "execute_result"
    }
   ],
   "source": [
    "plt.figure()\n",
    "styleDict = {'NE':{'left':[\"b\",\"--\"], \"right\":[\"b\", \"-\"]}, \"SW\":{\"left\":[\"r\",\"--\"], \"right\":[\"r\", \"-\"]}}\n",
    "for side in [\"NE\", \"SW\"]:\n",
    "    for turn in [\"left\", \"right\"]:\n",
    "        avg = np.nanmean(rms[side][turn], axis=0)\n",
    "        err = sem(rms[side][turn], axis=0, nan_policy=\"omit\")\n",
    "        plt.plot(avg,color=styleDict[side][turn][0], linestyle=styleDict[side][turn][1])\n",
    "        plt.fill_between(range(len(avg)), avg-err, avg+err, color=styleDict[side][turn][0], alpha=0.5)\n",
    "plt.legend([\"NE left\", \"NE right\", \"SW left\", \"SW right\"], fontsize=24)\n",
    "plt.title(f\"{turnType} {alley}\")"
   ]
  },
  {
   "cell_type": "markdown",
   "metadata": {},
   "source": [
    "### Live animation of activity"
   ]
  },
  {
   "cell_type": "code",
   "execution_count": 2,
   "metadata": {
    "collapsed": true
   },
   "outputs": [],
   "source": [
    "ratPlot = Vis.BasicRateMaps()"
   ]
  },
  {
   "cell_type": "code",
   "execution_count": 28,
   "metadata": {
    "collapsed": true
   },
   "outputs": [],
   "source": [
    "def plot_all_alleyBounds(ax):\n",
    "    for alley in range(1,18):\n",
    "        ratPlot.drawAlleyBounds(ax, alley)"
   ]
  },
  {
   "cell_type": "code",
   "execution_count": 28,
   "metadata": {
    "collapsed": true
   },
   "outputs": [],
   "source": [
    "class RatterdamAnimation():\n",
    "    \n",
    "    def __init__(self, vfile):\n",
    "        self.fig, self.ax = plt.subplots()\n",
    "        #self.start_time = position[0,0]\n",
    "        self.start_time = 1907446288746\n",
    "        self.increment_time = 5e6 # size of window\n",
    "        self.offset_time = 1e6 # size of slide\n",
    "        self.current_epoch_time = self.start_time # this refers to timestamp of the beginning of the currently plotted period of activity\n",
    "        self.animation_finished = False\n",
    "        self.paused = False\n",
    "        self.cap = cv2.VideoCapture(vfile)        \n",
    "    \n",
    "        \n",
    "    def forward(self, event):\n",
    "        self.current_epoch_time += 5e6\n",
    "        \n",
    "    def prev(self, event):\n",
    "        self.current_epoch_time -= 5e6\n",
    "        \n",
    "    def myprint(self, event):\n",
    "        print(self.current_epoch_time)\n",
    "        \n",
    "    def pause(self, event):\n",
    "        if self.paused == True:\n",
    "            self.paused = False\n",
    "        else:\n",
    "            self.paused = True\n",
    "            \n",
    "    def parseSMIFile(self):\n",
    "        \"\"\"\n",
    "        SMI file is generic (i.e. used beyond NL) type to store subtitles\n",
    "        Neuralynx stores the NL ts of a video frame as subtitles\n",
    "        So extract them into a np array\n",
    "        \"\"\"\n",
    "        with open(datafile+\"VT1.smi\",\"r\") as file:\n",
    "            lines = file.readlines()\n",
    "        tsLines = [line for line in lines if 'SYNC' in line] # SYNC tag being the unique one for ts data AFAIK\n",
    "        pattern = re.compile(\"<.*?>\")\n",
    "        NLts = [int(re.sub(pattern,'',entry).strip()) for entry in tsLines]\n",
    "        self.NLts = np.array(NLts)\n",
    "        \n",
    "            \n",
    "    def getCurrentVideoFrame(self):\n",
    "        start, end = self.current_epoch_time, self.current_epoch_time + self.increment_time\n",
    "        idx, = np.where(np.logical_and(self.NLts > start, self.NLts < end))\n",
    "        self.cap.set(1, idx[-1])\n",
    "        ret, frame = self.cap.read()\n",
    "        frame = np.flip(frame, axis=1)\n",
    "        pic = Image.fromarray(frame)\n",
    "        pic.thumbnail((640,480))\n",
    "        frame = np.asarray(pic)\n",
    "        return frame\n",
    "        \n",
    "            \n",
    "    def visualizeSession_scatter(self):\n",
    "        \n",
    "        self.parseSMIFile()\n",
    "        \n",
    "        while not self.animation_finished:\n",
    "\n",
    "\n",
    "                    self.ax.set_xlim([0,640])\n",
    "                    self.ax.set_ylim([0,480])\n",
    "\n",
    "                    #plot_all_alleyBounds(self.ax)\n",
    "\n",
    "#                     occs = util.getTsinInverval(position, self.current_epoch_time, self.current_epoch_time + self.increment_time)\n",
    "#                     occs = util.getPosFromTs(occs[:,0], position)\n",
    "\n",
    "#                     spikes = util.getTsinInverval(unit.spikes, self.current_epoch_time, self.current_epoch_time + self.increment_time)\n",
    "#                     spikes = util.getPosFromTs(spikes[:,0], position)\n",
    "\n",
    "#                     self.ax.plot(occs[:,0], occs[:,1], color='k', alpha=0.7)\n",
    "#                     self.ax.scatter(spikes[:,0], spikes[:,1],s=56,c='r',alpha=0.7)\n",
    "#                     self.ax.set_title(self.current_epoch_time,fontsize=24)\n",
    "                    \n",
    "                    frame = self.getCurrentVideoFrame()\n",
    "                    self.ax.imshow(frame[:,:,2],origin='upper')\n",
    "                    if not self.paused:\n",
    "                        self.current_epoch_time = self.current_epoch_time + self.offset_time\n",
    "\n",
    "                    if self.current_epoch_time > 1907952676606: #position[-1,0]:\n",
    "                        self.animation_finished = True\n",
    "\n",
    "                    plt.pause(0.1)\n",
    "                    self.ax.clear()\n",
    "                    \n",
    "    def visualizeSession_rm(self):\n",
    "        while not self.animation_finished:  \n",
    "            if not self.paused:\n",
    "                self.ax.set_xlim([0,640])\n",
    "                self.ax.set_ylim([0,480])\n",
    "    \n",
    "                plot_all_alleyBounds(self.ax)\n",
    "\n",
    "                occs = util.getTsinInverval(position, self.current_epoch_time, self.current_epoch_time + self.increment_time)\n",
    "                occs = util.getPosFromTs(occs[:,0], position)\n",
    "\n",
    "                spikes = util.getTsinInverval(unit.spikes, self.current_epoch_time, self.current_epoch_time + self.increment_time)\n",
    "                spikes = util.getPosFromTs(spikes[:,0], position)\n",
    "\n",
    "                self.ax.plot(occs[:,0], occs[:,1], color='k', alpha=0.7)\n",
    "                self.ax.scatter(spikes[:,0], spikes[:,1],s=56,c='r',alpha=0.7)\n",
    "                self.ax.set_title(self.current_epoch_time,fontsize=24)\n",
    "\n",
    "                self.current_epoch_time = self.current_epoch_time + self.offset_time\n",
    "\n",
    "                if self.current_epoch_time > position[-1,0]:\n",
    "                    self.animation_finished = True\n",
    "\n",
    "                plt.pause(0.05)\n",
    "                self.ax.clear()\n",
    "                \n",
    "    \n",
    "    def run(self):\n",
    "        \n",
    "        \n",
    "        self.axpause = self.fig.add_axes([0.48, 0.05, 0.1, 0.075])\n",
    "        bpause = Button(self.axpause, \"Pause\")\n",
    "        bpause.on_clicked(self.pause)\n",
    "        \n",
    "        self.axstore = self.fig.add_axes([0.59, 0.05, 0.1, 0.075])\n",
    "        bstore = Button(self.axstore, \"Print\")\n",
    "        bstore.on_clicked(self.myprint)\n",
    "        \n",
    "        self.axnext = self.fig.add_axes([0.81, 0.05, 0.1, 0.075])\n",
    "        bnext = Button(self.axnext, 'Next')\n",
    "        bnext.on_clicked(self.forward)\n",
    "        \n",
    "        self.axprev = self.fig.add_axes([0.7, 0.05, 0.1, 0.075])\n",
    "        bprev = Button(self.axprev, 'Prev')\n",
    "        bprev.on_clicked(self.prev)\n",
    "\n",
    "        self.visualizeSession_scatter()\n",
    "\n",
    "    \n",
    "    "
   ]
  },
  {
   "cell_type": "code",
   "execution_count": 29,
   "metadata": {},
   "outputs": [
    {
     "ename": "NameError",
     "evalue": "name 'time' is not defined",
     "output_type": "error",
     "traceback": [
      "\u001b[1;31m---------------------------------------------------------------------------\u001b[0m",
      "\u001b[1;31mNameError\u001b[0m                                 Traceback (most recent call last)",
      "\u001b[1;32m<ipython-input-29-ed7d8ac2559d>\u001b[0m in \u001b[0;36m<module>\u001b[1;34m()\u001b[0m\n\u001b[0;32m      1\u001b[0m \u001b[0mrattAm\u001b[0m \u001b[1;33m=\u001b[0m \u001b[0mRatterdamAnimation\u001b[0m\u001b[1;33m(\u001b[0m\u001b[0mdatafile\u001b[0m\u001b[1;33m+\u001b[0m\u001b[1;34m\"VT1.mpg\"\u001b[0m\u001b[1;33m)\u001b[0m\u001b[1;33m\u001b[0m\u001b[0m\n\u001b[1;32m----> 2\u001b[1;33m \u001b[0mrattAm\u001b[0m\u001b[1;33m.\u001b[0m\u001b[0mrun\u001b[0m\u001b[1;33m(\u001b[0m\u001b[1;33m)\u001b[0m\u001b[1;33m\u001b[0m\u001b[0m\n\u001b[0m",
      "\u001b[1;32m<ipython-input-28-71171597a64a>\u001b[0m in \u001b[0;36mrun\u001b[1;34m(self)\u001b[0m\n\u001b[0;32m    133\u001b[0m         \u001b[0mbprev\u001b[0m\u001b[1;33m.\u001b[0m\u001b[0mon_clicked\u001b[0m\u001b[1;33m(\u001b[0m\u001b[0mself\u001b[0m\u001b[1;33m.\u001b[0m\u001b[0mprev\u001b[0m\u001b[1;33m)\u001b[0m\u001b[1;33m\u001b[0m\u001b[0m\n\u001b[0;32m    134\u001b[0m \u001b[1;33m\u001b[0m\u001b[0m\n\u001b[1;32m--> 135\u001b[1;33m         \u001b[0mself\u001b[0m\u001b[1;33m.\u001b[0m\u001b[0mvisualizeSession_scatter\u001b[0m\u001b[1;33m(\u001b[0m\u001b[1;33m)\u001b[0m\u001b[1;33m\u001b[0m\u001b[0m\n\u001b[0m\u001b[0;32m    136\u001b[0m \u001b[1;33m\u001b[0m\u001b[0m\n\u001b[0;32m    137\u001b[0m \u001b[1;33m\u001b[0m\u001b[0m\n",
      "\u001b[1;32m<ipython-input-28-71171597a64a>\u001b[0m in \u001b[0;36mvisualizeSession_scatter\u001b[1;34m(self)\u001b[0m\n\u001b[0;32m     84\u001b[0m                         \u001b[0mself\u001b[0m\u001b[1;33m.\u001b[0m\u001b[0manimation_finished\u001b[0m \u001b[1;33m=\u001b[0m \u001b[1;32mTrue\u001b[0m\u001b[1;33m\u001b[0m\u001b[0m\n\u001b[0;32m     85\u001b[0m \u001b[1;33m\u001b[0m\u001b[0m\n\u001b[1;32m---> 86\u001b[1;33m                     \u001b[0mplt\u001b[0m\u001b[1;33m.\u001b[0m\u001b[0mpause\u001b[0m\u001b[1;33m(\u001b[0m\u001b[1;36m0.1\u001b[0m\u001b[1;33m)\u001b[0m\u001b[1;33m\u001b[0m\u001b[0m\n\u001b[0m\u001b[0;32m     87\u001b[0m                     \u001b[0mself\u001b[0m\u001b[1;33m.\u001b[0m\u001b[0max\u001b[0m\u001b[1;33m.\u001b[0m\u001b[0mclear\u001b[0m\u001b[1;33m(\u001b[0m\u001b[1;33m)\u001b[0m\u001b[1;33m\u001b[0m\u001b[0m\n\u001b[0;32m     88\u001b[0m \u001b[1;33m\u001b[0m\u001b[0m\n",
      "\u001b[1;32m~\\AppData\\Local\\Continuum\\anaconda3\\lib\\site-packages\\matplotlib\\pyplot.py\u001b[0m in \u001b[0;36mpause\u001b[1;34m(interval)\u001b[0m\n\u001b[0;32m    292\u001b[0m         \u001b[0mcanvas\u001b[0m\u001b[1;33m.\u001b[0m\u001b[0mstart_event_loop\u001b[0m\u001b[1;33m(\u001b[0m\u001b[0minterval\u001b[0m\u001b[1;33m)\u001b[0m\u001b[1;33m\u001b[0m\u001b[0m\n\u001b[0;32m    293\u001b[0m     \u001b[1;32melse\u001b[0m\u001b[1;33m:\u001b[0m\u001b[1;33m\u001b[0m\u001b[0m\n\u001b[1;32m--> 294\u001b[1;33m         \u001b[0mtime\u001b[0m\u001b[1;33m.\u001b[0m\u001b[0msleep\u001b[0m\u001b[1;33m(\u001b[0m\u001b[0minterval\u001b[0m\u001b[1;33m)\u001b[0m\u001b[1;33m\u001b[0m\u001b[0m\n\u001b[0m\u001b[0;32m    295\u001b[0m \u001b[1;33m\u001b[0m\u001b[0m\n\u001b[0;32m    296\u001b[0m \u001b[1;33m\u001b[0m\u001b[0m\n",
      "\u001b[1;31mNameError\u001b[0m: name 'time' is not defined"
     ]
    }
   ],
   "source": [
    "rattAm = RatterdamAnimation(datafile+\"VT1.mpg\")\n",
    "rattAm.run()"
   ]
  },
  {
   "cell_type": "code",
   "execution_count": 41,
   "metadata": {
    "collapsed": true
   },
   "outputs": [],
   "source": [
    "#Parse .SMI file - subtitles of NL ts on video frames\n",
    "with open(datafile+\"VT1.smi\",\"r\") as file:\n",
    "    lines = file.readlines()\n",
    "tsLines = [line for line in lines if 'SYNC' in line] # SYNC tag being the unique one for NL ts data AFAIK\n",
    "pattern = re.compile(\"<.*?>\")\n",
    "NLts = [int(re.sub(pattern,'',entry).strip()) for entry in tsLines]\n",
    "NLts = np.array(NLts)"
   ]
  },
  {
   "cell_type": "markdown",
   "metadata": {
    "collapsed": true
   },
   "source": [
    "## Reverse Correlation and related analyses\n",
    "Idea is to look at all behaviors that precede/follow a given level of activity and see if some common behavioral feature explains firing.\n",
    "Based on spike-triggered averaging ideas"
   ]
  },
  {
   "cell_type": "code",
   "execution_count": null,
   "metadata": {
    "collapsed": true
   },
   "outputs": [],
   "source": [
    "def read_pos(datafile):\n",
    "    '''open pos.p.ascii and parse into {ts:[x,y,dir]} '''\n",
    "    posfile = datafile + 'Pos.p.ascii'\n",
    "    with open(posfile) as posP:\n",
    "        raw_position_data = posP.read().splitlines()\n",
    "        on_data = posP.read().splitlines()\n",
    "    position_data = {}\n",
    "    for line in raw_position_data[25:]:\n",
    "      data = [float(a) for a in line.split(',')]\n",
    "      position_data[data[0]] = data[1:]\n",
    "    return position_data"
   ]
  },
  {
   "cell_type": "code",
   "execution_count": 8,
   "metadata": {
    "collapsed": true
   },
   "outputs": [],
   "source": [
    "def computeTrialTrajectories(region, extent=2e6):\n",
    "\n",
    "    allSpikes = {'Ahead':[], 'Behind':[], 'Full':[]}\n",
    "    allPos = {'Ahead':[], 'Behind':[], 'Full':[]}\n",
    "\n",
    "    for lookType, tBefore, tAfter in zip([\"Ahead\",\"Behind\",\"Full\"], [0, extent, extent], [extent, 0, extent]):\n",
    "\n",
    "        if type(region) == int:\n",
    "            visitLen = len(unit.alleys[region])\n",
    "        elif type(region) == str:\n",
    "            visitLen = len(intersectionVisits[region])\n",
    "            \n",
    "        for vNum in range(visitLen):\n",
    "            \n",
    "            if type(region) == int:\n",
    "                start, end= alleyVisits[region-1][vNum][0] - tBefore, alleyVisits[region-1][vNum][1] + tAfter\n",
    "            elif type(region) == str:\n",
    "                start, end= intersectionVisits[region][vNum][0] - tBefore, intersectionVisits[region][vNum][1] + tAfter\n",
    "\n",
    "            sTs = util.getTsinInverval(unit.spikes, start, end)\n",
    "            spikes = util.getPosFromTs(sTs[:,0],position)\n",
    "\n",
    "            oTs = util.getTsinInverval(position, start, end)\n",
    "            occs = util.getPosFromTs(oTs[:,0],position)\n",
    "\n",
    "            spkNum = spikes.shape[0]\n",
    "\n",
    "            allSpikes[lookType].append((spkNum/occs.shape[0])*30)\n",
    "            allPos[lookType].append(occs)\n",
    "            \n",
    "    return allSpikes, allPos"
   ]
  },
  {
   "cell_type": "code",
   "execution_count": 31,
   "metadata": {
    "collapsed": true
   },
   "outputs": [],
   "source": [
    "for a in [2,13,9,7,11,5]:\n",
    "    region = a\n",
    "    extent = 2e6 # time in ms to look either ahead or behind\n",
    "    allSpikes = {'Ahead':[], 'Behind':[], 'Full':[]}\n",
    "    allPos = {'Ahead':[], 'Behind':[], 'Full':[]}\n",
    "    fig, Axis = plt.subplots(1,3, figsize=(10,6))\n",
    "\n",
    "    for lookType, ax, tBefore, tAfter in zip([\"Ahead\",\"Behind\",\"Full\"], fig.axes, [0, extent, extent], [extent, 0, extent]):\n",
    "\n",
    "        if type(region) == int:\n",
    "            visitLen = len(unit.alleys[region])\n",
    "        elif type(region) == str:\n",
    "            visitLen = len(intersectionVisits[region])\n",
    "            \n",
    "        for vNum in range(visitLen):\n",
    "            \n",
    "            if type(region) == int:\n",
    "                start, end = alleyVisits[region-1][vNum][0] - tBefore, alleyVisits[region-1][vNum][1] + tAfter\n",
    "            elif type(region) == str:\n",
    "                start, end = intersectionVisits[region][vNum][0] - tBefore, intersectionVisits[region][vNum][1] + tAfter\n",
    "\n",
    "            sTs = util.getTsinInverval(unit.spikes, start, end)\n",
    "            spikes = util.getPosFromTs(sTs[:,0],position)\n",
    "\n",
    "            oTs = util.getTsinInverval(position, start, end)\n",
    "            occs = util.getPosFromTs(oTs[:,0],position)\n",
    "\n",
    "            spkNum = spikes.shape[0]\n",
    "\n",
    "            #so its rate not spikes. \n",
    "            allSpikes[lookType].append((spkNum/occs.shape[0])*30)\n",
    "            allPos[lookType].append(occs)\n",
    "\n",
    "    _max = max(allSpikes['Ahead']+allSpikes['Behind']+allSpikes['Full'])\n",
    "    _min = min(allSpikes['Ahead']+allSpikes['Behind']+allSpikes['Full'])\n",
    "    \n",
    "        \n",
    "    for i, lookType in enumerate([\"Ahead\", \"Behind\", \"Full\"]):\n",
    "        \n",
    "        allSpikes[lookType] = [mynorm(x,_min, _max) for x in allSpikes[lookType]]\n",
    "        ax = fig.axes[i]\n",
    "        \n",
    "        #note spkNum is now rate as of 1/12/19 so these names should be changed\n",
    "        for spkNum, visit in zip(allSpikes[lookType], allPos[lookType]): \n",
    "            if spkNum > 0.0*max(allSpikes[lookType]):\n",
    "                ax.plot(visit[:,0], visit[:,1],c=mymap(spkNum), alpha=0.6, linestyle='-')\n",
    "                ax.scatter(visit[-1,0], visit[-1,1], marker='^',color=mymap(spkNum),alpha=0.6)\n",
    "                ax.scatter(visit[0,0], visit[0,1], marker='o',color=mymap(spkNum),alpha=0.6)\n",
    "            \n",
    "            #TODO - make drawAlleyBounds work on ints. i have code in other notebook. \n",
    "            if type(region) == int:\n",
    "                ratPlot.drawAlleyBounds(ax, region)\n",
    "\n",
    "            ax.set_title(lookType)\n",
    "                \n",
    "    plt.suptitle(f\"Region {region}, Look dur: {extent/1e6}s, max Rate: {round(_max,2)}, velc thresh: {velocity_filter_thresh}\")"
   ]
  },
  {
   "cell_type": "code",
   "execution_count": 12,
   "metadata": {
    "collapsed": true
   },
   "outputs": [],
   "source": [
    "def mynorm(x,_min,_max):\n",
    "    return (x-_min)/(_max-_min)"
   ]
  },
  {
   "cell_type": "code",
   "execution_count": 148,
   "metadata": {
    "collapsed": true
   },
   "outputs": [],
   "source": [
    "from matplotlib.patches import Polygon\n",
    "from matplotlib.collections import PatchCollection\n",
    "from matplotlib import path\n",
    "\n",
    "intersectionList = ['A', 'B', 'C', 'D', 'E', 'F', 'G', 'H', 'I', 'J', 'K', 'L']\n",
    "intersectionTracking = {i:np.empty((0,3)) for i in intersectionList}\n",
    "for intersection in intersectionList:\n",
    "    p = path.Path(intersectionBounds[intersection])\n",
    "    inOrNot = p.contains_points(position[:,1:])\n",
    "    intersectionTracking[intersection] = position[inOrNot]"
   ]
  },
  {
   "cell_type": "code",
   "execution_count": 149,
   "metadata": {
    "collapsed": true
   },
   "outputs": [],
   "source": [
    "intersectionVisits = {i:[] for i in ['A','B','C','D','E','F','G','H','I','J','K','L']} # each list will contain ts corresponding to time of alley visit beginning\n",
    "for intersection,timestamps in intersectionTracking.items():\n",
    "    vts = pBehav.getVisits(timestamps[:,0],default_visit_gap)\n",
    "    vts = [i for i in vts if len(i)>1]\n",
    "    vts = [i for i in vts if (i[-1]-i[0])>default_visit_duration]\n",
    "    visitTs = [(i[0], i[-1]) for i in vts] # vts returns list of list, each of which is all ts in a group. So first ts is the first ts of a visit, grab it\n",
    "    intersectionVisits[intersection] = visitTs"
   ]
  },
  {
   "cell_type": "code",
   "execution_count": 197,
   "metadata": {
    "collapsed": true
   },
   "outputs": [],
   "source": [
    "# each visit, sep plot\n",
    "alley = 12\n",
    "allSpikes, allPos = computeTrialTrajectories(alley)\n",
    "extend = 100\n",
    "numPlots = len(allSpikes['Full'])\n",
    "fig, axis = plt.subplots(int(np.ceil(numPlots/8)), 8)\n",
    "bounds = Dir.extractCorners(alleyBounds[alley-1])\n",
    "\n",
    "_max = max(allSpikes['Full'])\n",
    "_min = min(allSpikes['Full'])\n",
    "        \n",
    "allSpikes['Full'] = [mynorm(x,_min, _max) for x in allSpikes['Full']]\n",
    "\n",
    "for i,(spkNum, visit) in enumerate(zip(allSpikes['Full'], allPos['Full'])):\n",
    "    ax = fig.axes[i]\n",
    "    ax.plot(visit[:,0], visit[:,1],c=mymap(spkNum), alpha=0.5, linestyle='-')\n",
    "    ax.scatter(visit[-1,0], visit[-1,1], marker='^',color=mymap(spkNum),alpha=0.6)\n",
    "    ax.scatter(visit[0,0], visit[0,1], marker='o',color=mymap(spkNum),alpha=0.6)\n",
    "    ax.set_xlim([alleyBounds[alley-1][0][0]-extend, alleyBounds[alley-1][0][1]+extend])\n",
    "    ax.set_ylim([alleyBounds[alley-1][1][0]-extend, alleyBounds[alley-1][1][1]+extend])\n",
    "\n",
    "    ratPlot.drawAlleyBounds(ax, alley)\n",
    "    \n",
    "plt.suptitle(f\"{alley}\")\n",
    "plt.subplots_adjust(top=0.92, bottom=0.08, left=0.10, right=0.95, hspace=0.0,\n",
    "                    wspace=0.0)\n",
    "\n",
    "for ax in fig.axes:\n",
    "    ax.set_yticklabels([])\n",
    "    ax.set_xticklabels([])\n",
    "    ax.xaxis.set_ticks_position('none') \n",
    "    ax.yaxis.set_ticks_position('none') \n",
    "\n",
    "    for spine in ['top', 'right', 'bottom', 'left']:\n",
    "        ax.spines[spine].set_visible(False)\n"
   ]
  },
  {
   "cell_type": "code",
   "execution_count": 61,
   "metadata": {
    "collapsed": true
   },
   "outputs": [],
   "source": [
    "#active alleys"
   ]
  },
  {
   "cell_type": "code",
   "execution_count": 32,
   "metadata": {
    "collapsed": true
   },
   "outputs": [],
   "source": [
    "alleys = [5,7,11,13,2,9]\n",
    "\n",
    "allSpikeDict = {a:[] for a in alleys}\n",
    "allPosDict = {a:[] for a in alleys}\n",
    "for a in alleys:\n",
    "    allSpike, allPos = computeTrialTrajectories(a)\n",
    "    allSpikeDict[a] = allSpike\n",
    "    allPosDict[a] = allPos\n",
    "\n",
    "spike_thresh = 0.2#percent max\n",
    "activeTrials = []\n",
    "allTrials = []\n",
    "for (alley,vnum,tstart,tend) in allAlleyVisits:\n",
    "    if alley in alleys:\n",
    "        allTrials.append((tstart, alley, allSpikeDict[alley]['Full'][vnum], allPosDict[alley]['Full'][vnum]))\n",
    "        if allSpikeDict[alley]['Full'][vnum] >= spike_thresh*max(allSpikeDict[alley]['Full']):\n",
    "            activeTrials.append((tstart, alley, allSpikeDict[alley]['Full'][vnum], allPosDict[alley]['Full'][vnum]))"
   ]
  },
  {
   "cell_type": "code",
   "execution_count": 71,
   "metadata": {},
   "outputs": [
    {
     "data": {
      "text/plain": [
       "<matplotlib.legend.Legend at 0x24f55858f98>"
      ]
     },
     "execution_count": 71,
     "metadata": {},
     "output_type": "execute_result"
    }
   ],
   "source": [
    "linT = {a:[[],[]] for a in alleys}\n",
    "linTall = {a:[[],[]] for a in alleys}\n",
    "for a in alleys:\n",
    "    for (time, alley, spk, occ) in activeTrials:\n",
    "        if alley == a:\n",
    "            linT[a][0].append(time)\n",
    "            linT[a][1].append(spk)     \n",
    "            \n",
    "    for (time, alley, spk, occ) in allTrials:\n",
    "        if alley == a:\n",
    "            linTall[a][0].append(time)\n",
    "            linTall[a][1].append(spk)\n",
    "            \n",
    "for a in alleys:\n",
    "    #plt.plot(linT[a][0],util.weird_smooth(np.asarray(linT[a][1]),2),marker='.', label=f\"{a}+\", linewidth=2)\n",
    "    if a in [13,9,2]:\n",
    "        alpha=1.0\n",
    "    else:\n",
    "        alpha=0.4\n",
    "    plt.plot(linTall[a][0],util.weird_smooth(np.asarray(linTall[a][1]),2),alpha=alpha, marker='.', label=f\"{a}\")\n",
    "\n",
    "plt.legend(fontsize=24)"
   ]
  },
  {
   "cell_type": "code",
   "execution_count": 159,
   "metadata": {
    "collapsed": true
   },
   "outputs": [],
   "source": [
    "# plot by breaking session into thirds\n",
    "lookType = \"Full\"\n",
    "for alley in [6]:\n",
    "    \n",
    "    fig, axes = plt.subplots(1,3)\n",
    "\n",
    "    entryTimes = np.asarray([i[0] for i in alleyVisits[alley-1]])\n",
    "    allSpikes, allPos = computeTrialTrajectories(alley)\n",
    "    \n",
    "    _max = max(allSpikes[lookType])\n",
    "    _min = min(allSpikes[lookType])\n",
    "    allSpikes[lookType] = [mynorm(x,_min, _max) for x in allSpikes[lookType]]\n",
    "    \n",
    "    np.linspace(position[0,0], position[-1,0],4)\n",
    "    intervals = np.linspace(position[0,0], position[-1,0],4)\n",
    "    \n",
    "    \n",
    "    for i,label in zip(range(len(intervals)-1), ['First', 'Second', 'Third']):\n",
    "        ax = fig.axes[i]\n",
    "        start, end = intervals[i], intervals[i+1]\n",
    "        idx, = np.where(np.logical_and(entryTimes > start, entryTimes < end))\n",
    "        \n",
    "        \n",
    "        \n",
    "        for x in idx:\n",
    "            visit,spkNum = allPos[lookType][x], allSpikes[lookType][x]\n",
    "            ax.plot(visit[:,0], visit[:,1],c=mymap(spkNum), alpha=0.6, linestyle='-')\n",
    "            ax.scatter(visit[-1,0], visit[-1,1], marker='^',color=mymap(spkNum),alpha=0.6)\n",
    "            ax.scatter(visit[0,0], visit[0,1], marker='o',color=mymap(spkNum),alpha=0.6)\n",
    "            ratPlot.drawAlleyBounds(ax, alley)\n",
    "            \n",
    "    plt.suptitle(f\"Alley {alley} Session Activity Divided into Thirds, {lookType} Trajs\")\n",
    "        "
   ]
  },
  {
   "cell_type": "markdown",
   "metadata": {},
   "source": [
    "### Trajectory based firing - Trial rate maps and their averages"
   ]
  },
  {
   "cell_type": "code",
   "execution_count": 34,
   "metadata": {
    "collapsed": true
   },
   "outputs": [],
   "source": [
    "def getAlleyOrientation(alley):\n",
    "    xdiff, ydiff = alleyBounds[alley-1][1][0] - alleyBounds[alley-1][0][0], alleyBounds[alley-1][1][1] - alleyBounds[alley-1][0][1] \n",
    "    if xdiff > ydiff:\n",
    "        return \"horizontal\"\n",
    "    elif ydiff > xdiff:\n",
    "        return \"vertical\""
   ]
  },
  {
   "cell_type": "code",
   "execution_count": 35,
   "metadata": {
    "collapsed": true
   },
   "outputs": [],
   "source": [
    "def midpoint(p1,p2):\n",
    "    return [(p1[0]+p2[0])/2, (p1[1]+p2[1])/2]"
   ]
  },
  {
   "cell_type": "code",
   "execution_count": 36,
   "metadata": {
    "collapsed": true
   },
   "outputs": [],
   "source": [
    "def getAlleySideMidpoint(alley, side):\n",
    "    alleyOrientation = getAlleyOrientation(alley)\n",
    "    x, X,= alleyBounds[alley-1][0] # lower case is min, upper case is max\n",
    "    y, Y = alleyBounds[alley-1][1]\n",
    "    if alleyOrientation == 'horizontal':\n",
    "        if side == 'SW':\n",
    "            midp = midpoint([x,y],[x, Y])\n",
    "        elif side == 'NE':\n",
    "            midp = midpoint([X,y],[X,Y])\n",
    "            \n",
    "    if alleyOrientation == 'vertical':\n",
    "        if side == 'SW':\n",
    "            midp = midpoint([x,y],[X,y])\n",
    "        elif side == 'NE':\n",
    "            midp = midpoint([x,Y],[X,Y])\n",
    "            \n",
    "    return midp      "
   ]
  },
  {
   "cell_type": "code",
   "execution_count": 37,
   "metadata": {
    "collapsed": true
   },
   "outputs": [],
   "source": [
    "def posScan(midp, p):\n",
    "    x1,y1 = midp\n",
    "    x2,y2 = p\n",
    "    dist = math.hypot(x2 - x1, y2 - y1)\n",
    "    return dist < (extent*ptsCm)\n"
   ]
  },
  {
   "cell_type": "code",
   "execution_count": 38,
   "metadata": {
    "collapsed": true
   },
   "outputs": [],
   "source": [
    "def extendTrajectory(seed, midpoint, direction):\n",
    "    \"\"\"\n",
    "    \"\"\"\n",
    "    if direction == 'forward':\n",
    "        posSlice = position[seed:]\n",
    "        extendedTraj = np.asarray(list(itertools.takewhile(lambda x: posScan(midpoint, x[1:]), posSlice)))\n",
    "    elif direction == 'reverse':\n",
    "        posSlice = np.flip(position[0:seed+1],axis=0)\n",
    "        extendedTraj = np.flip(np.asarray(list(itertools.takewhile(lambda x: posScan(midpoint, x[1:]), posSlice))),axis=0)\n",
    "                \n",
    "    if extendedTraj != []:\n",
    "        return extendedTraj[0,0]\n",
    "        print(extendedTraj[0,0])\n",
    "    else:\n",
    "        return None"
   ]
  },
  {
   "cell_type": "code",
   "execution_count": 39,
   "metadata": {
    "collapsed": true
   },
   "outputs": [],
   "source": [
    "def getDistBasedTrajBounds(vnum, alley):\n",
    "    \"\"\"\n",
    "    \n",
    "    \"\"\"\n",
    "    visitStart = util.takeClosest(position[:,0], alleyVisits[alley-1][vnum][0]) \n",
    "    visitEnd = util.takeClosest(position[:,0], alleyVisits[alley-1][vnum][1]) \n",
    "    bounds = Dir.extractCorners(alleyBounds[alley-1])\n",
    "    entrySide = util.checkVisitSide(unit.alleys[alley][vnum]['occs'], bounds, \"entry\")\n",
    "    exitSide = util.checkVisitSide(unit.alleys[alley][vnum]['occs'], bounds, \"exit\")\n",
    "    \n",
    "    midp = getAlleySideMidpoint(alley, entrySide)\n",
    "    seed, = np.where(position[:,0] == visitStart)[0]\n",
    "    start = extendTrajectory(seed, midp, direction='reverse')\n",
    "    \n",
    "    midp = getAlleySideMidpoint(alley, exitSide)\n",
    "    seed, = np.where(position[:,0] == visitEnd)[0]\n",
    "    end = extendTrajectory(seed, midp, direction='forward')\n",
    "    \n",
    "    return start, end"
   ]
  },
  {
   "cell_type": "code",
   "execution_count": 44,
   "metadata": {
    "collapsed": true
   },
   "outputs": [],
   "source": [
    "def computeSingleRM(spikes,position,alley,dim):\n",
    "    '''\n",
    "    Modification of the standard computeSingleRM that\n",
    "    does not bin by alley coords but just by bin num\n",
    "    \n",
    "    Compute a single rate map from an array of spikes\n",
    "    and pos of array form (ts,x,y). Not using track coords, just \n",
    "    0-max bin size in either array. Chooses which dim is long\n",
    "    depending on which alley (lookup in fx)'''\n",
    "    longDimBins = singleAlleyBins[0]\n",
    "    shortDimBins = singleAlleyBins[1]\n",
    "    v = alleyBounds[alley-1]\n",
    "    x,y = v\n",
    "    if (x[-1]-x[0]) > (y[-1]-y[0]):\n",
    "        rbins, cbins = shortDimBins, longDimBins \n",
    "    elif (y[-1]-y[0]) > (x[-1]-x[0]):\n",
    "        rbins, cbins = longDimBins, shortDimBins\n",
    "    hs = np.histogram2d(spikes[:,2],spikes[:,1],bins=[rbins, cbins])[0]\n",
    "    ho = np.histogram2d(position[:,2],position[:,1],bins=[rbins, cbins])[0]\n",
    "    if dim == 2:\n",
    "        n = (hs*np.reciprocal(ho))*30\n",
    "        n[np.where(ho==0)] = np.nan\n",
    "        n = util.weird_smooth(n,smoothing_2d_sigma)\n",
    "        n[np.where(ho==0)] = np.nan\n",
    "    elif dim == 1:\n",
    "        ls,lo  = np.sum(hs,axis=util.getAxType(ho)), np.sum(ho,axis=util.getAxType(ho))\n",
    "        n = (ls* np.reciprocal(lo)) * 30 \n",
    "        n = util.weird_smooth(n,smoothing_1d_sigma)\n",
    "        n[np.where(lo==0)] = np.nan\n",
    "    return n"
   ]
  },
  {
   "cell_type": "code",
   "execution_count": 71,
   "metadata": {},
   "outputs": [
    {
     "name": "stderr",
     "output_type": "stream",
     "text": [
      "C:\\Users\\whockei1\\AppData\\Local\\Continuum\\anaconda3\\lib\\site-packages\\ipykernel_launcher.py:11: DeprecationWarning: elementwise != comparison failed; this will raise an error in the future.\n",
      "  # This is added back by InteractiveShellApp.init_path()\n",
      "C:\\Users\\whockei1\\AppData\\Local\\Continuum\\anaconda3\\lib\\site-packages\\ipykernel_launcher.py:27: RuntimeWarning: divide by zero encountered in reciprocal\n",
      "C:\\Users\\whockei1\\Google Drive\\Python_Code\\KLab\\mts_analysis\\utility_fx.py:306: RuntimeWarning: invalid value encountered in multiply\n",
      "  W=0*U.copy()+1\n",
      "C:\\Users\\whockei1\\AppData\\Local\\Continuum\\anaconda3\\lib\\site-packages\\ipykernel_launcher.py:27: RuntimeWarning: invalid value encountered in multiply\n"
     ]
    }
   ],
   "source": [
    "region = 15\n",
    "extent = 10\n",
    "alley = region\n",
    "tol = 15 #with alleybounds recorded from video, youre reading them off so theres jitter. need an epsilon fo\n",
    "bounds = Dir.extractCorners(alleyBounds[alley-1])\n",
    "\n",
    "# IMPORTANT - this nested dict is unlabeled but convention is turn into the alley > turn out of alley\n",
    "# so outer dict is turn in and inner dict is turn out given that turn in\n",
    "trajectorySorted = {'left':{'left':[], 'right':[], 'straight':[]}, \n",
    "                    'right':{'left':[], 'right':[], 'straight':[]}, \n",
    "                    'straight':{'left':[], 'right':[], 'straight':[]}}\n",
    "\n",
    "trajLabels = {'left':{'left':[], 'right':[], 'straight':[]}, \n",
    "                    'right':{'left':[], 'right':[], 'straight':[]}, \n",
    "                    'straight':{'left':[], 'right':[], 'straight':[]}}\n",
    "\n",
    "for vNum, visit in enumerate(unit.alleys[region]):    \n",
    "#     if type(region) == int:\n",
    "#         start, end= alleyVisits[region-1][vNum][0] - tBefore, alleyVisits[region-1][vNum][1] + tAfter\n",
    "#     elif type(region) == str:\n",
    "#         start, end= intersectionVisits[region][vNum][0] - tBefore, intersectionVisits[region][vNum][1] + tAfter\n",
    "\n",
    "    start, end = getDistBasedTrajBounds(vNum, alley)\n",
    "    \n",
    "    if (start != None) and (end != None):\n",
    "\n",
    "        sTs = util.getTsinInverval(unit.spikes, start, end)\n",
    "        spikes = util.getPosFromTs(sTs[:,0],position)\n",
    "    \n",
    "        oTs = util.getTsinInverval(position, start, end)\n",
    "        occs = util.getPosFromTs(oTs[:,0],position)\n",
    "\n",
    "\n",
    "        side = Dir.checkVisitEntrySide(visit['occs'], bounds)\n",
    "\n",
    "        prevAlley = getPreviousAlley(region, vNum) #returns an alley\n",
    "        nextAlley = getNextAlley(region, vNum)\n",
    "\n",
    "        alleyOrientation = getAlleyOrientation(region)\n",
    "\n",
    "        if alleyOrientation == 'vertical':\n",
    "            if side == 'NE':\n",
    "                if (alleyBounds[prevAlley-1][0][0] < alleyBounds[alley-1][0][0]) and (alleyBounds[prevAlley-1][0][0] < alleyBounds[alley-1][0][0]) :\n",
    "                    inTurn = 'right'\n",
    "                elif alleyBounds[prevAlley-1][0][1] > alleyBounds[alley-1][0][1]:\n",
    "                    inTurn = 'left'\n",
    "                elif alleyBounds[prevAlley]\n",
    "                    inTurn = 'straight'\n",
    "\n",
    "                if alleyBounds[prevAlley-1][0][0] < alleyBounds[alley-1][0][0]:\n",
    "                    outTurn = 'right'\n",
    "                elif alleyBounds[prevAlley-1][0][0] > alleyBounds[alley-1][0][0]:\n",
    "                    outTurn = 'left'\n",
    "                else:\n",
    "                    outTurn = 'straight'\n",
    "\n",
    "            if side == 'SW':\n",
    "                if alleyBounds[prevAlley-1][0][0] < alleyBounds[alley-1][0][0]:\n",
    "                    inTurn = 'left'\n",
    "                elif alleyBounds[prevAlley-1][0][1] > alleyBounds[alley-1][0][1]:\n",
    "                    inTurn = 'right'\n",
    "                else:\n",
    "                    inTurn = 'straight'\n",
    "\n",
    "                if alleyBounds[nextAlley-1][0][1] < alleyBounds[alley-1][0][0]:\n",
    "                    outTurn = 'left'\n",
    "                elif alleyBounds[nextAlley-1][0][1] > alleyBounds[alley-1][0][1]:\n",
    "                    outTurn = 'right'\n",
    "                else:\n",
    "                    outTurn = 'straight'\n",
    "\n",
    "        elif alleyOrientation == 'horizontal':\n",
    "\n",
    "            if side == 'NE':\n",
    "                if alleyBounds[prevAlley-1][0][1] < alleyBounds[alley-1][0][1]:\n",
    "                    inTurn = 'right'\n",
    "                elif alleyBounds[prevAlley-1][0][1] > alleyBounds[alley-1][0][1]:\n",
    "                    inTurn = 'left'\n",
    "                else:\n",
    "                    inTurn = 'straight'\n",
    "\n",
    "                if alleyBounds[prevAlley-1][0][1] < alleyBounds[alley-1][0][1]:\n",
    "                    outTurn = 'right'\n",
    "                elif alleyBounds[prevAlley-1][0][1] > alleyBounds[alley-1][0][1]:\n",
    "                    outTurn = 'left'\n",
    "                else:\n",
    "                    outTurn = 'straight'\n",
    "\n",
    "            if side == 'SW':\n",
    "                if alleyBounds[prevAlley-1][0][1] < alleyBounds[alley-1][0][1]:\n",
    "                    inTurn = 'right'\n",
    "                elif alleyBounds[prevAlley-1][0][1] > alleyBounds[alley-1][0][1]:\n",
    "                    inTurn = 'left'\n",
    "                else:\n",
    "                    inTurn = 'straight'\n",
    "\n",
    "                if alleyBounds[nextAlley-1][0][1] < alleyBounds[alley-1][0][1]:\n",
    "                    outTurn = 'right'\n",
    "                elif alleyBounds[nextAlley-1][0][1] > alleyBounds[alley-1][0][1]:\n",
    "                    outTurn = 'left'\n",
    "                else:\n",
    "                    outTurn = 'straight'\n",
    "                    \n",
    "        spikes = np.column_stack((np.ones(spikes.shape[0]), spikes))\n",
    "        occs = np.column_stack((np.ones(occs.shape[0]), occs))\n",
    "\n",
    "        rm = computeSingleRM(spikes, occs, alley, 1)\n",
    "        trajectorySorted[inTurn][outTurn].append(rm)\n",
    "        trajLabels[inTurn][outTurn].append(vNum)"
   ]
  },
  {
   "cell_type": "code",
   "execution_count": 72,
   "metadata": {},
   "outputs": [
    {
     "name": "stderr",
     "output_type": "stream",
     "text": [
      "C:\\Users\\whockei1\\AppData\\Local\\Continuum\\anaconda3\\lib\\site-packages\\matplotlib\\axes\\_base.py:3239: UserWarning: Attempting to set identical bottom==top results\n",
      "in singular transformations; automatically expanding.\n",
      "bottom=-0.5, top=-0.5\n",
      "  'bottom=%s, top=%s') % (bottom, top))\n",
      "C:\\Users\\whockei1\\AppData\\Local\\Continuum\\anaconda3\\lib\\site-packages\\ipykernel_launcher.py:33: RuntimeWarning: Mean of empty slice\n",
      "C:\\Users\\whockei1\\AppData\\Local\\Continuum\\anaconda3\\lib\\site-packages\\numpy\\core\\_methods.py:135: RuntimeWarning: Degrees of freedom <= 0 for slice\n",
      "  keepdims=keepdims)\n",
      "C:\\Users\\whockei1\\AppData\\Local\\Continuum\\anaconda3\\lib\\site-packages\\numpy\\core\\_methods.py:105: RuntimeWarning: invalid value encountered in true_divide\n",
      "  arrmean, rcount, out=arrmean, casting='unsafe', subok=False)\n",
      "C:\\Users\\whockei1\\AppData\\Local\\Continuum\\anaconda3\\lib\\site-packages\\numpy\\core\\_methods.py:125: RuntimeWarning: invalid value encountered in true_divide\n",
      "  ret, rcount, out=ret, casting='unsafe', subok=False)\n"
     ]
    },
    {
     "data": {
      "text/plain": [
       "<matplotlib.legend.Legend at 0x2300129ea58>"
      ]
     },
     "execution_count": 72,
     "metadata": {},
     "output_type": "execute_result"
    }
   ],
   "source": [
    "fig1, ax1 = plt.subplots(3,3, figsize=(7,7))\n",
    "fig2, ax2 = plt.subplots()\n",
    "\n",
    "i=0\n",
    "rmsForMax = np.empty((0, singleAlleyBins[1]))\n",
    "\n",
    "linLegend = []\n",
    "\n",
    "for inTurn in ['left', 'right', 'straight']:\n",
    "    for outTurn in ['left', 'right', 'straight']:\n",
    "        for rm in trajectorySorted[inTurn][outTurn]:\n",
    "            rmsForMax = np.vstack((rm, rmsForMax))\n",
    "            \n",
    "mymax = util.calcSmartMax(rmsForMax)\n",
    "\n",
    "for inTurn in ['left', 'right', 'straight']:\n",
    "    for outTurn in ['left', 'right', 'straight']:\n",
    "        \n",
    "        cax = fig1.axes[i]\n",
    "        \n",
    "        rms = np.empty((0, singleAlleyBins[1]))\n",
    "            \n",
    "        for rm in trajectorySorted[inTurn][outTurn]:\n",
    "            rms = np.vstack((rms, rm))\n",
    "            \n",
    "                        \n",
    "        if True:\n",
    "            cax.imshow(rms, vmax = mymax, aspect='auto', interpolation='none', cmap=mymap)\n",
    "            cax.set_title(f\"{inTurn} Turn in, {outTurn} Turn out\")\n",
    "            cax.set_yticks(range(len(trajLabels[inTurn][outTurn])))\n",
    "            cax.set_yticklabels(trajLabels[inTurn][outTurn])\n",
    "\n",
    "            avg = np.nanmean(rms, axis=0)\n",
    "            err = sem(rms, axis=0, nan_policy=\"omit\")\n",
    "\n",
    "            ax2.plot(avg)\n",
    "            ax2.fill_between(range(len(err)), avg+err, avg-err, alpha=0.3)\n",
    "            linLegend.append(f\"{inTurn}-{outTurn}\")\n",
    "        \n",
    "        i += 1\n",
    "        \n",
    "ax2.legend(linLegend)        "
   ]
  },
  {
   "cell_type": "markdown",
   "metadata": {
    "collapsed": true
   },
   "source": [
    "# Spike-Triggered Boundary Envelope"
   ]
  },
  {
   "cell_type": "code",
   "execution_count": 7,
   "metadata": {
    "collapsed": true
   },
   "outputs": [],
   "source": [
    "def defineLine(p0, theta, dist=500):\n",
    "    \"\"\"Given a starting point and an angle,\n",
    "    draw a line (segment) of length dist.\n",
    "    The dist is long enough that for practical\n",
    "    purposes it's an infinite \"line\"\n",
    "    \n",
    "    Assumes theta is in degrees and converts\n",
    "    it to radians for math.cos,math.sin\n",
    "    \"\"\"\n",
    "    x,y = p0\n",
    "    theta = math.radians(theta)\n",
    "    xnew, ynew = x + dist*math.cos(theta), y + dist*math.sin(theta)\n",
    "    return [xnew, ynew]"
   ]
  },
  {
   "cell_type": "code",
   "execution_count": 51,
   "metadata": {
    "collapsed": true
   },
   "outputs": [],
   "source": [
    "p0=[460,200]\n",
    "plt.plot(p0[0], p0[1], 'r.', markersize=50)\n",
    "for theta in np.linspace(0, 360, num=100):\n",
    "    xnew, ynew = defineLine(p0, theta)\n",
    "    plt.plot([p0[0], xnew], [p0[1], ynew],'k')"
   ]
  },
  {
   "cell_type": "code",
   "execution_count": 8,
   "metadata": {
    "collapsed": true
   },
   "outputs": [],
   "source": [
    "#assumes a,b are endpoints and c is the check point\n",
    "def distance(a,b):\n",
    "    return math.sqrt((a[0] - b[0])**2 + (a[1] - b[1])**2)\n",
    "\n",
    "def is_between(a,b,c):\n",
    "    \"\"\"\n",
    "    a,b are endpoints. c is point to check if its btwn\n",
    "    \"\"\"\n",
    "    epsilon = 0.001\n",
    "    return -epsilon < (distance(a, c) + distance(c, b) - distance(a, b)) < epsilon"
   ]
  },
  {
   "cell_type": "code",
   "execution_count": 9,
   "metadata": {
    "collapsed": true
   },
   "outputs": [],
   "source": [
    "def get_line(x1, y1, x2, y2):\n",
    "    points = []\n",
    "    issteep = abs(y2-y1) > abs(x2-x1)\n",
    "    if issteep:\n",
    "        x1, y1 = y1, x1\n",
    "        x2, y2 = y2, x2\n",
    "    rev = False\n",
    "    if x1 > x2:\n",
    "        x1, x2 = x2, x1\n",
    "        y1, y2 = y2, y1\n",
    "        rev = True\n",
    "    deltax = x2 - x1\n",
    "    deltay = abs(y2-y1)\n",
    "    error = int(deltax / 2)\n",
    "    y = y1\n",
    "    ystep = None\n",
    "    if y1 < y2:\n",
    "        ystep = 1\n",
    "    else:\n",
    "        ystep = -1\n",
    "    for x in range(x1, x2 + 1):\n",
    "        if issteep:\n",
    "            points.append((y, x))\n",
    "        else:\n",
    "            points.append((x, y))\n",
    "        error -= deltay\n",
    "        if error < 0:\n",
    "            y += ystep\n",
    "            error += deltax\n",
    "    # Reverse the list if the coordinates were reversed\n",
    "    if rev:\n",
    "        points.reverse()\n",
    "    return points"
   ]
  },
  {
   "cell_type": "code",
   "execution_count": 10,
   "metadata": {
    "collapsed": true
   },
   "outputs": [],
   "source": [
    "#define sides of alley n, s, e, w in camera coordinates\n",
    "all_points = []\n",
    "for alley in range(17):\n",
    "    b = alleyBounds[alley] # for ease of typing\n",
    "    ul, ll, ur, lr = [b[0][0], b[1][1]], [b[0][0], b[1][0]], [b[0][1], b[1][1]], [b[0][1], b[1][0]]\n",
    "    for side in [ul, ur], [ll, lr], [ur, lr], [ul, ll]:\n",
    "        x1, y1, x2, y2 = side[0][0], side[0][1], side[1][0], side[1][1]\n",
    "        points = get_line(x1, y1, x2, y2)\n",
    "        all_points.extend(points)\n",
    "all_points = np.asarray(all_points)"
   ]
  },
  {
   "cell_type": "code",
   "execution_count": 11,
   "metadata": {
    "collapsed": true
   },
   "outputs": [],
   "source": [
    "#burst detection\n",
    "minISI = 0.06\n",
    "minBurstNum = 3\n",
    "isis = [(a-b)/1e6 for a,b in zip(unit.spikes[1:,0], unit.spikes[:,0])]\n",
    "\n",
    "#here define the intraburst ISI to be the smallest\n",
    "#peak of the isi distribution, provided it does not\n",
    "# exceed the minISI. \n",
    "c,bins = np.histogram(isis,bins=75)\n",
    "if bins[0] <= minISI:\n",
    "    burstISI = bins[0]\n",
    "else:\n",
    "    burstISI = minISI\n",
    "\n",
    "#override burstISI for testing\n",
    "burstISI = 0.04\n",
    "bursts = [[unit.spikes[0,:]]]\n",
    "for i, spike in enumerate(unit.spikes[1:,:]):\n",
    "    if abs(spike[0] - bursts[-1][-1][0])/1e6 <= burstISI:\n",
    "        bursts[-1].append(spike)\n",
    "    else:\n",
    "        bursts.append([spike])\n",
    "        \n",
    "bursts = [b for b in bursts if len(b) >= minBurstNum]\n",
    "#pos at first spike of burst\n",
    "initBurstPos = np.asarray([burst[0][1:] for burst in bursts])"
   ]
  },
  {
   "cell_type": "code",
   "execution_count": 47,
   "metadata": {
    "collapsed": true
   },
   "outputs": [],
   "source": [
    "def defineBurstRays(point,num=100):\n",
    "    rayEndPoints = []\n",
    "    for theta in np.linspace(0,360,num=num):\n",
    "        rayEndPoints.append(defineLine(point, theta))\n",
    "    return np.asarray(rayEndPoints)"
   ]
  },
  {
   "cell_type": "code",
   "execution_count": 20,
   "metadata": {},
   "outputs": [
    {
     "name": "stderr",
     "output_type": "stream",
     "text": [
      "C:\\Users\\whockei1\\AppData\\Local\\Continuum\\anaconda3\\lib\\site-packages\\ipykernel_launcher.py:3: DeprecationWarning: object of type <class 'float'> cannot be safely interpreted as an integer.\n",
      "  This is separate from the ipykernel package so we can avoid doing imports until\n"
     ]
    },
    {
     "ename": "KeyboardInterrupt",
     "evalue": "",
     "output_type": "error",
     "traceback": [
      "\u001b[1;31m---------------------------------------------------------------------------\u001b[0m",
      "\u001b[1;31mKeyboardInterrupt\u001b[0m                         Traceback (most recent call last)",
      "\u001b[1;32m<ipython-input-20-847d50b27b09>\u001b[0m in \u001b[0;36m<module>\u001b[1;34m()\u001b[0m\n\u001b[0;32m      7\u001b[0m         \u001b[0monLine\u001b[0m \u001b[1;33m=\u001b[0m \u001b[1;33m[\u001b[0m\u001b[1;33m]\u001b[0m\u001b[1;33m\u001b[0m\u001b[0m\n\u001b[0;32m      8\u001b[0m         \u001b[1;32mfor\u001b[0m \u001b[0mpoint\u001b[0m \u001b[1;32min\u001b[0m \u001b[0mall_points\u001b[0m\u001b[1;33m:\u001b[0m\u001b[1;33m\u001b[0m\u001b[0m\n\u001b[1;32m----> 9\u001b[1;33m             \u001b[0monLine\u001b[0m\u001b[1;33m.\u001b[0m\u001b[0mappend\u001b[0m\u001b[1;33m(\u001b[0m\u001b[0mis_between\u001b[0m\u001b[1;33m(\u001b[0m\u001b[0mburst\u001b[0m\u001b[1;33m,\u001b[0m\u001b[0mray\u001b[0m\u001b[1;33m,\u001b[0m\u001b[0mpoint\u001b[0m\u001b[1;33m)\u001b[0m\u001b[1;33m)\u001b[0m\u001b[1;33m\u001b[0m\u001b[0m\n\u001b[0m\u001b[0;32m     10\u001b[0m         \u001b[0midxOnLine\u001b[0m \u001b[1;33m=\u001b[0m \u001b[1;33m[\u001b[0m\u001b[0mi\u001b[0m \u001b[1;32mfor\u001b[0m \u001b[0mi\u001b[0m\u001b[1;33m,\u001b[0m\u001b[0mb\u001b[0m \u001b[1;32min\u001b[0m \u001b[0menumerate\u001b[0m\u001b[1;33m(\u001b[0m\u001b[0monLine\u001b[0m\u001b[1;33m)\u001b[0m \u001b[1;32mif\u001b[0m \u001b[0mb\u001b[0m \u001b[1;33m==\u001b[0m \u001b[1;32mTrue\u001b[0m\u001b[1;33m]\u001b[0m\u001b[1;33m\u001b[0m\u001b[0m\n\u001b[0;32m     11\u001b[0m         \u001b[0mptsOnLine\u001b[0m \u001b[1;33m=\u001b[0m \u001b[0mall_points\u001b[0m\u001b[1;33m[\u001b[0m\u001b[0midxOnLine\u001b[0m\u001b[1;33m]\u001b[0m\u001b[1;33m\u001b[0m\u001b[0m\n",
      "\u001b[1;31mKeyboardInterrupt\u001b[0m: "
     ]
    }
   ],
   "source": [
    "#define boundary envelope for a burst\n",
    "envelopes = []\n",
    "for burst in initBurstPos:\n",
    "    rays = defineBurstRays(burst)\n",
    "    envelope = np.empty((0,2))\n",
    "    for ray in rays:\n",
    "        onLine = []\n",
    "        for point in all_points:\n",
    "            onLine.append(is_between(burst,ray,point))\n",
    "        idxOnLine = [i for i,b in enumerate(onLine) if b == True]\n",
    "        ptsOnLine = all_points[idxOnLine]\n",
    "        if ptsOnLine.shape[0] > 0:\n",
    "            closestPtOnRay = ptsOnLine[np.argmin([distance(burst, p) for p in ptsOnLine])]\n",
    "            envelope = np.vstack((envelope, closestPtOnRay))\n",
    "    envelopes.append(envelope)\n"
   ]
  },
  {
   "cell_type": "code",
   "execution_count": null,
   "metadata": {
    "collapsed": true
   },
   "outputs": [],
   "source": []
  }
 ],
 "metadata": {
  "kernelspec": {
   "display_name": "Python 3",
   "language": "python",
   "name": "python3"
  },
  "language_info": {
   "codemirror_mode": {
    "name": "ipython",
    "version": 3
   },
   "file_extension": ".py",
   "mimetype": "text/x-python",
   "name": "python",
   "nbconvert_exporter": "python",
   "pygments_lexer": "ipython3",
   "version": "3.6.3"
  }
 },
 "nbformat": 4,
 "nbformat_minor": 2
}
