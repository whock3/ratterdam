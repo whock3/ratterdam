{
 "cells": [
  {
   "cell_type": "markdown",
   "metadata": {},
   "source": [
    "# Ratterdam GUI\n",
    "## Prototyping a GUI for online Ratterdam Tasks\n",
    "## Initial GUI made in matplotlib and for Beltway task"
   ]
  },
  {
   "cell_type": "code",
   "execution_count": 1,
   "metadata": {
    "collapsed": true
   },
   "outputs": [],
   "source": [
    "# imports\n",
    "from matplotlib import pyplot as plt\n",
    "import matplotlib.gridspec as gridspec"
   ]
  },
  {
   "cell_type": "code",
   "execution_count": 2,
   "metadata": {
    "collapsed": true
   },
   "outputs": [],
   "source": [
    "%qtconsole --style native\n",
    "%matplotlib qt5"
   ]
  },
  {
   "cell_type": "markdown",
   "metadata": {},
   "source": [
    "### Beltway Task GUI in Matplotlib. Simple version. Call it BGS"
   ]
  },
  {
   "cell_type": "code",
   "execution_count": 209,
   "metadata": {},
   "outputs": [
    {
     "data": {
      "text/plain": [
       "Text(0.5,0.98,'RATTERDAM GUI')"
      ]
     },
     "execution_count": 209,
     "metadata": {},
     "output_type": "execute_result"
    }
   ],
   "source": [
    "plt.rc('axes', linewidth=4)\n",
    "aspectRatio = 10/7 #hardcoded\n",
    "scl = 10 # smaller size\n",
    "gsframe = gridspec.GridSpec(7,10) # if intersections are 1x1 units and 1x2 units. Not totally to scale\n",
    "regions = [1,2,3,4,5,6,7,8,9,'startbox']\n",
    "beltway_structure = {i:{} for i in regions}\n",
    "fig = plt.figure(figsize=(int(scl*aspectRatio),scl))\n",
    "# tedious but straightforward\n",
    "beltway_structure[1]['ax'] = plt.subplot(gsframe[6,1:3])\n",
    "beltway_structure[2]['ax'] = plt.subplot(gsframe[4:6, 0])\n",
    "beltway_structure[3]['ax'] = plt.subplot(gsframe[1:3, 0])\n",
    "beltway_structure[4]['ax'] = plt.subplot(gsframe[0, 1:3])\n",
    "beltway_structure[5]['ax'] = plt.subplot(gsframe[0, 4:6])\n",
    "beltway_structure[6]['ax'] = plt.subplot(gsframe[0, 7:9])\n",
    "beltway_structure[7]['ax'] = plt.subplot(gsframe[1:3, 9])\n",
    "beltway_structure[8]['ax'] = plt.subplot(gsframe[4:6, 9])\n",
    "beltway_structure[9]['ax'] = plt.subplot(gsframe[6, 7:9])\n",
    "beltway_structure['startbox']['ax'] = plt.subplot(gsframe[6,4:6])\n",
    "\n",
    "for i in regions:\n",
    "    beltway_structure[i]['ax'].set_xticklabels([])\n",
    "    beltway_structure[i]['ax'].set_yticklabels([])\n",
    "    \n",
    "beltway_structure['metrics'] = {}\n",
    "for metric in ['strInfo', 'lapTimes', 'stimInfo']:\n",
    "    beltway_structure['metrics'][metric] = {}\n",
    "beltway_structure['metrics']['strInfo']['ax']= plt.subplot(gsframe[2,2])\n",
    "beltway_structure['metrics']['lapTimes']['ax'] = plt.subplot(gsframe[2,4:9])\n",
    "beltway_structure['metrics']['stimInfo']['ax'] = plt.subplot(gsframe[4,2])\n",
    "turnOffStuff()\n",
    "plt.suptitle(\"RATTERDAM GUI\", fontsize=22)"
   ]
  },
  {
   "cell_type": "code",
   "execution_count": 200,
   "metadata": {
    "collapsed": true
   },
   "outputs": [],
   "source": [
    "def turnOffStuff():\n",
    "    for metric in ['strInfo', 'lapTimes', 'stimInfo']:\n",
    "        ax = beltway_structure['metrics'][metric]['ax']\n",
    "        ax.spines['right'].set_visible(False)\n",
    "        ax.spines['top'].set_visible(False)\n",
    "        ax.spines['left'].set_visible(False)\n",
    "        ax.spines['bottom'].set_visible(False)\n",
    "        ax.set_xticklabels([])\n",
    "        ax.set_yticklabels([])\n",
    "        ax.set_xticks([])\n",
    "        ax.set_yticks([])"
   ]
  },
  {
   "cell_type": "code",
   "execution_count": 70,
   "metadata": {},
   "outputs": [],
   "source": [
    "basepath = 'C:\\\\Users\\\\whockei1\\\\Google Drive\\\\KnierimLab\\\\Ratterdam\\\\Code\\\\'\n",
    "fname = 'gui_test_data.txt'\n",
    "modtime = os.path.getmtime(basepath+fname)\n",
    "colorlookup = {'B':'lightgrey', 'C':'darkolivegreen', 'A':'saddlebrown'}"
   ]
  },
  {
   "cell_type": "code",
   "execution_count": 210,
   "metadata": {},
   "outputs": [],
   "source": [
    "txt_hist = []\n",
    "r_hist = []\n",
    "lapTimes = []\n",
    "rtxt_hists = {'A':0, 'B':0, 'C':0}\n",
    "lapNum = 1\n",
    "exit = False\n",
    "initTime = time.time()\n",
    "lastModTime = initTime\n",
    "while not exit:\n",
    "    modTime = os.path.getmtime(basepath+fname)\n",
    "    if modTime > lastModTime:\n",
    "        lapTimes.append(modTime - lastModTime)\n",
    "        data = readInData()\n",
    "        txts = [i[0] for i in data.split(\",\")[:-1]]\n",
    "        rs = [i[1] for i in data.split(\",\")[:-1]]\n",
    "        txt_hist.append(txts)\n",
    "        r_hist.append(rs)\n",
    "\n",
    "        for i, txt in enumerate(txts):\n",
    "            beltway_structure[i+1]['ax'].set_facecolor(colorlookup[txt])\n",
    "            if rs[i] == '1':\n",
    "                rtxt_hists[txt] += 1\n",
    "                beltway_structure[i+1]['ax'].spines['bottom'].set_color('red')\n",
    "                beltway_structure[i+1]['ax'].spines['top'].set_color('red') \n",
    "                beltway_structure[i+1]['ax'].spines['right'].set_color('red')\n",
    "                beltway_structure[i+1]['ax'].spines['left'].set_color('red')\n",
    "                \n",
    "        beltway_structure['metrics']['lapTimes']['ax'].plot(lapTimes,marker='o',linewidth=2,color='k')\n",
    "        \n",
    "        text = f\"Lap {lapNum}\"\n",
    "        beltway_structure['metrics']['strInfo']['ax'].clear()\n",
    "        turnOffStuff()\n",
    "        beltway_structure['metrics']['strInfo']['ax'].text(0,0.5,text,size=16)\n",
    "        \n",
    "        a,b,c = getTxtRatios()\n",
    "        beltway_structure['metrics']['stimInfo']['ax'].bar([1,2,3],[a,b,c],color=['saddlebrown','lightgrey','darkolivegreen'])\n",
    "        \n",
    "        fig.canvas.draw()\n",
    "        plt.pause(0.1)\n",
    "        \n",
    "        lastModTime = modTime\n",
    "        lapNum += 1\n",
    "\n",
    "        if data[-1] == 'X':\n",
    "            exit = True"
   ]
  },
  {
   "cell_type": "code",
   "execution_count": 46,
   "metadata": {
    "collapsed": true
   },
   "outputs": [],
   "source": [
    "def readInData():\n",
    "    data = open(basepath+fname)\n",
    "    line = data.read()\n",
    "    data.close()\n",
    "    return line"
   ]
  },
  {
   "cell_type": "code",
   "execution_count": 206,
   "metadata": {
    "collapsed": true
   },
   "outputs": [],
   "source": [
    "def getTxtRatios():\n",
    "    a, b, c = rtxt_hists['A'], rtxt_hists['B'], rtxt_hists['C']\n",
    "    total = a+b+c\n",
    "    return a/total, b/total, c/total"
   ]
  },
  {
   "cell_type": "code",
   "execution_count": null,
   "metadata": {
    "collapsed": true
   },
   "outputs": [],
   "source": []
  }
 ],
 "metadata": {
  "kernelspec": {
   "display_name": "Python 3",
   "language": "python",
   "name": "python3"
  },
  "language_info": {
   "codemirror_mode": {
    "name": "ipython",
    "version": 3
   },
   "file_extension": ".py",
   "mimetype": "text/x-python",
   "name": "python",
   "nbconvert_exporter": "python",
   "pygments_lexer": "ipython3",
   "version": "3.6.3"
  }
 },
 "nbformat": 4,
 "nbformat_minor": 2
}
