{
 "cells": [
  {
   "cell_type": "code",
   "execution_count": 9,
   "metadata": {
    "collapsed": true
   },
   "outputs": [],
   "source": [
    "import numpy as np, random, json, pickle, datetime, copy, socket, os, sys\n",
    "from scipy.stats import sem\n",
    "import matplotlib.colors as colors\n",
    "from importlib import reload\n",
    "import matplotlib.pyplot as plt\n",
    "\n",
    "from matplotlib.patches import Polygon\n",
    "from matplotlib.collections import PatchCollection\n",
    "\n",
    "if socket.gethostname() == 'Tolman':\n",
    "    codeDirBase = 'C:\\\\Users\\\\whockei1\\\\Google Drive'\n",
    "elif socket.gethostname() == 'DESKTOP-BECTOJ9':\n",
    "    codeDirBase = 'C:\\\\Users\\\\whock\\\\Google Drive'\n",
    "    \n",
    "sys.path.insert(0, codeDirBase + '\\\\KnierimLab\\\\Ratterdam\\\\Code')\n",
    "sys.path.insert(0, codeDirBase + '\\\\Python_Code\\\\KLab\\\\mts_analysis')\n",
    "import utility_fx as util\n",
    "import ratterdam_ParseBehavior as pBehav\n",
    "import ratterdam_CoreDataStructures as core\n",
    "import ratterdam_PermutationTests as Perm\n",
    "import ratterdam_Directionality as Dir\n",
    "import ratterdam_visBasic as Vis\n",
    "from ratterdam_Defaults import *\n",
    "\n",
    "cmap = util.makeCustomColormap()\n",
    "plot = Vis.BasicRateMaps()\n",
    "\n",
    "%qtconsole --style native"
   ]
  },
  {
   "cell_type": "code",
   "execution_count": 2,
   "metadata": {
    "collapsed": true
   },
   "outputs": [],
   "source": [
    "exp = \"RFD5\"\n",
    "dayCode = f\"R765{exp}\\\\\"\n",
    "figpath = f\"C:\\\\Users\\\\whockei1\\\\Google Drive\\\\KnierimLab\\\\Ratterdam\\\\Figures\\\\R765{exp}\\\\\"\n",
    "datafile = f'E:\\\\Ratterdam\\\\R765\\\\R765{exp}\\\\'\n",
    "behav = core.BehavioralData(datafile, exp, velocity_filter_thresh)\n",
    "ts, position, alleyTracking, alleyVisits,  txtVisits = behav.loadData()"
   ]
  },
  {
   "cell_type": "code",
   "execution_count": 42,
   "metadata": {},
   "outputs": [
    {
     "name": "stderr",
     "output_type": "stream",
     "text": [
      "C:\\Users\\whockei1\\Google Drive\\KnierimLab\\Ratterdam\\Code\\ratterdam_CoreDataStructures.py:139: RuntimeWarning: divide by zero encountered in reciprocal\n",
      "  n = (hs*np.reciprocal(ho))*33\n",
      "C:\\Users\\whockei1\\Google Drive\\KnierimLab\\Ratterdam\\Code\\ratterdam_CoreDataStructures.py:139: RuntimeWarning: invalid value encountered in multiply\n",
      "  n = (hs*np.reciprocal(ho))*33\n",
      "C:\\Users\\whockei1\\Google Drive\\KnierimLab\\Ratterdam\\Code\\ratterdam_CoreDataStructures.py:145: RuntimeWarning: divide by zero encountered in reciprocal\n",
      "  n = (ls* np.reciprocal(lo)) * 33\n",
      "C:\\Users\\whockei1\\Google Drive\\KnierimLab\\Ratterdam\\Code\\ratterdam_CoreDataStructures.py:145: RuntimeWarning: invalid value encountered in multiply\n",
      "  n = (ls* np.reciprocal(lo)) * 33\n",
      "C:\\Users\\whockei1\\Google Drive\\Python_Code\\KLab\\mts_analysis\\utility_fx.py:309: RuntimeWarning: invalid value encountered in true_divide\n",
      "  Z=VV/WW\n",
      "C:\\Users\\whockei1\\Google Drive\\Python_Code\\KLab\\mts_analysis\\utility_fx.py:305: RuntimeWarning: invalid value encountered in multiply\n",
      "  W=0*U.copy()+1\n"
     ]
    }
   ],
   "source": [
    "unit = core.UnitData(\"TT4\\\\cl-maze1.2\", datafile, exp, alleyBounds, alleyVisits, txtVisits, position, ts)\n",
    "unit.loadData_raw()"
   ]
  },
  {
   "cell_type": "code",
   "execution_count": 3,
   "metadata": {},
   "outputs": [
    {
     "data": {
      "text/plain": [
       "{'A': [[105, 385], [165, 345], [165, 385], [140, 340], [105, 340]],\n",
       " 'B': [[210, 385], [295, 390], [295, 352], [270, 340], [230, 340], [165, 345]],\n",
       " 'C': [[359, 390], [430, 390], [430, 347], [410, 327], [370, 327], [359, 352]],\n",
       " 'D': [[492, 390], [540, 390], [540, 325], [500, 325], [492, 347]],\n",
       " 'E': [[105, 272], [140, 272], [150, 250], [150, 210], [145, 185], [105, 185]],\n",
       " 'F': [[230, 275],\n",
       "  [270, 275],\n",
       "  [280, 250],\n",
       "  [280, 210],\n",
       "  [275, 205],\n",
       "  [230, 205],\n",
       "  [215, 210],\n",
       "  [215, 250]],\n",
       " 'G': [[370, 260],\n",
       "  [410, 260],\n",
       "  [420, 254],\n",
       "  [420, 210],\n",
       "  [410, 205],\n",
       "  [370, 205],\n",
       "  [350, 210],\n",
       "  [350, 250]],\n",
       " 'H': [[500, 260], [540, 260], [550, 205], [500, 205], [480, 210], [480, 254]],\n",
       " 'I': [[105, 115], [145, 115], [165, 115], [165, 75], [105, 75]],\n",
       " 'J': [[230, 132], [275, 132], [280, 115], [280, 75], [230, 75], [230, 115]],\n",
       " 'K': [[370, 135], [410, 135], [415, 115], [415, 75], [350, 75], [350, 115]],\n",
       " 'L': [[500, 140], [550, 140], [550, 75], [480, 75], [480, 115]]}"
      ]
     },
     "execution_count": 3,
     "metadata": {},
     "output_type": "execute_result"
    }
   ],
   "source": [
    "intersectionBounds"
   ]
  },
  {
   "cell_type": "code",
   "execution_count": 17,
   "metadata": {},
   "outputs": [
    {
     "name": "stdout",
     "output_type": "stream",
     "text": [
      "(5, 2)\n",
      "(6, 2)\n",
      "(6, 2)\n",
      "(5, 2)\n",
      "(6, 2)\n",
      "(8, 2)\n",
      "(8, 2)\n",
      "(6, 2)\n",
      "(5, 2)\n",
      "(6, 2)\n",
      "(6, 2)\n",
      "(5, 2)\n"
     ]
    }
   ],
   "source": [
    "fig, ax = plt.subplots()\n",
    "\n",
    "patches = []\n",
    "for vertex in intersectionBounds.values():\n",
    "    print(np.asarray(vertex).shape)\n",
    "    poly = Polygon(np.asarray(vertex), True)\n",
    "    patches.append(poly)\n",
    "    ax.add_patch(poly)"
   ]
  },
  {
   "cell_type": "code",
   "execution_count": 128,
   "metadata": {
    "collapsed": true
   },
   "outputs": [],
   "source": [
    "plt.figure()\n",
    "for coord in intersectionBounds.values():\n",
    "    coord.append(coord[0]) #repeat the first point to create a 'closed loop'\n",
    "    xs, ys = zip(*coord) #create lists of x and y values\n",
    "    plt.plot(xs,ys)"
   ]
  },
  {
   "cell_type": "code",
   "execution_count": 44,
   "metadata": {
    "collapsed": true
   },
   "outputs": [],
   "source": [
    "intersectionList = ['A', 'B', 'C', 'D', 'E', 'F', 'G', 'H', 'I', 'J', 'K', 'L']\n",
    "intersectionTracking = {i:np.empty((0,3)) for i in intersectionList}\n",
    "for intersection in intersectionList:\n",
    "    p = path.Path(intersectionBounds[intersection])\n",
    "    inOrNot = p.contains_points(position[:,1:])\n",
    "    intersectionTracking[intersection] = position[inOrNot]"
   ]
  },
  {
   "cell_type": "code",
   "execution_count": 244,
   "metadata": {
    "collapsed": true
   },
   "outputs": [],
   "source": [
    "allAlleyVisits = []\n",
    "for alley,visitList in alleyVisits.items():\n",
    "    visits = [(alley+1,i, v[0], v[1]) for i,v in enumerate(visitList)]\n",
    "    allAlleyVisits.extend(visits)\n",
    "allAlleyVisits = sorted(allAlleyVisits, key = lambda x: x[2])"
   ]
  },
  {
   "cell_type": "code",
   "execution_count": 4,
   "metadata": {
    "collapsed": true
   },
   "outputs": [],
   "source": [
    "def getIntersectionPos(array,start,end,position):\n",
    "    tsVisit = util.getTsinInverval(array, start, end)\n",
    "    posVisit = util.getPosFromTs(tsVisit, position)\n",
    "    return np.column_stack((tsVisit, posVisit))"
   ]
  },
  {
   "cell_type": "code",
   "execution_count": 5,
   "metadata": {
    "collapsed": true
   },
   "outputs": [],
   "source": [
    "def getIntersectionVisit(visit, visitPrev):\n",
    "    \"\"\"\n",
    "    Returns spike array (ts,x,y) and occ array (ts,x,y)\n",
    "    for the visit to an intersection.\n",
    "    \n",
    "    The arguments visit and visitPrev refer to\n",
    "    the alley visits that \"bookend\" the intersection visit\n",
    "    \"\"\"\n",
    "    start_int, end_int = visitprev[3], visit[2] #i.e. intersection visit starts at end of previous alley visit and goes to start of next alley visit\n",
    "    intSpikes = getIntersectionPos(unit.spikes[:,0], start_int, end_int, position)\n",
    "    intOccs = getIntersectionPos(position[:,0], start_int, end_int, position)\n",
    "    return intSpikes, intOccs"
   ]
  },
  {
   "cell_type": "code",
   "execution_count": 131,
   "metadata": {
    "collapsed": true
   },
   "outputs": [],
   "source": [
    "visit, visitprev = allAlleyVisits[1], allAlleyVisits[0]\n",
    "s,o = getIntersectionVisit(visit, visitprev)"
   ]
  },
  {
   "cell_type": "code",
   "execution_count": 98,
   "metadata": {},
   "outputs": [
    {
     "name": "stderr",
     "output_type": "stream",
     "text": [
      "C:\\Users\\whockei1\\AppData\\Local\\Continuum\\anaconda3\\lib\\site-packages\\ipykernel_launcher.py:3: RuntimeWarning: invalid value encountered in true_divide\n",
      "  This is separate from the ipykernel package so we can avoid doing imports until\n"
     ]
    },
    {
     "data": {
      "text/plain": [
       "<matplotlib.image.AxesImage at 0x245cc8df588>"
      ]
     },
     "execution_count": 98,
     "metadata": {},
     "output_type": "execute_result"
    }
   ],
   "source": [
    "ho=np.histogram2d(o[:,2],o[:,1],bins=30)[0]\n",
    "hs = np.histogram2d(s[:,2],s[:,1],bins=30)[0]\n",
    "n = (hs/ho)*33\n",
    "plt.imshow(n)"
   ]
  },
  {
   "cell_type": "code",
   "execution_count": 6,
   "metadata": {
    "collapsed": true
   },
   "outputs": [],
   "source": [
    "def makeIntersectionRatemap(s,o,alley,dim=1):\n",
    "    ho=np.histogram2d(o[:,2],o[:,1],bins=30)[0]\n",
    "    hs = np.histogram2d(s[:,2],s[:,1],bins=30)[0]\n",
    "    if unit.alleys[alley][0]['ratemap2d'].shape[0] > unit.alleys[alley][0]['ratemap2d'].shape[1]:\n",
    "        a=1\n",
    "    else:\n",
    "        a=0\n",
    "    ls,lo  = np.sum(hs,axis=a), np.sum(ho,axis=a)\n",
    "    n = (ls* np.reciprocal(lo)) * 33  \n",
    "    n = util.weird_smooth(n,smoothing_1d_sigma)\n",
    "    n[np.where(lo==0)] = np.nan\n",
    "    return n"
   ]
  },
  {
   "cell_type": "code",
   "execution_count": 43,
   "metadata": {},
   "outputs": [
    {
     "name": "stderr",
     "output_type": "stream",
     "text": [
      "C:\\Users\\whockei1\\AppData\\Local\\Continuum\\anaconda3\\lib\\site-packages\\ipykernel_launcher.py:9: RuntimeWarning: divide by zero encountered in reciprocal\n",
      "  if __name__ == '__main__':\n",
      "C:\\Users\\whockei1\\AppData\\Local\\Continuum\\anaconda3\\lib\\site-packages\\ipykernel_launcher.py:9: RuntimeWarning: invalid value encountered in multiply\n",
      "  if __name__ == '__main__':\n",
      "C:\\Users\\whockei1\\Google Drive\\Python_Code\\KLab\\mts_analysis\\utility_fx.py:305: RuntimeWarning: invalid value encountered in multiply\n",
      "  W=0*U.copy()+1\n",
      "C:\\Users\\whockei1\\Google Drive\\Python_Code\\KLab\\mts_analysis\\utility_fx.py:309: RuntimeWarning: invalid value encountered in true_divide\n",
      "  Z=VV/WW\n"
     ]
    }
   ],
   "source": [
    "intersectionRMs = {i:{txt:{\"NE\":np.empty((0,30)), \"SW\":np.empty((0,30))} for txt in ['A','B','C']} for i in range(1,18)}\n",
    "for i in range(1,len(allAlleyVisits)):\n",
    "    visit = allAlleyVisits[i]\n",
    "    visitprev = allAlleyVisits[i-1]\n",
    "    alley = visit[0]\n",
    "    s,o = getIntersectionVisit(visit, visitprev)\n",
    "    rm = makeIntersectionRatemap(s,o,alley)\n",
    "    bounds = Dir.extractCorners(alleyBounds[alley-1])\n",
    "    side = Dir.checkVisitEntrySide(unit.alleys[alley][visit[1]]['occs'], bounds)\n",
    "    txt = unit.alleys[alley][visit[1]]['metadata']['stimulus'][0]\n",
    "    intersectionRMs[alley][txt][side] = np.vstack((intersectionRMs[alley][txt][side], rm))"
   ]
  },
  {
   "cell_type": "code",
   "execution_count": 17,
   "metadata": {},
   "outputs": [
    {
     "name": "stderr",
     "output_type": "stream",
     "text": [
      "C:\\Users\\whockei1\\Google Drive\\KnierimLab\\Ratterdam\\Code\\ratterdam_visBasic.py:89: RuntimeWarning: Mean of empty slice\n",
      "  avg = np.nanmean(lins, axis=0)\n",
      "C:\\Users\\whockei1\\AppData\\Local\\Continuum\\anaconda3\\lib\\site-packages\\numpy\\core\\_methods.py:135: RuntimeWarning: Degrees of freedom <= 0 for slice\n",
      "  keepdims=keepdims)\n",
      "C:\\Users\\whockei1\\AppData\\Local\\Continuum\\anaconda3\\lib\\site-packages\\numpy\\core\\_methods.py:105: RuntimeWarning: invalid value encountered in true_divide\n",
      "  arrmean, rcount, out=arrmean, casting='unsafe', subok=False)\n",
      "C:\\Users\\whockei1\\AppData\\Local\\Continuum\\anaconda3\\lib\\site-packages\\numpy\\core\\_methods.py:125: RuntimeWarning: invalid value encountered in true_divide\n",
      "  ret, rcount, out=ret, casting='unsafe', subok=False)\n",
      "C:\\Users\\whockei1\\AppData\\Local\\Continuum\\anaconda3\\lib\\site-packages\\ipykernel_launcher.py:12: RuntimeWarning: Mean of empty slice\n",
      "  if sys.path[0] == '':\n",
      "C:\\Users\\whockei1\\Google Drive\\KnierimLab\\Ratterdam\\Code\\ratterdam_CoreDataStructures.py:145: RuntimeWarning: divide by zero encountered in reciprocal\n",
      "  n = (ls* np.reciprocal(lo)) * 33\n",
      "C:\\Users\\whockei1\\Google Drive\\KnierimLab\\Ratterdam\\Code\\ratterdam_CoreDataStructures.py:145: RuntimeWarning: invalid value encountered in multiply\n",
      "  n = (ls* np.reciprocal(lo)) * 33\n",
      "C:\\Users\\whockei1\\Google Drive\\Python_Code\\KLab\\mts_analysis\\utility_fx.py:309: RuntimeWarning: invalid value encountered in true_divide\n",
      "  Z=VV/WW\n",
      "C:\\Users\\whockei1\\Google Drive\\Python_Code\\KLab\\mts_analysis\\utility_fx.py:305: RuntimeWarning: invalid value encountered in multiply\n",
      "  W=0*U.copy()+1\n"
     ]
    }
   ],
   "source": [
    "fig, ax = plt.subplots(5,4,figsize=(7,6))\n",
    "\n",
    "for alley in range(1,18):\n",
    "    \n",
    "    axis = fig.axes[alley-1]\n",
    "    \n",
    "    for txt,color in zip(['A','B','C'], ['r','b','g']):\n",
    "        \n",
    "        alleyrm, alleyerr = plot.compute_AvgTrace(unit, alley, txt)\n",
    "        \n",
    "        linNE, linSW = intersectionRMs[alley][txt]['NE'], intersectionRMs[alley][txt]['SW']\n",
    "        linNEmean, linSWmean = np.nanmean(linNE,axis=0),  np.nanmean(linSW,axis=0)\n",
    "        errNE, errSW = sem(linNE, axis=0, nan_policy='omit'), sem(linSW, axis=0, nan_policy='omit')\n",
    "        expandedRM = np.concatenate((linSWmean, alleyrm, linNEmean))\n",
    "        expandederr = np.concatenate((errSW, alleyerr, linNEmean))\n",
    "        \n",
    "        axis.plot(expandedRM, color=color)\n",
    "        axis.fill_between(range(len(expandedRM)), expandedRM+expandederr, expandedRM-expandederr, alpha=0.5, color=color)\n",
    "        \n",
    "            "
   ]
  },
  {
   "cell_type": "code",
   "execution_count": 49,
   "metadata": {},
   "outputs": [
    {
     "name": "stderr",
     "output_type": "stream",
     "text": [
      "C:\\Users\\whockei1\\Google Drive\\KnierimLab\\Ratterdam\\Code\\ratterdam_CoreDataStructures.py:145: RuntimeWarning: divide by zero encountered in reciprocal\n",
      "  n = (ls* np.reciprocal(lo)) * 33\n",
      "C:\\Users\\whockei1\\Google Drive\\KnierimLab\\Ratterdam\\Code\\ratterdam_CoreDataStructures.py:145: RuntimeWarning: invalid value encountered in multiply\n",
      "  n = (ls* np.reciprocal(lo)) * 33\n",
      "C:\\Users\\whockei1\\Google Drive\\Python_Code\\KLab\\mts_analysis\\utility_fx.py:309: RuntimeWarning: invalid value encountered in true_divide\n",
      "  Z=VV/WW\n",
      "C:\\Users\\whockei1\\Google Drive\\Python_Code\\KLab\\mts_analysis\\utility_fx.py:305: RuntimeWarning: invalid value encountered in multiply\n",
      "  W=0*U.copy()+1\n",
      "C:\\Users\\whockei1\\AppData\\Local\\Continuum\\anaconda3\\lib\\site-packages\\ipykernel_launcher.py:11: RuntimeWarning: Mean of empty slice\n",
      "  # This is added back by InteractiveShellApp.init_path()\n"
     ]
    }
   ],
   "source": [
    "fig, ax = plt.subplots()\n",
    "for alley in [10]:\n",
    "    \n",
    "    axis = ax\n",
    "    \n",
    "    for txt,color in zip(['A','B','C'], ['r','b','g']):\n",
    "        \n",
    "        alleyrm, alleyerr = plot.compute_AvgTrace(unit, alley, txt)\n",
    "        \n",
    "        linNE, linSW = intersectionRMs[alley][txt]['NE'], intersectionRMs[alley][txt]['SW']\n",
    "        linNEmean, linSWmean = np.nanmean(linNE,axis=0),  np.nanmean(linSW,axis=0)\n",
    "        errNE, errSW = sem(linNE, axis=0, nan_policy='omit'), sem(linSW, axis=0, nan_policy='omit')\n",
    "        \n",
    "        #expandedRM = np.concatenate((linSWmean, alleyrm, linNEmean))\n",
    "        #expandederr = np.concatenate((errSW, alleyerr, linNEmean))\n",
    "        \n",
    "        expandedRM = np.concatenate((np.flip(linNEmean,axis=0), alleyrm, np.flip(linSWmean,axis=0)))\n",
    "        expandederr = np.concatenate((np.flip(errNE,axis=0), alleyerr, np.flip(linSWmean,axis=0)))\n",
    "        \n",
    "        axis.plot(expandedRM, color=color,linewidth=0.5)\n",
    "        axis.fill_between(range(len(expandedRM)), expandedRM+expandederr, expandedRM-expandederr, alpha=0.4, color=color)\n",
    "        \n",
    "    axis.vlines(30, 0, axis.get_ylim()[1],linestyle='--')\n",
    "    axis.vlines(60, 0, axis.get_ylim()[1],linestyle='--')\n",
    "        \n",
    "            "
   ]
  },
  {
   "cell_type": "code",
   "execution_count": 253,
   "metadata": {
    "collapsed": true
   },
   "outputs": [],
   "source": [
    "for txt,c in zip(['A','B','C'], ['r','b','g']):\n",
    "    for v in intersectionRMs[8][txt]['SW']:\n",
    "        plt.plot(v,color=c)"
   ]
  },
  {
   "cell_type": "code",
   "execution_count": 69,
   "metadata": {},
   "outputs": [
    {
     "name": "stderr",
     "output_type": "stream",
     "text": [
      "C:\\Users\\whockei1\\Google Drive\\KnierimLab\\Ratterdam\\Code\\ratterdam_CoreDataStructures.py:139: RuntimeWarning: divide by zero encountered in reciprocal\n",
      "  n = (hs*np.reciprocal(ho))*33\n",
      "C:\\Users\\whockei1\\Google Drive\\KnierimLab\\Ratterdam\\Code\\ratterdam_CoreDataStructures.py:139: RuntimeWarning: invalid value encountered in multiply\n",
      "  n = (hs*np.reciprocal(ho))*33\n",
      "C:\\Users\\whockei1\\Google Drive\\KnierimLab\\Ratterdam\\Code\\ratterdam_CoreDataStructures.py:145: RuntimeWarning: divide by zero encountered in reciprocal\n",
      "  n = (ls* np.reciprocal(lo)) * 33\n",
      "C:\\Users\\whockei1\\Google Drive\\KnierimLab\\Ratterdam\\Code\\ratterdam_CoreDataStructures.py:145: RuntimeWarning: invalid value encountered in multiply\n",
      "  n = (ls* np.reciprocal(lo)) * 33\n",
      "C:\\Users\\whockei1\\Google Drive\\Python_Code\\KLab\\mts_analysis\\utility_fx.py:309: RuntimeWarning: invalid value encountered in true_divide\n",
      "  Z=VV/WW\n",
      "C:\\Users\\whockei1\\AppData\\Local\\Continuum\\anaconda3\\lib\\site-packages\\ipykernel_launcher.py:9: RuntimeWarning: divide by zero encountered in reciprocal\n",
      "  if __name__ == '__main__':\n",
      "C:\\Users\\whockei1\\AppData\\Local\\Continuum\\anaconda3\\lib\\site-packages\\ipykernel_launcher.py:9: RuntimeWarning: invalid value encountered in multiply\n",
      "  if __name__ == '__main__':\n",
      "C:\\Users\\whockei1\\Google Drive\\KnierimLab\\Ratterdam\\Code\\ratterdam_visBasic.py:89: RuntimeWarning: Mean of empty slice\n",
      "  avg = np.nanmean(lins, axis=0)\n",
      "C:\\Users\\whockei1\\AppData\\Local\\Continuum\\anaconda3\\lib\\site-packages\\ipykernel_launcher.py:50: RuntimeWarning: Mean of empty slice\n",
      "C:\\Users\\whockei1\\AppData\\Local\\Continuum\\anaconda3\\lib\\site-packages\\numpy\\core\\_methods.py:135: RuntimeWarning: Degrees of freedom <= 0 for slice\n",
      "  keepdims=keepdims)\n",
      "C:\\Users\\whockei1\\AppData\\Local\\Continuum\\anaconda3\\lib\\site-packages\\numpy\\core\\_methods.py:105: RuntimeWarning: invalid value encountered in true_divide\n",
      "  arrmean, rcount, out=arrmean, casting='unsafe', subok=False)\n",
      "C:\\Users\\whockei1\\AppData\\Local\\Continuum\\anaconda3\\lib\\site-packages\\numpy\\core\\_methods.py:125: RuntimeWarning: invalid value encountered in true_divide\n",
      "  ret, rcount, out=ret, casting='unsafe', subok=False)\n",
      "C:\\Users\\whockei1\\Google Drive\\Python_Code\\KLab\\mts_analysis\\utility_fx.py:305: RuntimeWarning: invalid value encountered in multiply\n",
      "  W=0*U.copy()+1\n"
     ]
    }
   ],
   "source": [
    "exp = \"RFD3\"\n",
    "dayCode = f\"R765{exp}\"\n",
    "datafile = f'E:\\\\Ratterdam\\\\R765\\\\R765{exp}\\\\'\n",
    "behav = core.BehavioralData(datafile, exp, velocity_filter_thresh)\n",
    "ts, position, alleyTracking, alleyVisits,  txtVisits = behav.loadData()\n",
    "\n",
    "savepath = f\"C:\\\\Users\\\\whockei1\\\\Google Drive\\\\KnierimLab\\\\Ratterdam\\\\Figures\\\\{dayCode}\\\\velocityFiltered_{velocity_filter_thresh}\\\\_withIntersections\\\\\"\n",
    "if not os.path.isdir(savepath):\n",
    "    os.makedirs(savepath)\n",
    "    \n",
    "unitList = util.getClustList(datafile)\n",
    "plot = Vis.BasicRateMaps()\n",
    "\n",
    "allAlleyVisits = []\n",
    "for alley,visitList in alleyVisits.items():\n",
    "    visits = [(alley+1,i, v[0], v[1]) for i,v in enumerate(visitList)]\n",
    "    allAlleyVisits.extend(visits)\n",
    "allAlleyVisits = sorted(allAlleyVisits, key = lambda x: x[2])\n",
    "\n",
    "for unitName in unitList:\n",
    "     \n",
    "    unit = core.UnitData(unitName, datafile, exp, alleyBounds, alleyVisits, txtVisits, position, ts)\n",
    "    unit.loadData_raw()     \n",
    "        \n",
    "\n",
    "    intersectionRMs = {i:{txt:{\"NE\":np.empty((0,30)), \"SW\":np.empty((0,30))} for txt in ['A','B','C']} for i in range(1,18)}\n",
    "    for i in range(1,len(allAlleyVisits)):\n",
    "        visit = allAlleyVisits[i]\n",
    "        visitprev = allAlleyVisits[i-1]\n",
    "        alley = visit[0]\n",
    "        s,o = getIntersectionVisit(visit, visitprev)\n",
    "        rm = makeIntersectionRatemap(s,o,alley)\n",
    "        bounds = Dir.extractCorners(alleyBounds[alley-1])\n",
    "        side = Dir.checkVisitEntrySide(unit.alleys[alley][visit[1]]['occs'], bounds)\n",
    "        txt = unit.alleys[alley][visit[1]]['metadata']['stimulus'][0]\n",
    "        intersectionRMs[alley][txt][side] = np.vstack((intersectionRMs[alley][txt][side], rm))\n",
    "    \n",
    "    \n",
    "    fig, ax = plt.subplots(5,4,figsize=(12,11))\n",
    "\n",
    "    for alley in range(1,18):\n",
    "\n",
    "        axis = fig.axes[alley-1]\n",
    "\n",
    "        for txt,color in zip(['A','B','C'], ['r','b','g']):\n",
    "\n",
    "            alleyrm, alleyerr = plot.compute_AvgTrace(unit, alley, txt)\n",
    "\n",
    "            linNE, linSW = intersectionRMs[alley][txt]['NE'], intersectionRMs[alley][txt]['SW']\n",
    "            linNEmean, linSWmean = np.nanmean(linNE,axis=0),  np.nanmean(linSW,axis=0)\n",
    "            errNE, errSW = sem(linNE, axis=0, nan_policy='omit'), sem(linSW, axis=0, nan_policy='omit')\n",
    "            \n",
    "            \n",
    "            expandedRM = np.concatenate((np.flip(linNEmean,axis=0), alleyrm, np.flip(linSWmean,axis=0)))\n",
    "            expandederr = np.concatenate((np.flip(errNE,axis=0), alleyerr, np.flip(linSWmean,axis=0)))\n",
    "\n",
    "            axis.plot(expandedRM, color=color, linewidth=0.5)\n",
    "            axis.fill_between(range(len(expandedRM)), expandedRM+expandederr, expandedRM-expandederr, alpha=0.4, color=color)\n",
    "            axis.set_title(f\"{alley}\")\n",
    "            \n",
    "        axis.vlines(30, 0, axis.get_ylim()[1], alpha=0.6, linestyle='--')\n",
    "        axis.vlines(60, 0, axis.get_ylim()[1], alpha=0.6, linestyle='--')\n",
    "                                         \n",
    "            \n",
    "    try:\n",
    "        plt.savefig(savepath+f\"{unit.name}_alley_intersection.svg\")\n",
    "    except:\n",
    "        pass\n",
    "    plt.close()"
   ]
  },
  {
   "cell_type": "markdown",
   "metadata": {},
   "source": [
    "## Trial-by-trial directionality by texture analysis for a target alley that seems interesting"
   ]
  },
  {
   "cell_type": "code",
   "execution_count": 25,
   "metadata": {
    "collapsed": true
   },
   "outputs": [],
   "source": [
    "exp = \"RFD3\"\n",
    "dayCode = f\"R765{exp}\"\n",
    "datafile = f'E:\\\\Ratterdam\\\\R765\\\\R765{exp}\\\\'\n",
    "behav = core.BehavioralData(datafile, exp, 0)\n",
    "ts, position, alleyTracking, alleyVisits,  txtVisits = behav.loadData()"
   ]
  },
  {
   "cell_type": "code",
   "execution_count": 28,
   "metadata": {},
   "outputs": [
    {
     "name": "stderr",
     "output_type": "stream",
     "text": [
      "C:\\Users\\whockei1\\Google Drive\\KnierimLab\\Ratterdam\\Code\\ratterdam_CoreDataStructures.py:139: RuntimeWarning: divide by zero encountered in reciprocal\n",
      "  n = (hs*np.reciprocal(ho))*33\n",
      "C:\\Users\\whockei1\\Google Drive\\KnierimLab\\Ratterdam\\Code\\ratterdam_CoreDataStructures.py:139: RuntimeWarning: invalid value encountered in multiply\n",
      "  n = (hs*np.reciprocal(ho))*33\n",
      "C:\\Users\\whockei1\\Google Drive\\KnierimLab\\Ratterdam\\Code\\ratterdam_CoreDataStructures.py:145: RuntimeWarning: divide by zero encountered in reciprocal\n",
      "  n = (ls* np.reciprocal(lo)) * 33\n",
      "C:\\Users\\whockei1\\Google Drive\\KnierimLab\\Ratterdam\\Code\\ratterdam_CoreDataStructures.py:145: RuntimeWarning: invalid value encountered in multiply\n",
      "  n = (ls* np.reciprocal(lo)) * 33\n",
      "C:\\Users\\whockei1\\Google Drive\\Python_Code\\KLab\\mts_analysis\\utility_fx.py:309: RuntimeWarning: invalid value encountered in true_divide\n",
      "  Z=VV/WW\n",
      "C:\\Users\\whockei1\\Google Drive\\Python_Code\\KLab\\mts_analysis\\utility_fx.py:305: RuntimeWarning: invalid value encountered in multiply\n",
      "  W=0*U.copy()+1\n",
      "C:\\Users\\whockei1\\AppData\\Local\\Continuum\\anaconda3\\lib\\site-packages\\ipykernel_launcher.py:9: RuntimeWarning: divide by zero encountered in reciprocal\n",
      "  if __name__ == '__main__':\n",
      "C:\\Users\\whockei1\\AppData\\Local\\Continuum\\anaconda3\\lib\\site-packages\\ipykernel_launcher.py:9: RuntimeWarning: invalid value encountered in multiply\n",
      "  if __name__ == '__main__':\n"
     ]
    }
   ],
   "source": [
    "unit = core.UnitData(\"TT4\\\\cl-maze1.7\", datafile, exp, alleyBounds, alleyVisits, txtVisits, position, ts)\n",
    "unit.loadData_raw()\n",
    "\n",
    "allAlleyVisits = []\n",
    "for alley,visitList in alleyVisits.items():\n",
    "    visits = [(alley+1,i, v[0], v[1]) for i,v in enumerate(visitList)]\n",
    "    allAlleyVisits.extend(visits)\n",
    "allAlleyVisits = sorted(allAlleyVisits, key = lambda x: x[2])\n",
    "\n",
    "\n",
    "intersectionRMs = {i:{txt:{\"NE\":np.empty((0,30)), \"SW\":np.empty((0,30))} for txt in ['A','B','C']} for i in range(1,18)}\n",
    "alleyVisitNums = {i:{txt:{\"NE\":[], \"SW\":[]} for txt in ['A','B','C']} for i in range(1,18)}\n",
    "for i in range(1,len(allAlleyVisits)):\n",
    "    visit = allAlleyVisits[i]\n",
    "    visitprev = allAlleyVisits[i-1]\n",
    "    alley = visit[0]\n",
    "    s,o = getIntersectionVisit(visit, visitprev)\n",
    "    rm = makeIntersectionRatemap(s,o,alley)\n",
    "    bounds = Dir.extractCorners(alleyBounds[alley-1])\n",
    "    side = Dir.checkVisitEntrySide(unit.alleys[alley][visit[1]]['occs'], bounds)\n",
    "    txt = unit.alleys[alley][visit[1]]['metadata']['stimulus'][0]\n",
    "    intersectionRMs[alley][txt][side] = np.vstack((intersectionRMs[alley][txt][side], rm))\n",
    "    alleyVisitNums[alley][txt][side].append(visit[1])"
   ]
  },
  {
   "cell_type": "code",
   "execution_count": 29,
   "metadata": {
    "collapsed": true
   },
   "outputs": [],
   "source": [
    "target_alley = 11\n",
    "\n",
    "fig, ax = plt.subplots(3,2, figsize=(5,5))\n",
    "i=0\n",
    "allvs = np.empty((0,30))\n",
    "for txt in ['A', 'B', 'C']:\n",
    "    for side in [\"SW\", \"NE\"]:\n",
    "        if intersectionRMs[target_alley][txt][side].shape[0] > 0:\n",
    "            for visit in intersectionRMs[target_alley][txt][side]:\n",
    "                allvs = np.vstack((allvs, visit))\n",
    "mymax = util.calcSmartMax(allvs, cutoff=0.98, scale=2.5, bins=100)\n",
    "\n",
    "for txt in ['A', 'B', 'C']:\n",
    "    for side in [\"SW\", \"NE\"]:\n",
    "        if intersectionRMs[target_alley][txt][side].shape[0] > 0:\n",
    "            axis = fig.axes[i]\n",
    "            im = axis.imshow(intersectionRMs[target_alley][txt][side], interpolation='None', aspect='auto', cmap=cmap,vmax=mymax)\n",
    "            \n",
    "            axis.set_yticks(range(len(alleyVisitNums[target_alley][txt][side])))\n",
    "            axis.set_yticklabels(alleyVisitNums[target_alley][txt][side])\n",
    "        i+=1\n",
    "        \n",
    "fig.axes[0].set_title(\"SW Entry\")\n",
    "fig.axes[1].set_title(\"NE Entry\")\n",
    "fig.axes[0].set_ylabel(\"A\")\n",
    "fig.axes[2].set_ylabel(\"B\")\n",
    "fig.axes[4].set_ylabel(\"C\")\n",
    "\n",
    "plt.suptitle(f\"{exp} {unit.name} Alley {target_alley}\")\n",
    "plot.add_colorbar(fig,im)\n",
    "plt.show()              "
   ]
  },
  {
   "cell_type": "code",
   "execution_count": 30,
   "metadata": {
    "collapsed": true
   },
   "outputs": [],
   "source": [
    "%qtconsole"
   ]
  },
  {
   "cell_type": "code",
   "execution_count": null,
   "metadata": {
    "collapsed": true
   },
   "outputs": [],
   "source": [
    "def checkCompletePass():\n",
    "    pass\n",
    "\n",
    "def checkAlleyOrientation():\n",
    "    pass\n",
    "\n",
    "\n"
   ]
  }
 ],
 "metadata": {
  "kernelspec": {
   "display_name": "Python 3",
   "language": "python",
   "name": "python3"
  },
  "language_info": {
   "codemirror_mode": {
    "name": "ipython",
    "version": 3
   },
   "file_extension": ".py",
   "mimetype": "text/x-python",
   "name": "python",
   "nbconvert_exporter": "python",
   "pygments_lexer": "ipython3",
   "version": "3.6.3"
  }
 },
 "nbformat": 4,
 "nbformat_minor": 2
}
