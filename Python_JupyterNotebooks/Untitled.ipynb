{
 "cells": [
  {
   "cell_type": "code",
   "execution_count": 1,
   "metadata": {
    "autoscroll": false,
    "collapsed": false,
    "ein.tags": "worksheet-0",
    "slideshow": {
     "slide_type": "-"
    }
   },
   "outputs": [
    {
     "name": "stdout",
     "output_type": "stream",
     "text": [
      " Volume in drive C is Local Disk\n",
      " Volume Serial Number is C034-A84E\n",
      "\n",
      " Directory of c:\\Users\\whock\\Google Drive\\KnierimLab\\Ratterdam\\Code\n",
      "\n",
      "05/04/2018  07:35 PM            10,964 #ratterdamMain.py#\n",
      "05/06/2018  11:15 PM    <DIR>          .\n",
      "05/06/2018  11:15 PM    <DIR>          ..\n",
      "04/27/2018  09:47 PM    <DIR>          .idea\n",
      "05/06/2018  11:15 PM    <DIR>          .ipynb_checkpoints\n",
      "04/30/2018  02:34 PM    <DIR>          __pycache__\n",
      "04/24/2018  02:07 PM             2,201 data.txt\n",
      "04/24/2018  02:32 PM           200,426 R765_180424.txt\n",
      "04/25/2018  03:02 PM           240,886 R765_180425.txt\n",
      "05/03/2018  03:47 PM                 6 R765_180503_15-47.json\n",
      "05/04/2018  06:33 PM            54,044 R765_180504_18-33.json\n",
      "05/06/2018  06:45 PM           281,670 R765_180506_18-45.json\n",
      "05/01/2018  02:19 PM           298,622 R765_201851.txt\n",
      "05/06/2018  06:59 PM            77,585 R766_180506_18-59.json\n",
      "04/04/2018  08:35 PM             4,705 ratterdamGUI.py\n",
      "04/04/2018  10:43 AM             4,746 ratterdamGUI.py~\n",
      "05/06/2018  06:50 PM            11,255 ratterdamMain.py\n",
      "05/03/2018  04:41 PM            11,254 ratterdamMain.py~\n",
      "04/27/2018  09:17 PM             8,733 ratterdamPy2Ard.py\n",
      "04/25/2018  02:31 PM             8,728 ratterdamPy2Ard.py~\n",
      "04/22/2018  12:42 AM               429 ratterdamPy2Ard_testing.py\n",
      "03/11/2018  07:10 PM               311 ratterdamPy2Ard_testing.py~\n",
      "05/01/2018  11:20 PM               101 ratterdamSessionBehavior.py\n",
      "05/06/2018  11:15 PM                72 Untitled.ipynb\n",
      "              19 File(s)      1,216,738 bytes\n",
      "               5 Dir(s)  123,118,141,440 bytes free\n"
     ]
    }
   ],
   "source": [
    "ls"
   ]
  },
  {
   "cell_type": "code",
   "execution_count": 2,
   "metadata": {
    "autoscroll": false,
    "collapsed": false,
    "ein.tags": "worksheet-0",
    "slideshow": {
     "slide_type": "-"
    }
   },
   "outputs": [],
   "source": [
    "import json, numpy as np, matplotlib.pyplot as plt"
   ]
  },
  {
   "cell_type": "code",
   "execution_count": 3,
   "metadata": {
    "autoscroll": false,
    "collapsed": false,
    "ein.tags": "worksheet-0",
    "slideshow": {
     "slide_type": "-"
    }
   },
   "outputs": [],
   "source": [
    "data = json.load(open(\"R765_180506_18-45.json\",\"rb\"))"
   ]
  },
  {
   "cell_type": "code",
   "execution_count": 8,
   "metadata": {
    "autoscroll": false,
    "collapsed": false,
    "ein.tags": "worksheet-0",
    "slideshow": {
     "slide_type": "-"
    }
   },
   "outputs": [],
   "source": [
    "rewards = [i for i in data['events'] if i == 'reward']"
   ]
  },
  {
   "cell_type": "code",
   "execution_count": 10,
   "metadata": {
    "autoscroll": false,
    "collapsed": false,
    "ein.tags": "worksheet-0",
    "slideshow": {
     "slide_type": "-"
    }
   },
   "outputs": [],
   "source": [
    "times = [x for i,x in enumerate(data['ts']) if data['events'][i] == 'reward']"
   ]
  },
  {
   "cell_type": "code",
   "execution_count": 13,
   "metadata": {
    "autoscroll": false,
    "collapsed": false,
    "ein.tags": "worksheet-0",
    "slideshow": {
     "slide_type": "-"
    }
   },
   "outputs": [],
   "source": [
    "%matplotlib qt5"
   ]
  },
  {
   "cell_type": "code",
   "execution_count": null,
   "metadata": {
    "autoscroll": false,
    "collapsed": false,
    "ein.tags": "worksheet-0",
    "slideshow": {
     "slide_type": "-"
    }
   },
   "outputs": [],
   "source": [
    "plt.plot(np.diff(times))"
   ]
  },
  {
   "cell_type": "code",
   "execution_count": null,
   "metadata": {
    "autoscroll": false,
    "collapsed": false,
    "ein.tags": "worksheet-0",
    "slideshow": {
     "slide_type": "-"
    }
   },
   "outputs": [],
   "source": [
    "print('test')"
   ]
  },
  {
   "cell_type": "code",
   "execution_count": null,
   "metadata": {
    "autoscroll": false,
    "collapsed": false,
    "ein.tags": "worksheet-0",
    "slideshow": {
     "slide_type": "-"
    }
   },
   "outputs": [],
   "source": []
  }
 ],
 "metadata": {
  "name": "Untitled.ipynb"
 },
 "nbformat": 4,
 "nbformat_minor": 2
}
