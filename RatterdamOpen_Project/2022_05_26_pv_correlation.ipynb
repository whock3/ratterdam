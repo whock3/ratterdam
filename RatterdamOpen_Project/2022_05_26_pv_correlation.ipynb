{
 "cells": [
  {
   "cell_type": "code",
   "execution_count": 3,
   "metadata": {},
   "outputs": [],
   "source": [
    "## math, plotting\n",
    "import matplotlib.pyplot as plt\n",
    "import seaborn as sb\n",
    "\n",
    "import numpy as np\n",
    "import pandas as pd\n",
    "import scipy.stats\n",
    "import statsmodels.api as sm\n",
    "from statsmodels.formula.api import ols\n",
    "\n",
    "\n",
    "## machine learning\n",
    "from sklearn.metrics import r2_score\n",
    "from sklearn.preprocessing import StandardScaler\n",
    "from sklearn.linear_model import LinearRegression\n",
    "\n",
    "\n",
    "import pickle\n",
    "\n",
    "import sys\n",
    "from os import listdir\n",
    "\n",
    "import RateMapClass_William_20190308 as RateMapClass\n",
    "import ratterdam_RepetitionCoreFx as CoreFx\n",
    "import confounds as direction\n",
    "import newAlleyBounds as bounds2\n",
    "import repetition_manuscript_defaults as MDef \n",
    "\n",
    "%qtconsole"
   ]
  },
  {
   "cell_type": "code",
   "execution_count": 11,
   "metadata": {},
   "outputs": [
    {
     "name": "stdout",
     "output_type": "stream",
     "text": [
      "R765_RFD5\n",
      "R765_DFD4\n",
      "R781_D3\n",
      "R781_D4\n",
      "R808_D6\n",
      "R808_D7\n",
      "R859_D1\n",
      "R859_D2\n",
      "R886_D1\n",
      "R886_D2\n"
     ]
    }
   ],
   "source": [
    "## Changes in representation with time\n",
    "## Population vector correlation heatmaps\n",
    "## x and y axis - time windows\n",
    "\n",
    "## Reading in file with all data\n",
    "with open(\"E:\\\\Ratterdam\\\\R_data_repetition\\\\20220405-124315_superPopulationRepetition.pickle\",\"rb\") as f:\n",
    "    alldat = pickle.load(f)   \n",
    "store_dir = \"E:\\\\UserData\\\\Documents\\\\GitHub\\\\ratterdam\\\\RatterdamOpen_Project\\\\repetition_manuscript_code\\\\figure6\\\\\"\n",
    "\n",
    "interneuron_thresh = 0.03 ##0.08\n",
    "interneuron_num_alleys = 17\n",
    "all_delta_corr = [[],[],[],[],[],[],[]]\n",
    "fig, axs = plt.subplots(5,2, figsize = (12,30))\n",
    "num_cells = []\n",
    "all_rats = list(alldat.keys())\n",
    "figy = 0\n",
    "for rat in all_rats:\n",
    "    all_days = list(alldat[rat].keys())\n",
    "    figx = 0\n",
    "    for day in all_days:\n",
    "        day_neur = rat + '_' + day\n",
    "        print(day_neur)\n",
    "        anorm = np.load(store_dir + rat + '_' + day + '_time_alley_neur_normalized_.npy')\n",
    "        anorm[anorm == np.inf] = np.NaN\n",
    "        \n",
    "        ## excluding interneurons\n",
    "        exclude_only = np.nanmean(anorm, axis = (0,1))> interneuron_thresh\n",
    "        exclude_only= exclude_only*(np.sum(np.nanmean(anorm, axis = 0)>interneuron_thresh, axis = 0)>interneuron_num_alleys)\n",
    "        include_only = ~exclude_only\n",
    "        anorm = anorm[:,:, include_only]\n",
    "       \n",
    "        \n",
    "        corr_plot = np.zeros((len(anorm), len(anorm)))\n",
    "        for i in range(0, len(anorm)):\n",
    "            for j in range(0, len(anorm)):\n",
    "                if True not in np.isnan(anorm[i]) and True not in np.isnan(anorm[j]) and i!=j:\n",
    "                    corr_plot[i,j] = scipy.stats.pearsonr(anorm[i].flatten(),anorm[j].flatten())[0]\n",
    "                    if i>=j:\n",
    "                        all_delta_corr[abs(i-j)].append(corr_plot[i,j])\n",
    "                else:\n",
    "                    no_na_i = ~np.isnan(anorm[i].flatten())\n",
    "                    no_na_j = ~np.isnan(anorm[j].flatten())\n",
    "                    no_na = no_na_i*no_na_j\n",
    "                    corr_plot[i,j] = scipy.stats.pearsonr(anorm[i].flatten()[no_na],anorm[j].flatten()[no_na])[0]\n",
    "                    if i>=j:\n",
    "                        all_delta_corr[abs(i-j)].append(corr_plot[i,j])\n",
    "        sb.heatmap(corr_plot, ax = axs[figy, figx])\n",
    "        axs[figy, figx].set_title(rat + '_' + day)\n",
    "        axs[figy, figx].set_aspect('equal',adjustable='box')\n",
    "        ##plt.show()\n",
    "        figx = figx + 1\n",
    "    figy = figy + 1"
   ]
  },
  {
   "cell_type": "code",
   "execution_count": 22,
   "metadata": {},
   "outputs": [
    {
     "name": "stdout",
     "output_type": "stream",
     "text": [
      "R-squared: 0.276799\n",
      "pvalue: 0.000000\n",
      "slope: 0.002464\n"
     ]
    }
   ],
   "source": [
    "## plots a single figure showing drop in population-vector correlation with increasing time difference\n",
    "\n",
    "df_corr = pd.DataFrame(np.array([np.ones(len(all_delta_corr[1])),np.array(all_delta_corr[1])]).T, columns = ['time', 'correlation'])\n",
    "for j in range(2, len(all_delta_corr)):\n",
    "    df_new = pd.DataFrame(np.array([j*np.ones(len(all_delta_corr[j])),np.array(all_delta_corr[j])]).T, columns = ['time', 'correlation'])\n",
    "    df_corr = df_corr.append(df_new, ignore_index = True)\n",
    "\n",
    "    \n",
    "res = scipy.stats.linregress(df_corr)\n",
    "print(f\"R-squared: {res.rvalue**2:.6f}\")\n",
    "print(f\"pvalue: {res.pvalue**2:.6f}\")\n",
    "print(f\"slope: {res.slope**2:.6f}\")\n",
    "\n",
    "fig, ax = plt.subplots()\n",
    "boxes = ax.boxplot(all_delta_corr[1:],\n",
    "            notch=True,\n",
    "            patch_artist=True\n",
    "            )\n",
    "\n",
    "for patch in boxes['boxes']:\n",
    "    patch.set_facecolor('gray')\n",
    "    patch.set_edgecolor('black')\n",
    "    patch.set_linewidth(2)\n",
    "\n",
    "ax.set_xticklabels(np.arange(1, len(all_delta_corr)))\n",
    "ax.plot(np.arange(1, 7, 1), res.intercept + res.slope*np.arange(1, 7, 1), '-ro', label='fitted line')\n",
    "ax.spines['top'].set_visible(False)\n",
    "ax.spines['right'].set_visible(False)\n",
    "ax.tick_params(axis='both', labelsize=MDef.ticksize)\n",
    "ax.set_ylabel(\"Population Vector Correltion\", fontsize=MDef.ylabelsize)\n",
    "ax.set_xlabel(\"Time Delta (number of windows)\",fontsize=MDef.ylabelsize)\n",
    "plt.show()"
   ]
  },
  {
   "cell_type": "code",
   "execution_count": 116,
   "metadata": {},
   "outputs": [
    {
     "name": "stdout",
     "output_type": "stream",
     "text": [
      "F_onewayResult(statistic=11.26856399919152, pvalue=4.101165266138321e-09)\n"
     ]
    },
    {
     "data": {
      "text/html": [
       "<div>\n",
       "<style scoped>\n",
       "    .dataframe tbody tr th:only-of-type {\n",
       "        vertical-align: middle;\n",
       "    }\n",
       "\n",
       "    .dataframe tbody tr th {\n",
       "        vertical-align: top;\n",
       "    }\n",
       "\n",
       "    .dataframe thead th {\n",
       "        text-align: right;\n",
       "    }\n",
       "</style>\n",
       "<table border=\"1\" class=\"dataframe\">\n",
       "  <thead>\n",
       "    <tr style=\"text-align: right;\">\n",
       "      <th></th>\n",
       "      <th>sum_sq</th>\n",
       "      <th>df</th>\n",
       "      <th>F</th>\n",
       "      <th>PR(&gt;F)</th>\n",
       "    </tr>\n",
       "  </thead>\n",
       "  <tbody>\n",
       "    <tr>\n",
       "      <th>C(time)</th>\n",
       "      <td>0.646176</td>\n",
       "      <td>5.0</td>\n",
       "      <td>11.268564</td>\n",
       "      <td>4.101165e-09</td>\n",
       "    </tr>\n",
       "    <tr>\n",
       "      <th>Residual</th>\n",
       "      <td>1.571206</td>\n",
       "      <td>137.0</td>\n",
       "      <td>NaN</td>\n",
       "      <td>NaN</td>\n",
       "    </tr>\n",
       "  </tbody>\n",
       "</table>\n",
       "</div>"
      ],
      "text/plain": [
       "            sum_sq     df          F        PR(>F)\n",
       "C(time)   0.646176    5.0  11.268564  4.101165e-09\n",
       "Residual  1.571206  137.0        NaN           NaN"
      ]
     },
     "execution_count": 116,
     "metadata": {},
     "output_type": "execute_result"
    }
   ],
   "source": [
    "## statistic one way anova\n",
    "print(scipy.stats.f_oneway(all_delta_corr[1],all_delta_corr[2],all_delta_corr[3], all_delta_corr[4], all_delta_corr[5], all_delta_corr[6]))\n",
    "\n",
    "# Ordinary Least Squares (OLS) model\n",
    "model = ols('correlation ~ C(time)', data=df_corr).fit()\n",
    "anova_table = sm.stats.anova_lm(model, typ=2)\n",
    "anova_table\n"
   ]
  }
 ],
 "metadata": {
  "interpreter": {
   "hash": "810497aa9f218318f89d4d2cff33f7d283ecef935a2d4dd2910844a97859f315"
  },
  "kernelspec": {
   "display_name": "Python 3.8.8 ('base')",
   "language": "python",
   "name": "python3"
  },
  "language_info": {
   "codemirror_mode": {
    "name": "ipython",
    "version": 3
   },
   "file_extension": ".py",
   "mimetype": "text/x-python",
   "name": "python",
   "nbconvert_exporter": "python",
   "pygments_lexer": "ipython3",
   "version": "3.8.8"
  }
 },
 "nbformat": 4,
 "nbformat_minor": 4
}
