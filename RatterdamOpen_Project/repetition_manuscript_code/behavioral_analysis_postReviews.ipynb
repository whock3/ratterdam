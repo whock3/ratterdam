{
 "cells": [
  {
   "cell_type": "markdown",
   "metadata": {},
   "source": [
    "### Behavioral Analysis for eLife Reviews\n",
    "#### Looking at raw and filtered trajectories, distribution of turns, "
   ]
  },
  {
   "cell_type": "code",
   "execution_count": 2,
   "metadata": {},
   "outputs": [],
   "source": [
    "# Imports\n",
    "\n",
    "import numpy as np\n",
    "import utility_fx as util\n",
    "import os\n",
    "from matplotlib import pyplot as plt\n",
    "import ratterdam_Defaults as Def\n",
    "import ratterdam_visBasic as Vis\n",
    "import ratterdam_RepetitionCoreFx as RepCore\n",
    "import RateMapClass_William_20190308 as RateMapClass\n",
    "import williamDefaults as wmDef\n",
    "import pandas as pd\n",
    "import ratterdam_CoreDataStructures as Core\n",
    "import ratterdam_ParseBehavior as Parse\n",
    "import numpy as np\n",
    "import pandas as pd\n",
    "from scipy.stats import sem\n",
    "import utility_fx as util\n",
    "import os\n",
    "import matplotlib.gridspec as gridspec\n",
    "from matplotlib import pyplot as plt\n",
    "import ratterdam_Defaults as Def\n",
    "import ratterdam_visBasic as Vis\n",
    "import placeFieldBorders\n",
    "import RateMapClass_William_20190308 as RateMapClass\n",
    "import williamDefaults as wmDef\n",
    "from matplotlib.backends.backend_pdf import PdfPages\n",
    "import more_itertools, itertools\n",
    "from sklearn.metrics import auc\n",
    "from scipy.interpolate import splrep, splev, PchipInterpolator as pchip\n",
    "from scipy.spatial import ConvexHull\n",
    "import scipy\n",
    "import ratterdam_DataFiltering as Filt\n",
    "import alleyTransitions as alleyTrans\n",
    "import newAlleyBounds as nab\n",
    "import json\n",
    "from itertools import groupby\n",
    "import repeatingPC as repPC\n",
    "import matplotlib.path as path\n",
    "import copy \n",
    "\n"
   ]
  },
  {
   "cell_type": "code",
   "execution_count": 3,
   "metadata": {},
   "outputs": [],
   "source": [
    "%qtconsole --style paraiso-dark"
   ]
  },
  {
   "cell_type": "code",
   "execution_count": 4,
   "metadata": {},
   "outputs": [],
   "source": [
    "rat = \"R859\"\n",
    "day = \"D1\"\n",
    "clustName = \"TT1\\\\cl-maze1.1\"\n",
    "smoothing = 2\n",
    "vthresh = Def.velocity_filter_thresh"
   ]
  },
  {
   "cell_type": "code",
   "execution_count": 5,
   "metadata": {},
   "outputs": [],
   "source": [
    "df = f'E:\\Ratterdam\\\\{rat}\\\\{rat}_RatterdamOpen_{day}\\\\'\n",
    "with open(df+\"sessionEpochInfo.txt\",\"r\") as f:\n",
    "    lines = f.readlines()\n",
    "start, end = float(lines[0].split(',')[0]), float(lines[0].split(',')[1])\n",
    "pos = util.read_pos(df)\n",
    "ts = np.asarray(sorted(list(pos.keys())))\n",
    "posx, posy = Parse.adjustPosCamera(df, pos, ts)\n",
    "position = np.column_stack((ts, posx, posy))\n",
    "position = position[(position[:,0]>=start) & (position[:,0]<=end)]\n",
    "\n",
    "#next two lines gets rid of zeros that occur when you lose tracking\n",
    "# depending on how the camera image is flipped the zeros will either be\n",
    "# at 0,0 or 640,480\n",
    "position = position[np.logical_and(position[:,1]>0, position[:,2]>0)]\n",
    "position = position[np.logical_and(position[:,1]<640, position[:,2]<480)]"
   ]
  },
  {
   "cell_type": "code",
   "execution_count": 6,
   "metadata": {},
   "outputs": [],
   "source": [
    "base_position = copy.deepcopy(position) # keep a copy of original"
   ]
  },
  {
   "cell_type": "code",
   "execution_count": 7,
   "metadata": {},
   "outputs": [],
   "source": [
    "# processing step 1 - velocity filter\n",
    "sv = Filt.computeSpeed(position, winsz=50)\n",
    "vf_pos = position[sv > vthresh]\n",
    "removed_points = position[sv <= vthresh] # keep concatenating at each processing step the points youre removing so we can show them all at the end\n",
    "position = vf_pos\n"
   ]
  },
  {
   "cell_type": "code",
   "execution_count": 8,
   "metadata": {},
   "outputs": [],
   "source": [
    "#processing step 2 - behavior outside alleys or intersections\n",
    "ratborders = nab.loadAlleyBounds(rat, day)\n",
    "\n",
    "ontrackPositionIdx = np.empty((0), dtype=int)\n",
    "\n",
    "for regionName, b in ratborders.alleyInterBounds.items():\n",
    "    ul, ll, ur, lr = [b[0][0], b[1][1]], \\\n",
    "                    [b[0][0], b[1][0]], \\\n",
    "                    [b[0][1], b[1][1]], \\\n",
    "                    [b[0][1], b[1][0]]\n",
    "\n",
    "    contour = path.Path([ll, lr, ur, ul])\n",
    "    posIdx = np.where(contour.contains_points(position[:,1:]))[0]\n",
    "\n",
    "    ontrackPositionIdx = np.concatenate((ontrackPositionIdx, \n",
    "                                        posIdx.astype(int)))\n",
    "\n",
    "\n",
    "\n",
    "\n",
    "\n",
    "ontrackPosition = position[ontrackPositionIdx]\n",
    "offtrackPositionIdx = [i for i in range(len(position)) if i not in ontrackPositionIdx]\n",
    "offtrackPosition = position[offtrackPositionIdx]"
   ]
  },
  {
   "cell_type": "code",
   "execution_count": 9,
   "metadata": {},
   "outputs": [],
   "source": [
    "pos, turns = alleyTrans.alleyTransitions(base_position, ratborders, graph=False)\n",
    "turns = pd.DataFrame(turns)\n",
    "turns.columns = ['Allo-','Ego','Allo+','Ts exit','Ts entry', 'Alley-', 'Inter','Alley+']\n",
    "\n",
    "turns = pd.DataFrame(data=turns)\n",
    "turns.dropna(inplace=True) "
   ]
  },
  {
   "cell_type": "code",
   "execution_count": 10,
   "metadata": {},
   "outputs": [],
   "source": [
    "rewards = RepCore.readinRewards(rat, day)\n"
   ]
  },
  {
   "cell_type": "code",
   "execution_count": 65,
   "metadata": {},
   "outputs": [],
   "source": [
    "# this is for filtering pass through visits as opposed to turnarounds \n",
    "filteredOut = np.empty((0,2))\n",
    "filteredIn = np.empty((0,2))\n",
    "\n",
    "for i in range(1,turns.shape[0]-1):\n",
    "    row = turns.iloc[i]\n",
    "    inter = row['Inter']\n",
    "    # edit 10/2 removing check that last turn's inter wasnt the same,\n",
    "    # i.e if alley- had a turnaround. since we are looking at things\n",
    "    # in terms of alley+, only remove a turn if thats where a turnaround was\n",
    "    #4/4/22 added checking turns ego not equal 0. this corresponds to lost tracking \n",
    "    ts_start, ts_end = float(row['Ts entry']), float(turns.iloc[i+1]['Ts exit'])\n",
    "    behav = ontrackPosition[(ontrackPosition[:,0]>ts_start)&(ontrackPosition[:,0]<=ts_end)]\n",
    "    behav = behav[(behav[:,1]>0)&(behav[:,2]>0)]\n",
    "    behav = behav[:,1:] # remove ts, keep pos only\n",
    "    isReward = np.where(np.asarray([(ts_start < i < ts_end) for i in rewards])==True)[0]\n",
    "\n",
    "    if row.Ego not in ['0','3'] and turns.iloc[i+1].Inter != inter and len(isReward)==0:\n",
    "        filteredIn = np.vstack((filteredIn, behav))\n",
    "    else:\n",
    "        filteredOut = np.vstack((filteredOut, behav))\n",
    "\n",
    "\n",
    "\n"
   ]
  },
  {
   "cell_type": "code",
   "execution_count": null,
   "metadata": {},
   "outputs": [],
   "source": []
  }
 ],
 "metadata": {
  "kernelspec": {
   "display_name": "Python 3.8.8 ('base')",
   "language": "python",
   "name": "python3"
  },
  "language_info": {
   "codemirror_mode": {
    "name": "ipython",
    "version": 3
   },
   "file_extension": ".py",
   "mimetype": "text/x-python",
   "name": "python",
   "nbconvert_exporter": "python",
   "pygments_lexer": "ipython3",
   "version": "3.8.8"
  },
  "orig_nbformat": 4,
  "vscode": {
   "interpreter": {
    "hash": "810497aa9f218318f89d4d2cff33f7d283ecef935a2d4dd2910844a97859f315"
   }
  }
 },
 "nbformat": 4,
 "nbformat_minor": 2
}
