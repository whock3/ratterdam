{
 "cells": [
  {
   "cell_type": "markdown",
   "metadata": {},
   "source": [
    "## Notebook to Analyze whether repeating place fields spatially cluster on the maze\n",
    "### WH 2023-10-13"
   ]
  },
  {
   "cell_type": "code",
   "execution_count": null,
   "metadata": {},
   "outputs": [],
   "source": [
    "%connect_info"
   ]
  },
  {
   "cell_type": "code",
   "execution_count": 119,
   "metadata": {},
   "outputs": [],
   "source": [
    "# Imports \n",
    "import numpy as np\n",
    "import utility_fx as util\n",
    "import os\n",
    "from matplotlib import pyplot as plt\n",
    "import ratterdam_Defaults as Def\n",
    "import ratterdam_visBasic as Vis\n",
    "import ratterdam_RepetitionCoreFx as RepCore\n",
    "import RateMapClass_William_20190308 as RateMapClass\n",
    "import williamDefaults as wmDef\n",
    "import alleyTransitions as alleyTrans\n",
    "import newAlleyBounds as nab\n",
    "import pandas as pd\n",
    "import repeatingPC as repPC\n",
    "import ratterdam_DataFiltering as Filt \n",
    "import pickle \n",
    "from matplotlib import path\n",
    "import itertools\n",
    "from scipy.stats import pearsonr"
   ]
  },
  {
   "cell_type": "code",
   "execution_count": 7,
   "metadata": {},
   "outputs": [],
   "source": [
    "## Reading in file with all data\n",
    "with open(\"E:\\\\Ratterdam\\\\R_data_repetition\\\\20220405-124315_superPopulationRepetition.pickle\",\"rb\") as f:\n",
    "    alldat = pickle.load(f)  "
   ]
  },
  {
   "cell_type": "code",
   "execution_count": 25,
   "metadata": {},
   "outputs": [],
   "source": [
    "rat, day = \"R859\", \"D1\"\n",
    "data = alldat[rat][day]\n",
    "units = data['units']"
   ]
  },
  {
   "cell_type": "code",
   "execution_count": 26,
   "metadata": {},
   "outputs": [],
   "source": [
    "clustList = list(units.keys())"
   ]
  },
  {
   "cell_type": "code",
   "execution_count": 30,
   "metadata": {},
   "outputs": [],
   "source": [
    "ratborders = nab.loadAlleyBounds(rat, day)\n"
   ]
  },
  {
   "cell_type": "code",
   "execution_count": 106,
   "metadata": {},
   "outputs": [],
   "source": [
    "alleyDistances  = pd.read_excel(\"E:\\\\Ratterdam\\\\alley_distances_full.xlsx\",index_col=0)"
   ]
  },
  {
   "cell_type": "code",
   "execution_count": 93,
   "metadata": {},
   "outputs": [],
   "source": [
    "def calcSingleAlleyRatemap(unit,alley):\n",
    "    ontrackSpikesIdx = np.empty((0), dtype=int)\n",
    "    ontrackPositionIdx = np.empty((0), dtype=int)\n",
    "    sigma = 1\n",
    "    b  = ratborders.alleyInterBounds[str(alley)]\n",
    "    ul, ll, ur, lr = [b[0][0], b[1][1]], \\\n",
    "                    [b[0][0], b[1][0]], \\\n",
    "                    [b[0][1], b[1][1]], \\\n",
    "                    [b[0][1], b[1][0]]\n",
    "\n",
    "    contour = path.Path([ll, lr, ur, ul])\n",
    "    posIdx = np.where(contour.contains_points(unit.position[:,1:]))[0]\n",
    "    spkIdx = np.where(contour.contains_points(unit.spikes[:,1:]))[0]\n",
    "\n",
    "    ontrackPositionIdx = np.concatenate((ontrackPositionIdx, \n",
    "                                        posIdx.astype(int)))\n",
    "\n",
    "    ontrackSpikesIdx = np.concatenate((ontrackSpikesIdx, \n",
    "                                        spkIdx.astype(int)))\n",
    "    position = unit.position[ontrackPositionIdx]\n",
    "    spikes = unit.spikes[ontrackSpikesIdx]\n",
    "\n",
    "\n",
    "    if alley in [0, 4, 6, 1, 12, 8, 15, 13, 10]:\n",
    "        rows,cols = [5,8]\n",
    "        dim = 0 # axis to average over - long axis. \n",
    "    elif alley in [2, 16, 3, 14, 5, 11, 7, 9]:\n",
    "        rows, cols = [8,5]\n",
    "        dim = 1\n",
    "\n",
    "    hs,xe,ye = np.histogram2d(spikes[:,2],spikes[:,1],bins=[rows, cols])\n",
    "    ho = np.histogram2d(position[:,2],position[:,1],bins=[rows, cols])[0]\n",
    "    n = (hs*np.reciprocal(ho))*30\n",
    "    n[np.where(ho==0)] = np.nan\n",
    "\n",
    "\n",
    "    sm_n = util.weird_smooth(np.nanmean(n,axis=dim),sigma)\n",
    "\n",
    "    return sm_n\n"
   ]
  },
  {
   "cell_type": "code",
   "execution_count": 112,
   "metadata": {},
   "outputs": [],
   "source": [
    "pairs = list(itertools.combinations(alleyDistances.columns,2))"
   ]
  },
  {
   "cell_type": "code",
   "execution_count": 123,
   "metadata": {},
   "outputs": [],
   "source": [
    "maxD = alleyDistances.max().max() # this should always be 4. \n",
    "corrByDist = {i:[] for i in range(1,maxD+1)}"
   ]
  },
  {
   "cell_type": "code",
   "execution_count": 124,
   "metadata": {},
   "outputs": [
    {
     "name": "stderr",
     "output_type": "stream",
     "text": [
      "<ipython-input-93-54855bcd8b71>:33: RuntimeWarning: divide by zero encountered in reciprocal\n",
      "  n = (hs*np.reciprocal(ho))*30\n",
      "<ipython-input-93-54855bcd8b71>:33: RuntimeWarning: invalid value encountered in multiply\n",
      "  n = (hs*np.reciprocal(ho))*30\n"
     ]
    }
   ],
   "source": [
    "for (a1,a2) in pairs:\n",
    "    n1 = calcSingleAlleyRatemap(unit,a1)\n",
    "    n2 = calcSingleAlleyRatemap(unit,a2)\n",
    "    r,p = pearsonr(n1,n2)\n",
    "    d = alleyDistances[a1][a2]\n",
    "    corrByDist[d].append(r)\n",
    "    "
   ]
  },
  {
   "cell_type": "code",
   "execution_count": 129,
   "metadata": {},
   "outputs": [],
   "source": [
    "meancorr = [np.nanmean(i) for i in corrByDist.values()]\n",
    "meancorrs.append(meancorr)"
   ]
  },
  {
   "cell_type": "markdown",
   "metadata": {},
   "source": [
    "## Whole routine below"
   ]
  },
  {
   "cell_type": "code",
   "execution_count": 135,
   "metadata": {},
   "outputs": [],
   "source": [
    "meancorrs = []\n",
    "\n",
    "rat_list = ['R765',\n",
    "            'R765',\n",
    "            'R781', \n",
    "            'R781', \n",
    "            'R808', \n",
    "            'R808', \n",
    "            'R859', \n",
    "            'R859', \n",
    "            'R886', \n",
    "            'R886']\n",
    "\n",
    "day_list = ['RFD5',\n",
    "            'DFD4',\n",
    "            'D3', \n",
    "            'D4',\n",
    "            'D6',\n",
    "            'D7',\n",
    "            'D1',\n",
    "            'D2',\n",
    "            'D1',\n",
    "            'D2']\n",
    "\n",
    "\n",
    "\n"
   ]
  },
  {
   "cell_type": "code",
   "execution_count": 155,
   "metadata": {},
   "outputs": [
    {
     "name": "stdout",
     "output_type": "stream",
     "text": [
      "R765 RFD5\n"
     ]
    },
    {
     "name": "stderr",
     "output_type": "stream",
     "text": [
      "<ipython-input-93-54855bcd8b71>:33: RuntimeWarning: divide by zero encountered in reciprocal\n",
      "  n = (hs*np.reciprocal(ho))*30\n",
      "<ipython-input-93-54855bcd8b71>:33: RuntimeWarning: invalid value encountered in multiply\n",
      "  n = (hs*np.reciprocal(ho))*30\n",
      "c:\\Users\\whockei1\\Anaconda3\\lib\\site-packages\\scipy\\stats\\stats.py:3913: PearsonRConstantInputWarning: An input array is constant; the correlation coefficent is not defined.\n",
      "  warnings.warn(PearsonRConstantInputWarning())\n"
     ]
    },
    {
     "name": "stdout",
     "output_type": "stream",
     "text": [
      "R765 DFD4\n",
      "R781 D3\n",
      "R781 D4\n",
      "R808 D6\n",
      "R808 D7\n",
      "R859 D1\n",
      "R859 D2\n",
      "R886 D1\n",
      "R886 D2\n"
     ]
    }
   ],
   "source": [
    "all_meancorrs = []\n",
    "for rat, day in zip(rat_list, day_list):\n",
    "     print(rat,day)\n",
    "     ratborders = nab.loadAlleyBounds(rat, day)\n",
    "     data = alldat[rat][day]\n",
    "     units = data['units']\n",
    "     \n",
    "     clustList = list(units.keys())\n",
    "\n",
    "     for unitName, unit in units.items():\n",
    "          if unit.repeating:\n",
    "               corrByDist = {i:[] for i in range(1,maxD+1)}\n",
    "               for (a1,a2) in pairs:\n",
    "                    n1 = calcSingleAlleyRatemap(unit,a1)\n",
    "                    n2 = calcSingleAlleyRatemap(unit,a2)\n",
    "                    r,p = pearsonr(n1,n2)\n",
    "                    d = alleyDistances[a1][a2]\n",
    "                    corrByDist[d].append(r)\n",
    "               meancorr = [np.nanmean(i) for i in corrByDist.values()]\n",
    "               all_meancorrs.append(meancorr)\n",
    "    \n",
    "     "
   ]
  },
  {
   "cell_type": "code",
   "execution_count": null,
   "metadata": {},
   "outputs": [],
   "source": []
  }
 ],
 "metadata": {
  "kernelspec": {
   "display_name": "Python 3.8.8 ('base')",
   "language": "python",
   "name": "python3"
  },
  "language_info": {
   "codemirror_mode": {
    "name": "ipython",
    "version": 3
   },
   "file_extension": ".py",
   "mimetype": "text/x-python",
   "name": "python",
   "nbconvert_exporter": "python",
   "pygments_lexer": "ipython3",
   "version": "3.8.8"
  },
  "orig_nbformat": 4,
  "vscode": {
   "interpreter": {
    "hash": "810497aa9f218318f89d4d2cff33f7d283ecef935a2d4dd2910844a97859f315"
   }
  }
 },
 "nbformat": 4,
 "nbformat_minor": 2
}
