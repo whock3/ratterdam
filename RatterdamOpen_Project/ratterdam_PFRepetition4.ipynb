{
 "cells": [
  {
   "cell_type": "markdown",
   "metadata": {},
   "source": [
    "# Ratterdam - Place Field Repetition - Field Dynamics Exploration\n",
    "### WH Mid August 2020\n",
    "### Goal is to explore the variables contributing to PF repetition and specifically temporal field dynamics"
   ]
  },
  {
   "cell_type": "code",
   "execution_count": 2,
   "metadata": {},
   "outputs": [],
   "source": [
    "import ratterdam_CoreDataStructures as Core\n",
    "import ratterdam_ParseBehavior as Parse\n",
    "import numpy as np\n",
    "from importlib import reload\n",
    "from scipy.stats import sem\n",
    "import utility_fx as util\n",
    "import os\n",
    "import matplotlib.gridspec as gridspec\n",
    "from matplotlib import pyplot as plt\n",
    "import ratterdam_Defaults as Def\n",
    "import ratterdam_visBasic as Vis\n",
    "import RateMapClass_William_20190308 as RateMapClass\n",
    "# import repeatingPC\n",
    "# import placeFieldBorders\n",
    "import ratterdam_RepetitionCoreFx as RepCore\n",
    "import williamDefaults as wmDef\n",
    "from matplotlib.backends.backend_pdf import PdfPages\n",
    "import more_itertools, itertools\n",
    "from sklearn.metrics import auc\n",
    "import alphashape\n",
    "from descartes import PolygonPatch\n",
    "from scipy.interpolate import splrep, splev\n",
    "from scipy.spatial import ConvexHull\n",
    "import scipy"
   ]
  },
  {
   "cell_type": "code",
   "execution_count": 3,
   "metadata": {
    "collapsed": true
   },
   "outputs": [],
   "source": [
    "%qtconsole --style native\n",
    "%matplotlib qt5"
   ]
  },
  {
   "cell_type": "code",
   "execution_count": 4,
   "metadata": {},
   "outputs": [
    {
     "ename": "FileNotFoundError",
     "evalue": "[Errno 2] No such file or directory: 'E:\\\\Ratterdam\\\\R859\\\\R859_RatterdamOpen_D3\\\\TT2\\\\cl-maze1.1'",
     "output_type": "error",
     "traceback": [
      "\u001b[1;31m---------------------------------------------------------------------------\u001b[0m",
      "\u001b[1;31mFileNotFoundError\u001b[0m                         Traceback (most recent call last)",
      "\u001b[1;32m<ipython-input-4-08aa0a11cedb>\u001b[0m in \u001b[0;36m<module>\u001b[1;34m()\u001b[0m\n\u001b[0;32m      4\u001b[0m \u001b[0mdf\u001b[0m \u001b[1;33m=\u001b[0m \u001b[1;34mf'E:\\Ratterdam\\\\{rat}\\\\{rat}_RatterdamOpen_{day}\\\\'\u001b[0m\u001b[1;33m\u001b[0m\u001b[0m\n\u001b[0;32m      5\u001b[0m \u001b[0mclust\u001b[0m \u001b[1;33m=\u001b[0m \u001b[1;34m'TT2\\\\cl-maze1.1'\u001b[0m\u001b[1;33m\u001b[0m\u001b[0m\n\u001b[1;32m----> 6\u001b[1;33m \u001b[0munit\u001b[0m \u001b[1;33m=\u001b[0m \u001b[0mRepCore\u001b[0m\u001b[1;33m.\u001b[0m\u001b[0mloadRepeatingUnit\u001b[0m\u001b[1;33m(\u001b[0m\u001b[0mdf\u001b[0m\u001b[1;33m,\u001b[0m \u001b[0mclust\u001b[0m\u001b[1;33m)\u001b[0m\u001b[1;33m\u001b[0m\u001b[0m\n\u001b[0m",
      "\u001b[1;32mE:\\UserData\\Documents\\GitHub\\ratterdam\\ratterdam_RepetitionCoreFx.py\u001b[0m in \u001b[0;36mloadRepeatingUnit\u001b[1;34m(df, clustName, smoothing)\u001b[0m\n\u001b[0;32m     45\u001b[0m     \u001b[0mposition\u001b[0m \u001b[1;33m=\u001b[0m \u001b[0mnp\u001b[0m\u001b[1;33m.\u001b[0m\u001b[0mcolumn_stack\u001b[0m\u001b[1;33m(\u001b[0m\u001b[1;33m(\u001b[0m\u001b[0mts\u001b[0m\u001b[1;33m,\u001b[0m \u001b[0mposx\u001b[0m\u001b[1;33m,\u001b[0m \u001b[0mposy\u001b[0m\u001b[1;33m)\u001b[0m\u001b[1;33m)\u001b[0m\u001b[1;33m\u001b[0m\u001b[0m\n\u001b[0;32m     46\u001b[0m     \u001b[0mposition\u001b[0m \u001b[1;33m=\u001b[0m \u001b[0mposition\u001b[0m\u001b[1;33m[\u001b[0m\u001b[1;33m(\u001b[0m\u001b[0mposition\u001b[0m\u001b[1;33m[\u001b[0m\u001b[1;33m:\u001b[0m\u001b[1;33m,\u001b[0m\u001b[1;36m0\u001b[0m\u001b[1;33m]\u001b[0m\u001b[1;33m>=\u001b[0m\u001b[0mstart\u001b[0m\u001b[1;33m)\u001b[0m \u001b[1;33m&\u001b[0m \u001b[1;33m(\u001b[0m\u001b[0mposition\u001b[0m\u001b[1;33m[\u001b[0m\u001b[1;33m:\u001b[0m\u001b[1;33m,\u001b[0m\u001b[1;36m0\u001b[0m\u001b[1;33m]\u001b[0m\u001b[1;33m<=\u001b[0m\u001b[0mend\u001b[0m\u001b[1;33m)\u001b[0m\u001b[1;33m]\u001b[0m\u001b[1;33m\u001b[0m\u001b[0m\n\u001b[1;32m---> 47\u001b[1;33m     \u001b[0mclust\u001b[0m \u001b[1;33m=\u001b[0m \u001b[0mnp\u001b[0m\u001b[1;33m.\u001b[0m\u001b[0masarray\u001b[0m\u001b[1;33m(\u001b[0m\u001b[0mutil\u001b[0m\u001b[1;33m.\u001b[0m\u001b[0mread_clust\u001b[0m\u001b[1;33m(\u001b[0m\u001b[0mdf\u001b[0m\u001b[1;33m+\u001b[0m\u001b[0mclustName\u001b[0m\u001b[1;33m)\u001b[0m\u001b[1;33m)\u001b[0m\u001b[1;33m\u001b[0m\u001b[0m\n\u001b[0m\u001b[0;32m     48\u001b[0m     \u001b[0mclust\u001b[0m \u001b[1;33m=\u001b[0m \u001b[0mclust\u001b[0m\u001b[1;33m[\u001b[0m\u001b[1;33m(\u001b[0m\u001b[0mclust\u001b[0m \u001b[1;33m>=\u001b[0m \u001b[0mstart\u001b[0m\u001b[1;33m)\u001b[0m \u001b[1;33m&\u001b[0m \u001b[1;33m(\u001b[0m\u001b[0mclust\u001b[0m \u001b[1;33m<=\u001b[0m \u001b[0mend\u001b[0m\u001b[1;33m)\u001b[0m\u001b[1;33m]\u001b[0m\u001b[1;33m\u001b[0m\u001b[0m\n\u001b[0;32m     49\u001b[0m     \u001b[0mspikexy\u001b[0m \u001b[1;33m=\u001b[0m \u001b[0mutil\u001b[0m\u001b[1;33m.\u001b[0m\u001b[0mgetPosFromTs\u001b[0m\u001b[1;33m(\u001b[0m\u001b[0mclust\u001b[0m\u001b[1;33m,\u001b[0m\u001b[0mposition\u001b[0m\u001b[1;33m)\u001b[0m\u001b[1;33m\u001b[0m\u001b[0m\n",
      "\u001b[1;32mE:\\UserData\\Documents\\GitHub\\ratterdam\\utility_fx.py\u001b[0m in \u001b[0;36mread_clust\u001b[1;34m(clustfile)\u001b[0m\n\u001b[0;32m     95\u001b[0m \u001b[1;32mdef\u001b[0m \u001b[0mread_clust\u001b[0m\u001b[1;33m(\u001b[0m\u001b[0mclustfile\u001b[0m\u001b[1;33m)\u001b[0m\u001b[1;33m:\u001b[0m\u001b[1;33m\u001b[0m\u001b[0m\n\u001b[0;32m     96\u001b[0m     \u001b[1;34m'''open a cl-mazeX.X file and read spike times into a list'''\u001b[0m\u001b[1;33m\u001b[0m\u001b[0m\n\u001b[1;32m---> 97\u001b[1;33m     \u001b[1;32mwith\u001b[0m \u001b[0mopen\u001b[0m\u001b[1;33m(\u001b[0m\u001b[0mclustfile\u001b[0m\u001b[1;33m)\u001b[0m \u001b[1;32mas\u001b[0m \u001b[0mclust\u001b[0m\u001b[1;33m:\u001b[0m\u001b[1;33m\u001b[0m\u001b[0m\n\u001b[0m\u001b[0;32m     98\u001b[0m         \u001b[0mraw_clust_data\u001b[0m \u001b[1;33m=\u001b[0m \u001b[0mclust\u001b[0m\u001b[1;33m.\u001b[0m\u001b[0mread\u001b[0m\u001b[1;33m(\u001b[0m\u001b[1;33m)\u001b[0m\u001b[1;33m.\u001b[0m\u001b[0msplitlines\u001b[0m\u001b[1;33m(\u001b[0m\u001b[1;33m)\u001b[0m\u001b[1;33m\u001b[0m\u001b[0m\n\u001b[0;32m     99\u001b[0m     \u001b[0mspikes\u001b[0m \u001b[1;33m=\u001b[0m \u001b[1;33m[\u001b[0m\u001b[1;33m]\u001b[0m\u001b[1;33m\u001b[0m\u001b[0m\n",
      "\u001b[1;31mFileNotFoundError\u001b[0m: [Errno 2] No such file or directory: 'E:\\\\Ratterdam\\\\R859\\\\R859_RatterdamOpen_D3\\\\TT2\\\\cl-maze1.1'"
     ]
    }
   ],
   "source": [
    "rat = \"R859\"\n",
    "day = \"D3\"\n",
    "savepath = f'E:\\\\Ratterdam\\\\{rat}\\\\ratterdam_plots\\\\{day}\\\\'\n",
    "df = f'E:\\Ratterdam\\\\{rat}\\\\{rat}_RatterdamOpen_{day}\\\\'\n",
    "clust = 'TT2\\\\cl-maze1.1'\n",
    "unit = RepCore.loadRepeatingUnit(df, clust)"
   ]
  },
  {
   "cell_type": "markdown",
   "metadata": {
    "collapsed": true
   },
   "source": [
    "## Visit Triggered Average\n",
    "#### For each visit in a field, look back in a window. Compute pearson r on field segment and all others, pairwise. \n",
    "#### Shuffle to test Ho: stat near 0, Ha: neg shifted."
   ]
  },
  {
   "cell_type": "code",
   "execution_count": 449,
   "metadata": {
    "collapsed": true
   },
   "outputs": [],
   "source": [
    "fieldArray = [i for i in unit.fields]"
   ]
  },
  {
   "cell_type": "code",
   "execution_count": 450,
   "metadata": {
    "collapsed": true
   },
   "outputs": [],
   "source": [
    "# create spline rep of the fields\n",
    "s=1\n",
    "k=3 # should be 3 usually\n",
    "fieldFx = [splrep(d[:,0], d[:,1], k=k, task=0, s=s) for d in fieldArray]\n",
    "fmax = int(np.ceil(max([max(field[:,0]) for field in fieldArray])))\n",
    "fmin = int(np.ceil(min([min(field[:,0]) for field in fieldArray])))\n",
    "\n",
    "# create spline rep of the fields\n",
    "s=1\n",
    "k=3 # should be 3 usually\n",
    "diffs = [np.column_stack((i[:,0],np.gradient(i[:,1]))) for i in unit.fields]\n",
    "diffFx = [splrep(d[:,0], d[:,1], k=k, task=0, s=s) for d in diffs]"
   ]
  },
  {
   "cell_type": "code",
   "execution_count": 323,
   "metadata": {
    "collapsed": true
   },
   "outputs": [],
   "source": [
    "def getTraceInWindow(fieldFx,fieldID,visitTs,winsize=1e6*5*60, numPts=75):\n",
    "    \"\"\"\n",
    "    Input:  fieldFx - list of spline reps that each represent a field in unit.fields (in same order)\n",
    "            fieldID - index of which field to use in fieldFx. Again, same order as in unit.fields.\n",
    "            visitTs - NL ts of a visit to a field\n",
    "            winSize - time to look back in us. Def is 5 min\n",
    "            numPts - number of points in the spline eval. Def is 75\n",
    "    Create a window looking back from the visit in time. Evaluate the spline\n",
    "    in that window and return.\n",
    "    Return: (n,) array of evaluted spline segment\n",
    "    \"\"\"\n",
    "    begin = visitTs-winsize\n",
    "    if begin <  0:\n",
    "        begin = 0\n",
    "    x = np.linspace(begin,visitTs,numPts)\n",
    "    sw = splev(x,fieldFx[fieldID])\n",
    "    return sw\n",
    "\n",
    "def rotateFields(unit):\n",
    "    \"\"\"\n",
    "    Input   - unit: Unit class object\n",
    "            \n",
    "    selects a temporal shift for each field. Shift is rotational such that \n",
    "    whatever 'falls off' end of vector 'comes back' to the front.\n",
    "    \n",
    "    Returns - GuttedField object with shifted fields in gunit.fields attribute\n",
    "    \"\"\"\n",
    "    gunit = GuttedUnit()\n",
    "    sfields = []\n",
    "    for field in unit.fields:\n",
    "        nvisits = field.shape[0]\n",
    "        shift = np.random.randint(0,nvisits)\n",
    "        sf = np.column_stack((field[:,0], np.roll(field[:,1], shift)))\n",
    "        sfields.append(sf)\n",
    "    gunit.fields = sfields\n",
    "    return gunit\n",
    "\n",
    "def corrTraces(a,b):\n",
    "    \"\"\"\n",
    "    Runs pearson R on inputs A,B returns the coeff.\n",
    "    \"\"\"\n",
    "    return scipy.stats.pearsonr(a,b)[0]"
   ]
  },
  {
   "cell_type": "code",
   "execution_count": 483,
   "metadata": {
    "collapsed": true
   },
   "outputs": [],
   "source": [
    "# Routine to look at each visit and perform a corr on the lagging window btwen it and each other field\n",
    "nf = len(unit.fields)\n",
    "pairs = [f\"{i[0]}{i[1]}\" for i in list(itertools.product(range(nf),range(nf)))]\n",
    "traces = {i:[] for i in pairs} \n",
    "corrs = {i:[] for i in pairs}\n",
    "\n",
    "for i,field in enumerate(unit.fields):\n",
    "    for visit in field:\n",
    "        ts = visit[0]\n",
    "        if ts > fmin+1e6*60*5:\n",
    "            for j,otherfield in enumerate(unit.fields):\n",
    "                if i!=j:\n",
    "                    segI = getTraceInWindow(diffFx, i, ts)\n",
    "                    segJ = getTraceInWindow(diffFx, j, ts)\n",
    "                    traces[f\"{i}{j}\"].append(np.argmax(scipy.signal.correlate(segI, segJ,mode='full')))\n",
    "                    corr = corrTraces(segI,segJ)\n",
    "                    corrs[f\"{i}{j}\"].append(corr)"
   ]
  },
  {
   "cell_type": "code",
   "execution_count": 485,
   "metadata": {
    "collapsed": true
   },
   "outputs": [],
   "source": [
    "x0 = [i for i in unit.fields[0][:,0] if i > fmin+1e6*60*5]\n",
    "x1 = [i for i in unit.fields[1][:,0] if i > fmin+1e6*60*5]\n",
    "x2 = [i for i in unit.fields[2][:,0] if i > fmin+1e6*60*5]\n",
    "xvs = {\"0\":x0, \"1\":x1, \"2\":x2}"
   ]
  },
  {
   "cell_type": "code",
   "execution_count": 488,
   "metadata": {},
   "outputs": [
    {
     "data": {
      "text/plain": [
       "[<matplotlib.lines.Line2D at 0x1a78de84ac8>]"
      ]
     },
     "execution_count": 488,
     "metadata": {},
     "output_type": "execute_result"
    }
   ],
   "source": [
    "plt.figure()\n",
    "pair = \"12\"\n",
    "plt.title(pair+\" Grad\")\n",
    "plt.plot(xvs[pair[0]], traces[pair], linestyle='-',marker='.')\n",
    "pair = \"21\"\n",
    "plt.plot(xvs[pair[0]], traces[pair], linestyle='-',marker='.')"
   ]
  },
  {
   "cell_type": "code",
   "execution_count": null,
   "metadata": {
    "collapsed": true
   },
   "outputs": [],
   "source": []
  }
 ],
 "metadata": {
  "kernelspec": {
   "display_name": "Python 3",
   "language": "python",
   "name": "python3"
  },
  "language_info": {
   "codemirror_mode": {
    "name": "ipython",
    "version": 3
   },
   "file_extension": ".py",
   "mimetype": "text/x-python",
   "name": "python",
   "nbconvert_exporter": "python",
   "pygments_lexer": "ipython3",
   "version": "3.6.3"
  }
 },
 "nbformat": 4,
 "nbformat_minor": 2
}
