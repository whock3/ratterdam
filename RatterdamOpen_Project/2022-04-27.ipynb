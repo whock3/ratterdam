{
 "cells": [
  {
   "cell_type": "markdown",
   "metadata": {},
   "source": [
    "### Scrap/prototyping code as I wrap up repetition manuscript"
   ]
  },
  {
   "cell_type": "code",
   "execution_count": 1,
   "metadata": {},
   "outputs": [],
   "source": [
    "import pickle, numpy as np, os, sys\n",
    "from matplotlib import pyplot as plt\n",
    "from scipy.stats import binom_test\n",
    "import repetition_manuscript_defaults as MDef\n",
    "from matplotlib.ticker import MaxNLocator\n",
    "import pandas as pd\n",
    "from sklearn.datasets import make_multilabel_classification \n",
    "from collections import Counter\n",
    "import ratterdam_RepetitionCoreFx as RepCore\n",
    "import williamDefaults as wmDef \n",
    "\n",
    "plt.ion()\n",
    "\n",
    "#Load dict containing all recording day datasets\n",
    "# structure is rat > day > unit\n",
    "# unit is a Unit() class \n",
    "with open(\"E:\\\\Ratterdam\\\\R_data_repetition\\\\20220405-124315_superPopulationRepetition.pickle\",\"rb\") as f:\n",
    "    superpop = pickle.load(f)   \n",
    "    "
   ]
  },
  {
   "cell_type": "code",
   "execution_count": 5,
   "metadata": {},
   "outputs": [],
   "source": [
    "# third complex/ambiguous example from fig 1 \n",
    "unit = superpop['R808']['D6']['units']['TT12\\\\cl-maze1.9']\n"
   ]
  },
  {
   "cell_type": "code",
   "execution_count": 8,
   "metadata": {},
   "outputs": [],
   "source": [
    "%matplotlib qt5\n",
    "RepCore.plotRoutine_RepPF_TempDyn(unit)"
   ]
  },
  {
   "cell_type": "code",
   "execution_count": 18,
   "metadata": {},
   "outputs": [
    {
     "data": {
      "text/plain": [
       "[<matplotlib.lines.Line2D at 0x1dbbf04cd60>]"
      ]
     },
     "execution_count": 18,
     "metadata": {},
     "output_type": "execute_result"
    }
   ],
   "source": [
    "perimeter = unit.perimeters[6]\n",
    "oldPerim = unit.repUnit.PF[6].perimeter\n",
    "plt.plot(perimeter[:,0], perimeter[:,1],'g')"
   ]
  }
 ],
 "metadata": {
  "interpreter": {
   "hash": "810497aa9f218318f89d4d2cff33f7d283ecef935a2d4dd2910844a97859f315"
  },
  "kernelspec": {
   "display_name": "Python 3.8.8 ('base')",
   "language": "python",
   "name": "python3"
  },
  "language_info": {
   "codemirror_mode": {
    "name": "ipython",
    "version": 3
   },
   "file_extension": ".py",
   "mimetype": "text/x-python",
   "name": "python",
   "nbconvert_exporter": "python",
   "pygments_lexer": "ipython3",
   "version": "3.8.8"
  },
  "orig_nbformat": 4
 },
 "nbformat": 4,
 "nbformat_minor": 2
}
