{
 "cells": [
  {
   "cell_type": "markdown",
   "metadata": {},
   "source": [
    "Jupyter notebook to write shuffling test for single unit response to direction (and probably time). \n",
    "\n",
    "WH 8/8/2023"
   ]
  },
  {
   "cell_type": "code",
   "execution_count": 1,
   "metadata": {},
   "outputs": [],
   "source": [
    "from matplotlib import pyplot as plt\n",
    "import pandas as pd\n",
    "import numpy as np\n",
    "from scipy.stats import mannwhitneyu"
   ]
  },
  {
   "cell_type": "code",
   "execution_count": 2,
   "metadata": {},
   "outputs": [],
   "source": [
    "%qtconsole --style material"
   ]
  },
  {
   "cell_type": "code",
   "execution_count": 7,
   "metadata": {},
   "outputs": [],
   "source": [
    "# doing without shuffle - this from fig 3 code \n",
    "pvals = []\n",
    "meanDiff = []\n",
    "mw_fids = [] # field IDs from MW test\n",
    "for orien in ['V','H']:\n",
    "    odf = df[df.Orientation==orien]\n",
    "    for fname, fgroup in odf.groupby(\"FieldID\"):\n",
    "        dirs = np.unique(fgroup.CurrDir)\n",
    "\n",
    "        dirA = fgroup[fgroup.CurrDir==dirs[0]]\n",
    "        dirB = fgroup[fgroup.CurrDir==dirs[1]]\n",
    "        try:\n",
    "            pvals.append(mannwhitneyu(dirA.Rate, dirB.Rate).pvalue)\n",
    "            meanDiff.append(abs(dirA.Rate.mean()-dirB.Rate.mean()))\n",
    "            mw_fids.append(fname)\n",
    "        except:\n",
    "            # pvals.append(1)\n",
    "            # meanDiff.append(0)\n",
    "            pass"
   ]
  },
  {
   "cell_type": "code",
   "execution_count": 31,
   "metadata": {},
   "outputs": [],
   "source": [
    "# unpackaged shuffle code. shuffle 1000x, compare real meanDiff to 95% of shuffled diff\n",
    "nshuffle = 1000\n",
    "pvals = []\n",
    "meanDiff = []\n",
    "sigByshuff = []\n",
    "mw_fids = [] # field IDs from MW test\n",
    "for orien in ['V','H']:\n",
    "    odf = df[df.Orientation==orien]\n",
    "    for fname, fgroup in odf.groupby(\"FieldID\"):\n",
    "\n",
    "        # get real difference\n",
    "        dirs = np.unique(fgroup.CurrDir)\n",
    "        dirA = fgroup[fgroup.CurrDir==dirs[0]]\n",
    "        dirB = fgroup[fgroup.CurrDir==dirs[1]]\n",
    "        shuffDiffs = []\n",
    "        try:\n",
    "            pvals.append(mannwhitneyu(dirA.Rate, dirB.Rate).pvalue)\n",
    "            md=abs(dirA.Rate.mean()-dirB.Rate.mean())\n",
    "            meanDiff.append(md)\n",
    "            mw_fids.append(fname)\n",
    "            for n in range(nshuffle):\n",
    "                shuffDir = np.random.permutation(fgroup.CurrDir)\n",
    "                dirA = fgroup[shuffDir==dirs[0]]\n",
    "                dirB = fgroup[shuffDir==dirs[1]]\n",
    "                smd = abs(dirA.Rate.mean()-dirB.Rate.mean())\n",
    "                shuffDiffs.append(smd)\n",
    "            if md > np.percentile(shuffDiffs, 95):\n",
    "                sigByshuff.append(1)\n",
    "            else:\n",
    "                sigByshuff.append(0)\n",
    "        except:\n",
    "            pass"
   ]
  },
  {
   "cell_type": "code",
   "execution_count": null,
   "metadata": {},
   "outputs": [],
   "source": []
  }
 ],
 "metadata": {
  "kernelspec": {
   "display_name": "Python 3.8.8 ('base')",
   "language": "python",
   "name": "python3"
  },
  "language_info": {
   "codemirror_mode": {
    "name": "ipython",
    "version": 3
   },
   "file_extension": ".py",
   "mimetype": "text/x-python",
   "name": "python",
   "nbconvert_exporter": "python",
   "pygments_lexer": "ipython3",
   "version": "3.8.8"
  },
  "orig_nbformat": 4,
  "vscode": {
   "interpreter": {
    "hash": "810497aa9f218318f89d4d2cff33f7d283ecef935a2d4dd2910844a97859f315"
   }
  }
 },
 "nbformat": 4,
 "nbformat_minor": 2
}
