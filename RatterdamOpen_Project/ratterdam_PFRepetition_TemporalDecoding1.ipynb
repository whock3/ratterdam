{
 "cells": [
  {
   "cell_type": "markdown",
   "metadata": {},
   "source": [
    "# Ratterdam Place Field Repetition\n",
    "# Temporal Decoding "
   ]
  },
  {
   "cell_type": "code",
   "execution_count": 1,
   "metadata": {
    "collapsed": true
   },
   "outputs": [],
   "source": [
    "import ratterdam_CoreDataStructures as Core\n",
    "import ratterdam_ParseBehavior as Parse\n",
    "import numpy as np\n",
    "from scipy.stats import sem\n",
    "import utility_fx as util\n",
    "import os\n",
    "import matplotlib.gridspec as gridspec\n",
    "from matplotlib import pyplot as plt\n",
    "import ratterdam_Defaults as Def\n",
    "import ratterdam_visBasic as Vis\n",
    "import ratterdam_RepetitionCoreFx as RepCore\n",
    "import RateMapClass_William_20190308 as RateMapClass\n",
    "import williamDefaults as wmDef\n",
    "from matplotlib import path\n",
    "from matplotlib.backends.backend_pdf import PdfPages\n",
    "import more_itertools, itertools\n",
    "from sklearn.metrics import auc\n",
    "from sklearn.neighbors import KNeighborsClassifier\n",
    "from sklearn.model_selection import train_test_split\n",
    "from scipy.interpolate import splrep, splev\n",
    "from scipy.spatial import ConvexHull\n",
    "import scipy"
   ]
  },
  {
   "cell_type": "code",
   "execution_count": 2,
   "metadata": {
    "collapsed": true
   },
   "outputs": [],
   "source": [
    "%qtconsole --style native\n",
    "%matplotlib qt5"
   ]
  },
  {
   "cell_type": "code",
   "execution_count": 240,
   "metadata": {},
   "outputs": [
    {
     "name": "stdout",
     "output_type": "stream",
     "text": [
      "0.034339063273122784\n",
      "0.10316680101289039\n",
      "0.6842628520340124\n"
     ]
    },
    {
     "name": "stderr",
     "output_type": "stream",
     "text": [
      "E:\\UserData\\Documents\\GitHub\\ratterdam\\RateMapClass_William_20190308.py:210: RuntimeWarning: invalid value encountered in greater_equal\n",
      "  aboveThreshold = np.where(rateMap >= max(fieldThreshold,0), True, False)\n",
      "C:\\Users\\whockei1\\AppData\\Roaming\\Python\\Python36\\site-packages\\skimage\\morphology\\_deprecated.py:5: skimage_deprecation: Function ``watershed`` is deprecated and will be removed in version 0.19. Use ``skimage.segmentation.watershed`` instead.\n",
      "  def watershed(image, markers=None, connectivity=1, offset=None, mask=None,\n",
      "C:\\Users\\whockei1\\AppData\\Roaming\\Python\\Python36\\site-packages\\skimage\\morphology\\_deprecated.py:5: skimage_deprecation: Function ``watershed`` is deprecated and will be removed in version 0.19. Use ``skimage.segmentation.watershed`` instead.\n",
      "  def watershed(image, markers=None, connectivity=1, offset=None, mask=None,\n",
      "C:\\Users\\whockei1\\AppData\\Local\\Continuum\\anaconda3\\lib\\site-packages\\ipykernel_launcher.py:75: RuntimeWarning: invalid value encountered in double_scalars\n"
     ]
    }
   ],
   "source": [
    "# Take each cell in a day and generate a plot with rate map overlaid w detected field edges\n",
    "# and field dynamics (Fr over time) below\n",
    "rat = \"R808\"\n",
    "day = \"D6\"\n",
    "savepath = f'E:\\\\Ratterdam\\\\{rat}\\\\ratterdam_plots\\\\{day}\\\\'\n",
    "df = f'E:\\Ratterdam\\\\{rat}\\\\{rat}_RatterdamOpen_{day}\\\\'\n",
    "clust = 'TT15\\\\cl-maze1.1'\n",
    "p, s = loadRepeatingUnit(df, clust)\n",
    "unit = Unit(s,p, clust)"
   ]
  },
  {
   "cell_type": "code",
   "execution_count": 3,
   "metadata": {
    "collapsed": true
   },
   "outputs": [],
   "source": [
    "def shuffleFields(unit):\n",
    "    \"\"\"\n",
    "    Takes a unit class as input and shuffles the firing rates of each field\n",
    "    w.r.t. time. Returns a list of (n,2) numpy arrays where n is the number of\n",
    "    visits for each field (and thus n varies as a fx of field)\n",
    "    \"\"\"\n",
    "    fields = []\n",
    "    for field in unit.fields:\n",
    "        fields.append(np.column_stack((field[:,0],np.random.permutation(field[:,1]))))\n",
    "    return fields"
   ]
  },
  {
   "cell_type": "markdown",
   "metadata": {},
   "source": [
    "## k-Nearest Neighbor Temporal Analysis\n",
    "### For each point, find n nearest neighbors in vector space and find mean actual distance in the array\n",
    "### Then shuffle the subfield visits, regenerate (null) semaphore plots and repeat (important not to just shuffle semaphores bc sliding window contamination)"
   ]
  },
  {
   "cell_type": "code",
   "execution_count": 241,
   "metadata": {},
   "outputs": [
    {
     "name": "stderr",
     "output_type": "stream",
     "text": [
      "C:\\Users\\whockei1\\AppData\\Local\\Continuum\\anaconda3\\lib\\site-packages\\matplotlib\\colorbar.py:215: UserWarning: Use the colorbar set_ticks() method instead.\n",
      "  warnings.warn(\"Use the colorbar set_ticks() method instead.\")\n"
     ]
    }
   ],
   "source": [
    "# Create real and 1 null semaphore and plot, just to look\n",
    "diffmats = makeSemaphores(unit.fields)\n",
    "\n",
    "sfields = shuffleFields(unit)\n",
    "smats = makeSemaphores(sfields)\n",
    "\n",
    "plotMats(diffmats,shuff=False)\n",
    "plotMats(smats,shuff=True)"
   ]
  },
  {
   "cell_type": "code",
   "execution_count": 242,
   "metadata": {},
   "outputs": [
    {
     "name": "stderr",
     "output_type": "stream",
     "text": [
      "C:\\Users\\whockei1\\AppData\\Local\\Continuum\\anaconda3\\lib\\site-packages\\scipy\\interpolate\\_fitpack_impl.py:512: RuntimeWarning: A theoretically impossible result when finding a smoothing spline\n",
      "with fp = s. Probable cause: s too small. (abs(fp-s)/s>0.001)\n",
      "  warnings.warn(RuntimeWarning(_iermess[ier][0]))\n",
      "C:\\Users\\whockei1\\AppData\\Local\\Continuum\\anaconda3\\lib\\site-packages\\scipy\\interpolate\\_fitpack_impl.py:512: RuntimeWarning: The maximal number of iterations (20) allowed for finding smoothing\n",
      "spline with fp=s has been reached. Probable cause: s too small.\n",
      "(abs(fp-s)/s>0.001)\n",
      "  warnings.warn(RuntimeWarning(_iermess[ier][0]))\n",
      "C:\\Users\\whockei1\\AppData\\Local\\Continuum\\anaconda3\\lib\\site-packages\\scipy\\interpolate\\_fitpack_impl.py:512: RuntimeWarning: A theoretically impossible result when finding a smoothing spline\n",
      "with fp = s. Probable cause: s too small. (abs(fp-s)/s>0.001)\n",
      "  warnings.warn(RuntimeWarning(_iermess[ier][0]))\n",
      "C:\\Users\\whockei1\\AppData\\Local\\Continuum\\anaconda3\\lib\\site-packages\\scipy\\interpolate\\_fitpack_impl.py:512: RuntimeWarning: The maximal number of iterations (20) allowed for finding smoothing\n",
      "spline with fp=s has been reached. Probable cause: s too small.\n",
      "(abs(fp-s)/s>0.001)\n",
      "  warnings.warn(RuntimeWarning(_iermess[ier][0]))\n",
      "C:\\Users\\whockei1\\AppData\\Local\\Continuum\\anaconda3\\lib\\site-packages\\scipy\\interpolate\\_fitpack_impl.py:512: RuntimeWarning: A theoretically impossible result when finding a smoothing spline\n",
      "with fp = s. Probable cause: s too small. (abs(fp-s)/s>0.001)\n",
      "  warnings.warn(RuntimeWarning(_iermess[ier][0]))\n",
      "C:\\Users\\whockei1\\AppData\\Local\\Continuum\\anaconda3\\lib\\site-packages\\scipy\\interpolate\\_fitpack_impl.py:512: RuntimeWarning: A theoretically impossible result when finding a smoothing spline\n",
      "with fp = s. Probable cause: s too small. (abs(fp-s)/s>0.001)\n",
      "  warnings.warn(RuntimeWarning(_iermess[ier][0]))\n",
      "C:\\Users\\whockei1\\AppData\\Local\\Continuum\\anaconda3\\lib\\site-packages\\scipy\\interpolate\\_fitpack_impl.py:512: RuntimeWarning: A theoretically impossible result when finding a smoothing spline\n",
      "with fp = s. Probable cause: s too small. (abs(fp-s)/s>0.001)\n",
      "  warnings.warn(RuntimeWarning(_iermess[ier][0]))\n",
      "C:\\Users\\whockei1\\AppData\\Local\\Continuum\\anaconda3\\lib\\site-packages\\scipy\\interpolate\\_fitpack_impl.py:512: RuntimeWarning: A theoretically impossible result when finding a smoothing spline\n",
      "with fp = s. Probable cause: s too small. (abs(fp-s)/s>0.001)\n",
      "  warnings.warn(RuntimeWarning(_iermess[ier][0]))\n"
     ]
    }
   ],
   "source": [
    "# kNN analysis\n",
    "ns = 1000 # num shuffles\n",
    "# real\n",
    "flatmats = [i.flatten() for i in diffmats]\n",
    "neigh = NearestNeighbors(n_neighbors=2).fit(flatmats)\n",
    "d,idx = neigh.kneighbors(flatmats)\n",
    "meanDist = np.mean(np.abs(np.diff(idx)))\n",
    "meanvecDist = np.mean(d[:,1])\n",
    "\n",
    "# shuffle\n",
    "shuffmeanIdxDists = []\n",
    "shuffmeanVecDists = []\n",
    "for n in range(ns):\n",
    "    sfields = shuffleFields(unit)\n",
    "    smats = makeSemaphores(sfields)\n",
    "    flatsmats = [i.flatten() for i in smats]\n",
    "    sneigh = NearestNeighbors(n_neighbors=2).fit(flatsmats)\n",
    "    sd,sidx = sneigh.kneighbors(flatsmats)\n",
    "    smeanDist = np.mean(np.abs(np.diff(sidx)))\n",
    "    shuffmeanDists.append(smeanDist)\n",
    "    smeanvecDist = np.mean(sd[:,1])\n",
    "    if smeanvecDist < 1000: # some shuff values are like 10e19. Maybe related to the 'impossible result' runtime error?\n",
    "        shuffmeanVecDists.append(smeanvecDist)"
   ]
  },
  {
   "cell_type": "code",
   "execution_count": 243,
   "metadata": {},
   "outputs": [
    {
     "data": {
      "text/plain": [
       "Text(0.5,1,'Average Vector Distance kNN vs Shuffle')"
      ]
     },
     "execution_count": 243,
     "metadata": {},
     "output_type": "execute_result"
    }
   ],
   "source": [
    "plt.figure()\n",
    "plt.hist(shuffmeanDists,bins=15)\n",
    "plt.vlines(meanDist,0,160,'r')\n",
    "np.percentile(shuffmeanDists,5)\n",
    "null5pct = np.percentile(shuffmeanDists,5)\n",
    "plt.vlines(null5pct,0,160,'k')\n",
    "plt.title(\"Average Index Distance kNN vs Shuffle\")\n",
    "\n",
    "plt.figure()\n",
    "plt.hist(shuffmeanVecDists,bins=100)\n",
    "plt.vlines(meanvecDist,0,160,'r')\n",
    "np.percentile(shuffmeanVecDists,5)\n",
    "null5pct = np.percentile(shuffmeanVecDists,5)\n",
    "plt.vlines(null5pct,0,160,'k')\n",
    "plt.title(\"Average Vector Distance kNN vs Shuffle\")"
   ]
  },
  {
   "cell_type": "markdown",
   "metadata": {},
   "source": [
    "### kNN Classification - Temporal Epoch\n",
    "### Divide session into n epochs, try to decode. Standard train/test classification"
   ]
  },
  {
   "cell_type": "code",
   "execution_count": 299,
   "metadata": {
    "collapsed": true
   },
   "outputs": [],
   "source": [
    "# Setup parameters and setup data\n",
    "n = 3\n",
    "testProp = 0.33\n",
    "idx = np.ceil(np.linspace(0,len(diffmats),n+1)).astype(np.int)\n",
    "diffmats = makeSemaphores(unit.fields)\n",
    "flatmats = np.asarray([i.flatten() for i in diffmats])\n",
    "split = np.split(flatmats,idx)\n",
    "labels = []\n",
    "for i in range(len(idx)-1):\n",
    "    l= idx[i+1]-idx[i]\n",
    "    labels.extend([i]*l)\n",
    "labels = np.asarray(labels)"
   ]
  },
  {
   "cell_type": "code",
   "execution_count": 300,
   "metadata": {},
   "outputs": [
    {
     "data": {
      "text/plain": [
       "Text(0.5,1,'kNN Classifier of Semaphore Plots, 3 Epochs, 500 runs')"
      ]
     },
     "execution_count": 300,
     "metadata": {},
     "output_type": "execute_result"
    }
   ],
   "source": [
    "# real\n",
    "rep = 500\n",
    "perfs = []\n",
    "for i in range(rep):\n",
    "    train, test = train_test_split(list(range(len(diffmats))), test_size=testProp)\n",
    "    Xtrain, Xtest, Ytrain, Ytest = flatmats[train], flatmats[test], labels[train], labels[test]\n",
    "    neigh = KNeighborsClassifier(n_neighbors=2)\n",
    "    neigh.fit(Xtrain, Ytrain)\n",
    "    perfs.append(sum(Ytest==neigh.predict(Xtest))/len(Xtest))  \n",
    "real5pct = np.percentile(perfs,5)\n",
    "plt.figure()\n",
    "plt.hist(perfs)\n",
    "plt.vlines(real5pct,0,100,'r')\n",
    "plt.vlines(1/3,0,100,'grey')\n",
    "plt.title(f\"kNN Classifier of Semaphore Plots, {n} Epochs, {rep} runs\", fontsize=18)"
   ]
  },
  {
   "cell_type": "code",
   "execution_count": 302,
   "metadata": {},
   "outputs": [
    {
     "name": "stderr",
     "output_type": "stream",
     "text": [
      "C:\\Users\\whockei1\\AppData\\Local\\Continuum\\anaconda3\\lib\\site-packages\\scipy\\interpolate\\_fitpack_impl.py:512: RuntimeWarning: A theoretically impossible result when finding a smoothing spline\n",
      "with fp = s. Probable cause: s too small. (abs(fp-s)/s>0.001)\n",
      "  warnings.warn(RuntimeWarning(_iermess[ier][0]))\n",
      "C:\\Users\\whockei1\\AppData\\Local\\Continuum\\anaconda3\\lib\\site-packages\\scipy\\interpolate\\_fitpack_impl.py:512: RuntimeWarning: A theoretically impossible result when finding a smoothing spline\n",
      "with fp = s. Probable cause: s too small. (abs(fp-s)/s>0.001)\n",
      "  warnings.warn(RuntimeWarning(_iermess[ier][0]))\n",
      "C:\\Users\\whockei1\\AppData\\Local\\Continuum\\anaconda3\\lib\\site-packages\\scipy\\interpolate\\_fitpack_impl.py:512: RuntimeWarning: The maximal number of iterations (20) allowed for finding smoothing\n",
      "spline with fp=s has been reached. Probable cause: s too small.\n",
      "(abs(fp-s)/s>0.001)\n",
      "  warnings.warn(RuntimeWarning(_iermess[ier][0]))\n"
     ]
    },
    {
     "data": {
      "text/plain": [
       "Text(0.5,1,'kNN Classifier of Semaphore Plots, 3 Epochs, 500 runs, shuff')"
      ]
     },
     "execution_count": 302,
     "metadata": {},
     "output_type": "execute_result"
    }
   ],
   "source": [
    "# shuffle\n",
    "rep = 500\n",
    "perfs = []\n",
    "for i in range(rep):\n",
    "    sfields = shuffleFields(unit)\n",
    "    smats = makeSemaphores(sfields)\n",
    "    flatsmats = np.asarray([i.flatten() for i in smats])\n",
    "    \n",
    "    train, test = train_test_split(list(range(len(flatsmats))), test_size=testProp)\n",
    "    Xtrain, Xtest, Ytrain, Ytest = flatsmats[train], flatsmats[test], labels[train], labels[test]\n",
    "    neigh = KNeighborsClassifier(n_neighbors=2)\n",
    "    neigh.fit(Xtrain, Ytrain)\n",
    "    perfs.append(sum(Ytest==neigh.predict(Xtest))/len(Xtest))  \n",
    "    \n",
    "real5pct = np.percentile(perfs,5)\n",
    "plt.figure()\n",
    "plt.hist(perfs)\n",
    "plt.vlines(real5pct,0,100,'r')\n",
    "plt.vlines(1/3,0,100,'grey')\n",
    "plt.title(f\"kNN Classifier of Semaphore Plots, {n} Epochs, {rep} runs, shuff visits within field\", fontsize=18)"
   ]
  },
  {
   "cell_type": "markdown",
   "metadata": {},
   "source": [
    "## kNN Classification - Analysing Any Cooperative Temporal Decoding between Fields within a cell\n",
    "### Decode temporal information (in epoch) from real data\n",
    "### Use 1) fields exchanged between units (matched to # real fields/cell) and 2) rotational shuffling within cell\n",
    "### versus shuffling visits within fields for each cell. This allows a dissociation between temporal decoding that is just from\n",
    "### single fields acting independently versus some 'cooperartive' coding between real fields for a repeating PC"
   ]
  },
  {
   "cell_type": "code",
   "execution_count": 34,
   "metadata": {
    "collapsed": true
   },
   "outputs": [],
   "source": [
    "# create a list of fields - all the fields from all the units. randomly grab from this\n",
    "allfields = []\n",
    "for u in population.values():\n",
    "    allfields.extend(u.fields)"
   ]
  },
  {
   "cell_type": "code",
   "execution_count": 36,
   "metadata": {
    "collapsed": true
   },
   "outputs": [],
   "source": [
    "class GuttedUnit():\n",
    "    \n",
    "    def __init__(self):\n",
    "        self.fields = []"
   ]
  },
  {
   "cell_type": "code",
   "execution_count": 37,
   "metadata": {
    "collapsed": true
   },
   "outputs": [],
   "source": [
    "def createShuffledUnit(unit, allfields):\n",
    "    \"\"\"\n",
    "    Input - unit: a unit object. unit.fields is a list of (n,2) arrays. Each entry is [ts,fr] where ts is in min and fr is in Hz\n",
    "          - allfields: a list of all fields from the population of repeating units. Each entry is a (n,2) array. Each entry is [ts,fr] where ts is in min and fr is in Hz          \n",
    "    This function will take a unit object and draw randomly from all the fields from all rep cells that day and assign to a 'field shuffled unit' (matching the # real fields / cell)   \n",
    "    Return - a stripped down unit object (only has fields as attribute) with the scrambled fields\n",
    "    \"\"\"\n",
    "    selectedFields = [allfields[i] for i in np.random.randint(0,len(allfields), len(unit.fields))]\n",
    "    sunit = GuttedUnit()\n",
    "    sunit.fields = selectedFields\n",
    "    return sunit"
   ]
  },
  {
   "cell_type": "code",
   "execution_count": 249,
   "metadata": {
    "collapsed": true
   },
   "outputs": [],
   "source": [
    "# Setup parameters and setup data\n",
    "clust = 'TT15\\\\cl-maze1.1'\n",
    "unit = population[clust]\n",
    "epochs = 3 # number of temporal epochs to decode\n",
    "nshuffles = 1000 # shuffles creating new data each time\n",
    "nreps = 100 # repeated decoding given a set of data\n",
    "trainProp = 0.67 # test is the complement\n",
    "nNeighbors = 2"
   ]
  },
  {
   "cell_type": "code",
   "execution_count": 250,
   "metadata": {},
   "outputs": [
    {
     "data": {
      "text/plain": [
       "(array([ 0.,  5., 10., 15., 20., 25., 30.]),\n",
       " <a list of 7 Text yticklabel objects>)"
      ]
     },
     "execution_count": 250,
     "metadata": {},
     "output_type": "execute_result"
    }
   ],
   "source": [
    "# real\n",
    "diffmats = makeSemaphores(unit.fields)\n",
    "flatmats = np.asarray([i.flatten() for i in diffmats])\n",
    "idx = np.ceil(np.linspace(0,len(diffmats),epochs+1)).astype(np.int)\n",
    "labels = []\n",
    "for i in range(len(idx)-1):\n",
    "    l= idx[i+1]-idx[i]\n",
    "    labels.extend([i]*l)\n",
    "labels = np.asarray(labels)\n",
    "\n",
    "rperfs = []\n",
    "for i in range(nreps):\n",
    "    train, test = train_test_split(list(range(len(diffmats))), train_size=trainProp)\n",
    "    Xtrain, Xtest, Ytrain, Ytest = flatmats[train], flatmats[test], labels[train], labels[test]\n",
    "    neigh = KNeighborsClassifier(n_neighbors=nNeighbors)\n",
    "    neigh.fit(Xtrain, Ytrain)\n",
    "    rperfs.append(sum(Ytest==neigh.predict(Xtest))/len(Xtest))  \n",
    "plt.figure()\n",
    "plt.hist(rperfs)\n",
    "# real5pct = np.percentile(rperfs,5)\n",
    "# plt.vlines(real5pct,0,100,'r')\n",
    "# plt.vlines(1/3,0,100,'grey')\n",
    "plt.title(f\"kNN Classifier of Semaphore Plots, {epochs} Epochs, {nreps} runs, real\", fontsize=18)\n",
    "plt.xticks(fontsize=18)\n",
    "plt.yticks(fontsize=18)"
   ]
  },
  {
   "cell_type": "code",
   "execution_count": 67,
   "metadata": {},
   "outputs": [
    {
     "data": {
      "text/plain": [
       "(array([  0.,  50., 100., 150., 200., 250.]),\n",
       " <a list of 6 Text yticklabel objects>)"
      ]
     },
     "execution_count": 67,
     "metadata": {},
     "output_type": "execute_result"
    }
   ],
   "source": [
    "# shuffled fields between units (each field real, ownership is shuffled)\n",
    "sfperfs = []\n",
    "for r in range(nshuffles):\n",
    "    sunit = createShuffledUnit(population[clust], allfields)\n",
    "    diffmats = makeSemaphores(sunit.fields)\n",
    "    flatmats = np.asarray([i.flatten() for i in diffmats])\n",
    "    \n",
    "    train, test = train_test_split(list(range(len(diffmats))), test_size=testProp)\n",
    "    Xtrain, Xtest, Ytrain, Ytest = flatmats[train], flatmats[test], labels[train], labels[test]\n",
    "    neigh = KNeighborsClassifier(n_neighbors=2)\n",
    "    neigh.fit(Xtrain, Ytrain)\n",
    "    sfperfs.append(sum(Ytest==neigh.predict(Xtest))/len(Xtest))  \n",
    "    \n",
    "real5pct = np.percentile(sfperfs,5)\n",
    "plt.figure()\n",
    "plt.hist(sfperfs)\n",
    "plt.vlines(real5pct,0,100,'r')\n",
    "plt.vlines(1/3,0,100,'grey')\n",
    "plt.title(f\"kNN Classifier of Semaphore Plots, {n} Epochs, {nshuffles} runs, Shuff Fields Between Cells\", fontsize=18)\n",
    "plt.xticks(fontsize=18)\n",
    "plt.yticks(fontsize=18)"
   ]
  },
  {
   "cell_type": "code",
   "execution_count": 73,
   "metadata": {},
   "outputs": [
    {
     "name": "stderr",
     "output_type": "stream",
     "text": [
      "C:\\Users\\whockei1\\AppData\\Local\\Continuum\\anaconda3\\lib\\site-packages\\scipy\\interpolate\\_fitpack_impl.py:512: RuntimeWarning: The maximal number of iterations (20) allowed for finding smoothing\n",
      "spline with fp=s has been reached. Probable cause: s too small.\n",
      "(abs(fp-s)/s>0.001)\n",
      "  warnings.warn(RuntimeWarning(_iermess[ier][0]))\n",
      "C:\\Users\\whockei1\\AppData\\Local\\Continuum\\anaconda3\\lib\\site-packages\\scipy\\interpolate\\_fitpack_impl.py:512: RuntimeWarning: A theoretically impossible result when finding a smoothing spline\n",
      "with fp = s. Probable cause: s too small. (abs(fp-s)/s>0.001)\n",
      "  warnings.warn(RuntimeWarning(_iermess[ier][0]))\n",
      "C:\\Users\\whockei1\\AppData\\Local\\Continuum\\anaconda3\\lib\\site-packages\\scipy\\interpolate\\_fitpack_impl.py:512: RuntimeWarning: A theoretically impossible result when finding a smoothing spline\n",
      "with fp = s. Probable cause: s too small. (abs(fp-s)/s>0.001)\n",
      "  warnings.warn(RuntimeWarning(_iermess[ier][0]))\n",
      "C:\\Users\\whockei1\\AppData\\Local\\Continuum\\anaconda3\\lib\\site-packages\\scipy\\interpolate\\_fitpack_impl.py:512: RuntimeWarning: A theoretically impossible result when finding a smoothing spline\n",
      "with fp = s. Probable cause: s too small. (abs(fp-s)/s>0.001)\n",
      "  warnings.warn(RuntimeWarning(_iermess[ier][0]))\n",
      "C:\\Users\\whockei1\\AppData\\Local\\Continuum\\anaconda3\\lib\\site-packages\\scipy\\interpolate\\_fitpack_impl.py:512: RuntimeWarning: A theoretically impossible result when finding a smoothing spline\n",
      "with fp = s. Probable cause: s too small. (abs(fp-s)/s>0.001)\n",
      "  warnings.warn(RuntimeWarning(_iermess[ier][0]))\n",
      "C:\\Users\\whockei1\\AppData\\Local\\Continuum\\anaconda3\\lib\\site-packages\\scipy\\interpolate\\_fitpack_impl.py:512: RuntimeWarning: A theoretically impossible result when finding a smoothing spline\n",
      "with fp = s. Probable cause: s too small. (abs(fp-s)/s>0.001)\n",
      "  warnings.warn(RuntimeWarning(_iermess[ier][0]))\n",
      "C:\\Users\\whockei1\\AppData\\Local\\Continuum\\anaconda3\\lib\\site-packages\\scipy\\interpolate\\_fitpack_impl.py:512: RuntimeWarning: A theoretically impossible result when finding a smoothing spline\n",
      "with fp = s. Probable cause: s too small. (abs(fp-s)/s>0.001)\n",
      "  warnings.warn(RuntimeWarning(_iermess[ier][0]))\n",
      "C:\\Users\\whockei1\\AppData\\Local\\Continuum\\anaconda3\\lib\\site-packages\\scipy\\interpolate\\_fitpack_impl.py:512: RuntimeWarning: A theoretically impossible result when finding a smoothing spline\n",
      "with fp = s. Probable cause: s too small. (abs(fp-s)/s>0.001)\n",
      "  warnings.warn(RuntimeWarning(_iermess[ier][0]))\n",
      "C:\\Users\\whockei1\\AppData\\Local\\Continuum\\anaconda3\\lib\\site-packages\\scipy\\interpolate\\_fitpack_impl.py:512: RuntimeWarning: A theoretically impossible result when finding a smoothing spline\n",
      "with fp = s. Probable cause: s too small. (abs(fp-s)/s>0.001)\n",
      "  warnings.warn(RuntimeWarning(_iermess[ier][0]))\n",
      "C:\\Users\\whockei1\\AppData\\Local\\Continuum\\anaconda3\\lib\\site-packages\\scipy\\interpolate\\_fitpack_impl.py:512: RuntimeWarning: The maximal number of iterations (20) allowed for finding smoothing\n",
      "spline with fp=s has been reached. Probable cause: s too small.\n",
      "(abs(fp-s)/s>0.001)\n",
      "  warnings.warn(RuntimeWarning(_iermess[ier][0]))\n",
      "C:\\Users\\whockei1\\AppData\\Local\\Continuum\\anaconda3\\lib\\site-packages\\scipy\\interpolate\\_fitpack_impl.py:512: RuntimeWarning: A theoretically impossible result when finding a smoothing spline\n",
      "with fp = s. Probable cause: s too small. (abs(fp-s)/s>0.001)\n",
      "  warnings.warn(RuntimeWarning(_iermess[ier][0]))\n",
      "C:\\Users\\whockei1\\AppData\\Local\\Continuum\\anaconda3\\lib\\site-packages\\scipy\\interpolate\\_fitpack_impl.py:512: RuntimeWarning: A theoretically impossible result when finding a smoothing spline\n",
      "with fp = s. Probable cause: s too small. (abs(fp-s)/s>0.001)\n",
      "  warnings.warn(RuntimeWarning(_iermess[ier][0]))\n",
      "C:\\Users\\whockei1\\AppData\\Local\\Continuum\\anaconda3\\lib\\site-packages\\scipy\\interpolate\\_fitpack_impl.py:512: RuntimeWarning: A theoretically impossible result when finding a smoothing spline\n",
      "with fp = s. Probable cause: s too small. (abs(fp-s)/s>0.001)\n",
      "  warnings.warn(RuntimeWarning(_iermess[ier][0]))\n",
      "C:\\Users\\whockei1\\AppData\\Local\\Continuum\\anaconda3\\lib\\site-packages\\scipy\\interpolate\\_fitpack_impl.py:512: RuntimeWarning: A theoretically impossible result when finding a smoothing spline\n",
      "with fp = s. Probable cause: s too small. (abs(fp-s)/s>0.001)\n",
      "  warnings.warn(RuntimeWarning(_iermess[ier][0]))\n",
      "C:\\Users\\whockei1\\AppData\\Local\\Continuum\\anaconda3\\lib\\site-packages\\scipy\\interpolate\\_fitpack_impl.py:512: RuntimeWarning: A theoretically impossible result when finding a smoothing spline\n",
      "with fp = s. Probable cause: s too small. (abs(fp-s)/s>0.001)\n",
      "  warnings.warn(RuntimeWarning(_iermess[ier][0]))\n",
      "C:\\Users\\whockei1\\AppData\\Local\\Continuum\\anaconda3\\lib\\site-packages\\scipy\\interpolate\\_fitpack_impl.py:512: RuntimeWarning: A theoretically impossible result when finding a smoothing spline\n",
      "with fp = s. Probable cause: s too small. (abs(fp-s)/s>0.001)\n",
      "  warnings.warn(RuntimeWarning(_iermess[ier][0]))\n",
      "C:\\Users\\whockei1\\AppData\\Local\\Continuum\\anaconda3\\lib\\site-packages\\scipy\\interpolate\\_fitpack_impl.py:512: RuntimeWarning: A theoretically impossible result when finding a smoothing spline\n",
      "with fp = s. Probable cause: s too small. (abs(fp-s)/s>0.001)\n",
      "  warnings.warn(RuntimeWarning(_iermess[ier][0]))\n",
      "C:\\Users\\whockei1\\AppData\\Local\\Continuum\\anaconda3\\lib\\site-packages\\scipy\\interpolate\\_fitpack_impl.py:512: RuntimeWarning: A theoretically impossible result when finding a smoothing spline\n",
      "with fp = s. Probable cause: s too small. (abs(fp-s)/s>0.001)\n",
      "  warnings.warn(RuntimeWarning(_iermess[ier][0]))\n",
      "C:\\Users\\whockei1\\AppData\\Local\\Continuum\\anaconda3\\lib\\site-packages\\scipy\\interpolate\\_fitpack_impl.py:512: RuntimeWarning: A theoretically impossible result when finding a smoothing spline\n",
      "with fp = s. Probable cause: s too small. (abs(fp-s)/s>0.001)\n",
      "  warnings.warn(RuntimeWarning(_iermess[ier][0]))\n",
      "C:\\Users\\whockei1\\AppData\\Local\\Continuum\\anaconda3\\lib\\site-packages\\scipy\\interpolate\\_fitpack_impl.py:512: RuntimeWarning: A theoretically impossible result when finding a smoothing spline\n",
      "with fp = s. Probable cause: s too small. (abs(fp-s)/s>0.001)\n",
      "  warnings.warn(RuntimeWarning(_iermess[ier][0]))\n",
      "C:\\Users\\whockei1\\AppData\\Local\\Continuum\\anaconda3\\lib\\site-packages\\scipy\\interpolate\\_fitpack_impl.py:512: RuntimeWarning: A theoretically impossible result when finding a smoothing spline\n",
      "with fp = s. Probable cause: s too small. (abs(fp-s)/s>0.001)\n",
      "  warnings.warn(RuntimeWarning(_iermess[ier][0]))\n",
      "C:\\Users\\whockei1\\AppData\\Local\\Continuum\\anaconda3\\lib\\site-packages\\scipy\\interpolate\\_fitpack_impl.py:512: RuntimeWarning: A theoretically impossible result when finding a smoothing spline\n",
      "with fp = s. Probable cause: s too small. (abs(fp-s)/s>0.001)\n",
      "  warnings.warn(RuntimeWarning(_iermess[ier][0]))\n",
      "C:\\Users\\whockei1\\AppData\\Local\\Continuum\\anaconda3\\lib\\site-packages\\scipy\\interpolate\\_fitpack_impl.py:512: RuntimeWarning: A theoretically impossible result when finding a smoothing spline\n",
      "with fp = s. Probable cause: s too small. (abs(fp-s)/s>0.001)\n",
      "  warnings.warn(RuntimeWarning(_iermess[ier][0]))\n",
      "C:\\Users\\whockei1\\AppData\\Local\\Continuum\\anaconda3\\lib\\site-packages\\scipy\\interpolate\\_fitpack_impl.py:512: RuntimeWarning: A theoretically impossible result when finding a smoothing spline\n",
      "with fp = s. Probable cause: s too small. (abs(fp-s)/s>0.001)\n",
      "  warnings.warn(RuntimeWarning(_iermess[ier][0]))\n",
      "C:\\Users\\whockei1\\AppData\\Local\\Continuum\\anaconda3\\lib\\site-packages\\scipy\\interpolate\\_fitpack_impl.py:512: RuntimeWarning: A theoretically impossible result when finding a smoothing spline\n",
      "with fp = s. Probable cause: s too small. (abs(fp-s)/s>0.001)\n",
      "  warnings.warn(RuntimeWarning(_iermess[ier][0]))\n",
      "C:\\Users\\whockei1\\AppData\\Local\\Continuum\\anaconda3\\lib\\site-packages\\scipy\\interpolate\\_fitpack_impl.py:512: RuntimeWarning: A theoretically impossible result when finding a smoothing spline\n",
      "with fp = s. Probable cause: s too small. (abs(fp-s)/s>0.001)\n",
      "  warnings.warn(RuntimeWarning(_iermess[ier][0]))\n",
      "C:\\Users\\whockei1\\AppData\\Local\\Continuum\\anaconda3\\lib\\site-packages\\scipy\\interpolate\\_fitpack_impl.py:512: RuntimeWarning: A theoretically impossible result when finding a smoothing spline\n",
      "with fp = s. Probable cause: s too small. (abs(fp-s)/s>0.001)\n",
      "  warnings.warn(RuntimeWarning(_iermess[ier][0]))\n"
     ]
    },
    {
     "name": "stderr",
     "output_type": "stream",
     "text": [
      "C:\\Users\\whockei1\\AppData\\Local\\Continuum\\anaconda3\\lib\\site-packages\\scipy\\interpolate\\_fitpack_impl.py:512: RuntimeWarning: A theoretically impossible result when finding a smoothing spline\n",
      "with fp = s. Probable cause: s too small. (abs(fp-s)/s>0.001)\n",
      "  warnings.warn(RuntimeWarning(_iermess[ier][0]))\n",
      "C:\\Users\\whockei1\\AppData\\Local\\Continuum\\anaconda3\\lib\\site-packages\\scipy\\interpolate\\_fitpack_impl.py:512: RuntimeWarning: A theoretically impossible result when finding a smoothing spline\n",
      "with fp = s. Probable cause: s too small. (abs(fp-s)/s>0.001)\n",
      "  warnings.warn(RuntimeWarning(_iermess[ier][0]))\n",
      "C:\\Users\\whockei1\\AppData\\Local\\Continuum\\anaconda3\\lib\\site-packages\\scipy\\interpolate\\_fitpack_impl.py:512: RuntimeWarning: A theoretically impossible result when finding a smoothing spline\n",
      "with fp = s. Probable cause: s too small. (abs(fp-s)/s>0.001)\n",
      "  warnings.warn(RuntimeWarning(_iermess[ier][0]))\n",
      "C:\\Users\\whockei1\\AppData\\Local\\Continuum\\anaconda3\\lib\\site-packages\\scipy\\interpolate\\_fitpack_impl.py:512: RuntimeWarning: A theoretically impossible result when finding a smoothing spline\n",
      "with fp = s. Probable cause: s too small. (abs(fp-s)/s>0.001)\n",
      "  warnings.warn(RuntimeWarning(_iermess[ier][0]))\n",
      "C:\\Users\\whockei1\\AppData\\Local\\Continuum\\anaconda3\\lib\\site-packages\\scipy\\interpolate\\_fitpack_impl.py:512: RuntimeWarning: A theoretically impossible result when finding a smoothing spline\n",
      "with fp = s. Probable cause: s too small. (abs(fp-s)/s>0.001)\n",
      "  warnings.warn(RuntimeWarning(_iermess[ier][0]))\n",
      "C:\\Users\\whockei1\\AppData\\Local\\Continuum\\anaconda3\\lib\\site-packages\\scipy\\interpolate\\_fitpack_impl.py:512: RuntimeWarning: A theoretically impossible result when finding a smoothing spline\n",
      "with fp = s. Probable cause: s too small. (abs(fp-s)/s>0.001)\n",
      "  warnings.warn(RuntimeWarning(_iermess[ier][0]))\n",
      "C:\\Users\\whockei1\\AppData\\Local\\Continuum\\anaconda3\\lib\\site-packages\\scipy\\interpolate\\_fitpack_impl.py:512: RuntimeWarning: A theoretically impossible result when finding a smoothing spline\n",
      "with fp = s. Probable cause: s too small. (abs(fp-s)/s>0.001)\n",
      "  warnings.warn(RuntimeWarning(_iermess[ier][0]))\n",
      "C:\\Users\\whockei1\\AppData\\Local\\Continuum\\anaconda3\\lib\\site-packages\\scipy\\interpolate\\_fitpack_impl.py:512: RuntimeWarning: A theoretically impossible result when finding a smoothing spline\n",
      "with fp = s. Probable cause: s too small. (abs(fp-s)/s>0.001)\n",
      "  warnings.warn(RuntimeWarning(_iermess[ier][0]))\n",
      "C:\\Users\\whockei1\\AppData\\Local\\Continuum\\anaconda3\\lib\\site-packages\\scipy\\interpolate\\_fitpack_impl.py:512: RuntimeWarning: A theoretically impossible result when finding a smoothing spline\n",
      "with fp = s. Probable cause: s too small. (abs(fp-s)/s>0.001)\n",
      "  warnings.warn(RuntimeWarning(_iermess[ier][0]))\n",
      "C:\\Users\\whockei1\\AppData\\Local\\Continuum\\anaconda3\\lib\\site-packages\\scipy\\interpolate\\_fitpack_impl.py:512: RuntimeWarning: A theoretically impossible result when finding a smoothing spline\n",
      "with fp = s. Probable cause: s too small. (abs(fp-s)/s>0.001)\n",
      "  warnings.warn(RuntimeWarning(_iermess[ier][0]))\n",
      "C:\\Users\\whockei1\\AppData\\Local\\Continuum\\anaconda3\\lib\\site-packages\\scipy\\interpolate\\_fitpack_impl.py:512: RuntimeWarning: A theoretically impossible result when finding a smoothing spline\n",
      "with fp = s. Probable cause: s too small. (abs(fp-s)/s>0.001)\n",
      "  warnings.warn(RuntimeWarning(_iermess[ier][0]))\n",
      "C:\\Users\\whockei1\\AppData\\Local\\Continuum\\anaconda3\\lib\\site-packages\\scipy\\interpolate\\_fitpack_impl.py:512: RuntimeWarning: The maximal number of iterations (20) allowed for finding smoothing\n",
      "spline with fp=s has been reached. Probable cause: s too small.\n",
      "(abs(fp-s)/s>0.001)\n",
      "  warnings.warn(RuntimeWarning(_iermess[ier][0]))\n",
      "C:\\Users\\whockei1\\AppData\\Local\\Continuum\\anaconda3\\lib\\site-packages\\scipy\\interpolate\\_fitpack_impl.py:512: RuntimeWarning: A theoretically impossible result when finding a smoothing spline\n",
      "with fp = s. Probable cause: s too small. (abs(fp-s)/s>0.001)\n",
      "  warnings.warn(RuntimeWarning(_iermess[ier][0]))\n",
      "C:\\Users\\whockei1\\AppData\\Local\\Continuum\\anaconda3\\lib\\site-packages\\scipy\\interpolate\\_fitpack_impl.py:512: RuntimeWarning: A theoretically impossible result when finding a smoothing spline\n",
      "with fp = s. Probable cause: s too small. (abs(fp-s)/s>0.001)\n",
      "  warnings.warn(RuntimeWarning(_iermess[ier][0]))\n",
      "C:\\Users\\whockei1\\AppData\\Local\\Continuum\\anaconda3\\lib\\site-packages\\scipy\\interpolate\\_fitpack_impl.py:512: RuntimeWarning: A theoretically impossible result when finding a smoothing spline\n",
      "with fp = s. Probable cause: s too small. (abs(fp-s)/s>0.001)\n",
      "  warnings.warn(RuntimeWarning(_iermess[ier][0]))\n",
      "C:\\Users\\whockei1\\AppData\\Local\\Continuum\\anaconda3\\lib\\site-packages\\scipy\\interpolate\\_fitpack_impl.py:512: RuntimeWarning: A theoretically impossible result when finding a smoothing spline\n",
      "with fp = s. Probable cause: s too small. (abs(fp-s)/s>0.001)\n",
      "  warnings.warn(RuntimeWarning(_iermess[ier][0]))\n",
      "C:\\Users\\whockei1\\AppData\\Local\\Continuum\\anaconda3\\lib\\site-packages\\scipy\\interpolate\\_fitpack_impl.py:512: RuntimeWarning: A theoretically impossible result when finding a smoothing spline\n",
      "with fp = s. Probable cause: s too small. (abs(fp-s)/s>0.001)\n",
      "  warnings.warn(RuntimeWarning(_iermess[ier][0]))\n",
      "C:\\Users\\whockei1\\AppData\\Local\\Continuum\\anaconda3\\lib\\site-packages\\scipy\\interpolate\\_fitpack_impl.py:512: RuntimeWarning: A theoretically impossible result when finding a smoothing spline\n",
      "with fp = s. Probable cause: s too small. (abs(fp-s)/s>0.001)\n",
      "  warnings.warn(RuntimeWarning(_iermess[ier][0]))\n",
      "C:\\Users\\whockei1\\AppData\\Local\\Continuum\\anaconda3\\lib\\site-packages\\scipy\\interpolate\\_fitpack_impl.py:512: RuntimeWarning: A theoretically impossible result when finding a smoothing spline\n",
      "with fp = s. Probable cause: s too small. (abs(fp-s)/s>0.001)\n",
      "  warnings.warn(RuntimeWarning(_iermess[ier][0]))\n",
      "C:\\Users\\whockei1\\AppData\\Local\\Continuum\\anaconda3\\lib\\site-packages\\scipy\\interpolate\\_fitpack_impl.py:512: RuntimeWarning: A theoretically impossible result when finding a smoothing spline\n",
      "with fp = s. Probable cause: s too small. (abs(fp-s)/s>0.001)\n",
      "  warnings.warn(RuntimeWarning(_iermess[ier][0]))\n",
      "C:\\Users\\whockei1\\AppData\\Local\\Continuum\\anaconda3\\lib\\site-packages\\scipy\\interpolate\\_fitpack_impl.py:512: RuntimeWarning: The maximal number of iterations (20) allowed for finding smoothing\n",
      "spline with fp=s has been reached. Probable cause: s too small.\n",
      "(abs(fp-s)/s>0.001)\n",
      "  warnings.warn(RuntimeWarning(_iermess[ier][0]))\n",
      "C:\\Users\\whockei1\\AppData\\Local\\Continuum\\anaconda3\\lib\\site-packages\\scipy\\interpolate\\_fitpack_impl.py:512: RuntimeWarning: The maximal number of iterations (20) allowed for finding smoothing\n",
      "spline with fp=s has been reached. Probable cause: s too small.\n",
      "(abs(fp-s)/s>0.001)\n",
      "  warnings.warn(RuntimeWarning(_iermess[ier][0]))\n",
      "C:\\Users\\whockei1\\AppData\\Local\\Continuum\\anaconda3\\lib\\site-packages\\scipy\\interpolate\\_fitpack_impl.py:512: RuntimeWarning: A theoretically impossible result when finding a smoothing spline\n",
      "with fp = s. Probable cause: s too small. (abs(fp-s)/s>0.001)\n",
      "  warnings.warn(RuntimeWarning(_iermess[ier][0]))\n",
      "C:\\Users\\whockei1\\AppData\\Local\\Continuum\\anaconda3\\lib\\site-packages\\scipy\\interpolate\\_fitpack_impl.py:512: RuntimeWarning: A theoretically impossible result when finding a smoothing spline\n",
      "with fp = s. Probable cause: s too small. (abs(fp-s)/s>0.001)\n",
      "  warnings.warn(RuntimeWarning(_iermess[ier][0]))\n",
      "C:\\Users\\whockei1\\AppData\\Local\\Continuum\\anaconda3\\lib\\site-packages\\scipy\\interpolate\\_fitpack_impl.py:512: RuntimeWarning: The maximal number of iterations (20) allowed for finding smoothing\n",
      "spline with fp=s has been reached. Probable cause: s too small.\n",
      "(abs(fp-s)/s>0.001)\n",
      "  warnings.warn(RuntimeWarning(_iermess[ier][0]))\n",
      "C:\\Users\\whockei1\\AppData\\Local\\Continuum\\anaconda3\\lib\\site-packages\\scipy\\interpolate\\_fitpack_impl.py:512: RuntimeWarning: A theoretically impossible result when finding a smoothing spline\n",
      "with fp = s. Probable cause: s too small. (abs(fp-s)/s>0.001)\n",
      "  warnings.warn(RuntimeWarning(_iermess[ier][0]))\n",
      "C:\\Users\\whockei1\\AppData\\Local\\Continuum\\anaconda3\\lib\\site-packages\\scipy\\interpolate\\_fitpack_impl.py:512: RuntimeWarning: A theoretically impossible result when finding a smoothing spline\n",
      "with fp = s. Probable cause: s too small. (abs(fp-s)/s>0.001)\n",
      "  warnings.warn(RuntimeWarning(_iermess[ier][0]))\n"
     ]
    },
    {
     "name": "stderr",
     "output_type": "stream",
     "text": [
      "C:\\Users\\whockei1\\AppData\\Local\\Continuum\\anaconda3\\lib\\site-packages\\scipy\\interpolate\\_fitpack_impl.py:512: RuntimeWarning: A theoretically impossible result when finding a smoothing spline\n",
      "with fp = s. Probable cause: s too small. (abs(fp-s)/s>0.001)\n",
      "  warnings.warn(RuntimeWarning(_iermess[ier][0]))\n",
      "C:\\Users\\whockei1\\AppData\\Local\\Continuum\\anaconda3\\lib\\site-packages\\scipy\\interpolate\\_fitpack_impl.py:512: RuntimeWarning: A theoretically impossible result when finding a smoothing spline\n",
      "with fp = s. Probable cause: s too small. (abs(fp-s)/s>0.001)\n",
      "  warnings.warn(RuntimeWarning(_iermess[ier][0]))\n",
      "C:\\Users\\whockei1\\AppData\\Local\\Continuum\\anaconda3\\lib\\site-packages\\scipy\\interpolate\\_fitpack_impl.py:512: RuntimeWarning: A theoretically impossible result when finding a smoothing spline\n",
      "with fp = s. Probable cause: s too small. (abs(fp-s)/s>0.001)\n",
      "  warnings.warn(RuntimeWarning(_iermess[ier][0]))\n",
      "C:\\Users\\whockei1\\AppData\\Local\\Continuum\\anaconda3\\lib\\site-packages\\scipy\\interpolate\\_fitpack_impl.py:512: RuntimeWarning: A theoretically impossible result when finding a smoothing spline\n",
      "with fp = s. Probable cause: s too small. (abs(fp-s)/s>0.001)\n",
      "  warnings.warn(RuntimeWarning(_iermess[ier][0]))\n",
      "C:\\Users\\whockei1\\AppData\\Local\\Continuum\\anaconda3\\lib\\site-packages\\scipy\\interpolate\\_fitpack_impl.py:512: RuntimeWarning: A theoretically impossible result when finding a smoothing spline\n",
      "with fp = s. Probable cause: s too small. (abs(fp-s)/s>0.001)\n",
      "  warnings.warn(RuntimeWarning(_iermess[ier][0]))\n",
      "C:\\Users\\whockei1\\AppData\\Local\\Continuum\\anaconda3\\lib\\site-packages\\scipy\\interpolate\\_fitpack_impl.py:512: RuntimeWarning: A theoretically impossible result when finding a smoothing spline\n",
      "with fp = s. Probable cause: s too small. (abs(fp-s)/s>0.001)\n",
      "  warnings.warn(RuntimeWarning(_iermess[ier][0]))\n",
      "C:\\Users\\whockei1\\AppData\\Local\\Continuum\\anaconda3\\lib\\site-packages\\scipy\\interpolate\\_fitpack_impl.py:512: RuntimeWarning: A theoretically impossible result when finding a smoothing spline\n",
      "with fp = s. Probable cause: s too small. (abs(fp-s)/s>0.001)\n",
      "  warnings.warn(RuntimeWarning(_iermess[ier][0]))\n"
     ]
    },
    {
     "data": {
      "text/plain": [
       "(array([   0., 1000., 2000., 3000., 4000., 5000., 6000., 7000., 8000.]),\n",
       " <a list of 9 Text yticklabel objects>)"
      ]
     },
     "execution_count": 73,
     "metadata": {},
     "output_type": "execute_result"
    }
   ],
   "source": [
    "# shuffle visits within fields for a neuron\n",
    "svperfs = []\n",
    "for r in range(nshuffles):\n",
    "    sfields = shuffleFields(unit)\n",
    "    smats = makeSemaphores(sfields)\n",
    "    flatsmats = np.asarray([i.flatten() for i in smats])\n",
    "    \n",
    "    train, test = train_test_split(list(range(len(flatsmats))), test_size=testProp)\n",
    "    Xtrain, Xtest, Ytrain, Ytest = flatsmats[train], flatsmats[test], labels[train], labels[test]\n",
    "    neigh = KNeighborsClassifier(n_neighbors=2)\n",
    "    neigh.fit(Xtrain, Ytrain)\n",
    "    svperfs.append(sum(Ytest==neigh.predict(Xtest))/len(Xtest))  \n",
    "    \n",
    "real5pct = np.percentile(svperfs,5)\n",
    "plt.figure()\n",
    "plt.hist(svperfs)\n",
    "plt.vlines(real5pct,0,100,'r')\n",
    "plt.vlines(1/3,0,100,'grey')\n",
    "plt.title(f\"kNN Classifier of Semaphore Plots, {n} Epochs, {nshuffles} runs, shuff visits within field\", fontsize=18)\n",
    "plt.xticks(fontsize=18)\n",
    "plt.yticks(fontsize=18)"
   ]
  },
  {
   "cell_type": "code",
   "execution_count": 133,
   "metadata": {
    "collapsed": true
   },
   "outputs": [],
   "source": [
    "def rotateFields(unit):\n",
    "    \"\"\"\n",
    "    Input   - unit: Unit class object\n",
    "            \n",
    "    selects a temporal shift for each field. Shift is rotational such that \n",
    "    whatever 'falls off' end of vector 'comes back' to the front.\n",
    "    \n",
    "    Returns - GuttedField object with shifted fields in gunit.fields attribute\n",
    "    \"\"\"\n",
    "    gunit = GuttedUnit()\n",
    "    sfields = []\n",
    "    for field in unit.fields:\n",
    "        nvisits = field.shape[0]\n",
    "        shift = np.random.randint(0,nvisits)\n",
    "        sf = np.column_stack((field[:,0], np.roll(field[:,1], shift)))\n",
    "        sfields.append(sf)\n",
    "    gunit.fields = sfields\n",
    "    return gunit"
   ]
  },
  {
   "cell_type": "code",
   "execution_count": 169,
   "metadata": {
    "collapsed": true
   },
   "outputs": [],
   "source": [
    "def kNN_semaphore_decoding(unit, reps=50, n=2, epochs=3, stat='median', trainProp=0.67):\n",
    "    \"\"\"\n",
    "    kNearest Neighbor Decoding\n",
    "    input:  data - Unit class object \n",
    "            reps -  # decoding repeats\n",
    "            n - num neighbors for kNN\n",
    "            epochs - number of temporal epochs to divide data into to decode\n",
    "            stat - measure of decoding perf for each set of decoding runs (# = reps).\n",
    "                    choices are 'median' or 'mean'\n",
    "            trainProp - proportion of data to use as train (1-trainProp is test)\n",
    "                    \n",
    "    Takes Unit class object. Creates series of semaphore plots using makeSemaphores()\n",
    "    Then decodes temporal information from these. Semaphores divided into epochs,\n",
    "    ntrain proportion used to find nearest neighbors of test in euclidian space and see\n",
    "    if epoch labels match. Do multiple times and report a statistic of perf\n",
    "    \n",
    "    returns: scalar of decoding perf, as defined by 'stat'\n",
    "    \"\"\"\n",
    "    mats = makeSemaphores(unit.fields)\n",
    "    flatmats = np.asarray([i.flatten() for i in mats])\n",
    "    idx = np.ceil(np.linspace(0,len(flatmats),epochs+1)).astype(np.int)\n",
    "    labels = []\n",
    "    for i in range(len(idx)-1):\n",
    "        l= idx[i+1]-idx[i]\n",
    "        labels.extend([i]*l)\n",
    "    labels = np.asarray(labels)\n",
    "    \n",
    "    perfs = []\n",
    "    for rep in range(reps):\n",
    "        train, test = train_test_split(list(range(len(flatmats))), train_size=trainProp)\n",
    "        Xtrain, Xtest, Ytrain, Ytest = flatmats[train], flatmats[test], labels[train], labels[test]\n",
    "        neigh = KNeighborsClassifier(n_neighbors=nNeighbors)\n",
    "        neigh.fit(Xtrain, Ytrain)\n",
    "        perfs.append(sum(Ytest==neigh.predict(Xtest))/len(Xtest))  \n",
    "        \n",
    "    if stat == 'median':\n",
    "        sumStat = np.median(perfs)\n",
    "    elif stat == 'mean':\n",
    "        sumStat = np.mean(perfs)\n",
    "    else:\n",
    "        print(\"Invalid statistic supplied. Choose 'median' or 'mean' \")\n",
    "        sumStat = None\n",
    "    \n",
    "    return sumStat\n"
   ]
  },
  {
   "cell_type": "code",
   "execution_count": 238,
   "metadata": {
    "collapsed": true
   },
   "outputs": [],
   "source": [
    "# rotational shuffle - single cell, attempt to show cooperative temporal coding within cell\n",
    "# take each field and shift it by a random amount temporally. rotation means whatever data 'falls' off end cycles back to beginning\n",
    "\n",
    "# edit: below will shift some amount in mins, where each shift is at least a certain dist apart\n",
    "# but thinking more, maybe you preserve the actual visit times and just shift the activity at each one\n",
    "# # generate possible time offsets. do it this way to impose a min shift\n",
    "# minShift = 10/60 # numerator is min shift in s, divide by 60 express as % of a minute\n",
    "# shifts = np.arange(0,fmax,1/6)\n",
    "\n",
    "rsperfs = [] # each data point is the median or mean (depending on user choice) of multiple decodings of a single shuffle\n",
    "for n in range(nshuffles):\n",
    "    gunit = rotateFields(unit)\n",
    "    sperf = kNN_semaphore_decoding(gunit, reps=nreps, n=nNeighbors, epochs=epochs, stat='median', trainProp=trainProp)\n",
    "    rsperfs.append(sperf)"
   ]
  },
  {
   "cell_type": "code",
   "execution_count": 239,
   "metadata": {},
   "outputs": [
    {
     "data": {
      "text/plain": [
       "(array([  0.,  50., 100., 150., 200., 250., 300., 350., 400., 450.]),\n",
       " <a list of 10 Text yticklabel objects>)"
      ]
     },
     "execution_count": 239,
     "metadata": {},
     "output_type": "execute_result"
    }
   ],
   "source": [
    "plt.figure()\n",
    "plt.hist(rsperfs)\n",
    "rs95pct = np.percentile(rsperfs, 95)\n",
    "plt.vlines(rs95pct,0,100,'k')\n",
    "plt.title(f\"kNNc Semaphores, {epochs} Epochs, {nshuffles} shuffles, {nreps} clf/shuff, rotat. shuffle\", fontsize=18)\n",
    "plt.xticks(fontsize=18)\n",
    "plt.yticks(fontsize=18)"
   ]
  },
  {
   "cell_type": "markdown",
   "metadata": {},
   "source": [
    "### Consolidating rotational shuffle code into blocks/fx\n",
    "#### Everything but creating the pop dict (and imports) is done here (b/c that part as of mif aug 2020 is still not automated - not using the rep detection alg (though ryl did it) and getting rid of bad fields"
   ]
  },
  {
   "cell_type": "code",
   "execution_count": 3,
   "metadata": {
    "collapsed": true
   },
   "outputs": [],
   "source": [
    "class GuttedUnit():   \n",
    "    def __init__(self):\n",
    "        self.fields = []\n",
    "\n",
    "def kNN_semaphore_decoding(fieldArray, reps=50, n=2, epochs=3, stat='median', trainProp=0.67, wnSize=5*1e6*60, wnStep=2*1e6*60):\n",
    "    \"\"\"\n",
    "    kNearest Neighbor Decoding\n",
    "    input:  data - Unit class object \n",
    "            reps -  # decoding repeats\n",
    "            n - num neighbors for kNN\n",
    "            epochs - number of temporal epochs to divide data into to decode\n",
    "            stat - measure of decoding perf for each set of decoding runs (# = reps).\n",
    "                    choices are 'median' or 'mean'\n",
    "            trainProp - proportion of data to use as train (1-trainProp is test)\n",
    "            wnSize - (for semaphore plot) sliding window size to create a single flag plot. unit in mins.\n",
    "            snStep - (for semaphore plot) sliding window slide amount. unit in mins.\n",
    "            fieldType - \"smoothed\" or \"raw\". Option chooses whether to use smoothed or unsmoothed field attrs of Unit obj\n",
    "                    \n",
    "    Takes Unit class object. Creates series of semaphore plots using makeSemaphores()\n",
    "    Then decodes temporal information from these. Semaphores divided into epochs,\n",
    "    ntrain proportion used to find nearest neighbors of test in euclidian space and see\n",
    "    if epoch labels match. Do multiple times and report a statistic of perf\n",
    "    \n",
    "    returns: scalar of decoding perf, as defined by 'stat'\n",
    "    \"\"\"\n",
    "        \n",
    "    mats,_ = RepCore.makeSemaphores(fieldArray, wnSize=wnSize, wnStep=wnStep)\n",
    "    flatmats = np.asarray([i.flatten() for i in np.asarray(mats)])\n",
    "    idx = np.ceil(np.linspace(0,len(flatmats),epochs+1)).astype(np.int)\n",
    "    labels = []\n",
    "    for i in range(len(idx)-1):\n",
    "        l= idx[i+1]-idx[i]\n",
    "        labels.extend([i]*l)\n",
    "    labels = np.asarray(labels)\n",
    "    \n",
    "    perfs = []\n",
    "    for rep in range(reps):\n",
    "        train, test = train_test_split(list(range(len(flatmats))), train_size=trainProp)\n",
    "        Xtrain, Xtest, Ytrain, Ytest = flatmats[train], flatmats[test], labels[train], labels[test]\n",
    "        neigh = KNeighborsClassifier(n_neighbors=n)\n",
    "        neigh.fit(Xtrain, Ytrain)\n",
    "        perfs.append(sum(Ytest==neigh.predict(Xtest))/len(Xtest))  \n",
    "        \n",
    "    if stat == 'median':\n",
    "        sumStat = np.median(perfs)\n",
    "    elif stat == 'mean':\n",
    "        sumStat = np.mean(perfs)\n",
    "    else:\n",
    "        print(\"Invalid statistic supplied. Choose 'median' or 'mean' \")\n",
    "        sumStat = None\n",
    "    \n",
    "    return sumStat\n",
    "\n",
    "def rotateFields(fields):\n",
    "    \"\"\"\n",
    "    Input   - unit: Unit class object      \n",
    "    selects a temporal shift for each field. Shift is rotational such that \n",
    "    whatever 'falls off' end of vector 'comes back' to the front.\n",
    "    Returns - GuttedField object with shifted fields in gunit.fields attribute\n",
    "    \"\"\"\n",
    "    gunit = GuttedUnit()\n",
    "    sfields = []\n",
    "    for field in fields:\n",
    "        nvisits = field.shape[0]\n",
    "        shift = np.random.randint(0,nvisits)\n",
    "        sf = np.column_stack((field[:,0], np.roll(field[:,1], shift)))\n",
    "        sfields.append(sf)\n",
    "    gunit.fields = sfields\n",
    "    return gunit\n",
    "\n",
    "def shuffleFields(fields):\n",
    "    \"\"\"\n",
    "    Input   - unit: Unit class object   \n",
    "    Shuffle visits within a field.\n",
    "    Returns - GuttedField object with shifted fields in gunit.fields attribute\n",
    "    \"\"\"\n",
    "    gunit = GuttedUnit()\n",
    "    newfields = []\n",
    "    for field in fields:\n",
    "        newfields.append(np.column_stack((field[:,0],np.random.permutation(field[:,1]))))\n",
    "    gunit.fields = newfields\n",
    "    return gunit"
   ]
  },
  {
   "cell_type": "code",
   "execution_count": 100,
   "metadata": {},
   "outputs": [
    {
     "name": "stdout",
     "output_type": "stream",
     "text": [
      "TT12\\cl-maze1.1\n"
     ]
    },
    {
     "name": "stderr",
     "output_type": "stream",
     "text": [
      "E:\\UserData\\Documents\\GitHub\\ratterdam\\RateMapClass_William_20190308.py:210: RuntimeWarning: invalid value encountered in greater_equal\n",
      "  aboveThreshold = np.where(rateMap >= max(fieldThreshold,0), True, False)\n",
      "E:\\UserData\\Documents\\GitHub\\ratterdam\\utility_fx.py:502: RuntimeWarning: divide by zero encountered in reciprocal\n",
      "  n = (hs*np.reciprocal(ho))*30\n",
      "E:\\UserData\\Documents\\GitHub\\ratterdam\\utility_fx.py:502: RuntimeWarning: invalid value encountered in multiply\n",
      "  n = (hs*np.reciprocal(ho))*30\n",
      "E:\\UserData\\Documents\\GitHub\\ratterdam\\utility_fx.py:329: RuntimeWarning: invalid value encountered in true_divide\n",
      "  Z=VV/WW\n",
      "E:\\UserData\\Documents\\GitHub\\ratterdam\\ratterdam_DataFiltering.py:127: RuntimeWarning: invalid value encountered in less_equal\n",
      "  binsBelowThresh = np.where(rm.flatten()<=rateThresh)[0].shape[0]\n"
     ]
    },
    {
     "name": "stdout",
     "output_type": "stream",
     "text": [
      "TT12\\cl-maze1.1 is not included\n",
      "TT12\\cl-maze1.10\n"
     ]
    },
    {
     "name": "stderr",
     "output_type": "stream",
     "text": [
      "C:\\Users\\whockei1\\AppData\\Roaming\\Python\\Python36\\site-packages\\skimage\\morphology\\_deprecated.py:5: skimage_deprecation: Function ``watershed`` is deprecated and will be removed in version 0.19. Use ``skimage.segmentation.watershed`` instead.\n",
      "  def watershed(image, markers=None, connectivity=1, offset=None, mask=None,\n",
      "C:\\Users\\whockei1\\AppData\\Roaming\\Python\\Python36\\site-packages\\skimage\\morphology\\_deprecated.py:5: skimage_deprecation: Function ``watershed`` is deprecated and will be removed in version 0.19. Use ``skimage.segmentation.watershed`` instead.\n",
      "  def watershed(image, markers=None, connectivity=1, offset=None, mask=None,\n",
      "E:\\UserData\\Documents\\GitHub\\ratterdam\\ratterdam_RepetitionCoreFx.py:132: RuntimeWarning: invalid value encountered in double_scalars\n",
      "  field_FR.append(spk.shape[0]/vdur)\n",
      "E:\\UserData\\Documents\\GitHub\\ratterdam\\utility_fx.py:502: RuntimeWarning: divide by zero encountered in reciprocal\n",
      "  n = (hs*np.reciprocal(ho))*30\n",
      "E:\\UserData\\Documents\\GitHub\\ratterdam\\utility_fx.py:502: RuntimeWarning: invalid value encountered in multiply\n",
      "  n = (hs*np.reciprocal(ho))*30\n",
      "E:\\UserData\\Documents\\GitHub\\ratterdam\\utility_fx.py:329: RuntimeWarning: invalid value encountered in true_divide\n",
      "  Z=VV/WW\n",
      "E:\\UserData\\Documents\\GitHub\\ratterdam\\ratterdam_DataFiltering.py:127: RuntimeWarning: invalid value encountered in less_equal\n",
      "  binsBelowThresh = np.where(rm.flatten()<=rateThresh)[0].shape[0]\n"
     ]
    },
    {
     "name": "stdout",
     "output_type": "stream",
     "text": [
      "TT12\\cl-maze1.10 included\n",
      "TT12\\cl-maze1.2\n"
     ]
    },
    {
     "name": "stderr",
     "output_type": "stream",
     "text": [
      "E:\\UserData\\Documents\\GitHub\\ratterdam\\RateMapClass_William_20190308.py:210: RuntimeWarning: invalid value encountered in greater_equal\n",
      "  aboveThreshold = np.where(rateMap >= max(fieldThreshold,0), True, False)\n",
      "C:\\Users\\whockei1\\AppData\\Roaming\\Python\\Python36\\site-packages\\skimage\\morphology\\_deprecated.py:5: skimage_deprecation: Function ``watershed`` is deprecated and will be removed in version 0.19. Use ``skimage.segmentation.watershed`` instead.\n",
      "  def watershed(image, markers=None, connectivity=1, offset=None, mask=None,\n",
      "C:\\Users\\whockei1\\AppData\\Roaming\\Python\\Python36\\site-packages\\skimage\\morphology\\_deprecated.py:5: skimage_deprecation: Function ``watershed`` is deprecated and will be removed in version 0.19. Use ``skimage.segmentation.watershed`` instead.\n",
      "  def watershed(image, markers=None, connectivity=1, offset=None, mask=None,\n",
      "C:\\Users\\whockei1\\AppData\\Roaming\\Python\\Python36\\site-packages\\skimage\\morphology\\_deprecated.py:5: skimage_deprecation: Function ``watershed`` is deprecated and will be removed in version 0.19. Use ``skimage.segmentation.watershed`` instead.\n",
      "  def watershed(image, markers=None, connectivity=1, offset=None, mask=None,\n",
      "C:\\Users\\whockei1\\AppData\\Roaming\\Python\\Python36\\site-packages\\skimage\\morphology\\_deprecated.py:5: skimage_deprecation: Function ``watershed`` is deprecated and will be removed in version 0.19. Use ``skimage.segmentation.watershed`` instead.\n",
      "  def watershed(image, markers=None, connectivity=1, offset=None, mask=None,\n",
      "C:\\Users\\whockei1\\AppData\\Roaming\\Python\\Python36\\site-packages\\skimage\\morphology\\_deprecated.py:5: skimage_deprecation: Function ``watershed`` is deprecated and will be removed in version 0.19. Use ``skimage.segmentation.watershed`` instead.\n",
      "  def watershed(image, markers=None, connectivity=1, offset=None, mask=None,\n",
      "E:\\UserData\\Documents\\GitHub\\ratterdam\\ratterdam_RepetitionCoreFx.py:132: RuntimeWarning: invalid value encountered in double_scalars\n",
      "  field_FR.append(spk.shape[0]/vdur)\n",
      "E:\\UserData\\Documents\\GitHub\\ratterdam\\utility_fx.py:502: RuntimeWarning: divide by zero encountered in reciprocal\n",
      "  n = (hs*np.reciprocal(ho))*30\n",
      "E:\\UserData\\Documents\\GitHub\\ratterdam\\utility_fx.py:502: RuntimeWarning: invalid value encountered in multiply\n",
      "  n = (hs*np.reciprocal(ho))*30\n",
      "E:\\UserData\\Documents\\GitHub\\ratterdam\\utility_fx.py:329: RuntimeWarning: invalid value encountered in true_divide\n",
      "  Z=VV/WW\n",
      "E:\\UserData\\Documents\\GitHub\\ratterdam\\ratterdam_DataFiltering.py:127: RuntimeWarning: invalid value encountered in less_equal\n",
      "  binsBelowThresh = np.where(rm.flatten()<=rateThresh)[0].shape[0]\n"
     ]
    },
    {
     "name": "stdout",
     "output_type": "stream",
     "text": [
      "TT12\\cl-maze1.2 included\n",
      "TT12\\cl-maze1.3\n"
     ]
    },
    {
     "name": "stderr",
     "output_type": "stream",
     "text": [
      "E:\\UserData\\Documents\\GitHub\\ratterdam\\RateMapClass_William_20190308.py:210: RuntimeWarning: invalid value encountered in greater_equal\n",
      "  aboveThreshold = np.where(rateMap >= max(fieldThreshold,0), True, False)\n",
      "C:\\Users\\whockei1\\AppData\\Roaming\\Python\\Python36\\site-packages\\skimage\\morphology\\_deprecated.py:5: skimage_deprecation: Function ``watershed`` is deprecated and will be removed in version 0.19. Use ``skimage.segmentation.watershed`` instead.\n",
      "  def watershed(image, markers=None, connectivity=1, offset=None, mask=None,\n",
      "C:\\Users\\whockei1\\AppData\\Roaming\\Python\\Python36\\site-packages\\skimage\\morphology\\_deprecated.py:5: skimage_deprecation: Function ``watershed`` is deprecated and will be removed in version 0.19. Use ``skimage.segmentation.watershed`` instead.\n",
      "  def watershed(image, markers=None, connectivity=1, offset=None, mask=None,\n",
      "C:\\Users\\whockei1\\AppData\\Roaming\\Python\\Python36\\site-packages\\skimage\\morphology\\_deprecated.py:5: skimage_deprecation: Function ``watershed`` is deprecated and will be removed in version 0.19. Use ``skimage.segmentation.watershed`` instead.\n",
      "  def watershed(image, markers=None, connectivity=1, offset=None, mask=None,\n",
      "E:\\UserData\\Documents\\GitHub\\ratterdam\\utility_fx.py:502: RuntimeWarning: divide by zero encountered in reciprocal\n",
      "  n = (hs*np.reciprocal(ho))*30\n",
      "E:\\UserData\\Documents\\GitHub\\ratterdam\\utility_fx.py:502: RuntimeWarning: invalid value encountered in multiply\n",
      "  n = (hs*np.reciprocal(ho))*30\n",
      "E:\\UserData\\Documents\\GitHub\\ratterdam\\utility_fx.py:329: RuntimeWarning: invalid value encountered in true_divide\n",
      "  Z=VV/WW\n",
      "E:\\UserData\\Documents\\GitHub\\ratterdam\\ratterdam_DataFiltering.py:127: RuntimeWarning: invalid value encountered in less_equal\n",
      "  binsBelowThresh = np.where(rm.flatten()<=rateThresh)[0].shape[0]\n"
     ]
    },
    {
     "name": "stdout",
     "output_type": "stream",
     "text": [
      "TT12\\cl-maze1.3 included\n",
      "TT12\\cl-maze1.4\n"
     ]
    },
    {
     "name": "stderr",
     "output_type": "stream",
     "text": [
      "E:\\UserData\\Documents\\GitHub\\ratterdam\\RateMapClass_William_20190308.py:210: RuntimeWarning: invalid value encountered in greater_equal\n",
      "  aboveThreshold = np.where(rateMap >= max(fieldThreshold,0), True, False)\n",
      "E:\\UserData\\Documents\\GitHub\\ratterdam\\ratterdam_RepetitionCoreFx.py:132: RuntimeWarning: invalid value encountered in double_scalars\n",
      "  field_FR.append(spk.shape[0]/vdur)\n"
     ]
    },
    {
     "name": "stdout",
     "output_type": "stream",
     "text": [
      "TT12\\cl-maze1.4 is not included\n",
      "TT12\\cl-maze1.5\n",
      "TT12\\cl-maze1.5 is not included\n",
      "TT12\\cl-maze1.7\n"
     ]
    },
    {
     "name": "stderr",
     "output_type": "stream",
     "text": [
      "C:\\Users\\whockei1\\AppData\\Roaming\\Python\\Python36\\site-packages\\skimage\\morphology\\_deprecated.py:5: skimage_deprecation: Function ``watershed`` is deprecated and will be removed in version 0.19. Use ``skimage.segmentation.watershed`` instead.\n",
      "  def watershed(image, markers=None, connectivity=1, offset=None, mask=None,\n",
      "C:\\Users\\whockei1\\AppData\\Roaming\\Python\\Python36\\site-packages\\skimage\\morphology\\_deprecated.py:5: skimage_deprecation: Function ``watershed`` is deprecated and will be removed in version 0.19. Use ``skimage.segmentation.watershed`` instead.\n",
      "  def watershed(image, markers=None, connectivity=1, offset=None, mask=None,\n",
      "C:\\Users\\whockei1\\AppData\\Roaming\\Python\\Python36\\site-packages\\skimage\\morphology\\_deprecated.py:5: skimage_deprecation: Function ``watershed`` is deprecated and will be removed in version 0.19. Use ``skimage.segmentation.watershed`` instead.\n",
      "  def watershed(image, markers=None, connectivity=1, offset=None, mask=None,\n",
      "C:\\Users\\whockei1\\AppData\\Roaming\\Python\\Python36\\site-packages\\skimage\\morphology\\_deprecated.py:5: skimage_deprecation: Function ``watershed`` is deprecated and will be removed in version 0.19. Use ``skimage.segmentation.watershed`` instead.\n",
      "  def watershed(image, markers=None, connectivity=1, offset=None, mask=None,\n",
      "E:\\UserData\\Documents\\GitHub\\ratterdam\\ratterdam_RepetitionCoreFx.py:132: RuntimeWarning: invalid value encountered in double_scalars\n",
      "  field_FR.append(spk.shape[0]/vdur)\n",
      "E:\\UserData\\Documents\\GitHub\\ratterdam\\utility_fx.py:502: RuntimeWarning: divide by zero encountered in reciprocal\n",
      "  n = (hs*np.reciprocal(ho))*30\n",
      "E:\\UserData\\Documents\\GitHub\\ratterdam\\utility_fx.py:502: RuntimeWarning: invalid value encountered in multiply\n",
      "  n = (hs*np.reciprocal(ho))*30\n",
      "E:\\UserData\\Documents\\GitHub\\ratterdam\\utility_fx.py:329: RuntimeWarning: invalid value encountered in true_divide\n",
      "  Z=VV/WW\n",
      "E:\\UserData\\Documents\\GitHub\\ratterdam\\ratterdam_DataFiltering.py:127: RuntimeWarning: invalid value encountered in less_equal\n",
      "  binsBelowThresh = np.where(rm.flatten()<=rateThresh)[0].shape[0]\n"
     ]
    },
    {
     "name": "stdout",
     "output_type": "stream",
     "text": [
      "TT12\\cl-maze1.7 included\n",
      "TT12\\cl-maze1.8\n"
     ]
    },
    {
     "name": "stderr",
     "output_type": "stream",
     "text": [
      "E:\\UserData\\Documents\\GitHub\\ratterdam\\RateMapClass_William_20190308.py:210: RuntimeWarning: invalid value encountered in greater_equal\n",
      "  aboveThreshold = np.where(rateMap >= max(fieldThreshold,0), True, False)\n",
      "C:\\Users\\whockei1\\AppData\\Roaming\\Python\\Python36\\site-packages\\skimage\\morphology\\_deprecated.py:5: skimage_deprecation: Function ``watershed`` is deprecated and will be removed in version 0.19. Use ``skimage.segmentation.watershed`` instead.\n",
      "  def watershed(image, markers=None, connectivity=1, offset=None, mask=None,\n",
      "C:\\Users\\whockei1\\AppData\\Roaming\\Python\\Python36\\site-packages\\skimage\\morphology\\_deprecated.py:5: skimage_deprecation: Function ``watershed`` is deprecated and will be removed in version 0.19. Use ``skimage.segmentation.watershed`` instead.\n",
      "  def watershed(image, markers=None, connectivity=1, offset=None, mask=None,\n",
      "C:\\Users\\whockei1\\AppData\\Roaming\\Python\\Python36\\site-packages\\skimage\\morphology\\_deprecated.py:5: skimage_deprecation: Function ``watershed`` is deprecated and will be removed in version 0.19. Use ``skimage.segmentation.watershed`` instead.\n",
      "  def watershed(image, markers=None, connectivity=1, offset=None, mask=None,\n",
      "E:\\UserData\\Documents\\GitHub\\ratterdam\\ratterdam_RepetitionCoreFx.py:132: RuntimeWarning: invalid value encountered in double_scalars\n",
      "  field_FR.append(spk.shape[0]/vdur)\n",
      "E:\\UserData\\Documents\\GitHub\\ratterdam\\utility_fx.py:502: RuntimeWarning: divide by zero encountered in reciprocal\n",
      "  n = (hs*np.reciprocal(ho))*30\n",
      "E:\\UserData\\Documents\\GitHub\\ratterdam\\utility_fx.py:502: RuntimeWarning: invalid value encountered in multiply\n",
      "  n = (hs*np.reciprocal(ho))*30\n",
      "E:\\UserData\\Documents\\GitHub\\ratterdam\\utility_fx.py:329: RuntimeWarning: invalid value encountered in true_divide\n",
      "  Z=VV/WW\n",
      "E:\\UserData\\Documents\\GitHub\\ratterdam\\ratterdam_DataFiltering.py:127: RuntimeWarning: invalid value encountered in less_equal\n",
      "  binsBelowThresh = np.where(rm.flatten()<=rateThresh)[0].shape[0]\n"
     ]
    },
    {
     "name": "stdout",
     "output_type": "stream",
     "text": [
      "TT12\\cl-maze1.8 included\n",
      "TT12\\cl-maze1.9\n"
     ]
    },
    {
     "name": "stderr",
     "output_type": "stream",
     "text": [
      "E:\\UserData\\Documents\\GitHub\\ratterdam\\RateMapClass_William_20190308.py:210: RuntimeWarning: invalid value encountered in greater_equal\n",
      "  aboveThreshold = np.where(rateMap >= max(fieldThreshold,0), True, False)\n",
      "C:\\Users\\whockei1\\AppData\\Roaming\\Python\\Python36\\site-packages\\skimage\\morphology\\_deprecated.py:5: skimage_deprecation: Function ``watershed`` is deprecated and will be removed in version 0.19. Use ``skimage.segmentation.watershed`` instead.\n",
      "  def watershed(image, markers=None, connectivity=1, offset=None, mask=None,\n",
      "C:\\Users\\whockei1\\AppData\\Roaming\\Python\\Python36\\site-packages\\skimage\\morphology\\_deprecated.py:5: skimage_deprecation: Function ``watershed`` is deprecated and will be removed in version 0.19. Use ``skimage.segmentation.watershed`` instead.\n",
      "  def watershed(image, markers=None, connectivity=1, offset=None, mask=None,\n",
      "C:\\Users\\whockei1\\AppData\\Roaming\\Python\\Python36\\site-packages\\skimage\\morphology\\_deprecated.py:5: skimage_deprecation: Function ``watershed`` is deprecated and will be removed in version 0.19. Use ``skimage.segmentation.watershed`` instead.\n",
      "  def watershed(image, markers=None, connectivity=1, offset=None, mask=None,\n",
      "C:\\Users\\whockei1\\AppData\\Roaming\\Python\\Python36\\site-packages\\skimage\\morphology\\_deprecated.py:5: skimage_deprecation: Function ``watershed`` is deprecated and will be removed in version 0.19. Use ``skimage.segmentation.watershed`` instead.\n",
      "  def watershed(image, markers=None, connectivity=1, offset=None, mask=None,\n",
      "C:\\Users\\whockei1\\AppData\\Roaming\\Python\\Python36\\site-packages\\skimage\\morphology\\_deprecated.py:5: skimage_deprecation: Function ``watershed`` is deprecated and will be removed in version 0.19. Use ``skimage.segmentation.watershed`` instead.\n",
      "  def watershed(image, markers=None, connectivity=1, offset=None, mask=None,\n",
      "E:\\UserData\\Documents\\GitHub\\ratterdam\\ratterdam_RepetitionCoreFx.py:132: RuntimeWarning: invalid value encountered in double_scalars\n",
      "  field_FR.append(spk.shape[0]/vdur)\n",
      "E:\\UserData\\Documents\\GitHub\\ratterdam\\utility_fx.py:502: RuntimeWarning: divide by zero encountered in reciprocal\n",
      "  n = (hs*np.reciprocal(ho))*30\n",
      "E:\\UserData\\Documents\\GitHub\\ratterdam\\utility_fx.py:502: RuntimeWarning: invalid value encountered in multiply\n",
      "  n = (hs*np.reciprocal(ho))*30\n",
      "E:\\UserData\\Documents\\GitHub\\ratterdam\\utility_fx.py:329: RuntimeWarning: invalid value encountered in true_divide\n",
      "  Z=VV/WW\n",
      "E:\\UserData\\Documents\\GitHub\\ratterdam\\ratterdam_DataFiltering.py:127: RuntimeWarning: invalid value encountered in less_equal\n",
      "  binsBelowThresh = np.where(rm.flatten()<=rateThresh)[0].shape[0]\n"
     ]
    },
    {
     "name": "stdout",
     "output_type": "stream",
     "text": [
      "TT12\\cl-maze1.9 is not included\n",
      "TT15\\cl-maze1.1\n"
     ]
    },
    {
     "name": "stderr",
     "output_type": "stream",
     "text": [
      "E:\\UserData\\Documents\\GitHub\\ratterdam\\RateMapClass_William_20190308.py:210: RuntimeWarning: invalid value encountered in greater_equal\n",
      "  aboveThreshold = np.where(rateMap >= max(fieldThreshold,0), True, False)\n",
      "C:\\Users\\whockei1\\AppData\\Roaming\\Python\\Python36\\site-packages\\skimage\\morphology\\_deprecated.py:5: skimage_deprecation: Function ``watershed`` is deprecated and will be removed in version 0.19. Use ``skimage.segmentation.watershed`` instead.\n",
      "  def watershed(image, markers=None, connectivity=1, offset=None, mask=None,\n",
      "C:\\Users\\whockei1\\AppData\\Roaming\\Python\\Python36\\site-packages\\skimage\\morphology\\_deprecated.py:5: skimage_deprecation: Function ``watershed`` is deprecated and will be removed in version 0.19. Use ``skimage.segmentation.watershed`` instead.\n",
      "  def watershed(image, markers=None, connectivity=1, offset=None, mask=None,\n",
      "E:\\UserData\\Documents\\GitHub\\ratterdam\\ratterdam_RepetitionCoreFx.py:132: RuntimeWarning: invalid value encountered in double_scalars\n",
      "  field_FR.append(spk.shape[0]/vdur)\n",
      "E:\\UserData\\Documents\\GitHub\\ratterdam\\utility_fx.py:502: RuntimeWarning: divide by zero encountered in reciprocal\n",
      "  n = (hs*np.reciprocal(ho))*30\n",
      "E:\\UserData\\Documents\\GitHub\\ratterdam\\utility_fx.py:502: RuntimeWarning: invalid value encountered in multiply\n",
      "  n = (hs*np.reciprocal(ho))*30\n",
      "E:\\UserData\\Documents\\GitHub\\ratterdam\\utility_fx.py:329: RuntimeWarning: invalid value encountered in true_divide\n",
      "  Z=VV/WW\n",
      "E:\\UserData\\Documents\\GitHub\\ratterdam\\ratterdam_DataFiltering.py:127: RuntimeWarning: invalid value encountered in less_equal\n",
      "  binsBelowThresh = np.where(rm.flatten()<=rateThresh)[0].shape[0]\n"
     ]
    },
    {
     "name": "stdout",
     "output_type": "stream",
     "text": [
      "TT15\\cl-maze1.1 included\n",
      "TT15\\cl-maze1.2\n"
     ]
    },
    {
     "name": "stderr",
     "output_type": "stream",
     "text": [
      "E:\\UserData\\Documents\\GitHub\\ratterdam\\RateMapClass_William_20190308.py:210: RuntimeWarning: invalid value encountered in greater_equal\n",
      "  aboveThreshold = np.where(rateMap >= max(fieldThreshold,0), True, False)\n"
     ]
    },
    {
     "name": "stdout",
     "output_type": "stream",
     "text": [
      "TT15\\cl-maze1.2 included\n",
      "TT15\\cl-maze1.3\n"
     ]
    },
    {
     "name": "stderr",
     "output_type": "stream",
     "text": [
      "C:\\Users\\whockei1\\AppData\\Roaming\\Python\\Python36\\site-packages\\skimage\\morphology\\_deprecated.py:5: skimage_deprecation: Function ``watershed`` is deprecated and will be removed in version 0.19. Use ``skimage.segmentation.watershed`` instead.\n",
      "  def watershed(image, markers=None, connectivity=1, offset=None, mask=None,\n",
      "C:\\Users\\whockei1\\AppData\\Roaming\\Python\\Python36\\site-packages\\skimage\\morphology\\_deprecated.py:5: skimage_deprecation: Function ``watershed`` is deprecated and will be removed in version 0.19. Use ``skimage.segmentation.watershed`` instead.\n",
      "  def watershed(image, markers=None, connectivity=1, offset=None, mask=None,\n",
      "C:\\Users\\whockei1\\AppData\\Roaming\\Python\\Python36\\site-packages\\skimage\\morphology\\_deprecated.py:5: skimage_deprecation: Function ``watershed`` is deprecated and will be removed in version 0.19. Use ``skimage.segmentation.watershed`` instead.\n",
      "  def watershed(image, markers=None, connectivity=1, offset=None, mask=None,\n",
      "C:\\Users\\whockei1\\AppData\\Roaming\\Python\\Python36\\site-packages\\skimage\\morphology\\_deprecated.py:5: skimage_deprecation: Function ``watershed`` is deprecated and will be removed in version 0.19. Use ``skimage.segmentation.watershed`` instead.\n",
      "  def watershed(image, markers=None, connectivity=1, offset=None, mask=None,\n",
      "C:\\Users\\whockei1\\AppData\\Roaming\\Python\\Python36\\site-packages\\skimage\\morphology\\_deprecated.py:5: skimage_deprecation: Function ``watershed`` is deprecated and will be removed in version 0.19. Use ``skimage.segmentation.watershed`` instead.\n",
      "  def watershed(image, markers=None, connectivity=1, offset=None, mask=None,\n",
      "C:\\Users\\whockei1\\AppData\\Roaming\\Python\\Python36\\site-packages\\skimage\\morphology\\_deprecated.py:5: skimage_deprecation: Function ``watershed`` is deprecated and will be removed in version 0.19. Use ``skimage.segmentation.watershed`` instead.\n",
      "  def watershed(image, markers=None, connectivity=1, offset=None, mask=None,\n",
      "C:\\Users\\whockei1\\AppData\\Roaming\\Python\\Python36\\site-packages\\skimage\\morphology\\_deprecated.py:5: skimage_deprecation: Function ``watershed`` is deprecated and will be removed in version 0.19. Use ``skimage.segmentation.watershed`` instead.\n",
      "  def watershed(image, markers=None, connectivity=1, offset=None, mask=None,\n",
      "E:\\UserData\\Documents\\GitHub\\ratterdam\\ratterdam_RepetitionCoreFx.py:132: RuntimeWarning: invalid value encountered in double_scalars\n",
      "  field_FR.append(spk.shape[0]/vdur)\n",
      "E:\\UserData\\Documents\\GitHub\\ratterdam\\utility_fx.py:502: RuntimeWarning: divide by zero encountered in reciprocal\n",
      "  n = (hs*np.reciprocal(ho))*30\n",
      "E:\\UserData\\Documents\\GitHub\\ratterdam\\utility_fx.py:502: RuntimeWarning: invalid value encountered in multiply\n",
      "  n = (hs*np.reciprocal(ho))*30\n",
      "E:\\UserData\\Documents\\GitHub\\ratterdam\\utility_fx.py:329: RuntimeWarning: invalid value encountered in true_divide\n",
      "  Z=VV/WW\n",
      "E:\\UserData\\Documents\\GitHub\\ratterdam\\ratterdam_DataFiltering.py:127: RuntimeWarning: invalid value encountered in less_equal\n",
      "  binsBelowThresh = np.where(rm.flatten()<=rateThresh)[0].shape[0]\n"
     ]
    },
    {
     "name": "stdout",
     "output_type": "stream",
     "text": [
      "TT15\\cl-maze1.3 included\n",
      "TT15\\cl-maze1.4\n"
     ]
    },
    {
     "name": "stderr",
     "output_type": "stream",
     "text": [
      "E:\\UserData\\Documents\\GitHub\\ratterdam\\RateMapClass_William_20190308.py:210: RuntimeWarning: invalid value encountered in greater_equal\n",
      "  aboveThreshold = np.where(rateMap >= max(fieldThreshold,0), True, False)\n"
     ]
    },
    {
     "name": "stdout",
     "output_type": "stream",
     "text": [
      "TT15\\cl-maze1.4 is not included\n",
      "TT15\\cl-maze1.5\n"
     ]
    },
    {
     "name": "stderr",
     "output_type": "stream",
     "text": [
      "C:\\Users\\whockei1\\AppData\\Roaming\\Python\\Python36\\site-packages\\skimage\\morphology\\_deprecated.py:5: skimage_deprecation: Function ``watershed`` is deprecated and will be removed in version 0.19. Use ``skimage.segmentation.watershed`` instead.\n",
      "  def watershed(image, markers=None, connectivity=1, offset=None, mask=None,\n",
      "C:\\Users\\whockei1\\AppData\\Roaming\\Python\\Python36\\site-packages\\skimage\\morphology\\_deprecated.py:5: skimage_deprecation: Function ``watershed`` is deprecated and will be removed in version 0.19. Use ``skimage.segmentation.watershed`` instead.\n",
      "  def watershed(image, markers=None, connectivity=1, offset=None, mask=None,\n",
      "C:\\Users\\whockei1\\AppData\\Roaming\\Python\\Python36\\site-packages\\skimage\\morphology\\_deprecated.py:5: skimage_deprecation: Function ``watershed`` is deprecated and will be removed in version 0.19. Use ``skimage.segmentation.watershed`` instead.\n",
      "  def watershed(image, markers=None, connectivity=1, offset=None, mask=None,\n",
      "C:\\Users\\whockei1\\AppData\\Roaming\\Python\\Python36\\site-packages\\skimage\\morphology\\_deprecated.py:5: skimage_deprecation: Function ``watershed`` is deprecated and will be removed in version 0.19. Use ``skimage.segmentation.watershed`` instead.\n",
      "  def watershed(image, markers=None, connectivity=1, offset=None, mask=None,\n",
      "C:\\Users\\whockei1\\AppData\\Roaming\\Python\\Python36\\site-packages\\skimage\\morphology\\_deprecated.py:5: skimage_deprecation: Function ``watershed`` is deprecated and will be removed in version 0.19. Use ``skimage.segmentation.watershed`` instead.\n",
      "  def watershed(image, markers=None, connectivity=1, offset=None, mask=None,\n",
      "C:\\Users\\whockei1\\AppData\\Roaming\\Python\\Python36\\site-packages\\skimage\\morphology\\_deprecated.py:5: skimage_deprecation: Function ``watershed`` is deprecated and will be removed in version 0.19. Use ``skimage.segmentation.watershed`` instead.\n",
      "  def watershed(image, markers=None, connectivity=1, offset=None, mask=None,\n",
      "C:\\Users\\whockei1\\AppData\\Roaming\\Python\\Python36\\site-packages\\skimage\\morphology\\_deprecated.py:5: skimage_deprecation: Function ``watershed`` is deprecated and will be removed in version 0.19. Use ``skimage.segmentation.watershed`` instead.\n",
      "  def watershed(image, markers=None, connectivity=1, offset=None, mask=None,\n",
      "C:\\Users\\whockei1\\AppData\\Roaming\\Python\\Python36\\site-packages\\skimage\\morphology\\_deprecated.py:5: skimage_deprecation: Function ``watershed`` is deprecated and will be removed in version 0.19. Use ``skimage.segmentation.watershed`` instead.\n",
      "  def watershed(image, markers=None, connectivity=1, offset=None, mask=None,\n",
      "C:\\Users\\whockei1\\AppData\\Roaming\\Python\\Python36\\site-packages\\skimage\\morphology\\_deprecated.py:5: skimage_deprecation: Function ``watershed`` is deprecated and will be removed in version 0.19. Use ``skimage.segmentation.watershed`` instead.\n",
      "  def watershed(image, markers=None, connectivity=1, offset=None, mask=None,\n",
      "C:\\Users\\whockei1\\AppData\\Roaming\\Python\\Python36\\site-packages\\skimage\\morphology\\_deprecated.py:5: skimage_deprecation: Function ``watershed`` is deprecated and will be removed in version 0.19. Use ``skimage.segmentation.watershed`` instead.\n",
      "  def watershed(image, markers=None, connectivity=1, offset=None, mask=None,\n",
      "C:\\Users\\whockei1\\AppData\\Roaming\\Python\\Python36\\site-packages\\skimage\\morphology\\_deprecated.py:5: skimage_deprecation: Function ``watershed`` is deprecated and will be removed in version 0.19. Use ``skimage.segmentation.watershed`` instead.\n",
      "  def watershed(image, markers=None, connectivity=1, offset=None, mask=None,\n",
      "C:\\Users\\whockei1\\AppData\\Roaming\\Python\\Python36\\site-packages\\skimage\\morphology\\_deprecated.py:5: skimage_deprecation: Function ``watershed`` is deprecated and will be removed in version 0.19. Use ``skimage.segmentation.watershed`` instead.\n",
      "  def watershed(image, markers=None, connectivity=1, offset=None, mask=None,\n",
      "C:\\Users\\whockei1\\AppData\\Roaming\\Python\\Python36\\site-packages\\skimage\\morphology\\_deprecated.py:5: skimage_deprecation: Function ``watershed`` is deprecated and will be removed in version 0.19. Use ``skimage.segmentation.watershed`` instead.\n",
      "  def watershed(image, markers=None, connectivity=1, offset=None, mask=None,\n",
      "C:\\Users\\whockei1\\AppData\\Roaming\\Python\\Python36\\site-packages\\skimage\\morphology\\_deprecated.py:5: skimage_deprecation: Function ``watershed`` is deprecated and will be removed in version 0.19. Use ``skimage.segmentation.watershed`` instead.\n",
      "  def watershed(image, markers=None, connectivity=1, offset=None, mask=None,\n",
      "C:\\Users\\whockei1\\AppData\\Roaming\\Python\\Python36\\site-packages\\skimage\\morphology\\_deprecated.py:5: skimage_deprecation: Function ``watershed`` is deprecated and will be removed in version 0.19. Use ``skimage.segmentation.watershed`` instead.\n",
      "  def watershed(image, markers=None, connectivity=1, offset=None, mask=None,\n",
      "C:\\Users\\whockei1\\AppData\\Roaming\\Python\\Python36\\site-packages\\skimage\\morphology\\_deprecated.py:5: skimage_deprecation: Function ``watershed`` is deprecated and will be removed in version 0.19. Use ``skimage.segmentation.watershed`` instead.\n",
      "  def watershed(image, markers=None, connectivity=1, offset=None, mask=None,\n",
      "E:\\UserData\\Documents\\GitHub\\ratterdam\\ratterdam_RepetitionCoreFx.py:132: RuntimeWarning: invalid value encountered in double_scalars\n",
      "  field_FR.append(spk.shape[0]/vdur)\n"
     ]
    },
    {
     "name": "stdout",
     "output_type": "stream",
     "text": [
      "TT15\\cl-maze1.5 included\n"
     ]
    },
    {
     "name": "stderr",
     "output_type": "stream",
     "text": [
      "E:\\UserData\\Documents\\GitHub\\ratterdam\\utility_fx.py:502: RuntimeWarning: divide by zero encountered in reciprocal\n",
      "  n = (hs*np.reciprocal(ho))*30\n",
      "E:\\UserData\\Documents\\GitHub\\ratterdam\\utility_fx.py:502: RuntimeWarning: invalid value encountered in multiply\n",
      "  n = (hs*np.reciprocal(ho))*30\n",
      "E:\\UserData\\Documents\\GitHub\\ratterdam\\utility_fx.py:329: RuntimeWarning: invalid value encountered in true_divide\n",
      "  Z=VV/WW\n",
      "E:\\UserData\\Documents\\GitHub\\ratterdam\\ratterdam_DataFiltering.py:127: RuntimeWarning: invalid value encountered in less_equal\n",
      "  binsBelowThresh = np.where(rm.flatten()<=rateThresh)[0].shape[0]\n"
     ]
    }
   ],
   "source": [
    "rat = \"R808\"\n",
    "day = \"D6\"\n",
    "savepath = f'E:\\\\Ratterdam\\\\{rat}\\\\ratterdam_plots\\\\{day}\\\\decoding\\\\'\n",
    "df = f'E:\\Ratterdam\\\\{rat}\\\\{rat}_RatterdamOpen_{day}\\\\'\n",
    "clustList = util.getClustList(df)\n",
    "population = {}\n",
    "for clust in clustList:\n",
    "    try:\n",
    "        print(clust)\n",
    "        unit = RepCore.loadRepeatingUnit(df, clust, smoothing=1)\n",
    "        rm = util.makeRM(unit.spikes, unit.position)\n",
    "        if np.nanpercentile(rm, 95) > 1.:\n",
    "            population[clust] = unit\n",
    "            print(f\"{clust} included\")\n",
    "        else:\n",
    "            print(f\"{clust} is not included\")\n",
    "    except:\n",
    "        pass"
   ]
  },
  {
   "cell_type": "code",
   "execution_count": 101,
   "metadata": {},
   "outputs": [
    {
     "name": "stdout",
     "output_type": "stream",
     "text": [
      "TT12\\cl-maze1.10\n"
     ]
    },
    {
     "name": "stderr",
     "output_type": "stream",
     "text": [
      "E:\\UserData\\Documents\\GitHub\\ratterdam\\RateMapClass_William_20190308.py:210: RuntimeWarning: invalid value encountered in greater_equal\n",
      "  aboveThreshold = np.where(rateMap >= max(fieldThreshold,0), True, False)\n",
      "C:\\Users\\whockei1\\AppData\\Roaming\\Python\\Python36\\site-packages\\skimage\\morphology\\_deprecated.py:5: skimage_deprecation: Function ``watershed`` is deprecated and will be removed in version 0.19. Use ``skimage.segmentation.watershed`` instead.\n",
      "  def watershed(image, markers=None, connectivity=1, offset=None, mask=None,\n",
      "C:\\Users\\whockei1\\AppData\\Roaming\\Python\\Python36\\site-packages\\skimage\\morphology\\_deprecated.py:5: skimage_deprecation: Function ``watershed`` is deprecated and will be removed in version 0.19. Use ``skimage.segmentation.watershed`` instead.\n",
      "  def watershed(image, markers=None, connectivity=1, offset=None, mask=None,\n",
      "E:\\UserData\\Documents\\GitHub\\ratterdam\\ratterdam_RepetitionCoreFx.py:132: RuntimeWarning: invalid value encountered in double_scalars\n",
      "  field_FR.append(spk.shape[0]/vdur)\n",
      "E:\\UserData\\Documents\\GitHub\\ratterdam\\utility_fx.py:502: RuntimeWarning: divide by zero encountered in reciprocal\n",
      "  n = (hs*np.reciprocal(ho))*30\n",
      "E:\\UserData\\Documents\\GitHub\\ratterdam\\utility_fx.py:502: RuntimeWarning: invalid value encountered in multiply\n",
      "  n = (hs*np.reciprocal(ho))*30\n",
      "E:\\UserData\\Documents\\GitHub\\ratterdam\\utility_fx.py:329: RuntimeWarning: invalid value encountered in true_divide\n",
      "  Z=VV/WW\n",
      "E:\\UserData\\Documents\\GitHub\\ratterdam\\ratterdam_DataFiltering.py:127: RuntimeWarning: invalid value encountered in less_equal\n",
      "  binsBelowThresh = np.where(rm.flatten()<=rateThresh)[0].shape[0]\n"
     ]
    },
    {
     "name": "stdout",
     "output_type": "stream",
     "text": [
      "TT12\\cl-maze1.2\n"
     ]
    },
    {
     "name": "stderr",
     "output_type": "stream",
     "text": [
      "E:\\UserData\\Documents\\GitHub\\ratterdam\\RateMapClass_William_20190308.py:210: RuntimeWarning: invalid value encountered in greater_equal\n",
      "  aboveThreshold = np.where(rateMap >= max(fieldThreshold,0), True, False)\n",
      "C:\\Users\\whockei1\\AppData\\Roaming\\Python\\Python36\\site-packages\\skimage\\morphology\\_deprecated.py:5: skimage_deprecation: Function ``watershed`` is deprecated and will be removed in version 0.19. Use ``skimage.segmentation.watershed`` instead.\n",
      "  def watershed(image, markers=None, connectivity=1, offset=None, mask=None,\n",
      "C:\\Users\\whockei1\\AppData\\Roaming\\Python\\Python36\\site-packages\\skimage\\morphology\\_deprecated.py:5: skimage_deprecation: Function ``watershed`` is deprecated and will be removed in version 0.19. Use ``skimage.segmentation.watershed`` instead.\n",
      "  def watershed(image, markers=None, connectivity=1, offset=None, mask=None,\n",
      "C:\\Users\\whockei1\\AppData\\Roaming\\Python\\Python36\\site-packages\\skimage\\morphology\\_deprecated.py:5: skimage_deprecation: Function ``watershed`` is deprecated and will be removed in version 0.19. Use ``skimage.segmentation.watershed`` instead.\n",
      "  def watershed(image, markers=None, connectivity=1, offset=None, mask=None,\n",
      "C:\\Users\\whockei1\\AppData\\Roaming\\Python\\Python36\\site-packages\\skimage\\morphology\\_deprecated.py:5: skimage_deprecation: Function ``watershed`` is deprecated and will be removed in version 0.19. Use ``skimage.segmentation.watershed`` instead.\n",
      "  def watershed(image, markers=None, connectivity=1, offset=None, mask=None,\n",
      "C:\\Users\\whockei1\\AppData\\Roaming\\Python\\Python36\\site-packages\\skimage\\morphology\\_deprecated.py:5: skimage_deprecation: Function ``watershed`` is deprecated and will be removed in version 0.19. Use ``skimage.segmentation.watershed`` instead.\n",
      "  def watershed(image, markers=None, connectivity=1, offset=None, mask=None,\n",
      "E:\\UserData\\Documents\\GitHub\\ratterdam\\ratterdam_RepetitionCoreFx.py:132: RuntimeWarning: invalid value encountered in double_scalars\n",
      "  field_FR.append(spk.shape[0]/vdur)\n",
      "E:\\UserData\\Documents\\GitHub\\ratterdam\\utility_fx.py:502: RuntimeWarning: divide by zero encountered in reciprocal\n",
      "  n = (hs*np.reciprocal(ho))*30\n",
      "E:\\UserData\\Documents\\GitHub\\ratterdam\\utility_fx.py:502: RuntimeWarning: invalid value encountered in multiply\n",
      "  n = (hs*np.reciprocal(ho))*30\n",
      "E:\\UserData\\Documents\\GitHub\\ratterdam\\utility_fx.py:329: RuntimeWarning: invalid value encountered in true_divide\n",
      "  Z=VV/WW\n",
      "E:\\UserData\\Documents\\GitHub\\ratterdam\\ratterdam_DataFiltering.py:127: RuntimeWarning: invalid value encountered in less_equal\n",
      "  binsBelowThresh = np.where(rm.flatten()<=rateThresh)[0].shape[0]\n"
     ]
    },
    {
     "name": "stdout",
     "output_type": "stream",
     "text": [
      "TT12\\cl-maze1.3\n"
     ]
    },
    {
     "name": "stderr",
     "output_type": "stream",
     "text": [
      "E:\\UserData\\Documents\\GitHub\\ratterdam\\RateMapClass_William_20190308.py:210: RuntimeWarning: invalid value encountered in greater_equal\n",
      "  aboveThreshold = np.where(rateMap >= max(fieldThreshold,0), True, False)\n",
      "C:\\Users\\whockei1\\AppData\\Roaming\\Python\\Python36\\site-packages\\skimage\\morphology\\_deprecated.py:5: skimage_deprecation: Function ``watershed`` is deprecated and will be removed in version 0.19. Use ``skimage.segmentation.watershed`` instead.\n",
      "  def watershed(image, markers=None, connectivity=1, offset=None, mask=None,\n",
      "C:\\Users\\whockei1\\AppData\\Roaming\\Python\\Python36\\site-packages\\skimage\\morphology\\_deprecated.py:5: skimage_deprecation: Function ``watershed`` is deprecated and will be removed in version 0.19. Use ``skimage.segmentation.watershed`` instead.\n",
      "  def watershed(image, markers=None, connectivity=1, offset=None, mask=None,\n",
      "C:\\Users\\whockei1\\AppData\\Roaming\\Python\\Python36\\site-packages\\skimage\\morphology\\_deprecated.py:5: skimage_deprecation: Function ``watershed`` is deprecated and will be removed in version 0.19. Use ``skimage.segmentation.watershed`` instead.\n",
      "  def watershed(image, markers=None, connectivity=1, offset=None, mask=None,\n",
      "E:\\UserData\\Documents\\GitHub\\ratterdam\\utility_fx.py:502: RuntimeWarning: divide by zero encountered in reciprocal\n",
      "  n = (hs*np.reciprocal(ho))*30\n",
      "E:\\UserData\\Documents\\GitHub\\ratterdam\\utility_fx.py:502: RuntimeWarning: invalid value encountered in multiply\n",
      "  n = (hs*np.reciprocal(ho))*30\n",
      "E:\\UserData\\Documents\\GitHub\\ratterdam\\utility_fx.py:329: RuntimeWarning: invalid value encountered in true_divide\n",
      "  Z=VV/WW\n",
      "E:\\UserData\\Documents\\GitHub\\ratterdam\\ratterdam_DataFiltering.py:127: RuntimeWarning: invalid value encountered in less_equal\n",
      "  binsBelowThresh = np.where(rm.flatten()<=rateThresh)[0].shape[0]\n"
     ]
    },
    {
     "name": "stdout",
     "output_type": "stream",
     "text": [
      "TT12\\cl-maze1.7\n"
     ]
    },
    {
     "name": "stderr",
     "output_type": "stream",
     "text": [
      "E:\\UserData\\Documents\\GitHub\\ratterdam\\RateMapClass_William_20190308.py:210: RuntimeWarning: invalid value encountered in greater_equal\n",
      "  aboveThreshold = np.where(rateMap >= max(fieldThreshold,0), True, False)\n",
      "C:\\Users\\whockei1\\AppData\\Roaming\\Python\\Python36\\site-packages\\skimage\\morphology\\_deprecated.py:5: skimage_deprecation: Function ``watershed`` is deprecated and will be removed in version 0.19. Use ``skimage.segmentation.watershed`` instead.\n",
      "  def watershed(image, markers=None, connectivity=1, offset=None, mask=None,\n",
      "C:\\Users\\whockei1\\AppData\\Roaming\\Python\\Python36\\site-packages\\skimage\\morphology\\_deprecated.py:5: skimage_deprecation: Function ``watershed`` is deprecated and will be removed in version 0.19. Use ``skimage.segmentation.watershed`` instead.\n",
      "  def watershed(image, markers=None, connectivity=1, offset=None, mask=None,\n",
      "C:\\Users\\whockei1\\AppData\\Roaming\\Python\\Python36\\site-packages\\skimage\\morphology\\_deprecated.py:5: skimage_deprecation: Function ``watershed`` is deprecated and will be removed in version 0.19. Use ``skimage.segmentation.watershed`` instead.\n",
      "  def watershed(image, markers=None, connectivity=1, offset=None, mask=None,\n",
      "C:\\Users\\whockei1\\AppData\\Roaming\\Python\\Python36\\site-packages\\skimage\\morphology\\_deprecated.py:5: skimage_deprecation: Function ``watershed`` is deprecated and will be removed in version 0.19. Use ``skimage.segmentation.watershed`` instead.\n",
      "  def watershed(image, markers=None, connectivity=1, offset=None, mask=None,\n",
      "E:\\UserData\\Documents\\GitHub\\ratterdam\\ratterdam_RepetitionCoreFx.py:132: RuntimeWarning: invalid value encountered in double_scalars\n",
      "  field_FR.append(spk.shape[0]/vdur)\n",
      "E:\\UserData\\Documents\\GitHub\\ratterdam\\utility_fx.py:502: RuntimeWarning: divide by zero encountered in reciprocal\n",
      "  n = (hs*np.reciprocal(ho))*30\n",
      "E:\\UserData\\Documents\\GitHub\\ratterdam\\utility_fx.py:502: RuntimeWarning: invalid value encountered in multiply\n",
      "  n = (hs*np.reciprocal(ho))*30\n",
      "E:\\UserData\\Documents\\GitHub\\ratterdam\\utility_fx.py:329: RuntimeWarning: invalid value encountered in true_divide\n",
      "  Z=VV/WW\n",
      "E:\\UserData\\Documents\\GitHub\\ratterdam\\ratterdam_DataFiltering.py:127: RuntimeWarning: invalid value encountered in less_equal\n",
      "  binsBelowThresh = np.where(rm.flatten()<=rateThresh)[0].shape[0]\n"
     ]
    },
    {
     "name": "stdout",
     "output_type": "stream",
     "text": [
      "TT12\\cl-maze1.8\n"
     ]
    },
    {
     "name": "stderr",
     "output_type": "stream",
     "text": [
      "E:\\UserData\\Documents\\GitHub\\ratterdam\\RateMapClass_William_20190308.py:210: RuntimeWarning: invalid value encountered in greater_equal\n",
      "  aboveThreshold = np.where(rateMap >= max(fieldThreshold,0), True, False)\n",
      "C:\\Users\\whockei1\\AppData\\Roaming\\Python\\Python36\\site-packages\\skimage\\morphology\\_deprecated.py:5: skimage_deprecation: Function ``watershed`` is deprecated and will be removed in version 0.19. Use ``skimage.segmentation.watershed`` instead.\n",
      "  def watershed(image, markers=None, connectivity=1, offset=None, mask=None,\n",
      "C:\\Users\\whockei1\\AppData\\Roaming\\Python\\Python36\\site-packages\\skimage\\morphology\\_deprecated.py:5: skimage_deprecation: Function ``watershed`` is deprecated and will be removed in version 0.19. Use ``skimage.segmentation.watershed`` instead.\n",
      "  def watershed(image, markers=None, connectivity=1, offset=None, mask=None,\n",
      "C:\\Users\\whockei1\\AppData\\Roaming\\Python\\Python36\\site-packages\\skimage\\morphology\\_deprecated.py:5: skimage_deprecation: Function ``watershed`` is deprecated and will be removed in version 0.19. Use ``skimage.segmentation.watershed`` instead.\n",
      "  def watershed(image, markers=None, connectivity=1, offset=None, mask=None,\n",
      "E:\\UserData\\Documents\\GitHub\\ratterdam\\ratterdam_RepetitionCoreFx.py:132: RuntimeWarning: invalid value encountered in double_scalars\n",
      "  field_FR.append(spk.shape[0]/vdur)\n",
      "E:\\UserData\\Documents\\GitHub\\ratterdam\\utility_fx.py:502: RuntimeWarning: divide by zero encountered in reciprocal\n",
      "  n = (hs*np.reciprocal(ho))*30\n",
      "E:\\UserData\\Documents\\GitHub\\ratterdam\\utility_fx.py:502: RuntimeWarning: invalid value encountered in multiply\n",
      "  n = (hs*np.reciprocal(ho))*30\n",
      "E:\\UserData\\Documents\\GitHub\\ratterdam\\utility_fx.py:329: RuntimeWarning: invalid value encountered in true_divide\n",
      "  Z=VV/WW\n",
      "E:\\UserData\\Documents\\GitHub\\ratterdam\\ratterdam_DataFiltering.py:127: RuntimeWarning: invalid value encountered in less_equal\n",
      "  binsBelowThresh = np.where(rm.flatten()<=rateThresh)[0].shape[0]\n"
     ]
    },
    {
     "name": "stdout",
     "output_type": "stream",
     "text": [
      "TT15\\cl-maze1.1\n"
     ]
    },
    {
     "name": "stderr",
     "output_type": "stream",
     "text": [
      "E:\\UserData\\Documents\\GitHub\\ratterdam\\RateMapClass_William_20190308.py:210: RuntimeWarning: invalid value encountered in greater_equal\n",
      "  aboveThreshold = np.where(rateMap >= max(fieldThreshold,0), True, False)\n",
      "C:\\Users\\whockei1\\AppData\\Roaming\\Python\\Python36\\site-packages\\skimage\\morphology\\_deprecated.py:5: skimage_deprecation: Function ``watershed`` is deprecated and will be removed in version 0.19. Use ``skimage.segmentation.watershed`` instead.\n",
      "  def watershed(image, markers=None, connectivity=1, offset=None, mask=None,\n",
      "C:\\Users\\whockei1\\AppData\\Roaming\\Python\\Python36\\site-packages\\skimage\\morphology\\_deprecated.py:5: skimage_deprecation: Function ``watershed`` is deprecated and will be removed in version 0.19. Use ``skimage.segmentation.watershed`` instead.\n",
      "  def watershed(image, markers=None, connectivity=1, offset=None, mask=None,\n",
      "E:\\UserData\\Documents\\GitHub\\ratterdam\\ratterdam_RepetitionCoreFx.py:132: RuntimeWarning: invalid value encountered in double_scalars\n",
      "  field_FR.append(spk.shape[0]/vdur)\n",
      "E:\\UserData\\Documents\\GitHub\\ratterdam\\utility_fx.py:502: RuntimeWarning: divide by zero encountered in reciprocal\n",
      "  n = (hs*np.reciprocal(ho))*30\n",
      "E:\\UserData\\Documents\\GitHub\\ratterdam\\utility_fx.py:502: RuntimeWarning: invalid value encountered in multiply\n",
      "  n = (hs*np.reciprocal(ho))*30\n",
      "E:\\UserData\\Documents\\GitHub\\ratterdam\\utility_fx.py:329: RuntimeWarning: invalid value encountered in true_divide\n",
      "  Z=VV/WW\n",
      "E:\\UserData\\Documents\\GitHub\\ratterdam\\ratterdam_DataFiltering.py:127: RuntimeWarning: invalid value encountered in less_equal\n",
      "  binsBelowThresh = np.where(rm.flatten()<=rateThresh)[0].shape[0]\n"
     ]
    },
    {
     "name": "stdout",
     "output_type": "stream",
     "text": [
      "TT15\\cl-maze1.2\n"
     ]
    },
    {
     "name": "stderr",
     "output_type": "stream",
     "text": [
      "E:\\UserData\\Documents\\GitHub\\ratterdam\\RateMapClass_William_20190308.py:210: RuntimeWarning: invalid value encountered in greater_equal\n",
      "  aboveThreshold = np.where(rateMap >= max(fieldThreshold,0), True, False)\n",
      "E:\\UserData\\Documents\\GitHub\\ratterdam\\utility_fx.py:502: RuntimeWarning: divide by zero encountered in reciprocal\n",
      "  n = (hs*np.reciprocal(ho))*30\n",
      "E:\\UserData\\Documents\\GitHub\\ratterdam\\utility_fx.py:502: RuntimeWarning: invalid value encountered in multiply\n",
      "  n = (hs*np.reciprocal(ho))*30\n",
      "E:\\UserData\\Documents\\GitHub\\ratterdam\\utility_fx.py:329: RuntimeWarning: invalid value encountered in true_divide\n",
      "  Z=VV/WW\n",
      "E:\\UserData\\Documents\\GitHub\\ratterdam\\ratterdam_DataFiltering.py:127: RuntimeWarning: invalid value encountered in less_equal\n",
      "  binsBelowThresh = np.where(rm.flatten()<=rateThresh)[0].shape[0]\n"
     ]
    },
    {
     "name": "stdout",
     "output_type": "stream",
     "text": [
      "TT15\\cl-maze1.3\n"
     ]
    },
    {
     "name": "stderr",
     "output_type": "stream",
     "text": [
      "E:\\UserData\\Documents\\GitHub\\ratterdam\\RateMapClass_William_20190308.py:210: RuntimeWarning: invalid value encountered in greater_equal\n",
      "  aboveThreshold = np.where(rateMap >= max(fieldThreshold,0), True, False)\n",
      "C:\\Users\\whockei1\\AppData\\Roaming\\Python\\Python36\\site-packages\\skimage\\morphology\\_deprecated.py:5: skimage_deprecation: Function ``watershed`` is deprecated and will be removed in version 0.19. Use ``skimage.segmentation.watershed`` instead.\n",
      "  def watershed(image, markers=None, connectivity=1, offset=None, mask=None,\n",
      "C:\\Users\\whockei1\\AppData\\Roaming\\Python\\Python36\\site-packages\\skimage\\morphology\\_deprecated.py:5: skimage_deprecation: Function ``watershed`` is deprecated and will be removed in version 0.19. Use ``skimage.segmentation.watershed`` instead.\n",
      "  def watershed(image, markers=None, connectivity=1, offset=None, mask=None,\n",
      "C:\\Users\\whockei1\\AppData\\Roaming\\Python\\Python36\\site-packages\\skimage\\morphology\\_deprecated.py:5: skimage_deprecation: Function ``watershed`` is deprecated and will be removed in version 0.19. Use ``skimage.segmentation.watershed`` instead.\n",
      "  def watershed(image, markers=None, connectivity=1, offset=None, mask=None,\n",
      "C:\\Users\\whockei1\\AppData\\Roaming\\Python\\Python36\\site-packages\\skimage\\morphology\\_deprecated.py:5: skimage_deprecation: Function ``watershed`` is deprecated and will be removed in version 0.19. Use ``skimage.segmentation.watershed`` instead.\n",
      "  def watershed(image, markers=None, connectivity=1, offset=None, mask=None,\n",
      "C:\\Users\\whockei1\\AppData\\Roaming\\Python\\Python36\\site-packages\\skimage\\morphology\\_deprecated.py:5: skimage_deprecation: Function ``watershed`` is deprecated and will be removed in version 0.19. Use ``skimage.segmentation.watershed`` instead.\n",
      "  def watershed(image, markers=None, connectivity=1, offset=None, mask=None,\n",
      "C:\\Users\\whockei1\\AppData\\Roaming\\Python\\Python36\\site-packages\\skimage\\morphology\\_deprecated.py:5: skimage_deprecation: Function ``watershed`` is deprecated and will be removed in version 0.19. Use ``skimage.segmentation.watershed`` instead.\n",
      "  def watershed(image, markers=None, connectivity=1, offset=None, mask=None,\n",
      "C:\\Users\\whockei1\\AppData\\Roaming\\Python\\Python36\\site-packages\\skimage\\morphology\\_deprecated.py:5: skimage_deprecation: Function ``watershed`` is deprecated and will be removed in version 0.19. Use ``skimage.segmentation.watershed`` instead.\n",
      "  def watershed(image, markers=None, connectivity=1, offset=None, mask=None,\n",
      "E:\\UserData\\Documents\\GitHub\\ratterdam\\ratterdam_RepetitionCoreFx.py:132: RuntimeWarning: invalid value encountered in double_scalars\n",
      "  field_FR.append(spk.shape[0]/vdur)\n",
      "E:\\UserData\\Documents\\GitHub\\ratterdam\\utility_fx.py:502: RuntimeWarning: divide by zero encountered in reciprocal\n",
      "  n = (hs*np.reciprocal(ho))*30\n",
      "E:\\UserData\\Documents\\GitHub\\ratterdam\\utility_fx.py:502: RuntimeWarning: invalid value encountered in multiply\n",
      "  n = (hs*np.reciprocal(ho))*30\n",
      "E:\\UserData\\Documents\\GitHub\\ratterdam\\utility_fx.py:329: RuntimeWarning: invalid value encountered in true_divide\n",
      "  Z=VV/WW\n",
      "E:\\UserData\\Documents\\GitHub\\ratterdam\\ratterdam_DataFiltering.py:127: RuntimeWarning: invalid value encountered in less_equal\n",
      "  binsBelowThresh = np.where(rm.flatten()<=rateThresh)[0].shape[0]\n"
     ]
    },
    {
     "name": "stdout",
     "output_type": "stream",
     "text": [
      "TT15\\cl-maze1.5\n"
     ]
    },
    {
     "name": "stderr",
     "output_type": "stream",
     "text": [
      "E:\\UserData\\Documents\\GitHub\\ratterdam\\RateMapClass_William_20190308.py:210: RuntimeWarning: invalid value encountered in greater_equal\n",
      "  aboveThreshold = np.where(rateMap >= max(fieldThreshold,0), True, False)\n",
      "C:\\Users\\whockei1\\AppData\\Roaming\\Python\\Python36\\site-packages\\skimage\\morphology\\_deprecated.py:5: skimage_deprecation: Function ``watershed`` is deprecated and will be removed in version 0.19. Use ``skimage.segmentation.watershed`` instead.\n",
      "  def watershed(image, markers=None, connectivity=1, offset=None, mask=None,\n",
      "C:\\Users\\whockei1\\AppData\\Roaming\\Python\\Python36\\site-packages\\skimage\\morphology\\_deprecated.py:5: skimage_deprecation: Function ``watershed`` is deprecated and will be removed in version 0.19. Use ``skimage.segmentation.watershed`` instead.\n",
      "  def watershed(image, markers=None, connectivity=1, offset=None, mask=None,\n",
      "C:\\Users\\whockei1\\AppData\\Roaming\\Python\\Python36\\site-packages\\skimage\\morphology\\_deprecated.py:5: skimage_deprecation: Function ``watershed`` is deprecated and will be removed in version 0.19. Use ``skimage.segmentation.watershed`` instead.\n",
      "  def watershed(image, markers=None, connectivity=1, offset=None, mask=None,\n",
      "C:\\Users\\whockei1\\AppData\\Roaming\\Python\\Python36\\site-packages\\skimage\\morphology\\_deprecated.py:5: skimage_deprecation: Function ``watershed`` is deprecated and will be removed in version 0.19. Use ``skimage.segmentation.watershed`` instead.\n",
      "  def watershed(image, markers=None, connectivity=1, offset=None, mask=None,\n",
      "C:\\Users\\whockei1\\AppData\\Roaming\\Python\\Python36\\site-packages\\skimage\\morphology\\_deprecated.py:5: skimage_deprecation: Function ``watershed`` is deprecated and will be removed in version 0.19. Use ``skimage.segmentation.watershed`` instead.\n",
      "  def watershed(image, markers=None, connectivity=1, offset=None, mask=None,\n",
      "C:\\Users\\whockei1\\AppData\\Roaming\\Python\\Python36\\site-packages\\skimage\\morphology\\_deprecated.py:5: skimage_deprecation: Function ``watershed`` is deprecated and will be removed in version 0.19. Use ``skimage.segmentation.watershed`` instead.\n",
      "  def watershed(image, markers=None, connectivity=1, offset=None, mask=None,\n",
      "C:\\Users\\whockei1\\AppData\\Roaming\\Python\\Python36\\site-packages\\skimage\\morphology\\_deprecated.py:5: skimage_deprecation: Function ``watershed`` is deprecated and will be removed in version 0.19. Use ``skimage.segmentation.watershed`` instead.\n",
      "  def watershed(image, markers=None, connectivity=1, offset=None, mask=None,\n",
      "C:\\Users\\whockei1\\AppData\\Roaming\\Python\\Python36\\site-packages\\skimage\\morphology\\_deprecated.py:5: skimage_deprecation: Function ``watershed`` is deprecated and will be removed in version 0.19. Use ``skimage.segmentation.watershed`` instead.\n",
      "  def watershed(image, markers=None, connectivity=1, offset=None, mask=None,\n",
      "C:\\Users\\whockei1\\AppData\\Roaming\\Python\\Python36\\site-packages\\skimage\\morphology\\_deprecated.py:5: skimage_deprecation: Function ``watershed`` is deprecated and will be removed in version 0.19. Use ``skimage.segmentation.watershed`` instead.\n",
      "  def watershed(image, markers=None, connectivity=1, offset=None, mask=None,\n",
      "C:\\Users\\whockei1\\AppData\\Roaming\\Python\\Python36\\site-packages\\skimage\\morphology\\_deprecated.py:5: skimage_deprecation: Function ``watershed`` is deprecated and will be removed in version 0.19. Use ``skimage.segmentation.watershed`` instead.\n",
      "  def watershed(image, markers=None, connectivity=1, offset=None, mask=None,\n",
      "C:\\Users\\whockei1\\AppData\\Roaming\\Python\\Python36\\site-packages\\skimage\\morphology\\_deprecated.py:5: skimage_deprecation: Function ``watershed`` is deprecated and will be removed in version 0.19. Use ``skimage.segmentation.watershed`` instead.\n",
      "  def watershed(image, markers=None, connectivity=1, offset=None, mask=None,\n",
      "C:\\Users\\whockei1\\AppData\\Roaming\\Python\\Python36\\site-packages\\skimage\\morphology\\_deprecated.py:5: skimage_deprecation: Function ``watershed`` is deprecated and will be removed in version 0.19. Use ``skimage.segmentation.watershed`` instead.\n",
      "  def watershed(image, markers=None, connectivity=1, offset=None, mask=None,\n",
      "C:\\Users\\whockei1\\AppData\\Roaming\\Python\\Python36\\site-packages\\skimage\\morphology\\_deprecated.py:5: skimage_deprecation: Function ``watershed`` is deprecated and will be removed in version 0.19. Use ``skimage.segmentation.watershed`` instead.\n",
      "  def watershed(image, markers=None, connectivity=1, offset=None, mask=None,\n",
      "C:\\Users\\whockei1\\AppData\\Roaming\\Python\\Python36\\site-packages\\skimage\\morphology\\_deprecated.py:5: skimage_deprecation: Function ``watershed`` is deprecated and will be removed in version 0.19. Use ``skimage.segmentation.watershed`` instead.\n",
      "  def watershed(image, markers=None, connectivity=1, offset=None, mask=None,\n",
      "C:\\Users\\whockei1\\AppData\\Roaming\\Python\\Python36\\site-packages\\skimage\\morphology\\_deprecated.py:5: skimage_deprecation: Function ``watershed`` is deprecated and will be removed in version 0.19. Use ``skimage.segmentation.watershed`` instead.\n",
      "  def watershed(image, markers=None, connectivity=1, offset=None, mask=None,\n",
      "C:\\Users\\whockei1\\AppData\\Roaming\\Python\\Python36\\site-packages\\skimage\\morphology\\_deprecated.py:5: skimage_deprecation: Function ``watershed`` is deprecated and will be removed in version 0.19. Use ``skimage.segmentation.watershed`` instead.\n",
      "  def watershed(image, markers=None, connectivity=1, offset=None, mask=None,\n",
      "E:\\UserData\\Documents\\GitHub\\ratterdam\\ratterdam_RepetitionCoreFx.py:132: RuntimeWarning: invalid value encountered in double_scalars\n",
      "  field_FR.append(spk.shape[0]/vdur)\n",
      "E:\\UserData\\Documents\\GitHub\\ratterdam\\utility_fx.py:502: RuntimeWarning: divide by zero encountered in reciprocal\n",
      "  n = (hs*np.reciprocal(ho))*30\n",
      "E:\\UserData\\Documents\\GitHub\\ratterdam\\utility_fx.py:502: RuntimeWarning: invalid value encountered in multiply\n",
      "  n = (hs*np.reciprocal(ho))*30\n",
      "E:\\UserData\\Documents\\GitHub\\ratterdam\\utility_fx.py:329: RuntimeWarning: invalid value encountered in true_divide\n",
      "  Z=VV/WW\n",
      "E:\\UserData\\Documents\\GitHub\\ratterdam\\ratterdam_DataFiltering.py:127: RuntimeWarning: invalid value encountered in less_equal\n",
      "  binsBelowThresh = np.where(rm.flatten()<=rateThresh)[0].shape[0]\n"
     ]
    }
   ],
   "source": [
    "# Setup parameters and setup data\n",
    "parmdict = {\n",
    "    'epochs':3, # number of temporal epochs to decode\n",
    "    'nshuffles':1000, # shuffles creating new data each time\n",
    "    'nreps':10, # repeated decoding given a set of data\n",
    "    'trainProp':0.4, # test is the complement\n",
    "    'nNeighbors':2,\n",
    "    'wnSize':1*1e6*60,\n",
    "    'wnStep':1*1e6*60,\n",
    "    'smoothing':1,\n",
    "    'stat':'median',\n",
    "    'fieldRateThresh':0.3,\n",
    "    'fieldpctThresh':20\n",
    "    \n",
    "}\n",
    "data = {}\n",
    "ts = util.genTimestamp()\n",
    "for clust in population.keys():\n",
    "    print(clust)\n",
    "    try:\n",
    "        unit = population[clust]\n",
    "        shuffunit = RepCore.loadRepeatingUnit(df, clust, smoothing=parmdict['smoothing'])\n",
    "\n",
    "\n",
    "        realperf = kNN_semaphore_decoding(unit.smoothedFields, reps=parmdict['nreps'], n=parmdict['nNeighbors'], epochs=parmdict['epochs'], stat=parmdict['stat'], \n",
    "                                          trainProp=parmdict['trainProp'], wnSize=parmdict['wnSize'], wnStep=parmdict['wnStep'])\n",
    "\n",
    "        rsperfs = [] # each data point is the median or mean (depending on user choice) of multiple decodings of a single shuffle\n",
    "        vsperfs = []\n",
    "        for n in range(parmdict['nshuffles']):\n",
    "            shuffunit.shuffleFieldsFx()\n",
    "            shuffunit.smoothFieldsFx()\n",
    "\n",
    "            #rgunit = rotateFields(unit.smoothedFields)\n",
    "            #sperf = kNN_semaphore_decoding(rgunit.fields, reps=parmdict['nreps'], n=parmdict['nNeighbors'], epochs=parmdict['epochs'], stat=parmdict['stat'], \n",
    "               #                           trainProp=parmdict['trainProp'], wnSize=parmdict['wnSize'], wnStep=parmdict['wnStep'])\n",
    "            #rsperfs.append(sperf)\n",
    "\n",
    "            sperf = kNN_semaphore_decoding(shuffunit.smoothedFields, reps=parmdict['nreps'], n=parmdict['nNeighbors'], epochs=parmdict['epochs'], stat=parmdict['stat'], \n",
    "                                          trainProp=parmdict['trainProp'], wnSize=parmdict['wnSize'], wnStep=parmdict['wnStep'])\n",
    "            vsperfs.append(sperf)\n",
    "        if realperf > np.percentile(vsperfs, 95):\n",
    "            data[unit.name] = {'real':realperf, 'null95':np.percentile(vsperfs, 95), 'pass':True}\n",
    "        else:\n",
    "            data[unit.name] = {'real':realperf, 'null95':np.percentile(vsperfs, 95), 'pass':False}\n",
    "    except:\n",
    "        print(f\"{clust} did not run successfully\")"
   ]
  },
  {
   "cell_type": "code",
   "execution_count": 23,
   "metadata": {},
   "outputs": [
    {
     "data": {
      "text/plain": [
       "Text(0,0.5,'Abundance of Decoding Runs')"
      ]
     },
     "execution_count": 23,
     "metadata": {},
     "output_type": "execute_result"
    }
   ],
   "source": [
    "plt.figure()\n",
    "plt.title(unit.name)\n",
    "#plt.hist(rsperfs,bins=10,color='r')\n",
    "plt.hist(vsperfs,bins=10,color='k')\n",
    "plt.vlines(realperf,0,(nshuffles/3)+10, color='red')\n",
    "plt.vlines(np.percentile(vsperfs, 95),0,nshuffles/3,color='black')\n",
    "plt.xlabel('Decoding Performance', fontsize=18)\n",
    "plt.ylabel('Abundance of Decoding Runs', fontsize=18)\n",
    "#plt.vlines(np.percentile(rsperfs, 95),0,nshuffles/3,color='red')"
   ]
  },
  {
   "cell_type": "markdown",
   "metadata": {},
   "source": [
    "### get rid of bad fields. Look for % area that has low rate pixels"
   ]
  },
  {
   "cell_type": "code",
   "execution_count": 59,
   "metadata": {},
   "outputs": [
    {
     "name": "stderr",
     "output_type": "stream",
     "text": [
      "E:\\UserData\\Documents\\GitHub\\ratterdam\\utility_fx.py:502: RuntimeWarning: divide by zero encountered in reciprocal\n",
      "  n = (hs*np.reciprocal(ho))*30\n",
      "E:\\UserData\\Documents\\GitHub\\ratterdam\\utility_fx.py:502: RuntimeWarning: invalid value encountered in multiply\n",
      "  n = (hs*np.reciprocal(ho))*30\n",
      "E:\\UserData\\Documents\\GitHub\\ratterdam\\utility_fx.py:329: RuntimeWarning: invalid value encountered in true_divide\n",
      "  Z=VV/WW\n",
      "C:\\Users\\whockei1\\AppData\\Local\\Continuum\\anaconda3\\lib\\site-packages\\ipykernel_launcher.py:11: RuntimeWarning: invalid value encountered in less\n",
      "  # This is added back by InteractiveShellApp.init_path()\n"
     ]
    }
   ],
   "source": [
    "thresh = 0.3\n",
    "\n",
    "plt.figure()\n",
    "\n",
    "for perim in unit.perimeters:\n",
    "    contour = path.Path(perim)\n",
    "    spkIn = unit.spikes[contour.contains_points(unit.spikes[:,1:])]\n",
    "    occIn = unit.position[contour.contains_points(unit.position[:,1:])]\n",
    "    rm=util.makeRM(spkIn,occIn)\n",
    "    area = np.sum(~np.isnan(rm.flatten()))\n",
    "    binsBelowThresh = np.where(rm.flatten()<thresh)[0].shape[0]\n",
    "    pct = (binsBelowThresh/area)*100\n",
    "    plt.imshow(rm,aspect='auto',interpolation='None',origin='lower',cmap=cmap,extent=[wmDef.xedges[0], wmDef.xedges[-1], wmDef.yedges[0], wmDef.yedges[-1]])\n",
    "    plt.plot(perim[:,0], perim[:,1],'.')\n",
    "    plt.text(perim[0,0],perim[0,1],f\"{round(pct,3)}\", fontsize=16,color='black', weight='bold')"
   ]
  },
  {
   "cell_type": "code",
   "execution_count": 9,
   "metadata": {
    "collapsed": true
   },
   "outputs": [],
   "source": [
    "def filterField(unit, index, rateThresh=0.2, pctThresh=10):\n",
    "    \"\"\"\n",
    "    Inputs: unit - Unit class object\n",
    "            index - index of field to filter\n",
    "            rateThresh - pixel rate that will be used to see % pixels below it\n",
    "            pctThresh -  % of pixels (0-100) with rate below rateThresh above which field should be discarded\n",
    "    Returns: True/False, as to whether field passes. True = pass\n",
    "    Function to filter detected place fields by what percent of the field is 'too quiet'. Count pct \n",
    "    of pixels with rate below rateThresh. if this pct exceeds pctThresh, return False.\n",
    "    \"\"\"\n",
    "    perim = unit.perimeters[index]\n",
    "    contour = path.Path(perim)\n",
    "    spkIn = unit.spikes[contour.contains_points(unit.spikes[:,1:])]\n",
    "    occIn = unit.position[contour.contains_points(unit.position[:,1:])]\n",
    "    rm=util.makeRM(spkIn,occIn)\n",
    "    area = np.sum(~np.isnan(rm.flatten()))\n",
    "    binsBelowThresh = np.where(rm.flatten()<=rateThresh)[0].shape[0]\n",
    "    pct = (binsBelowThresh/area)*100\n",
    "    print(pct)\n",
    "    if pct > pctThresh:\n",
    "        return False\n",
    "    else:\n",
    "        return True"
   ]
  },
  {
   "cell_type": "code",
   "execution_count": 10,
   "metadata": {},
   "outputs": [
    {
     "name": "stderr",
     "output_type": "stream",
     "text": [
      "E:\\UserData\\Documents\\GitHub\\ratterdam\\utility_fx.py:502: RuntimeWarning: divide by zero encountered in reciprocal\n",
      "  n = (hs*np.reciprocal(ho))*30\n",
      "E:\\UserData\\Documents\\GitHub\\ratterdam\\utility_fx.py:502: RuntimeWarning: invalid value encountered in multiply\n",
      "  n = (hs*np.reciprocal(ho))*30\n",
      "E:\\UserData\\Documents\\GitHub\\ratterdam\\utility_fx.py:329: RuntimeWarning: invalid value encountered in true_divide\n",
      "  Z=VV/WW\n",
      "C:\\Users\\whockei1\\AppData\\Local\\Continuum\\anaconda3\\lib\\site-packages\\ipykernel_launcher.py:17: RuntimeWarning: invalid value encountered in less_equal\n"
     ]
    },
    {
     "name": "stdout",
     "output_type": "stream",
     "text": [
      "0.0\n",
      "82.69662921348313\n",
      "80.38793103448276\n",
      "0.0\n",
      "0.0\n",
      "1.7543859649122806\n",
      "12.302839116719243\n",
      "17.424242424242426\n",
      "66.11570247933885\n",
      "80.0\n",
      "0.0\n",
      "0.0\n",
      "12.698412698412698\n",
      "75.38304392236977\n",
      "49.597855227882036\n",
      "0.0\n",
      "0.0\n",
      "0.0\n",
      "41.57706093189964\n",
      "0.0\n",
      "0.0\n",
      "0.0\n",
      "0.0\n",
      "0.7211538461538461\n",
      "9.090909090909092\n",
      "2.964959568733154\n",
      "6.528189910979229\n",
      "6.333333333333334\n",
      "0.0\n",
      "0.0\n",
      "0.0\n",
      "0.0\n",
      "0.0\n",
      "0.0\n",
      "4.15335463258786\n",
      "100.0\n",
      "1.1111111111111112\n",
      "48.40764331210191\n",
      "84.63611859838275\n",
      "100.0\n",
      "0.0\n",
      "0.0\n",
      "0.0\n",
      "76.39484978540773\n",
      "44.76923076923077\n",
      "0.0\n",
      "1.1086474501108647\n",
      "15.503875968992247\n",
      "27.77777777777778\n",
      "24.20212765957447\n",
      "49.09090909090909\n",
      "62.054794520547944\n",
      "90.7871198568873\n",
      "0.0\n",
      "57.11060948081265\n",
      "76.19047619047619\n",
      "2.147239263803681\n",
      "1.4354066985645932\n",
      "3.1578947368421053\n",
      "0.0\n",
      "0.0\n",
      "0.0\n",
      "0.0\n",
      "0.0\n",
      "0.0\n",
      "0.0\n",
      "0.0\n",
      "0.0\n",
      "0.0\n",
      "0.0\n",
      "0.0\n",
      "0.0\n",
      "0.0\n",
      "0.0\n",
      "0.0\n",
      "0.0\n",
      "0.0\n",
      "2.8901734104046244\n",
      "17.959183673469386\n",
      "13.389121338912133\n",
      "0.0\n",
      "84.25925925925925\n",
      "63.46153846153846\n",
      "52.94117647058824\n",
      "83.28424153166422\n",
      "4.417670682730924\n",
      "0.5154639175257731\n",
      "8.81542699724518\n",
      "81.77641653905053\n",
      "8.743169398907105\n",
      "11.275964391691394\n",
      "15.447154471544716\n",
      "36.93181818181818\n",
      "18.81533101045296\n",
      "11.678115799803729\n",
      "16.580310880829018\n",
      "21.052631578947366\n",
      "80.31383737517832\n",
      "0.0\n",
      "0.38095238095238093\n",
      "63.258232235701904\n",
      "75.54347826086956\n",
      "73.41772151898735\n",
      "0.0\n",
      "12.396694214876034\n",
      "86.85344827586206\n",
      "0.91324200913242\n",
      "0.0\n",
      "0.0\n",
      "1.8927444794952681\n",
      "5.194805194805195\n",
      "8.605851979345955\n",
      "37.34939759036144\n",
      "52.123552123552116\n",
      "0.0\n",
      "0.1941747572815534\n",
      "0.0\n",
      "0.0\n",
      "5.448717948717949\n",
      "7.443820224719102\n",
      "4.205607476635514\n",
      "72.02072538860104\n",
      "71.875\n",
      "1.3636363636363635\n",
      "0.0\n",
      "17.699115044247787\n",
      "26.10294117647059\n",
      "19.26605504587156\n",
      "16.448326055312958\n",
      "54.794520547945204\n",
      "60.3896103896104\n",
      "0.40816326530612246\n",
      "0.0\n",
      "1.5151515151515151\n",
      "3.414634146341464\n",
      "91.86046511627907\n",
      "76.05839416058394\n",
      "0.0\n",
      "0.0\n",
      "18.029739776951672\n",
      "17.346938775510203\n",
      "12.121212121212121\n",
      "0.0\n",
      "6.306306306306306\n",
      "0.0\n",
      "38.666666666666664\n",
      "78.2258064516129\n",
      "53.18181818181819\n",
      "25.94142259414226\n",
      "38.607594936708864\n",
      "0.0\n",
      "0.0\n",
      "63.50974930362116\n",
      "65.90106007067138\n",
      "50.85910652920962\n",
      "92.17134416543574\n",
      "6.25\n",
      "24.46043165467626\n",
      "9.30232558139535\n",
      "18.037974683544302\n",
      "0.0\n",
      "2.638522427440633\n",
      "7.076923076923077\n",
      "2.507836990595611\n",
      "35.56581986143187\n",
      "33.33333333333333\n",
      "74.91749174917491\n",
      "0.0\n",
      "0.0\n",
      "0.0\n",
      "0.0\n",
      "0.0\n",
      "0.0\n",
      "0.0\n",
      "0.0\n",
      "1.8018018018018018\n",
      "10.852713178294573\n",
      "0.6779661016949152\n",
      "0.0\n",
      "3.040540540540541\n",
      "2.2556390977443606\n",
      "0.0\n",
      "4.375\n",
      "15.0\n",
      "15.261044176706829\n",
      "17.647058823529413\n",
      "29.38775510204082\n",
      "57.82208588957055\n",
      "0.6688963210702341\n",
      "0.40816326530612246\n",
      "0.33670033670033667\n",
      "10.377358490566039\n",
      "73.0379746835443\n",
      "41.44486692015209\n",
      "52.488687782805435\n",
      "80.94027954256671\n",
      "67.31634182908546\n",
      "0.0\n",
      "2.346041055718475\n",
      "9.75609756097561\n",
      "13.978494623655912\n",
      "64.16464891041163\n",
      "48.41269841269841\n",
      "71.34670487106017\n",
      "49.008498583569406\n",
      "0.0\n",
      "0.0\n",
      "80.95238095238095\n",
      "84.81481481481481\n",
      "0.0\n",
      "53.551912568306015\n",
      "96.3302752293578\n",
      "0.0\n",
      "0.0\n",
      "7.29483282674772\n",
      "5.0\n",
      "4.682274247491638\n",
      "7.142857142857142\n",
      "15.0997150997151\n",
      "74.66577540106952\n",
      "0.0\n",
      "85.08158508158508\n",
      "4.516129032258064\n",
      "0.0\n",
      "0.0\n",
      "68.27956989247312\n",
      "64.93506493506493\n",
      "68.39378238341969\n",
      "52.81837160751566\n",
      "0.0\n",
      "0.0\n",
      "22.40663900414938\n",
      "32.53012048192771\n",
      "4.597701149425287\n",
      "7.391304347826087\n",
      "65.69536423841059\n",
      "63.64779874213836\n",
      "0.0\n",
      "0.0\n",
      "1.6064257028112447\n",
      "7.650273224043716\n",
      "31.297709923664126\n",
      "38.25136612021858\n",
      "77.84946236559139\n",
      "70.83333333333334\n",
      "13.043478260869565\n",
      "63.2183908045977\n",
      "12.107178299702284\n",
      "7.736389684813753\n",
      "0.0\n",
      "0.0\n",
      "0.0\n",
      "0.0\n",
      "0.0\n",
      "0.0\n",
      "0.0\n",
      "0.819672131147541\n",
      "0.0\n",
      "0.0\n",
      "0.0\n",
      "8.896797153024911\n",
      "64.1025641025641\n",
      "85.92592592592592\n",
      "0.0\n",
      "4.424778761061947\n",
      "53.06122448979592\n",
      "0.29411764705882354\n",
      "0.0\n",
      "75.95078299776287\n",
      "87.55186721991701\n",
      "0.3225806451612903\n",
      "11.797752808988763\n",
      "34.3313373253493\n",
      "1.0676156583629894\n",
      "3.816793893129771\n",
      "2.564102564102564\n",
      "5.063291139240507\n",
      "15.656565656565657\n",
      "26.881720430107524\n",
      "0.30864197530864196\n",
      "0.0\n",
      "14.836795252225517\n",
      "20.88607594936709\n",
      "55.35714285714286\n",
      "38.86861313868613\n",
      "34.31372549019608\n",
      "0.0\n",
      "0.0\n",
      "91.84027777777779\n",
      "71.15384615384616\n",
      "0.5263157894736842\n",
      "22.099447513812155\n",
      "13.23529411764706\n",
      "81.5068493150685\n",
      "84.21900161030595\n",
      "0.0\n",
      "0.0\n",
      "0.0\n",
      "0.0\n",
      "0.0\n",
      "67.13615023474179\n",
      "54.93827160493827\n",
      "67.28971962616822\n",
      "48.33948339483395\n",
      "23.83177570093458\n",
      "70.36199095022624\n",
      "75.32467532467533\n"
     ]
    }
   ],
   "source": [
    "# filter bad fields from population\n",
    "for clust in population.keys():\n",
    "    unit = population[clust]\n",
    "    filts = [filterField(unit,i,rateThresh=0.3,pctThresh=20) for i in range(len(unit.perimeters))]\n",
    "    ffields = [unit.fields[i] for i in range(len(unit.fields)) if filts[i] == True]\n",
    "    fperims = [unit.perimeters[i] for i in range(len(unit.perimeters)) if filts[i] == True]\n",
    "    unit.fields = ffields\n",
    "    unit.perimeters = fperims\n",
    "    unit.smoothFieldsFx()"
   ]
  },
  {
   "cell_type": "code",
   "execution_count": 212,
   "metadata": {
    "collapsed": true
   },
   "outputs": [],
   "source": [
    "def nlsts_to_mins(wins):\n",
    "    return [(((a[0]-wins[0][0])/1e6)/60,((a[1]-wins[0][0])/1e6)/60) for a in wins]"
   ]
  },
  {
   "cell_type": "markdown",
   "metadata": {
    "collapsed": true
   },
   "source": [
    "### Fist look at competitive interactions between fields"
   ]
  },
  {
   "cell_type": "code",
   "execution_count": 64,
   "metadata": {
    "collapsed": true
   },
   "outputs": [],
   "source": [
    "# assemble all fields into array (field id, visit time, rate) where array is sorted by visit time\n",
    "fields = []\n",
    "for i,f in enumerate(unit.fields):\n",
    "    fields.append(np.column_stack((np.asarray([i]*f.shape[0]), f)))\n",
    "fields = np.vstack([i for i in fields])\n",
    "fields = fields[np.argsort(fields[:,1])]"
   ]
  },
  {
   "cell_type": "code",
   "execution_count": 83,
   "metadata": {},
   "outputs": [
    {
     "name": "stderr",
     "output_type": "stream",
     "text": [
      "E:\\UserData\\Documents\\GitHub\\ratterdam\\utility_fx.py:502: RuntimeWarning: divide by zero encountered in reciprocal\n",
      "  n = (hs*np.reciprocal(ho))*30\n",
      "E:\\UserData\\Documents\\GitHub\\ratterdam\\utility_fx.py:502: RuntimeWarning: invalid value encountered in multiply\n",
      "  n = (hs*np.reciprocal(ho))*30\n",
      "E:\\UserData\\Documents\\GitHub\\ratterdam\\utility_fx.py:329: RuntimeWarning: invalid value encountered in true_divide\n",
      "  Z=VV/WW\n"
     ]
    }
   ],
   "source": [
    "with open(df+\"sessionEpochInfo.txt\",\"r\") as f:\n",
    "        lines = f.readlines()\n",
    "startSession_us, endSession_us = int(lines[0].split(',')[0]), int(lines[0].split(',')[1])\n",
    "\n",
    "cmap = util.makeCustomColormap()\n",
    "\n",
    "startSession = 0 # because were dealing with relative mins in session, its by def 0\n",
    "endSession = ((endSession_us-startSession_us)/1e6)/60\n",
    "\n",
    "wnSize=60*1e6*5\n",
    "wnStep = 10*1e6\n",
    "\n",
    "ims = []\n",
    "start = startSession_us\n",
    "finished = False\n",
    "\n",
    "while finished is False:\n",
    "    end = start + wnSize\n",
    "    spikes = unit.spikes[np.logical_and(unit.spikes[:,0]>start, unit.spikes[:,0]<=end)]\n",
    "    pos = unit.position[np.logical_and(unit.position[:,0]>start, unit.position[:,0]<=end)]\n",
    "    rm = util.makeRM(spikes, pos)\n",
    "    rm = util.weird_smooth(rm,0.25)\n",
    "    plt.imshow(rm, aspect='auto', interpolation='None',origin='lower',cmap=cmap,vmin=0,vmax=20)\n",
    "    plt.pause(0.005)\n",
    "    plt.clf()\n",
    "    start = start + wnStep\n",
    "    if end > endSession_us:\n",
    "        finished = True "
   ]
  },
  {
   "cell_type": "code",
   "execution_count": 10,
   "metadata": {
    "collapsed": true
   },
   "outputs": [],
   "source": [
    "%qtconsole"
   ]
  },
  {
   "cell_type": "code",
   "execution_count": null,
   "metadata": {
    "collapsed": true
   },
   "outputs": [],
   "source": []
  }
 ],
 "metadata": {
  "kernelspec": {
   "display_name": "Python 3",
   "language": "python",
   "name": "python3"
  },
  "language_info": {
   "codemirror_mode": {
    "name": "ipython",
    "version": 3
   },
   "file_extension": ".py",
   "mimetype": "text/x-python",
   "name": "python",
   "nbconvert_exporter": "python",
   "pygments_lexer": "ipython3",
   "version": "3.6.3"
  }
 },
 "nbformat": 4,
 "nbformat_minor": 2
}
