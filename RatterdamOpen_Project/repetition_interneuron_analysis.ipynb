{
 "cells": [
  {
   "cell_type": "markdown",
   "metadata": {},
   "source": [
    "### Notebook to Analyze Interneurons and whether they repeat"
   ]
  },
  {
   "cell_type": "code",
   "execution_count": 4,
   "metadata": {},
   "outputs": [],
   "source": [
    "%qtconsole"
   ]
  },
  {
   "cell_type": "code",
   "execution_count": 7,
   "metadata": {},
   "outputs": [],
   "source": [
    "import pickle, numpy as np, os, sys, pandas as pd, json, pickle\n",
    "from matplotlib import pyplot as plt\n",
    "from matplotlib.ticker import MaxNLocator\n",
    "from scipy.stats import binom_test\n",
    "from scipy.stats import mannwhitneyu\n",
    "from scipy.stats import sem \n",
    "import repetition_manuscript_defaults as MDef\n",
    "import ratterdam_Defaults as Def\n",
    "import utility_fx as util"
   ]
  },
  {
   "cell_type": "code",
   "execution_count": 8,
   "metadata": {},
   "outputs": [],
   "source": [
    "def read_clust2(clustfile):\n",
    "    '''open a cl-mazeX.X file and read spike times and max widths into 2 lists'''\n",
    "    with open(clustfile) as clust:\n",
    "        raw_clust_data = clust.read().splitlines()\n",
    "    spikes = []\n",
    "    widths = []\n",
    "    for line in raw_clust_data[13:]:\n",
    "        spikes.append(float(line.split(',')[-1]))\n",
    "        widths.append(float(line.split(',')[-4]))\n",
    "    return spikes, widths"
   ]
  },
  {
   "cell_type": "code",
   "execution_count": 14,
   "metadata": {},
   "outputs": [],
   "source": [
    "rat = \"R808\"\n",
    "day = \"D6\"\n",
    "clust = \"TT15\\\\cl-maze1.2\"\n",
    "df = f'E:\\Ratterdam\\\\{rat}\\\\{rat}_RatterdamOpen_{day}\\\\'"
   ]
  },
  {
   "cell_type": "code",
   "execution_count": 33,
   "metadata": {},
   "outputs": [],
   "source": [
    "rat_list = ['R765','R765','R781','R781','R808','R808','R859','R859','R886','R886']\n",
    "day_list = ['RFD5','DFD4','D3','D4','D6','D7','D1','D2','D1','D2']\n"
   ]
  },
  {
   "cell_type": "code",
   "execution_count": 61,
   "metadata": {},
   "outputs": [
    {
     "ename": "KeyError",
     "evalue": "'4'",
     "output_type": "error",
     "traceback": [
      "\u001b[1;31m---------------------------------------------------------------------------\u001b[0m",
      "\u001b[1;31mKeyError\u001b[0m                                  Traceback (most recent call last)",
      "\u001b[1;32m<ipython-input-61-9d4c3642023e>\u001b[0m in \u001b[0;36m<module>\u001b[1;34m\u001b[0m\n\u001b[0;32m      3\u001b[0m \u001b[1;32mfor\u001b[0m \u001b[0mrat\u001b[0m\u001b[1;33m,\u001b[0m \u001b[0mday\u001b[0m \u001b[1;32min\u001b[0m \u001b[0mzip\u001b[0m\u001b[1;33m(\u001b[0m\u001b[0mrat_list\u001b[0m\u001b[1;33m,\u001b[0m \u001b[0mday_list\u001b[0m\u001b[1;33m)\u001b[0m\u001b[1;33m:\u001b[0m\u001b[1;33m\u001b[0m\u001b[1;33m\u001b[0m\u001b[0m\n\u001b[0;32m      4\u001b[0m     \u001b[0mdf\u001b[0m \u001b[1;33m=\u001b[0m \u001b[1;34mf'E:\\\\Ratterdam\\\\{rat}\\\\{rat}_RatterdamOpen_{day}\\\\'\u001b[0m\u001b[1;33m\u001b[0m\u001b[1;33m\u001b[0m\u001b[0m\n\u001b[1;32m----> 5\u001b[1;33m     \u001b[0mclustList\u001b[0m\u001b[1;33m,\u001b[0m \u001b[0mquals\u001b[0m \u001b[1;33m=\u001b[0m \u001b[0mutil\u001b[0m\u001b[1;33m.\u001b[0m\u001b[0mgetClustList\u001b[0m\u001b[1;33m(\u001b[0m\u001b[0mdf\u001b[0m\u001b[1;33m,\u001b[0m\u001b[1;32mTrue\u001b[0m\u001b[1;33m)\u001b[0m\u001b[1;33m\u001b[0m\u001b[1;33m\u001b[0m\u001b[0m\n\u001b[0m\u001b[0;32m      6\u001b[0m     \u001b[1;32mfor\u001b[0m \u001b[0mclust\u001b[0m\u001b[1;33m,\u001b[0m \u001b[0mqual\u001b[0m \u001b[1;32min\u001b[0m \u001b[0mzip\u001b[0m\u001b[1;33m(\u001b[0m\u001b[0mclustList\u001b[0m\u001b[1;33m,\u001b[0m \u001b[0mquals\u001b[0m\u001b[1;33m)\u001b[0m\u001b[1;33m:\u001b[0m\u001b[1;33m\u001b[0m\u001b[1;33m\u001b[0m\u001b[0m\n\u001b[0;32m      7\u001b[0m         \u001b[1;32mif\u001b[0m \u001b[0mtype\u001b[0m\u001b[1;33m(\u001b[0m\u001b[0mqual\u001b[0m\u001b[1;33m)\u001b[0m \u001b[1;33m==\u001b[0m \u001b[0mint\u001b[0m \u001b[1;32mand\u001b[0m \u001b[0mqual\u001b[0m \u001b[1;33m>=\u001b[0m \u001b[1;36m3\u001b[0m\u001b[1;33m:\u001b[0m\u001b[1;33m\u001b[0m\u001b[1;33m\u001b[0m\u001b[0m\n",
      "\u001b[1;32mE:\\UserData\\Documents\\GitHub\\ratterdam\\utility_fx.py\u001b[0m in \u001b[0;36mgetClustList\u001b[1;34m(datafile, quals)\u001b[0m\n\u001b[0;32m    362\u001b[0m                 \u001b[1;32mif\u001b[0m \u001b[0mquals\u001b[0m\u001b[1;33m:\u001b[0m\u001b[1;33m\u001b[0m\u001b[1;33m\u001b[0m\u001b[0m\n\u001b[0;32m    363\u001b[0m                 \u001b[1;31m# get quality 1-5(best) and add to list\u001b[0m\u001b[1;33m\u001b[0m\u001b[1;33m\u001b[0m\u001b[1;33m\u001b[0m\u001b[0m\n\u001b[1;32m--> 364\u001b[1;33m                     \u001b[0mqual\u001b[0m \u001b[1;33m=\u001b[0m \u001b[0mcellQuality\u001b[0m\u001b[1;33m(\u001b[0m\u001b[0msubdir\u001b[0m\u001b[1;33m+\u001b[0m\u001b[1;34m\"\\\\\"\u001b[0m\u001b[1;33m)\u001b[0m\u001b[1;33m[\u001b[0m\u001b[0mclustname\u001b[0m\u001b[1;33m.\u001b[0m\u001b[0msplit\u001b[0m\u001b[1;33m(\u001b[0m\u001b[1;34m'.'\u001b[0m\u001b[1;33m)\u001b[0m\u001b[1;33m[\u001b[0m\u001b[1;36m1\u001b[0m\u001b[1;33m]\u001b[0m\u001b[1;33m]\u001b[0m\u001b[1;33m\u001b[0m\u001b[1;33m\u001b[0m\u001b[0m\n\u001b[0m\u001b[0;32m    365\u001b[0m                     \u001b[0mclustQuals\u001b[0m\u001b[1;33m.\u001b[0m\u001b[0mappend\u001b[0m\u001b[1;33m(\u001b[0m\u001b[0mqual\u001b[0m\u001b[1;33m)\u001b[0m\u001b[1;33m\u001b[0m\u001b[1;33m\u001b[0m\u001b[0m\n\u001b[0;32m    366\u001b[0m \u001b[1;33m\u001b[0m\u001b[0m\n",
      "\u001b[1;31mKeyError\u001b[0m: '4'"
     ]
    }
   ],
   "source": [
    "all_rates = []\n",
    "all_widths = []\n",
    "for rat, day in zip(rat_list, day_list):\n",
    "    df = f'E:\\\\Ratterdam\\\\{rat}\\\\{rat}_RatterdamOpen_{day}\\\\'\n",
    "    clustList, quals = util.getClustList(df,True)\n",
    "    for clust, qual in zip(clustList, quals):\n",
    "        if type(qual) == int and qual >= 3:\n",
    "            spikes, widths = read_clust2(df+clust)\n",
    "            # corr = np.correlate(np.diff(spikes)/1e6,np.diff(spikes)/1e6,'full') IDK what to do here\n",
    "            rate = len(spikes) / ((spikes[-1]-spikes[0])/1e6)\n",
    "            w = np.mean(widths)\n",
    "            all_rates.append(rate)\n",
    "            all_widths.append(w)"
   ]
  },
  {
   "cell_type": "code",
   "execution_count": null,
   "metadata": {},
   "outputs": [],
   "source": []
  }
 ],
 "metadata": {
  "kernelspec": {
   "display_name": "Python 3.8.8 ('base')",
   "language": "python",
   "name": "python3"
  },
  "language_info": {
   "codemirror_mode": {
    "name": "ipython",
    "version": 3
   },
   "file_extension": ".py",
   "mimetype": "text/x-python",
   "name": "python",
   "nbconvert_exporter": "python",
   "pygments_lexer": "ipython3",
   "version": "3.8.8"
  },
  "vscode": {
   "interpreter": {
    "hash": "810497aa9f218318f89d4d2cff33f7d283ecef935a2d4dd2910844a97859f315"
   }
  }
 },
 "nbformat": 4,
 "nbformat_minor": 2
}
