{
 "cells": [
  {
   "cell_type": "markdown",
   "metadata": {},
   "source": [
    "# Ratterdam Stimulus Signal Extraction Given Non-Stationarity of Data"
   ]
  },
  {
   "cell_type": "markdown",
   "metadata": {},
   "source": [
    "Purpose of this notebook is to develop and test approaches to pull out a texture encoding signal (e.g via decoding) in a way that explicitly  \n",
    "accounts for and minimizes theproblem of the temporal non-stationarity we see in the Ratterdam data.\n",
    "\n",
    "WH 20200611\n",
    "\n",
    "Table of Contents:\n",
    "1. Windowed Bayesian Classifier"
   ]
  },
  {
   "cell_type": "markdown",
   "metadata": {},
   "source": [
    "## Windowed Bayesian CLassifier"
   ]
  },
  {
   "cell_type": "code",
   "execution_count": 1,
   "metadata": {
    "collapsed": true
   },
   "outputs": [],
   "source": [
    "# Imports \n",
    "import numpy as np, itertools, scipy, sys, os, matplotlib.pyplot as plt\n",
    "sys.path.insert(0, 'E:\\\\UserData\\\\Documents\\\\GitHub\\\\ratterdam\\\\')\n",
    "\n",
    "import ratterdam_CoreDataStructures as Core\n",
    "import ratterdam_ParseBehavior as Parse\n",
    "import ratterdam_Defaults as Def\n",
    "import ratterdam_DataFiltering as Filt\n",
    "import utility_fx as util"
   ]
  },
  {
   "cell_type": "code",
   "execution_count": 2,
   "metadata": {
    "collapsed": true
   },
   "outputs": [],
   "source": [
    "%qtconsole --style native\n",
    "%matplotlib qt5"
   ]
  },
  {
   "cell_type": "code",
   "execution_count": 3,
   "metadata": {},
   "outputs": [
    {
     "name": "stderr",
     "output_type": "stream",
     "text": [
      "E:\\UserData\\Documents\\GitHub\\ratterdam\\ratterdam_CoreDataStructures.py:171: RuntimeWarning: divide by zero encountered in reciprocal\n",
      "  n = (hs*np.reciprocal(ho))*30\n",
      "E:\\UserData\\Documents\\GitHub\\ratterdam\\ratterdam_CoreDataStructures.py:171: RuntimeWarning: invalid value encountered in multiply\n",
      "  n = (hs*np.reciprocal(ho))*30\n",
      "E:\\UserData\\Documents\\GitHub\\ratterdam\\ratterdam_CoreDataStructures.py:177: RuntimeWarning: divide by zero encountered in reciprocal\n",
      "  n = (ls* np.reciprocal(lo)) * 30\n",
      "E:\\UserData\\Documents\\GitHub\\ratterdam\\ratterdam_CoreDataStructures.py:177: RuntimeWarning: invalid value encountered in multiply\n",
      "  n = (ls* np.reciprocal(lo)) * 30\n",
      "E:\\UserData\\Documents\\GitHub\\ratterdam\\utility_fx.py:326: RuntimeWarning: invalid value encountered in true_divide\n",
      "  Z=VV/WW\n"
     ]
    }
   ],
   "source": [
    "rat = \"R808\"\n",
    "expCode = \"BRD6\"\n",
    "dayPath = f\"E:\\\\Ratterdam\\\\{rat}\\\\{rat}{expCode}\\\\\"\n",
    "clustName = \"TT15\\\\cl-maze1.2\"\n",
    "unit = util.loadUnit(dayPath, expCode, clustName)"
   ]
  },
  {
   "cell_type": "code",
   "execution_count": 27,
   "metadata": {
    "collapsed": true
   },
   "outputs": [],
   "source": [
    "# Single unit data collection and MLE calculation for each feature, specified in a list below\n",
    "features = ['com', 'comVal', 'AUC', 'max']\n",
    "# For a single alley, collect all trials regardless of texture. \n",
    "alley = Def.beltwayAlleys[0]\n",
    "rms = np.empty((0, Def.singleAlleyBins[0]-1))\n",
    "realIdx = np.empty((0)) # trial number overall i.e. if rewards were included (which they should not be)\n",
    "for visit in unit.alleys[alley]:\n",
    "    rms = np.vstack((rms, visit['ratemap1d']))\n",
    "    realIdx = np.hstack((realIdx, visit['metadata']['nrtrialnum']))\n",
    "    \n",
    "# Define a window size, a step size, and a function which takes a set of trials and computes the MLE of a set of features\n",
    "# Each feature has its own function to calc its respective MLE and this function will be based to the function which takes the set of trials\n",
    "windowSize = 10 # 10 or so should be minimum so there are at least a couple of samples of each stim on average\n",
    "stepSize = 2 # shift amount in number of trials of the sliding window. Optimal value unclear 20200611\n",
    "\n",
    "def computeMLE_FeatureVector(data, features):\n",
    "    \"\"\"\n",
    "    Data is an (n,b) array of n ratemaps each\n",
    "    consisting of firing rate in b spatial bins\n",
    "    Features is a list of features, each of which\n",
    "    will have its MLE computed over the sample\n",
    "    \"\"\"\n",
    "    "
   ]
  },
  {
   "cell_type": "code",
   "execution_count": null,
   "metadata": {
    "collapsed": true
   },
   "outputs": [],
   "source": []
  }
 ],
 "metadata": {
  "kernelspec": {
   "display_name": "Python 3",
   "language": "python",
   "name": "python3"
  },
  "language_info": {
   "codemirror_mode": {
    "name": "ipython",
    "version": 3
   },
   "file_extension": ".py",
   "mimetype": "text/x-python",
   "name": "python",
   "nbconvert_exporter": "python",
   "pygments_lexer": "ipython3",
   "version": "3.6.3"
  }
 },
 "nbformat": 4,
 "nbformat_minor": 2
}
