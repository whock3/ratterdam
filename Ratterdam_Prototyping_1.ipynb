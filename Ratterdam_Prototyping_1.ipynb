{
 "cells": [
  {
   "cell_type": "code",
   "execution_count": 1,
   "metadata": {
    "autoscroll": false,
    "collapsed": true,
    "ein.tags": "worksheet-0",
    "slideshow": {
     "slide_type": "-"
    }
   },
   "outputs": [],
   "source": [
    "import numpy as np, matplotlib.pyplot as plt, random, json, pickle, datetime, copy \n",
    "from scipy.stats import sem\n",
    "import matplotlib.colors as colors\n",
    "from scipy.ndimage import gaussian_filter as gauss # for smoothing ratemaps\n",
    "import sys\n",
    "sys.path.insert(0, 'C:\\\\Users\\\\whock\\\\Google Drive\\\\KnierimLab\\\\Ratterdam\\\\Code')\n",
    "sys.path.insert(0, 'C:\\\\Users\\\\whock\\\\Google Drive\\\\Python_Code\\\\KLab\\\\mts_analysis')\n",
    "import utility_fx as util"
   ]
  },
  {
   "cell_type": "code",
   "execution_count": 2,
   "metadata": {
    "collapsed": true
   },
   "outputs": [],
   "source": [
    "%qtconsole --style native"
   ]
  },
  {
   "cell_type": "code",
   "execution_count": 3,
   "metadata": {
    "autoscroll": false,
    "collapsed": true,
    "ein.tags": "worksheet-0",
    "slideshow": {
     "slide_type": "-"
    }
   },
   "outputs": [],
   "source": [
    "alleyBounds = {0:[[150, 250],[350, 400]],\n",
    "               1:[[150, 250],[215, 250]],\n",
    "               2:[[115, 150],[250, 350]],\n",
    "               3:[[250, 285],[250, 350]],\n",
    "               4:[[285, 385],[350, 400]],\n",
    "               5:[[385, 415],[250, 350]],\n",
    "               6:[[415, 515],[350, 400]],\n",
    "               7:[[515, 560],[250, 350]],\n",
    "               8:[[415, 515],[215, 250]],\n",
    "               9:[[515, 560],[115, 215]],\n",
    "               10:[[415, 515],[75, 115]],\n",
    "               11:[[385, 415],[115, 215]],\n",
    "               12:[[285, 385],[215, 250]],\n",
    "               13:[[285, 385],[75, 115]],\n",
    "               14:[[250, 285],[115, 215]],\n",
    "               15:[[150, 250],[75, 115]],\n",
    "               16:[[115, 150],[115, 215]]}"
   ]
  },
  {
   "cell_type": "code",
   "execution_count": 9,
   "metadata": {
    "collapsed": true
   },
   "outputs": [],
   "source": [
    "dayname = \"R765DFD4\"\n",
    "datafile= f\"D:\\\\Ratterdam\\\\R765\\\\{dayname}\\\\\"\n",
    "stimData = pickle.load(open(datafile+\"R765_180629_18-48_Stimuli.p\",\"rb\"))\n",
    "savepath = f\"C:\\\\Users\\\\whock\\\\Google Drive\\\\KnierimLab\\\\Ratterdam\\\\Figures\\\\{dayname}\\\\\"\n",
    "\n",
    "pos = util.read_pos(datafile)\n",
    "hdr, rec = util.readNEV(datafile)\n",
    "swapTimes = getNLSwapTimes(rec)\n",
    "alleySwapTS = convertPytoNLts(rec, swapTimes, stimData)\n",
    "clust = util.read_clust(datafile+\"TT4\\\\cl-maze1.7\")\n",
    "clust = np.asarray(clust)\n",
    "ts = np.asarray(sorted(list(pos.keys())))\n",
    "\n",
    "\n",
    "\n",
    "posx = [640 - pos[i][0] for i in ts]\n",
    "posy = [pos[i][1] for i in ts]\n",
    "for t in ts:\n",
    "    pos[t][0] = 640 - pos[t][0]\n",
    "position = np.column_stack((ts,posx,posy))\n",
    "spikexy = getPosFromTs(clust)\n",
    "spikes = np.column_stack((clust,spikexy))\n",
    "spikes = spikes[np.where(spikes[:,2] > 50)]\n",
    "position = position[np.where(position[:,2] > 50)]\n",
    "alleyTracking, alleyVisits,  txtVisits = parseEvents()\n",
    "\n"
   ]
  },
  {
   "cell_type": "code",
   "execution_count": 451,
   "metadata": {
    "autoscroll": false,
    "ein.tags": "worksheet-0",
    "slideshow": {
     "slide_type": "-"
    }
   },
   "outputs": [
    {
     "data": {
      "image/png": "[encoded data removed]",
      "text/plain": [
       "<matplotlib.figure.Figure at 0x16d16e4c390>"
      ]
     },
     "metadata": {},
     "output_type": "display_data"
    }
   ],
   "source": [
    "%matplotlib inline\n",
    "for i in alleyTracking.values():\n",
    "    plt.scatter(i[:,1],i[:,2])\n",
    "plt.show()\n",
    "%matplotlib qt5"
   ]
  },
  {
   "cell_type": "code",
   "execution_count": 452,
   "metadata": {
    "autoscroll": false,
    "ein.tags": "worksheet-0",
    "slideshow": {
     "slide_type": "-"
    }
   },
   "outputs": [
    {
     "data": {
      "image/png": "[encoded data removed]",
      "text/plain": [
       "<matplotlib.figure.Figure at 0x16d18a60438>"
      ]
     },
     "metadata": {},
     "output_type": "display_data"
    }
   ],
   "source": [
    "%matplotlib inline\n",
    "for i,d in alleyTracking.items():\n",
    "    plt.plot(d[:,0], [i]*d.shape[0],'.')\n",
    "    "
   ]
  },
  {
   "cell_type": "code",
   "execution_count": 5,
   "metadata": {
    "collapsed": true
   },
   "outputs": [],
   "source": [
    "def parseEvents():\n",
    "    alleyTracking = {i:np.empty((0,3)) for i in range(17)}\n",
    "    for entry in position:\n",
    "        for a in alleyBounds.keys():\n",
    "            if entry[1] > alleyBounds[a][0][0] and entry[1] < alleyBounds[a][0][1] and entry[2] > alleyBounds[a][1][0] and entry[2] < alleyBounds[a][1][1]:\n",
    "                alleyTracking[a] = np.vstack((alleyTracking[a], entry))\n",
    "    alleyVisits = {i:[] for i in range(17)} # each list will contain ts corresponding to time of alley visit beginning\n",
    "    txtVisits = {i:[] for i in range(17)}\n",
    "    for alley,timestamps in alleyTracking.items():\n",
    "        vts = getVisits(timestamps[:,0],3*1e6)\n",
    "        vts = [i for i in vts if len(i)>1]\n",
    "        vts = [i for i in vts if i[-1]-i[0]>1e6]\n",
    "        visitTs = [(i[0], i[-1]) for i in vts] # vts returns list of list, each of which is all ts in a group. So first ts is the first ts of a visit, grab it\n",
    "        alleyVisits[alley] = visitTs\n",
    "        for visit in visitTs:\n",
    "            intervalIdx = checkInterval(visit[0]/1e6, alleySwapTS[alley])\n",
    "            txtVisits[alley].append(stimData['stimuli'][alley][intervalIdx])\n",
    "    return alleyTracking, alleyVisits, txtVisits\n",
    "\n",
    "\n",
    "def checkInterval(x, intervals):\n",
    "    if type(intervals) == list:\n",
    "        size = len(intervals)-1\n",
    "    elif type(intervals) == np.ndarray:\n",
    "        size = intervals.shape[0]-1\n",
    "    target = None\n",
    "    for i in range(size):\n",
    "        if intervals[i] <= x <= intervals[i+1]:\n",
    "            target = i\n",
    "    return target\n",
    "\n",
    "def getNLSwapTimes(rec):\n",
    "    swapTimes = []\n",
    "    for i in range(len(rec)-4):\n",
    "        if rec[i][5] == 1 and rec[i+1][5] == 0:\n",
    "            swapTimes.append(rec[i][3])\n",
    "    swapTimes = [i/1e6 for i in swapTimes]\n",
    "    return swapTimes\n",
    "\n",
    "def convertPytoNLts(rec, nltimes, pydata):\n",
    "    '''nl times cleaned first''' \n",
    "    pySwapTimes = [i[0] for i in pydata['order'][17:]]\n",
    "    adjPy = [i - pySwapTimes[0] for i in pySwapTimes]\n",
    "    projs = [min(enumerate(nltimes), key=lambda x: abs(x[1]-i)) for i in [j+nltimes[0] for j in adjPy]]\n",
    "    swapTS = [nltimes[i[0]] for i in projs]\n",
    "    beginTS = [i[3] for i in rec if b'begin session' in i[10]][0]/1e6\n",
    "    endTS = [i[3] for i in rec if b'end session' in i[10]][0]/1e6\n",
    "    alleySwapTS = {i:[] for i in range(17)}\n",
    "    for i in range(len(swapTS)):\n",
    "        alleySwapTS[pydata['order'][i+17][1]].append(swapTS[i])\n",
    "    for i in range(17):\n",
    "        alleySwapTS[i] =  [beginTS] + alleySwapTS[i] + [endTS]\n",
    "    return alleySwapTS\n",
    "\n",
    "def getVisits(data, maxgap=3*1e6):\n",
    "    data.sort()\n",
    "    groups = [[data[0]]]\n",
    "    for x in data[1:]:\n",
    "        if abs(x - groups[-1][-1]) <= maxgap:\n",
    "            groups[-1].append(x)\n",
    "        else:\n",
    "            groups.append([x])\n",
    "    return groups\n",
    "\n",
    "def getVisitPos(alley,visitnum,array):\n",
    "    '''array is either spike ts or pos ts'''\n",
    "    tsVisit = getTsinInverval(array, alleyVisits[alley][visitnum][0], alleyVisits[alley][visitnum][1])\n",
    "    posVisit = getPosFromTs(tsVisit)\n",
    "    return np.column_stack((tsVisit,posVisit))\n",
    "\n",
    "def getPosFromTs(yourts):\n",
    "    '''ts is the full list of ts, yourts are the times you'd like a pos for '''\n",
    "    adjTs = [util.takeClosest(position[:,0],i) for i in yourts]\n",
    "    target = np.empty((0,2))\n",
    "    for i in adjTs:\n",
    "        target = np.vstack((target,position[np.where(position[:,0]==i)][:,1:][0]))\n",
    "    return target\n",
    "\n",
    "def getTsinInverval(array,start,stop):\n",
    "    '''left inclusive'''\n",
    "    idx = np.where(np.logical_and(array >= start, array < stop))\n",
    "    return array[idx[0]]\n",
    "\n",
    "def takeClosest(myList, myNumber):\n",
    "    \"\"\"\n",
    "    Assumes myList is sorted. Returns closest value to myNumber.\n",
    "\n",
    "    If two numbers are equally close, return the smallest number.\n",
    "    \"\"\"\n",
    "    pos = bisect_left(myList, myNumber)\n",
    "    if pos == 0:\n",
    "        return myList[0]\n",
    "    if pos == len(myList):\n",
    "        return myList[-1]\n",
    "    before = myList[pos - 1]\n",
    "    after = myList[pos]\n",
    "    if after - myNumber < myNumber - before:\n",
    "       return after\n",
    "    else:\n",
    "       return before\n"
   ]
  },
  {
   "cell_type": "code",
   "execution_count": 6,
   "metadata": {
    "collapsed": true
   },
   "outputs": [],
   "source": [
    "def getVisitPos(alley,visitnum,array):\n",
    "    '''array is either spike ts or pos ts'''\n",
    "    tsVisit = getTsinInverval(array, alleyVisits[alley][visitnum][0], alleyVisits[alley][visitnum][1])\n",
    "    posVisit = getPosFromTs(tsVisit)\n",
    "    return np.column_stack((tsVisit,posVisit))\n",
    "\n",
    "def getVisitsbyTxt(alley,txt,array):\n",
    "    '''get all alley visits when a given txt was present.\n",
    "    DO it for spike pos or just pos depending on array you pass'''\n",
    "    allVisits = np.empty((0,3))\n",
    "    for i in range(len(alleyVisits[alley])):\n",
    "        if txtVisits[alley][i] == txt:\n",
    "            visit = getVisitPos(alley,i,array)\n",
    "            allVisits = np.vstack((allVisits, visit))\n",
    "    return allVisits"
   ]
  },
  {
   "cell_type": "code",
   "execution_count": 7,
   "metadata": {
    "collapsed": true
   },
   "outputs": [],
   "source": [
    "def alley2dHist(alley,x,y,smooth=0):\n",
    "    if (alley+1) in [3,17,4,15,6,12,8,10]:\n",
    "        rbin,cbin = [90,60] #IMPORTANT. Bc np has first dim rows, 2nd dim cols, cartesian x is the cols so 2nd dim so \"y\" here. \n",
    "    else:\n",
    "        rbin,cbin = [60,90]\n",
    "#     xbin = np.linspace(alleyBounds[alley][0][0], alleyBounds[alley][0][1], num=rbin)\n",
    "#     ybin = np.linspace(alleyBounds[alley][1][0], alleyBounds[alley][1][1], num=cbin)\n",
    "    hist = np.histogram2d(y,x,bins=[rbin,cbin],range=[alleyBounds[alley][1], alleyBounds[alley][0]]) # y,x order is NOT typo\n",
    "    if smooth != 0:\n",
    "        hist = gauss(hist[0],smooth)\n",
    "    return hist"
   ]
  },
  {
   "cell_type": "code",
   "execution_count": 8,
   "metadata": {
    "collapsed": true
   },
   "outputs": [],
   "source": [
    "def genLinHist(hist):\n",
    "    if type(hist) == tuple:\n",
    "        hist = hist[0] # pull out hist itself if you passed the tuple of (hist,edges)\n",
    "    if hist.shape[1] > hist.shape[0]:\n",
    "        ax = 0\n",
    "    elif hist.shape[1] < hist.shape[0]:\n",
    "        ax = 1\n",
    "    linhist = np.mean(hist, axis=ax)\n",
    "    return linhist"
   ]
  },
  {
   "cell_type": "code",
   "execution_count": 29,
   "metadata": {
    "collapsed": true
   },
   "outputs": [],
   "source": [
    "def genLinRateMap(alley,txt):\n",
    "    '''returns array of lin, occ normed rate maps corresponding to every visit\n",
    "    of the specified alley with that texture. So avg/sem the *return* array'''\n",
    "    allrms = np.empty((0,90)) # this is the num bins along long axis of alley. hardcoded here and alley2dhist (short axis has 75bins)\n",
    "    for i in range(len(alleyVisits[alley])):\n",
    "        if txtVisits[alley][i] == txt:\n",
    "            visitsOcc = getVisitPos(alley, i, ts)\n",
    "            visitsSpk = getVisitPos(alley, i, spikes[:,0])\n",
    "            occhist = alley2dHist(alley, visitsOcc[:,1], visitsOcc[:,2], 0)\n",
    "            spkhist = alley2dHist(alley, visitsSpk[:,1], visitsSpk[:,2], 0)\n",
    "            linocc = genLinHist(occhist)\n",
    "            linspk = genLinHist(spkhist)\n",
    "            hs[0,cbins-1] = 0\n",
    "            h[0,cbins-1] = 0\n",
    "            rm = (linspk*np.reciprocal(linocc))*33\n",
    "            rm[np.isnan(rm)] = 0\n",
    "            rm[np.isinf(rm)] = 0\n",
    "            rm = gauss(rm,2,mode='nearest',cval=0)\n",
    "            allrms = np.vstack((allrms, rm))\n",
    "    return allrms"
   ]
  },
  {
   "cell_type": "code",
   "execution_count": 30,
   "metadata": {},
   "outputs": [
    {
     "name": "stdout",
     "output_type": "stream",
     "text": [
      "(602,)\n",
      "(602, 2)\n",
      "(15,)\n",
      "(15, 2)\n"
     ]
    },
    {
     "ename": "NameError",
     "evalue": "name 'hs' is not defined",
     "output_type": "error",
     "traceback": [
      "\u001b[1;31m---------------------------------------------------------------------------\u001b[0m",
      "\u001b[1;31mNameError\u001b[0m                                 Traceback (most recent call last)",
      "\u001b[1;32m<ipython-input-30-d416b6e93bc5>\u001b[0m in \u001b[0;36m<module>\u001b[1;34m()\u001b[0m\n\u001b[0;32m      4\u001b[0m \u001b[1;32mfor\u001b[0m \u001b[0mi\u001b[0m \u001b[1;32min\u001b[0m \u001b[0mrange\u001b[0m\u001b[1;33m(\u001b[0m\u001b[1;36m17\u001b[0m\u001b[1;33m)\u001b[0m\u001b[1;33m:\u001b[0m\u001b[1;33m\u001b[0m\u001b[0m\n\u001b[0;32m      5\u001b[0m     \u001b[1;32mfor\u001b[0m \u001b[0mtxt\u001b[0m\u001b[1;33m,\u001b[0m\u001b[0mc\u001b[0m \u001b[1;32min\u001b[0m \u001b[0mzip\u001b[0m\u001b[1;33m(\u001b[0m\u001b[1;33m[\u001b[0m\u001b[1;34m'A'\u001b[0m\u001b[1;33m,\u001b[0m \u001b[1;34m'B'\u001b[0m\u001b[1;33m,\u001b[0m \u001b[1;34m'C'\u001b[0m\u001b[1;33m]\u001b[0m\u001b[1;33m,\u001b[0m\u001b[1;33m[\u001b[0m\u001b[1;34m'r'\u001b[0m\u001b[1;33m,\u001b[0m\u001b[1;34m'b'\u001b[0m\u001b[1;33m,\u001b[0m\u001b[1;34m'g'\u001b[0m\u001b[1;33m]\u001b[0m\u001b[1;33m)\u001b[0m\u001b[1;33m:\u001b[0m\u001b[1;33m\u001b[0m\u001b[0m\n\u001b[1;32m----> 6\u001b[1;33m         \u001b[0mrms\u001b[0m \u001b[1;33m=\u001b[0m \u001b[0mgenLinRateMap\u001b[0m\u001b[1;33m(\u001b[0m\u001b[0mi\u001b[0m\u001b[1;33m,\u001b[0m \u001b[0mtxt\u001b[0m\u001b[1;33m)\u001b[0m\u001b[1;33m\u001b[0m\u001b[0m\n\u001b[0m\u001b[0;32m      7\u001b[0m         \u001b[0mvisits\u001b[0m\u001b[1;33m[\u001b[0m\u001b[0mi\u001b[0m\u001b[1;33m]\u001b[0m\u001b[1;33m[\u001b[0m\u001b[0mtxt\u001b[0m\u001b[1;33m]\u001b[0m \u001b[1;33m=\u001b[0m \u001b[0mrms\u001b[0m\u001b[1;33m\u001b[0m\u001b[0m\n\u001b[0;32m      8\u001b[0m         \u001b[0mavg\u001b[0m \u001b[1;33m=\u001b[0m \u001b[0mnp\u001b[0m\u001b[1;33m.\u001b[0m\u001b[0mmean\u001b[0m\u001b[1;33m(\u001b[0m\u001b[0mrms\u001b[0m\u001b[1;33m,\u001b[0m \u001b[0maxis\u001b[0m\u001b[1;33m=\u001b[0m\u001b[1;36m0\u001b[0m\u001b[1;33m)\u001b[0m\u001b[1;33m\u001b[0m\u001b[0m\n",
      "\u001b[1;32m<ipython-input-29-67de66993f7c>\u001b[0m in \u001b[0;36mgenLinRateMap\u001b[1;34m(alley, txt)\u001b[0m\n\u001b[0;32m     11\u001b[0m             \u001b[0mlinocc\u001b[0m \u001b[1;33m=\u001b[0m \u001b[0mgenLinHist\u001b[0m\u001b[1;33m(\u001b[0m\u001b[0mocchist\u001b[0m\u001b[1;33m)\u001b[0m\u001b[1;33m\u001b[0m\u001b[0m\n\u001b[0;32m     12\u001b[0m             \u001b[0mlinspk\u001b[0m \u001b[1;33m=\u001b[0m \u001b[0mgenLinHist\u001b[0m\u001b[1;33m(\u001b[0m\u001b[0mspkhist\u001b[0m\u001b[1;33m)\u001b[0m\u001b[1;33m\u001b[0m\u001b[0m\n\u001b[1;32m---> 13\u001b[1;33m             \u001b[0mhs\u001b[0m\u001b[1;33m[\u001b[0m\u001b[1;36m0\u001b[0m\u001b[1;33m,\u001b[0m\u001b[0mcbins\u001b[0m\u001b[1;33m-\u001b[0m\u001b[1;36m1\u001b[0m\u001b[1;33m]\u001b[0m \u001b[1;33m=\u001b[0m \u001b[1;36m0\u001b[0m\u001b[1;33m\u001b[0m\u001b[0m\n\u001b[0m\u001b[0;32m     14\u001b[0m             \u001b[0mh\u001b[0m\u001b[1;33m[\u001b[0m\u001b[1;36m0\u001b[0m\u001b[1;33m,\u001b[0m\u001b[0mcbins\u001b[0m\u001b[1;33m-\u001b[0m\u001b[1;36m1\u001b[0m\u001b[1;33m]\u001b[0m \u001b[1;33m=\u001b[0m \u001b[1;36m0\u001b[0m\u001b[1;33m\u001b[0m\u001b[0m\n\u001b[0;32m     15\u001b[0m             \u001b[0mrm\u001b[0m \u001b[1;33m=\u001b[0m \u001b[1;33m(\u001b[0m\u001b[0mlinspk\u001b[0m\u001b[1;33m*\u001b[0m\u001b[0mnp\u001b[0m\u001b[1;33m.\u001b[0m\u001b[0mreciprocal\u001b[0m\u001b[1;33m(\u001b[0m\u001b[0mlinocc\u001b[0m\u001b[1;33m)\u001b[0m\u001b[1;33m)\u001b[0m\u001b[1;33m*\u001b[0m\u001b[1;36m33\u001b[0m\u001b[1;33m\u001b[0m\u001b[0m\n",
      "\u001b[1;31mNameError\u001b[0m: name 'hs' is not defined"
     ]
    }
   ],
   "source": [
    "fig, ax = plt.subplots(6,3,figsize=(10,10))\n",
    "axList = fig.axes\n",
    "visits = {i:{'A':None,'B':None,'C':None} for i in range(17)}\n",
    "for i in range(17):\n",
    "    for txt,c in zip(['A', 'B', 'C'],['r','b','g']):\n",
    "        rms = genLinRateMap(i, txt)\n",
    "        visits[i][txt] = rms\n",
    "        avg = np.mean(rms, axis=0)\n",
    "        err = sem(rms, axis=0)\n",
    "        axList[i].plot(avg,f\"{c}--\")\n",
    "        axList[i].fill_between(range(len(err)), avg+err, avg-err,color=f\"{c}\",alpha=0.5)\n",
    "        axList[i].set_title(f\"Alley {i+1}\")"
   ]
  },
  {
   "cell_type": "code",
   "execution_count": 527,
   "metadata": {
    "collapsed": true
   },
   "outputs": [],
   "source": [
    "allvisits = {i: np.empty((0,3)) for i in ['A', 'B', 'C']}\n",
    "allspikes = {i: np.empty((0,3)) for i in ['A', 'B', 'C']} \n",
    "_spikes = np.empty((0,3))\n",
    "_position = np.empty((0,3))\n",
    "for i in range(17):\n",
    "    for txt in ['A','B','C']:  \n",
    "        spk, _pos,_ = alleyRatemapData(i+1,txt)\n",
    "        _spikes = np.vstack((_spikes, spk))\n",
    "        _position = np.vstack((_position,_pos))\n",
    "        allspikes[txt] = np.vstack((allspikes[txt], spk))\n",
    "        allvisits[txt] = np.vstack((allvisits[txt], _pos))"
   ]
  },
  {
   "cell_type": "code",
   "execution_count": 528,
   "metadata": {
    "collapsed": true
   },
   "outputs": [],
   "source": [
    "def data2bins(x,dim):\n",
    "    '''go from 480/640 scale (data) to 40/60 (bins, change obv if you change bins)'''\n",
    "    if dim == 'r':\n",
    "        OldMin,OldMax,NewMin,NewMax = [75, 400, 0, 40]\n",
    "    elif dim == 'c':\n",
    "        OldMin,OldMax,NewMin,NewMax = [115, 560, 0, 60]\n",
    "    NewValue = (((x - OldMin) * (NewMax - NewMin)) / (OldMax - OldMin)) + NewMin\n",
    "    return NewValue\n",
    "\n",
    "def drawAlley(ax,oldz):\n",
    "    z = [[data2bins(oldz[0][0],'c'),data2bins(oldz[0][1],'c')],[data2bins(oldz[1][0],'r'),data2bins(oldz[1][1],'r')]]\n",
    "    ax.plot([z[0][0], z[0][0]],[z[1][0],z[1][1]],'k',alpha=0.3)\n",
    "    ax.plot([z[0][1], z[0][1]],[z[1][0],z[1][1]],'k',alpha=0.3)\n",
    "    ax.plot([z[0][1], z[0][0]],[z[1][1],z[1][1]],'k',alpha=0.3)\n",
    "    ax.plot([z[0][0], z[0][1]],[z[1][0],z[1][0]],'k',alpha=0.3)\n",
    "    "
   ]
  },
  {
   "cell_type": "code",
   "execution_count": 562,
   "metadata": {},
   "outputs": [
    {
     "name": "stderr",
     "output_type": "stream",
     "text": [
      "C:\\Users\\whock\\Anaconda3\\Lib\\site-packages\\ipykernel_launcher.py:13: RuntimeWarning: divide by zero encountered in reciprocal\n",
      "  del sys.path[0]\n",
      "C:\\Users\\whock\\Anaconda3\\Lib\\site-packages\\ipykernel_launcher.py:13: RuntimeWarning: invalid value encountered in multiply\n",
      "  del sys.path[0]\n",
      "C:\\Users\\whock\\Anaconda3\\Lib\\site-packages\\ipykernel_launcher.py:20: RuntimeWarning: invalid value encountered in greater\n",
      "C:\\Users\\whock\\Anaconda3\\Lib\\site-packages\\matplotlib\\figure.py:1999: UserWarning: This figure includes Axes that are not compatible with tight_layout, so results might be incorrect.\n",
      "  warnings.warn(\"This figure includes Axes that are not compatible \"\n"
     ]
    }
   ],
   "source": [
    "rbins = 60\n",
    "cbins = 90\n",
    "normed = {'A':None, 'B':None, 'C':None,'O':None}\n",
    "for txt in ['O','A','B','C']:\n",
    "    if txt == 'O':\n",
    "        h = np.histogram2d(_position[:,2], _position[:,1],bins=[rbins,cbins])[0]\n",
    "        hs = np.histogram2d(_spikes[:,2],_spikes[:,1],bins=[rbins,cbins])[0]\n",
    "    else:\n",
    "        h = np.histogram2d(allvisits[txt][:,2], allvisits[txt][:,1],bins=[rbins,cbins])[0]\n",
    "        hs = np.histogram2d(allspikes[txt][:,2], allspikes[txt][:,1],bins=[rbins,cbins])[0]\n",
    "    hs[0,cbins-1] = 0\n",
    "    h[0,cbins-1] = 0\n",
    "    n = (hs*np.reciprocal(h))*33\n",
    "    n[np.isnan(n)] = 0\n",
    "    n[np.isinf(n)] = 0\n",
    "    normed[txt] = gauss(n,2,mode='nearest',cval=0)\n",
    "    normed[txt][np.where(h==0)] = np.nan\n",
    "\n",
    "combined_data = np.array([normed['A'], normed['B'], normed['C'],normed['O']])\n",
    "h = np.histogram(normed['O'][np.where(normed['O']>0)])\n",
    "_min, _max = 0.001, h[1][np.where(np.cumsum(h[0])/h[0].sum() > 0.95)[0][0]]\n",
    "# the ugly little fella above finds the bin edge (units of spike count) which captures more than 95% of the data\n",
    "\n",
    "fig = plt.figure(figsize=(10,10))\n",
    "for txt,an in zip(['O','A','B','C'],[1,2,3,4]):\n",
    "    #Add the vmin and vmax arguments to set the color scale\n",
    "    ax = fig.add_subplot(4, 1, an)\n",
    "    im = ax.imshow(normed[txt], vmax = _max, vmin = _min, origin='lower',cmap='YlOrRd')\n",
    "    #ax.set_adjustable('box-forced')\n",
    "    if txt == 'O':\n",
    "        ax.set_title(\"Overall Ratemap\")\n",
    "    else:\n",
    "        ax.set_title(f\"Collated Texture {txt} Ratemap\")\n",
    "#    for i in alleyBounds.values():\n",
    "#        drawAlley(ax,i)\n",
    "    ax.autoscale(False)\n",
    "                          \n",
    "cbar_ax = fig.add_axes([0.65, 0.15, 0.05, 0.7])\n",
    "fig.colorbar(im, cax=cbar_ax,extend='max')\n",
    "plt.tight_layout(True)\n",
    "plt.show()"
   ]
  },
  {
   "cell_type": "code",
   "execution_count": 418,
   "metadata": {
    "collapsed": true
   },
   "outputs": [],
   "source": [
    "%qtconsole --style native"
   ]
  },
  {
   "cell_type": "code",
   "execution_count": 62,
   "metadata": {},
   "outputs": [
    {
     "data": {
      "text/plain": [
       "(array([ 131.,    0.,    0.,    0.,    0.,  104.,    0.,    0.,    0.,  177.]),\n",
       " array([ 0. ,  0.2,  0.4,  0.6,  0.8,  1. ,  1.2,  1.4,  1.6,  1.8,  2. ]),\n",
       " <a list of 10 Patch objects>)"
      ]
     },
     "execution_count": 62,
     "metadata": {},
     "output_type": "execute_result"
    }
   ],
   "source": [
    "allTxts = []\n",
    "for i in txtVisits.values():\n",
    "    allTxts.extend(i)\n",
    "plt.hist(allTxts)"
   ]
  },
  {
   "cell_type": "code",
   "execution_count": 24,
   "metadata": {
    "collapsed": true
   },
   "outputs": [],
   "source": [
    "fig, ax = plt.subplots(5,5,figsize=(10,10))\n",
    "axList = fig.axes\n",
    "for i in range(17):\n",
    "    axList[i].hist(txtVisits[i])\n",
    "    axList[i].set_title(i)"
   ]
  },
  {
   "cell_type": "code",
   "execution_count": 63,
   "metadata": {
    "collapsed": true
   },
   "outputs": [],
   "source": [
    "# get time in s that txt was present on at alley\n",
    "alleyTxtOnTimes = {i:{'A':0, 'B':0, 'C':0} for i in range(17)}\n",
    "for alley in range(17):\n",
    "    for swap in range(len(alleySwapTS[alley])-1):\n",
    "        alleyTxtOnTimes[alley][stimData['stimuli'][alley][swap]] += alleySwapTS[alley][swap+1] - alleySwapTS[alley][swap]"
   ]
  },
  {
   "cell_type": "code",
   "execution_count": 64,
   "metadata": {
    "collapsed": true
   },
   "outputs": [],
   "source": [
    "normedTxtVisits = {i:{'A':0, 'B':0, 'C':0} for i in range(17)}\n",
    "for i in range(17):\n",
    "    for txt in ['A', 'B', 'C']:\n",
    "        normedTxtVisits[i][txt] = txtVisits[i].count(txt) / alleyTxtOnTimes[alley][txt]"
   ]
  },
  {
   "cell_type": "code",
   "execution_count": 65,
   "metadata": {
    "collapsed": true
   },
   "outputs": [],
   "source": [
    "%matplotlib qt5\n",
    "fig, ax = plt.subplots(5,5,figsize=(10,10))\n",
    "axList = fig.axes\n",
    "for i in range(17):\n",
    "    axList[i].bar([1,2,3],list(normedTxtVisits[i].values()))\n",
    "    axList[i].set_title(i)"
   ]
  },
  {
   "cell_type": "code",
   "execution_count": 66,
   "metadata": {},
   "outputs": [
    {
     "name": "stdout",
     "output_type": "stream",
     "text": [
      "0.0226130316053\n",
      "0.00857271215255\n",
      "0.00412098351487\n"
     ]
    }
   ],
   "source": [
    "allTxtsNormed = {'A':[], 'B':[], 'C':[]}\n",
    "for i in range(17):\n",
    "    for txt in ['A', 'B', 'C']:\n",
    "        allTxtsNormed[txt].append(normedTxtVisits[i][txt])\n",
    "for txt in ['A', 'B', 'C']:\n",
    "    print(np.mean(allTxtsNormed[txt]))"
   ]
  },
  {
   "cell_type": "code",
   "execution_count": 55,
   "metadata": {
    "collapsed": true
   },
   "outputs": [
    {
     "name": "stdout",
     "output_type": "stream",
     "text": [
      "D:\\Ratterdam\\R765\\R765DFD2\n",
      "---------------\n",
      "D:\\Ratterdam\\R765\\R765DFD2\n",
      "0.00845321738921\n",
      "0.00865216229537\n",
      "0.00288864212685\n",
      "D:\\Ratterdam\\R765\\R765DFD3\n",
      "---------------\n",
      "D:\\Ratterdam\\R765\\R765DFD3\n",
      "0.00351630458756\n",
      "0.00880571855943\n",
      "0.00843878951033\n",
      "D:\\Ratterdam\\R765\\R765DFD4\n",
      "---------------\n",
      "D:\\Ratterdam\\R765\\R765DFD4\n",
      "0.0226130316053\n",
      "0.00857271215255\n",
      "0.00412098351487\n",
      "D:\\Ratterdam\\R765\\R765DFD5\n",
      "---------------\n",
      "D:\\Ratterdam\\R765\\R765DFD5\n",
      "0.0256627904759\n",
      "0.0094596844059\n",
      "0.00514385784036\n",
      "D:\\Ratterdam\\R765\\R765DFD8\n",
      "---------------\n",
      "D:\\Ratterdam\\R765\\R765DFD8\n",
      "0.0173747989835\n",
      "0.0107278595961\n",
      "0.00376371139616\n",
      "D:\\Ratterdam\\R765\\R765DFD9\n",
      "---------------\n",
      "D:\\Ratterdam\\R765\\R765DFD9\n",
      "0.01631284328\n",
      "0.0116743602304\n",
      "0.00516298715473\n",
      "D:\\Ratterdam\\R765\\R765DFD11\n",
      "---------------\n",
      "D:\\Ratterdam\\R765\\R765DFD11\n",
      "0.0173297824305\n",
      "0.023056910857\n",
      "0.0054012657391\n"
     ]
    }
   ],
   "source": [
    "days = [str(i+1) for i in range(2,10)]\n",
    "for d in ['2','3','4','5','8','9','11']:\n",
    "    os.chdir(f\"D:\\\\Ratterdam\\\\R765\\\\R765DFD{d}\")\n",
    "    print(os.getcwd())\n",
    "    for f in os.listdir():\n",
    "        if \"Stimuli\" in f:\n",
    "            stimData = pickle.load(open(datafile+\"R765_180629_18-48_Stimuli.p\",\"rb\"))\n",
    "    pos = util.read_pos(os.getcwd()+\"\\\\\")\n",
    "    ts = np.asarray(sorted(list(pos.keys())))\n",
    "    posx = [640 - pos[i][0] for i in ts]\n",
    "    posy = [pos[i][1] for i in ts]\n",
    "    for t in ts:\n",
    "        pos[t][0] = 640 - pos[t][0]\n",
    "    position = np.column_stack((ts,posx,posy))\n",
    "    hdr, rec = util.readNEV(os.getcwd()+\"\\\\\")\n",
    "    swapTimes = getNLSwapTimes(rec)\n",
    "    alleySwapTS = convertPytoNLts(rec, swapTimes, stimData)\n",
    "    alleyTracking, alleyVisits,  txtVisits = parseEvents()\n",
    "    \n",
    "    allTxts = []\n",
    "    for i in txtVisits.values():\n",
    "        allTxts.extend(i)\n",
    "        \n",
    "    alleyTxtOnTimes = {i:{'A':0, 'B':0, 'C':0} for i in range(17)}\n",
    "    for alley in range(17):\n",
    "        for swap in range(len(alleySwapTS[alley])-1):\n",
    "            alleyTxtOnTimes[alley][stimData['stimuli'][alley][swap]] += alleySwapTS[alley][swap+1] - alleySwapTS[alley][swap]\n",
    "            \n",
    "    normedTxtVisits = {i:{'A':0, 'B':0, 'C':0} for i in range(17)}\n",
    "    for i in range(17):\n",
    "        for txt in ['A', 'B', 'C']:\n",
    "            normedTxtVisits[i][txt] = txtVisits[i].count(txt) / alleyTxtOnTimes[alley][txt]\n",
    "            \n",
    "    allTxtsNormed = {'A':[], 'B':[], 'C':[]}\n",
    "    for i in range(17):\n",
    "        for txt in ['A', 'B', 'C']:\n",
    "            allTxtsNormed[txt].append(normedTxtVisits[i][txt])\n",
    "    print(\"---------------\")\n",
    "    print(os.getcwd())\n",
    "    for txt in ['A', 'B', 'C']:\n",
    "        print(np.mean(allTxtsNormed[txt]))\n",
    "\n",
    "            "
   ]
  },
  {
   "cell_type": "markdown",
   "metadata": {
    "collapsed": true
   },
   "source": [
    "## Ground truth choice behavior"
   ]
  },
  {
   "cell_type": "code",
   "execution_count": 414,
   "metadata": {
    "collapsed": true
   },
   "outputs": [],
   "source": [
    "for i, alleyData in enumerate(alleyVisits.values()):\n",
    "    for data in alleyData:\n",
    "        plt.plot([data[0], data[1]], [i, i])"
   ]
  },
  {
   "cell_type": "code",
   "execution_count": 415,
   "metadata": {
    "collapsed": true
   },
   "outputs": [],
   "source": [
    "visitList = []\n",
    "for i, alleyData in enumerate(alleyVisits.values()):\n",
    "    for data in alleyData:\n",
    "        visitList.append([i,data[1]])\n",
    "        visitList = sorted(visitList, key = lambda x: x[1])\n",
    "for i in range(len(visitList)):\n",
    "    visitList[i][0] += 1"
   ]
  },
  {
   "cell_type": "code",
   "execution_count": 416,
   "metadata": {
    "collapsed": true
   },
   "outputs": [],
   "source": [
    "alleyGraph = {1:[[4,5],[3]],\n",
    "              2:[[4, 13, 15],[3, 17]],\n",
    "              3:[[1],[2, 17]],\n",
    "              4:[[1, 5],[2, 13, 15]],\n",
    "              5:[[1,4],[6,7]],\n",
    "              6:[[5,7],[13,12,9]],\n",
    "              7:[[5,6], [8]],\n",
    "              8:[[7], [9,10]],\n",
    "              9:[[8,10], [6,13,12]],\n",
    "              10:[[8,9], [11]],\n",
    "              11:[[10],[12,14]],\n",
    "              12:[[6,13,9],[14,11]],\n",
    "              13:[[6,9,12],[2,4,15]],\n",
    "              14:[[12,11],[15,16]],\n",
    "              15:[[2,4,13],[16,14]],\n",
    "              16:[[14,15], [17]],\n",
    "              17:[[2,3],[16]]}"
   ]
  },
  {
   "cell_type": "code",
   "execution_count": 417,
   "metadata": {
    "collapsed": true
   },
   "outputs": [],
   "source": [
    "scores = []\n",
    "def scoreFx(pick,availble):\n",
    "    pass\n",
    "\n",
    "def findTxt(ts,alley):\n",
    "    '''what txt was present at a given '''\n",
    "    return stimData['stimuli'][alley-1][bisect(alleySwapTS[alley-1],ts/1e6)-1] # bisect finds where to put this ts in list of txt swaps\n",
    "                                                                       # then look up the previous entry in txt list, i.e. one present during that ts\n",
    "            \n",
    "\n",
    "def getAvailTxts(ts, alleys):\n",
    "    '''get the textures present at the alleys at the ts'''\n",
    "    txtsAvailable = []\n",
    "    for alley in alleys:\n",
    "        txt = findTxt(ts,alley)\n",
    "        txtsAvailable.append(txt)\n",
    "    return txtsAvailable\n",
    "        \n",
    "availableTxts = []\n",
    "choices = []\n",
    "for i,visit in enumerate(visitList):\n",
    "    side = None\n",
    "    if i < len(visitList)-1:\n",
    "        choice = visitList[i+1][0]\n",
    "        if choice in alleyGraph[visit[0]][0]:\n",
    "            side = alleyGraph[visit[0]][0]\n",
    "        elif choice in alleyGraph[visit[0]][1]:\n",
    "            side = alleyGraph[visit[0]][1]\n",
    "        else:\n",
    "            pass\n",
    "        if side:\n",
    "            availableTxts.append(getAvailTxts(visit[1], side))\n",
    "            choices.append(findTxt(visit[1],choice))\n",
    "            \n",
    "        \n",
    "        "
   ]
  },
  {
   "cell_type": "code",
   "execution_count": 418,
   "metadata": {
    "collapsed": true
   },
   "outputs": [],
   "source": [
    "valueLookup = {'A':.8, 'B':.4, 'C':.1}\n",
    "def calcNullChoiceVal(options):\n",
    "#     vals = []\n",
    "#     for txt in ['A', 'B', 'C']:\n",
    "#         vals.append((options.count(txt)/len(options))*valueLookup[txt])\n",
    "#     v = sum(vals)\n",
    "    vals = []\n",
    "    for i in range(100):\n",
    "        vals.append(valueLookup[random.choice(options)])\n",
    "    v = np.mean(vals)\n",
    "        \n",
    "    return v"
   ]
  },
  {
   "cell_type": "code",
   "execution_count": 419,
   "metadata": {
    "collapsed": true
   },
   "outputs": [],
   "source": [
    "def calcRealChoiceVal(choice, options, null):\n",
    "#     if sorted(options).index(choice) == 0:\n",
    "#         return 1\n",
    "#     else:\n",
    "#         return 0\n",
    "    return valueLookup[choice] - null\n",
    "    "
   ]
  },
  {
   "cell_type": "code",
   "execution_count": 420,
   "metadata": {
    "collapsed": true
   },
   "outputs": [],
   "source": [
    "# Metric is to compute a null value for the options available defined as (prop of arms w a txt)*(val of txt) for all txts. Then\n",
    "# subtract this off the real chosen val for an adjusted choice val. Then you can plot it, etc but the primary stat is the avg +/- sem compared to a \n",
    "# null hypothesis of 0 avg\n",
    "realVals = []\n",
    "for choice, options in zip(choices, availableTxts):\n",
    "    nullVal = calcNullChoiceVal(options)\n",
    "    realVals.append(valueLookup[choice] - nullVal)\n",
    "    \n",
    "    "
   ]
  },
  {
   "cell_type": "code",
   "execution_count": 423,
   "metadata": {},
   "outputs": [
    {
     "name": "stdout",
     "output_type": "stream",
     "text": [
      "D:\\Ratterdam\\R765\\R765DFD4\n",
      "-----------\n",
      "D:\\Ratterdam\\R765\\R765DFD4\n",
      "Mean: 0.017680440771349924 with err 0.010617096073391405\n"
     ]
    }
   ],
   "source": [
    "days = [str(i+1) for i in range(2,10)]\n",
    "for d in ['4']:\n",
    "    os.chdir(f\"D:\\\\Ratterdam\\\\R765\\\\R765DFD{d}\")\n",
    "    print(os.getcwd())\n",
    "    for f in os.listdir():\n",
    "        if \"Stimuli\" in f:\n",
    "            stimData = pickle.load(open(f,\"rb\"))\n",
    "    pos = util.read_pos(os.getcwd()+\"\\\\\")\n",
    "    ts = np.asarray(sorted(list(pos.keys())))\n",
    "    posx = [640 - pos[i][0] for i in ts]\n",
    "    posy = [pos[i][1] for i in ts]\n",
    "    for t in ts:\n",
    "        pos[t][0] = 640 - pos[t][0]\n",
    "    position = np.column_stack((ts,posx,posy))\n",
    "    hdr, rec = util.readNEV(os.getcwd()+\"\\\\\")\n",
    "    swapTimes = getNLSwapTimes(rec)\n",
    "    alleySwapTS = convertPytoNLts(rec, swapTimes, stimData)\n",
    "    alleyTracking, alleyVisits,  txtVisits = parseEvents()\n",
    "    \n",
    "    visitList = []\n",
    "    for i, alleyData in enumerate(alleyVisits.values()):\n",
    "        for data in alleyData:\n",
    "            visitList.append([i,data[1]])\n",
    "            visitList = sorted(visitList, key = lambda x: x[1])\n",
    "    for i in range(len(visitList)):\n",
    "        visitList[i][0] += 1\n",
    "            \n",
    "    availableTxts = []\n",
    "    \n",
    "    choices = []\n",
    "    for i,visit in enumerate(visitList):\n",
    "        side = None\n",
    "        if i < len(visitList)-1:\n",
    "            choice = visitList[i+1][0]\n",
    "            if choice in alleyGraph[visit[0]][0]:\n",
    "                side = alleyGraph[visit[0]][0]\n",
    "            elif choice in alleyGraph[visit[0]][1]:\n",
    "                side = alleyGraph[visit[0]][1]\n",
    "            else:\n",
    "                pass\n",
    "            if side:\n",
    "                availableTxts.append(getAvailTxts(visit[1], side))\n",
    "                choices.append(findTxt(visit[1],choice))\n",
    "    realVals = []\n",
    "    for choice, options in zip(choices, availableTxts):\n",
    "        nullVal = calcNullChoiceVal(options)\n",
    "        realVals.append(calcRealChoiceVal(choice, options, nullVal))\n",
    "        \n",
    "    print(\"-----------\")\n",
    "    print(os.getcwd())\n",
    "    print(f\"Mean: {np.mean(realVals)} with err {sem(realVals)}\")"
   ]
  },
  {
   "cell_type": "markdown",
   "metadata": {},
   "source": [
    "## Reconciling rate maps\n",
    "### Common process w. 5 outputs 1) 2d track rm 2) 2d track rm by txt 3) avg lin rm 4) all visits lin rm 5) alley 2d rm"
   ]
  },
  {
   "cell_type": "code",
   "execution_count": 10,
   "metadata": {
    "collapsed": true
   },
   "outputs": [],
   "source": [
    "def alleyRatemapData(alley,txt):\n",
    "    '''basic unit of analysis. get all visits by a txt\n",
    "    Return array of spikes and pos for that txt/alley combo '''\n",
    "    alley = alley-1\n",
    "    alleyPos = np.empty((0,3))\n",
    "    alleySpikes = np.empty((0,3))\n",
    "    visitidx = np.empty((0,2))\n",
    "    for i in range(len(alleyVisits[alley])):\n",
    "        if txtVisits[alley][i] == txt:\n",
    "            visitsOcc = getVisitPos(alley, i, ts)\n",
    "            visitsSpk = getVisitPos(alley, i, spikes[:,0])\n",
    "            alleyPos = np.vstack((alleyPos, visitsOcc))\n",
    "            alleySpikes = np.vstack((alleySpikes, visitsSpk))\n",
    "            visitidx = np.vstack((visitidx, (visitsSpk.shape[0],visitsOcc.shape[0])))\n",
    "    spkI = np.cumsum(visitidx[:,0]).astype(int)-1\n",
    "    posI = np.cumsum(visitidx[:,1]).astype(int)-1\n",
    "    return alleySpikes, alleyPos, np.column_stack((spkI,posI))"
   ]
  },
  {
   "cell_type": "code",
   "execution_count": 41,
   "metadata": {},
   "outputs": [
    {
     "name": "stderr",
     "output_type": "stream",
     "text": [
      "C:\\Users\\whock\\Anaconda3\\Lib\\site-packages\\ipykernel_launcher.py:8: RuntimeWarning: divide by zero encountered in reciprocal\n",
      "  \n",
      "C:\\Users\\whock\\Anaconda3\\Lib\\site-packages\\ipykernel_launcher.py:8: RuntimeWarning: invalid value encountered in multiply\n",
      "  \n",
      "C:\\Users\\whock\\Anaconda3\\Lib\\site-packages\\ipykernel_launcher.py:13: RuntimeWarning: invalid value encountered in greater\n",
      "  del sys.path[0]\n"
     ]
    },
    {
     "data": {
      "text/plain": [
       "<matplotlib.colorbar.Colorbar at 0x2161dbb4160>"
      ]
     },
     "execution_count": 41,
     "metadata": {},
     "output_type": "execute_result"
    }
   ],
   "source": [
    "plt.figure(3)\n",
    "cutoff = 20\n",
    "rbins, cbins = 45,90\n",
    "hs = np.histogram2d(spikes[:,2],spikes[:,1],bins=[rbins,cbins])[0]\n",
    "ho = np.histogram2d(position[:,2],position[:,1],bins=[rbins,cbins])[0]\n",
    "hs[0,cbins-1] = 0\n",
    "ho[0,cbins-1] = 0\n",
    "n = (hs*np.reciprocal(ho))*33\n",
    "n[np.isnan(n)] = 0\n",
    "n[np.isinf(n)] = 0\n",
    "n = gauss(n,2,mode='nearest',cval=0)\n",
    "n[np.where(ho==0)] = np.nan\n",
    "_min,_max = 0.0001, np.median(n[np.where(n>0)])*cutoff\n",
    "plt.imshow(n, origin='lower',vmin=_min,vmax=_max)\n",
    "plt.colorbar()"
   ]
  },
  {
   "cell_type": "code",
   "execution_count": 403,
   "metadata": {},
   "outputs": [
    {
     "data": {
      "text/plain": [
       "<matplotlib.image.AxesImage at 0x16ccddf9748>"
      ]
     },
     "execution_count": 403,
     "metadata": {},
     "output_type": "execute_result"
    }
   ],
   "source": [
    "plt.figure(3)\n",
    "plt.imshow(hs,origin='lower')\n",
    "plt.figure(4)\n",
    "plt.imshow(ho,origin='lower')"
   ]
  },
  {
   "cell_type": "code",
   "execution_count": 188,
   "metadata": {
    "collapsed": true
   },
   "outputs": [],
   "source": []
  },
  {
   "cell_type": "code",
   "execution_count": 11,
   "metadata": {
    "collapsed": true
   },
   "outputs": [],
   "source": [
    "rbinNum,cbinNum = 16,31\n",
    "alleyBins = {i:{'rows':None,'cols':None} for i in range(17)}\n",
    "for i,v in enumerate(alleyBounds.values()):\n",
    "    x,y = v\n",
    "    if (x[1]-x[0]) > (y[1]-y[0]):\n",
    "        bins = [rbinNum,cbinNum]\n",
    "    elif (y[1]-y[0]) > (x[1]-x[0]):\n",
    "        bins = [cbinNum,rbinNum]\n",
    "    else:\n",
    "        print(\"error\")\n",
    "    alleyBins[i]['rows'] = np.linspace(alleyBounds[i][1][0], alleyBounds[i][1][1],num=bins[0])\n",
    "    alleyBins[i]['cols'] = np.linspace(alleyBounds[i][0][0], alleyBounds[i][0][1],num=bins[1])"
   ]
  },
  {
   "cell_type": "code",
   "execution_count": 103,
   "metadata": {},
   "outputs": [
    {
     "name": "stderr",
     "output_type": "stream",
     "text": [
      "C:\\Users\\whock\\Anaconda3\\Lib\\site-packages\\ipykernel_launcher.py:18: RuntimeWarning: divide by zero encountered in reciprocal\n",
      "C:\\Users\\whock\\Anaconda3\\Lib\\site-packages\\ipykernel_launcher.py:18: RuntimeWarning: invalid value encountered in multiply\n",
      "C:\\Users\\whock\\Anaconda3\\Lib\\site-packages\\ipykernel_launcher.py:27: RuntimeWarning: invalid value encountered in greater\n"
     ]
    },
    {
     "data": {
      "text/plain": [
       "<matplotlib.colorbar.Colorbar at 0x216304869b0>"
      ]
     },
     "execution_count": 103,
     "metadata": {},
     "output_type": "execute_result"
    }
   ],
   "source": [
    "_spikes,_position = allTrack['spk'],allTrack['pos']\n",
    "fig = plt.figure(figsize=(10,10))\n",
    "r = 6\n",
    "c = 3\n",
    "cutoff = 20\n",
    "_min, _max = 0,0 #adjust the max 0 to whatever the consensus max is\n",
    "alleyRMs = {i:None for i in range(17)}\n",
    "for i in range(17):\n",
    "    rbins,cbins = alleyBins[i]['rows'], alleyBins[i]['cols']\n",
    "    if rbins.shape[0] > cbins.shape[0]:\n",
    "        hs = np.histogram2d(_spikes[:,1],_spikes[:,2],bins=[alleyBins[i]['cols'],alleyBins[i]['rows']])[0]\n",
    "        ho = np.histogram2d(_position[:,1],_position[:,2],bins=[alleyBins[i]['cols'],alleyBins[i]['rows']])[0]\n",
    "    else:\n",
    "        hs = np.histogram2d(_spikes[:,2],_spikes[:,1],bins=[alleyBins[i]['rows'],alleyBins[i]['cols']])[0]\n",
    "        ho = np.histogram2d(_position[:,2],_position[:,1],bins=[alleyBins[i]['rows'],alleyBins[i]['cols']])[0]\n",
    "    hs[0,cbins.shape[0]-2] = 0\n",
    "    ho[0,cbins.shape[0]-2] = 0\n",
    "    n = (hs*np.reciprocal(ho))*33\n",
    "    n[np.isnan(n)] = False\n",
    "    n[np.isinf(n)] = False\n",
    "    n = gauss(n,2,mode='nearest',cval=0)\n",
    "    n[np.where(ho==0)] = np.nan\n",
    "    alleyRMs[i] = n\n",
    "concat = np.empty((rbinNum-1,cbinNum-1))\n",
    "for i in range(17):\n",
    "    concat = np.vstack((concat,alleyRMs[i]))\n",
    "_max = np.median(concat[np.where(concat>0)])*cutoff\n",
    "for i in range(1,18):\n",
    "    ax = fig.add_subplot(r,c,i)\n",
    "    im = ax.imshow(alleyRMs[i-1], vmin=_min, vmax=_max, origin='lower')\n",
    "    ax.set_title(f\"Alley {i}\")\n",
    "    \n",
    "cbar_ax = fig.add_axes([0.9, 0.15, 0.05, 0.7])\n",
    "fig.colorbar(im, cax=cbar_ax,extend='max')"
   ]
  },
  {
   "cell_type": "code",
   "execution_count": 371,
   "metadata": {},
   "outputs": [
    {
     "name": "stderr",
     "output_type": "stream",
     "text": [
      "C:\\Users\\whock\\Anaconda3\\Lib\\site-packages\\ipykernel_launcher.py:16: RuntimeWarning: divide by zero encountered in reciprocal\n",
      "  app.launch_new_instance()\n",
      "C:\\Users\\whock\\Anaconda3\\Lib\\site-packages\\ipykernel_launcher.py:16: RuntimeWarning: invalid value encountered in multiply\n",
      "  app.launch_new_instance()\n",
      "C:\\Users\\whock\\Anaconda3\\Lib\\site-packages\\ipykernel_launcher.py:21: RuntimeWarning: invalid value encountered in greater\n"
     ]
    },
    {
     "data": {
      "text/plain": [
       "<matplotlib.colorbar.Colorbar at 0x2163ffd2eb8>"
      ]
     },
     "execution_count": 371,
     "metadata": {},
     "output_type": "execute_result"
    }
   ],
   "source": [
    "a=1\n",
    "aspk, apos,_ = alleyRatemapData(a,'A')\n",
    "bspk, bpos,_ = alleyRatemapData(a,'B')\n",
    "cspk, cpos,_ = alleyRatemapData(a,'C')\n",
    "_spikes = np.vstack((aspk, bspk, cspk))\n",
    "_position = np.vstack((apos, bpos, cpos))\n",
    "cutoff = 5\n",
    "#_spikes,_position = alleyRatemapData(a,t)\n",
    "rbins,cbins = alleyBins[a-1]['rows'], alleyBins[a-1]['cols']\n",
    "if rbins.shape[0] > cbins.shape[0]:\n",
    "    hs = np.histogram2d(_spikes[:,1],_spikes[:,2],bins=[alleyBins[a-1]['cols'],alleyBins[a-1]['rows']])[0]\n",
    "    ho = np.histogram2d(_position[:,1],_position[:,2],bins=[alleyBins[a-1]['cols'],alleyBins[a-1]['rows']])[0]\n",
    "else:\n",
    "    hs = np.histogram2d(_spikes[:,2],_spikes[:,1],bins=[alleyBins[a-1]['rows'],alleyBins[a-1]['cols']])[0]\n",
    "    ho = np.histogram2d(_position[:,2],_position[:,1],bins=[alleyBins[a-1]['rows'],alleyBins[a-1]['cols']])[0]\n",
    "n = (hs*np.reciprocal(ho))*33\n",
    "n[np.isnan(n)] = False\n",
    "n[np.isinf(n)] = False\n",
    "n = gauss(n,2,mode='nearest')\n",
    "n[np.where(ho==0)] = np.nan\n",
    "_min, _max = 0.000001, np.median(n[np.where(n>0)])*cutoff\n",
    "fig = plt.figure()\n",
    "ax = fig.add_subplot(111)\n",
    "im = ax.imshow(n, vmin=_min, vmax=_max, origin='lower')\n",
    "ax.set_title(f\"Alley {a}\")\n",
    "cbar_ax = fig.add_axes([0.9, 0.15, 0.05, 0.7])\n",
    "fig.colorbar(im, cax=cbar_ax,extend='max')\n"
   ]
  },
  {
   "cell_type": "code",
   "execution_count": 12,
   "metadata": {
    "collapsed": true
   },
   "outputs": [],
   "source": [
    "def alleyData(alley,array):\n",
    "    '''get all spikes/pos in an alley'''\n",
    "    alley = alley-1\n",
    "    z = array[\n",
    "        (array[:,1] > alleyBounds[alley][0][0]) & \\\n",
    "        (array[:,1] < alleyBounds[alley][0][1]) & \\\n",
    "        (array[:,2] > alleyBounds[alley][1][0]) & \\\n",
    "        (array[:,2] < alleyBounds[alley][1][1])  \n",
    "                       ]\n",
    "    return z\n",
    "\n",
    "def findTxt(ts,alley):\n",
    "    '''what txt was present at a given '''\n",
    "    return stimData['stimuli'][alley-1][bisect(alleySwapTS[alley-1],ts/1e6)-1] # bisect finds where to put this ts in list of txt swaps\n",
    "                                                                       # then look up the previous entry in txt list, i.e. one present during that ts\n",
    "        "
   ]
  },
  {
   "cell_type": "code",
   "execution_count": 386,
   "metadata": {
    "collapsed": true
   },
   "outputs": [],
   "source": [
    "z = alleyData(11,spikes)\n",
    "tz = [findTxt(i,11) for i in z[:,0]]"
   ]
  },
  {
   "cell_type": "code",
   "execution_count": 13,
   "metadata": {},
   "outputs": [
    {
     "ename": "NameError",
     "evalue": "name 'p' is not defined",
     "output_type": "error",
     "traceback": [
      "\u001b[1;31m---------------------------------------------------------------------------\u001b[0m",
      "\u001b[1;31mNameError\u001b[0m                                 Traceback (most recent call last)",
      "\u001b[1;32m<ipython-input-13-8df3d082ccf3>\u001b[0m in \u001b[0;36m<module>\u001b[1;34m()\u001b[0m\n\u001b[1;32m----> 1\u001b[1;33m \u001b[0mvts\u001b[0m \u001b[1;33m=\u001b[0m \u001b[0mgetVisits\u001b[0m\u001b[1;33m(\u001b[0m\u001b[0mp\u001b[0m\u001b[1;33m[\u001b[0m\u001b[1;33m:\u001b[0m\u001b[1;33m,\u001b[0m\u001b[1;36m0\u001b[0m\u001b[1;33m]\u001b[0m\u001b[1;33m,\u001b[0m\u001b[1;36m0.1\u001b[0m\u001b[1;33m*\u001b[0m\u001b[1;36m1e6\u001b[0m\u001b[1;33m)\u001b[0m\u001b[1;33m\u001b[0m\u001b[0m\n\u001b[0m\u001b[0;32m      2\u001b[0m \u001b[0mvts\u001b[0m \u001b[1;33m=\u001b[0m \u001b[1;33m[\u001b[0m\u001b[0mi\u001b[0m \u001b[1;32mfor\u001b[0m \u001b[0mi\u001b[0m \u001b[1;32min\u001b[0m \u001b[0mvts\u001b[0m \u001b[1;32mif\u001b[0m \u001b[0mlen\u001b[0m\u001b[1;33m(\u001b[0m\u001b[0mi\u001b[0m\u001b[1;33m)\u001b[0m\u001b[1;33m>\u001b[0m\u001b[1;36m1\u001b[0m\u001b[1;33m]\u001b[0m\u001b[1;33m\u001b[0m\u001b[0m\n\u001b[0;32m      3\u001b[0m \u001b[0mvts\u001b[0m \u001b[1;33m=\u001b[0m \u001b[1;33m[\u001b[0m\u001b[0mi\u001b[0m \u001b[1;32mfor\u001b[0m \u001b[0mi\u001b[0m \u001b[1;32min\u001b[0m \u001b[0mvts\u001b[0m \u001b[1;32mif\u001b[0m \u001b[0mi\u001b[0m\u001b[1;33m[\u001b[0m\u001b[1;33m-\u001b[0m\u001b[1;36m1\u001b[0m\u001b[1;33m]\u001b[0m\u001b[1;33m-\u001b[0m\u001b[0mi\u001b[0m\u001b[1;33m[\u001b[0m\u001b[1;36m0\u001b[0m\u001b[1;33m]\u001b[0m\u001b[1;33m>\u001b[0m\u001b[1;36m0.1e6\u001b[0m\u001b[1;33m]\u001b[0m\u001b[1;33m\u001b[0m\u001b[0m\n",
      "\u001b[1;31mNameError\u001b[0m: name 'p' is not defined"
     ]
    }
   ],
   "source": [
    "vts = getVisits(p[:,0],0.1*1e6)\n",
    "vts = [i for i in vts if len(i)>1]\n",
    "vts = [i for i in vts if i[-1]-i[0]>0.1e6]"
   ]
  },
  {
   "cell_type": "code",
   "execution_count": 14,
   "metadata": {
    "collapsed": true
   },
   "outputs": [],
   "source": [
    "allTrackbyTxt = {'A':{'spk':np.empty((0,3)),'pos':np.empty((0,3))},\n",
    "                 'B':{'spk':np.empty((0,3)),'pos':np.empty((0,3))},\n",
    "                 'C':{'spk':np.empty((0,3)),'pos':np.empty((0,3))}}\n",
    "\n",
    "allTrack = {'spk':np.empty((0,3)),'pos':np.empty((0,3))}\n",
    "alleyByTxt = {i:{'A':{'spk':None,'pos':None,'idx':None},\n",
    "                 'B':{'spk':None,'pos':None,'idx':None},\n",
    "                 'C':{'spk':None,'pos':None,'idx':None}}\n",
    "                for i in range(1,18)}\n",
    "\n",
    "for i in range(1,18):\n",
    "    for txt in ['A','B','C']:\n",
    "        s, p, x = alleyRatemapData(i,txt)\n",
    "        \n",
    "        for entry,data in zip(['spk','pos','idx'],[s,p,x]):\n",
    "            alleyByTxt[i][txt][entry] = data\n",
    "    \n",
    "        for entry, data in zip(['spk','pos'],[s,p]):\n",
    "            allTrackbyTxt[txt][entry] = np.vstack((allTrackbyTxt[txt][entry],data))\n",
    "            allTrack[entry] = np.vstack((allTrack[entry], data))"
   ]
  },
  {
   "cell_type": "code",
   "execution_count": 85,
   "metadata": {
    "collapsed": true
   },
   "outputs": [],
   "source": [
    "def makeWholeTrack2dHist(sarr,parr,bins,label='',cutoff=1,myMax=None,retRM=False):\n",
    "    '''for whole track, bins will be [int, int].\n",
    "    For alley hist (sep fx), bins will be [arr arr]'''\n",
    "    rbins, cbins = bins[0],bins[1]\n",
    "    hs = np.histogram2d(sarr[:,2],sarr[:,1],bins=[rbins,cbins])[0]\n",
    "    ho = np.histogram2d(parr[:,2],parr[:,1],bins=[rbins,cbins])[0]\n",
    "    hs[0,cbins-1] = 0\n",
    "    ho[0,cbins-1] = 0\n",
    "    n = (hs*np.reciprocal(ho))*33\n",
    "    n[np.isnan(n)] = False\n",
    "    n[np.isinf(n)] = False\n",
    "    n = gauss(n,2,mode='nearest')\n",
    "    n[np.where(ho==0)] = np.nan\n",
    "    if myMax == None:\n",
    "        _min, _max = 0.000001, np.max(n[np.where(n>0.01)])*0.75\n",
    "    else:\n",
    "        _min, _max = 0.000001, myMax\n",
    "    fig = plt.figure()\n",
    "    ax = fig.add_subplot(111)\n",
    "    im = ax.imshow(n, vmin=_min, vmax=_max, origin='lower')\n",
    "    ax.set_title(f\"Track {label}\")\n",
    "    cbar_ax = fig.add_axes([0.9, 0.15, 0.05, 0.7])\n",
    "    fig.colorbar(im, cax=cbar_ax,extend='max')\n",
    "    if label == 'All Textures' and retRM:\n",
    "            return _max, n\n",
    "    elif label == 'All Textures' and not retRM:\n",
    "            return _max\n",
    "    else:\n",
    "        return None"
   ]
  },
  {
   "cell_type": "code",
   "execution_count": 16,
   "metadata": {
    "collapsed": true
   },
   "outputs": [],
   "source": [
    "def linHist(alley,spikes,position,nanpol):\n",
    "    '''1-indexed alley. Using [arr, arr] for bins from alleyBins'''\n",
    "    rbins,cbins = alleyBins[alley-1]['rows'], alleyBins[alley-1]['cols']\n",
    "    if rbins.shape[0] < cbins.shape[0]:\n",
    "        hs = np.histogram2d(spikes[:,1],spikes[:,2],bins=[cbins,rbins])[0]\n",
    "        ho = np.histogram2d(position[:,1],position[:,2],bins=[cbins,rbins])[0]\n",
    "        ls,lo  = np.sum(hs,axis=1), np.sum(ho,axis=1)\n",
    "    else:\n",
    "        hs = np.histogram2d(spikes[:,2],spikes[:,1],bins=[rbins,cbins])[0]\n",
    "        ho = np.histogram2d(position[:,2],position[:,1],bins=[rbins,cbins])[0]\n",
    "        ls,lo  = np.sum(hs,axis=1), np.sum(ho,axis=1)\n",
    "    n = (ls*np.reciprocal(lo))*33\n",
    "    n[np.isnan(n)] = 0\n",
    "    n[np.isinf(n)] = 0\n",
    "    n = gauss(n,1,mode='nearest')\n",
    "    if nanpol == 'nan':\n",
    "        n[np.where(lo==0)] = np.nan\n",
    "    elif nanpol == 'zero':\n",
    "        n[np.where(lo==0)] = 0\n",
    "    return n\n",
    "\n",
    "    "
   ]
  },
  {
   "cell_type": "code",
   "execution_count": 17,
   "metadata": {
    "collapsed": true
   },
   "outputs": [],
   "source": [
    "def getVisits(alley,txt):\n",
    "    spikes, pos, idx = alleyByTxt[alley][txt]['spk'],alleyByTxt[alley][txt]['pos'],alleyByTxt[alley][txt]['idx']\n",
    "    sv, pv = np.split(spikes,idx[:,0]), np.split(pos,idx[:,1]) # list of subarrays\n",
    "    sv,pv\n",
    "    return sv,pv"
   ]
  },
  {
   "cell_type": "code",
   "execution_count": 18,
   "metadata": {
    "collapsed": true
   },
   "outputs": [],
   "source": [
    "def linearizeAlley(alley,txt,**kwargs):\n",
    "    '''Given spike/pos arrays corresponding to all data in alley\n",
    "    and array of indices separating different visits, linearize occ norm\n",
    "    visit and return all visits (opts='both') or just visits/mean (opt='visits'/'mean')\n",
    "    1st col of idx is spk visit indx, 2nd is pos visit idx\n",
    "    '''\n",
    "    rms = getVisits(alley, txt)\n",
    "    spikes, pos, idx = alleyByTxt[alley][txt]['spk'],alleyByTxt[alley][txt]['pos'],alleyByTxt[alley][txt]['idx']\n",
    "    sv, pv = np.split(spikes,idx[:,0]), np.split(pos,idx[:,1]) # list of subarrays\n",
    "    rms = np.empty((0,cbinNum-1))\n",
    "    for _s, _p in zip(sv,pv):\n",
    "        lv = linHist(alley,_s,_p,nanpol=kwargs['nanpol'])\n",
    "        rms = np.vstack((rms, lv))\n",
    "    return rms\n",
    "    \n",
    "    \n",
    "    \n",
    "    "
   ]
  },
  {
   "cell_type": "code",
   "execution_count": 19,
   "metadata": {
    "collapsed": true
   },
   "outputs": [],
   "source": [
    "from matplotlib.colors import LinearSegmentedColormap\n",
    "def makeCustomColormap(nb=100,name='mymap',c=[]):\n",
    "    if c ==[]:\n",
    "        c = [(0,0,1),(1,1,0),(1,0,0)]\n",
    "    mycm = LinearSegmentedColormap.from_list(cmap_name,c,N=nb)\n",
    "    return mycm"
   ]
  },
  {
   "cell_type": "code",
   "execution_count": 23,
   "metadata": {},
   "outputs": [
    {
     "name": "stderr",
     "output_type": "stream",
     "text": [
      "C:\\Users\\whock\\Anaconda3\\Lib\\site-packages\\ipykernel_launcher.py:12: RuntimeWarning: divide by zero encountered in reciprocal\n",
      "  if sys.path[0] == '':\n",
      "C:\\Users\\whock\\Anaconda3\\Lib\\site-packages\\ipykernel_launcher.py:12: RuntimeWarning: invalid value encountered in multiply\n",
      "  if sys.path[0] == '':\n",
      "C:\\Users\\whock\\Anaconda3\\Lib\\site-packages\\numpy\\core\\_methods.py:135: RuntimeWarning: Degrees of freedom <= 0 for slice\n",
      "  keepdims=keepdims)\n",
      "C:\\Users\\whock\\Anaconda3\\Lib\\site-packages\\numpy\\core\\_methods.py:125: RuntimeWarning: invalid value encountered in true_divide\n",
      "  ret, rcount, out=ret, casting='unsafe', subok=False)\n"
     ]
    }
   ],
   "source": [
    "fig, ax = plt.subplots(6,3,figsize=(10,10))\n",
    "axList = fig.axes\n",
    "visits = {i:{'A':None,'B':None,'C':None} for i in range(17)}\n",
    "for alley in range(17):\n",
    "    for txt,c in zip(['A', 'B', 'C'],['r','b','g']):\n",
    "        rms = linearizeAlley(alley+1, txt,**{'nanpol':'zero'})\n",
    "        visits[alley][txt] = rms\n",
    "        avg = np.mean(rms, axis=0)\n",
    "        err = sem(rms, axis=0)\n",
    "        axList[alley].plot(avg,f\"{c}--\")\n",
    "        axList[alley].fill_between(range(len(err)), avg+err, avg-err,color=f\"{c}\",alpha=0.5)\n",
    "        axList[alley].set_title(f\"Alley {alley+1}\")"
   ]
  },
  {
   "cell_type": "code",
   "execution_count": 24,
   "metadata": {
    "collapsed": true
   },
   "outputs": [],
   "source": [
    "def viewVisits(alley,txt, viewType):\n",
    "    '''options are \"imshow\" or \"linear\"'''\n",
    "    if viewType == 'imshow':\n",
    "        rms = linearizeAlley(alley,txt,**{'nanpol':'nan'})\n",
    "        fig = plt.figure()\n",
    "        ax = fig.add_subplot(111)\n",
    "        im = ax.imshow(rms, cmap=mycm)\n",
    "        ax.set_title(f\"Alley {alley}, Texture {txt}\")\n",
    "        cbar_ax = fig.add_axes([0.9, 0.15, 0.05, 0.7])\n",
    "        fig.colorbar(im, cax=cbar_ax,extend='max')\n",
    "    elif viewType == 'linear':\n",
    "        rms = linearizeAlley(alley, txt, **{'nanpol':'zero'})\n",
    "        fig = plt.figure()\n",
    "        ax = fig.add_subplot(111)\n",
    "        ax.set_title(f\"Alley {alley}, Texture {txt}\")\n",
    "        for i in rms:\n",
    "            plt.plot(i)\n",
    "        \n"
   ]
  },
  {
   "cell_type": "code",
   "execution_count": 96,
   "metadata": {},
   "outputs": [
    {
     "name": "stdout",
     "output_type": "stream",
     "text": [
      "TT14_cl-maze1.1\n"
     ]
    },
    {
     "name": "stderr",
     "output_type": "stream",
     "text": [
      "C:\\Users\\whock\\Anaconda3\\Lib\\site-packages\\ipykernel_launcher.py:9: RuntimeWarning: divide by zero encountered in reciprocal\n",
      "  if __name__ == '__main__':\n",
      "C:\\Users\\whock\\Anaconda3\\Lib\\site-packages\\ipykernel_launcher.py:9: RuntimeWarning: invalid value encountered in multiply\n",
      "  if __name__ == '__main__':\n",
      "C:\\Users\\whock\\Anaconda3\\Lib\\site-packages\\ipykernel_launcher.py:15: RuntimeWarning: invalid value encountered in greater\n",
      "  from ipykernel import kernelapp as app\n"
     ]
    },
    {
     "name": "stdout",
     "output_type": "stream",
     "text": [
      "Completed whole track RM\n",
      "Completed A RM\n",
      "Completed B RM\n",
      "Completed C RM\n"
     ]
    },
    {
     "name": "stderr",
     "output_type": "stream",
     "text": [
      "C:\\Users\\whock\\Anaconda3\\Lib\\site-packages\\ipykernel_launcher.py:12: RuntimeWarning: divide by zero encountered in reciprocal\n",
      "  if sys.path[0] == '':\n",
      "C:\\Users\\whock\\Anaconda3\\Lib\\site-packages\\ipykernel_launcher.py:12: RuntimeWarning: invalid value encountered in multiply\n",
      "  if sys.path[0] == '':\n",
      "C:\\Users\\whock\\Anaconda3\\Lib\\site-packages\\numpy\\core\\_methods.py:135: RuntimeWarning: Degrees of freedom <= 0 for slice\n",
      "  keepdims=keepdims)\n",
      "C:\\Users\\whock\\Anaconda3\\Lib\\site-packages\\numpy\\core\\_methods.py:125: RuntimeWarning: invalid value encountered in true_divide\n",
      "  ret, rcount, out=ret, casting='unsafe', subok=False)\n"
     ]
    },
    {
     "name": "stdout",
     "output_type": "stream",
     "text": [
      "Completed Lin Hists\n",
      "TT14_cl-maze1.2\n",
      "Completed whole track RM\n",
      "Completed A RM\n",
      "Completed B RM\n",
      "Completed C RM\n",
      "Completed Lin Hists\n",
      "TT14_cl-maze1.3\n",
      "Completed whole track RM\n",
      "Completed A RM\n",
      "Completed B RM\n",
      "Completed C RM\n",
      "Completed Lin Hists\n",
      "TT14_cl-maze1.4\n",
      "Completed whole track RM\n",
      "Completed A RM\n",
      "Completed B RM\n",
      "Completed C RM\n",
      "Completed Lin Hists\n",
      "TT14_cl-maze1.5\n",
      "Completed whole track RM\n",
      "Completed A RM\n",
      "Completed B RM\n",
      "Completed C RM\n",
      "Completed Lin Hists\n",
      "TT14_cl-maze1.6\n",
      "Completed whole track RM\n",
      "Completed A RM\n",
      "Completed B RM\n",
      "Completed C RM\n",
      "Completed Lin Hists\n",
      "TT4_cl-maze1.1\n",
      "Completed whole track RM\n",
      "Completed A RM\n",
      "Completed B RM\n",
      "Completed C RM\n",
      "Completed Lin Hists\n",
      "TT4_cl-maze1.10\n",
      "Completed whole track RM\n",
      "Completed A RM\n",
      "Completed B RM\n",
      "Completed C RM\n",
      "Completed Lin Hists\n",
      "TT4_cl-maze1.2\n",
      "Completed whole track RM\n",
      "Completed A RM\n",
      "Completed B RM\n",
      "Completed C RM\n",
      "Completed Lin Hists\n",
      "TT4_cl-maze1.3\n",
      "Completed whole track RM\n",
      "Completed A RM\n",
      "Completed B RM\n",
      "Completed C RM\n",
      "Completed Lin Hists\n",
      "TT4_cl-maze1.4\n",
      "Completed whole track RM\n",
      "Completed A RM\n",
      "Completed B RM\n",
      "Completed C RM\n",
      "Completed Lin Hists\n",
      "TT4_cl-maze1.5\n",
      "Completed whole track RM\n",
      "Completed A RM\n",
      "Completed B RM\n",
      "Completed C RM\n",
      "Completed Lin Hists\n",
      "TT4_cl-maze1.6\n",
      "Completed whole track RM\n",
      "Completed A RM\n",
      "Completed B RM\n",
      "Completed C RM\n",
      "Completed Lin Hists\n",
      "TT4_cl-maze1.7\n",
      "Completed whole track RM\n",
      "Completed A RM\n",
      "Completed B RM\n",
      "Completed C RM\n",
      "Completed Lin Hists\n",
      "TT4_cl-maze1.8\n",
      "Completed whole track RM\n",
      "Completed A RM\n",
      "Completed B RM\n",
      "Completed C RM\n",
      "Completed Lin Hists\n",
      "TT4_cl-maze1.9\n",
      "Completed whole track RM\n",
      "Completed A RM\n",
      "Completed B RM\n",
      "Completed C RM\n",
      "Completed Lin Hists\n",
      "TT6_cl-maze1.1\n",
      "Completed whole track RM\n",
      "Completed A RM\n",
      "Completed B RM\n",
      "Completed C RM\n",
      "Completed Lin Hists\n",
      "TT6_cl-maze1.2\n",
      "Completed whole track RM\n",
      "Completed A RM\n",
      "Completed B RM\n",
      "Completed C RM\n",
      "Completed Lin Hists\n",
      "TT6_cl-maze1.3\n",
      "Completed whole track RM\n",
      "Completed A RM\n",
      "Completed B RM\n",
      "Completed C RM\n",
      "Completed Lin Hists\n",
      "TT7_cl-maze1.1\n",
      "Completed whole track RM\n",
      "Completed A RM\n",
      "Completed B RM\n",
      "Completed C RM\n",
      "Completed Lin Hists\n",
      "TT7_cl-maze1.2\n",
      "Completed whole track RM\n",
      "Completed A RM\n",
      "Completed B RM\n",
      "Completed C RM\n",
      "Completed Lin Hists\n",
      "TT7_cl-maze1.3\n",
      "Completed whole track RM\n",
      "Completed A RM\n",
      "Completed B RM\n",
      "Completed C RM\n",
      "Completed Lin Hists\n",
      "TT7_cl-maze1.4\n",
      "Completed whole track RM\n",
      "Completed A RM\n",
      "Completed B RM\n",
      "Completed C RM\n",
      "Completed Lin Hists\n",
      "TT7_cl-maze1.5\n",
      "Completed whole track RM\n",
      "Completed A RM\n",
      "Completed B RM\n",
      "Completed C RM\n",
      "Completed Lin Hists\n",
      "TT7_cl-maze1.6\n",
      "Completed whole track RM\n",
      "Completed A RM\n",
      "Completed B RM\n",
      "Completed C RM\n",
      "Completed Lin Hists\n",
      "TT7_cl-maze1.7\n",
      "Completed whole track RM\n",
      "Completed A RM\n",
      "Completed B RM\n",
      "Completed C RM\n",
      "Completed Lin Hists\n",
      "TT7_cl-maze1.8\n",
      "Completed whole track RM\n",
      "Completed A RM\n",
      "Completed B RM\n",
      "Completed C RM\n",
      "Completed Lin Hists\n",
      "TT8_cl-maze1.1\n",
      "Completed whole track RM\n",
      "Completed A RM\n",
      "Completed B RM\n",
      "Completed C RM\n",
      "Completed Lin Hists\n",
      "TT8_cl-maze1.2\n",
      "Completed whole track RM\n",
      "Completed A RM\n",
      "Completed B RM\n",
      "Completed C RM\n",
      "Completed Lin Hists\n",
      "TT8_cl-maze1.3\n",
      "Completed whole track RM\n",
      "Completed A RM\n",
      "Completed B RM\n",
      "Completed C RM\n",
      "Completed Lin Hists\n",
      "TT8_cl-maze1.4\n",
      "Completed whole track RM\n",
      "Completed A RM\n",
      "Completed B RM\n",
      "Completed C RM\n",
      "Completed Lin Hists\n",
      "TT8_cl-maze1.5\n",
      "Completed whole track RM\n",
      "Completed A RM\n",
      "Completed B RM\n",
      "Completed C RM\n",
      "Completed Lin Hists\n",
      "TT8_cl-maze1.6\n",
      "Completed whole track RM\n",
      "Completed A RM\n",
      "Completed B RM\n",
      "Completed C RM\n",
      "Completed Lin Hists\n",
      "TT8_cl-maze1.7\n",
      "Completed whole track RM\n",
      "Completed A RM\n",
      "Completed B RM\n",
      "Completed C RM\n",
      "Completed Lin Hists\n"
     ]
    }
   ],
   "source": [
    "for subdir, dirs, fs in os.walk(datafile):\n",
    "    for f in fs:\n",
    "        if 'cl-maze' in f and 'OLD' not in f and 'Undefined' not in f:\n",
    "            clustname = subdir[subdir.index(\"TT\"):] + \"_\" + f\n",
    "            print(clustname)\n",
    "            clust = util.read_clust(datafile+clustname.split(\"_\")[0]+\"\\\\\"+clustname.split(\"_\")[1])\n",
    "            clust = np.asarray(clust)\n",
    "            ts = np.asarray(sorted(list(pos.keys())))\n",
    "            posx = [640 - pos[i][0] for i in ts]\n",
    "            posy = [pos[i][1] for i in ts]\n",
    "            for t in ts:\n",
    "                pos[t][0] = 640 - pos[t][0]\n",
    "            position = np.column_stack((ts,posx,posy))\n",
    "            spikexy = getPosFromTs(clust)\n",
    "            spikes = np.column_stack((clust,spikexy))\n",
    "            spikes = spikes[np.where(spikes[:,2] > 50)]\n",
    "            position = position[np.where(position[:,2] > 50)]\n",
    "            \n",
    "            allTrackbyTxt = {'A':{'spk':np.empty((0,3)),'pos':np.empty((0,3))},\n",
    "                 'B':{'spk':np.empty((0,3)),'pos':np.empty((0,3))},\n",
    "                 'C':{'spk':np.empty((0,3)),'pos':np.empty((0,3))}}\n",
    "\n",
    "            allTrack = {'spk':np.empty((0,3)),'pos':np.empty((0,3))}\n",
    "            alleyByTxt = {i:{'A':{'spk':None,'pos':None,'idx':None},\n",
    "                             'B':{'spk':None,'pos':None,'idx':None},\n",
    "                             'C':{'spk':None,'pos':None,'idx':None}}\n",
    "                            for i in range(1,18)}\n",
    "\n",
    "            for i in range(1,18):\n",
    "                for txt in ['A','B','C']:\n",
    "                    s, p, x = alleyRatemapData(i,txt)\n",
    "\n",
    "                    for entry,data in zip(['spk','pos','idx'],[s,p,x]):\n",
    "                        alleyByTxt[i][txt][entry] = data\n",
    "\n",
    "                    for entry, data in zip(['spk','pos'],[s,p]):\n",
    "                        allTrackbyTxt[txt][entry] = np.vstack((allTrackbyTxt[txt][entry],data))\n",
    "                        allTrack[entry] = np.vstack((allTrack[entry], data))\n",
    "\n",
    "            with PdfPages(savepath+dayname+clustname+\".pdf\") as pdf:\n",
    "                allMax = makeWholeTrack2dHist(allTrack['spk'],allTrack['pos'],[40,60],label='All Textures',cutoff=15,myMax=None,retRM=False)\n",
    "                pdf.savefig()\n",
    "                plt.close()\n",
    "                print(\"Completed whole track RM\")\n",
    "                for txt in ['A','B','C']:\n",
    "                    _ = makeWholeTrack2dHist(allTrackbyTxt[txt]['spk'],allTrackbyTxt[txt]['pos'],[40,60],label=txt,cutoff=15,myMax=allMax,retRM=False)\n",
    "                    pdf.savefig()\n",
    "                    plt.close()\n",
    "                    print(f\"Completed {txt} RM\")\n",
    "                    \n",
    "                fig, ax = plt.subplots(6,3,figsize=(10,10))\n",
    "                axList = fig.axes\n",
    "                visits = {i:{'A':None,'B':None,'C':None} for i in range(17)}\n",
    "                for alley in range(17):\n",
    "                    for txt,c in zip(['A', 'B', 'C'],['r','b','g']):\n",
    "                        rms = linearizeAlley(alley+1, txt,**{'nanpol':'zero'})\n",
    "                        visits[alley][txt] = rms\n",
    "                        avg = np.mean(rms, axis=0)\n",
    "                        err = sem(rms, axis=0)\n",
    "                        axList[alley].plot(avg,f\"{c}--\")\n",
    "                        axList[alley].fill_between(range(len(err)), avg+err, avg-err,color=f\"{c}\",alpha=0.5)\n",
    "                        axList[alley].set_title(f\"Alley {alley+1}\")\n",
    "                pdf.savefig()\n",
    "                plt.close()\n",
    "                print(\"Completed Lin Hists\")"
   ]
  },
  {
   "cell_type": "markdown",
   "metadata": {
    "collapsed": true
   },
   "source": [
    "### Simulating ways of linearizing "
   ]
  },
  {
   "cell_type": "code",
   "execution_count": null,
   "metadata": {
    "collapsed": true
   },
   "outputs": [],
   "source": [
    "medians = []\n",
    "avgs = []\n",
    "lins = []\n",
    "for i in range(1000):\n",
    "    nums = [np.random.randint(0,20) for i in range(100)]\n",
    "    denoms = [np.random.randint(3,80) for i in range(100)]\n",
    "    ratios = [a/b for a,b in zip(nums,denoms)]\n",
    "    avgs.append(np.mean(ratios))\n",
    "    lins.append(np.sum(nums)/np.sum(denoms))\n",
    "    medians.append(np.median(ratios))"
   ]
  },
  {
   "cell_type": "code",
   "execution_count": null,
   "metadata": {
    "collapsed": true
   },
   "outputs": [],
   "source": [
    "for data,color,l in zip([avgs,lins,medians],['r','b','g'],[\"Average\",\"'Linearized'\",\"Medians\"]):\n",
    "    plt.plot(data,f\"{color}\",label=l)\n",
    "    plt.legend([\"Average\",\"'Linearized'\",\"Medians\"],fontsize=20)"
   ]
  },
  {
   "cell_type": "code",
   "execution_count": null,
   "metadata": {
    "collapsed": true
   },
   "outputs": [],
   "source": [
    "diffLinAvg = [(a-b)/a for a,b in zip(lins,avgs)]\n",
    "diffLinMed = [(a-b)/a for a,b in zip(lins,medians)]"
   ]
  }
 ],
 "metadata": {
  "kernelspec": {
   "display_name": "Python 3",
   "language": "python",
   "name": "python3"
  },
  "language_info": {
   "codemirror_mode": {
    "name": "ipython",
    "version": 3
   },
   "file_extension": ".py",
   "mimetype": "text/x-python",
   "name": "python",
   "nbconvert_exporter": "python",
   "pygments_lexer": "ipython3",
   "version": "3.6.3"
  },
  "name": "Untitled1.ipynb"
 },
 "nbformat": 4,
 "nbformat_minor": 2
}
