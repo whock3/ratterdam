{
 "cells": [
  {
   "cell_type": "markdown",
   "metadata": {},
   "source": [
    "# Ratterdam Linear Models\n",
    "## Linear Mixed Effects Models, using Generalized framework if needed. Oct 2020. "
   ]
  },
  {
   "cell_type": "markdown",
   "metadata": {},
   "source": [
    "### Imports and global settings"
   ]
  },
  {
   "cell_type": "code",
   "execution_count": 1,
   "metadata": {
    "collapsed": true
   },
   "outputs": [],
   "source": [
    "import ratterdam_CoreDataStructures as Core\n",
    "import ratterdam_ParseBehavior as Parse\n",
    "import numpy as np\n",
    "from scipy.stats import sem, binom_test, shapiro, bartlett\n",
    "import utility_fx as util\n",
    "import os\n",
    "from matplotlib import pyplot as plt\n",
    "from matplotlib.backends.backend_pdf import PdfPages\n",
    "import ratterdam_Defaults as Def\n",
    "import ratterdam_visBasic as Vis\n",
    "import ratterdam_DataFiltering as Filt\n",
    "import pandas as pd\n",
    "import statsmodels.api as sm\n",
    "from statsmodels.formula.api import ols\n",
    "import statsmodels.stats.multicomp\n",
    "from scipy.stats import kruskal"
   ]
  },
  {
   "cell_type": "code",
   "execution_count": 2,
   "metadata": {
    "collapsed": true
   },
   "outputs": [],
   "source": [
    "%qtconsole --style native\n",
    "%matplotlib qt5"
   ]
  },
  {
   "cell_type": "markdown",
   "metadata": {},
   "source": [
    "### Load Data"
   ]
  },
  {
   "cell_type": "code",
   "execution_count": 14,
   "metadata": {},
   "outputs": [
    {
     "name": "stderr",
     "output_type": "stream",
     "text": [
      "E:\\UserData\\Documents\\GitHub\\ratterdam\\ratterdam_CoreDataStructures.py:174: RuntimeWarning: divide by zero encountered in reciprocal\n",
      "  n = (hs*np.reciprocal(ho))*30\n",
      "E:\\UserData\\Documents\\GitHub\\ratterdam\\ratterdam_CoreDataStructures.py:174: RuntimeWarning: invalid value encountered in multiply\n",
      "  n = (hs*np.reciprocal(ho))*30\n",
      "E:\\UserData\\Documents\\GitHub\\ratterdam\\ratterdam_CoreDataStructures.py:180: RuntimeWarning: divide by zero encountered in reciprocal\n",
      "  n = (ls* np.reciprocal(lo)) * 30\n",
      "E:\\UserData\\Documents\\GitHub\\ratterdam\\ratterdam_CoreDataStructures.py:180: RuntimeWarning: invalid value encountered in multiply\n",
      "  n = (ls* np.reciprocal(lo)) * 30\n",
      "E:\\UserData\\Documents\\GitHub\\ratterdam\\utility_fx.py:329: RuntimeWarning: invalid value encountered in true_divide\n",
      "  Z=VV/WW\n"
     ]
    },
    {
     "name": "stdout",
     "output_type": "stream",
     "text": [
      "TT11\\cl-maze1.1\n",
      "TT11\\cl-maze1.2\n",
      "TT12\\cl-maze1.1\n",
      "TT12\\cl-maze1.2\n",
      "TT3\\cl-maze1.3\n",
      "TT3\\cl-maze1.4\n",
      "TT3\\cl-maze1.5\n",
      "TT3\\cl-maze1.6\n",
      "TT3\\cl-maze1.7\n",
      "TT3\\cl-maze1.8\n",
      "TT5\\cl-maze1.1\n",
      "TT5\\cl-maze1.3\n",
      "TT6\\cl-maze1.1\n",
      "TT6\\cl-maze1.2\n",
      "TT6\\cl-maze1.3\n",
      "TT6\\cl-maze1.4\n",
      "TT6\\cl-maze1.6\n",
      "TT6\\cl-maze1.7\n",
      "TT6\\cl-maze1.8\n",
      "TT6\\cl-maze1.9\n",
      "TT9\\cl-maze1.1\n",
      "TT9\\cl-maze1.2\n",
      "TT9\\cl-maze1.5\n",
      "TT9\\cl-maze1.6\n",
      "TT9\\cl-maze1.7\n"
     ]
    }
   ],
   "source": [
    "rat = 'R781'\n",
    "expCode = 'BRD3'\n",
    "datafile = f'E:\\\\Ratterdam\\\\{rat}\\\\{rat}{expCode}\\\\'\n",
    "savepath = f'E:\\\\Ratterdam\\\\{rat}\\\\anovas\\\\'\n",
    "\n",
    "alleyTracking, alleyVisits,  txtVisits, p_sess, ts_sess = Parse.getDaysBehavioralData(datafile, expCode)\n",
    "clustlist = util.getClustList(datafile)\n",
    "population = {}\n",
    "\n",
    "for clust in clustlist:\n",
    "    unit = Core.UnitData(clust, datafile, expCode, Def.alleyBounds, alleyVisits, txtVisits, p_sess, ts_sess)\n",
    "    unit.loadData_raw()\n",
    "    validalleys = []\n",
    "    valid, acorr, alleys = util.checkInclusion(unit, 1)\n",
    "    if valid:\n",
    "        print(clust)\n",
    "        unit.acorr = acorr\n",
    "        unit.validAlleys = alleys\n",
    "        population[clust] = unit"
   ]
  },
  {
   "cell_type": "markdown",
   "metadata": {},
   "source": [
    "### Create \"Long Form\" of Data. Single Day\n",
    "#### Nested Structure: Cell > trial > texture > reward > spatial bin. "
   ]
  },
  {
   "cell_type": "code",
   "execution_count": null,
   "metadata": {
    "collapsed": true
   },
   "outputs": [],
   "source": [
    "cells, trials, textures, rewards, spatialBins = [], [], [], [], []\n",
    "\n",
    "for cellID, (unitname, unit) in enumerate(population.items()):\n",
    "    for alley in unit.validAlleys:\n",
    "        for i,visit in enumerate(unit.alleys[alley]):\n",
    "            cells.append(cellID)\n",
    "            trials.append(i)\n",
    "            "
   ]
  }
 ],
 "metadata": {
  "kernelspec": {
   "display_name": "Python 3",
   "language": "python",
   "name": "python3"
  },
  "language_info": {
   "codemirror_mode": {
    "name": "ipython",
    "version": 3
   },
   "file_extension": ".py",
   "mimetype": "text/x-python",
   "name": "python",
   "nbconvert_exporter": "python",
   "pygments_lexer": "ipython3",
   "version": "3.6.3"
  }
 },
 "nbformat": 4,
 "nbformat_minor": 2
}
