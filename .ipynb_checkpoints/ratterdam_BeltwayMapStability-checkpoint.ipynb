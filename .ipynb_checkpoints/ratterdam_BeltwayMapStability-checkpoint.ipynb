{
 "cells": [
  {
   "cell_type": "markdown",
   "metadata": {},
   "source": [
    "# Beltway - Analyzing How Remapping Affects Map Stability - Localized changes in field, COM shifts\n",
    "## Feb 14 2021 WH"
   ]
  },
  {
   "cell_type": "markdown",
   "metadata": {},
   "source": [
    "### Imports"
   ]
  },
  {
   "cell_type": "code",
   "execution_count": 28,
   "metadata": {
    "collapsed": true
   },
   "outputs": [],
   "source": [
    "import ratterdam_CoreDataStructures as Core\n",
    "import ratterdam_ParseBehavior as Parse\n",
    "import numpy as np\n",
    "import utility_fx as util\n",
    "import ratterdam_Defaults as Def\n",
    "import ratterdam_DataFiltering as Filt\n",
    "import pandas as pd\n",
    "from collections import OrderedDict\n",
    "import scipy.ndimage # use center_of_mass from here"
   ]
  },
  {
   "cell_type": "code",
   "execution_count": 2,
   "metadata": {
    "collapsed": true
   },
   "outputs": [],
   "source": [
    "%qtconsole --style paraiso-dark"
   ]
  },
  {
   "cell_type": "markdown",
   "metadata": {},
   "source": [
    "### Load Day Population"
   ]
  },
  {
   "cell_type": "code",
   "execution_count": 81,
   "metadata": {
    "scrolled": true
   },
   "outputs": [
    {
     "name": "stderr",
     "output_type": "stream",
     "text": [
      "E:\\UserData\\Documents\\GitHub\\ratterdam\\Beltway_Project\\ratterdam_CoreDataStructures.py:178: RuntimeWarning: divide by zero encountered in reciprocal\n",
      "  n = (hs*np.reciprocal(ho))*30\n",
      "E:\\UserData\\Documents\\GitHub\\ratterdam\\Beltway_Project\\ratterdam_CoreDataStructures.py:178: RuntimeWarning: invalid value encountered in multiply\n",
      "  n = (hs*np.reciprocal(ho))*30\n",
      "E:\\UserData\\Documents\\GitHub\\ratterdam\\Beltway_Project\\ratterdam_CoreDataStructures.py:184: RuntimeWarning: divide by zero encountered in reciprocal\n",
      "  n = (ls* np.reciprocal(lo)) * 30\n",
      "E:\\UserData\\Documents\\GitHub\\ratterdam\\Beltway_Project\\ratterdam_CoreDataStructures.py:184: RuntimeWarning: invalid value encountered in multiply\n",
      "  n = (ls* np.reciprocal(lo)) * 30\n",
      "E:\\UserData\\Documents\\GitHub\\ratterdam\\utility_fx.py:330: RuntimeWarning: invalid value encountered in true_divide\n",
      "  Z=VV/WW\n",
      "E:\\UserData\\Documents\\GitHub\\ratterdam\\utility_fx.py:680: RuntimeWarning: Mean of empty slice\n",
      "  mean = np.nanmean(rms, axis=0)\n",
      "E:\\UserData\\Documents\\GitHub\\ratterdam\\utility_fx.py:682: RuntimeWarning: invalid value encountered in greater_equal\n",
      "  fi = np.where(mean>=rthresh)[0]\n"
     ]
    },
    {
     "name": "stdout",
     "output_type": "stream",
     "text": [
      "TT13\\cl-maze1.1\n",
      "TT13\\cl-maze1.3\n",
      "TT13\\cl-maze1.5\n",
      "TT6\\cl-maze1.2\n",
      "TT6\\cl-maze1.4\n",
      "TT6\\cl-maze1.6\n",
      "TT6\\cl-maze1.7\n",
      "TT6\\cl-maze1.8\n",
      "TT6\\cl-maze1.9\n",
      "TT7\\cl-maze1.2\n",
      "TT7\\cl-maze1.3\n",
      "TT8\\cl-maze1.1\n",
      "TT8\\cl-maze1.3\n",
      "TT8\\cl-maze1.4\n",
      "TT8\\cl-maze1.5\n",
      "TT8\\cl-maze1.6\n",
      "TT8\\cl-maze1.7\n"
     ]
    }
   ],
   "source": [
    "rat = 'R859'\n",
    "expCode = 'BRD3'\n",
    "datafile = f'E:\\\\Ratterdam\\\\{rat}\\\\{rat}{expCode}\\\\'\n",
    "\n",
    "qualThresh = 2\n",
    "alleyTracking, alleyVisits,  txtVisits, p_sess, ts_sess = Parse.getDaysBehavioralData(datafile, expCode)\n",
    "clustlist, clustQuals = util.getClustList(datafile) # clustList and clustQuals share same order. ith entry in each is the name and qual of same cell. \n",
    "population = OrderedDict()\n",
    "\n",
    "# Load Data\n",
    "for i,clust in enumerate(clustlist):\n",
    "    if clustQuals[i] >= qualThresh:\n",
    "        unit = Core.UnitData(clust, datafile, expCode, Def.alleyBounds, alleyVisits, txtVisits, p_sess, ts_sess)\n",
    "        unit.loadData_raw()\n",
    "        validalleys = []\n",
    "        valid, acorr, alleys = util.checkInclusion(unit, 3) # 2nd arg to util.checkInclusion is how many comps made per alley. This \n",
    "                                                            # value (usually 3) is not being saved here and is defined in the relevant R code so ignore it here\n",
    "        if valid:\n",
    "            print(clust)\n",
    "            unit.acorr = acorr\n",
    "            unit.validAlleys = alleys\n",
    "            population[clust] = unit"
   ]
  },
  {
   "cell_type": "markdown",
   "metadata": {},
   "source": [
    "### Significant Units for the indicated days according to LMER run 2-13-21 \n",
    "sigUnits= {'R781BRD3':\n",
    "[\n",
    "('TT3\\\\cl-maze1.1',6),\n",
    "  ('TT3\\\\cl-maze1.2',6),\n",
    "  ('TT3\\\\cl-maze1.8',6),\n",
    "  ('TT5\\\\cl-maze1.1',7)],\n",
    " 'R781BRD4': [\n",
    "('TT3\\\\cl-maze1.1',9),\n",
    "  ('TT3\\\\cl-maze1.6',9),\n",
    "  ('TT6\\\\cl-maze1.7',9),\n",
    "  ('TT9\\\\cl-maze1.1',9)],\n",
    " 'R808BRD6': [\n",
    "('TT1\\\\cl-maze1.1',5),\n",
    "  ('TT5\\\\cl-maze1.5',9),\n",
    "  ('TT6\\\\cl-maze1.1',4),\n",
    "  ('TT6\\\\cl-maze1.2',3)],\n",
    " 'R859BRD3': [\n",
    "('TT13\\\\cl-maze1.2',1),\n",
    "  ('TT6\\\\cl-maze1.2',8),\n",
    "  ('TT7\\\\cl-maze1.3',1),\n",
    "  ('TT8\\\\cl-maze1.1',8)],\n",
    " 'R859BRD5': [\n",
    "('TT1\\\\cl-maze1.6',4),\n",
    "  ('TT10\\\\cl-maze1.6',1),\n",
    "  ('TT13\\\\cl-maze1.1',7),\n",
    "  ('TT13\\\\cl-maze1.4',8),\n",
    "  ('TT6\\\\cl-maze1.3',1),\n",
    "  (\"TT6\\\\cl-maze1.9\",9)]}"
   ]
  },
  {
   "cell_type": "code",
   "execution_count": 82,
   "metadata": {
    "collapsed": true
   },
   "outputs": [],
   "source": [
    "for name in population.keys():\n",
    "    if name in sigUnits[rat+expCode]:\n",
    "        population[name].sigLMER = True\n",
    "    else:\n",
    "        population[name].sigLMER = False\n",
    "superPopulation[rat+expCode] = population"
   ]
  },
  {
   "cell_type": "code",
   "execution_count": 54,
   "metadata": {
    "collapsed": true
   },
   "outputs": [],
   "source": [
    "def calcPairDeltaCOM(x, y):\n",
    "    \"\"\"\n",
    "    Input: x,y are (Def.singleAlleyBins[0]-1,) np array\n",
    "            containing the session average 1d RM for textures\n",
    "            x,y\n",
    "    center of mass from scipy.ndimage is calculated on (nan masked)\n",
    "    each vector and unsigned difference is returned. \n",
    "    \"\"\"\n",
    "    \n",
    "    xmask = np.ma.array(x,mask=np.isnan(x))\n",
    "    ymask = np.ma.array(y,mask=np.isnan(y))\n",
    "    comx, comy = scipy.ndimage.center_of_mass(xmask)[0], scipy.ndimage.center_of_mass(ymask)[0]\n",
    "    deltacom = np.abs(comx-comy)\n",
    "    \n",
    "    return deltacom\n"
   ]
  },
  {
   "cell_type": "code",
   "execution_count": 64,
   "metadata": {
    "collapsed": true
   },
   "outputs": [],
   "source": [
    "def calcMaxDeltaCOM(unit, alley):\n",
    "    \"\"\"\n",
    "    \"\"\"\n",
    "    maxCOM = 0\n",
    "    for pair in [['A','B'], ['B','C'],['A','C']]:\n",
    "        rmx = unit.linRMS[alley][pair[0]]\n",
    "        rmy = unit.linRMS[alley][pair[1]]\n",
    "        dcom = calcPairDeltaCOM(rmx,rmy)\n",
    "        if dcom > maxCOM:\n",
    "            maxCOM = dcom\n",
    "    #maxCOM is in bins, convert to cm\n",
    "    maxCOM = maxCOM * Def.cmPerBin\n",
    "    \n",
    "    return maxCOM"
   ]
  },
  {
   "cell_type": "code",
   "execution_count": 71,
   "metadata": {
    "collapsed": true
   },
   "outputs": [],
   "source": [
    "def calcPairABC(x,y):\n",
    "    \"\"\"\n",
    "    Input: x,y are (Def.singleAlleyBins[0]-1,) np array\n",
    "            containing the session average 1d RM for textures\n",
    "            x,y\n",
    "            \n",
    "    Area between curves (ABC) is found by taking the\n",
    "    unsigned difference in the curves then the area\n",
    "    by np.trapz. Returns ABC in cm. \n",
    "    \"\"\"\n",
    "    xmask = np.ma.array(x,mask=np.isnan(x))\n",
    "    ymask = np.ma.array(y,mask=np.isnan(y))\n",
    "    unsigndiff = np.abs(np.diff(xmask-ymask))\n",
    "    area = np.trapz(unsigndiff, dx=1)\n",
    "    \n",
    "    return area"
   ]
  },
  {
   "cell_type": "code",
   "execution_count": 66,
   "metadata": {
    "collapsed": true
   },
   "outputs": [],
   "source": [
    "def calcMaxABC(unit, alley):\n",
    "    maxABC = 0\n",
    "    for pair in [['A','B'], ['B','C'],['A','C']]:\n",
    "        rmx = unit.linRMS[alley][pair[0]]\n",
    "        rmy = unit.linRMS[alley][pair[1]]\n",
    "        abc = calcPairABC(rmx,rmy)\n",
    "        if abc > maxABC:\n",
    "            maxABC = abc\n",
    "    #maxABC already in cm \n",
    "    \n",
    "    return maxABC"
   ]
  },
  {
   "cell_type": "code",
   "execution_count": null,
   "metadata": {
    "collapsed": true
   },
   "outputs": [],
   "source": []
  },
  {
   "cell_type": "code",
   "execution_count": null,
   "metadata": {
    "collapsed": true
   },
   "outputs": [],
   "source": []
  },
  {
   "cell_type": "code",
   "execution_count": 90,
   "metadata": {},
   "outputs": [],
   "source": [
    "for name,unit in superPopulation['R859BRD5'].items():\n",
    "    for alley in unit.validAlleys:\n",
    "        abc, dcom = calcMaxABC(unit, alley), calcMaxDeltaCOM(unit, alley)\n",
    "        color = 'r' if unit.sigLMER == True else 'grey'\n",
    "        plt.scatter(abc, dcom, s=30, color=color,edgecolor='k')\n",
    "        \n",
    "for name,unit in superPopulation['R859BRD3'].items():\n",
    "    for alley in unit.validAlleys:\n",
    "        abc, dcom = calcMaxABC(unit, alley), calcMaxDeltaCOM(unit, alley)\n",
    "        color = 'r' if unit.sigLMER == True else 'grey'\n",
    "        plt.scatter(abc, dcom, s=30, color=color,edgecolor='k')"
   ]
  },
  {
   "cell_type": "code",
   "execution_count": null,
   "metadata": {
    "collapsed": true
   },
   "outputs": [],
   "source": []
  }
 ],
 "metadata": {
  "kernelspec": {
   "display_name": "Python 3",
   "language": "python",
   "name": "python3"
  },
  "language_info": {
   "codemirror_mode": {
    "name": "ipython",
    "version": 3
   },
   "file_extension": ".py",
   "mimetype": "text/x-python",
   "name": "python",
   "nbconvert_exporter": "python",
   "pygments_lexer": "ipython3",
   "version": "3.6.3"
  }
 },
 "nbformat": 4,
 "nbformat_minor": 2
}
