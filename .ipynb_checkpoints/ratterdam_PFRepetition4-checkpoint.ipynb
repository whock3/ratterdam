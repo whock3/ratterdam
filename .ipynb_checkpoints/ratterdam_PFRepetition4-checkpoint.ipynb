{
 "cells": [
  {
   "cell_type": "markdown",
   "metadata": {},
   "source": [
    "# Ratterdam - Place Field Repetition - Field Dynamics Exploration\n",
    "### WH Mid August 2020\n",
    "### Goal is to explore the variables contributing to PF repetition and specifically temporal field dynamics"
   ]
  },
  {
   "cell_type": "code",
   "execution_count": 5,
   "metadata": {
    "collapsed": true
   },
   "outputs": [],
   "source": [
    "import ratterdam_CoreDataStructures as Core\n",
    "import ratterdam_ParseBehavior as Parse\n",
    "import numpy as np\n",
    "from importlib import reload\n",
    "from scipy.stats import sem\n",
    "import utility_fx as util\n",
    "import os\n",
    "import matplotlib.gridspec as gridspec\n",
    "from matplotlib import pyplot as plt\n",
    "import ratterdam_Defaults as Def\n",
    "import ratterdam_visBasic as Vis\n",
    "import RateMapClass_William_20190308 as RateMapClass\n",
    "import ratterdam_RepetitionCoreFx as RepCore\n",
    "import williamDefaults as wmDef\n",
    "from matplotlib.backends.backend_pdf import PdfPages\n",
    "import more_itertools, itertools\n",
    "from sklearn.metrics import auc\n",
    "import alphashape\n",
    "from descartes import PolygonPatch\n",
    "from scipy.interpolate import splrep, splev\n",
    "from scipy.spatial import ConvexHull\n",
    "import scipy"
   ]
  },
  {
   "cell_type": "code",
   "execution_count": 3,
   "metadata": {
    "collapsed": true
   },
   "outputs": [],
   "source": [
    "%qtconsole --style native\n",
    "%matplotlib qt5"
   ]
  },
  {
   "cell_type": "code",
   "execution_count": 149,
   "metadata": {},
   "outputs": [
    {
     "name": "stderr",
     "output_type": "stream",
     "text": [
      "E:\\UserData\\Documents\\GitHub\\ratterdam\\RateMapClass_William_20190308.py:210: RuntimeWarning: invalid value encountered in greater_equal\n",
      "  aboveThreshold = np.where(rateMap >= max(fieldThreshold,0), True, False)\n",
      "C:\\Users\\whockei1\\AppData\\Roaming\\Python\\Python36\\site-packages\\skimage\\morphology\\_deprecated.py:5: skimage_deprecation: Function ``watershed`` is deprecated and will be removed in version 0.19. Use ``skimage.segmentation.watershed`` instead.\n",
      "  def watershed(image, markers=None, connectivity=1, offset=None, mask=None,\n",
      "C:\\Users\\whockei1\\AppData\\Roaming\\Python\\Python36\\site-packages\\skimage\\morphology\\_deprecated.py:5: skimage_deprecation: Function ``watershed`` is deprecated and will be removed in version 0.19. Use ``skimage.segmentation.watershed`` instead.\n",
      "  def watershed(image, markers=None, connectivity=1, offset=None, mask=None,\n",
      "C:\\Users\\whockei1\\AppData\\Roaming\\Python\\Python36\\site-packages\\skimage\\morphology\\_deprecated.py:5: skimage_deprecation: Function ``watershed`` is deprecated and will be removed in version 0.19. Use ``skimage.segmentation.watershed`` instead.\n",
      "  def watershed(image, markers=None, connectivity=1, offset=None, mask=None,\n",
      "C:\\Users\\whockei1\\AppData\\Roaming\\Python\\Python36\\site-packages\\skimage\\morphology\\_deprecated.py:5: skimage_deprecation: Function ``watershed`` is deprecated and will be removed in version 0.19. Use ``skimage.segmentation.watershed`` instead.\n",
      "  def watershed(image, markers=None, connectivity=1, offset=None, mask=None,\n",
      "C:\\Users\\whockei1\\AppData\\Roaming\\Python\\Python36\\site-packages\\skimage\\morphology\\_deprecated.py:5: skimage_deprecation: Function ``watershed`` is deprecated and will be removed in version 0.19. Use ``skimage.segmentation.watershed`` instead.\n",
      "  def watershed(image, markers=None, connectivity=1, offset=None, mask=None,\n",
      "C:\\Users\\whockei1\\AppData\\Roaming\\Python\\Python36\\site-packages\\skimage\\morphology\\_deprecated.py:5: skimage_deprecation: Function ``watershed`` is deprecated and will be removed in version 0.19. Use ``skimage.segmentation.watershed`` instead.\n",
      "  def watershed(image, markers=None, connectivity=1, offset=None, mask=None,\n",
      "C:\\Users\\whockei1\\AppData\\Roaming\\Python\\Python36\\site-packages\\skimage\\morphology\\_deprecated.py:5: skimage_deprecation: Function ``watershed`` is deprecated and will be removed in version 0.19. Use ``skimage.segmentation.watershed`` instead.\n",
      "  def watershed(image, markers=None, connectivity=1, offset=None, mask=None,\n",
      "C:\\Users\\whockei1\\AppData\\Roaming\\Python\\Python36\\site-packages\\skimage\\morphology\\_deprecated.py:5: skimage_deprecation: Function ``watershed`` is deprecated and will be removed in version 0.19. Use ``skimage.segmentation.watershed`` instead.\n",
      "  def watershed(image, markers=None, connectivity=1, offset=None, mask=None,\n",
      "C:\\Users\\whockei1\\AppData\\Roaming\\Python\\Python36\\site-packages\\skimage\\morphology\\_deprecated.py:5: skimage_deprecation: Function ``watershed`` is deprecated and will be removed in version 0.19. Use ``skimage.segmentation.watershed`` instead.\n",
      "  def watershed(image, markers=None, connectivity=1, offset=None, mask=None,\n",
      "C:\\Users\\whockei1\\AppData\\Roaming\\Python\\Python36\\site-packages\\skimage\\morphology\\_deprecated.py:5: skimage_deprecation: Function ``watershed`` is deprecated and will be removed in version 0.19. Use ``skimage.segmentation.watershed`` instead.\n",
      "  def watershed(image, markers=None, connectivity=1, offset=None, mask=None,\n",
      "C:\\Users\\whockei1\\AppData\\Roaming\\Python\\Python36\\site-packages\\skimage\\morphology\\_deprecated.py:5: skimage_deprecation: Function ``watershed`` is deprecated and will be removed in version 0.19. Use ``skimage.segmentation.watershed`` instead.\n",
      "  def watershed(image, markers=None, connectivity=1, offset=None, mask=None,\n",
      "E:\\UserData\\Documents\\GitHub\\ratterdam\\ratterdam_RepetitionCoreFx.py:108: RuntimeWarning: invalid value encountered in double_scalars\n",
      "  field_FR.append(spk.shape[0]/vdur)\n"
     ]
    },
    {
     "name": "stdout",
     "output_type": "stream",
     "text": [
      "1.4774651645812056\n",
      "0.26971992137828066\n",
      "0.7272776122077441\n",
      "0.04595286884490898\n",
      "0.0759418890819691\n",
      "0.003553151880919795\n",
      "0.4807152384711971\n",
      "0.009616525717953465\n"
     ]
    }
   ],
   "source": [
    "rat = \"R859\"\n",
    "day = \"D3\"\n",
    "savepath = f'E:\\\\Ratterdam\\\\{rat}\\\\ratterdam_plots\\\\{day}\\\\'\n",
    "df = f'E:\\Ratterdam\\\\{rat}\\\\{rat}_RatterdamOpen_{day}\\\\'\n",
    "clust = 'TT1_0001\\\\cl-maze1.1'\n",
    "unit = RepCore.loadRepeatingUnit(df, clust)"
   ]
  },
  {
   "cell_type": "markdown",
   "metadata": {
    "collapsed": true
   },
   "source": [
    "## Visit Triggered Average\n",
    "#### For each visit in a field, look back in a window. Compute pearson r on field segment and all others, pairwise. \n",
    "#### Shuffle to test Ho: stat near 0, Ha: neg shifted."
   ]
  },
  {
   "cell_type": "code",
   "execution_count": 286,
   "metadata": {
    "collapsed": true
   },
   "outputs": [],
   "source": [
    "# create spline rep of the fields\n",
    "s=1\n",
    "k=3 # should be 3 usually\n",
    "fieldFx = [splrep(d[:,0], d[:,1], k=k, task=0, s=s) for d in fieldArray]\n",
    "fmax = int(np.ceil(max([max(field[:,0]) for field in fieldArray])))\n",
    "fmin = int(np.ceil(min([min(field[:,0]) for field in fieldArray])))\n",
    "\n",
    "# create spline rep of the fields\n",
    "s=1\n",
    "k=3 # should be 3 usually\n",
    "diffs = [np.column_stack((i[:,0],np.gradient(i[:,1]))) for i in unit.fields]\n",
    "diffFx = [splrep(d[:,0], d[:,1], k=k, task=0, s=s) for d in diffs]"
   ]
  },
  {
   "cell_type": "code",
   "execution_count": 323,
   "metadata": {
    "collapsed": true
   },
   "outputs": [],
   "source": [
    "def getTraceInWindow(fieldFx,fieldID,visitTs,winsize=1e6*5*60, numPts=75):\n",
    "    \"\"\"\n",
    "    Input:  fieldFx - list of spline reps that each represent a field in unit.fields (in same order)\n",
    "            fieldID - index of which field to use in fieldFx. Again, same order as in unit.fields.\n",
    "            visitTs - NL ts of a visit to a field\n",
    "            winSize - time to look back in us. Def is 5 min\n",
    "            numPts - number of points in the spline eval. Def is 75\n",
    "    Create a window looking back from the visit in time. Evaluate the spline\n",
    "    in that window and return.\n",
    "    Return: (n,) array of evaluted spline segment\n",
    "    \"\"\"\n",
    "    begin = visitTs-winsize\n",
    "    if begin <  0:\n",
    "        begin = 0\n",
    "    x = np.linspace(begin,visitTs,numPts)\n",
    "    sw = splev(x,fieldFx[fieldID])\n",
    "    return sw\n",
    "\n",
    "def rotateFields(unit):\n",
    "    \"\"\"\n",
    "    Input   - unit: Unit class object\n",
    "            \n",
    "    selects a temporal shift for each field. Shift is rotational such that \n",
    "    whatever 'falls off' end of vector 'comes back' to the front.\n",
    "    \n",
    "    Returns - GuttedField object with shifted fields in gunit.fields attribute\n",
    "    \"\"\"\n",
    "    gunit = GuttedUnit()\n",
    "    sfields = []\n",
    "    for field in unit.fields:\n",
    "        nvisits = field.shape[0]\n",
    "        shift = np.random.randint(0,nvisits)\n",
    "        sf = np.column_stack((field[:,0], np.roll(field[:,1], shift)))\n",
    "        sfields.append(sf)\n",
    "    gunit.fields = sfields\n",
    "    return gunit\n",
    "\n",
    "def corrTraces(a,b):\n",
    "    \"\"\"\n",
    "    Runs pearson R on inputs A,B returns the coeff.\n",
    "    \"\"\"\n",
    "    return scipy.stats.pearsonr(a,b)[0]"
   ]
  },
  {
   "cell_type": "code",
   "execution_count": 431,
   "metadata": {},
   "outputs": [],
   "source": [
    "# Routine to look at each visit and perform a corr on the lagging window btwen it and each other field\n",
    "nf = len(unit.fields)\n",
    "pairs = [f\"{i[0]}{i[1]}\" for i in list(itertools.product(range(nf),range(nf)))]\n",
    "traces = {i:[] for i in pairs} \n",
    "corrs = {i:[] for i in pairs}\n",
    "\n",
    "for i,field in enumerate(unit.fields):\n",
    "    for visit in field:\n",
    "        ts = visit[0]\n",
    "        if ts > fmin+1e6*60*10:\n",
    "            for j,otherfield in enumerate(unit.fields):\n",
    "                if i!=j:\n",
    "                    segI = getTraceInWindow(diffFx, i, ts)\n",
    "                    segJ = getTraceInWindow(diffFx, j, ts)\n",
    "                    traces[f\"{i}{j}\"].append(np.argmax(scipy.signal.correlate(segI, segJ,mode='full')))\n",
    "                    corr = corrTraces(segI,segJ)\n",
    "                    corrs[f\"{i}{j}\"].append(corr)"
   ]
  },
  {
   "cell_type": "code",
   "execution_count": 416,
   "metadata": {},
   "outputs": [],
   "source": [
    "%qtconsole"
   ]
  },
  {
   "cell_type": "code",
   "execution_count": null,
   "metadata": {
    "collapsed": true
   },
   "outputs": [],
   "source": []
  }
 ],
 "metadata": {
  "kernelspec": {
   "display_name": "Python 3",
   "language": "python",
   "name": "python3"
  },
  "language_info": {
   "codemirror_mode": {
    "name": "ipython",
    "version": 3
   },
   "file_extension": ".py",
   "mimetype": "text/x-python",
   "name": "python",
   "nbconvert_exporter": "python",
   "pygments_lexer": "ipython3",
   "version": "3.6.3"
  }
 },
 "nbformat": 4,
 "nbformat_minor": 2
}
