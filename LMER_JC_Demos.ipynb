{
 "cells": [
  {
   "cell_type": "markdown",
   "metadata": {},
   "source": [
    "# LMER Demos For JC "
   ]
  },
  {
   "cell_type": "code",
   "execution_count": 1,
   "metadata": {
    "collapsed": true
   },
   "outputs": [],
   "source": [
    "\n",
    "import numpy as np\n",
    "import utility_fx as util\n",
    "import os\n",
    "import matplotlib.gridspec as gridspec\n",
    "from matplotlib import pyplot as plt\n",
    "import math\n",
    "import bisect\n",
    "import pandas as pd"
   ]
  },
  {
   "cell_type": "code",
   "execution_count": 2,
   "metadata": {
    "collapsed": true
   },
   "outputs": [],
   "source": [
    "%matplotlib qt5\n",
    "%qtconsole --style native"
   ]
  },
  {
   "cell_type": "code",
   "execution_count": 92,
   "metadata": {},
   "outputs": [
    {
     "name": "stderr",
     "output_type": "stream",
     "text": [
      "C:\\Users\\whockei1\\AppData\\Local\\Continuum\\anaconda3\\lib\\site-packages\\ipykernel_launcher.py:3: RuntimeWarning: covariance is not positive-semidefinite.\n",
      "  This is separate from the ipykernel package so we can avoid doing imports until\n"
     ]
    },
    {
     "data": {
      "text/plain": [
       "(-8.25194640974846, 6.654856543442635, -8.608843412418995, 7.132237858903849)"
      ]
     },
     "execution_count": 92,
     "metadata": {},
     "output_type": "execute_result"
    }
   ],
   "source": [
    "mean = [0, 0]\n",
    "cov = [[10, 10], [0, 1]]  # diagonal covariance\n",
    "x, y = np.random.multivariate_normal(mean, cov, 100).T\n",
    "plt.plot(x, y, '.')\n",
    "plt.axis('equal')"
   ]
  },
  {
   "cell_type": "code",
   "execution_count": 321,
   "metadata": {},
   "outputs": [
    {
     "name": "stderr",
     "output_type": "stream",
     "text": [
      "C:\\Users\\whockei1\\AppData\\Local\\Continuum\\anaconda3\\lib\\site-packages\\ipykernel_launcher.py:70: RuntimeWarning: covariance is not positive-semidefinite.\n",
      "C:\\Users\\whockei1\\AppData\\Local\\Continuum\\anaconda3\\lib\\site-packages\\ipykernel_launcher.py:70: RuntimeWarning: covariance is not positive-semidefinite.\n",
      "C:\\Users\\whockei1\\AppData\\Local\\Continuum\\anaconda3\\lib\\site-packages\\ipykernel_launcher.py:70: RuntimeWarning: covariance is not positive-semidefinite.\n",
      "C:\\Users\\whockei1\\AppData\\Local\\Continuum\\anaconda3\\lib\\site-packages\\ipykernel_launcher.py:70: RuntimeWarning: covariance is not positive-semidefinite.\n",
      "C:\\Users\\whockei1\\AppData\\Local\\Continuum\\anaconda3\\lib\\site-packages\\ipykernel_launcher.py:70: RuntimeWarning: covariance is not positive-semidefinite.\n",
      "C:\\Users\\whockei1\\AppData\\Local\\Continuum\\anaconda3\\lib\\site-packages\\ipykernel_launcher.py:70: RuntimeWarning: covariance is not positive-semidefinite.\n",
      "C:\\Users\\whockei1\\AppData\\Local\\Continuum\\anaconda3\\lib\\site-packages\\ipykernel_launcher.py:70: RuntimeWarning: covariance is not positive-semidefinite.\n",
      "C:\\Users\\whockei1\\AppData\\Local\\Continuum\\anaconda3\\lib\\site-packages\\ipykernel_launcher.py:70: RuntimeWarning: covariance is not positive-semidefinite.\n",
      "C:\\Users\\whockei1\\AppData\\Local\\Continuum\\anaconda3\\lib\\site-packages\\ipykernel_launcher.py:70: RuntimeWarning: covariance is not positive-semidefinite.\n",
      "C:\\Users\\whockei1\\AppData\\Local\\Continuum\\anaconda3\\lib\\site-packages\\ipykernel_launcher.py:70: RuntimeWarning: covariance is not positive-semidefinite.\n",
      "C:\\Users\\whockei1\\AppData\\Local\\Continuum\\anaconda3\\lib\\site-packages\\ipykernel_launcher.py:70: RuntimeWarning: covariance is not positive-semidefinite.\n",
      "C:\\Users\\whockei1\\AppData\\Local\\Continuum\\anaconda3\\lib\\site-packages\\ipykernel_launcher.py:70: RuntimeWarning: covariance is not positive-semidefinite.\n",
      "C:\\Users\\whockei1\\AppData\\Local\\Continuum\\anaconda3\\lib\\site-packages\\ipykernel_launcher.py:70: RuntimeWarning: covariance is not positive-semidefinite.\n",
      "C:\\Users\\whockei1\\AppData\\Local\\Continuum\\anaconda3\\lib\\site-packages\\ipykernel_launcher.py:70: RuntimeWarning: covariance is not positive-semidefinite.\n",
      "C:\\Users\\whockei1\\AppData\\Local\\Continuum\\anaconda3\\lib\\site-packages\\ipykernel_launcher.py:70: RuntimeWarning: covariance is not positive-semidefinite.\n",
      "C:\\Users\\whockei1\\AppData\\Local\\Continuum\\anaconda3\\lib\\site-packages\\ipykernel_launcher.py:70: RuntimeWarning: covariance is not positive-semidefinite.\n",
      "C:\\Users\\whockei1\\AppData\\Local\\Continuum\\anaconda3\\lib\\site-packages\\ipykernel_launcher.py:70: RuntimeWarning: covariance is not positive-semidefinite.\n",
      "C:\\Users\\whockei1\\AppData\\Local\\Continuum\\anaconda3\\lib\\site-packages\\ipykernel_launcher.py:70: RuntimeWarning: covariance is not positive-semidefinite.\n",
      "C:\\Users\\whockei1\\AppData\\Local\\Continuum\\anaconda3\\lib\\site-packages\\ipykernel_launcher.py:70: RuntimeWarning: covariance is not positive-semidefinite.\n",
      "C:\\Users\\whockei1\\AppData\\Local\\Continuum\\anaconda3\\lib\\site-packages\\ipykernel_launcher.py:70: RuntimeWarning: covariance is not positive-semidefinite.\n",
      "C:\\Users\\whockei1\\AppData\\Local\\Continuum\\anaconda3\\lib\\site-packages\\ipykernel_launcher.py:70: RuntimeWarning: covariance is not positive-semidefinite.\n",
      "C:\\Users\\whockei1\\AppData\\Local\\Continuum\\anaconda3\\lib\\site-packages\\ipykernel_launcher.py:70: RuntimeWarning: covariance is not positive-semidefinite.\n",
      "C:\\Users\\whockei1\\AppData\\Local\\Continuum\\anaconda3\\lib\\site-packages\\ipykernel_launcher.py:70: RuntimeWarning: covariance is not positive-semidefinite.\n"
     ]
    }
   ],
   "source": [
    "rats, cells, locs, dFactors, cFactors, rates = [], [], [], [], [], []\n",
    "\n",
    "allConditions = [\"R1L1A\",\n",
    "                       \"R1L1B\",\n",
    "                       \"R1L1C\",\n",
    "                       \"R1L2A\",\n",
    "                       \"R1L2B\",\n",
    "                       \"R1L2C\",\n",
    "                       \"R1L3A\",\n",
    "                       \"R1L3B\",\n",
    "                       \"R1L3C\", # r1 end\n",
    "                       \"R2L1A\",\n",
    "                       \"R2L1B\",\n",
    "                       \"R2L1C\",\n",
    "                       \"R2L2A\",\n",
    "                       \"R2L2B\",\n",
    "                       \"R2L2C\",\n",
    "                       \"R2L3A\",\n",
    "                       \"R2L3B\",\n",
    "                       \"R2L3C\", # r2 end\n",
    "                       \"R3L1A\", \n",
    "                       \"R3L1B\",\n",
    "                       \"R3L1C\",\n",
    "                       \"R3L2A\",\n",
    "                       \"R3L2B\",\n",
    "                       \"R3L2C\",\n",
    "                       \"R3L3A\",\n",
    "                       \"R3L3B\",\n",
    "                       \"R3L3C\", # r3 end\n",
    "                       \"R4L1A\", \n",
    "                       \"R4L1B\",\n",
    "                       \"R4L1C\",\n",
    "                       \"R4L2A\",\n",
    "                       \"R4L2B\",\n",
    "                       \"R4L2C\",\n",
    "                       \"R4L3A\",\n",
    "                       \"R4L3B\",\n",
    "                       \"R4L3C\"\n",
    "                ]\n",
    "\n",
    "effectfulConditions = [\"R1L1A\",\n",
    "                       \"R1L2A\",\n",
    "                       \"R2L1A\",\n",
    "                       \"R2L2A\"\n",
    "                      ]\n",
    "effectfulRot = 6\n",
    "varEf = 8\n",
    "varInEf = 4\n",
    "n=100\n",
    "ratoffset = {'1':[15,30],'2':[5,25],'3':[10,20],'4':[20,10]}\n",
    "ratRots = {'1':effectfulRot,'2':effectfulRot,'3':effectfulRot,'4':0}\n",
    "locoffset = {'1':[0,0],'2':[0,0],'3':[0,0]}\n",
    "save=True\n",
    "\n",
    "for condition in allConditions:\n",
    "    rat = condition[1]\n",
    "    loc = condition[3]\n",
    "    ro = ratoffset[rat]\n",
    "    lo = locoffset[loc]\n",
    "    \n",
    "    if condition in effectfulConditions:\n",
    "        mean = [0+ro[0]+lo[0], 0+ro[1]+lo[0]]\n",
    "        cov = [[varEf, ratRots[rat]], [ratRots[rat], varEf]]  # diagonal covariance\n",
    "        x, y = np.random.multivariate_normal(mean, cov, n).T\n",
    "        plt.plot(x, y, 'k.')\n",
    "        plt.axis('equal')\n",
    "    else:\n",
    "        mean = [0+ro[0]+lo[0], 0+ro[1]+lo[0]]\n",
    "        cov = [[varInEf, ratRots[rat]], [ratRots[rat], varInEf]]  # diagonal covariance\n",
    "        x, y = np.random.multivariate_normal(mean, cov, n).T\n",
    "        plt.plot(x, y, 'k.')\n",
    "        plt.axis('equal')\n",
    "        \n",
    "    rats.extend([condition[1]]*n)\n",
    "    locs.extend([condition[3]]*n)\n",
    "    dFactors.extend([condition[4]]*n)\n",
    "    cFactors.extend(x)\n",
    "    \n",
    "    rates.extend(y)\n",
    "rand = [1]*len(rates)\n",
    "\n",
    "data = {'rate':rates, \n",
    "        'rat':rats, \n",
    "        'loc':locs,\n",
    "        'dFactor':dFactors,\n",
    "        'cFactor':cFactors, \n",
    "        'rand':rand\n",
    "        }\n",
    "if save:\n",
    "    alldata = pd.DataFrame(data=data)\n",
    "    alldata.to_csv(f\"E:\\\\Ratterdam\\\\labMeetingLMER.csv\", header=True, index=False)"
   ]
  },
  {
   "cell_type": "code",
   "execution_count": 376,
   "metadata": {},
   "outputs": [],
   "source": [
    "ratlist = ['1','2','3','4']\n",
    "dFacs = ['1','2','3']\n",
    "rats, dFactors, cFactors, rates = [], [], [], []\n",
    "\n",
    "var=16\n",
    "\n",
    "effects = {'1':{'1':[5,12,6],'2':[17,25,6],'3':[21,18,6]},\n",
    "           '2':{'1':[15,23,6],'2':[10,17,6],'3':[8,13,6]},\n",
    "           '3':{'1':[10,3,0],'2':[22,10,0],'3':[13,7,0]},\n",
    "           '4':{'1':[20,3,0],'2':[10,3,0],'3':[8,9,0]}\n",
    "          }\n",
    "\n",
    "n=100\n",
    "for rat in ratlist:\n",
    "    for dF in dFacs:\n",
    "        xx,yy,c = effects[rat][dF]\n",
    "        mean = [xx,yy]\n",
    "        cov = [[var, c], [c, var]]  # diagonal covariance\n",
    "        x, y = np.random.multivariate_normal(mean, cov, n).T\n",
    "        plt.plot(x, y, 'k.')\n",
    "        plt.axis('equal')\n",
    "        \n",
    "        rates.extend(y)\n",
    "        cFactors.extend(x)\n",
    "        dFactors.extend([dF]*n)\n",
    "        rats.extend([rat]*n)\n",
    "        \n",
    "#         # add zeros for GLM\n",
    "#         nullN = 20\n",
    "#         rates.extend([min(x)]*nullN)\n",
    "#         cFactors.extend(np.random.randint(min(x),max(x),nullN))\n",
    "#         dFactors.extend([dF]*nullN)\n",
    "#         rats.extend([rat]*nullN)\n",
    "\n",
    "        \n",
    "data = {'rate':rates, \n",
    "        'rat':rats, \n",
    "        'dFactor':dFactors,\n",
    "        'cFactor':cFactors, \n",
    "        }\n",
    "if save:\n",
    "    alldata = pd.DataFrame(data=data)\n",
    "    alldata.to_csv(f\"E:\\\\Ratterdam\\\\labMeetingLMER.csv\", header=True, index=False)\n"
   ]
  },
  {
   "cell_type": "code",
   "execution_count": null,
   "metadata": {
    "collapsed": true
   },
   "outputs": [],
   "source": []
  }
 ],
 "metadata": {
  "kernelspec": {
   "display_name": "Python 3",
   "language": "python",
   "name": "python3"
  },
  "language_info": {
   "codemirror_mode": {
    "name": "ipython",
    "version": 3
   },
   "file_extension": ".py",
   "mimetype": "text/x-python",
   "name": "python",
   "nbconvert_exporter": "python",
   "pygments_lexer": "ipython3",
   "version": "3.6.3"
  }
 },
 "nbformat": 4,
 "nbformat_minor": 2
}
