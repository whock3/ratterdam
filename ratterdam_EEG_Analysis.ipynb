{
 "cells": [
  {
   "cell_type": "code",
   "execution_count": 1,
   "metadata": {
    "collapsed": true
   },
   "outputs": [],
   "source": [
    "import numpy as np, matplotlib.pyplot as plt, scipy.signal as ss, scipy.fftpack as sf\n",
    "from scipy.signal import hilbert\n",
    "\n",
    "import ratterdam_CoreDataStructures as Core\n",
    "import ratterdam_ParseBehavior as Parse\n",
    "import ratterdam_Defaults as Def\n",
    "import ratterdam_visBasic as Vis\n",
    "import utility_fx as util"
   ]
  },
  {
   "cell_type": "code",
   "execution_count": 2,
   "metadata": {
    "collapsed": true
   },
   "outputs": [],
   "source": [
    "%matplotlib qt5\n",
    "%qtconsole --style native"
   ]
  },
  {
   "cell_type": "code",
   "execution_count": 3,
   "metadata": {
    "collapsed": true
   },
   "outputs": [],
   "source": [
    "from scipy.signal import butter, lfilter\n",
    "\n",
    "def filter_data(data, low,high, sf=32000, order=2):\n",
    "    # Determine Nyquist frequency\n",
    "    nyq = sf/2\n",
    "    # Set bands\n",
    "    low = low/nyq\n",
    "    high = high/nyq\n",
    "    # Calculate coefficients\n",
    "    b, a = butter(order, [low, high], btype='band')\n",
    "    # Filter signal\n",
    "    filtered_data = lfilter(b, a, data)\n",
    "\n",
    "    return filtered_data"
   ]
  },
  {
   "cell_type": "code",
   "execution_count": 4,
   "metadata": {
    "collapsed": true
   },
   "outputs": [],
   "source": [
    "datafile = \"E:\\\\Ratterdam\\\\R781\\\\Beltway_D3_190307\\\\\"\n",
    "expCode = \"BRD3\"\n",
    "\n",
    "figpath = f\"E:\\\\Ratterdam\\\\R781\\\\beltway_test_plots\\\\{expCode}\\\\\"\n",
    "beltwayAlleys = [16,17,3,1,5,7,8,10,11]\n",
    "\n",
    "ratplot = Vis.BasicRateMaps()\n",
    "\n",
    "alleyTracking, alleyVisits,  txtVisits, p_sess, ts_sess = Parse.getDaysBehavioralData(datafile, expCode)\n",
    "stimfiles = Parse.getStimFileName(datafile)\n",
    "stimData = Parse.loadBeltwayData(datafile,stimfiles,expCode)\n",
    "\n",
    "\n",
    "alleySwapTS = Parse.beltway_getLapTimes(datafile, stimData, expCode)"
   ]
  },
  {
   "cell_type": "code",
   "execution_count": 5,
   "metadata": {
    "collapsed": true
   },
   "outputs": [],
   "source": [
    "tt = 9\n",
    "fname = datafile + f\"CSC{tt}.ncs\""
   ]
  },
  {
   "cell_type": "code",
   "execution_count": 6,
   "metadata": {
    "collapsed": true
   },
   "outputs": [],
   "source": [
    "ncsType = np.dtype([\n",
    "    ('ts', '<u8'),\n",
    "    ('dwChannelNumber', '<u4'),\n",
    "    ('fs', '<u4'),\n",
    "    ('NumValidSamples', '<u4'),\n",
    "    ('data', '<i2', (512, ))\n",
    "])"
   ]
  },
  {
   "cell_type": "code",
   "execution_count": 7,
   "metadata": {
    "collapsed": true
   },
   "outputs": [],
   "source": [
    "curFile = open(fname)\n",
    "curFile.seek(16*1024)\n",
    "curFile = np.fromfile(curFile, dtype=ncsType)"
   ]
  },
  {
   "cell_type": "code",
   "execution_count": 8,
   "metadata": {
    "collapsed": true
   },
   "outputs": [],
   "source": [
    "dt = (1/32000)*1e6 # this is the timestep between each sample in packet. Only first sample is explicitly timestamped\n",
    "                     # by neuralynx at time of collection so increment this dt value repeatedly to get ts of all other samples in packet\n",
    "cscdata = curFile['data'].flatten()\n",
    "cscts = []\n",
    "for packet in curFile:\n",
    "    init_ts = packet['ts']\n",
    "    cscts.append(init_ts)\n",
    "    interp_ts = init_ts + dt # initialize the, basically, counter. this init is for the second point if that makes sense\n",
    "    for datapoint in packet['data'][1:]: # start with second bc first one is (the only one) timestamped\n",
    "        cscts.append(interp_ts)\n",
    "        interp_ts += dt # increment for next ts\n",
    "        \n",
    "cscts = np.asarray(cscts)"
   ]
  },
  {
   "cell_type": "markdown",
   "metadata": {},
   "source": [
    "#### end data loading and preprocessing"
   ]
  },
  {
   "cell_type": "code",
   "execution_count": 142,
   "metadata": {
    "collapsed": true
   },
   "outputs": [],
   "source": [
    "alley=5 # real id\n",
    "visitTS = alleyVisits[alley-1]\n",
    "cscchunks = []\n",
    "tschunks = []\n",
    "\n",
    "for visit in visitTS:\n",
    "    mask = (cscts>visit[0])&(cscts<visit[1])\n",
    "    cscchunks.append(cscdata[mask])\n",
    "    tschunks.append(cscts[mask])"
   ]
  },
  {
   "cell_type": "code",
   "execution_count": 69,
   "metadata": {},
   "outputs": [
    {
     "name": "stderr",
     "output_type": "stream",
     "text": [
      "C:\\Users\\whockei1\\AppData\\Local\\Continuum\\anaconda3\\lib\\site-packages\\ipykernel_launcher.py:5: RuntimeWarning: divide by zero encountered in log10\n",
      "  \"\"\"\n"
     ]
    }
   ],
   "source": [
    "specs = []\n",
    "downsample_factor = 1\n",
    "for data in cscchunks:\n",
    "    f,t,s = ss.spectrogram(data[::downsample_factor],fs=32000/downsample_factor)\n",
    "    s = 10*np.log10(s)\n",
    "    specs.append(s)"
   ]
  },
  {
   "cell_type": "code",
   "execution_count": 70,
   "metadata": {
    "collapsed": true
   },
   "outputs": [],
   "source": [
    "fig, ax = plt.subplots(5,6,figsize=(10,10))\n",
    "for i, s in enumerate(specs):\n",
    "    fig.axes[i].imshow(s, origin='lower',aspect='auto',interpolation='None')\n",
    "    fig.axes[i].set_ylim([4,12])\n",
    "    fig.axes[i].set_title(txtVisits[7-1][i])"
   ]
  },
  {
   "cell_type": "code",
   "execution_count": 143,
   "metadata": {
    "collapsed": true
   },
   "outputs": [],
   "source": [
    "visits_theta = []\n",
    "visits_gamma = []\n",
    "\n",
    "for i,visit in enumerate(alleyVisits[alley-1]):\n",
    "    theta = filter_data(cscchunks[i], 8,12)\n",
    "    gamma = filter_data(cscchunks[i], 25, 45)\n",
    "    visits_theta.append(theta)\n",
    "    visits_gamma.append(gamma)"
   ]
  },
  {
   "cell_type": "code",
   "execution_count": 144,
   "metadata": {
    "collapsed": true
   },
   "outputs": [],
   "source": [
    "hilbert3 = lambda x: hilbert(x, fftpack.next_fast_len(len(x)))[:len(x)] # this truncates bc for certain array sizes (primes) underlying FFT is insanely slow.\n",
    "phases = []\n",
    "for i in range(len(cscchunks)):\n",
    "    analytic = hilbert3(visits_gamma[i])\n",
    "    phase = np.angle(analytic)\n",
    "    phases.append(phase)"
   ]
  },
  {
   "cell_type": "code",
   "execution_count": 123,
   "metadata": {},
   "outputs": [
    {
     "name": "stderr",
     "output_type": "stream",
     "text": [
      "C:\\Users\\whockei1\\Google Drive\\KnierimLab\\Ratterdam\\Code\\ratterdam_CoreDataStructures.py:157: RuntimeWarning: divide by zero encountered in reciprocal\n",
      "  n = (hs*np.reciprocal(ho))*30\n",
      "C:\\Users\\whockei1\\Google Drive\\KnierimLab\\Ratterdam\\Code\\ratterdam_CoreDataStructures.py:157: RuntimeWarning: invalid value encountered in multiply\n",
      "  n = (hs*np.reciprocal(ho))*30\n",
      "C:\\Users\\whockei1\\Google Drive\\KnierimLab\\Ratterdam\\Code\\ratterdam_CoreDataStructures.py:163: RuntimeWarning: divide by zero encountered in reciprocal\n",
      "  n = (ls* np.reciprocal(lo)) * 30\n",
      "C:\\Users\\whockei1\\Google Drive\\KnierimLab\\Ratterdam\\Code\\ratterdam_CoreDataStructures.py:163: RuntimeWarning: invalid value encountered in multiply\n",
      "  n = (ls* np.reciprocal(lo)) * 30\n",
      "C:\\Users\\whockei1\\Google Drive\\KnierimLab\\Ratterdam\\Code\\utility_fx.py:321: RuntimeWarning: invalid value encountered in true_divide\n",
      "  Z=VV/WW\n"
     ]
    }
   ],
   "source": [
    "unit = Core.UnitData(\"TT6\\\\cl-maze1.4\", datafile, expCode, Def.alleyBounds, alleyVisits, txtVisits, p_sess, ts_sess)\n",
    "unit.loadData_raw(includeRewards=True)"
   ]
  },
  {
   "cell_type": "code",
   "execution_count": 20,
   "metadata": {
    "collapsed": true
   },
   "outputs": [],
   "source": [
    "# subplots for each visit with theta, gamma, and spike overlays\n",
    "numrows = 5\n",
    "fig, ax = plt.subplots(numrows,int(np.ceil(len(alleyVisits[alley-1])/numrows)), figsize=(10,10))\n",
    "\n",
    "for i,visit in enumerate(alleyVisits[alley-1]):\n",
    "    fig.axes[i].plot(tschunks[i], visits_theta[i], 'k', alpha=0.5)\n",
    "    fig.axes[i].plot(tschunks[i], visits_gamma[i], 'g', alpha=0.5)\n",
    "    fig.axes[i].vlines(unit.alleys[alley][i]['spikes'][:,0], -10000,10000, color='r')\n",
    "    fig.axes[i].set_title(f\"{i}, {txtVisits[alley-1][i]}\")\n",
    "    fig.axes[i].set_xticks([])"
   ]
  },
  {
   "cell_type": "code",
   "execution_count": 25,
   "metadata": {
    "collapsed": true
   },
   "outputs": [],
   "source": [
    "# subplots for each visit with phases of whatever you filtered above with spike overlays\n",
    "numrows = 5\n",
    "fig, ax = plt.subplots(numrows,int(np.ceil(len(alleyVisits[alley-1])/numrows)), figsize=(10,10))\n",
    "\n",
    "for i,visit in enumerate(alleyVisits[alley-1]):\n",
    "    fig.axes[i].plot(tschunks[i], phases[i], 'k', alpha=0.5)\n",
    "    fig.axes[i].vlines(unit.alleys[alley][i]['spikes'][:,0], -10,10, color='r')\n",
    "    fig.axes[i].set_title(f\"{i}, {txtVisits[alley-1][i]}\")\n",
    "    fig.axes[i].set_xticks([])"
   ]
  },
  {
   "cell_type": "code",
   "execution_count": 145,
   "metadata": {
    "collapsed": true
   },
   "outputs": [],
   "source": [
    "phase_totals = {txt:np.empty((0)) for txt in ['A','B','C']}\n",
    "for trial in range(len(unit.alleys[alley])):\n",
    "    adjspikes = np.asarray([util.takeClosest(tschunks[trial],i) for i in unit.alleys[alley][trial]['spikes'][:,0]])\n",
    "    idx = np.searchsorted(tschunks[trial],adjspikes)\n",
    "    phasevals = phases[trial][idx]\n",
    "    txt = unit.alleys[alley][trial]['metadata']['stimulus']\n",
    "    phase_totals[txt] = np.hstack((phase_totals[txt], phasevals))"
   ]
  },
  {
   "cell_type": "code",
   "execution_count": 147,
   "metadata": {},
   "outputs": [
    {
     "data": {
      "text/plain": [
       "Text(0.5,0.98,'TT6cl-maze1.4, Alley 5')"
      ]
     },
     "execution_count": 147,
     "metadata": {},
     "output_type": "execute_result"
    }
   ],
   "source": [
    "fig, ax = plt.subplots(1,3, subplot_kw=dict(projection='polar'))\n",
    "for i, stim in enumerate(['A','B','C']):\n",
    "    fig.axes[i].hist(phase_totals[stim],bins=18)\n",
    "    fig.axes[i].set_title(stim)\n",
    "plt.suptitle(f\"{unit.name}, Alley {alley}\")"
   ]
  },
  {
   "cell_type": "markdown",
   "metadata": {},
   "source": [
    "## Comparing spiking/eeg phase relationship inside/outside putative effect region"
   ]
  },
  {
   "cell_type": "code",
   "execution_count": 11,
   "metadata": {
    "collapsed": true
   },
   "outputs": [],
   "source": [
    "targetbins = [3,7]\n",
    "orientation = \"horizontal\"\n",
    "alley = 7"
   ]
  },
  {
   "cell_type": "code",
   "execution_count": 12,
   "metadata": {},
   "outputs": [
    {
     "name": "stderr",
     "output_type": "stream",
     "text": [
      "C:\\Users\\whockei1\\Google Drive\\KnierimLab\\Ratterdam\\Code\\ratterdam_CoreDataStructures.py:157: RuntimeWarning: divide by zero encountered in reciprocal\n",
      "  n = (hs*np.reciprocal(ho))*30\n",
      "C:\\Users\\whockei1\\Google Drive\\KnierimLab\\Ratterdam\\Code\\ratterdam_CoreDataStructures.py:157: RuntimeWarning: invalid value encountered in multiply\n",
      "  n = (hs*np.reciprocal(ho))*30\n",
      "C:\\Users\\whockei1\\Google Drive\\KnierimLab\\Ratterdam\\Code\\ratterdam_CoreDataStructures.py:163: RuntimeWarning: divide by zero encountered in reciprocal\n",
      "  n = (ls* np.reciprocal(lo)) * 30\n",
      "C:\\Users\\whockei1\\Google Drive\\KnierimLab\\Ratterdam\\Code\\ratterdam_CoreDataStructures.py:163: RuntimeWarning: invalid value encountered in multiply\n",
      "  n = (ls* np.reciprocal(lo)) * 30\n",
      "C:\\Users\\whockei1\\Google Drive\\KnierimLab\\Ratterdam\\Code\\utility_fx.py:321: RuntimeWarning: invalid value encountered in true_divide\n",
      "  Z=VV/WW\n"
     ]
    }
   ],
   "source": [
    "unit = Core.UnitData(\"TT9\\\\cl-maze1.6\", datafile, expCode, Def.alleyBounds, alleyVisits, txtVisits, p_sess, ts_sess)\n",
    "unit.loadData_raw(includeRewards=True)"
   ]
  },
  {
   "cell_type": "code",
   "execution_count": 13,
   "metadata": {
    "collapsed": true
   },
   "outputs": [],
   "source": [
    "visitTS = alleyVisits[alley-1]\n",
    "cscchunks = []\n",
    "tschunks = []\n",
    "\n",
    "for visit in visitTS:\n",
    "    mask = (cscts>visit[0])&(cscts<visit[1])\n",
    "    cscchunks.append(cscdata[mask])\n",
    "    tschunks.append(cscts[mask])"
   ]
  },
  {
   "cell_type": "code",
   "execution_count": 14,
   "metadata": {
    "collapsed": true
   },
   "outputs": [],
   "source": [
    "visits_theta = []\n",
    "visits_gamma = []\n",
    "\n",
    "for i,visit in enumerate(alleyVisits[alley-1]):\n",
    "    theta = filter_data(cscchunks[i], 8,12)\n",
    "    gamma = filter_data(cscchunks[i], 25, 45)\n",
    "    visits_theta.append(theta)\n",
    "    visits_gamma.append(gamma)"
   ]
  },
  {
   "cell_type": "code",
   "execution_count": 18,
   "metadata": {},
   "outputs": [],
   "source": [
    "oscill = 'gamma'\n",
    "\n",
    "hilbert3 = lambda x: hilbert(x, fftpack.next_fast_len(len(x)))[:len(x)] # this truncates bc for certain array sizes (primes) underlying FFT is insanely slow.\n",
    "phases = []\n",
    "for i in range(len(cscchunks)):\n",
    "    if oscill == 'gamma':\n",
    "        analytic = hilbert3(visits_gamma[i])\n",
    "    elif oscill == 'theta':\n",
    "        analytic = hilbert3(visits_theta[i])\n",
    "    phase = np.angle(analytic)\n",
    "    phases.append(phase)"
   ]
  },
  {
   "cell_type": "code",
   "execution_count": 19,
   "metadata": {
    "collapsed": true
   },
   "outputs": [],
   "source": [
    "def checkinside(p, alley, orien, tb):\n",
    "    if orien == 'horizontal':\n",
    "        x1, x2 = unit.alleyBins[alley-1]['cols'][tb[0]], unit.alleyBins[alley-1]['cols'][tb[1]+1]\n",
    "        y1, y2 = unit.alleyBins[alley-1]['rows'][0], unit.alleyBins[alley-1]['rows'][-1]\n",
    "    elif orien == 'vertical':\n",
    "        x1, x2 = unit.alleyBins[alley-1]['cols'][0], unit.alleyBins[alley-1]['cols'][-1]\n",
    "        y1, y2 = unit.alleyBins[alley-1]['rows'][tb[0]], unit.alleyBins[alley-1]['rows'][tb[1]+1]\n",
    "    \n",
    "    if p[0] >= x1 and p[0] <= x2 and p[1] >= y1 and p[1] <= y2:\n",
    "        return True\n",
    "    else:\n",
    "        return False"
   ]
  },
  {
   "cell_type": "code",
   "execution_count": 20,
   "metadata": {
    "collapsed": true
   },
   "outputs": [],
   "source": [
    "phase_totals_in = {txt:np.empty((0)) for txt in ['A','B','C']}\n",
    "phase_totals_out = {txt:np.empty((0)) for txt in ['A','B','C']}\n",
    "\n",
    "for t,visit in enumerate(unit.alleys[alley]):\n",
    "    if visit['spikes'].shape[0] > 0:\n",
    "        mask = np.asarray([checkinside(p[1:],alley,orientation,targetbins) for p in visit['spikes']])\n",
    "        spikesin = visit['spikes'][mask,:]\n",
    "        spikesout = visit['spikes'][~mask,:]\n",
    "        txtpresent = visit['metadata']['stimulus']\n",
    "        \n",
    "        adjspikes = np.asarray([util.takeClosest(tschunks[t],i) for i in spikesin[:,0]])\n",
    "        idx = np.searchsorted(tschunks[t],adjspikes)\n",
    "        phasevals = phases[t][idx]\n",
    "        phase_totals_in[txtpresent] = np.hstack((phase_totals_in[txtpresent], phasevals))\n",
    "        \n",
    "        adjspikes = np.asarray([util.takeClosest(tschunks[t],i) for i in spikesout[:,0]])\n",
    "        idx = np.searchsorted(tschunks[t],adjspikes)\n",
    "        phasevals = phases[t][idx]\n",
    "        phase_totals_out[txtpresent] = np.hstack((phase_totals_out[txtpresent], phasevals))"
   ]
  },
  {
   "cell_type": "code",
   "execution_count": 23,
   "metadata": {},
   "outputs": [
    {
     "data": {
      "text/plain": [
       "Text(0.5,0.98,'TT9cl-maze1.6, Alley 7, gamma Rhythm')"
      ]
     },
     "execution_count": 23,
     "metadata": {},
     "output_type": "execute_result"
    }
   ],
   "source": [
    "fig, ax = plt.subplots(2,3, subplot_kw=dict(projection='polar'))\n",
    "\n",
    "for i, stim in enumerate(['A','B','C']):\n",
    "    ax[0,i].hist(phase_totals_in[stim],bins=18)\n",
    "    ax[0,i].set_title(f\"{stim}, in window\")\n",
    "    \n",
    "    ax[1,i].hist(phase_totals_out[stim],bins=18)\n",
    "    ax[1,i].set_title(f\"{stim}, out window\")\n",
    "    \n",
    "plt.suptitle(f\"{unit.name}, Alley {alley}, {oscill} Rhythm\")"
   ]
  },
  {
   "cell_type": "markdown",
   "metadata": {},
   "source": [
    "## Looking at spiking relation to gamma cycles"
   ]
  },
  {
   "cell_type": "code",
   "execution_count": 314,
   "metadata": {
    "collapsed": true
   },
   "outputs": [],
   "source": [
    "trial = 10\n",
    "periods = []\n",
    "for i,p in enumerate(phases[trial][:-1]):\n",
    "    if np.sign(p) == 1 and np.sign(phases[trial][i+1]) == -1:\n",
    "        periods.append(tschunks[trial][i])"
   ]
  },
  {
   "cell_type": "code",
   "execution_count": 342,
   "metadata": {
    "collapsed": true
   },
   "outputs": [],
   "source": [
    "# this is getting gamma cycles (expressed as repeating phases) in/out of target region\n",
    "txtcolorlookup = {'A':'r', 'B':'b', 'C':'g'}\n",
    "\n",
    "numrows = 5\n",
    "fig, ax = plt.subplots(numrows,int(np.ceil(len(alleyVisits[alley-1])/numrows)), figsize=(10,10))\n",
    "\n",
    "for t,visit in enumerate(unit.alleys[alley]):\n",
    "    \n",
    "    periods = []\n",
    "    for i,p in enumerate(phases[t][:-1]):\n",
    "        if np.sign(p) == 1 and np.sign(phases[t][i+1]) == -1:\n",
    "            periods.append(tschunks[t][i])\n",
    "    \n",
    "    mask = np.asarray([checkinside(p[1:],alley,orientation,targetbins) for p in visit['occs']])\n",
    "    occsin = visit['occs'][mask,0]\n",
    "    begin_region, end_region = occsin[0], occsin[-1]\n",
    "\n",
    "    txtpresent = visit['metadata']['stimulus']\n",
    "\n",
    "    fig.axes[t].vlines(periods,-1,1,color='k')\n",
    "    fig.axes[t].vlines(visit['spikes'][:,0],-0.5,0.5,color=txtcolorlookup[txtpresent])\n",
    "    fig.axes[t].vlines(begin_region, -2, 2, color='purple')\n",
    "    fig.axes[t].vlines(end_region, -2, 2, color='purple')\n",
    "    fig.axes[t].set_xticks([])\n",
    "    fig.axes[t].set_yticks([])\n",
    "    fig.axes[t].set_title(t)"
   ]
  },
  {
   "cell_type": "markdown",
   "metadata": {
    "collapsed": true
   },
   "source": [
    "## Looking at spike distribution wrt gamma cycles"
   ]
  },
  {
   "cell_type": "code",
   "execution_count": 88,
   "metadata": {
    "collapsed": true
   },
   "outputs": [],
   "source": [
    "propCyclesSpikesIn = []\n",
    "propCyclesSpikesOut = []\n",
    "hins = []\n",
    "houts = []\n",
    "txts = []\n",
    "\n",
    "for t,visit in enumerate(unit.alleys[alley]):\n",
    "    if visit['spikes'].shape[0] > 0:\n",
    "        mask = np.asarray([checkinside(p[1:],alley,orientation,targetbins) for p in visit['spikes']])\n",
    "        spikesin = visit['spikes'][mask,:]\n",
    "        spikesout = visit['spikes'][~mask,:]\n",
    "        txtpresent = visit['metadata']['stimulus']\n",
    "        txts.append(txtpresent)\n",
    "        \n",
    "        periods = []\n",
    "        for i,p in enumerate(phases[t][:-1]):\n",
    "            if np.sign(p) == 1 and np.sign(phases[t][i+1]) == -1:\n",
    "                periods.append(tschunks[t][i])\n",
    "            \n",
    "        hin,_ = np.histogram(spikesin[:,0], bins=periods)\n",
    "        hins.append(hin)\n",
    "        propsin = np.count_nonzero(hin)/hin.shape[0]\n",
    "        propCyclesSpikesIn.append(propsin)\n",
    "\n",
    "        hout,_ = np.histogram(spikesout[:,0], bins=periods)\n",
    "        houts.append(hout)\n",
    "        propsout = np.count_nonzero(hout)/hout.shape[0]\n",
    "        propCyclesSpikesOut.append(propsout)\n",
    "        "
   ]
  },
  {
   "cell_type": "code",
   "execution_count": null,
   "metadata": {
    "collapsed": true
   },
   "outputs": [],
   "source": []
  }
 ],
 "metadata": {
  "kernelspec": {
   "display_name": "Python 3",
   "language": "python",
   "name": "python3"
  },
  "language_info": {
   "codemirror_mode": {
    "name": "ipython",
    "version": 3
   },
   "file_extension": ".py",
   "mimetype": "text/x-python",
   "name": "python",
   "nbconvert_exporter": "python",
   "pygments_lexer": "ipython3",
   "version": "3.6.3"
  }
 },
 "nbformat": 4,
 "nbformat_minor": 2
}
