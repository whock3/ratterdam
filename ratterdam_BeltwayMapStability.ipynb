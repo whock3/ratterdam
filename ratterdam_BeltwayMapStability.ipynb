{
 "cells": [
  {
   "cell_type": "markdown",
   "metadata": {},
   "source": [
    "# Beltway - Analyzing How Remapping Interacts with map - \n",
    "## Where changes occur, stability of map, etc \n",
    "## Feb 14 2021 WH"
   ]
  },
  {
   "cell_type": "markdown",
   "metadata": {},
   "source": [
    "### Imports"
   ]
  },
  {
   "cell_type": "code",
   "execution_count": 28,
   "metadata": {
    "collapsed": true
   },
   "outputs": [],
   "source": [
    "import ratterdam_CoreDataStructures as Core\n",
    "import ratterdam_ParseBehavior as Parse\n",
    "import numpy as np\n",
    "import utility_fx as util\n",
    "import ratterdam_Defaults as Def\n",
    "import ratterdam_DataFiltering as Filt\n",
    "import pandas as pd\n",
    "from collections import OrderedDict\n",
    "import scipy.ndimage # use center_of_mass from here"
   ]
  },
  {
   "cell_type": "code",
   "execution_count": 2,
   "metadata": {
    "collapsed": true
   },
   "outputs": [],
   "source": [
    "%qtconsole --style paraiso-dark"
   ]
  },
  {
   "cell_type": "markdown",
   "metadata": {},
   "source": [
    "### Load Day Population"
   ]
  },
  {
   "cell_type": "code",
   "execution_count": 163,
   "metadata": {
    "scrolled": true
   },
   "outputs": [
    {
     "name": "stderr",
     "output_type": "stream",
     "text": [
      "E:\\UserData\\Documents\\GitHub\\ratterdam\\Beltway_Project\\ratterdam_CoreDataStructures.py:178: RuntimeWarning: divide by zero encountered in reciprocal\n",
      "  n = (hs*np.reciprocal(ho))*30\n",
      "E:\\UserData\\Documents\\GitHub\\ratterdam\\Beltway_Project\\ratterdam_CoreDataStructures.py:178: RuntimeWarning: invalid value encountered in multiply\n",
      "  n = (hs*np.reciprocal(ho))*30\n",
      "E:\\UserData\\Documents\\GitHub\\ratterdam\\Beltway_Project\\ratterdam_CoreDataStructures.py:184: RuntimeWarning: divide by zero encountered in reciprocal\n",
      "  n = (ls* np.reciprocal(lo)) * 30\n",
      "E:\\UserData\\Documents\\GitHub\\ratterdam\\Beltway_Project\\ratterdam_CoreDataStructures.py:184: RuntimeWarning: invalid value encountered in multiply\n",
      "  n = (ls* np.reciprocal(lo)) * 30\n",
      "E:\\UserData\\Documents\\GitHub\\ratterdam\\utility_fx.py:330: RuntimeWarning: invalid value encountered in true_divide\n",
      "  Z=VV/WW\n",
      "E:\\UserData\\Documents\\GitHub\\ratterdam\\utility_fx.py:680: RuntimeWarning: Mean of empty slice\n",
      "  mean = np.nanmean(rms, axis=0)\n",
      "E:\\UserData\\Documents\\GitHub\\ratterdam\\utility_fx.py:682: RuntimeWarning: invalid value encountered in greater_equal\n",
      "  fi = np.where(mean>=rthresh)[0]\n"
     ]
    },
    {
     "name": "stdout",
     "output_type": "stream",
     "text": [
      "TT1\\cl-maze1.1\n",
      "TT1\\cl-maze1.4\n",
      "TT1\\cl-maze1.5\n",
      "TT1\\cl-maze1.6\n",
      "TT10\\cl-maze1.10\n",
      "TT10\\cl-maze1.11\n",
      "TT10\\cl-maze1.12\n",
      "TT10\\cl-maze1.6\n",
      "TT10\\cl-maze1.7\n",
      "TT13\\cl-maze1.1\n",
      "TT13\\cl-maze1.2\n",
      "TT13\\cl-maze1.3\n",
      "TT13\\cl-maze1.4\n",
      "TT13\\cl-maze1.6\n",
      "TT13\\cl-maze1.7\n",
      "TT13\\cl-maze1.8\n",
      "TT6\\cl-maze1.10\n",
      "TT6\\cl-maze1.11\n",
      "TT6\\cl-maze1.12\n",
      "TT6\\cl-maze1.14\n",
      "TT6\\cl-maze1.15\n",
      "TT6\\cl-maze1.16\n",
      "TT6\\cl-maze1.2\n",
      "TT6\\cl-maze1.3\n",
      "TT6\\cl-maze1.4\n",
      "TT6\\cl-maze1.6\n",
      "TT6\\cl-maze1.7\n",
      "TT6\\cl-maze1.8\n",
      "TT6\\cl-maze1.9\n"
     ]
    }
   ],
   "source": [
    "rat = 'R859'\n",
    "expCode = 'BRD5'\n",
    "datafile = f'E:\\\\Ratterdam\\\\{rat}\\\\{rat}{expCode}\\\\'\n",
    "\n",
    "qualThresh = 2\n",
    "alleyTracking, alleyVisits,  txtVisits, p_sess, ts_sess = Parse.getDaysBehavioralData(datafile, expCode)\n",
    "clustlist, clustQuals = util.getClustList(datafile) # clustList and clustQuals share same order. ith entry in each is the name and qual of same cell. \n",
    "population = OrderedDict()\n",
    "\n",
    "# Load Data\n",
    "for i,clust in enumerate(clustlist):\n",
    "    if clustQuals[i] >= qualThresh:\n",
    "        unit = Core.UnitData(clust, datafile, expCode, Def.alleyBounds, alleyVisits, txtVisits, p_sess, ts_sess)\n",
    "        unit.loadData_raw()\n",
    "        validalleys = []\n",
    "        valid, acorr, alleys = util.checkInclusion(unit, 3) # 2nd arg to util.checkInclusion is how many comps made per alley. This \n",
    "                                                            # value (usually 3) is not being saved here and is defined in the relevant R code so ignore it here\n",
    "        if valid:\n",
    "            print(clust)\n",
    "            unit.acorr = acorr\n",
    "            unit.validAlleys = alleys\n",
    "            population[clust] = unit"
   ]
  },
  {
   "cell_type": "markdown",
   "metadata": {},
   "source": [
    "### Significant Units for the indicated days according to LMER run 2-13-21 \n",
    "sigUnits= {'R781BRD3':\n",
    "[\n",
    "('TT3\\\\cl-maze1.1',6),\n",
    "  ('TT3\\\\cl-maze1.2',6),\n",
    "  ('TT3\\\\cl-maze1.8',6),\n",
    "  ('TT5\\\\cl-maze1.1',7)],\n",
    " 'R781BRD4': [\n",
    "('TT3\\\\cl-maze1.1',9),\n",
    "  ('TT3\\\\cl-maze1.6',9),\n",
    "  ('TT6\\\\cl-maze1.7',9),\n",
    "  ('TT9\\\\cl-maze1.1',9)],\n",
    " 'R808BRD6': [\n",
    "('TT1\\\\cl-maze1.1',5),\n",
    "  ('TT5\\\\cl-maze1.5',9),\n",
    "  ('TT6\\\\cl-maze1.1',4),\n",
    "  ('TT6\\\\cl-maze1.2',3)],\n",
    " 'R859BRD3': [\n",
    "('TT13\\\\cl-maze1.2',1),\n",
    "  ('TT6\\\\cl-maze1.2',8),\n",
    "  ('TT7\\\\cl-maze1.3',1),\n",
    "  ('TT8\\\\cl-maze1.1',8)],\n",
    " 'R859BRD5': [\n",
    "('TT1\\\\cl-maze1.6',4),\n",
    "  ('TT10\\\\cl-maze1.6',1),\n",
    "  ('TT13\\\\cl-maze1.1',7),\n",
    "  ('TT13\\\\cl-maze1.4',8),\n",
    "  ('TT6\\\\cl-maze1.3',1),\n",
    "  (\"TT6\\\\cl-maze1.9\",9)]}"
   ]
  },
  {
   "cell_type": "code",
   "execution_count": 164,
   "metadata": {},
   "outputs": [],
   "source": [
    "for name in population.keys():\n",
    "    isSig = False\n",
    "    matches = [entry[1] if entry[0] == name else False for entry in sigUnits[rat+expCode]]\n",
    "    for m in matches:\n",
    "        if m is not False:\n",
    "            alley = m\n",
    "            isSig = True\n",
    "    if isSig:\n",
    "            population[name].sigLMER = True\n",
    "            population[name].sigAlley = alley\n",
    "    else:\n",
    "            population[name].sigLMER = False\n",
    "            population[name].sigAlley = False\n",
    "superPopulation[rat+expCode] = population"
   ]
  },
  {
   "cell_type": "markdown",
   "metadata": {},
   "source": [
    "## Map Stability\n",
    "### COM Shifts, rate diffs, Area between curve diffs"
   ]
  },
  {
   "cell_type": "code",
   "execution_count": 54,
   "metadata": {
    "collapsed": true
   },
   "outputs": [],
   "source": [
    "def calcPairDeltaCOM(x, y):\n",
    "    \"\"\"\n",
    "    Input: x,y are (Def.singleAlleyBins[0]-1,) np array\n",
    "            containing the session average 1d RM for textures\n",
    "            x,y\n",
    "    center of mass from scipy.ndimage is calculated on (nan masked)\n",
    "    each vector and unsigned difference is returned. \n",
    "    \"\"\"\n",
    "    \n",
    "    xmask = np.ma.array(x,mask=np.isnan(x))\n",
    "    ymask = np.ma.array(y,mask=np.isnan(y))\n",
    "    comx, comy = scipy.ndimage.center_of_mass(xmask)[0], scipy.ndimage.center_of_mass(ymask)[0]\n",
    "    deltacom = np.abs(comx-comy)\n",
    "    \n",
    "    return deltacom\n"
   ]
  },
  {
   "cell_type": "code",
   "execution_count": 64,
   "metadata": {
    "collapsed": true
   },
   "outputs": [],
   "source": [
    "def calcMaxDeltaCOM(unit, alley):\n",
    "    \"\"\"\n",
    "    \"\"\"\n",
    "    maxCOM = 0\n",
    "    for pair in [['A','B'], ['B','C'],['A','C']]:\n",
    "        rmx = unit.linRMS[alley][pair[0]]\n",
    "        rmy = unit.linRMS[alley][pair[1]]\n",
    "        dcom = calcPairDeltaCOM(rmx,rmy)\n",
    "        if dcom > maxCOM:\n",
    "            maxCOM = dcom\n",
    "    #maxCOM is in bins, convert to cm\n",
    "    maxCOM = maxCOM * Def.cmPerBin\n",
    "    \n",
    "    return maxCOM"
   ]
  },
  {
   "cell_type": "code",
   "execution_count": 71,
   "metadata": {
    "collapsed": true
   },
   "outputs": [],
   "source": [
    "def calcPairABC(x,y):\n",
    "    \"\"\"\n",
    "    Input: x,y are (Def.singleAlleyBins[0]-1,) np array\n",
    "            containing the session average 1d RM for textures\n",
    "            x,y\n",
    "            \n",
    "    Area between curves (ABC) is found by taking the\n",
    "    unsigned difference in the curves then the area\n",
    "    by np.trapz. Returns ABC in cm. \n",
    "    \"\"\"\n",
    "    xmask = np.ma.array(x,mask=np.isnan(x))\n",
    "    ymask = np.ma.array(y,mask=np.isnan(y))\n",
    "    unsigndiff = np.abs(np.diff(xmask-ymask))\n",
    "    area = np.trapz(unsigndiff, dx=1)\n",
    "    \n",
    "    return area"
   ]
  },
  {
   "cell_type": "code",
   "execution_count": 66,
   "metadata": {
    "collapsed": true
   },
   "outputs": [],
   "source": [
    "def calcMaxABC(unit, alley):\n",
    "    maxABC = 0\n",
    "    for pair in [['A','B'], ['B','C'],['A','C']]:\n",
    "        rmx = unit.linRMS[alley][pair[0]]\n",
    "        rmy = unit.linRMS[alley][pair[1]]\n",
    "        abc = calcPairABC(rmx,rmy)\n",
    "        if abc > maxABC:\n",
    "            maxABC = abc\n",
    "    #maxABC already in cm \n",
    "    \n",
    "    return maxABC"
   ]
  },
  {
   "cell_type": "code",
   "execution_count": 109,
   "metadata": {},
   "outputs": [],
   "source": [
    "def calcPairRateDiff(x,y):\n",
    "    \"\"\"\n",
    "    Input: x,y are (Def.singleAlleyBins[0]-1,) np array\n",
    "            containing the session average 1d RM for textures\n",
    "            x,y\n",
    "    Calculate diff in max rate between vectord\n",
    "    \"\"\"\n",
    "    xmask = np.ma.array(x,mask=np.isnan(x))\n",
    "    ymask = np.ma.array(y,mask=np.isnan(y))\n",
    "    \n",
    "    return np.abs(xmask.max()-ymask.max())"
   ]
  },
  {
   "cell_type": "code",
   "execution_count": 107,
   "metadata": {
    "collapsed": true
   },
   "outputs": [],
   "source": [
    "def calcMaxRateDiff(unit, alley):\n",
    "    \"\"\"\n",
    "    Calc max rate diff between texture pairs\n",
    "    for a cell at an alley and return it.\n",
    "    rate diff is unsigned.\n",
    "    \"\"\"\n",
    "    maxdiff = 0\n",
    "    for pair in [['A','B'], ['B','C'],['A','C']]:\n",
    "        rmx = unit.linRMS[alley][pair[0]]\n",
    "        rmy = unit.linRMS[alley][pair[1]]\n",
    "        rdiff = calcPairRateDiff(rmx,rmy)\n",
    "        if rdiff > maxdiff:\n",
    "            maxdiff = rdiff\n",
    "    \n",
    "    return maxdiff"
   ]
  },
  {
   "cell_type": "code",
   "execution_count": 201,
   "metadata": {},
   "outputs": [
    {
     "data": {
      "text/plain": [
       "Text(0, 0.5, 'Max Rate Difference, Hz')"
      ]
     },
     "execution_count": 201,
     "metadata": {},
     "output_type": "execute_result"
    }
   ],
   "source": [
    "for day in ['R781BRD3', 'R781BRD4', 'R808BRD6', 'R808BRD7', 'R859BRD3', 'R859BRD5']:\n",
    "    for name,unit in superPopulation[day].items():\n",
    "        for alley in unit.validAlleys:\n",
    "            x, y = calcMaxABC(unit, alley), calcMaxRateDiff(unit, alley)\n",
    "            if unit.sigLMER == True and unit.sigAlley == Def.beltwayAlleyLookup[alley]:\n",
    "                color = 'r'\n",
    "                plt.scatter(x, y, s=40, color=color,zorder=99)\n",
    "            else:\n",
    "                color = 'grey'\n",
    "                plt.scatter(x, y, s=40, color=color,)\n",
    "            \n",
    "plt.tick_params(axis='both', labelsize=18)\n",
    "\n",
    "plt.xlabel(\"Max Area Between Curves, a.u.\", fontsize=22)\n",
    "plt.ylabel(\"Max Rate Difference, Hz\", fontsize=22)"
   ]
  },
  {
   "cell_type": "markdown",
   "metadata": {},
   "source": [
    "## Analyzing Locations of Rate Remapping effect\n",
    "### Note this will be for all cells, not just the ones that pass LMER"
   ]
  },
  {
   "cell_type": "code",
   "execution_count": 214,
   "metadata": {
    "collapsed": true
   },
   "outputs": [],
   "source": [
    "ncells = 0\n",
    "for day in superPopulation.keys():\n",
    "    ncells += len(superPopulation[day])\n",
    "nbins = Def.singleAlleyBins[0]-1"
   ]
  },
  {
   "cell_type": "code",
   "execution_count": 404,
   "metadata": {},
   "outputs": [
    {
     "name": "stderr",
     "output_type": "stream",
     "text": [
      "C:\\Users\\whockei1\\AppData\\Local\\Continuum\\anaconda3\\lib\\site-packages\\ipykernel_launcher.py:13: RuntimeWarning: All-NaN slice encountered\n",
      "  del sys.path[0]\n"
     ]
    }
   ],
   "source": [
    "maxdiffs = np.empty((0,nbins))\n",
    "for day in superPopulation.keys():\n",
    "    for unitname in superPopulation[day].keys():\n",
    "        \n",
    "        unit = superPopulation[day][unitname]\n",
    "        for alley in unit.validAlleys:\n",
    "            if unit.sigLMER == True and unit.sigAlley == Def.beltwayAlleyLookup[alley]:\n",
    "            #if True:\n",
    "                ab = np.abs(unit.linRMS[alley]['A']-unit.linRMS[alley]['B'])\n",
    "                bc = np.abs(unit.linRMS[alley]['C']-unit.linRMS[alley]['B'])\n",
    "                ac = np.abs(unit.linRMS[alley]['C']-unit.linRMS[alley]['A'])\n",
    "                d = np.vstack((ab,bc,ac))\n",
    "                md = np.nanmax(d,axis=0)\n",
    "                \n",
    "                # want to align alleys with entrance on L and exit on R\n",
    "                if unit.sigAlley in [16, 11, 8, 10]:\n",
    "                    md = np.flip(md)\n",
    "                    \n",
    "                maxdiffs = np.vstack((maxdiffs,md))\n",
    "maxdiffs = np.nan_to_num(maxdiffs)"
   ]
  },
  {
   "cell_type": "code",
   "execution_count": 405,
   "metadata": {},
   "outputs": [
    {
     "data": {
      "text/plain": [
       "<matplotlib.collections.LineCollection at 0x189a379a908>"
      ]
     },
     "execution_count": 405,
     "metadata": {},
     "output_type": "execute_result"
    }
   ],
   "source": [
    "# make plot\n",
    "maxdiffs = np.sort(maxdiffs,axis=0)\n",
    "plt.imshow(maxdiffs,aspect='auto',interpolation='kaiser',cmap=cmap,vmax=20)\n",
    "plt.tick_params(axis='both', labelsize=18)\n",
    "plt.xlabel(\"Spatial Bin\", fontsize=22)\n",
    "plt.ylabel(\"Cell/Alley Condition\", fontsize=22)\n",
    "plt.vlines(23/2,0,20.5,color='green')\n",
    "plt.vlines((23/2)-4.66,0,20.5,color='black')\n",
    "plt.vlines((23/2)+4.66,0,20.5,color='black')"
   ]
  },
  {
   "cell_type": "code",
   "execution_count": 338,
   "metadata": {},
   "outputs": [
    {
     "name": "stderr",
     "output_type": "stream",
     "text": [
      "C:\\Users\\whockei1\\AppData\\Local\\Continuum\\anaconda3\\lib\\site-packages\\ipykernel_launcher.py:6: RuntimeWarning: Mean of empty slice\n",
      "  \n"
     ]
    }
   ],
   "source": [
    "allcoms = []\n",
    "for day in superPopulation.keys():\n",
    "    for unitname in superPopulation[day].keys():\n",
    "        unit = superPopulation[day][unitname]\n",
    "        for alley in unit.validAlleys:\n",
    "            avg = np.nanmean(np.vstack((unit.linRMS[alley]['A'],unit.linRMS[alley]['C'],unit.linRMS[alley]['C'])),axis=0)\n",
    "            mask = np.ma.array(avg, mask=np.isnan(avg))\n",
    "            com = scipy.ndimage.center_of_mass(mask)[0]\n",
    "            allcoms.append(com)\n",
    "allcoms = np.asarray(allcoms)"
   ]
  },
  {
   "cell_type": "code",
   "execution_count": null,
   "metadata": {
    "collapsed": true
   },
   "outputs": [],
   "source": []
  }
 ],
 "metadata": {
  "kernelspec": {
   "display_name": "Python 3",
   "language": "python",
   "name": "python3"
  },
  "language_info": {
   "codemirror_mode": {
    "name": "ipython",
    "version": 3
   },
   "file_extension": ".py",
   "mimetype": "text/x-python",
   "name": "python",
   "nbconvert_exporter": "python",
   "pygments_lexer": "ipython3",
   "version": "3.6.3"
  }
 },
 "nbformat": 4,
 "nbformat_minor": 2
}
